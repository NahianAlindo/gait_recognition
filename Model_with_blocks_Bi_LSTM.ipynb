{
  "nbformat": 4,
  "nbformat_minor": 0,
  "metadata": {
    "colab": {
      "name": "Model with blocks Bi-LSTM.ipynb",
      "provenance": []
    },
    "kernelspec": {
      "name": "python3",
      "display_name": "Python 3"
    },
    "language_info": {
      "name": "python"
    },
    "accelerator": "GPU"
  },
  "cells": [
    {
      "cell_type": "markdown",
      "metadata": {
        "id": "O9HBiYwFk1qn"
      },
      "source": [
        "# Mount Drive and Accelerator status"
      ]
    },
    {
      "cell_type": "code",
      "metadata": {
        "colab": {
          "base_uri": "https://localhost:8080/"
        },
        "id": "HVYiI5UCcsu8",
        "outputId": "4f81ac2f-2dd9-4243-eef6-afac5ef6f33b"
      },
      "source": [
        "! nvidia-smi"
      ],
      "execution_count": 2,
      "outputs": [
        {
          "output_type": "stream",
          "name": "stdout",
          "text": [
            "Tue Dec  7 13:27:10 2021       \n",
            "+-----------------------------------------------------------------------------+\n",
            "| NVIDIA-SMI 495.44       Driver Version: 460.32.03    CUDA Version: 11.2     |\n",
            "|-------------------------------+----------------------+----------------------+\n",
            "| GPU  Name        Persistence-M| Bus-Id        Disp.A | Volatile Uncorr. ECC |\n",
            "| Fan  Temp  Perf  Pwr:Usage/Cap|         Memory-Usage | GPU-Util  Compute M. |\n",
            "|                               |                      |               MIG M. |\n",
            "|===============================+======================+======================|\n",
            "|   0  Tesla K80           Off  | 00000000:00:04.0 Off |                    0 |\n",
            "| N/A   45C    P8    31W / 149W |      0MiB / 11441MiB |      0%      Default |\n",
            "|                               |                      |                  N/A |\n",
            "+-------------------------------+----------------------+----------------------+\n",
            "                                                                               \n",
            "+-----------------------------------------------------------------------------+\n",
            "| Processes:                                                                  |\n",
            "|  GPU   GI   CI        PID   Type   Process name                  GPU Memory |\n",
            "|        ID   ID                                                   Usage      |\n",
            "|=============================================================================|\n",
            "|  No running processes found                                                 |\n",
            "+-----------------------------------------------------------------------------+\n"
          ]
        }
      ]
    },
    {
      "cell_type": "code",
      "metadata": {
        "colab": {
          "base_uri": "https://localhost:8080/"
        },
        "id": "bn8udKehjhLj",
        "outputId": "a481ace5-a015-45d2-e32f-f42be4475788"
      },
      "source": [
        "from google.colab import drive\n",
        "drive.mount('/content/drive')"
      ],
      "execution_count": 3,
      "outputs": [
        {
          "output_type": "stream",
          "name": "stdout",
          "text": [
            "Mounted at /content/drive\n"
          ]
        }
      ]
    },
    {
      "cell_type": "code",
      "metadata": {
        "colab": {
          "base_uri": "https://localhost:8080/"
        },
        "id": "rcYmsM_ueY4f",
        "outputId": "f6b2f018-3976-4944-dc03-a8b423b2d805"
      },
      "source": [
        "import torch\n",
        "import os\n",
        "try:\n",
        "    tpu = False\n",
        "    assert torch.cuda.is_available()\n",
        "    gpu = True\n",
        "    ! nvidia-smi\n",
        "except:\n",
        "    tpu = True\n",
        "    gpu = False\n",
        "    if 'COLAB_TPU_ADDR' not in os.environ:\n",
        "        print('ERROR: Not connected to a TPU runtime; please see the first cell in this notebook for instructions!')\n",
        "    else:\n",
        "        tpu_address = 'grpc://' + os.environ['COLAB_TPU_ADDR']\n",
        "        print ('TPU address is', tpu_address)\n",
        "    import tensorflow as tf\n",
        "    resolver = tf.distribute.cluster_resolver.TPUClusterResolver(tpu=tpu_address)\n",
        "    tf.config.experimental_connect_to_cluster(resolver)\n",
        "    # This is the TPU initialization code that has to be at the beginning.\n",
        "    tf.tpu.experimental.initialize_tpu_system(resolver)\n",
        "    print(\"All devices: \", tf.config.list_logical_devices('TPU'))\n",
        "    strategy = tf.distribute.TPUStrategy(resolver)"
      ],
      "execution_count": 4,
      "outputs": [
        {
          "output_type": "stream",
          "name": "stdout",
          "text": [
            "Tue Dec  7 13:27:54 2021       \n",
            "+-----------------------------------------------------------------------------+\n",
            "| NVIDIA-SMI 495.44       Driver Version: 460.32.03    CUDA Version: 11.2     |\n",
            "|-------------------------------+----------------------+----------------------+\n",
            "| GPU  Name        Persistence-M| Bus-Id        Disp.A | Volatile Uncorr. ECC |\n",
            "| Fan  Temp  Perf  Pwr:Usage/Cap|         Memory-Usage | GPU-Util  Compute M. |\n",
            "|                               |                      |               MIG M. |\n",
            "|===============================+======================+======================|\n",
            "|   0  Tesla K80           Off  | 00000000:00:04.0 Off |                    0 |\n",
            "| N/A   44C    P8    31W / 149W |      3MiB / 11441MiB |      0%      Default |\n",
            "|                               |                      |                  N/A |\n",
            "+-------------------------------+----------------------+----------------------+\n",
            "                                                                               \n",
            "+-----------------------------------------------------------------------------+\n",
            "| Processes:                                                                  |\n",
            "|  GPU   GI   CI        PID   Type   Process name                  GPU Memory |\n",
            "|        ID   ID                                                   Usage      |\n",
            "|=============================================================================|\n",
            "|  No running processes found                                                 |\n",
            "+-----------------------------------------------------------------------------+\n"
          ]
        }
      ]
    },
    {
      "cell_type": "code",
      "metadata": {
        "colab": {
          "base_uri": "https://localhost:8080/"
        },
        "id": "rsN8_Rrlkyeo",
        "outputId": "f5c6ac76-0b6c-4a5a-dd52-17ba814c9182"
      },
      "source": [
        "! pip install keras_tuner"
      ],
      "execution_count": 5,
      "outputs": [
        {
          "output_type": "stream",
          "name": "stdout",
          "text": [
            "Collecting keras_tuner\n",
            "  Downloading keras_tuner-1.1.0-py3-none-any.whl (98 kB)\n",
            "\u001b[?25l\r\u001b[K     |███▍                            | 10 kB 27.2 MB/s eta 0:00:01\r\u001b[K     |██████▊                         | 20 kB 30.9 MB/s eta 0:00:01\r\u001b[K     |██████████                      | 30 kB 21.8 MB/s eta 0:00:01\r\u001b[K     |█████████████▍                  | 40 kB 18.0 MB/s eta 0:00:01\r\u001b[K     |████████████████▊               | 51 kB 14.3 MB/s eta 0:00:01\r\u001b[K     |████████████████████            | 61 kB 12.8 MB/s eta 0:00:01\r\u001b[K     |███████████████████████▍        | 71 kB 12.1 MB/s eta 0:00:01\r\u001b[K     |██████████████████████████▊     | 81 kB 13.2 MB/s eta 0:00:01\r\u001b[K     |██████████████████████████████  | 92 kB 11.8 MB/s eta 0:00:01\r\u001b[K     |████████████████████████████████| 98 kB 5.2 MB/s \n",
            "\u001b[?25hRequirement already satisfied: scipy in /usr/local/lib/python3.7/dist-packages (from keras_tuner) (1.4.1)\n",
            "Requirement already satisfied: ipython in /usr/local/lib/python3.7/dist-packages (from keras_tuner) (5.5.0)\n",
            "Requirement already satisfied: tensorboard in /usr/local/lib/python3.7/dist-packages (from keras_tuner) (2.7.0)\n",
            "Requirement already satisfied: packaging in /usr/local/lib/python3.7/dist-packages (from keras_tuner) (21.3)\n",
            "Requirement already satisfied: numpy in /usr/local/lib/python3.7/dist-packages (from keras_tuner) (1.19.5)\n",
            "Collecting kt-legacy\n",
            "  Downloading kt_legacy-1.0.4-py3-none-any.whl (9.6 kB)\n",
            "Requirement already satisfied: requests in /usr/local/lib/python3.7/dist-packages (from keras_tuner) (2.23.0)\n",
            "Requirement already satisfied: prompt-toolkit<2.0.0,>=1.0.4 in /usr/local/lib/python3.7/dist-packages (from ipython->keras_tuner) (1.0.18)\n",
            "Requirement already satisfied: decorator in /usr/local/lib/python3.7/dist-packages (from ipython->keras_tuner) (4.4.2)\n",
            "Requirement already satisfied: setuptools>=18.5 in /usr/local/lib/python3.7/dist-packages (from ipython->keras_tuner) (57.4.0)\n",
            "Requirement already satisfied: pickleshare in /usr/local/lib/python3.7/dist-packages (from ipython->keras_tuner) (0.7.5)\n",
            "Requirement already satisfied: pexpect in /usr/local/lib/python3.7/dist-packages (from ipython->keras_tuner) (4.8.0)\n",
            "Requirement already satisfied: pygments in /usr/local/lib/python3.7/dist-packages (from ipython->keras_tuner) (2.6.1)\n",
            "Requirement already satisfied: traitlets>=4.2 in /usr/local/lib/python3.7/dist-packages (from ipython->keras_tuner) (5.1.1)\n",
            "Requirement already satisfied: simplegeneric>0.8 in /usr/local/lib/python3.7/dist-packages (from ipython->keras_tuner) (0.8.1)\n",
            "Requirement already satisfied: six>=1.9.0 in /usr/local/lib/python3.7/dist-packages (from prompt-toolkit<2.0.0,>=1.0.4->ipython->keras_tuner) (1.15.0)\n",
            "Requirement already satisfied: wcwidth in /usr/local/lib/python3.7/dist-packages (from prompt-toolkit<2.0.0,>=1.0.4->ipython->keras_tuner) (0.2.5)\n",
            "Requirement already satisfied: pyparsing!=3.0.5,>=2.0.2 in /usr/local/lib/python3.7/dist-packages (from packaging->keras_tuner) (3.0.6)\n",
            "Requirement already satisfied: ptyprocess>=0.5 in /usr/local/lib/python3.7/dist-packages (from pexpect->ipython->keras_tuner) (0.7.0)\n",
            "Requirement already satisfied: idna<3,>=2.5 in /usr/local/lib/python3.7/dist-packages (from requests->keras_tuner) (2.10)\n",
            "Requirement already satisfied: urllib3!=1.25.0,!=1.25.1,<1.26,>=1.21.1 in /usr/local/lib/python3.7/dist-packages (from requests->keras_tuner) (1.24.3)\n",
            "Requirement already satisfied: chardet<4,>=3.0.2 in /usr/local/lib/python3.7/dist-packages (from requests->keras_tuner) (3.0.4)\n",
            "Requirement already satisfied: certifi>=2017.4.17 in /usr/local/lib/python3.7/dist-packages (from requests->keras_tuner) (2021.10.8)\n",
            "Requirement already satisfied: protobuf>=3.6.0 in /usr/local/lib/python3.7/dist-packages (from tensorboard->keras_tuner) (3.17.3)\n",
            "Requirement already satisfied: grpcio>=1.24.3 in /usr/local/lib/python3.7/dist-packages (from tensorboard->keras_tuner) (1.42.0)\n",
            "Requirement already satisfied: werkzeug>=0.11.15 in /usr/local/lib/python3.7/dist-packages (from tensorboard->keras_tuner) (1.0.1)\n",
            "Requirement already satisfied: google-auth-oauthlib<0.5,>=0.4.1 in /usr/local/lib/python3.7/dist-packages (from tensorboard->keras_tuner) (0.4.6)\n",
            "Requirement already satisfied: markdown>=2.6.8 in /usr/local/lib/python3.7/dist-packages (from tensorboard->keras_tuner) (3.3.6)\n",
            "Requirement already satisfied: google-auth<3,>=1.6.3 in /usr/local/lib/python3.7/dist-packages (from tensorboard->keras_tuner) (1.35.0)\n",
            "Requirement already satisfied: tensorboard-data-server<0.7.0,>=0.6.0 in /usr/local/lib/python3.7/dist-packages (from tensorboard->keras_tuner) (0.6.1)\n",
            "Requirement already satisfied: wheel>=0.26 in /usr/local/lib/python3.7/dist-packages (from tensorboard->keras_tuner) (0.37.0)\n",
            "Requirement already satisfied: absl-py>=0.4 in /usr/local/lib/python3.7/dist-packages (from tensorboard->keras_tuner) (0.12.0)\n",
            "Requirement already satisfied: tensorboard-plugin-wit>=1.6.0 in /usr/local/lib/python3.7/dist-packages (from tensorboard->keras_tuner) (1.8.0)\n",
            "Requirement already satisfied: cachetools<5.0,>=2.0.0 in /usr/local/lib/python3.7/dist-packages (from google-auth<3,>=1.6.3->tensorboard->keras_tuner) (4.2.4)\n",
            "Requirement already satisfied: rsa<5,>=3.1.4 in /usr/local/lib/python3.7/dist-packages (from google-auth<3,>=1.6.3->tensorboard->keras_tuner) (4.8)\n",
            "Requirement already satisfied: pyasn1-modules>=0.2.1 in /usr/local/lib/python3.7/dist-packages (from google-auth<3,>=1.6.3->tensorboard->keras_tuner) (0.2.8)\n",
            "Requirement already satisfied: requests-oauthlib>=0.7.0 in /usr/local/lib/python3.7/dist-packages (from google-auth-oauthlib<0.5,>=0.4.1->tensorboard->keras_tuner) (1.3.0)\n",
            "Requirement already satisfied: importlib-metadata>=4.4 in /usr/local/lib/python3.7/dist-packages (from markdown>=2.6.8->tensorboard->keras_tuner) (4.8.2)\n",
            "Requirement already satisfied: typing-extensions>=3.6.4 in /usr/local/lib/python3.7/dist-packages (from importlib-metadata>=4.4->markdown>=2.6.8->tensorboard->keras_tuner) (3.10.0.2)\n",
            "Requirement already satisfied: zipp>=0.5 in /usr/local/lib/python3.7/dist-packages (from importlib-metadata>=4.4->markdown>=2.6.8->tensorboard->keras_tuner) (3.6.0)\n",
            "Requirement already satisfied: pyasn1<0.5.0,>=0.4.6 in /usr/local/lib/python3.7/dist-packages (from pyasn1-modules>=0.2.1->google-auth<3,>=1.6.3->tensorboard->keras_tuner) (0.4.8)\n",
            "Requirement already satisfied: oauthlib>=3.0.0 in /usr/local/lib/python3.7/dist-packages (from requests-oauthlib>=0.7.0->google-auth-oauthlib<0.5,>=0.4.1->tensorboard->keras_tuner) (3.1.1)\n",
            "Installing collected packages: kt-legacy, keras-tuner\n",
            "Successfully installed keras-tuner-1.1.0 kt-legacy-1.0.4\n"
          ]
        }
      ]
    },
    {
      "cell_type": "markdown",
      "metadata": {
        "id": "sd1Jw0EUk78i"
      },
      "source": [
        "# Import Libraries"
      ]
    },
    {
      "cell_type": "code",
      "metadata": {
        "id": "nte45gPrlVT2"
      },
      "source": [
        "import tensorflow\n",
        "from tensorflow import keras\n",
        "import keras_tuner as kt\n",
        "import os\n",
        "import numpy as np\n",
        "# import keras\n",
        "import keras.backend as K\n",
        "from tensorflow.keras.layers import Input, Masking, LSTM, Dropout, Permute, Conv1D, BatchNormalization, Activation, GlobalAveragePooling1D, concatenate, multiply, Reshape, Dense, GRU, Bidirectional\n",
        "from tensorflow.keras.models import Model\n",
        "from tensorflow.keras import Input\n",
        "from matplotlib import pyplot as plt\n",
        "from sklearn.model_selection import GridSearchCV\n",
        "from tensorflow.keras.constraints import max_norm as maxnorm\n",
        "import seaborn as sns\n",
        "import tensorflow.keras.metrics as metrics\n",
        "import tensorflow.keras as keras\n",
        "from tensorflow.keras.wrappers.scikit_learn import KerasClassifier"
      ],
      "execution_count": 6,
      "outputs": []
    },
    {
      "cell_type": "markdown",
      "metadata": {
        "id": "NCIF7zdalmPO"
      },
      "source": [
        "# Utility Functions for loading dataset, plots and performance"
      ]
    },
    {
      "cell_type": "code",
      "metadata": {
        "id": "WfsCK46Tlu0s"
      },
      "source": [
        "def load_X(path):\n",
        "    X_signals = []\n",
        "    files = os.listdir(path)\n",
        "    files.sort(key=str.lower)\n",
        "    #['train_acc_x.txt', 'train_acc_y.txt', 'train_acc_z.txt', 'train_gyr_x.txt', 'train_gyr_y.txt', 'train_gyr_z.txt']\n",
        "    for my_file in files:\n",
        "        fileName = os.path.join(path,my_file)\n",
        "        file = open(fileName, 'r')\n",
        "        X_signals.append(\n",
        "            [np.array(cell, dtype=np.float32) for cell in [\n",
        "                row.strip().split(' ') for row in file\n",
        "            ]]\n",
        "        )\n",
        "        file.close()\n",
        "        #X_signals = 6*totalStepNum*128\n",
        "    X_signals = np.transpose(np.array(X_signals), (1, 0, 2))#(totalStepNum*6*128)\n",
        "    return X_signals.reshape(-1,6,128,1)#(totalStepNum*6*128*1)\n",
        "\n",
        "def load_y(y_path):\n",
        "    file = open(y_path, 'r')\n",
        "    # Read dataset from disk, dealing with text file's syntax\n",
        "    y_ = np.array(\n",
        "        [elem for elem in [\n",
        "            row.replace('  ', ' ').strip().split(' ') for row in file\n",
        "        ]],\n",
        "        dtype=np.int32\n",
        "    )\n",
        "    file.close()\n",
        "    # Substract 1 to each output class for friendly 0-based indexing\n",
        "    y_ = y_ - 1\n",
        "    #one_hot\n",
        "    y_ = y_.reshape(len(y_))\n",
        "    n_values = int(np.max(y_)) + 1\n",
        "    return np.eye(n_values)[np.array(y_, dtype=np.int32)]  # Returns FLOATS"
      ],
      "execution_count": 7,
      "outputs": []
    },
    {
      "cell_type": "code",
      "metadata": {
        "id": "3J5kEW01l5FY"
      },
      "source": [
        "def get_test_performance(model, X_test, test_label):\n",
        "    score=model.evaluate(X_test,test_label,verbose=1)\n",
        "    print(f'Test loss:{score[0]}')\n",
        "    print(f'Test accuracy:{score[1]}')\n",
        "    print(f'Test Recall: {score[3]}')\n",
        "    print(f'Test AUC: {score[2]}')"
      ],
      "execution_count": 8,
      "outputs": []
    },
    {
      "cell_type": "code",
      "metadata": {
        "id": "0gSCx8cml75h"
      },
      "source": [
        "def plot_performance(X_train, train_label, history):\n",
        "    plt.plot(history.history['accuracy'])\n",
        "    try:\n",
        "        plt.plot(history.history['val_accuracy'])\n",
        "        plt.title('model accuracy')\n",
        "        plt.ylabel('accuracy')\n",
        "        plt.xlabel('epoch')\n",
        "        plt.legend(['train', 'val'], loc='upper left')\n",
        "    except:\n",
        "        pass\n",
        "    try:\n",
        "        plt.legend(['val'], loc='upper left')\n",
        "    except:\n",
        "        pass\n",
        "    plt.show()\n",
        "\n",
        "    plt.plot(history.history['loss'])\n",
        "    try:\n",
        "        plt.plot(history.history['val_loss'])\n",
        "    except:\n",
        "        pass\n",
        "    plt.title('model loss')\n",
        "    plt.ylabel('loss')\n",
        "    plt.xlabel('epoch')\n",
        "    plt.legend(['train'], loc='upper left')\n",
        "    try:\n",
        "        plt.legend(['val'], loc='upper left')\n",
        "    except:\n",
        "        pass\n",
        "    plt.show()"
      ],
      "execution_count": 9,
      "outputs": []
    },
    {
      "cell_type": "code",
      "metadata": {
        "id": "MdsZEDohmFvr"
      },
      "source": [
        "def squeeze_excite_block(tensor, ratio=16):\n",
        "    init = tensor\n",
        "    # channel_axis = 1 if K.image_data_format() == \"channels_first\" else -1\n",
        "    filters = init.shape[-1]\n",
        "    se_shape = (1, filters)\n",
        "\n",
        "    se = GlobalAveragePooling1D()(init)\n",
        "    se = Reshape(se_shape)(se)\n",
        "    se = Dense(filters // ratio, activation='relu', kernel_initializer='he_normal', use_bias=False)(se)\n",
        "    se = Dense(filters, activation='sigmoid', kernel_initializer='he_normal', use_bias=False)(se)\n",
        "\n",
        "    # if K.image_data_format() == 'channels_first':\n",
        "    #     se = Permute((3, 1, 2))(se)\n",
        "\n",
        "    x = multiply([init, se])\n",
        "    return x"
      ],
      "execution_count": 10,
      "outputs": []
    },
    {
      "cell_type": "markdown",
      "metadata": {
        "id": "YlffWBOlmxrl"
      },
      "source": [
        "# Tuner"
      ]
    },
    {
      "cell_type": "code",
      "metadata": {
        "id": "gcqHbcVir0W6"
      },
      "source": [
        "np.random.seed(42)\n",
        "num_classes = 118\n",
        "X_train = load_X('/content/drive/Shareddrives/MMH/TIFS20/Dataset #1/train/Inertial Signals')\n",
        "X_test = load_X('/content/drive/Shareddrives/MMH/TIFS20/Dataset #1/test/Inertial Signals')\n",
        "train_label = load_y('/content/drive/Shareddrives/MMH/TIFS20/Dataset #1/train/y_train.txt')\n",
        "test_label = load_y('/content/drive/Shareddrives/MMH/TIFS20/Dataset #1/test/y_test.txt')\n",
        "shape = ((X_train.shape[1], X_train.shape[2]), train_label.shape[1])"
      ],
      "execution_count": 11,
      "outputs": []
    },
    {
      "cell_type": "code",
      "metadata": {
        "id": "4g58tB7pmzl_"
      },
      "source": [
        "def post_se(hp):\n",
        "    ip = Input(shape=(6, 128))\n",
        "    x = Masking()(ip)\n",
        "    x = Bidirectional(LSTM(units=hp.Choice('Bi-LSTM_1', values = [8,16,32,64,128,256,512])))(x)\n",
        "    # x = Bidirectional(LSTM(units=hp.Choice('Bi-LSTM_2', values = [8,16,32,64,128,256,512])))(x)\n",
        "    x = Dropout(hp.Choice(name='Dropout', values = [0.0,0.1, 0.2, 0.3, 0.4, 0.5, 0.6, 0.7, 0.8]))(x)\n",
        "    y = Permute((2, 1))(ip)\n",
        "    y = Conv1D(hp.Choice('conv_1_filter', values = [32,64,128,256,512]), hp.Choice(name='conv_1_filter_size', values = [3,5,7,8,9]), padding='same', kernel_initializer='he_uniform')(y)\n",
        "    y = BatchNormalization()(y)\n",
        "    y = Activation('relu')(y)\n",
        "    y = squeeze_excite_block(y)\n",
        "    y = Conv1D(hp.Choice('conv_2_filter', values = [32,64,128,256,512]), hp.Choice(name='conv_2_filter_size',values = [3,5,7,8,9]), padding='same', kernel_initializer='he_uniform')(y)\n",
        "    y = BatchNormalization()(y)\n",
        "    y = Activation('relu')(y)\n",
        "    y = squeeze_excite_block(y)\n",
        "    y = Conv1D(hp.Choice('conv_3_filter', values = [32,64,128,256,512,]), hp.Choice(name='conv_3_filter_size',values = [3,5,7,8,9]), padding='same', kernel_initializer='he_uniform')(y)\n",
        "    y = BatchNormalization()(y)\n",
        "    y = Activation('relu')(y)\n",
        "    y = GlobalAveragePooling1D()(y)\n",
        "    x = concatenate([x,y])\n",
        "    # batch_size = hp.Choice('batch_size', values=[32, 64, 128, 256, 512, 1024, 2048, 4096])\n",
        "    out = Dense(num_classes, activation='softmax')(x)\n",
        "    model = Model(ip, out)\n",
        "    if gpu:\n",
        "        opt = keras.optimizers.Adam(learning_rate=0.001)\n",
        "    if tpu:\n",
        "        opt = keras.optimizers.Adam(learning_rate=8*0.001)\n",
        "    model.compile(optimizer=opt, loss='categorical_crossentropy',metrics=['accuracy'])\n",
        "    # model.summary()\n",
        "\n",
        "    return model"
      ],
      "execution_count": 12,
      "outputs": []
    },
    {
      "cell_type": "markdown",
      "metadata": {
        "id": "7P_X7a8Hq5an"
      },
      "source": [
        "# Tune on 90% data"
      ]
    },
    {
      "cell_type": "code",
      "metadata": {
        "colab": {
          "base_uri": "https://localhost:8080/"
        },
        "id": "Je5TbDAWnf3r",
        "outputId": "3363441f-664c-4c18-e49e-77fc9dd610c5"
      },
      "source": [
        "if gpu:\n",
        "    tuner = kt.tuners.BayesianOptimization(post_se,\n",
        "        objective='val_accuracy',\n",
        "        max_trials=30,\n",
        "        seed=42,\n",
        "        project_name='Model_gpu')\n",
        "    # Will stop training if the \"val_loss\" hasn't improved in 30 epochs.\n",
        "    tuner.search(X_train, train_label, epochs=200, validation_split=0.1, shuffle=True, callbacks=[tensorflow.keras.callbacks.EarlyStopping('val_loss', patience=30)])\n",
        "\n",
        "if tpu:\n",
        "    print(\"TPU\")\n",
        "    with strategy.scope():\n",
        "        tuner = kt.tuners.BayesianOptimization(post_se,\n",
        "            objective='val_accuracy',\n",
        "            max_trials=30,\n",
        "            seed=42,\n",
        "            project_name='Model_tpu')\n",
        "        # Will stop training if the \"val_loss\" hasn't improved in 30 epochs.\n",
        "        tuner.search(X_train, train_label, epochs=200, validation_split=0.1, shuffle=True, callbacks=[tensorflow.keras.callbacks.EarlyStopping('val_loss', patience=30)])"
      ],
      "execution_count": null,
      "outputs": [
        {
          "output_type": "stream",
          "name": "stdout",
          "text": [
            "Trial 6 Complete [01h 17m 34s]\n",
            "val_accuracy: 0.9960737228393555\n",
            "\n",
            "Best val_accuracy So Far: 0.9969797730445862\n",
            "Total elapsed time: 05h 23m 11s\n",
            "\n",
            "Search: Running Trial #7\n",
            "\n",
            "Hyperparameter    |Value             |Best Value So Far \n",
            "Bi-LSTM_1         |8                 |8                 \n",
            "Dropout           |0.8               |0.8               \n",
            "conv_1_filter     |512               |512               \n",
            "conv_1_filter_size|9                 |9                 \n",
            "conv_2_filter     |512               |512               \n",
            "conv_2_filter_size|3                 |3                 \n",
            "conv_3_filter     |32                |512               \n",
            "conv_3_filter_size|3                 |9                 \n",
            "\n",
            "Epoch 1/200\n",
            "932/932 [==============================] - 52s 45ms/step - loss: 1.9051 - accuracy: 0.5956 - val_loss: 0.4982 - val_accuracy: 0.8994\n",
            "Epoch 2/200\n",
            "932/932 [==============================] - 39s 41ms/step - loss: 0.3141 - accuracy: 0.9375 - val_loss: 0.1928 - val_accuracy: 0.9523\n",
            "Epoch 3/200\n",
            "932/932 [==============================] - 38s 41ms/step - loss: 0.1628 - accuracy: 0.9636 - val_loss: 0.1619 - val_accuracy: 0.9616\n",
            "Epoch 4/200\n",
            "932/932 [==============================] - 38s 41ms/step - loss: 0.1111 - accuracy: 0.9738 - val_loss: 0.4157 - val_accuracy: 0.8861\n",
            "Epoch 5/200\n",
            "932/932 [==============================] - 38s 41ms/step - loss: 0.0894 - accuracy: 0.9782 - val_loss: 0.2069 - val_accuracy: 0.9426\n",
            "Epoch 6/200\n",
            "932/932 [==============================] - 38s 41ms/step - loss: 0.0724 - accuracy: 0.9815 - val_loss: 0.1005 - val_accuracy: 0.9761\n",
            "Epoch 7/200\n",
            "932/932 [==============================] - 40s 43ms/step - loss: 0.0656 - accuracy: 0.9822 - val_loss: 0.0654 - val_accuracy: 0.9831\n",
            "Epoch 8/200\n",
            "932/932 [==============================] - 38s 41ms/step - loss: 0.0522 - accuracy: 0.9859 - val_loss: 0.0595 - val_accuracy: 0.9876\n",
            "Epoch 9/200\n",
            "932/932 [==============================] - 38s 41ms/step - loss: 0.0477 - accuracy: 0.9873 - val_loss: 0.0699 - val_accuracy: 0.9834\n",
            "Epoch 10/200\n",
            "932/932 [==============================] - 38s 41ms/step - loss: 0.0378 - accuracy: 0.9903 - val_loss: 0.0915 - val_accuracy: 0.9740\n",
            "Epoch 11/200\n",
            "932/932 [==============================] - 38s 41ms/step - loss: 0.0377 - accuracy: 0.9898 - val_loss: 0.0861 - val_accuracy: 0.9749\n",
            "Epoch 12/200\n",
            "932/932 [==============================] - 38s 41ms/step - loss: 0.0335 - accuracy: 0.9906 - val_loss: 0.1047 - val_accuracy: 0.9704\n",
            "Epoch 13/200\n",
            "932/932 [==============================] - 38s 41ms/step - loss: 0.0314 - accuracy: 0.9912 - val_loss: 0.0434 - val_accuracy: 0.9891\n",
            "Epoch 14/200\n",
            "932/932 [==============================] - 38s 41ms/step - loss: 0.0272 - accuracy: 0.9927 - val_loss: 0.0502 - val_accuracy: 0.9876\n",
            "Epoch 15/200\n",
            "932/932 [==============================] - 38s 41ms/step - loss: 0.0242 - accuracy: 0.9932 - val_loss: 0.0501 - val_accuracy: 0.9900\n",
            "Epoch 16/200\n",
            "932/932 [==============================] - 38s 41ms/step - loss: 0.0300 - accuracy: 0.9914 - val_loss: 0.0571 - val_accuracy: 0.9876\n",
            "Epoch 17/200\n",
            "932/932 [==============================] - 38s 41ms/step - loss: 0.0204 - accuracy: 0.9944 - val_loss: 0.0588 - val_accuracy: 0.9846\n",
            "Epoch 18/200\n",
            "932/932 [==============================] - 38s 41ms/step - loss: 0.0213 - accuracy: 0.9940 - val_loss: 0.0380 - val_accuracy: 0.9928\n",
            "Epoch 19/200\n",
            "932/932 [==============================] - 38s 41ms/step - loss: 0.0178 - accuracy: 0.9954 - val_loss: 0.0543 - val_accuracy: 0.9855\n",
            "Epoch 20/200\n",
            "932/932 [==============================] - 38s 41ms/step - loss: 0.0206 - accuracy: 0.9943 - val_loss: 0.0549 - val_accuracy: 0.9864\n",
            "Epoch 21/200\n",
            "932/932 [==============================] - 39s 41ms/step - loss: 0.0156 - accuracy: 0.9958 - val_loss: 0.0297 - val_accuracy: 0.9940\n",
            "Epoch 22/200\n",
            "932/932 [==============================] - 38s 41ms/step - loss: 0.0145 - accuracy: 0.9957 - val_loss: 0.0479 - val_accuracy: 0.9903\n",
            "Epoch 23/200\n",
            "932/932 [==============================] - 38s 41ms/step - loss: 0.0192 - accuracy: 0.9952 - val_loss: 0.0451 - val_accuracy: 0.9876\n",
            "Epoch 24/200\n",
            "932/932 [==============================] - 38s 41ms/step - loss: 0.0167 - accuracy: 0.9952 - val_loss: 0.0436 - val_accuracy: 0.9912\n",
            "Epoch 25/200\n",
            "932/932 [==============================] - 38s 41ms/step - loss: 0.0113 - accuracy: 0.9973 - val_loss: 0.1501 - val_accuracy: 0.9632\n",
            "Epoch 26/200\n",
            "932/932 [==============================] - 38s 41ms/step - loss: 0.0133 - accuracy: 0.9964 - val_loss: 0.0611 - val_accuracy: 0.9843\n",
            "Epoch 27/200\n",
            "932/932 [==============================] - 39s 42ms/step - loss: 0.0129 - accuracy: 0.9962 - val_loss: 0.1158 - val_accuracy: 0.9707\n",
            "Epoch 28/200\n",
            "932/932 [==============================] - 39s 41ms/step - loss: 0.0119 - accuracy: 0.9964 - val_loss: 0.0386 - val_accuracy: 0.9921\n",
            "Epoch 29/200\n",
            "932/932 [==============================] - 38s 41ms/step - loss: 0.0105 - accuracy: 0.9969 - val_loss: 0.0612 - val_accuracy: 0.9846\n",
            "Epoch 30/200\n",
            "932/932 [==============================] - 39s 41ms/step - loss: 0.0145 - accuracy: 0.9960 - val_loss: 0.0470 - val_accuracy: 0.9897\n",
            "Epoch 31/200\n",
            "932/932 [==============================] - 40s 42ms/step - loss: 0.0108 - accuracy: 0.9970 - val_loss: 0.0307 - val_accuracy: 0.9934\n",
            "Epoch 32/200\n",
            "932/932 [==============================] - 38s 41ms/step - loss: 0.0077 - accuracy: 0.9980 - val_loss: 0.0730 - val_accuracy: 0.9816\n",
            "Epoch 33/200\n",
            "932/932 [==============================] - 38s 41ms/step - loss: 0.0118 - accuracy: 0.9969 - val_loss: 0.0515 - val_accuracy: 0.9918\n",
            "Epoch 34/200\n",
            "932/932 [==============================] - 39s 41ms/step - loss: 0.0130 - accuracy: 0.9964 - val_loss: 0.0717 - val_accuracy: 0.9882\n",
            "Epoch 35/200\n",
            "932/932 [==============================] - 39s 41ms/step - loss: 0.0091 - accuracy: 0.9978 - val_loss: 0.0327 - val_accuracy: 0.9931\n",
            "Epoch 36/200\n",
            "932/932 [==============================] - 39s 41ms/step - loss: 0.0086 - accuracy: 0.9977 - val_loss: 0.0549 - val_accuracy: 0.9870\n",
            "Epoch 37/200\n",
            "932/932 [==============================] - 38s 41ms/step - loss: 0.0120 - accuracy: 0.9966 - val_loss: 0.0513 - val_accuracy: 0.9912\n",
            "Epoch 38/200\n",
            "932/932 [==============================] - 39s 41ms/step - loss: 0.0091 - accuracy: 0.9973 - val_loss: 0.0366 - val_accuracy: 0.9918\n",
            "Epoch 39/200\n",
            "932/932 [==============================] - 39s 41ms/step - loss: 0.0080 - accuracy: 0.9977 - val_loss: 0.0464 - val_accuracy: 0.9894\n",
            "Epoch 40/200\n",
            "932/932 [==============================] - 39s 42ms/step - loss: 0.0081 - accuracy: 0.9977 - val_loss: 0.0273 - val_accuracy: 0.9949\n",
            "Epoch 41/200\n",
            "932/932 [==============================] - 39s 42ms/step - loss: 0.0073 - accuracy: 0.9981 - val_loss: 0.0287 - val_accuracy: 0.9940\n",
            "Epoch 42/200\n",
            "932/932 [==============================] - 39s 41ms/step - loss: 0.0101 - accuracy: 0.9974 - val_loss: 0.0270 - val_accuracy: 0.9937\n",
            "Epoch 43/200\n",
            "932/932 [==============================] - 39s 41ms/step - loss: 0.0081 - accuracy: 0.9979 - val_loss: 0.0312 - val_accuracy: 0.9940\n",
            "Epoch 44/200\n",
            "932/932 [==============================] - 39s 41ms/step - loss: 0.0063 - accuracy: 0.9982 - val_loss: 0.0405 - val_accuracy: 0.9897\n",
            "Epoch 45/200\n",
            "932/932 [==============================] - 39s 41ms/step - loss: 0.0074 - accuracy: 0.9981 - val_loss: 0.0418 - val_accuracy: 0.9918\n",
            "Epoch 46/200\n",
            "932/932 [==============================] - 39s 41ms/step - loss: 0.0084 - accuracy: 0.9976 - val_loss: 0.0323 - val_accuracy: 0.9946\n",
            "Epoch 47/200\n",
            "932/932 [==============================] - 39s 41ms/step - loss: 0.0086 - accuracy: 0.9979 - val_loss: 0.0300 - val_accuracy: 0.9940\n",
            "Epoch 48/200\n",
            "932/932 [==============================] - 39s 41ms/step - loss: 0.0068 - accuracy: 0.9982 - val_loss: 0.0349 - val_accuracy: 0.9924\n",
            "Epoch 49/200\n",
            "932/932 [==============================] - 39s 41ms/step - loss: 0.0064 - accuracy: 0.9983 - val_loss: 0.0337 - val_accuracy: 0.9943\n",
            "Epoch 50/200\n",
            "932/932 [==============================] - 39s 41ms/step - loss: 0.0063 - accuracy: 0.9985 - val_loss: 0.0378 - val_accuracy: 0.9928\n",
            "Epoch 51/200\n",
            "932/932 [==============================] - 39s 42ms/step - loss: 0.0059 - accuracy: 0.9986 - val_loss: 0.0344 - val_accuracy: 0.9924\n",
            "Epoch 52/200\n",
            "932/932 [==============================] - 39s 41ms/step - loss: 0.0075 - accuracy: 0.9982 - val_loss: 0.0320 - val_accuracy: 0.9928\n",
            "Epoch 53/200\n",
            "932/932 [==============================] - 39s 42ms/step - loss: 0.0075 - accuracy: 0.9981 - val_loss: 0.0344 - val_accuracy: 0.9952\n",
            "Epoch 54/200\n",
            "932/932 [==============================] - 39s 42ms/step - loss: 0.0053 - accuracy: 0.9983 - val_loss: 0.0318 - val_accuracy: 0.9937\n",
            "Epoch 55/200\n",
            "932/932 [==============================] - 39s 42ms/step - loss: 0.0076 - accuracy: 0.9981 - val_loss: 0.0318 - val_accuracy: 0.9937\n",
            "Epoch 56/200\n",
            "932/932 [==============================] - 39s 42ms/step - loss: 0.0050 - accuracy: 0.9990 - val_loss: 0.0303 - val_accuracy: 0.9952\n",
            "Epoch 57/200\n",
            "932/932 [==============================] - 39s 42ms/step - loss: 0.0064 - accuracy: 0.9984 - val_loss: 0.0470 - val_accuracy: 0.9900\n",
            "Epoch 58/200\n",
            "932/932 [==============================] - 39s 42ms/step - loss: 0.0043 - accuracy: 0.9988 - val_loss: 0.0483 - val_accuracy: 0.9924\n",
            "Epoch 59/200\n",
            "932/932 [==============================] - 39s 42ms/step - loss: 0.0066 - accuracy: 0.9982 - val_loss: 0.0335 - val_accuracy: 0.9928\n",
            "Epoch 60/200\n",
            "932/932 [==============================] - 39s 42ms/step - loss: 0.0068 - accuracy: 0.9982 - val_loss: 0.0322 - val_accuracy: 0.9940\n",
            "Epoch 61/200\n",
            "932/932 [==============================] - 39s 42ms/step - loss: 0.0038 - accuracy: 0.9990 - val_loss: 0.0346 - val_accuracy: 0.9946\n",
            "Epoch 62/200\n",
            "932/932 [==============================] - 39s 42ms/step - loss: 0.0058 - accuracy: 0.9987 - val_loss: 0.0378 - val_accuracy: 0.9934\n",
            "Epoch 63/200\n",
            "109/932 [==>...........................] - ETA: 33s - loss: 0.0206 - accuracy: 0.9943"
          ]
        }
      ]
    },
    {
      "cell_type": "markdown",
      "metadata": {
        "id": "pSruVlwlIv0T"
      },
      "source": [
        "# MODEL DEFINITION"
      ]
    },
    {
      "cell_type": "code",
      "metadata": {
        "id": "f70nWuFnIufC"
      },
      "source": [
        "def MLSTM_FCN(shape, num_classes):\n",
        "    x = Input(shape=(6, 128))\n",
        "    ip = x\n",
        "    x = Masking()(ip)\n",
        "    x = GRU(units=8)(x)\n",
        "    x = Dropout(0.8)(x)\n",
        "    y = Permute((2, 1))(ip)\n",
        "    y = Conv1D(32, 9, padding='same', kernel_initializer='he_uniform')(y)\n",
        "    y = BatchNormalization()(y)\n",
        "    y = Activation('relu')(y)\n",
        "    y = squeeze_excite_block(y)\n",
        "    y = Conv1D(256, 3, padding='same', kernel_initializer='he_uniform')(y)\n",
        "    y = BatchNormalization()(y)\n",
        "    y = Activation('relu')(y)\n",
        "    y = squeeze_excite_block(y)\n",
        "    y = Conv1D(512, 3, padding='same', kernel_initializer='he_uniform')(y)\n",
        "    y = BatchNormalization()(y)\n",
        "    y = Activation('relu')(y)\n",
        "    y = GlobalAveragePooling1D()(y)\n",
        "    x = concatenate([x,y])\n",
        "    \n",
        "    out = Dense(num_classes, activation='softmax')(x)\n",
        "    model = Model(ip, out)\n",
        "    model.compile(optimizer=\"adam\", loss=\"categorical_crossentropy\",metrics=['accuracy','AUC','Recall'])\n",
        "    model.summary()\n",
        "\n",
        "    return model"
      ],
      "execution_count": null,
      "outputs": []
    },
    {
      "cell_type": "markdown",
      "metadata": {
        "id": "2VLKMypislJ_"
      },
      "source": [
        "# Train on 90% data Dataset 1"
      ]
    },
    {
      "cell_type": "code",
      "metadata": {
        "id": "a4DjSgHGvOne"
      },
      "source": [
        "np.random.seed(42)\n",
        "num_classes = 118\n",
        "X_train = load_X('/content/drive/Shareddrives/MMH/TIFS20/Dataset #1/train/Inertial Signals')\n",
        "X_test = load_X('/content/drive/Shareddrives/MMH/TIFS20/Dataset #1/test/Inertial Signals')\n",
        "train_label = load_y('/content/drive/Shareddrives/MMH/TIFS20/Dataset #1/train/y_train.txt')\n",
        "test_label = load_y('/content/drive/Shareddrives/MMH/TIFS20/Dataset #1/test/y_test.txt')\n",
        "shape = ((X_train.shape[1], X_train.shape[2]), train_label.shape[1])"
      ],
      "execution_count": null,
      "outputs": []
    },
    {
      "cell_type": "code",
      "metadata": {
        "id": "oXMuAGghsrV9"
      },
      "source": [
        "if gpu:\n",
        "    model = MLSTM_FCN((X_train.shape[1], X_train.shape[2]), train_label.shape[1])\n",
        "    history = model.fit(X_train,train_label,batch_size=32,epochs=200,verbose=1,callbacks=[tensorflow.keras.callbacks.EarlyStopping('val_loss', patience=30)],validation_split=0.1)\n",
        "if tpu:\n",
        "    with strategy.scope():\n",
        "        model = MLSTM_FCN((X_train.shape[1], X_train.shape[2]), train_label.shape[1])\n",
        "        history = model.fit(X_train,train_label,batch_size=8*32,epochs=200,verbose=1,callbacks=[tensorflow.keras.callbacks.EarlyStopping('val_loss', patience=30)],validation_split=0.1)\n",
        "\n",
        "plot_performance(X_train, train_label, history)"
      ],
      "execution_count": null,
      "outputs": []
    },
    {
      "cell_type": "code",
      "metadata": {
        "id": "A9h9HiAsuhNl"
      },
      "source": [
        "get_test_performance(model, X_test, test_label)"
      ],
      "execution_count": null,
      "outputs": []
    },
    {
      "cell_type": "markdown",
      "metadata": {
        "id": "46JTDsKIwaov"
      },
      "source": [
        "# Train Full Manually Dataset 1"
      ]
    },
    {
      "cell_type": "code",
      "metadata": {
        "id": "Uvg07AVXwn0j"
      },
      "source": [
        "#change \n",
        "epochs = 49\n",
        "if gpu:\n",
        "    model = MLSTM_FCN((X_train.shape[1], X_train.shape[2]), train_label.shape[1])\n",
        "    history = model.fit(X_train,train_label,batch_size=32,epochs=epochs,verbose=1)\n",
        "if tpu:\n",
        "    with strategy.scope():\n",
        "        model = MLSTM_FCN((X_train.shape[1], X_train.shape[2]), train_label.shape[1])\n",
        "        history = model.fit(X_train,train_label,batch_size=8*32,epochs=epochs,verbose=1)\n",
        "\n",
        "plot_performance(X_train, train_label, history)"
      ],
      "execution_count": null,
      "outputs": []
    },
    {
      "cell_type": "code",
      "metadata": {
        "id": "TKwHIpwSzmU5"
      },
      "source": [
        "plot_performance(X_train, train_label, history)"
      ],
      "execution_count": null,
      "outputs": []
    },
    {
      "cell_type": "code",
      "metadata": {
        "id": "3IOD0g9Zwdht"
      },
      "source": [
        "get_test_performance(model, X_test, test_label)"
      ],
      "execution_count": null,
      "outputs": []
    },
    {
      "cell_type": "markdown",
      "metadata": {
        "id": "qjGQsawPxWEb"
      },
      "source": [
        "# Train 90%  Dataset 2"
      ]
    },
    {
      "cell_type": "code",
      "metadata": {
        "id": "xtYtKNSoxUJo"
      },
      "source": [
        "np.random.seed(42)\n",
        "X_train = load_X('/content/drive/Shareddrives/MMH/TIFS20/Dataset #2/train/Inertial Signals')\n",
        "X_test = load_X('/content/drive/Shareddrives/MMH/TIFS20/Dataset #2/test/Inertial Signals')\n",
        "train_label = load_y('/content/drive/Shareddrives/MMH/TIFS20/Dataset #2/train/y_train.txt')\n",
        "test_label = load_y('/content/drive/Shareddrives/MMH/TIFS20/Dataset #2/test/y_test.txt')\n",
        "shape = ((X_train.shape[1], X_train.shape[2]), train_label.shape[1])\n",
        "num_classes = 20"
      ],
      "execution_count": null,
      "outputs": []
    },
    {
      "cell_type": "code",
      "metadata": {
        "id": "tZ_--h9yxUJo"
      },
      "source": [
        "if gpu:\n",
        "    model = MLSTM_FCN((X_train.shape[1], X_train.shape[2]), train_label.shape[1])\n",
        "    history = model.fit(X_train,train_label,batch_size=32,epochs=200,verbose=1,callbacks=[tensorflow.keras.callbacks.EarlyStopping('val_loss', patience=30)],validation_split=0.1)\n",
        "if tpu:\n",
        "    with strategy.scope():\n",
        "        model = MLSTM_FCN((X_train.shape[1], X_train.shape[2]), train_label.shape[1])\n",
        "        history = model.fit(X_train,train_label,batch_size=8*32,epochs=200,verbose=1,callbacks=[tensorflow.keras.callbacks.EarlyStopping('val_loss', patience=30)],validation_split=0.1)\n",
        "\n",
        "plot_performance(X_train, train_label, history)"
      ],
      "execution_count": null,
      "outputs": []
    },
    {
      "cell_type": "code",
      "metadata": {
        "id": "XFae3hAAxUJp"
      },
      "source": [
        "get_test_performance(model, X_test, test_label)"
      ],
      "execution_count": null,
      "outputs": []
    },
    {
      "cell_type": "code",
      "metadata": {
        "id": "OuL2w_183XON"
      },
      "source": [
        "# y_prob = model.predict(X_test) \n",
        "# y_classes = y_prob.argmax(axis=-1)\n",
        "# features = model.predict(X_test)\n",
        "# from sklearn.manifold import TSNE\n",
        "# tsne = TSNE(n_components=2).fit_transform(features)\n",
        "# import pandas as pd\n",
        "# def scale_to_01_range(x):\n",
        "\n",
        "#     value_range = (np.max(x) - np.min(x))\n",
        "\n",
        "#     starts_from_zero = x - np.min(x)\n",
        "\n",
        "#     return starts_from_zero / value_range\n",
        "\n",
        "# tx = tsne[:, 0]\n",
        "# ty = tsne[:, 1]\n",
        "\n",
        "# tx = scale_to_01_range(tx)\n",
        "# ty = scale_to_01_range(ty)\n",
        "# tx = list(tx)\n",
        "# ty = list(ty)\n",
        "\n",
        "# data = {'tx':tx,\n",
        "#         'ty':ty}\n",
        "# df = pd.DataFrame(data)\n",
        "# df['y'] = y_classes\n",
        "# # fig = plt.figure()\n",
        "\n",
        "# # ax = fig.add_subplot(111)\n",
        "\n",
        "# plt.figure(figsize=(16,10))\n",
        "# sns.scatterplot(\n",
        "#     x=\"tx\", y=\"ty\",\n",
        "#     hue=\"y\",\n",
        "#     palette=sns.color_palette(\"flare\", as_cmap=True),\n",
        "#     data=df,\n",
        "#     legend=\"full\",\n",
        "#     alpha=0.3\n",
        "# )"
      ],
      "execution_count": null,
      "outputs": []
    },
    {
      "cell_type": "markdown",
      "metadata": {
        "id": "oVk3TBGOyCnT"
      },
      "source": [
        "# Train Full Manually Dataset 2"
      ]
    },
    {
      "cell_type": "code",
      "metadata": {
        "id": "IlreItAfyCnT"
      },
      "source": [
        "#change\n",
        "epochs = 15\n",
        "if gpu:\n",
        "    model = MLSTM_FCN((X_train.shape[1], X_train.shape[2]), train_label.shape[1])\n",
        "    history = model.fit(X_train,train_label,batch_size=32,epochs=epochs,verbose=1)\n",
        "if tpu:\n",
        "    with strategy.scope():\n",
        "        model = MLSTM_FCN((X_train.shape[1], X_train.shape[2]), train_label.shape[1])\n",
        "        history = model.fit(X_train,train_label,batch_size=8*32,epochs=epochs,verbose=1)\n",
        "\n",
        "plot_performance(X_train, train_label, history)"
      ],
      "execution_count": null,
      "outputs": []
    },
    {
      "cell_type": "code",
      "metadata": {
        "id": "0m176YZ6yCnT"
      },
      "source": [
        "get_test_performance(model, X_test, test_label)"
      ],
      "execution_count": null,
      "outputs": []
    },
    {
      "cell_type": "markdown",
      "metadata": {
        "id": "nTR0FW2qzglG"
      },
      "source": [
        "# Train 90%  Dataset OU-ISIR"
      ]
    },
    {
      "cell_type": "code",
      "metadata": {
        "id": "SWT3WdxlzglG"
      },
      "source": [
        "num_classes = 745\n",
        "np.random.seed(42)\n",
        "X_train = load_X('/content/drive/Shareddrives/MMH/TIFS20/OU-ISIR_sensors_dataset/identification/data/train/data')\n",
        "X_test = load_X('/content/drive/Shareddrives/MMH/TIFS20/OU-ISIR_sensors_dataset/identification/data/test/data')\n",
        "train_label = load_y('/content/drive/Shareddrives/MMH/TIFS20/OU-ISIR_sensors_dataset/identification/data/train/train_y.txt')\n",
        "test_label = load_y('/content/drive/Shareddrives/MMH/TIFS20/OU-ISIR_sensors_dataset/identification/data/test/test_y.txt')\n",
        "print(f'{X_train.shape} {X_test.shape}')\n",
        "model = MLSTM_FCN((X_train.shape[1], X_train.shape[2]), train_label.shape[1])"
      ],
      "execution_count": null,
      "outputs": []
    },
    {
      "cell_type": "code",
      "metadata": {
        "id": "EKQFT9GIzglH"
      },
      "source": [
        "if gpu:\n",
        "    model = MLSTM_FCN((X_train.shape[1], X_train.shape[2]), train_label.shape[1])\n",
        "    history = model.fit(X_train,train_label,batch_size=32,epochs=200,verbose=1,callbacks=[tensorflow.keras.callbacks.EarlyStopping('val_loss', patience=30)],validation_split=0.1)\n",
        "if tpu:\n",
        "    with strategy.scope():\n",
        "        model = MLSTM_FCN((X_train.shape[1], X_train.shape[2]), train_label.shape[1])\n",
        "        history = model.fit(X_train,train_label,batch_size=8*32,epochs=200,verbose=1,callbacks=[tensorflow.keras.callbacks.EarlyStopping('val_loss', patience=30)],validation_split=0.1)\n",
        "\n",
        "plot_performance(X_train, train_label, history)"
      ],
      "execution_count": null,
      "outputs": []
    },
    {
      "cell_type": "code",
      "metadata": {
        "id": "YSFbB7aLzglH"
      },
      "source": [
        "get_test_performance(model, X_test, test_label)"
      ],
      "execution_count": null,
      "outputs": []
    },
    {
      "cell_type": "markdown",
      "metadata": {
        "id": "aKFZ_7IMzglH"
      },
      "source": [
        "# Train Full Manually Dataset OU-ISIR"
      ]
    },
    {
      "cell_type": "code",
      "metadata": {
        "id": "_gB6AKBRzglH"
      },
      "source": [
        "# change\n",
        "epochs = 54\n",
        "if gpu:\n",
        "    model = MLSTM_FCN((X_train.shape[1], X_train.shape[2]), train_label.shape[1])\n",
        "    history = model.fit(X_train,train_label,batch_size=32,epochs=epochs,verbose=1)\n",
        "if tpu:\n",
        "    with strategy.scope():\n",
        "        model = MLSTM_FCN((X_train.shape[1], X_train.shape[2]), train_label.shape[1])\n",
        "        history = model.fit(X_train,train_label,batch_size=8*32,epochs=epochs,verbose=1)\n",
        "\n",
        "plot_performance(X_train, train_label, history)"
      ],
      "execution_count": null,
      "outputs": []
    },
    {
      "cell_type": "code",
      "metadata": {
        "id": "L2caGXHvzglH"
      },
      "source": [
        "get_test_performance(model, X_test, test_label)"
      ],
      "execution_count": null,
      "outputs": []
    },
    {
      "cell_type": "markdown",
      "metadata": {
        "id": "VztWrRCA2pRd"
      },
      "source": [
        "# Train Dataset 1 test=val"
      ]
    },
    {
      "cell_type": "code",
      "metadata": {
        "id": "O1zEHVckto7S"
      },
      "source": [
        "if gpu:\n",
        "    model = MLSTM_FCN((X_train.shape[1], X_train.shape[2]), train_label.shape[1])\n",
        "    history = model.fit(X_train,train_label,batch_size=32,epochs=200,verbose=1,callbacks=[tensorflow.keras.callbacks.EarlyStopping('val_loss', patience=30)],validation_data=(X_test,test_label))\n",
        "if tpu:\n",
        "    with strategy.scope():\n",
        "        model = MLSTM_FCN((X_train.shape[1], X_train.shape[2]), train_label.shape[1])\n",
        "        history = model.fit(X_train,train_label,batch_size=8*32,epochs=200,verbose=1,callbacks=[tensorflow.keras.callbacks.EarlyStopping('val_loss', patience=30)],validation_data=(X_test,test_label))\n",
        "\n",
        "plot_performance(X_train, train_label, history)"
      ],
      "execution_count": null,
      "outputs": []
    },
    {
      "cell_type": "code",
      "metadata": {
        "id": "TSIIcaHQuPMl"
      },
      "source": [
        "get_test_performance(model, X_test, test_label)"
      ],
      "execution_count": null,
      "outputs": []
    },
    {
      "cell_type": "markdown",
      "metadata": {
        "id": "YRezZ-Um0fYf"
      },
      "source": [
        "# Train dataset 2 test = val"
      ]
    },
    {
      "cell_type": "code",
      "metadata": {
        "id": "wGKgCzlru7oF"
      },
      "source": [
        "np.random.seed(42)\n",
        "X_train = load_X('/content/drive/Shareddrives/MMH/TIFS20/Dataset #2/train/Inertial Signals')\n",
        "X_test = load_X('/content/drive/Shareddrives/MMH/TIFS20/Dataset #2/test/Inertial Signals')\n",
        "train_label = load_y('/content/drive/Shareddrives/MMH/TIFS20/Dataset #2/train/y_train.txt')\n",
        "test_label = load_y('/content/drive/Shareddrives/MMH/TIFS20/Dataset #2/test/y_test.txt')\n",
        "shape = ((X_train.shape[1], X_train.shape[2]), train_label.shape[1])\n",
        "num_classes = 20"
      ],
      "execution_count": null,
      "outputs": []
    },
    {
      "cell_type": "code",
      "metadata": {
        "id": "_tRyFchR0a4v"
      },
      "source": [
        "if gpu:\n",
        "    model = MLSTM_FCN((X_train.shape[1], X_train.shape[2]), train_label.shape[1])\n",
        "    history = model.fit(X_train,train_label,batch_size=32,epochs=200,verbose=1,callbacks=[tensorflow.keras.callbacks.EarlyStopping('val_loss', patience=30)],validation_data=(X_test,test_label))\n",
        "if tpu:\n",
        "    with strategy.scope():\n",
        "        model = MLSTM_FCN((X_train.shape[1], X_train.shape[2]), train_label.shape[1])\n",
        "        history = model.fit(X_train,train_label,batch_size=8*32,epochs=200,verbose=1,callbacks=[tensorflow.keras.callbacks.EarlyStopping('val_loss', patience=30)],validation_data=(X_test,test_label))\n",
        "\n",
        "plot_performance(X_train, train_label, history)"
      ],
      "execution_count": null,
      "outputs": []
    },
    {
      "cell_type": "code",
      "metadata": {
        "id": "_rssOilJ0caN"
      },
      "source": [
        "get_test_performance(model, X_test, test_label)"
      ],
      "execution_count": null,
      "outputs": []
    },
    {
      "cell_type": "markdown",
      "metadata": {
        "id": "ExiUFOeA0pua"
      },
      "source": [
        "#Train Test = val Dataset OU-ISIR"
      ]
    },
    {
      "cell_type": "code",
      "metadata": {
        "id": "MxJ37t7A0w2J"
      },
      "source": [
        "num_classes = 745\n",
        "np.random.seed(42)\n",
        "X_train = load_X('/content/drive/Shareddrives/MMH/TIFS20/OU-ISIR_sensors_dataset/identification/data/train/data')\n",
        "X_test = load_X('/content/drive/Shareddrives/MMH/TIFS20/OU-ISIR_sensors_dataset/identification/data/test/data')\n",
        "train_label = load_y('/content/drive/Shareddrives/MMH/TIFS20/OU-ISIR_sensors_dataset/identification/data/train/train_y.txt')\n",
        "test_label = load_y('/content/drive/Shareddrives/MMH/TIFS20/OU-ISIR_sensors_dataset/identification/data/test/test_y.txt')\n",
        "print(f'{X_train.shape} {X_test.shape}')\n",
        "model = MLSTM_FCN((X_train.shape[1], X_train.shape[2]), train_label.shape[1])"
      ],
      "execution_count": null,
      "outputs": []
    },
    {
      "cell_type": "code",
      "metadata": {
        "id": "-6daQEds0zAk"
      },
      "source": [
        "if gpu:\n",
        "    model = MLSTM_FCN((X_train.shape[1], X_train.shape[2]), train_label.shape[1])\n",
        "    history = model.fit(X_train,train_label,batch_size=32,epochs=200,verbose=1,callbacks=[tensorflow.keras.callbacks.EarlyStopping('val_loss', patience=30)],validation_data=(X_test,test_label))\n",
        "if tpu:\n",
        "    with strategy.scope():\n",
        "        model = MLSTM_FCN((X_train.shape[1], X_train.shape[2]), train_label.shape[1])\n",
        "        history = model.fit(X_train,train_label,batch_size=8*32,epochs=200,verbose=1,callbacks=[tensorflow.keras.callbacks.EarlyStopping('val_loss', patience=30)],validation_data=(X_test,test_label))\n",
        "\n",
        "plot_performance(X_train, train_label, history)"
      ],
      "execution_count": null,
      "outputs": []
    },
    {
      "cell_type": "code",
      "metadata": {
        "id": "YCCUCfyd01Fr"
      },
      "source": [
        "get_test_performance(model, X_test, test_label)"
      ],
      "execution_count": null,
      "outputs": []
    },
    {
      "cell_type": "markdown",
      "metadata": {
        "id": "IqmCcxhXqzr_"
      },
      "source": [
        "# Tune Test - > val "
      ]
    },
    {
      "cell_type": "code",
      "metadata": {
        "id": "p4Ysihz6sSAq"
      },
      "source": [
        "np.random.seed(42)\n",
        "num_classes = 118\n",
        "X_train = load_X('/content/drive/Shareddrives/MMH/TIFS20/Dataset #1/train/Inertial Signals')\n",
        "X_test = load_X('/content/drive/Shareddrives/MMH/TIFS20/Dataset #1/test/Inertial Signals')\n",
        "train_label = load_y('/content/drive/Shareddrives/MMH/TIFS20/Dataset #1/train/y_train.txt')\n",
        "test_label = load_y('/content/drive/Shareddrives/MMH/TIFS20/Dataset #1/test/y_test.txt')\n",
        "shape = ((X_train.shape[1], X_train.shape[2]), train_label.shape[1])"
      ],
      "execution_count": null,
      "outputs": []
    },
    {
      "cell_type": "code",
      "metadata": {
        "id": "NsIYkOjzsPP1"
      },
      "source": [
        "def post_se(hp):\n",
        "    ip = Input(shape=(6, 128))\n",
        "    x = Masking()(ip)\n",
        "    x = GRU(units=hp.Choice('gru_1', values = [8,16,32,64,128,256,512]))(x)\n",
        "    x = Dropout(hp.Choice(name='Dropout', values = [0.0,0.1, 0.2, 0.3, 0.4, 0.5, 0.6, 0.7, 0.8]))(x)\n",
        "    # x = GRU(units=hp.Choice('gru_2', values = [8,16,32,64,128,256,512]))(x)\n",
        "    # x = Dropout(hp.Choice(name='Dropout_2', values = [0.0,0.1, 0.2, 0.3, 0.4, 0.5, 0.6, 0.7, 0.8]))(x)\n",
        "    y = Permute((2, 1))(ip)\n",
        "    y = Conv1D(hp.Choice('conv_1_filter', values = [32,64,128,256,512]), hp.Choice(name='conv_1_filter_size', values = [3,5,7,8,9]), padding='same', kernel_initializer='he_uniform')(y)\n",
        "    y = BatchNormalization()(y)\n",
        "    y = Activation('relu')(y)\n",
        "    y = squeeze_excite_block(y)\n",
        "    y = Conv1D(hp.Choice('conv_2_filter', values = [32,64,128,256,512]), hp.Choice(name='conv_2_filter_size',values = [3,5,7,8,9]), padding='same', kernel_initializer='he_uniform')(y)\n",
        "    y = BatchNormalization()(y)\n",
        "    y = Activation('relu')(y)\n",
        "    y = squeeze_excite_block(y)\n",
        "    y = Conv1D(hp.Choice('conv_3_filter', values = [32,64,128,256,512]), hp.Choice(name='conv_3_filter_size',values = [3,5,7,8,9]), padding='same', kernel_initializer='he_uniform')(y)\n",
        "    y = BatchNormalization()(y)\n",
        "    y = Activation('relu')(y)\n",
        "    y = GlobalAveragePooling1D()(y)\n",
        "    x = concatenate([x,y])\n",
        "    # batch_size = hp.Choice('batch_size', values=[32, 64, 128, 256, 512, 1024, 2048, 4096])\n",
        "    out = Dense(num_classes, activation='softmax')(x)\n",
        "    model = Model(ip, out)\n",
        "    if gpu:\n",
        "        opt = keras.optimizers.Adam(learning_rate=0.001)\n",
        "    if tpu:\n",
        "        opt = keras.optimizers.Adam(learning_rate=8*0.001)\n",
        "    model.compile(optimizer=opt, loss='categorical_crossentropy',metrics=['accuracy'])\n",
        "    # model.summary()\n",
        "\n",
        "    return model"
      ],
      "execution_count": null,
      "outputs": []
    },
    {
      "cell_type": "code",
      "metadata": {
        "id": "MzBAQPTxpk_x"
      },
      "source": [
        "if gpu:\n",
        "    tuner = kt.tuners.BayesianOptimization(post_se,\n",
        "        objective='val_accuracy',\n",
        "        max_trials=30,\n",
        "        seed=42,\n",
        "        project_name='Model_gpu')\n",
        "    # Will stop training if the \"val_loss\" hasn't improved in 30 epochs.\n",
        "    tuner.search(X_train, train_label, epochs=200, validation_data=(X_test,test_label), shuffle=True, callbacks=[tensorflow.keras.callbacks.EarlyStopping('val_loss', patience=30)])\n",
        "\n",
        "if tpu:\n",
        "    with strategy.scope():\n",
        "        tuner = kt.tuners.BayesianOptimization(post_se,\n",
        "            objective='val_accuracy',\n",
        "            max_trials=30,\n",
        "            seed=42,\n",
        "            project_name='Model_tpu_test')\n",
        "        # Will stop training if the \"val_loss\" hasn't improved in 30 epochs.\n",
        "        tuner.search(X_train, train_label, epochs=200, validation_data=(X_test,test_label), shuffle=True, callbacks=[tensorflow.keras.callbacks.EarlyStopping('val_loss', patience=30)])"
      ],
      "execution_count": null,
      "outputs": []
    },
    {
      "cell_type": "markdown",
      "metadata": {
        "id": "fwWBPV9HJUhg"
      },
      "source": [
        "# MODEL DEFINITION"
      ]
    },
    {
      "cell_type": "code",
      "metadata": {
        "id": "o5PaRlnv5WnW"
      },
      "source": [
        "def MLSTM_FCN(shape, num_classes):\n",
        "    x = Input(shape=(6, 128))\n",
        "    ip = x\n",
        "    x = Masking()(ip)\n",
        "    x = GRU(units=8)(x)\n",
        "    x = Dropout(0.8)(x)\n",
        "    y = Permute((2, 1))(ip)\n",
        "    y = Conv1D(32, 9, padding='same', kernel_initializer='he_uniform')(y)\n",
        "    y = BatchNormalization()(y)\n",
        "    y = Activation('relu')(y)\n",
        "    y = squeeze_excite_block(y)\n",
        "    y = Conv1D(256, 3, padding='same', kernel_initializer='he_uniform')(y)\n",
        "    y = BatchNormalization()(y)\n",
        "    y = Activation('relu')(y)\n",
        "    y = squeeze_excite_block(y)\n",
        "    y = Conv1D(512, 3, padding='same', kernel_initializer='he_uniform')(y)\n",
        "    y = BatchNormalization()(y)\n",
        "    y = Activation('relu')(y)\n",
        "    y = GlobalAveragePooling1D()(y)\n",
        "    x = concatenate([x,y])\n",
        "    \n",
        "    out = Dense(num_classes, activation='softmax')(x)\n",
        "    model = Model(ip, out)\n",
        "    model.compile(optimizer=\"adam\", loss=\"categorical_crossentropy\",metrics=['accuracy','AUC','Recall'])\n",
        "    model.summary()\n",
        "\n",
        "    return model"
      ],
      "execution_count": null,
      "outputs": []
    },
    {
      "cell_type": "markdown",
      "metadata": {
        "id": "bqMIrG_L0dG1"
      },
      "source": [
        "# Train Dataset 1 test=val"
      ]
    },
    {
      "cell_type": "code",
      "metadata": {
        "id": "LrC9pmq90dG2"
      },
      "source": [
        "def MLSTM_FCN(shape, num_classes):\n",
        "    x = Input(shape=(6, 128))\n",
        "    ip = x\n",
        "    x = Masking()(ip)\n",
        "    x = GRU(units=8)(x)\n",
        "    x = Dropout(0.8)(x)\n",
        "    y = Permute((2, 1))(ip)\n",
        "    y = Conv1D(32, 3, padding='same', kernel_initializer='he_uniform')(y)\n",
        "    y = BatchNormalization()(y)\n",
        "    y = Activation('relu')(y)\n",
        "    y = squeeze_excite_block(y)\n",
        "    y = Conv1D(512, 3, padding='same', kernel_initializer='he_uniform')(y)\n",
        "    y = BatchNormalization()(y)\n",
        "    y = Activation('relu')(y)\n",
        "    y = squeeze_excite_block(y)\n",
        "    y = Conv1D(512, 9, padding='same', kernel_initializer='he_uniform')(y)\n",
        "    y = BatchNormalization()(y)\n",
        "    y = Activation('relu')(y)\n",
        "    y = GlobalAveragePooling1D()(y)\n",
        "    x = concatenate([x,y])\n",
        "    \n",
        "    out = Dense(num_classes, activation='softmax')(x)\n",
        "    model = Model(ip, out)\n",
        "    model.compile(optimizer=\"adam\", loss=\"categorical_crossentropy\",metrics=['accuracy','AUC','Recall'])\n",
        "    model.summary()\n",
        "\n",
        "    return model"
      ],
      "execution_count": null,
      "outputs": []
    },
    {
      "cell_type": "code",
      "metadata": {
        "id": "LKon6TKg0dG2"
      },
      "source": [
        "if gpu:\n",
        "    model = MLSTM_FCN((X_train.shape[1], X_train.shape[2]), train_label.shape[1])\n",
        "    history = model.fit(X_train,train_label,batch_size=32,epochs=200,verbose=1,callbacks=[tensorflow.keras.callbacks.EarlyStopping('val_loss', patience=30)],validation_data=(X_test,test_label))\n",
        "if tpu:\n",
        "    with strategy.scope():\n",
        "        model = MLSTM_FCN((X_train.shape[1], X_train.shape[2]), train_label.shape[1])\n",
        "        history = model.fit(X_train,train_label,batch_size=8*32,epochs=200,verbose=1,callbacks=[tensorflow.keras.callbacks.EarlyStopping('val_loss', patience=30)],validation_data=(X_test,test_label))\n",
        "\n",
        "plot_performance(X_train, train_label, history)"
      ],
      "execution_count": null,
      "outputs": []
    },
    {
      "cell_type": "code",
      "metadata": {
        "colab": {
          "base_uri": "https://localhost:8080/"
        },
        "id": "V8WIAbzl0dG2",
        "outputId": "1392fe20-2295-42a7-fd99-34635fca4077"
      },
      "source": [
        "get_test_performance(model, X_test, test_label)"
      ],
      "execution_count": null,
      "outputs": [
        {
          "output_type": "stream",
          "name": "stdout",
          "text": [
            "117/117 [==============================] - 2s 17ms/step - loss: 0.6572 - accuracy: 0.9425 - auc: 0.9813 - recall: 0.9412\n",
            "Test loss:0.6571820378303528\n",
            "Test accuracy:0.9425133466720581\n",
            "Test Recall: 0.9411764740943909\n",
            "Test AUC: 0.9812990427017212\n"
          ]
        }
      ]
    },
    {
      "cell_type": "markdown",
      "metadata": {
        "id": "TL-gQ6yY0dG2"
      },
      "source": [
        "# Train dataset 2 test = val"
      ]
    },
    {
      "cell_type": "code",
      "metadata": {
        "id": "CeVdoRaK0dG2"
      },
      "source": [
        "np.random.seed(42)\n",
        "X_train = load_X('/content/drive/Shareddrives/MMH/TIFS20/Dataset #2/train/Inertial Signals')\n",
        "X_test = load_X('/content/drive/Shareddrives/MMH/TIFS20/Dataset #2/test/Inertial Signals')\n",
        "train_label = load_y('/content/drive/Shareddrives/MMH/TIFS20/Dataset #2/train/y_train.txt')\n",
        "test_label = load_y('/content/drive/Shareddrives/MMH/TIFS20/Dataset #2/test/y_test.txt')\n",
        "shape = ((X_train.shape[1], X_train.shape[2]), train_label.shape[1])\n",
        "num_classes = 20"
      ],
      "execution_count": null,
      "outputs": []
    },
    {
      "cell_type": "code",
      "metadata": {
        "id": "DBU1A99v0dG3"
      },
      "source": [
        "if gpu:\n",
        "    model = MLSTM_FCN((X_train.shape[1], X_train.shape[2]), train_label.shape[1])\n",
        "    history = model.fit(X_train,train_label,batch_size=32,epochs=200,verbose=1,callbacks=[tensorflow.keras.callbacks.EarlyStopping('val_loss', patience=30)],validation_data=(X_test,test_label))\n",
        "if tpu:\n",
        "    with strategy.scope():\n",
        "        model = MLSTM_FCN((X_train.shape[1], X_train.shape[2]), train_label.shape[1])\n",
        "        history = model.fit(X_train,train_label,batch_size=8*32,epochs=200,verbose=1,callbacks=[tensorflow.keras.callbacks.EarlyStopping('val_loss', patience=30)],validation_data=(X_test,test_label))\n",
        "\n",
        "plot_performance(X_train, train_label, history)"
      ],
      "execution_count": null,
      "outputs": []
    },
    {
      "cell_type": "code",
      "metadata": {
        "id": "ZuWbyign0dG3"
      },
      "source": [
        "get_test_performance(model, X_test, test_label)"
      ],
      "execution_count": null,
      "outputs": []
    },
    {
      "cell_type": "markdown",
      "metadata": {
        "id": "G3UeC-2t0dG3"
      },
      "source": [
        "#Train Test = val Dataset OU-ISIR"
      ]
    },
    {
      "cell_type": "code",
      "metadata": {
        "id": "VmhWjZAD0dG3"
      },
      "source": [
        "num_classes = 745\n",
        "np.random.seed(42)\n",
        "X_train = load_X('/content/drive/Shareddrives/MMH/TIFS20/OU-ISIR_sensors_dataset/identification/data/train/data')\n",
        "X_test = load_X('/content/drive/Shareddrives/MMH/TIFS20/OU-ISIR_sensors_dataset/identification/data/test/data')\n",
        "train_label = load_y('/content/drive/Shareddrives/MMH/TIFS20/OU-ISIR_sensors_dataset/identification/data/train/train_y.txt')\n",
        "test_label = load_y('/content/drive/Shareddrives/MMH/TIFS20/OU-ISIR_sensors_dataset/identification/data/test/test_y.txt')\n",
        "print(f'{X_train.shape} {X_test.shape}')\n",
        "model = MLSTM_FCN((X_train.shape[1], X_train.shape[2]), train_label.shape[1])"
      ],
      "execution_count": null,
      "outputs": []
    },
    {
      "cell_type": "code",
      "metadata": {
        "id": "LhLx6Wpz0dG3"
      },
      "source": [
        "if gpu:\n",
        "    model = MLSTM_FCN((X_train.shape[1], X_train.shape[2]), train_label.shape[1])\n",
        "    history = model.fit(X_train,train_label,batch_size=32,epochs=200,verbose=1,callbacks=[tensorflow.keras.callbacks.EarlyStopping('val_loss', patience=30)],validation_data=(X_test,test_label))\n",
        "if tpu:\n",
        "    with strategy.scope():\n",
        "        model = MLSTM_FCN((X_train.shape[1], X_train.shape[2]), train_label.shape[1])\n",
        "        history = model.fit(X_train,train_label,batch_size=8*32,epochs=200,verbose=1,callbacks=[tensorflow.keras.callbacks.EarlyStopping('val_loss', patience=30)],validation_data=(X_test,test_label))\n",
        "\n",
        "plot_performance(X_train, train_label, history)"
      ],
      "execution_count": null,
      "outputs": []
    },
    {
      "cell_type": "code",
      "metadata": {
        "id": "Ab6K_-wl0dG3"
      },
      "source": [
        "get_test_performance(model, X_test, test_label)"
      ],
      "execution_count": null,
      "outputs": []
    }
  ]
}