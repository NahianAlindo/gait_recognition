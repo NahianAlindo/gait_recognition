{
  "nbformat": 4,
  "nbformat_minor": 0,
  "metadata": {
    "colab": {
      "name": "Model_with_blocks_Bi_LSTM.ipynb",
      "provenance": [],
      "collapsed_sections": [],
      "include_colab_link": true
    },
    "kernelspec": {
      "name": "python3",
      "display_name": "Python 3"
    },
    "language_info": {
      "name": "python"
    },
    "accelerator": "GPU"
  },
  "cells": [
    {
      "cell_type": "markdown",
      "metadata": {
        "id": "view-in-github",
        "colab_type": "text"
      },
      "source": [
        "<a href=\"https://colab.research.google.com/github/NahianAlindo/gait_recognition/blob/main/Model_with_blocks_Bi_LSTM.ipynb\" target=\"_parent\"><img src=\"https://colab.research.google.com/assets/colab-badge.svg\" alt=\"Open In Colab\"/></a>"
      ]
    },
    {
      "cell_type": "markdown",
      "metadata": {
        "id": "O9HBiYwFk1qn"
      },
      "source": [
        "# Mount Drive and Accelerator status"
      ]
    },
    {
      "cell_type": "code",
      "source": [
        "from google.colab import drive\n",
        "drive.flush_and_unmount()"
      ],
      "metadata": {
        "colab": {
          "base_uri": "https://localhost:8080/"
        },
        "id": "y03j0BrGNURo",
        "outputId": "cc348e2d-72b3-4e1e-bb20-96da96369cb8"
      },
      "execution_count": null,
      "outputs": [
        {
          "output_type": "stream",
          "name": "stdout",
          "text": [
            "Drive not mounted, so nothing to flush and unmount.\n"
          ]
        }
      ]
    },
    {
      "cell_type": "code",
      "metadata": {
        "id": "bn8udKehjhLj",
        "colab": {
          "base_uri": "https://localhost:8080/"
        },
        "outputId": "66731bd6-7c85-480a-db1d-9c9afe4f16d5"
      },
      "source": [
        "from google.colab import drive\n",
        "drive.mount('/content/drive')"
      ],
      "execution_count": 1,
      "outputs": [
        {
          "output_type": "stream",
          "name": "stdout",
          "text": [
            "Mounted at /content/drive\n"
          ]
        }
      ]
    },
    {
      "cell_type": "code",
      "metadata": {
        "id": "rcYmsM_ueY4f",
        "colab": {
          "base_uri": "https://localhost:8080/"
        },
        "outputId": "20a4e525-b570-42cc-ee76-2ac0eb88942a"
      },
      "source": [
        "import torch\n",
        "import os\n",
        "try:\n",
        "    tpu = False     \n",
        "    assert torch.cuda.is_available()\n",
        "    gpu = True\n",
        "    ! nvidia-smi\n",
        "except:\n",
        "    tpu = True\n",
        "    gpu = False\n",
        "    if 'COLAB_TPU_ADDR' not in os.environ:\n",
        "        print('ERROR: Not connected to a TPU runtime; please see the first cell in this notebook for instructions!')\n",
        "    else:\n",
        "        tpu_address = 'grpc://' + os.environ['COLAB_TPU_ADDR']\n",
        "        print ('TPU address is', tpu_address)\n",
        "    import tensorflow as tf\n",
        "    resolver = tf.distribute.cluster_resolver.TPUClusterResolver(tpu=tpu_address)\n",
        "    tf.config.experimental_connect_to_cluster(resolver)\n",
        "    # This is the TPU initialization code that has to be at the beginning.\n",
        "    tf.tpu.experimental.initialize_tpu_system(resolver)\n",
        "    print(\"All devices: \", tf.config.list_logical_devices('TPU'))\n",
        "    strategy = tf.distribute.TPUStrategy(resolver)"
      ],
      "execution_count": 2,
      "outputs": [
        {
          "output_type": "stream",
          "name": "stdout",
          "text": [
            "Tue Jan  4 07:27:06 2022       \n",
            "+-----------------------------------------------------------------------------+\n",
            "| NVIDIA-SMI 495.44       Driver Version: 460.32.03    CUDA Version: 11.2     |\n",
            "|-------------------------------+----------------------+----------------------+\n",
            "| GPU  Name        Persistence-M| Bus-Id        Disp.A | Volatile Uncorr. ECC |\n",
            "| Fan  Temp  Perf  Pwr:Usage/Cap|         Memory-Usage | GPU-Util  Compute M. |\n",
            "|                               |                      |               MIG M. |\n",
            "|===============================+======================+======================|\n",
            "|   0  Tesla K80           Off  | 00000000:00:04.0 Off |                    0 |\n",
            "| N/A   34C    P8    27W / 149W |      3MiB / 11441MiB |      0%      Default |\n",
            "|                               |                      |                  N/A |\n",
            "+-------------------------------+----------------------+----------------------+\n",
            "                                                                               \n",
            "+-----------------------------------------------------------------------------+\n",
            "| Processes:                                                                  |\n",
            "|  GPU   GI   CI        PID   Type   Process name                  GPU Memory |\n",
            "|        ID   ID                                                   Usage      |\n",
            "|=============================================================================|\n",
            "|  No running processes found                                                 |\n",
            "+-----------------------------------------------------------------------------+\n"
          ]
        }
      ]
    },
    {
      "cell_type": "code",
      "metadata": {
        "id": "rsN8_Rrlkyeo",
        "colab": {
          "base_uri": "https://localhost:8080/"
        },
        "outputId": "7f89cee8-c2fe-47fc-8267-9062859d7eeb"
      },
      "source": [
        "! pip install keras_tuner"
      ],
      "execution_count": 3,
      "outputs": [
        {
          "output_type": "stream",
          "name": "stdout",
          "text": [
            "Collecting keras_tuner\n",
            "  Downloading keras_tuner-1.1.0-py3-none-any.whl (98 kB)\n",
            "\u001b[?25l\r\u001b[K     |███▍                            | 10 kB 15.9 MB/s eta 0:00:01\r\u001b[K     |██████▊                         | 20 kB 17.2 MB/s eta 0:00:01\r\u001b[K     |██████████                      | 30 kB 10.9 MB/s eta 0:00:01\r\u001b[K     |█████████████▍                  | 40 kB 9.0 MB/s eta 0:00:01\r\u001b[K     |████████████████▊               | 51 kB 4.7 MB/s eta 0:00:01\r\u001b[K     |████████████████████            | 61 kB 4.9 MB/s eta 0:00:01\r\u001b[K     |███████████████████████▍        | 71 kB 4.4 MB/s eta 0:00:01\r\u001b[K     |██████████████████████████▊     | 81 kB 4.9 MB/s eta 0:00:01\r\u001b[K     |██████████████████████████████  | 92 kB 4.5 MB/s eta 0:00:01\r\u001b[K     |████████████████████████████████| 98 kB 2.9 MB/s \n",
            "\u001b[?25hCollecting kt-legacy\n",
            "  Downloading kt_legacy-1.0.4-py3-none-any.whl (9.6 kB)\n",
            "Requirement already satisfied: numpy in /usr/local/lib/python3.7/dist-packages (from keras_tuner) (1.19.5)\n",
            "Requirement already satisfied: requests in /usr/local/lib/python3.7/dist-packages (from keras_tuner) (2.23.0)\n",
            "Requirement already satisfied: scipy in /usr/local/lib/python3.7/dist-packages (from keras_tuner) (1.4.1)\n",
            "Requirement already satisfied: packaging in /usr/local/lib/python3.7/dist-packages (from keras_tuner) (21.3)\n",
            "Requirement already satisfied: ipython in /usr/local/lib/python3.7/dist-packages (from keras_tuner) (5.5.0)\n",
            "Requirement already satisfied: tensorboard in /usr/local/lib/python3.7/dist-packages (from keras_tuner) (2.7.0)\n",
            "Requirement already satisfied: traitlets>=4.2 in /usr/local/lib/python3.7/dist-packages (from ipython->keras_tuner) (5.1.1)\n",
            "Requirement already satisfied: decorator in /usr/local/lib/python3.7/dist-packages (from ipython->keras_tuner) (4.4.2)\n",
            "Requirement already satisfied: setuptools>=18.5 in /usr/local/lib/python3.7/dist-packages (from ipython->keras_tuner) (57.4.0)\n",
            "Requirement already satisfied: pexpect in /usr/local/lib/python3.7/dist-packages (from ipython->keras_tuner) (4.8.0)\n",
            "Requirement already satisfied: simplegeneric>0.8 in /usr/local/lib/python3.7/dist-packages (from ipython->keras_tuner) (0.8.1)\n",
            "Requirement already satisfied: pygments in /usr/local/lib/python3.7/dist-packages (from ipython->keras_tuner) (2.6.1)\n",
            "Requirement already satisfied: prompt-toolkit<2.0.0,>=1.0.4 in /usr/local/lib/python3.7/dist-packages (from ipython->keras_tuner) (1.0.18)\n",
            "Requirement already satisfied: pickleshare in /usr/local/lib/python3.7/dist-packages (from ipython->keras_tuner) (0.7.5)\n",
            "Requirement already satisfied: six>=1.9.0 in /usr/local/lib/python3.7/dist-packages (from prompt-toolkit<2.0.0,>=1.0.4->ipython->keras_tuner) (1.15.0)\n",
            "Requirement already satisfied: wcwidth in /usr/local/lib/python3.7/dist-packages (from prompt-toolkit<2.0.0,>=1.0.4->ipython->keras_tuner) (0.2.5)\n",
            "Requirement already satisfied: pyparsing!=3.0.5,>=2.0.2 in /usr/local/lib/python3.7/dist-packages (from packaging->keras_tuner) (3.0.6)\n",
            "Requirement already satisfied: ptyprocess>=0.5 in /usr/local/lib/python3.7/dist-packages (from pexpect->ipython->keras_tuner) (0.7.0)\n",
            "Requirement already satisfied: urllib3!=1.25.0,!=1.25.1,<1.26,>=1.21.1 in /usr/local/lib/python3.7/dist-packages (from requests->keras_tuner) (1.24.3)\n",
            "Requirement already satisfied: certifi>=2017.4.17 in /usr/local/lib/python3.7/dist-packages (from requests->keras_tuner) (2021.10.8)\n",
            "Requirement already satisfied: idna<3,>=2.5 in /usr/local/lib/python3.7/dist-packages (from requests->keras_tuner) (2.10)\n",
            "Requirement already satisfied: chardet<4,>=3.0.2 in /usr/local/lib/python3.7/dist-packages (from requests->keras_tuner) (3.0.4)\n",
            "Requirement already satisfied: tensorboard-plugin-wit>=1.6.0 in /usr/local/lib/python3.7/dist-packages (from tensorboard->keras_tuner) (1.8.0)\n",
            "Requirement already satisfied: protobuf>=3.6.0 in /usr/local/lib/python3.7/dist-packages (from tensorboard->keras_tuner) (3.17.3)\n",
            "Requirement already satisfied: werkzeug>=0.11.15 in /usr/local/lib/python3.7/dist-packages (from tensorboard->keras_tuner) (1.0.1)\n",
            "Requirement already satisfied: google-auth<3,>=1.6.3 in /usr/local/lib/python3.7/dist-packages (from tensorboard->keras_tuner) (1.35.0)\n",
            "Requirement already satisfied: tensorboard-data-server<0.7.0,>=0.6.0 in /usr/local/lib/python3.7/dist-packages (from tensorboard->keras_tuner) (0.6.1)\n",
            "Requirement already satisfied: absl-py>=0.4 in /usr/local/lib/python3.7/dist-packages (from tensorboard->keras_tuner) (0.12.0)\n",
            "Requirement already satisfied: wheel>=0.26 in /usr/local/lib/python3.7/dist-packages (from tensorboard->keras_tuner) (0.37.0)\n",
            "Requirement already satisfied: grpcio>=1.24.3 in /usr/local/lib/python3.7/dist-packages (from tensorboard->keras_tuner) (1.42.0)\n",
            "Requirement already satisfied: markdown>=2.6.8 in /usr/local/lib/python3.7/dist-packages (from tensorboard->keras_tuner) (3.3.6)\n",
            "Requirement already satisfied: google-auth-oauthlib<0.5,>=0.4.1 in /usr/local/lib/python3.7/dist-packages (from tensorboard->keras_tuner) (0.4.6)\n",
            "Requirement already satisfied: cachetools<5.0,>=2.0.0 in /usr/local/lib/python3.7/dist-packages (from google-auth<3,>=1.6.3->tensorboard->keras_tuner) (4.2.4)\n",
            "Requirement already satisfied: rsa<5,>=3.1.4 in /usr/local/lib/python3.7/dist-packages (from google-auth<3,>=1.6.3->tensorboard->keras_tuner) (4.8)\n",
            "Requirement already satisfied: pyasn1-modules>=0.2.1 in /usr/local/lib/python3.7/dist-packages (from google-auth<3,>=1.6.3->tensorboard->keras_tuner) (0.2.8)\n",
            "Requirement already satisfied: requests-oauthlib>=0.7.0 in /usr/local/lib/python3.7/dist-packages (from google-auth-oauthlib<0.5,>=0.4.1->tensorboard->keras_tuner) (1.3.0)\n",
            "Requirement already satisfied: importlib-metadata>=4.4 in /usr/local/lib/python3.7/dist-packages (from markdown>=2.6.8->tensorboard->keras_tuner) (4.8.2)\n",
            "Requirement already satisfied: typing-extensions>=3.6.4 in /usr/local/lib/python3.7/dist-packages (from importlib-metadata>=4.4->markdown>=2.6.8->tensorboard->keras_tuner) (3.10.0.2)\n",
            "Requirement already satisfied: zipp>=0.5 in /usr/local/lib/python3.7/dist-packages (from importlib-metadata>=4.4->markdown>=2.6.8->tensorboard->keras_tuner) (3.6.0)\n",
            "Requirement already satisfied: pyasn1<0.5.0,>=0.4.6 in /usr/local/lib/python3.7/dist-packages (from pyasn1-modules>=0.2.1->google-auth<3,>=1.6.3->tensorboard->keras_tuner) (0.4.8)\n",
            "Requirement already satisfied: oauthlib>=3.0.0 in /usr/local/lib/python3.7/dist-packages (from requests-oauthlib>=0.7.0->google-auth-oauthlib<0.5,>=0.4.1->tensorboard->keras_tuner) (3.1.1)\n",
            "Installing collected packages: kt-legacy, keras-tuner\n",
            "Successfully installed keras-tuner-1.1.0 kt-legacy-1.0.4\n"
          ]
        }
      ]
    },
    {
      "cell_type": "markdown",
      "metadata": {
        "id": "sd1Jw0EUk78i"
      },
      "source": [
        "# Import Libraries"
      ]
    },
    {
      "cell_type": "code",
      "metadata": {
        "id": "nte45gPrlVT2"
      },
      "source": [
        "import tensorflow\n",
        "from tensorflow import keras\n",
        "import keras_tuner as kt\n",
        "import os\n",
        "import numpy as np\n",
        "import keras.backend as K\n",
        "from tensorflow.keras.layers import Input, Masking, LSTM, Dropout, Permute, Conv1D, BatchNormalization, Activation, GlobalAveragePooling1D, concatenate, multiply, Reshape, Dense, GRU, Bidirectional\n",
        "from tensorflow.keras.models import Model\n",
        "from tensorflow.keras import Input\n",
        "from matplotlib import pyplot as plt\n",
        "from sklearn.model_selection import GridSearchCV\n",
        "from tensorflow.keras.constraints import max_norm as maxnorm\n",
        "from tensorflow.keras.callbacks import EarlyStopping, ModelCheckpoint\n",
        "from tensorflow.keras.models import load_model\n",
        "import seaborn as sns\n",
        "import tensorflow.keras.metrics as metrics\n",
        "import tensorflow.keras as keras\n",
        "from tensorflow.keras.wrappers.scikit_learn import KerasClassifier"
      ],
      "execution_count": 4,
      "outputs": []
    },
    {
      "cell_type": "markdown",
      "metadata": {
        "id": "NCIF7zdalmPO"
      },
      "source": [
        "# Utility Functions for loading dataset, plots and performance"
      ]
    },
    {
      "cell_type": "code",
      "metadata": {
        "id": "WfsCK46Tlu0s"
      },
      "source": [
        "def load_X(path):\n",
        "    X_signals = []\n",
        "    files = os.listdir(path)\n",
        "    files.sort(key=str.lower)\n",
        "    #['train_acc_x.txt', 'train_acc_y.txt', 'train_acc_z.txt', 'train_gyr_x.txt', 'train_gyr_y.txt', 'train_gyr_z.txt']\n",
        "    for my_file in files:\n",
        "        fileName = os.path.join(path,my_file)\n",
        "        file = open(fileName, 'r')\n",
        "        X_signals.append(\n",
        "            [np.array(cell, dtype=np.float32) for cell in [\n",
        "                row.strip().split(' ') for row in file\n",
        "            ]]\n",
        "        )\n",
        "        file.close()\n",
        "        #X_signals = 6*totalStepNum*128\n",
        "    X_signals = np.transpose(np.array(X_signals), (1, 0, 2))#(totalStepNum*6*128)\n",
        "    return X_signals.reshape(-1,6,128,1)#(totalStepNum*6*128*1)\n",
        "\n",
        "def load_y(y_path):\n",
        "    file = open(y_path, 'r')\n",
        "    # Read dataset from disk, dealing with text file's syntax\n",
        "    y_ = np.array(\n",
        "        [elem for elem in [\n",
        "            row.replace('  ', ' ').strip().split(' ') for row in file\n",
        "        ]],\n",
        "        dtype=np.int32\n",
        "    )\n",
        "    file.close()\n",
        "    # Substract 1 to each output class for friendly 0-based indexing\n",
        "    y_ = y_ - 1\n",
        "    #one_hot\n",
        "    y_ = y_.reshape(len(y_))\n",
        "    n_values = int(np.max(y_)) + 1\n",
        "    return np.eye(n_values)[np.array(y_, dtype=np.int32)]  # Returns FLOATS"
      ],
      "execution_count": 5,
      "outputs": []
    },
    {
      "cell_type": "code",
      "metadata": {
        "id": "3J5kEW01l5FY"
      },
      "source": [
        "def get_test_performance(model, X_test, test_label):\n",
        "    score=model.evaluate(X_test,test_label,verbose=1)\n",
        "    print(f'Test loss:{score[0]}')\n",
        "    print(f'Test accuracy:{score[1]}')\n",
        "    print(f'Test Recall: {score[3]}')\n",
        "    print(f'Test AUC: {score[2]}')"
      ],
      "execution_count": 6,
      "outputs": []
    },
    {
      "cell_type": "code",
      "metadata": {
        "id": "0gSCx8cml75h"
      },
      "source": [
        "def plot_performance(X_train, train_label, history):\n",
        "    plt.plot(history.history['accuracy'])\n",
        "    try:\n",
        "        plt.plot(history.history['val_accuracy'])\n",
        "        plt.title('model accuracy')\n",
        "        plt.ylabel('accuracy')\n",
        "        plt.xlabel('epoch')\n",
        "        plt.legend(['train', 'val'], loc='upper left')\n",
        "    except:\n",
        "        pass\n",
        "    try:\n",
        "        plt.legend(['val'], loc='upper left')\n",
        "    except:\n",
        "        pass\n",
        "    plt.show()\n",
        "\n",
        "    plt.plot(history.history['loss'])\n",
        "    try:\n",
        "        plt.plot(history.history['val_loss'])\n",
        "    except:\n",
        "        pass\n",
        "    plt.title('model loss')\n",
        "    plt.ylabel('loss')\n",
        "    plt.xlabel('epoch')\n",
        "    plt.legend(['train'], loc='upper left')\n",
        "    try:\n",
        "        plt.legend(['val'], loc='upper left')\n",
        "    except:\n",
        "        pass\n",
        "    plt.show()"
      ],
      "execution_count": 7,
      "outputs": []
    },
    {
      "cell_type": "code",
      "metadata": {
        "id": "MdsZEDohmFvr"
      },
      "source": [
        "def squeeze_excite_block(tensor, ratio=16):\n",
        "    init = tensor\n",
        "    # channel_axis = 1 if K.image_data_format() == \"channels_first\" else -1\n",
        "    filters = init.shape[-1]\n",
        "    se_shape = (1, filters)\n",
        "\n",
        "    se = GlobalAveragePooling1D()(init)\n",
        "    se = Reshape(se_shape)(se)\n",
        "    se = Dense(filters // ratio, activation='relu', kernel_initializer='he_normal', use_bias=False)(se)\n",
        "    se = Dense(filters, activation='sigmoid', kernel_initializer='he_normal', use_bias=False)(se)\n",
        "\n",
        "    # if K.image_data_format() == 'channels_first':\n",
        "    #     se = Permute((3, 1, 2))(se)\n",
        "\n",
        "    x = multiply([init, se])\n",
        "    return x"
      ],
      "execution_count": 8,
      "outputs": []
    },
    {
      "cell_type": "markdown",
      "metadata": {
        "id": "YlffWBOlmxrl"
      },
      "source": [
        "# Tuner"
      ]
    },
    {
      "cell_type": "code",
      "metadata": {
        "id": "gcqHbcVir0W6"
      },
      "source": [
        "np.random.seed(42)\n",
        "num_classes = 118\n",
        "X_train = load_X('/content/drive/Shareddrives/MMH/TIFS20/Dataset #1/train/Inertial Signals')\n",
        "X_test = load_X('/content/drive/Shareddrives/MMH/TIFS20/Dataset #1/test/Inertial Signals')\n",
        "train_label = load_y('/content/drive/Shareddrives/MMH/TIFS20/Dataset #1/train/y_train.txt')\n",
        "test_label = load_y('/content/drive/Shareddrives/MMH/TIFS20/Dataset #1/test/y_test.txt')\n",
        "shape = ((X_train.shape[1], X_train.shape[2]), train_label.shape[1])"
      ],
      "execution_count": 9,
      "outputs": []
    },
    {
      "cell_type": "code",
      "metadata": {
        "id": "4g58tB7pmzl_"
      },
      "source": [
        "def post_se(hp):\n",
        "    ip = Input(shape=(6, 128))\n",
        "    x = Masking()(ip)\n",
        "    x = Bidirectional(LSTM(units=hp.Choice('Bi-LSTM_1', values = [8,16,32,64,128,256,512])))(x)\n",
        "    # x = Bidirectional(LSTM(units=hp.Choice('Bi-LSTM_2', values = [8,16,32,64,128,256,512])))(x)\n",
        "    x = Dropout(hp.Choice(name='Dropout', values = [0.0,0.1, 0.2, 0.3, 0.4, 0.5, 0.6, 0.7, 0.8]))(x)\n",
        "    y = Permute((2, 1))(ip)\n",
        "    y = Conv1D(hp.Choice('conv_1_filter', values = [32,64,128,256,512]), hp.Choice(name='conv_1_filter_size', values = [3,5,7,8,9]), padding='same', kernel_initializer='he_uniform')(y)\n",
        "    y = BatchNormalization()(y)\n",
        "    y = Activation('relu')(y)\n",
        "    y = squeeze_excite_block(y)\n",
        "    y = Conv1D(hp.Choice('conv_2_filter', values = [32,64,128,256,512]), hp.Choice(name='conv_2_filter_size',values = [3,5,7,8,9]), padding='same', kernel_initializer='he_uniform')(y)\n",
        "    y = BatchNormalization()(y)\n",
        "    y = Activation('relu')(y)\n",
        "    y = squeeze_excite_block(y)\n",
        "    y = Conv1D(hp.Choice('conv_3_filter', values = [32,64,128,256,512,]), hp.Choice(name='conv_3_filter_size',values = [3,5,7,8,9]), padding='same', kernel_initializer='he_uniform')(y)\n",
        "    y = BatchNormalization()(y)\n",
        "    y = Activation('relu')(y)\n",
        "    y = GlobalAveragePooling1D()(y)\n",
        "    x = concatenate([x,y])\n",
        "    # batch_size = hp.Choice('batch_size', values=[32, 64, 128, 256, 512, 1024, 2048, 4096])\n",
        "    out = Dense(num_classes, activation='softmax')(x)\n",
        "    model = Model(ip, out)\n",
        "    if gpu:\n",
        "        opt = keras.optimizers.Adam(learning_rate=0.001)\n",
        "    if tpu:\n",
        "        opt = keras.optimizers.Adam(learning_rate=8*0.001)\n",
        "    model.compile(optimizer=opt, loss='categorical_crossentropy',metrics=['accuracy'])\n",
        "    # model.summary()\n",
        "\n",
        "    return model"
      ],
      "execution_count": null,
      "outputs": []
    },
    {
      "cell_type": "markdown",
      "metadata": {
        "id": "7P_X7a8Hq5an"
      },
      "source": [
        "# Tune on 90% data"
      ]
    },
    {
      "cell_type": "code",
      "metadata": {
        "colab": {
          "base_uri": "https://localhost:8080/"
        },
        "id": "Je5TbDAWnf3r",
        "outputId": "d29d9c76-59c0-4ca0-f2e5-d31ed17ad9a8"
      },
      "source": [
        "if gpu:\n",
        "    tuner = kt.tuners.BayesianOptimization(post_se,\n",
        "        objective='val_loss',\n",
        "        max_trials=30,\n",
        "        seed=42,\n",
        "        project_name='/content/drive/Shareddrives/MMH/Model_gpu')\n",
        "    # Will stop training if the \"val_loss\" hasn't improved in 30 epochs.\n",
        "    tuner.search(X_train, train_label, epochs=200, validation_split=0.1, shuffle=True, callbacks=[tensorflow.keras.callbacks.EarlyStopping('val_loss', patience=30,restore_best_weights=True)])\n",
        "\n",
        "if tpu:\n",
        "    print(\"TPU\")\n",
        "    with strategy.scope():\n",
        "        tuner = kt.tuners.BayesianOptimization(post_se,\n",
        "            objective='val_loss',\n",
        "            max_trials=30,\n",
        "            seed=42,\n",
        "            project_name='Model_tpu')\n",
        "        # Will stop training if the \"val_loss\" hasn't improved in 30 epochs.\n",
        "        tuner.search(X_train, train_label, epochs=200, validation_split=0.1, shuffle=True, callbacks=[tensorflow.keras.callbacks.EarlyStopping('val_loss', patience=30,restore_best_weights=True)])"
      ],
      "execution_count": null,
      "outputs": [
        {
          "output_type": "stream",
          "name": "stdout",
          "text": [
            "Trial 31 Complete [00h 42m 46s]\n",
            "val_loss: 0.04115023836493492\n",
            "\n",
            "Best val_loss So Far: 0.011562485247850418\n",
            "Total elapsed time: 04h 02m 25s\n",
            "INFO:tensorflow:Oracle triggered exit\n"
          ]
        }
      ]
    },
    {
      "cell_type": "markdown",
      "metadata": {
        "id": "pSruVlwlIv0T"
      },
      "source": [
        "# MODEL DEFINITION"
      ]
    },
    {
      "cell_type": "code",
      "metadata": {
        "id": "f70nWuFnIufC"
      },
      "source": [
        "def MLSTM_FCN(shape, num_classes):\n",
        "    x = Input(shape=(6, 128))\n",
        "    ip = x\n",
        "    x = Masking()(ip)\n",
        "    x = Bidirectional(LSTM(8))(x)\n",
        "    x = Dropout(0.8)(x)\n",
        "    y = Permute((2, 1))(ip)\n",
        "    y = Conv1D(32, 9, padding='same', kernel_initializer='he_uniform')(y)\n",
        "    y = BatchNormalization()(y)\n",
        "    y = Activation('relu')(y)\n",
        "    y = squeeze_excite_block(y)\n",
        "    y = Conv1D(512, 9, padding='same', kernel_initializer='he_uniform')(y)\n",
        "    y = BatchNormalization()(y)\n",
        "    y = Activation('relu')(y)\n",
        "    y = squeeze_excite_block(y)\n",
        "    y = Conv1D(512, 9, padding='same', kernel_initializer='he_uniform')(y)\n",
        "    y = BatchNormalization()(y)\n",
        "    y = Activation('relu')(y)\n",
        "    y = GlobalAveragePooling1D()(y)\n",
        "    x = concatenate([x,y])\n",
        "    \n",
        "    out = Dense(num_classes, activation='softmax')(x)\n",
        "    model = Model(ip, out)\n",
        "    model.compile(optimizer=\"adam\", loss=\"categorical_crossentropy\",metrics=['accuracy','AUC','Recall'])\n",
        "    model.summary()\n",
        "\n",
        "    return model"
      ],
      "execution_count": 10,
      "outputs": []
    },
    {
      "cell_type": "markdown",
      "metadata": {
        "id": "2VLKMypislJ_"
      },
      "source": [
        "# Train on 90% data Dataset 1"
      ]
    },
    {
      "cell_type": "code",
      "metadata": {
        "id": "a4DjSgHGvOne"
      },
      "source": [
        "np.random.seed(42)\n",
        "num_classes = 118\n",
        "X_train = load_X('/content/drive/Shareddrives/MMH/TIFS20/Dataset #1/train/Inertial Signals')\n",
        "X_test = load_X('/content/drive/Shareddrives/MMH/TIFS20/Dataset #1/test/Inertial Signals')\n",
        "train_label = load_y('/content/drive/Shareddrives/MMH/TIFS20/Dataset #1/train/y_train.txt')\n",
        "test_label = load_y('/content/drive/Shareddrives/MMH/TIFS20/Dataset #1/test/y_test.txt')\n",
        "shape = ((X_train.shape[1], X_train.shape[2]), train_label.shape[1])"
      ],
      "execution_count": null,
      "outputs": []
    },
    {
      "cell_type": "code",
      "metadata": {
        "id": "oXMuAGghsrV9",
        "colab": {
          "base_uri": "https://localhost:8080/",
          "height": 1000
        },
        "outputId": "5f01e0b5-95cd-4753-d569-8ee5e6820dfd"
      },
      "source": [
        "if gpu:\n",
        "    model = MLSTM_FCN((X_train.shape[1], X_train.shape[2]), train_label.shape[1])\n",
        "    history = model.fit(X_train,train_label,batch_size=32,epochs=200,verbose=1,callbacks=[tensorflow.keras.callbacks.EarlyStopping('val_loss', patience=30,restore_best_weights=True)],validation_split=0.1)\n",
        "if tpu:\n",
        "    with strategy.scope():\n",
        "        model = MLSTM_FCN((X_train.shape[1], X_train.shape[2]), train_label.shape[1])\n",
        "        history = model.fit(X_train,train_label,batch_size=8*32,epochs=200,verbose=1,callbacks=[tensorflow.keras.callbacks.EarlyStopping('val_loss', patience=30,restore_best_weights=True)],validation_split=0.1)\n",
        "\n",
        "plot_performance(X_train, train_label, history)"
      ],
      "execution_count": 11,
      "outputs": [
        {
          "output_type": "stream",
          "name": "stdout",
          "text": [
            "Model: \"model\"\n",
            "__________________________________________________________________________________________________\n",
            " Layer (type)                   Output Shape         Param #     Connected to                     \n",
            "==================================================================================================\n",
            " input_1 (InputLayer)           [(None, 6, 128)]     0           []                               \n",
            "                                                                                                  \n",
            " permute (Permute)              (None, 128, 6)       0           ['input_1[0][0]']                \n",
            "                                                                                                  \n",
            " conv1d (Conv1D)                (None, 128, 32)      1760        ['permute[0][0]']                \n",
            "                                                                                                  \n",
            " batch_normalization (BatchNorm  (None, 128, 32)     128         ['conv1d[0][0]']                 \n",
            " alization)                                                                                       \n",
            "                                                                                                  \n",
            " activation (Activation)        (None, 128, 32)      0           ['batch_normalization[0][0]']    \n",
            "                                                                                                  \n",
            " global_average_pooling1d (Glob  (None, 32)          0           ['activation[0][0]']             \n",
            " alAveragePooling1D)                                                                              \n",
            "                                                                                                  \n",
            " reshape (Reshape)              (None, 1, 32)        0           ['global_average_pooling1d[0][0]'\n",
            "                                                                 ]                                \n",
            "                                                                                                  \n",
            " dense (Dense)                  (None, 1, 2)         64          ['reshape[0][0]']                \n",
            "                                                                                                  \n",
            " dense_1 (Dense)                (None, 1, 32)        64          ['dense[0][0]']                  \n",
            "                                                                                                  \n",
            " multiply (Multiply)            (None, 128, 32)      0           ['activation[0][0]',             \n",
            "                                                                  'dense_1[0][0]']                \n",
            "                                                                                                  \n",
            " conv1d_1 (Conv1D)              (None, 128, 512)     147968      ['multiply[0][0]']               \n",
            "                                                                                                  \n",
            " batch_normalization_1 (BatchNo  (None, 128, 512)    2048        ['conv1d_1[0][0]']               \n",
            " rmalization)                                                                                     \n",
            "                                                                                                  \n",
            " activation_1 (Activation)      (None, 128, 512)     0           ['batch_normalization_1[0][0]']  \n",
            "                                                                                                  \n",
            " global_average_pooling1d_1 (Gl  (None, 512)         0           ['activation_1[0][0]']           \n",
            " obalAveragePooling1D)                                                                            \n",
            "                                                                                                  \n",
            " reshape_1 (Reshape)            (None, 1, 512)       0           ['global_average_pooling1d_1[0][0\n",
            "                                                                 ]']                              \n",
            "                                                                                                  \n",
            " dense_2 (Dense)                (None, 1, 32)        16384       ['reshape_1[0][0]']              \n",
            "                                                                                                  \n",
            " dense_3 (Dense)                (None, 1, 512)       16384       ['dense_2[0][0]']                \n",
            "                                                                                                  \n",
            " multiply_1 (Multiply)          (None, 128, 512)     0           ['activation_1[0][0]',           \n",
            "                                                                  'dense_3[0][0]']                \n",
            "                                                                                                  \n",
            " conv1d_2 (Conv1D)              (None, 128, 512)     2359808     ['multiply_1[0][0]']             \n",
            "                                                                                                  \n",
            " masking (Masking)              (None, 6, 128)       0           ['input_1[0][0]']                \n",
            "                                                                                                  \n",
            " batch_normalization_2 (BatchNo  (None, 128, 512)    2048        ['conv1d_2[0][0]']               \n",
            " rmalization)                                                                                     \n",
            "                                                                                                  \n",
            " bidirectional (Bidirectional)  (None, 16)           8768        ['masking[0][0]']                \n",
            "                                                                                                  \n",
            " activation_2 (Activation)      (None, 128, 512)     0           ['batch_normalization_2[0][0]']  \n",
            "                                                                                                  \n",
            " dropout (Dropout)              (None, 16)           0           ['bidirectional[0][0]']          \n",
            "                                                                                                  \n",
            " global_average_pooling1d_2 (Gl  (None, 512)         0           ['activation_2[0][0]']           \n",
            " obalAveragePooling1D)                                                                            \n",
            "                                                                                                  \n",
            " concatenate (Concatenate)      (None, 528)          0           ['dropout[0][0]',                \n",
            "                                                                  'global_average_pooling1d_2[0][0\n",
            "                                                                 ]']                              \n",
            "                                                                                                  \n",
            " dense_4 (Dense)                (None, 118)          62422       ['concatenate[0][0]']            \n",
            "                                                                                                  \n",
            "==================================================================================================\n",
            "Total params: 2,617,846\n",
            "Trainable params: 2,615,734\n",
            "Non-trainable params: 2,112\n",
            "__________________________________________________________________________________________________\n",
            "Epoch 1/200\n",
            "932/932 [==============================] - 87s 68ms/step - loss: 0.6658 - accuracy: 0.8592 - auc: 0.9912 - recall: 0.7591 - val_loss: 0.1973 - val_accuracy: 0.9490 - val_auc: 0.9977 - val_recall: 0.9308\n",
            "Epoch 2/200\n",
            "932/932 [==============================] - 59s 64ms/step - loss: 0.1244 - accuracy: 0.9696 - auc: 0.9987 - recall: 0.9581 - val_loss: 0.1348 - val_accuracy: 0.9592 - val_auc: 0.9984 - val_recall: 0.9538\n",
            "Epoch 3/200\n",
            "932/932 [==============================] - 60s 64ms/step - loss: 0.0873 - accuracy: 0.9781 - auc: 0.9992 - recall: 0.9713 - val_loss: 0.1931 - val_accuracy: 0.9399 - val_auc: 0.9982 - val_recall: 0.9305\n",
            "Epoch 4/200\n",
            "932/932 [==============================] - 58s 63ms/step - loss: 0.0620 - accuracy: 0.9832 - auc: 0.9996 - recall: 0.9782 - val_loss: 0.0843 - val_accuracy: 0.9764 - val_auc: 0.9997 - val_recall: 0.9695\n",
            "Epoch 5/200\n",
            "932/932 [==============================] - 59s 64ms/step - loss: 0.0486 - accuracy: 0.9861 - auc: 0.9997 - recall: 0.9829 - val_loss: 0.0810 - val_accuracy: 0.9780 - val_auc: 0.9986 - val_recall: 0.9728\n",
            "Epoch 6/200\n",
            "932/932 [==============================] - 59s 64ms/step - loss: 0.0477 - accuracy: 0.9864 - auc: 0.9997 - recall: 0.9829 - val_loss: 0.0707 - val_accuracy: 0.9798 - val_auc: 0.9988 - val_recall: 0.9761\n",
            "Epoch 7/200\n",
            "932/932 [==============================] - 58s 62ms/step - loss: 0.0343 - accuracy: 0.9903 - auc: 0.9998 - recall: 0.9873 - val_loss: 0.0470 - val_accuracy: 0.9858 - val_auc: 0.9997 - val_recall: 0.9825\n",
            "Epoch 8/200\n",
            "932/932 [==============================] - 59s 63ms/step - loss: 0.0312 - accuracy: 0.9907 - auc: 0.9998 - recall: 0.9884 - val_loss: 0.0714 - val_accuracy: 0.9840 - val_auc: 0.9985 - val_recall: 0.9801\n",
            "Epoch 9/200\n",
            "932/932 [==============================] - 59s 64ms/step - loss: 0.0224 - accuracy: 0.9942 - auc: 0.9998 - recall: 0.9925 - val_loss: 0.0908 - val_accuracy: 0.9770 - val_auc: 0.9988 - val_recall: 0.9731\n",
            "Epoch 10/200\n",
            "932/932 [==============================] - 61s 65ms/step - loss: 0.0235 - accuracy: 0.9925 - auc: 0.9999 - recall: 0.9908 - val_loss: 0.0377 - val_accuracy: 0.9909 - val_auc: 0.9995 - val_recall: 0.9891\n",
            "Epoch 11/200\n",
            "932/932 [==============================] - 61s 65ms/step - loss: 0.0213 - accuracy: 0.9939 - auc: 0.9998 - recall: 0.9926 - val_loss: 0.0438 - val_accuracy: 0.9882 - val_auc: 0.9994 - val_recall: 0.9870\n",
            "Epoch 12/200\n",
            "932/932 [==============================] - 68s 73ms/step - loss: 0.0236 - accuracy: 0.9930 - auc: 0.9998 - recall: 0.9917 - val_loss: 0.0570 - val_accuracy: 0.9879 - val_auc: 0.9989 - val_recall: 0.9855\n",
            "Epoch 13/200\n",
            "932/932 [==============================] - 72s 77ms/step - loss: 0.0171 - accuracy: 0.9948 - auc: 0.9999 - recall: 0.9936 - val_loss: 0.0644 - val_accuracy: 0.9828 - val_auc: 0.9988 - val_recall: 0.9813\n",
            "Epoch 14/200\n",
            "932/932 [==============================] - 72s 77ms/step - loss: 0.0162 - accuracy: 0.9956 - auc: 0.9998 - recall: 0.9947 - val_loss: 0.0646 - val_accuracy: 0.9855 - val_auc: 0.9980 - val_recall: 0.9831\n",
            "Epoch 15/200\n",
            "932/932 [==============================] - 70s 76ms/step - loss: 0.0151 - accuracy: 0.9958 - auc: 0.9998 - recall: 0.9948 - val_loss: 0.0371 - val_accuracy: 0.9912 - val_auc: 0.9994 - val_recall: 0.9900\n",
            "Epoch 16/200\n",
            "932/932 [==============================] - 69s 74ms/step - loss: 0.0138 - accuracy: 0.9958 - auc: 0.9999 - recall: 0.9951 - val_loss: 0.0409 - val_accuracy: 0.9928 - val_auc: 0.9991 - val_recall: 0.9909\n",
            "Epoch 17/200\n",
            "932/932 [==============================] - 57s 62ms/step - loss: 0.0127 - accuracy: 0.9962 - auc: 0.9999 - recall: 0.9956 - val_loss: 0.0411 - val_accuracy: 0.9903 - val_auc: 0.9991 - val_recall: 0.9897\n",
            "Epoch 18/200\n",
            "932/932 [==============================] - 58s 63ms/step - loss: 0.0121 - accuracy: 0.9967 - auc: 0.9999 - recall: 0.9960 - val_loss: 0.0553 - val_accuracy: 0.9867 - val_auc: 0.9991 - val_recall: 0.9840\n",
            "Epoch 19/200\n",
            "932/932 [==============================] - 58s 62ms/step - loss: 0.0095 - accuracy: 0.9973 - auc: 0.9999 - recall: 0.9968 - val_loss: 0.0353 - val_accuracy: 0.9912 - val_auc: 0.9991 - val_recall: 0.9900\n",
            "Epoch 20/200\n",
            "932/932 [==============================] - 58s 62ms/step - loss: 0.0124 - accuracy: 0.9960 - auc: 0.9999 - recall: 0.9956 - val_loss: 0.0264 - val_accuracy: 0.9940 - val_auc: 0.9995 - val_recall: 0.9915\n",
            "Epoch 21/200\n",
            "932/932 [==============================] - 57s 62ms/step - loss: 0.0100 - accuracy: 0.9971 - auc: 0.9999 - recall: 0.9968 - val_loss: 0.0453 - val_accuracy: 0.9885 - val_auc: 0.9994 - val_recall: 0.9864\n",
            "Epoch 22/200\n",
            "932/932 [==============================] - 56s 61ms/step - loss: 0.0078 - accuracy: 0.9980 - auc: 1.0000 - recall: 0.9973 - val_loss: 0.0243 - val_accuracy: 0.9937 - val_auc: 0.9995 - val_recall: 0.9931\n",
            "Epoch 23/200\n",
            "932/932 [==============================] - 58s 62ms/step - loss: 0.0122 - accuracy: 0.9972 - auc: 0.9998 - recall: 0.9968 - val_loss: 0.0347 - val_accuracy: 0.9909 - val_auc: 0.9995 - val_recall: 0.9897\n",
            "Epoch 24/200\n",
            "932/932 [==============================] - 58s 62ms/step - loss: 0.0108 - accuracy: 0.9971 - auc: 0.9999 - recall: 0.9966 - val_loss: 0.0373 - val_accuracy: 0.9900 - val_auc: 0.9989 - val_recall: 0.9894\n",
            "Epoch 25/200\n",
            "932/932 [==============================] - 57s 61ms/step - loss: 0.0108 - accuracy: 0.9965 - auc: 0.9999 - recall: 0.9962 - val_loss: 0.0268 - val_accuracy: 0.9949 - val_auc: 0.9995 - val_recall: 0.9940\n",
            "Epoch 26/200\n",
            "932/932 [==============================] - 58s 62ms/step - loss: 0.0049 - accuracy: 0.9989 - auc: 0.9999 - recall: 0.9986 - val_loss: 0.0209 - val_accuracy: 0.9961 - val_auc: 0.9997 - val_recall: 0.9949\n",
            "Epoch 27/200\n",
            "932/932 [==============================] - 57s 61ms/step - loss: 0.0082 - accuracy: 0.9979 - auc: 0.9998 - recall: 0.9975 - val_loss: 0.0437 - val_accuracy: 0.9903 - val_auc: 0.9991 - val_recall: 0.9891\n",
            "Epoch 28/200\n",
            "932/932 [==============================] - 57s 61ms/step - loss: 0.0067 - accuracy: 0.9982 - auc: 0.9999 - recall: 0.9980 - val_loss: 0.0254 - val_accuracy: 0.9934 - val_auc: 0.9998 - val_recall: 0.9931\n",
            "Epoch 29/200\n",
            "932/932 [==============================] - 58s 62ms/step - loss: 0.0057 - accuracy: 0.9985 - auc: 0.9999 - recall: 0.9983 - val_loss: 0.0284 - val_accuracy: 0.9940 - val_auc: 0.9992 - val_recall: 0.9937\n",
            "Epoch 30/200\n",
            "932/932 [==============================] - 57s 61ms/step - loss: 0.0101 - accuracy: 0.9972 - auc: 0.9999 - recall: 0.9966 - val_loss: 0.0319 - val_accuracy: 0.9924 - val_auc: 0.9992 - val_recall: 0.9912\n",
            "Epoch 31/200\n",
            "932/932 [==============================] - 57s 61ms/step - loss: 0.0061 - accuracy: 0.9984 - auc: 0.9999 - recall: 0.9982 - val_loss: 0.0375 - val_accuracy: 0.9924 - val_auc: 0.9992 - val_recall: 0.9921\n",
            "Epoch 32/200\n",
            "932/932 [==============================] - 57s 61ms/step - loss: 0.0088 - accuracy: 0.9976 - auc: 0.9999 - recall: 0.9973 - val_loss: 0.0509 - val_accuracy: 0.9906 - val_auc: 0.9986 - val_recall: 0.9900\n",
            "Epoch 33/200\n",
            "932/932 [==============================] - 58s 62ms/step - loss: 0.0062 - accuracy: 0.9984 - auc: 0.9999 - recall: 0.9982 - val_loss: 0.0273 - val_accuracy: 0.9940 - val_auc: 0.9994 - val_recall: 0.9937\n",
            "Epoch 34/200\n",
            "932/932 [==============================] - 58s 62ms/step - loss: 0.0071 - accuracy: 0.9981 - auc: 0.9999 - recall: 0.9979 - val_loss: 0.0217 - val_accuracy: 0.9946 - val_auc: 0.9994 - val_recall: 0.9940\n",
            "Epoch 35/200\n",
            "932/932 [==============================] - 58s 62ms/step - loss: 0.0041 - accuracy: 0.9989 - auc: 1.0000 - recall: 0.9988 - val_loss: 0.0208 - val_accuracy: 0.9955 - val_auc: 0.9997 - val_recall: 0.9940\n",
            "Epoch 36/200\n",
            "932/932 [==============================] - 58s 62ms/step - loss: 0.0072 - accuracy: 0.9983 - auc: 0.9999 - recall: 0.9981 - val_loss: 0.1515 - val_accuracy: 0.9701 - val_auc: 0.9960 - val_recall: 0.9689\n",
            "Epoch 37/200\n",
            "932/932 [==============================] - 58s 63ms/step - loss: 0.0071 - accuracy: 0.9975 - auc: 0.9999 - recall: 0.9973 - val_loss: 0.0248 - val_accuracy: 0.9934 - val_auc: 0.9995 - val_recall: 0.9924\n",
            "Epoch 38/200\n",
            "932/932 [==============================] - 58s 63ms/step - loss: 0.0048 - accuracy: 0.9987 - auc: 0.9999 - recall: 0.9986 - val_loss: 0.0220 - val_accuracy: 0.9970 - val_auc: 0.9992 - val_recall: 0.9964\n",
            "Epoch 39/200\n",
            "932/932 [==============================] - 59s 63ms/step - loss: 0.0048 - accuracy: 0.9986 - auc: 1.0000 - recall: 0.9984 - val_loss: 0.0405 - val_accuracy: 0.9943 - val_auc: 0.9991 - val_recall: 0.9940\n",
            "Epoch 40/200\n",
            "932/932 [==============================] - 58s 63ms/step - loss: 0.0089 - accuracy: 0.9977 - auc: 0.9999 - recall: 0.9974 - val_loss: 0.0243 - val_accuracy: 0.9952 - val_auc: 0.9994 - val_recall: 0.9952\n",
            "Epoch 41/200\n",
            "932/932 [==============================] - 58s 63ms/step - loss: 0.0054 - accuracy: 0.9988 - auc: 0.9999 - recall: 0.9987 - val_loss: 0.0213 - val_accuracy: 0.9952 - val_auc: 0.9994 - val_recall: 0.9949\n",
            "Epoch 42/200\n",
            "932/932 [==============================] - 58s 63ms/step - loss: 0.0057 - accuracy: 0.9986 - auc: 0.9999 - recall: 0.9983 - val_loss: 0.0219 - val_accuracy: 0.9952 - val_auc: 0.9995 - val_recall: 0.9952\n",
            "Epoch 43/200\n",
            "932/932 [==============================] - 58s 63ms/step - loss: 0.0043 - accuracy: 0.9987 - auc: 1.0000 - recall: 0.9986 - val_loss: 0.0188 - val_accuracy: 0.9958 - val_auc: 0.9995 - val_recall: 0.9955\n",
            "Epoch 44/200\n",
            "932/932 [==============================] - 58s 62ms/step - loss: 0.0032 - accuracy: 0.9991 - auc: 1.0000 - recall: 0.9990 - val_loss: 0.0210 - val_accuracy: 0.9958 - val_auc: 0.9995 - val_recall: 0.9955\n",
            "Epoch 45/200\n",
            "932/932 [==============================] - 58s 62ms/step - loss: 0.0044 - accuracy: 0.9989 - auc: 0.9999 - recall: 0.9988 - val_loss: 0.0199 - val_accuracy: 0.9964 - val_auc: 0.9994 - val_recall: 0.9958\n",
            "Epoch 46/200\n",
            "932/932 [==============================] - 58s 62ms/step - loss: 0.0077 - accuracy: 0.9979 - auc: 0.9999 - recall: 0.9977 - val_loss: 0.0257 - val_accuracy: 0.9949 - val_auc: 0.9994 - val_recall: 0.9940\n",
            "Epoch 47/200\n",
            "932/932 [==============================] - 57s 62ms/step - loss: 0.0073 - accuracy: 0.9984 - auc: 0.9999 - recall: 0.9983 - val_loss: 0.0292 - val_accuracy: 0.9943 - val_auc: 0.9995 - val_recall: 0.9937\n",
            "Epoch 48/200\n",
            "932/932 [==============================] - 57s 61ms/step - loss: 0.0046 - accuracy: 0.9988 - auc: 1.0000 - recall: 0.9987 - val_loss: 0.0335 - val_accuracy: 0.9928 - val_auc: 0.9992 - val_recall: 0.9924\n",
            "Epoch 49/200\n",
            "932/932 [==============================] - 57s 62ms/step - loss: 0.0028 - accuracy: 0.9993 - auc: 0.9999 - recall: 0.9992 - val_loss: 0.0256 - val_accuracy: 0.9940 - val_auc: 0.9995 - val_recall: 0.9937\n",
            "Epoch 50/200\n",
            "932/932 [==============================] - 58s 62ms/step - loss: 0.0035 - accuracy: 0.9990 - auc: 1.0000 - recall: 0.9989 - val_loss: 0.0258 - val_accuracy: 0.9958 - val_auc: 0.9995 - val_recall: 0.9955\n",
            "Epoch 51/200\n",
            "932/932 [==============================] - 58s 62ms/step - loss: 0.0043 - accuracy: 0.9991 - auc: 0.9999 - recall: 0.9990 - val_loss: 0.0261 - val_accuracy: 0.9949 - val_auc: 0.9991 - val_recall: 0.9943\n",
            "Epoch 52/200\n",
            "932/932 [==============================] - 58s 63ms/step - loss: 0.0057 - accuracy: 0.9985 - auc: 0.9999 - recall: 0.9985 - val_loss: 0.0238 - val_accuracy: 0.9937 - val_auc: 0.9994 - val_recall: 0.9934\n",
            "Epoch 53/200\n",
            "932/932 [==============================] - 58s 62ms/step - loss: 0.0049 - accuracy: 0.9985 - auc: 0.9999 - recall: 0.9984 - val_loss: 0.0232 - val_accuracy: 0.9946 - val_auc: 0.9994 - val_recall: 0.9946\n",
            "Epoch 54/200\n",
            "932/932 [==============================] - 58s 63ms/step - loss: 0.0022 - accuracy: 0.9994 - auc: 1.0000 - recall: 0.9992 - val_loss: 0.0220 - val_accuracy: 0.9955 - val_auc: 0.9995 - val_recall: 0.9952\n",
            "Epoch 55/200\n",
            "932/932 [==============================] - 58s 62ms/step - loss: 0.0045 - accuracy: 0.9987 - auc: 0.9999 - recall: 0.9986 - val_loss: 0.0282 - val_accuracy: 0.9934 - val_auc: 0.9994 - val_recall: 0.9928\n",
            "Epoch 56/200\n",
            "932/932 [==============================] - 58s 63ms/step - loss: 0.0020 - accuracy: 0.9996 - auc: 1.0000 - recall: 0.9996 - val_loss: 0.0199 - val_accuracy: 0.9967 - val_auc: 0.9994 - val_recall: 0.9964\n",
            "Epoch 57/200\n",
            "932/932 [==============================] - 58s 63ms/step - loss: 0.0025 - accuracy: 0.9994 - auc: 1.0000 - recall: 0.9993 - val_loss: 0.0259 - val_accuracy: 0.9931 - val_auc: 0.9995 - val_recall: 0.9928\n",
            "Epoch 58/200\n",
            "932/932 [==============================] - 58s 63ms/step - loss: 0.0039 - accuracy: 0.9989 - auc: 0.9999 - recall: 0.9989 - val_loss: 0.0242 - val_accuracy: 0.9955 - val_auc: 0.9994 - val_recall: 0.9949\n",
            "Epoch 59/200\n",
            "932/932 [==============================] - 58s 62ms/step - loss: 0.0029 - accuracy: 0.9993 - auc: 1.0000 - recall: 0.9993 - val_loss: 0.0220 - val_accuracy: 0.9958 - val_auc: 0.9997 - val_recall: 0.9955\n",
            "Epoch 60/200\n",
            "932/932 [==============================] - 58s 62ms/step - loss: 0.0025 - accuracy: 0.9993 - auc: 1.0000 - recall: 0.9992 - val_loss: 0.0327 - val_accuracy: 0.9940 - val_auc: 0.9992 - val_recall: 0.9937\n",
            "Epoch 61/200\n",
            "932/932 [==============================] - 58s 62ms/step - loss: 0.0045 - accuracy: 0.9989 - auc: 0.9999 - recall: 0.9988 - val_loss: 0.0296 - val_accuracy: 0.9940 - val_auc: 0.9991 - val_recall: 0.9934\n",
            "Epoch 62/200\n",
            "932/932 [==============================] - 58s 62ms/step - loss: 0.0041 - accuracy: 0.9989 - auc: 0.9999 - recall: 0.9988 - val_loss: 0.0298 - val_accuracy: 0.9955 - val_auc: 0.9992 - val_recall: 0.9949\n",
            "Epoch 63/200\n",
            "932/932 [==============================] - 58s 62ms/step - loss: 0.0022 - accuracy: 0.9996 - auc: 1.0000 - recall: 0.9996 - val_loss: 0.0275 - val_accuracy: 0.9952 - val_auc: 0.9994 - val_recall: 0.9949\n",
            "Epoch 64/200\n",
            "932/932 [==============================] - 58s 62ms/step - loss: 0.0061 - accuracy: 0.9984 - auc: 0.9999 - recall: 0.9982 - val_loss: 0.0292 - val_accuracy: 0.9949 - val_auc: 0.9992 - val_recall: 0.9943\n",
            "Epoch 65/200\n",
            "932/932 [==============================] - 58s 62ms/step - loss: 0.0025 - accuracy: 0.9993 - auc: 1.0000 - recall: 0.9993 - val_loss: 0.0224 - val_accuracy: 0.9958 - val_auc: 0.9995 - val_recall: 0.9949\n",
            "Epoch 66/200\n",
            "932/932 [==============================] - 58s 62ms/step - loss: 0.0022 - accuracy: 0.9996 - auc: 1.0000 - recall: 0.9995 - val_loss: 0.0280 - val_accuracy: 0.9949 - val_auc: 0.9991 - val_recall: 0.9940\n",
            "Epoch 67/200\n",
            "932/932 [==============================] - 58s 63ms/step - loss: 0.0051 - accuracy: 0.9989 - auc: 0.9999 - recall: 0.9988 - val_loss: 0.0229 - val_accuracy: 0.9964 - val_auc: 0.9992 - val_recall: 0.9961\n",
            "Epoch 68/200\n",
            "932/932 [==============================] - 58s 62ms/step - loss: 0.0026 - accuracy: 0.9994 - auc: 0.9999 - recall: 0.9993 - val_loss: 0.0277 - val_accuracy: 0.9949 - val_auc: 0.9994 - val_recall: 0.9949\n",
            "Epoch 69/200\n",
            "932/932 [==============================] - 58s 62ms/step - loss: 9.0002e-04 - accuracy: 0.9998 - auc: 1.0000 - recall: 0.9997 - val_loss: 0.0203 - val_accuracy: 0.9970 - val_auc: 0.9995 - val_recall: 0.9967\n",
            "Epoch 70/200\n",
            "932/932 [==============================] - 58s 62ms/step - loss: 0.0021 - accuracy: 0.9994 - auc: 1.0000 - recall: 0.9994 - val_loss: 0.0221 - val_accuracy: 0.9955 - val_auc: 0.9995 - val_recall: 0.9949\n",
            "Epoch 71/200\n",
            "932/932 [==============================] - 58s 63ms/step - loss: 0.0036 - accuracy: 0.9990 - auc: 1.0000 - recall: 0.9990 - val_loss: 0.0251 - val_accuracy: 0.9961 - val_auc: 0.9994 - val_recall: 0.9961\n",
            "Epoch 72/200\n",
            "932/932 [==============================] - 58s 62ms/step - loss: 0.0043 - accuracy: 0.9986 - auc: 1.0000 - recall: 0.9986 - val_loss: 0.0304 - val_accuracy: 0.9943 - val_auc: 0.9995 - val_recall: 0.9940\n",
            "Epoch 73/200\n",
            "932/932 [==============================] - 58s 62ms/step - loss: 0.0027 - accuracy: 0.9994 - auc: 1.0000 - recall: 0.9993 - val_loss: 0.0259 - val_accuracy: 0.9958 - val_auc: 0.9995 - val_recall: 0.9955\n"
          ]
        },
        {
          "output_type": "display_data",
          "data": {
            "image/png": "[encoded data removed]",
            "text/plain": [
              "<Figure size 432x288 with 1 Axes>"
            ]
          },
          "metadata": {
            "needs_background": "light"
          }
        },
        {
          "output_type": "display_data",
          "data": {
            "image/png": "[encoded data removed]",
            "text/plain": [
              "<Figure size 432x288 with 1 Axes>"
            ]
          },
          "metadata": {
            "needs_background": "light"
          }
        }
      ]
    },
    {
      "cell_type": "code",
      "source": [
        "get_test_performance(model, X_test, test_label)"
      ],
      "metadata": {
        "id": "mq6o5O6umYag",
        "colab": {
          "base_uri": "https://localhost:8080/"
        },
        "outputId": "50a910ac-54bc-4235-8a1a-5978ec8e9cec"
      },
      "execution_count": 12,
      "outputs": [
        {
          "output_type": "stream",
          "name": "stdout",
          "text": [
            "117/117 [==============================] - 3s 24ms/step - loss: 0.4877 - accuracy: 0.9476 - auc: 0.9831 - recall: 0.9465\n",
            "Test loss:0.4877292513847351\n",
            "Test accuracy:0.9475935697555542\n",
            "Test Recall: 0.9465240836143494\n",
            "Test AUC: 0.9830764532089233\n"
          ]
        }
      ]
    },
    {
      "cell_type": "markdown",
      "metadata": {
        "id": "46JTDsKIwaov"
      },
      "source": [
        "# Train Full Manually Dataset 1"
      ]
    },
    {
      "cell_type": "code",
      "metadata": {
        "id": "Uvg07AVXwn0j",
        "colab": {
          "base_uri": "https://localhost:8080/",
          "height": 1000
        },
        "outputId": "596cbcea-ba85-4a08-ddc8-8a493b84a00a"
      },
      "source": [
        "#change \n",
        "epochs = 42\n",
        "if gpu:\n",
        "    model = MLSTM_FCN((X_train.shape[1], X_train.shape[2]), train_label.shape[1])\n",
        "    history = model.fit(X_train,train_label,batch_size=32,epochs=epochs,verbose=1)\n",
        "if tpu:\n",
        "    with strategy.scope():\n",
        "        model = MLSTM_FCN((X_train.shape[1], X_train.shape[2]), train_label.shape[1])\n",
        "        history = model.fit(X_train,train_label,batch_size=8*32,epochs=epochs,verbose=1)\n",
        "\n",
        "plot_performance(X_train, train_label, history)"
      ],
      "execution_count": null,
      "outputs": [
        {
          "output_type": "stream",
          "name": "stdout",
          "text": [
            "Model: \"model_1\"\n",
            "__________________________________________________________________________________________________\n",
            " Layer (type)                   Output Shape         Param #     Connected to                     \n",
            "==================================================================================================\n",
            " input_9 (InputLayer)           [(None, 6, 128)]     0           []                               \n",
            "                                                                                                  \n",
            " permute_2 (Permute)            (None, 128, 6)       0           ['input_9[0][0]']                \n",
            "                                                                                                  \n",
            " conv1d_6 (Conv1D)              (None, 128, 512)     28160       ['permute_2[0][0]']              \n",
            "                                                                                                  \n",
            " batch_normalization_6 (BatchNo  (None, 128, 512)    2048        ['conv1d_6[0][0]']               \n",
            " rmalization)                                                                                     \n",
            "                                                                                                  \n",
            " activation_6 (Activation)      (None, 128, 512)     0           ['batch_normalization_6[0][0]']  \n",
            "                                                                                                  \n",
            " global_average_pooling1d_6 (Gl  (None, 512)         0           ['activation_6[0][0]']           \n",
            " obalAveragePooling1D)                                                                            \n",
            "                                                                                                  \n",
            " reshape_4 (Reshape)            (None, 1, 512)       0           ['global_average_pooling1d_6[0][0\n",
            "                                                                 ]']                              \n",
            "                                                                                                  \n",
            " dense_9 (Dense)                (None, 1, 32)        16384       ['reshape_4[0][0]']              \n",
            "                                                                                                  \n",
            " dense_10 (Dense)               (None, 1, 512)       16384       ['dense_9[0][0]']                \n",
            "                                                                                                  \n",
            " multiply_4 (Multiply)          (None, 128, 512)     0           ['activation_6[0][0]',           \n",
            "                                                                  'dense_10[0][0]']               \n",
            "                                                                                                  \n",
            " conv1d_7 (Conv1D)              (None, 128, 512)     786944      ['multiply_4[0][0]']             \n",
            "                                                                                                  \n",
            " batch_normalization_7 (BatchNo  (None, 128, 512)    2048        ['conv1d_7[0][0]']               \n",
            " rmalization)                                                                                     \n",
            "                                                                                                  \n",
            " activation_7 (Activation)      (None, 128, 512)     0           ['batch_normalization_7[0][0]']  \n",
            "                                                                                                  \n",
            " global_average_pooling1d_7 (Gl  (None, 512)         0           ['activation_7[0][0]']           \n",
            " obalAveragePooling1D)                                                                            \n",
            "                                                                                                  \n",
            " reshape_5 (Reshape)            (None, 1, 512)       0           ['global_average_pooling1d_7[0][0\n",
            "                                                                 ]']                              \n",
            "                                                                                                  \n",
            " dense_11 (Dense)               (None, 1, 32)        16384       ['reshape_5[0][0]']              \n",
            "                                                                                                  \n",
            " dense_12 (Dense)               (None, 1, 512)       16384       ['dense_11[0][0]']               \n",
            "                                                                                                  \n",
            " multiply_5 (Multiply)          (None, 128, 512)     0           ['activation_7[0][0]',           \n",
            "                                                                  'dense_12[0][0]']               \n",
            "                                                                                                  \n",
            " conv1d_8 (Conv1D)              (None, 128, 512)     2359808     ['multiply_5[0][0]']             \n",
            "                                                                                                  \n",
            " masking_8 (Masking)            (None, 6, 128)       0           ['input_9[0][0]']                \n",
            "                                                                                                  \n",
            " batch_normalization_8 (BatchNo  (None, 128, 512)    2048        ['conv1d_8[0][0]']               \n",
            " rmalization)                                                                                     \n",
            "                                                                                                  \n",
            " bidirectional_7 (Bidirectional  (None, 16)          8768        ['masking_8[0][0]']              \n",
            " )                                                                                                \n",
            "                                                                                                  \n",
            " activation_8 (Activation)      (None, 128, 512)     0           ['batch_normalization_8[0][0]']  \n",
            "                                                                                                  \n",
            " dropout_6 (Dropout)            (None, 16)           0           ['bidirectional_7[0][0]']        \n",
            "                                                                                                  \n",
            " global_average_pooling1d_8 (Gl  (None, 512)         0           ['activation_8[0][0]']           \n",
            " obalAveragePooling1D)                                                                            \n",
            "                                                                                                  \n",
            " concatenate_2 (Concatenate)    (None, 528)          0           ['dropout_6[0][0]',              \n",
            "                                                                  'global_average_pooling1d_8[0][0\n",
            "                                                                 ]']                              \n",
            "                                                                                                  \n",
            " dense_13 (Dense)               (None, 118)          62422       ['concatenate_2[0][0]']          \n",
            "                                                                                                  \n",
            "==================================================================================================\n",
            "Total params: 3,317,782\n",
            "Trainable params: 3,314,710\n",
            "Non-trainable params: 3,072\n",
            "__________________________________________________________________________________________________\n",
            "Epoch 1/42\n",
            "1035/1035 [==============================] - 90s 76ms/step - loss: 0.6596 - accuracy: 0.8417 - auc: 0.9919 - recall: 0.7562\n",
            "Epoch 2/42\n",
            "1035/1035 [==============================] - 78s 75ms/step - loss: 0.1153 - accuracy: 0.9709 - auc: 0.9990 - recall: 0.9611\n",
            "Epoch 3/42\n",
            "1035/1035 [==============================] - 78s 76ms/step - loss: 0.0811 - accuracy: 0.9778 - auc: 0.9994 - recall: 0.9717\n",
            "Epoch 4/42\n",
            "1035/1035 [==============================] - 78s 75ms/step - loss: 0.0620 - accuracy: 0.9825 - auc: 0.9996 - recall: 0.9777\n",
            "Epoch 5/42\n",
            "1035/1035 [==============================] - 78s 76ms/step - loss: 0.0473 - accuracy: 0.9857 - auc: 0.9997 - recall: 0.9822\n",
            "Epoch 6/42\n",
            "1035/1035 [==============================] - 78s 76ms/step - loss: 0.0437 - accuracy: 0.9868 - auc: 0.9998 - recall: 0.9840\n",
            "Epoch 7/42\n",
            "1035/1035 [==============================] - 77s 75ms/step - loss: 0.0318 - accuracy: 0.9903 - auc: 0.9998 - recall: 0.9881\n",
            "Epoch 8/42\n",
            "1035/1035 [==============================] - 78s 75ms/step - loss: 0.0333 - accuracy: 0.9901 - auc: 0.9998 - recall: 0.9878\n",
            "Epoch 9/42\n",
            "1035/1035 [==============================] - 78s 76ms/step - loss: 0.0233 - accuracy: 0.9938 - auc: 0.9998 - recall: 0.9924\n",
            "Epoch 10/42\n",
            "1035/1035 [==============================] - 78s 76ms/step - loss: 0.0259 - accuracy: 0.9926 - auc: 0.9998 - recall: 0.9908\n",
            "Epoch 11/42\n",
            "1035/1035 [==============================] - 78s 75ms/step - loss: 0.0187 - accuracy: 0.9942 - auc: 0.9999 - recall: 0.9929\n",
            "Epoch 12/42\n",
            "1035/1035 [==============================] - 78s 75ms/step - loss: 0.0212 - accuracy: 0.9934 - auc: 0.9998 - recall: 0.9926\n",
            "Epoch 13/42\n",
            "1035/1035 [==============================] - 78s 76ms/step - loss: 0.0185 - accuracy: 0.9944 - auc: 0.9998 - recall: 0.9934\n",
            "Epoch 14/42\n",
            "1035/1035 [==============================] - 79s 76ms/step - loss: 0.0150 - accuracy: 0.9955 - auc: 0.9999 - recall: 0.9947\n",
            "Epoch 15/42\n",
            "1035/1035 [==============================] - 78s 76ms/step - loss: 0.0159 - accuracy: 0.9953 - auc: 0.9998 - recall: 0.9947\n",
            "Epoch 16/42\n",
            "1035/1035 [==============================] - 78s 76ms/step - loss: 0.0118 - accuracy: 0.9964 - auc: 0.9999 - recall: 0.9960\n",
            "Epoch 17/42\n",
            "1035/1035 [==============================] - 78s 76ms/step - loss: 0.0131 - accuracy: 0.9964 - auc: 0.9998 - recall: 0.9960\n",
            "Epoch 18/42\n",
            "1035/1035 [==============================] - 78s 75ms/step - loss: 0.0104 - accuracy: 0.9973 - auc: 0.9998 - recall: 0.9969\n",
            "Epoch 19/42\n",
            "1035/1035 [==============================] - 78s 75ms/step - loss: 0.0159 - accuracy: 0.9956 - auc: 0.9998 - recall: 0.9951\n",
            "Epoch 20/42\n",
            "1035/1035 [==============================] - 78s 75ms/step - loss: 0.0107 - accuracy: 0.9970 - auc: 0.9999 - recall: 0.9964\n",
            "Epoch 21/42\n",
            "1035/1035 [==============================] - 78s 75ms/step - loss: 0.0062 - accuracy: 0.9983 - auc: 1.0000 - recall: 0.9981\n",
            "Epoch 22/42\n",
            "1035/1035 [==============================] - 78s 76ms/step - loss: 0.0098 - accuracy: 0.9972 - auc: 0.9999 - recall: 0.9966\n",
            "Epoch 23/42\n",
            "1035/1035 [==============================] - 78s 76ms/step - loss: 0.0087 - accuracy: 0.9977 - auc: 0.9998 - recall: 0.9974\n",
            "Epoch 24/42\n",
            "1035/1035 [==============================] - 79s 76ms/step - loss: 0.0108 - accuracy: 0.9969 - auc: 0.9998 - recall: 0.9967\n",
            "Epoch 25/42\n",
            "1035/1035 [==============================] - 77s 75ms/step - loss: 0.0091 - accuracy: 0.9975 - auc: 0.9999 - recall: 0.9972\n",
            "Epoch 26/42\n",
            "1035/1035 [==============================] - 77s 74ms/step - loss: 0.0058 - accuracy: 0.9984 - auc: 0.9999 - recall: 0.9982\n",
            "Epoch 27/42\n",
            "1035/1035 [==============================] - 77s 75ms/step - loss: 0.0101 - accuracy: 0.9972 - auc: 0.9998 - recall: 0.9968\n",
            "Epoch 28/42\n",
            "1035/1035 [==============================] - 77s 74ms/step - loss: 0.0090 - accuracy: 0.9974 - auc: 0.9999 - recall: 0.9971\n",
            "Epoch 29/42\n",
            "1035/1035 [==============================] - 78s 75ms/step - loss: 0.0052 - accuracy: 0.9987 - auc: 0.9999 - recall: 0.9986\n",
            "Epoch 30/42\n",
            "1035/1035 [==============================] - 78s 76ms/step - loss: 0.0052 - accuracy: 0.9984 - auc: 0.9999 - recall: 0.9983\n",
            "Epoch 31/42\n",
            "1035/1035 [==============================] - 78s 76ms/step - loss: 0.0074 - accuracy: 0.9977 - auc: 0.9999 - recall: 0.9975\n",
            "Epoch 32/42\n",
            "1035/1035 [==============================] - 78s 76ms/step - loss: 0.0073 - accuracy: 0.9981 - auc: 0.9999 - recall: 0.9978\n",
            "Epoch 33/42\n",
            "1035/1035 [==============================] - 78s 76ms/step - loss: 0.0072 - accuracy: 0.9979 - auc: 0.9999 - recall: 0.9977\n",
            "Epoch 34/42\n",
            "1035/1035 [==============================] - 78s 75ms/step - loss: 0.0067 - accuracy: 0.9982 - auc: 0.9999 - recall: 0.9979\n",
            "Epoch 35/42\n",
            "1035/1035 [==============================] - 79s 76ms/step - loss: 0.0069 - accuracy: 0.9981 - auc: 0.9999 - recall: 0.9979\n",
            "Epoch 36/42\n",
            "1035/1035 [==============================] - 78s 75ms/step - loss: 0.0065 - accuracy: 0.9982 - auc: 0.9999 - recall: 0.9981\n",
            "Epoch 37/42\n",
            "1035/1035 [==============================] - 78s 75ms/step - loss: 0.0059 - accuracy: 0.9982 - auc: 0.9999 - recall: 0.9980\n",
            "Epoch 38/42\n",
            "1035/1035 [==============================] - 79s 76ms/step - loss: 0.0038 - accuracy: 0.9989 - auc: 0.9999 - recall: 0.9988\n",
            "Epoch 39/42\n",
            "1035/1035 [==============================] - 79s 76ms/step - loss: 0.0049 - accuracy: 0.9986 - auc: 1.0000 - recall: 0.9986\n",
            "Epoch 40/42\n",
            "1035/1035 [==============================] - 79s 76ms/step - loss: 0.0052 - accuracy: 0.9988 - auc: 0.9999 - recall: 0.9985\n",
            "Epoch 41/42\n",
            "1035/1035 [==============================] - 79s 77ms/step - loss: 0.0027 - accuracy: 0.9994 - auc: 0.9999 - recall: 0.9993\n",
            "Epoch 42/42\n",
            "1035/1035 [==============================] - 79s 76ms/step - loss: 0.0061 - accuracy: 0.9980 - auc: 0.9999 - recall: 0.9979\n"
          ]
        },
        {
          "output_type": "display_data",
          "data": {
            "image/png": "[encoded data removed]",
            "text/plain": [
              "<Figure size 432x288 with 1 Axes>"
            ]
          },
          "metadata": {
            "needs_background": "light"
          }
        },
        {
          "output_type": "display_data",
          "data": {
            "image/png": "[encoded data removed]",
            "text/plain": [
              "<Figure size 432x288 with 1 Axes>"
            ]
          },
          "metadata": {
            "needs_background": "light"
          }
        }
      ]
    },
    {
      "cell_type": "code",
      "metadata": {
        "id": "3IOD0g9Zwdht",
        "colab": {
          "base_uri": "https://localhost:8080/"
        },
        "outputId": "5e3e543c-39be-4704-bbea-e4bea745b677"
      },
      "source": [
        "get_test_performance(model, X_test, test_label)"
      ],
      "execution_count": null,
      "outputs": [
        {
          "output_type": "stream",
          "name": "stdout",
          "text": [
            "117/117 [==============================] - 8s 29ms/step - loss: 0.5294 - accuracy: 0.9401 - auc: 0.9810 - recall: 0.9380\n",
            "Test loss:0.529437243938446\n",
            "Test accuracy:0.9401069283485413\n",
            "Test Recall: 0.9379678964614868\n",
            "Test AUC: 0.9810404181480408\n"
          ]
        }
      ]
    },
    {
      "cell_type": "markdown",
      "metadata": {
        "id": "qjGQsawPxWEb"
      },
      "source": [
        "# Train 90%  Dataset 2"
      ]
    },
    {
      "cell_type": "code",
      "metadata": {
        "id": "xtYtKNSoxUJo"
      },
      "source": [
        "np.random.seed(42)\n",
        "X_train = load_X('/content/drive/Shareddrives/MMH/TIFS20/Dataset #2/train/Inertial Signals')\n",
        "X_test = load_X('/content/drive/Shareddrives/MMH/TIFS20/Dataset #2/test/Inertial Signals')\n",
        "train_label = load_y('/content/drive/Shareddrives/MMH/TIFS20/Dataset #2/train/y_train.txt')\n",
        "test_label = load_y('/content/drive/Shareddrives/MMH/TIFS20/Dataset #2/test/y_test.txt')\n",
        "shape = ((X_train.shape[1], X_train.shape[2]), train_label.shape[1])\n",
        "num_classes = 20"
      ],
      "execution_count": 13,
      "outputs": []
    },
    {
      "cell_type": "code",
      "metadata": {
        "id": "tZ_--h9yxUJo",
        "colab": {
          "base_uri": "https://localhost:8080/",
          "height": 1000
        },
        "outputId": "9ab2c574-638b-4d19-e776-b2cba6729fc3"
      },
      "source": [
        "if gpu:\n",
        "    model = MLSTM_FCN((X_train.shape[1], X_train.shape[2]), train_label.shape[1])\n",
        "    history = model.fit(X_train,train_label,batch_size=32,epochs=200,verbose=1,callbacks=[tensorflow.keras.callbacks.EarlyStopping('val_loss', patience=30,restore_best_weights=True)],validation_split=0.1)\n",
        "if tpu:\n",
        "    with strategy.scope():\n",
        "        model = MLSTM_FCN((X_train.shape[1], X_train.shape[2]), train_label.shape[1])\n",
        "        history = model.fit(X_train,train_label,batch_size=8*32,epochs=200,verbose=1,callbacks=[tensorflow.keras.callbacks.EarlyStopping('val_loss', patience=30,restore_best_weights=True)],validation_split=0.1)\n",
        "\n",
        "plot_performance(X_train, train_label, history)"
      ],
      "execution_count": 14,
      "outputs": [
        {
          "output_type": "stream",
          "name": "stdout",
          "text": [
            "Model: \"model_1\"\n",
            "__________________________________________________________________________________________________\n",
            " Layer (type)                   Output Shape         Param #     Connected to                     \n",
            "==================================================================================================\n",
            " input_2 (InputLayer)           [(None, 6, 128)]     0           []                               \n",
            "                                                                                                  \n",
            " permute_1 (Permute)            (None, 128, 6)       0           ['input_2[0][0]']                \n",
            "                                                                                                  \n",
            " conv1d_3 (Conv1D)              (None, 128, 32)      1760        ['permute_1[0][0]']              \n",
            "                                                                                                  \n",
            " batch_normalization_3 (BatchNo  (None, 128, 32)     128         ['conv1d_3[0][0]']               \n",
            " rmalization)                                                                                     \n",
            "                                                                                                  \n",
            " activation_3 (Activation)      (None, 128, 32)      0           ['batch_normalization_3[0][0]']  \n",
            "                                                                                                  \n",
            " global_average_pooling1d_3 (Gl  (None, 32)          0           ['activation_3[0][0]']           \n",
            " obalAveragePooling1D)                                                                            \n",
            "                                                                                                  \n",
            " reshape_2 (Reshape)            (None, 1, 32)        0           ['global_average_pooling1d_3[0][0\n",
            "                                                                 ]']                              \n",
            "                                                                                                  \n",
            " dense_5 (Dense)                (None, 1, 2)         64          ['reshape_2[0][0]']              \n",
            "                                                                                                  \n",
            " dense_6 (Dense)                (None, 1, 32)        64          ['dense_5[0][0]']                \n",
            "                                                                                                  \n",
            " multiply_2 (Multiply)          (None, 128, 32)      0           ['activation_3[0][0]',           \n",
            "                                                                  'dense_6[0][0]']                \n",
            "                                                                                                  \n",
            " conv1d_4 (Conv1D)              (None, 128, 512)     147968      ['multiply_2[0][0]']             \n",
            "                                                                                                  \n",
            " batch_normalization_4 (BatchNo  (None, 128, 512)    2048        ['conv1d_4[0][0]']               \n",
            " rmalization)                                                                                     \n",
            "                                                                                                  \n",
            " activation_4 (Activation)      (None, 128, 512)     0           ['batch_normalization_4[0][0]']  \n",
            "                                                                                                  \n",
            " global_average_pooling1d_4 (Gl  (None, 512)         0           ['activation_4[0][0]']           \n",
            " obalAveragePooling1D)                                                                            \n",
            "                                                                                                  \n",
            " reshape_3 (Reshape)            (None, 1, 512)       0           ['global_average_pooling1d_4[0][0\n",
            "                                                                 ]']                              \n",
            "                                                                                                  \n",
            " dense_7 (Dense)                (None, 1, 32)        16384       ['reshape_3[0][0]']              \n",
            "                                                                                                  \n",
            " dense_8 (Dense)                (None, 1, 512)       16384       ['dense_7[0][0]']                \n",
            "                                                                                                  \n",
            " multiply_3 (Multiply)          (None, 128, 512)     0           ['activation_4[0][0]',           \n",
            "                                                                  'dense_8[0][0]']                \n",
            "                                                                                                  \n",
            " conv1d_5 (Conv1D)              (None, 128, 512)     2359808     ['multiply_3[0][0]']             \n",
            "                                                                                                  \n",
            " masking_1 (Masking)            (None, 6, 128)       0           ['input_2[0][0]']                \n",
            "                                                                                                  \n",
            " batch_normalization_5 (BatchNo  (None, 128, 512)    2048        ['conv1d_5[0][0]']               \n",
            " rmalization)                                                                                     \n",
            "                                                                                                  \n",
            " bidirectional_1 (Bidirectional  (None, 16)          8768        ['masking_1[0][0]']              \n",
            " )                                                                                                \n",
            "                                                                                                  \n",
            " activation_5 (Activation)      (None, 128, 512)     0           ['batch_normalization_5[0][0]']  \n",
            "                                                                                                  \n",
            " dropout_1 (Dropout)            (None, 16)           0           ['bidirectional_1[0][0]']        \n",
            "                                                                                                  \n",
            " global_average_pooling1d_5 (Gl  (None, 512)         0           ['activation_5[0][0]']           \n",
            " obalAveragePooling1D)                                                                            \n",
            "                                                                                                  \n",
            " concatenate_1 (Concatenate)    (None, 528)          0           ['dropout_1[0][0]',              \n",
            "                                                                  'global_average_pooling1d_5[0][0\n",
            "                                                                 ]']                              \n",
            "                                                                                                  \n",
            " dense_9 (Dense)                (None, 20)           10580       ['concatenate_1[0][0]']          \n",
            "                                                                                                  \n",
            "==================================================================================================\n",
            "Total params: 2,566,004\n",
            "Trainable params: 2,563,892\n",
            "Non-trainable params: 2,112\n",
            "__________________________________________________________________________________________________\n",
            "Epoch 1/200\n",
            "1248/1248 [==============================] - 90s 64ms/step - loss: 0.1620 - accuracy: 0.9576 - auc: 0.9979 - recall: 0.9418 - val_loss: 0.1415 - val_accuracy: 0.9583 - val_auc: 0.9981 - val_recall: 0.9520\n",
            "Epoch 2/200\n",
            "1248/1248 [==============================] - 76s 61ms/step - loss: 0.0445 - accuracy: 0.9882 - auc: 0.9994 - recall: 0.9859 - val_loss: 0.0591 - val_accuracy: 0.9840 - val_auc: 0.9988 - val_recall: 0.9820\n",
            "Epoch 3/200\n",
            "1248/1248 [==============================] - 75s 60ms/step - loss: 0.0326 - accuracy: 0.9909 - auc: 0.9996 - recall: 0.9893 - val_loss: 0.1259 - val_accuracy: 0.9576 - val_auc: 0.9985 - val_recall: 0.9544\n",
            "Epoch 4/200\n",
            "1248/1248 [==============================] - 76s 61ms/step - loss: 0.0248 - accuracy: 0.9929 - auc: 0.9997 - recall: 0.9914 - val_loss: 0.0957 - val_accuracy: 0.9693 - val_auc: 0.9980 - val_recall: 0.9684\n",
            "Epoch 5/200\n",
            "1248/1248 [==============================] - 77s 61ms/step - loss: 0.0205 - accuracy: 0.9939 - auc: 0.9998 - recall: 0.9928 - val_loss: 0.0359 - val_accuracy: 0.9894 - val_auc: 0.9995 - val_recall: 0.9892\n",
            "Epoch 6/200\n",
            "1248/1248 [==============================] - 77s 61ms/step - loss: 0.0161 - accuracy: 0.9952 - auc: 0.9999 - recall: 0.9944 - val_loss: 0.0300 - val_accuracy: 0.9923 - val_auc: 0.9994 - val_recall: 0.9919\n",
            "Epoch 7/200\n",
            "1248/1248 [==============================] - 76s 61ms/step - loss: 0.0147 - accuracy: 0.9955 - auc: 0.9999 - recall: 0.9947 - val_loss: 0.0206 - val_accuracy: 0.9953 - val_auc: 0.9994 - val_recall: 0.9953\n",
            "Epoch 8/200\n",
            "1248/1248 [==============================] - 75s 60ms/step - loss: 0.0137 - accuracy: 0.9953 - auc: 0.9999 - recall: 0.9946 - val_loss: 0.0176 - val_accuracy: 0.9950 - val_auc: 0.9995 - val_recall: 0.9946\n",
            "Epoch 9/200\n",
            "1248/1248 [==============================] - 77s 62ms/step - loss: 0.0129 - accuracy: 0.9962 - auc: 0.9999 - recall: 0.9955 - val_loss: 0.0181 - val_accuracy: 0.9962 - val_auc: 0.9994 - val_recall: 0.9955\n",
            "Epoch 10/200\n",
            "1248/1248 [==============================] - 76s 61ms/step - loss: 0.0082 - accuracy: 0.9974 - auc: 1.0000 - recall: 0.9970 - val_loss: 0.0229 - val_accuracy: 0.9955 - val_auc: 0.9994 - val_recall: 0.9953\n",
            "Epoch 11/200\n",
            "1248/1248 [==============================] - 76s 61ms/step - loss: 0.0091 - accuracy: 0.9973 - auc: 0.9999 - recall: 0.9968 - val_loss: 0.0184 - val_accuracy: 0.9946 - val_auc: 0.9995 - val_recall: 0.9937\n",
            "Epoch 12/200\n",
            "1248/1248 [==============================] - 76s 61ms/step - loss: 0.0076 - accuracy: 0.9978 - auc: 1.0000 - recall: 0.9973 - val_loss: 0.0182 - val_accuracy: 0.9955 - val_auc: 0.9995 - val_recall: 0.9950\n",
            "Epoch 13/200\n",
            "1248/1248 [==============================] - 76s 61ms/step - loss: 0.0075 - accuracy: 0.9976 - auc: 1.0000 - recall: 0.9971 - val_loss: 0.0296 - val_accuracy: 0.9939 - val_auc: 0.9992 - val_recall: 0.9930\n",
            "Epoch 14/200\n",
            "1248/1248 [==============================] - 76s 61ms/step - loss: 0.0053 - accuracy: 0.9983 - auc: 1.0000 - recall: 0.9979 - val_loss: 0.0154 - val_accuracy: 0.9964 - val_auc: 0.9997 - val_recall: 0.9962\n",
            "Epoch 15/200\n",
            "1248/1248 [==============================] - 75s 60ms/step - loss: 0.0063 - accuracy: 0.9982 - auc: 0.9999 - recall: 0.9977 - val_loss: 0.0188 - val_accuracy: 0.9959 - val_auc: 0.9993 - val_recall: 0.9955\n",
            "Epoch 16/200\n",
            "1248/1248 [==============================] - 75s 60ms/step - loss: 0.0065 - accuracy: 0.9980 - auc: 0.9999 - recall: 0.9978 - val_loss: 0.0158 - val_accuracy: 0.9966 - val_auc: 0.9993 - val_recall: 0.9959\n",
            "Epoch 17/200\n",
            "1248/1248 [==============================] - 76s 61ms/step - loss: 0.0057 - accuracy: 0.9982 - auc: 1.0000 - recall: 0.9980 - val_loss: 0.0258 - val_accuracy: 0.9957 - val_auc: 0.9991 - val_recall: 0.9953\n",
            "Epoch 18/200\n",
            "1248/1248 [==============================] - 76s 61ms/step - loss: 0.0045 - accuracy: 0.9987 - auc: 0.9999 - recall: 0.9985 - val_loss: 0.0214 - val_accuracy: 0.9957 - val_auc: 0.9993 - val_recall: 0.9955\n",
            "Epoch 19/200\n",
            "1248/1248 [==============================] - 75s 60ms/step - loss: 0.0034 - accuracy: 0.9989 - auc: 1.0000 - recall: 0.9988 - val_loss: 0.0161 - val_accuracy: 0.9971 - val_auc: 0.9994 - val_recall: 0.9962\n",
            "Epoch 20/200\n",
            "1248/1248 [==============================] - 75s 60ms/step - loss: 0.0044 - accuracy: 0.9987 - auc: 1.0000 - recall: 0.9984 - val_loss: 0.0201 - val_accuracy: 0.9962 - val_auc: 0.9992 - val_recall: 0.9959\n",
            "Epoch 21/200\n",
            "1248/1248 [==============================] - 76s 61ms/step - loss: 0.0044 - accuracy: 0.9986 - auc: 1.0000 - recall: 0.9984 - val_loss: 0.0269 - val_accuracy: 0.9946 - val_auc: 0.9991 - val_recall: 0.9937\n",
            "Epoch 22/200\n",
            "1248/1248 [==============================] - 75s 60ms/step - loss: 0.0033 - accuracy: 0.9990 - auc: 0.9999 - recall: 0.9989 - val_loss: 0.0229 - val_accuracy: 0.9955 - val_auc: 0.9991 - val_recall: 0.9953\n",
            "Epoch 23/200\n",
            "1248/1248 [==============================] - 76s 61ms/step - loss: 0.0058 - accuracy: 0.9983 - auc: 0.9999 - recall: 0.9981 - val_loss: 0.0167 - val_accuracy: 0.9966 - val_auc: 0.9994 - val_recall: 0.9964\n",
            "Epoch 24/200\n",
            "1248/1248 [==============================] - 76s 61ms/step - loss: 0.0022 - accuracy: 0.9994 - auc: 1.0000 - recall: 0.9993 - val_loss: 0.0194 - val_accuracy: 0.9964 - val_auc: 0.9993 - val_recall: 0.9962\n",
            "Epoch 25/200\n",
            "1248/1248 [==============================] - 76s 61ms/step - loss: 0.0038 - accuracy: 0.9989 - auc: 1.0000 - recall: 0.9987 - val_loss: 0.0204 - val_accuracy: 0.9962 - val_auc: 0.9993 - val_recall: 0.9959\n",
            "Epoch 26/200\n",
            "1248/1248 [==============================] - 75s 60ms/step - loss: 0.0033 - accuracy: 0.9990 - auc: 1.0000 - recall: 0.9988 - val_loss: 0.0154 - val_accuracy: 0.9964 - val_auc: 0.9994 - val_recall: 0.9964\n",
            "Epoch 27/200\n",
            "1248/1248 [==============================] - 76s 61ms/step - loss: 0.0018 - accuracy: 0.9996 - auc: 1.0000 - recall: 0.9995 - val_loss: 0.0183 - val_accuracy: 0.9964 - val_auc: 0.9993 - val_recall: 0.9964\n",
            "Epoch 28/200\n",
            "1248/1248 [==============================] - 77s 62ms/step - loss: 0.0047 - accuracy: 0.9986 - auc: 0.9999 - recall: 0.9985 - val_loss: 0.0173 - val_accuracy: 0.9966 - val_auc: 0.9992 - val_recall: 0.9962\n",
            "Epoch 29/200\n",
            "1248/1248 [==============================] - 76s 61ms/step - loss: 0.0019 - accuracy: 0.9996 - auc: 1.0000 - recall: 0.9995 - val_loss: 0.0244 - val_accuracy: 0.9953 - val_auc: 0.9991 - val_recall: 0.9946\n",
            "Epoch 30/200\n",
            "1248/1248 [==============================] - 76s 61ms/step - loss: 0.0023 - accuracy: 0.9994 - auc: 1.0000 - recall: 0.9992 - val_loss: 0.0194 - val_accuracy: 0.9966 - val_auc: 0.9993 - val_recall: 0.9962\n",
            "Epoch 31/200\n",
            "1248/1248 [==============================] - 76s 61ms/step - loss: 0.0028 - accuracy: 0.9992 - auc: 1.0000 - recall: 0.9991 - val_loss: 0.0185 - val_accuracy: 0.9966 - val_auc: 0.9992 - val_recall: 0.9966\n",
            "Epoch 32/200\n",
            "1248/1248 [==============================] - 77s 61ms/step - loss: 0.0034 - accuracy: 0.9990 - auc: 0.9999 - recall: 0.9989 - val_loss: 0.0184 - val_accuracy: 0.9968 - val_auc: 0.9993 - val_recall: 0.9966\n",
            "Epoch 33/200\n",
            "1248/1248 [==============================] - 78s 62ms/step - loss: 0.0014 - accuracy: 0.9996 - auc: 1.0000 - recall: 0.9994 - val_loss: 0.0183 - val_accuracy: 0.9971 - val_auc: 0.9991 - val_recall: 0.9971\n",
            "Epoch 34/200\n",
            "1248/1248 [==============================] - 77s 62ms/step - loss: 0.0034 - accuracy: 0.9991 - auc: 0.9999 - recall: 0.9990 - val_loss: 0.0211 - val_accuracy: 0.9966 - val_auc: 0.9989 - val_recall: 0.9966\n",
            "Epoch 35/200\n",
            "1248/1248 [==============================] - 77s 62ms/step - loss: 0.0017 - accuracy: 0.9995 - auc: 1.0000 - recall: 0.9995 - val_loss: 0.0248 - val_accuracy: 0.9966 - val_auc: 0.9989 - val_recall: 0.9966\n",
            "Epoch 36/200\n",
            "1248/1248 [==============================] - 77s 62ms/step - loss: 0.0023 - accuracy: 0.9994 - auc: 1.0000 - recall: 0.9993 - val_loss: 0.0164 - val_accuracy: 0.9968 - val_auc: 0.9992 - val_recall: 0.9962\n",
            "Epoch 37/200\n",
            "1248/1248 [==============================] - 77s 62ms/step - loss: 0.0015 - accuracy: 0.9996 - auc: 1.0000 - recall: 0.9996 - val_loss: 0.0335 - val_accuracy: 0.9953 - val_auc: 0.9987 - val_recall: 0.9950\n",
            "Epoch 38/200\n",
            "1248/1248 [==============================] - 76s 61ms/step - loss: 0.0029 - accuracy: 0.9990 - auc: 1.0000 - recall: 0.9988 - val_loss: 0.0254 - val_accuracy: 0.9968 - val_auc: 0.9990 - val_recall: 0.9966\n",
            "Epoch 39/200\n",
            "1248/1248 [==============================] - 77s 61ms/step - loss: 0.0021 - accuracy: 0.9994 - auc: 1.0000 - recall: 0.9994 - val_loss: 0.0284 - val_accuracy: 0.9968 - val_auc: 0.9990 - val_recall: 0.9968\n",
            "Epoch 40/200\n",
            "1248/1248 [==============================] - 76s 61ms/step - loss: 0.0017 - accuracy: 0.9995 - auc: 1.0000 - recall: 0.9994 - val_loss: 0.0246 - val_accuracy: 0.9962 - val_auc: 0.9992 - val_recall: 0.9959\n",
            "Epoch 41/200\n",
            "1248/1248 [==============================] - 77s 62ms/step - loss: 0.0027 - accuracy: 0.9993 - auc: 1.0000 - recall: 0.9992 - val_loss: 0.0221 - val_accuracy: 0.9968 - val_auc: 0.9990 - val_recall: 0.9968\n",
            "Epoch 42/200\n",
            "1248/1248 [==============================] - 76s 61ms/step - loss: 6.2074e-04 - accuracy: 0.9999 - auc: 1.0000 - recall: 0.9998 - val_loss: 0.0232 - val_accuracy: 0.9968 - val_auc: 0.9990 - val_recall: 0.9964\n",
            "Epoch 43/200\n",
            "1248/1248 [==============================] - 77s 62ms/step - loss: 0.0021 - accuracy: 0.9994 - auc: 0.9999 - recall: 0.9994 - val_loss: 0.0340 - val_accuracy: 0.9948 - val_auc: 0.9986 - val_recall: 0.9946\n",
            "Epoch 44/200\n",
            "1248/1248 [==============================] - 77s 61ms/step - loss: 0.0016 - accuracy: 0.9996 - auc: 1.0000 - recall: 0.9996 - val_loss: 0.0290 - val_accuracy: 0.9959 - val_auc: 0.9989 - val_recall: 0.9959\n"
          ]
        },
        {
          "output_type": "display_data",
          "data": {
            "image/png": "[encoded data removed]",
            "text/plain": [
              "<Figure size 432x288 with 1 Axes>"
            ]
          },
          "metadata": {
            "needs_background": "light"
          }
        },
        {
          "output_type": "display_data",
          "data": {
            "image/png": "[encoded data removed]",
            "text/plain": [
              "<Figure size 432x288 with 1 Axes>"
            ]
          },
          "metadata": {
            "needs_background": "light"
          }
        }
      ]
    },
    {
      "cell_type": "code",
      "metadata": {
        "id": "XFae3hAAxUJp",
        "colab": {
          "base_uri": "https://localhost:8080/"
        },
        "outputId": "b50b9f63-2926-4427-aa9c-9400271cd5d1"
      },
      "source": [
        "get_test_performance(model, X_test, test_label)"
      ],
      "execution_count": 15,
      "outputs": [
        {
          "output_type": "stream",
          "name": "stdout",
          "text": [
            "155/155 [==============================] - 3s 22ms/step - loss: 0.1649 - accuracy: 0.9751 - auc: 0.9910 - recall: 0.9749\n",
            "Test loss:0.16491949558258057\n",
            "Test accuracy:0.9750810265541077\n",
            "Test Recall: 0.9748784303665161\n",
            "Test AUC: 0.9909706115722656\n"
          ]
        }
      ]
    },
    {
      "cell_type": "markdown",
      "metadata": {
        "id": "oVk3TBGOyCnT"
      },
      "source": [
        "# Train Full Manually Dataset 2"
      ]
    },
    {
      "cell_type": "code",
      "metadata": {
        "id": "IlreItAfyCnT",
        "colab": {
          "base_uri": "https://localhost:8080/",
          "height": 1000
        },
        "outputId": "955f9b61-8ab5-4a1f-ff2d-7ecce626411d"
      },
      "source": [
        "#change\n",
        "epochs = 41\n",
        "if gpu:\n",
        "    model = MLSTM_FCN((X_train.shape[1], X_train.shape[2]), train_label.shape[1])\n",
        "    history = model.fit(X_train,train_label,batch_size=32,epochs=epochs,verbose=1)\n",
        "if tpu:\n",
        "    with strategy.scope():\n",
        "        model = MLSTM_FCN((X_train.shape[1], X_train.shape[2]), train_label.shape[1])\n",
        "        history = model.fit(X_train,train_label,batch_size=8*32,epochs=epochs,verbose=1)\n",
        "\n",
        "plot_performance(X_train, train_label, history)"
      ],
      "execution_count": null,
      "outputs": [
        {
          "output_type": "stream",
          "name": "stdout",
          "text": [
            "Model: \"model_3\"\n",
            "__________________________________________________________________________________________________\n",
            " Layer (type)                   Output Shape         Param #     Connected to                     \n",
            "==================================================================================================\n",
            " input_11 (InputLayer)          [(None, 6, 128)]     0           []                               \n",
            "                                                                                                  \n",
            " permute_4 (Permute)            (None, 128, 6)       0           ['input_11[0][0]']               \n",
            "                                                                                                  \n",
            " conv1d_12 (Conv1D)             (None, 128, 512)     28160       ['permute_4[0][0]']              \n",
            "                                                                                                  \n",
            " batch_normalization_12 (BatchN  (None, 128, 512)    2048        ['conv1d_12[0][0]']              \n",
            " ormalization)                                                                                    \n",
            "                                                                                                  \n",
            " activation_12 (Activation)     (None, 128, 512)     0           ['batch_normalization_12[0][0]'] \n",
            "                                                                                                  \n",
            " global_average_pooling1d_12 (G  (None, 512)         0           ['activation_12[0][0]']          \n",
            " lobalAveragePooling1D)                                                                           \n",
            "                                                                                                  \n",
            " reshape_8 (Reshape)            (None, 1, 512)       0           ['global_average_pooling1d_12[0][\n",
            "                                                                 0]']                             \n",
            "                                                                                                  \n",
            " dense_19 (Dense)               (None, 1, 32)        16384       ['reshape_8[0][0]']              \n",
            "                                                                                                  \n",
            " dense_20 (Dense)               (None, 1, 512)       16384       ['dense_19[0][0]']               \n",
            "                                                                                                  \n",
            " multiply_8 (Multiply)          (None, 128, 512)     0           ['activation_12[0][0]',          \n",
            "                                                                  'dense_20[0][0]']               \n",
            "                                                                                                  \n",
            " conv1d_13 (Conv1D)             (None, 128, 512)     786944      ['multiply_8[0][0]']             \n",
            "                                                                                                  \n",
            " batch_normalization_13 (BatchN  (None, 128, 512)    2048        ['conv1d_13[0][0]']              \n",
            " ormalization)                                                                                    \n",
            "                                                                                                  \n",
            " activation_13 (Activation)     (None, 128, 512)     0           ['batch_normalization_13[0][0]'] \n",
            "                                                                                                  \n",
            " global_average_pooling1d_13 (G  (None, 512)         0           ['activation_13[0][0]']          \n",
            " lobalAveragePooling1D)                                                                           \n",
            "                                                                                                  \n",
            " reshape_9 (Reshape)            (None, 1, 512)       0           ['global_average_pooling1d_13[0][\n",
            "                                                                 0]']                             \n",
            "                                                                                                  \n",
            " dense_21 (Dense)               (None, 1, 32)        16384       ['reshape_9[0][0]']              \n",
            "                                                                                                  \n",
            " dense_22 (Dense)               (None, 1, 512)       16384       ['dense_21[0][0]']               \n",
            "                                                                                                  \n",
            " multiply_9 (Multiply)          (None, 128, 512)     0           ['activation_13[0][0]',          \n",
            "                                                                  'dense_22[0][0]']               \n",
            "                                                                                                  \n",
            " conv1d_14 (Conv1D)             (None, 128, 512)     2359808     ['multiply_9[0][0]']             \n",
            "                                                                                                  \n",
            " masking_10 (Masking)           (None, 6, 128)       0           ['input_11[0][0]']               \n",
            "                                                                                                  \n",
            " batch_normalization_14 (BatchN  (None, 128, 512)    2048        ['conv1d_14[0][0]']              \n",
            " ormalization)                                                                                    \n",
            "                                                                                                  \n",
            " bidirectional_9 (Bidirectional  (None, 16)          8768        ['masking_10[0][0]']             \n",
            " )                                                                                                \n",
            "                                                                                                  \n",
            " activation_14 (Activation)     (None, 128, 512)     0           ['batch_normalization_14[0][0]'] \n",
            "                                                                                                  \n",
            " dropout_8 (Dropout)            (None, 16)           0           ['bidirectional_9[0][0]']        \n",
            "                                                                                                  \n",
            " global_average_pooling1d_14 (G  (None, 512)         0           ['activation_14[0][0]']          \n",
            " lobalAveragePooling1D)                                                                           \n",
            "                                                                                                  \n",
            " concatenate_4 (Concatenate)    (None, 528)          0           ['dropout_8[0][0]',              \n",
            "                                                                  'global_average_pooling1d_14[0][\n",
            "                                                                 0]']                             \n",
            "                                                                                                  \n",
            " dense_23 (Dense)               (None, 20)           10580       ['concatenate_4[0][0]']          \n",
            "                                                                                                  \n",
            "==================================================================================================\n",
            "Total params: 3,265,940\n",
            "Trainable params: 3,262,868\n",
            "Non-trainable params: 3,072\n",
            "__________________________________________________________________________________________________\n",
            "Epoch 1/41\n",
            "1386/1386 [==============================] - 121s 78ms/step - loss: 0.1435 - accuracy: 0.9615 - auc: 0.9982 - recall: 0.9476\n",
            "Epoch 2/41\n",
            "1386/1386 [==============================] - 107s 77ms/step - loss: 0.0378 - accuracy: 0.9895 - auc: 0.9996 - recall: 0.9871\n",
            "Epoch 3/41\n",
            "1386/1386 [==============================] - 107s 78ms/step - loss: 0.0286 - accuracy: 0.9917 - auc: 0.9997 - recall: 0.9906\n",
            "Epoch 4/41\n",
            "1386/1386 [==============================] - 108s 78ms/step - loss: 0.0244 - accuracy: 0.9927 - auc: 0.9997 - recall: 0.9914\n",
            "Epoch 5/41\n",
            "1386/1386 [==============================] - 105s 76ms/step - loss: 0.0187 - accuracy: 0.9943 - auc: 0.9999 - recall: 0.9932\n",
            "Epoch 6/41\n",
            "1386/1386 [==============================] - 104s 75ms/step - loss: 0.0167 - accuracy: 0.9948 - auc: 0.9998 - recall: 0.9939\n",
            "Epoch 7/41\n",
            "1386/1386 [==============================] - 105s 76ms/step - loss: 0.0126 - accuracy: 0.9963 - auc: 0.9999 - recall: 0.9954\n",
            "Epoch 8/41\n",
            "1386/1386 [==============================] - 105s 76ms/step - loss: 0.0113 - accuracy: 0.9969 - auc: 0.9999 - recall: 0.9962\n",
            "Epoch 9/41\n",
            "1386/1386 [==============================] - 104s 75ms/step - loss: 0.0114 - accuracy: 0.9967 - auc: 0.9999 - recall: 0.9959\n",
            "Epoch 10/41\n",
            "1386/1386 [==============================] - 104s 75ms/step - loss: 0.0092 - accuracy: 0.9974 - auc: 0.9999 - recall: 0.9968\n",
            "Epoch 11/41\n",
            "1386/1386 [==============================] - 103s 74ms/step - loss: 0.0096 - accuracy: 0.9970 - auc: 0.9999 - recall: 0.9966\n",
            "Epoch 12/41\n",
            "1386/1386 [==============================] - 103s 75ms/step - loss: 0.0071 - accuracy: 0.9977 - auc: 0.9999 - recall: 0.9974\n",
            "Epoch 13/41\n",
            "1386/1386 [==============================] - 103s 74ms/step - loss: 0.0074 - accuracy: 0.9977 - auc: 0.9999 - recall: 0.9973\n",
            "Epoch 14/41\n",
            "1386/1386 [==============================] - 104s 75ms/step - loss: 0.0071 - accuracy: 0.9977 - auc: 0.9999 - recall: 0.9974\n",
            "Epoch 15/41\n",
            "1386/1386 [==============================] - 104s 75ms/step - loss: 0.0060 - accuracy: 0.9982 - auc: 0.9999 - recall: 0.9980\n",
            "Epoch 16/41\n",
            "1386/1386 [==============================] - 104s 75ms/step - loss: 0.0062 - accuracy: 0.9983 - auc: 0.9999 - recall: 0.9981\n",
            "Epoch 17/41\n",
            "1386/1386 [==============================] - 103s 75ms/step - loss: 0.0056 - accuracy: 0.9983 - auc: 0.9999 - recall: 0.9982\n",
            "Epoch 18/41\n",
            "1386/1386 [==============================] - 103s 75ms/step - loss: 0.0041 - accuracy: 0.9986 - auc: 1.0000 - recall: 0.9984\n",
            "Epoch 19/41\n",
            "1386/1386 [==============================] - 103s 75ms/step - loss: 0.0058 - accuracy: 0.9983 - auc: 0.9999 - recall: 0.9980\n",
            "Epoch 20/41\n",
            "1386/1386 [==============================] - 103s 74ms/step - loss: 0.0046 - accuracy: 0.9988 - auc: 0.9999 - recall: 0.9984\n",
            "Epoch 21/41\n",
            "1386/1386 [==============================] - 102s 73ms/step - loss: 0.0048 - accuracy: 0.9987 - auc: 0.9999 - recall: 0.9985\n",
            "Epoch 22/41\n",
            "1386/1386 [==============================] - 104s 75ms/step - loss: 0.0045 - accuracy: 0.9989 - auc: 0.9999 - recall: 0.9988\n",
            "Epoch 23/41\n",
            "1386/1386 [==============================] - 105s 76ms/step - loss: 0.0040 - accuracy: 0.9988 - auc: 0.9999 - recall: 0.9987\n",
            "Epoch 24/41\n",
            "1386/1386 [==============================] - 104s 75ms/step - loss: 0.0034 - accuracy: 0.9990 - auc: 1.0000 - recall: 0.9988\n",
            "Epoch 25/41\n",
            "1386/1386 [==============================] - 103s 74ms/step - loss: 0.0042 - accuracy: 0.9989 - auc: 0.9999 - recall: 0.9987\n",
            "Epoch 26/41\n",
            "1386/1386 [==============================] - 104s 75ms/step - loss: 0.0029 - accuracy: 0.9991 - auc: 1.0000 - recall: 0.9989\n",
            "Epoch 27/41\n",
            "1386/1386 [==============================] - 104s 75ms/step - loss: 0.0024 - accuracy: 0.9992 - auc: 1.0000 - recall: 0.9991\n",
            "Epoch 28/41\n",
            "1386/1386 [==============================] - 103s 74ms/step - loss: 0.0038 - accuracy: 0.9991 - auc: 0.9999 - recall: 0.9989\n",
            "Epoch 29/41\n",
            "1386/1386 [==============================] - 103s 74ms/step - loss: 0.0029 - accuracy: 0.9993 - auc: 1.0000 - recall: 0.9992\n",
            "Epoch 30/41\n",
            "1386/1386 [==============================] - 103s 74ms/step - loss: 0.0016 - accuracy: 0.9995 - auc: 1.0000 - recall: 0.9993\n",
            "Epoch 31/41\n",
            "1386/1386 [==============================] - 103s 75ms/step - loss: 0.0038 - accuracy: 0.9990 - auc: 0.9999 - recall: 0.9988\n",
            "Epoch 32/41\n",
            "1386/1386 [==============================] - 103s 75ms/step - loss: 0.0039 - accuracy: 0.9988 - auc: 1.0000 - recall: 0.9987\n",
            "Epoch 33/41\n",
            "1386/1386 [==============================] - 103s 74ms/step - loss: 0.0012 - accuracy: 0.9996 - auc: 1.0000 - recall: 0.9995\n",
            "Epoch 34/41\n",
            "1386/1386 [==============================] - 103s 75ms/step - loss: 0.0027 - accuracy: 0.9993 - auc: 0.9999 - recall: 0.9991\n",
            "Epoch 35/41\n",
            "1386/1386 [==============================] - 103s 75ms/step - loss: 0.0024 - accuracy: 0.9993 - auc: 1.0000 - recall: 0.9992\n",
            "Epoch 36/41\n",
            "1386/1386 [==============================] - 103s 74ms/step - loss: 0.0020 - accuracy: 0.9995 - auc: 1.0000 - recall: 0.9994\n",
            "Epoch 37/41\n",
            "1386/1386 [==============================] - 103s 75ms/step - loss: 0.0025 - accuracy: 0.9992 - auc: 1.0000 - recall: 0.9991\n",
            "Epoch 38/41\n",
            "1386/1386 [==============================] - 103s 74ms/step - loss: 0.0034 - accuracy: 0.9993 - auc: 0.9999 - recall: 0.9991\n",
            "Epoch 39/41\n",
            "1386/1386 [==============================] - 105s 75ms/step - loss: 0.0020 - accuracy: 0.9993 - auc: 1.0000 - recall: 0.9992\n",
            "Epoch 40/41\n",
            "1386/1386 [==============================] - 104s 75ms/step - loss: 0.0019 - accuracy: 0.9995 - auc: 1.0000 - recall: 0.9994\n",
            "Epoch 41/41\n",
            "1386/1386 [==============================] - 104s 75ms/step - loss: 0.0011 - accuracy: 0.9997 - auc: 1.0000 - recall: 0.9997\n"
          ]
        },
        {
          "output_type": "display_data",
          "data": {
            "image/png": "[encoded data removed]",
            "text/plain": [
              "<Figure size 432x288 with 1 Axes>"
            ]
          },
          "metadata": {
            "needs_background": "light"
          }
        },
        {
          "output_type": "display_data",
          "data": {
            "image/png": "[encoded data removed]",
            "text/plain": [
              "<Figure size 432x288 with 1 Axes>"
            ]
          },
          "metadata": {
            "needs_background": "light"
          }
        }
      ]
    },
    {
      "cell_type": "code",
      "metadata": {
        "id": "0m176YZ6yCnT",
        "colab": {
          "base_uri": "https://localhost:8080/"
        },
        "outputId": "3f99ea3f-45a5-45c0-aca8-d92b64f812ca"
      },
      "source": [
        "get_test_performance(model, X_test, test_label)"
      ],
      "execution_count": null,
      "outputs": [
        {
          "output_type": "stream",
          "name": "stdout",
          "text": [
            "155/155 [==============================] - 7s 25ms/step - loss: 0.1690 - accuracy: 0.9718 - auc: 0.9909 - recall: 0.9710\n",
            "Test loss:0.16903646290302277\n",
            "Test accuracy:0.9718395471572876\n",
            "Test Recall: 0.9710291624069214\n",
            "Test AUC: 0.990882933139801\n"
          ]
        }
      ]
    },
    {
      "cell_type": "markdown",
      "metadata": {
        "id": "nTR0FW2qzglG"
      },
      "source": [
        "# Train 90%  Dataset OU-ISIR"
      ]
    },
    {
      "cell_type": "code",
      "metadata": {
        "id": "SWT3WdxlzglG",
        "colab": {
          "base_uri": "https://localhost:8080/"
        },
        "outputId": "be4c8b42-6cd2-4ed3-cb08-c7f4cf601ef6"
      },
      "source": [
        "num_classes = 745\n",
        "np.random.seed(42)\n",
        "X_train = load_X('/content/drive/Shareddrives/MMH/TIFS20/OU-ISIR_sensors_dataset/identification/data/train/data')\n",
        "X_test = load_X('/content/drive/Shareddrives/MMH/TIFS20/OU-ISIR_sensors_dataset/identification/data/test/data')\n",
        "train_label = load_y('/content/drive/Shareddrives/MMH/TIFS20/OU-ISIR_sensors_dataset/identification/data/train/train_y.txt')\n",
        "test_label = load_y('/content/drive/Shareddrives/MMH/TIFS20/OU-ISIR_sensors_dataset/identification/data/test/test_y.txt')\n",
        "print(f'{X_train.shape} {X_test.shape}')\n",
        "model = MLSTM_FCN((X_train.shape[1], X_train.shape[2]), train_label.shape[1])"
      ],
      "execution_count": 16,
      "outputs": [
        {
          "output_type": "stream",
          "name": "stdout",
          "text": [
            "(13212, 6, 128, 1) (1409, 6, 128, 1)\n",
            "Model: \"model_2\"\n",
            "__________________________________________________________________________________________________\n",
            " Layer (type)                   Output Shape         Param #     Connected to                     \n",
            "==================================================================================================\n",
            " input_3 (InputLayer)           [(None, 6, 128)]     0           []                               \n",
            "                                                                                                  \n",
            " permute_2 (Permute)            (None, 128, 6)       0           ['input_3[0][0]']                \n",
            "                                                                                                  \n",
            " conv1d_6 (Conv1D)              (None, 128, 32)      1760        ['permute_2[0][0]']              \n",
            "                                                                                                  \n",
            " batch_normalization_6 (BatchNo  (None, 128, 32)     128         ['conv1d_6[0][0]']               \n",
            " rmalization)                                                                                     \n",
            "                                                                                                  \n",
            " activation_6 (Activation)      (None, 128, 32)      0           ['batch_normalization_6[0][0]']  \n",
            "                                                                                                  \n",
            " global_average_pooling1d_6 (Gl  (None, 32)          0           ['activation_6[0][0]']           \n",
            " obalAveragePooling1D)                                                                            \n",
            "                                                                                                  \n",
            " reshape_4 (Reshape)            (None, 1, 32)        0           ['global_average_pooling1d_6[0][0\n",
            "                                                                 ]']                              \n",
            "                                                                                                  \n",
            " dense_10 (Dense)               (None, 1, 2)         64          ['reshape_4[0][0]']              \n",
            "                                                                                                  \n",
            " dense_11 (Dense)               (None, 1, 32)        64          ['dense_10[0][0]']               \n",
            "                                                                                                  \n",
            " multiply_4 (Multiply)          (None, 128, 32)      0           ['activation_6[0][0]',           \n",
            "                                                                  'dense_11[0][0]']               \n",
            "                                                                                                  \n",
            " conv1d_7 (Conv1D)              (None, 128, 512)     147968      ['multiply_4[0][0]']             \n",
            "                                                                                                  \n",
            " batch_normalization_7 (BatchNo  (None, 128, 512)    2048        ['conv1d_7[0][0]']               \n",
            " rmalization)                                                                                     \n",
            "                                                                                                  \n",
            " activation_7 (Activation)      (None, 128, 512)     0           ['batch_normalization_7[0][0]']  \n",
            "                                                                                                  \n",
            " global_average_pooling1d_7 (Gl  (None, 512)         0           ['activation_7[0][0]']           \n",
            " obalAveragePooling1D)                                                                            \n",
            "                                                                                                  \n",
            " reshape_5 (Reshape)            (None, 1, 512)       0           ['global_average_pooling1d_7[0][0\n",
            "                                                                 ]']                              \n",
            "                                                                                                  \n",
            " dense_12 (Dense)               (None, 1, 32)        16384       ['reshape_5[0][0]']              \n",
            "                                                                                                  \n",
            " dense_13 (Dense)               (None, 1, 512)       16384       ['dense_12[0][0]']               \n",
            "                                                                                                  \n",
            " multiply_5 (Multiply)          (None, 128, 512)     0           ['activation_7[0][0]',           \n",
            "                                                                  'dense_13[0][0]']               \n",
            "                                                                                                  \n",
            " conv1d_8 (Conv1D)              (None, 128, 512)     2359808     ['multiply_5[0][0]']             \n",
            "                                                                                                  \n",
            " masking_2 (Masking)            (None, 6, 128)       0           ['input_3[0][0]']                \n",
            "                                                                                                  \n",
            " batch_normalization_8 (BatchNo  (None, 128, 512)    2048        ['conv1d_8[0][0]']               \n",
            " rmalization)                                                                                     \n",
            "                                                                                                  \n",
            " bidirectional_2 (Bidirectional  (None, 16)          8768        ['masking_2[0][0]']              \n",
            " )                                                                                                \n",
            "                                                                                                  \n",
            " activation_8 (Activation)      (None, 128, 512)     0           ['batch_normalization_8[0][0]']  \n",
            "                                                                                                  \n",
            " dropout_2 (Dropout)            (None, 16)           0           ['bidirectional_2[0][0]']        \n",
            "                                                                                                  \n",
            " global_average_pooling1d_8 (Gl  (None, 512)         0           ['activation_8[0][0]']           \n",
            " obalAveragePooling1D)                                                                            \n",
            "                                                                                                  \n",
            " concatenate_2 (Concatenate)    (None, 528)          0           ['dropout_2[0][0]',              \n",
            "                                                                  'global_average_pooling1d_8[0][0\n",
            "                                                                 ]']                              \n",
            "                                                                                                  \n",
            " dense_14 (Dense)               (None, 745)          394105      ['concatenate_2[0][0]']          \n",
            "                                                                                                  \n",
            "==================================================================================================\n",
            "Total params: 2,949,529\n",
            "Trainable params: 2,947,417\n",
            "Non-trainable params: 2,112\n",
            "__________________________________________________________________________________________________\n"
          ]
        }
      ]
    },
    {
      "cell_type": "code",
      "metadata": {
        "id": "EKQFT9GIzglH",
        "colab": {
          "base_uri": "https://localhost:8080/",
          "height": 1000
        },
        "outputId": "99d10d9d-a419-4a53-b766-f9dd87edcdac"
      },
      "source": [
        "if gpu:\n",
        "    model = MLSTM_FCN((X_train.shape[1], X_train.shape[2]), train_label.shape[1])\n",
        "    history = model.fit(X_train,train_label,batch_size=32,epochs=200,verbose=1,callbacks=[tensorflow.keras.callbacks.EarlyStopping('val_loss', patience=30,restore_best_weights=True)],validation_split=0.1)\n",
        "if tpu:\n",
        "    with strategy.scope():\n",
        "        model = MLSTM_FCN((X_train.shape[1], X_train.shape[2]), train_label.shape[1])\n",
        "        history = model.fit(X_train,train_label,batch_size=8*32,epochs=200,verbose=1,callbacks=[tensorflow.keras.callbacks.EarlyStopping('val_loss', patience=30,restore_best_weights=True)],validation_split=0.1)\n",
        "\n",
        "plot_performance(X_train, train_label, history)"
      ],
      "execution_count": 17,
      "outputs": [
        {
          "output_type": "stream",
          "name": "stdout",
          "text": [
            "Model: \"model_3\"\n",
            "__________________________________________________________________________________________________\n",
            " Layer (type)                   Output Shape         Param #     Connected to                     \n",
            "==================================================================================================\n",
            " input_4 (InputLayer)           [(None, 6, 128)]     0           []                               \n",
            "                                                                                                  \n",
            " permute_3 (Permute)            (None, 128, 6)       0           ['input_4[0][0]']                \n",
            "                                                                                                  \n",
            " conv1d_9 (Conv1D)              (None, 128, 32)      1760        ['permute_3[0][0]']              \n",
            "                                                                                                  \n",
            " batch_normalization_9 (BatchNo  (None, 128, 32)     128         ['conv1d_9[0][0]']               \n",
            " rmalization)                                                                                     \n",
            "                                                                                                  \n",
            " activation_9 (Activation)      (None, 128, 32)      0           ['batch_normalization_9[0][0]']  \n",
            "                                                                                                  \n",
            " global_average_pooling1d_9 (Gl  (None, 32)          0           ['activation_9[0][0]']           \n",
            " obalAveragePooling1D)                                                                            \n",
            "                                                                                                  \n",
            " reshape_6 (Reshape)            (None, 1, 32)        0           ['global_average_pooling1d_9[0][0\n",
            "                                                                 ]']                              \n",
            "                                                                                                  \n",
            " dense_15 (Dense)               (None, 1, 2)         64          ['reshape_6[0][0]']              \n",
            "                                                                                                  \n",
            " dense_16 (Dense)               (None, 1, 32)        64          ['dense_15[0][0]']               \n",
            "                                                                                                  \n",
            " multiply_6 (Multiply)          (None, 128, 32)      0           ['activation_9[0][0]',           \n",
            "                                                                  'dense_16[0][0]']               \n",
            "                                                                                                  \n",
            " conv1d_10 (Conv1D)             (None, 128, 512)     147968      ['multiply_6[0][0]']             \n",
            "                                                                                                  \n",
            " batch_normalization_10 (BatchN  (None, 128, 512)    2048        ['conv1d_10[0][0]']              \n",
            " ormalization)                                                                                    \n",
            "                                                                                                  \n",
            " activation_10 (Activation)     (None, 128, 512)     0           ['batch_normalization_10[0][0]'] \n",
            "                                                                                                  \n",
            " global_average_pooling1d_10 (G  (None, 512)         0           ['activation_10[0][0]']          \n",
            " lobalAveragePooling1D)                                                                           \n",
            "                                                                                                  \n",
            " reshape_7 (Reshape)            (None, 1, 512)       0           ['global_average_pooling1d_10[0][\n",
            "                                                                 0]']                             \n",
            "                                                                                                  \n",
            " dense_17 (Dense)               (None, 1, 32)        16384       ['reshape_7[0][0]']              \n",
            "                                                                                                  \n",
            " dense_18 (Dense)               (None, 1, 512)       16384       ['dense_17[0][0]']               \n",
            "                                                                                                  \n",
            " multiply_7 (Multiply)          (None, 128, 512)     0           ['activation_10[0][0]',          \n",
            "                                                                  'dense_18[0][0]']               \n",
            "                                                                                                  \n",
            " conv1d_11 (Conv1D)             (None, 128, 512)     2359808     ['multiply_7[0][0]']             \n",
            "                                                                                                  \n",
            " masking_3 (Masking)            (None, 6, 128)       0           ['input_4[0][0]']                \n",
            "                                                                                                  \n",
            " batch_normalization_11 (BatchN  (None, 128, 512)    2048        ['conv1d_11[0][0]']              \n",
            " ormalization)                                                                                    \n",
            "                                                                                                  \n",
            " bidirectional_3 (Bidirectional  (None, 16)          8768        ['masking_3[0][0]']              \n",
            " )                                                                                                \n",
            "                                                                                                  \n",
            " activation_11 (Activation)     (None, 128, 512)     0           ['batch_normalization_11[0][0]'] \n",
            "                                                                                                  \n",
            " dropout_3 (Dropout)            (None, 16)           0           ['bidirectional_3[0][0]']        \n",
            "                                                                                                  \n",
            " global_average_pooling1d_11 (G  (None, 512)         0           ['activation_11[0][0]']          \n",
            " lobalAveragePooling1D)                                                                           \n",
            "                                                                                                  \n",
            " concatenate_3 (Concatenate)    (None, 528)          0           ['dropout_3[0][0]',              \n",
            "                                                                  'global_average_pooling1d_11[0][\n",
            "                                                                 0]']                             \n",
            "                                                                                                  \n",
            " dense_19 (Dense)               (None, 745)          394105      ['concatenate_3[0][0]']          \n",
            "                                                                                                  \n",
            "==================================================================================================\n",
            "Total params: 2,949,529\n",
            "Trainable params: 2,947,417\n",
            "Non-trainable params: 2,112\n",
            "__________________________________________________________________________________________________\n",
            "Epoch 1/200\n",
            "372/372 [==============================] - 37s 72ms/step - loss: 5.1133 - accuracy: 0.1114 - auc: 0.7500 - recall: 0.0034 - val_loss: 4.1496 - val_accuracy: 0.1233 - val_auc: 0.8710 - val_recall: 0.0083\n",
            "Epoch 2/200\n",
            "372/372 [==============================] - 23s 62ms/step - loss: 1.9386 - accuracy: 0.5852 - auc: 0.9867 - recall: 0.2193 - val_loss: 1.4727 - val_accuracy: 0.6513 - val_auc: 0.9899 - val_recall: 0.3699\n",
            "Epoch 3/200\n",
            "372/372 [==============================] - 23s 61ms/step - loss: 0.7012 - accuracy: 0.8569 - auc: 0.9980 - recall: 0.6822 - val_loss: 1.1103 - val_accuracy: 0.7027 - val_auc: 0.9905 - val_recall: 0.5348\n",
            "Epoch 4/200\n",
            "372/372 [==============================] - 23s 61ms/step - loss: 0.3327 - accuracy: 0.9387 - auc: 0.9996 - recall: 0.8668 - val_loss: 0.4087 - val_accuracy: 0.9054 - val_auc: 0.9973 - val_recall: 0.8419\n",
            "Epoch 5/200\n",
            "372/372 [==============================] - 23s 61ms/step - loss: 0.1771 - accuracy: 0.9694 - auc: 0.9999 - recall: 0.9375 - val_loss: 0.5169 - val_accuracy: 0.8714 - val_auc: 0.9941 - val_recall: 0.7958\n",
            "Epoch 6/200\n",
            "372/372 [==============================] - 23s 61ms/step - loss: 0.1158 - accuracy: 0.9805 - auc: 1.0000 - recall: 0.9633 - val_loss: 0.3996 - val_accuracy: 0.8873 - val_auc: 0.9969 - val_recall: 0.8638\n",
            "Epoch 7/200\n",
            "372/372 [==============================] - 23s 61ms/step - loss: 0.0930 - accuracy: 0.9847 - auc: 0.9998 - recall: 0.9738 - val_loss: 0.2458 - val_accuracy: 0.9327 - val_auc: 0.9981 - val_recall: 0.9198\n",
            "Epoch 8/200\n",
            "372/372 [==============================] - 23s 61ms/step - loss: 0.0653 - accuracy: 0.9880 - auc: 0.9999 - recall: 0.9823 - val_loss: 0.4268 - val_accuracy: 0.8933 - val_auc: 0.9935 - val_recall: 0.8578\n",
            "Epoch 9/200\n",
            "372/372 [==============================] - 23s 62ms/step - loss: 0.0728 - accuracy: 0.9862 - auc: 0.9997 - recall: 0.9785 - val_loss: 0.3420 - val_accuracy: 0.9123 - val_auc: 0.9977 - val_recall: 0.8805\n",
            "Epoch 10/200\n",
            "372/372 [==============================] - 23s 62ms/step - loss: 0.0696 - accuracy: 0.9839 - auc: 0.9997 - recall: 0.9778 - val_loss: 0.5039 - val_accuracy: 0.8631 - val_auc: 0.9923 - val_recall: 0.8253\n",
            "Epoch 11/200\n",
            "372/372 [==============================] - 23s 62ms/step - loss: 0.0443 - accuracy: 0.9918 - auc: 0.9998 - recall: 0.9886 - val_loss: 0.1717 - val_accuracy: 0.9607 - val_auc: 0.9973 - val_recall: 0.9523\n",
            "Epoch 12/200\n",
            "372/372 [==============================] - 23s 62ms/step - loss: 0.0261 - accuracy: 0.9959 - auc: 0.9999 - recall: 0.9944 - val_loss: 0.1615 - val_accuracy: 0.9644 - val_auc: 0.9973 - val_recall: 0.9508\n",
            "Epoch 13/200\n",
            "372/372 [==============================] - 23s 62ms/step - loss: 0.0713 - accuracy: 0.9826 - auc: 0.9995 - recall: 0.9780 - val_loss: 0.6797 - val_accuracy: 0.8366 - val_auc: 0.9835 - val_recall: 0.8056\n",
            "Epoch 14/200\n",
            "372/372 [==============================] - 23s 61ms/step - loss: 0.0579 - accuracy: 0.9851 - auc: 0.9998 - recall: 0.9809 - val_loss: 0.2850 - val_accuracy: 0.9266 - val_auc: 0.9947 - val_recall: 0.9062\n",
            "Epoch 15/200\n",
            "372/372 [==============================] - 23s 61ms/step - loss: 0.0379 - accuracy: 0.9906 - auc: 0.9998 - recall: 0.9884 - val_loss: 0.5582 - val_accuracy: 0.8495 - val_auc: 0.9859 - val_recall: 0.8283\n",
            "Epoch 16/200\n",
            "372/372 [==============================] - 23s 61ms/step - loss: 0.0681 - accuracy: 0.9812 - auc: 0.9995 - recall: 0.9778 - val_loss: 0.3058 - val_accuracy: 0.9213 - val_auc: 0.9943 - val_recall: 0.9002\n",
            "Epoch 17/200\n",
            "372/372 [==============================] - 23s 63ms/step - loss: 0.0174 - accuracy: 0.9971 - auc: 0.9999 - recall: 0.9964 - val_loss: 0.2004 - val_accuracy: 0.9478 - val_auc: 0.9966 - val_recall: 0.9410\n",
            "Epoch 18/200\n",
            "372/372 [==============================] - 23s 63ms/step - loss: 0.0216 - accuracy: 0.9953 - auc: 0.9998 - recall: 0.9939 - val_loss: 0.3696 - val_accuracy: 0.9100 - val_auc: 0.9912 - val_recall: 0.8858\n",
            "Epoch 19/200\n",
            "372/372 [==============================] - 23s 61ms/step - loss: 0.0456 - accuracy: 0.9893 - auc: 0.9994 - recall: 0.9875 - val_loss: 0.7330 - val_accuracy: 0.8154 - val_auc: 0.9843 - val_recall: 0.7723\n",
            "Epoch 20/200\n",
            "372/372 [==============================] - 23s 61ms/step - loss: 0.0554 - accuracy: 0.9841 - auc: 0.9995 - recall: 0.9817 - val_loss: 0.2327 - val_accuracy: 0.9425 - val_auc: 0.9951 - val_recall: 0.9372\n",
            "Epoch 21/200\n",
            "372/372 [==============================] - 23s 62ms/step - loss: 0.0331 - accuracy: 0.9917 - auc: 0.9997 - recall: 0.9900 - val_loss: 0.1306 - val_accuracy: 0.9682 - val_auc: 0.9977 - val_recall: 0.9614\n",
            "Epoch 22/200\n",
            "372/372 [==============================] - 23s 61ms/step - loss: 0.0164 - accuracy: 0.9960 - auc: 0.9998 - recall: 0.9957 - val_loss: 0.2818 - val_accuracy: 0.9244 - val_auc: 0.9924 - val_recall: 0.9175\n",
            "Epoch 23/200\n",
            "372/372 [==============================] - 23s 61ms/step - loss: 0.0347 - accuracy: 0.9915 - auc: 0.9996 - recall: 0.9895 - val_loss: 0.5107 - val_accuracy: 0.8676 - val_auc: 0.9889 - val_recall: 0.8457\n",
            "Epoch 24/200\n",
            "372/372 [==============================] - 23s 62ms/step - loss: 0.0221 - accuracy: 0.9942 - auc: 0.9999 - recall: 0.9931 - val_loss: 0.1939 - val_accuracy: 0.9463 - val_auc: 0.9973 - val_recall: 0.9418\n",
            "Epoch 25/200\n",
            "372/372 [==============================] - 23s 62ms/step - loss: 0.0380 - accuracy: 0.9895 - auc: 0.9996 - recall: 0.9883 - val_loss: 0.1081 - val_accuracy: 0.9697 - val_auc: 0.9992 - val_recall: 0.9652\n",
            "Epoch 26/200\n",
            "372/372 [==============================] - 23s 62ms/step - loss: 0.0117 - accuracy: 0.9972 - auc: 1.0000 - recall: 0.9968 - val_loss: 0.0889 - val_accuracy: 0.9841 - val_auc: 0.9973 - val_recall: 0.9796\n",
            "Epoch 27/200\n",
            "372/372 [==============================] - 23s 62ms/step - loss: 0.0152 - accuracy: 0.9967 - auc: 0.9999 - recall: 0.9961 - val_loss: 0.6008 - val_accuracy: 0.8502 - val_auc: 0.9851 - val_recall: 0.8321\n",
            "Epoch 28/200\n",
            "372/372 [==============================] - 23s 62ms/step - loss: 0.0257 - accuracy: 0.9943 - auc: 0.9996 - recall: 0.9931 - val_loss: 0.3746 - val_accuracy: 0.9062 - val_auc: 0.9928 - val_recall: 0.8926\n",
            "Epoch 29/200\n",
            "372/372 [==============================] - 23s 62ms/step - loss: 0.0325 - accuracy: 0.9919 - auc: 0.9996 - recall: 0.9904 - val_loss: 0.5090 - val_accuracy: 0.8782 - val_auc: 0.9867 - val_recall: 0.8646\n",
            "Epoch 30/200\n",
            "372/372 [==============================] - 23s 62ms/step - loss: 0.0390 - accuracy: 0.9904 - auc: 0.9993 - recall: 0.9891 - val_loss: 0.1230 - val_accuracy: 0.9652 - val_auc: 0.9966 - val_recall: 0.9607\n",
            "Epoch 31/200\n",
            "372/372 [==============================] - 23s 62ms/step - loss: 0.0324 - accuracy: 0.9906 - auc: 0.9996 - recall: 0.9899 - val_loss: 0.1681 - val_accuracy: 0.9592 - val_auc: 0.9966 - val_recall: 0.9546\n",
            "Epoch 32/200\n",
            "372/372 [==============================] - 24s 63ms/step - loss: 0.0181 - accuracy: 0.9956 - auc: 0.9998 - recall: 0.9952 - val_loss: 0.1832 - val_accuracy: 0.9569 - val_auc: 0.9954 - val_recall: 0.9523\n",
            "Epoch 33/200\n",
            "372/372 [==============================] - 23s 63ms/step - loss: 0.0104 - accuracy: 0.9971 - auc: 0.9999 - recall: 0.9967 - val_loss: 0.4208 - val_accuracy: 0.8933 - val_auc: 0.9912 - val_recall: 0.8812\n",
            "Epoch 34/200\n",
            "372/372 [==============================] - 23s 61ms/step - loss: 0.0132 - accuracy: 0.9968 - auc: 0.9999 - recall: 0.9964 - val_loss: 0.1582 - val_accuracy: 0.9592 - val_auc: 0.9970 - val_recall: 0.9539\n",
            "Epoch 35/200\n",
            "372/372 [==============================] - 23s 61ms/step - loss: 0.0066 - accuracy: 0.9989 - auc: 1.0000 - recall: 0.9987 - val_loss: 0.2460 - val_accuracy: 0.9440 - val_auc: 0.9935 - val_recall: 0.9387\n",
            "Epoch 36/200\n",
            "372/372 [==============================] - 23s 63ms/step - loss: 0.0338 - accuracy: 0.9905 - auc: 0.9995 - recall: 0.9897 - val_loss: 0.6062 - val_accuracy: 0.8744 - val_auc: 0.9825 - val_recall: 0.8608\n",
            "Epoch 37/200\n",
            "372/372 [==============================] - 23s 62ms/step - loss: 0.0217 - accuracy: 0.9940 - auc: 0.9997 - recall: 0.9937 - val_loss: 0.1069 - val_accuracy: 0.9781 - val_auc: 0.9970 - val_recall: 0.9720\n",
            "Epoch 38/200\n",
            "372/372 [==============================] - 23s 61ms/step - loss: 0.0048 - accuracy: 0.9992 - auc: 0.9999 - recall: 0.9989 - val_loss: 0.1000 - val_accuracy: 0.9803 - val_auc: 0.9970 - val_recall: 0.9781\n",
            "Epoch 39/200\n",
            "372/372 [==============================] - 23s 63ms/step - loss: 0.0163 - accuracy: 0.9960 - auc: 0.9996 - recall: 0.9955 - val_loss: 0.5833 - val_accuracy: 0.8593 - val_auc: 0.9866 - val_recall: 0.8449\n",
            "Epoch 40/200\n",
            "372/372 [==============================] - 24s 63ms/step - loss: 0.0356 - accuracy: 0.9900 - auc: 0.9995 - recall: 0.9892 - val_loss: 0.1477 - val_accuracy: 0.9614 - val_auc: 0.9973 - val_recall: 0.9539\n",
            "Epoch 41/200\n",
            "372/372 [==============================] - 23s 63ms/step - loss: 0.0056 - accuracy: 0.9983 - auc: 1.0000 - recall: 0.9981 - val_loss: 0.0854 - val_accuracy: 0.9826 - val_auc: 0.9981 - val_recall: 0.9811\n",
            "Epoch 42/200\n",
            "372/372 [==============================] - 23s 62ms/step - loss: 0.0045 - accuracy: 0.9984 - auc: 1.0000 - recall: 0.9983 - val_loss: 0.2535 - val_accuracy: 0.9372 - val_auc: 0.9943 - val_recall: 0.9327\n",
            "Epoch 43/200\n",
            "372/372 [==============================] - 24s 63ms/step - loss: 0.0377 - accuracy: 0.9896 - auc: 0.9994 - recall: 0.9886 - val_loss: 0.2235 - val_accuracy: 0.9433 - val_auc: 0.9947 - val_recall: 0.9410\n",
            "Epoch 44/200\n",
            "372/372 [==============================] - 23s 62ms/step - loss: 0.0108 - accuracy: 0.9971 - auc: 1.0000 - recall: 0.9967 - val_loss: 0.1102 - val_accuracy: 0.9735 - val_auc: 0.9970 - val_recall: 0.9728\n",
            "Epoch 45/200\n",
            "372/372 [==============================] - 23s 62ms/step - loss: 0.0076 - accuracy: 0.9981 - auc: 1.0000 - recall: 0.9978 - val_loss: 0.3689 - val_accuracy: 0.9183 - val_auc: 0.9890 - val_recall: 0.9145\n",
            "Epoch 46/200\n",
            "372/372 [==============================] - 23s 62ms/step - loss: 0.0141 - accuracy: 0.9965 - auc: 0.9997 - recall: 0.9960 - val_loss: 0.2433 - val_accuracy: 0.9433 - val_auc: 0.9935 - val_recall: 0.9342\n",
            "Epoch 47/200\n",
            "372/372 [==============================] - 23s 62ms/step - loss: 0.0095 - accuracy: 0.9976 - auc: 0.9998 - recall: 0.9970 - val_loss: 0.0861 - val_accuracy: 0.9818 - val_auc: 0.9989 - val_recall: 0.9766\n",
            "Epoch 48/200\n",
            "372/372 [==============================] - 24s 63ms/step - loss: 0.0050 - accuracy: 0.9988 - auc: 1.0000 - recall: 0.9988 - val_loss: 0.1391 - val_accuracy: 0.9682 - val_auc: 0.9966 - val_recall: 0.9644\n",
            "Epoch 49/200\n",
            "372/372 [==============================] - 24s 63ms/step - loss: 0.0019 - accuracy: 0.9997 - auc: 1.0000 - recall: 0.9996 - val_loss: 0.1290 - val_accuracy: 0.9735 - val_auc: 0.9966 - val_recall: 0.9697\n",
            "Epoch 50/200\n",
            "372/372 [==============================] - 23s 63ms/step - loss: 0.0304 - accuracy: 0.9914 - auc: 0.9995 - recall: 0.9910 - val_loss: 0.2614 - val_accuracy: 0.9357 - val_auc: 0.9951 - val_recall: 0.9312\n",
            "Epoch 51/200\n",
            "372/372 [==============================] - 23s 63ms/step - loss: 0.0115 - accuracy: 0.9970 - auc: 0.9999 - recall: 0.9968 - val_loss: 0.1544 - val_accuracy: 0.9622 - val_auc: 0.9970 - val_recall: 0.9592\n",
            "Epoch 52/200\n",
            "372/372 [==============================] - 23s 63ms/step - loss: 0.0089 - accuracy: 0.9978 - auc: 0.9998 - recall: 0.9975 - val_loss: 0.2153 - val_accuracy: 0.9508 - val_auc: 0.9936 - val_recall: 0.9486\n",
            "Epoch 53/200\n",
            "372/372 [==============================] - 24s 63ms/step - loss: 0.0191 - accuracy: 0.9952 - auc: 0.9998 - recall: 0.9945 - val_loss: 0.1138 - val_accuracy: 0.9713 - val_auc: 0.9970 - val_recall: 0.9637\n",
            "Epoch 54/200\n",
            "372/372 [==============================] - 23s 63ms/step - loss: 0.0049 - accuracy: 0.9987 - auc: 0.9999 - recall: 0.9987 - val_loss: 0.1438 - val_accuracy: 0.9652 - val_auc: 0.9962 - val_recall: 0.9614\n",
            "Epoch 55/200\n",
            "372/372 [==============================] - 23s 63ms/step - loss: 0.0063 - accuracy: 0.9988 - auc: 0.9998 - recall: 0.9988 - val_loss: 0.1433 - val_accuracy: 0.9682 - val_auc: 0.9970 - val_recall: 0.9652\n",
            "Epoch 56/200\n",
            "372/372 [==============================] - 23s 63ms/step - loss: 0.0101 - accuracy: 0.9971 - auc: 1.0000 - recall: 0.9967 - val_loss: 0.1983 - val_accuracy: 0.9508 - val_auc: 0.9966 - val_recall: 0.9463\n",
            "Epoch 57/200\n",
            "372/372 [==============================] - 23s 63ms/step - loss: 0.0136 - accuracy: 0.9965 - auc: 0.9998 - recall: 0.9961 - val_loss: 0.2118 - val_accuracy: 0.9516 - val_auc: 0.9943 - val_recall: 0.9463\n",
            "Epoch 58/200\n",
            "372/372 [==============================] - 23s 62ms/step - loss: 0.0075 - accuracy: 0.9981 - auc: 0.9999 - recall: 0.9978 - val_loss: 0.1034 - val_accuracy: 0.9788 - val_auc: 0.9977 - val_recall: 0.9773\n",
            "Epoch 59/200\n",
            "372/372 [==============================] - 23s 63ms/step - loss: 0.0022 - accuracy: 0.9998 - auc: 1.0000 - recall: 0.9996 - val_loss: 0.1081 - val_accuracy: 0.9781 - val_auc: 0.9981 - val_recall: 0.9750\n",
            "Epoch 60/200\n",
            "372/372 [==============================] - 24s 63ms/step - loss: 0.0151 - accuracy: 0.9968 - auc: 0.9997 - recall: 0.9961 - val_loss: 0.4304 - val_accuracy: 0.8918 - val_auc: 0.9886 - val_recall: 0.8828\n",
            "Epoch 61/200\n",
            "372/372 [==============================] - 23s 63ms/step - loss: 0.0245 - accuracy: 0.9942 - auc: 0.9996 - recall: 0.9937 - val_loss: 0.1338 - val_accuracy: 0.9690 - val_auc: 0.9973 - val_recall: 0.9644\n",
            "Epoch 62/200\n",
            "372/372 [==============================] - 23s 63ms/step - loss: 0.0078 - accuracy: 0.9984 - auc: 0.9999 - recall: 0.9982 - val_loss: 0.1037 - val_accuracy: 0.9766 - val_auc: 0.9973 - val_recall: 0.9743\n",
            "Epoch 63/200\n",
            "372/372 [==============================] - 23s 62ms/step - loss: 0.0044 - accuracy: 0.9988 - auc: 0.9999 - recall: 0.9988 - val_loss: 0.1026 - val_accuracy: 0.9773 - val_auc: 0.9977 - val_recall: 0.9735\n",
            "Epoch 64/200\n",
            "372/372 [==============================] - 23s 62ms/step - loss: 0.0021 - accuracy: 0.9997 - auc: 1.0000 - recall: 0.9996 - val_loss: 0.1135 - val_accuracy: 0.9766 - val_auc: 0.9970 - val_recall: 0.9750\n",
            "Epoch 65/200\n",
            "372/372 [==============================] - 23s 62ms/step - loss: 0.0067 - accuracy: 0.9987 - auc: 0.9998 - recall: 0.9983 - val_loss: 0.1553 - val_accuracy: 0.9561 - val_auc: 0.9962 - val_recall: 0.9501\n",
            "Epoch 66/200\n",
            "372/372 [==============================] - 23s 63ms/step - loss: 0.0131 - accuracy: 0.9963 - auc: 0.9999 - recall: 0.9959 - val_loss: 0.2096 - val_accuracy: 0.9478 - val_auc: 0.9962 - val_recall: 0.9418\n",
            "Epoch 67/200\n",
            "372/372 [==============================] - 23s 63ms/step - loss: 0.0090 - accuracy: 0.9975 - auc: 0.9999 - recall: 0.9971 - val_loss: 0.2273 - val_accuracy: 0.9433 - val_auc: 0.9943 - val_recall: 0.9395\n",
            "Epoch 68/200\n",
            "372/372 [==============================] - 23s 62ms/step - loss: 0.0072 - accuracy: 0.9979 - auc: 1.0000 - recall: 0.9978 - val_loss: 0.1105 - val_accuracy: 0.9788 - val_auc: 0.9970 - val_recall: 0.9743\n",
            "Epoch 69/200\n",
            "372/372 [==============================] - 23s 62ms/step - loss: 0.0134 - accuracy: 0.9961 - auc: 0.9998 - recall: 0.9958 - val_loss: 0.0865 - val_accuracy: 0.9773 - val_auc: 0.9977 - val_recall: 0.9743\n",
            "Epoch 70/200\n",
            "372/372 [==============================] - 23s 63ms/step - loss: 0.0014 - accuracy: 0.9997 - auc: 1.0000 - recall: 0.9997 - val_loss: 0.1932 - val_accuracy: 0.9561 - val_auc: 0.9947 - val_recall: 0.9508\n",
            "Epoch 71/200\n",
            "372/372 [==============================] - 23s 62ms/step - loss: 0.0038 - accuracy: 0.9992 - auc: 0.9999 - recall: 0.9992 - val_loss: 0.0731 - val_accuracy: 0.9841 - val_auc: 0.9985 - val_recall: 0.9826\n",
            "Epoch 72/200\n",
            "372/372 [==============================] - 23s 62ms/step - loss: 0.0011 - accuracy: 0.9998 - auc: 1.0000 - recall: 0.9998 - val_loss: 0.0524 - val_accuracy: 0.9909 - val_auc: 0.9989 - val_recall: 0.9879\n",
            "Epoch 73/200\n",
            "372/372 [==============================] - 23s 63ms/step - loss: 1.7927e-04 - accuracy: 1.0000 - auc: 1.0000 - recall: 1.0000 - val_loss: 0.0450 - val_accuracy: 0.9917 - val_auc: 0.9989 - val_recall: 0.9909\n",
            "Epoch 74/200\n",
            "372/372 [==============================] - 24s 63ms/step - loss: 1.3222e-04 - accuracy: 1.0000 - auc: 1.0000 - recall: 1.0000 - val_loss: 0.0454 - val_accuracy: 0.9917 - val_auc: 0.9992 - val_recall: 0.9909\n",
            "Epoch 75/200\n",
            "372/372 [==============================] - 23s 63ms/step - loss: 1.0162e-04 - accuracy: 1.0000 - auc: 1.0000 - recall: 1.0000 - val_loss: 0.0429 - val_accuracy: 0.9917 - val_auc: 0.9992 - val_recall: 0.9909\n",
            "Epoch 76/200\n",
            "372/372 [==============================] - 23s 62ms/step - loss: 7.8313e-05 - accuracy: 1.0000 - auc: 1.0000 - recall: 1.0000 - val_loss: 0.0457 - val_accuracy: 0.9917 - val_auc: 0.9992 - val_recall: 0.9909\n",
            "Epoch 77/200\n",
            "372/372 [==============================] - 23s 63ms/step - loss: 0.0276 - accuracy: 0.9924 - auc: 0.9993 - recall: 0.9915 - val_loss: 2.2305 - val_accuracy: 0.6490 - val_auc: 0.9136 - val_recall: 0.6248\n",
            "Epoch 78/200\n",
            "372/372 [==============================] - 23s 63ms/step - loss: 0.0333 - accuracy: 0.9892 - auc: 0.9996 - recall: 0.9877 - val_loss: 0.1146 - val_accuracy: 0.9803 - val_auc: 0.9966 - val_recall: 0.9766\n",
            "Epoch 79/200\n",
            "372/372 [==============================] - 23s 63ms/step - loss: 0.0015 - accuracy: 0.9997 - auc: 1.0000 - recall: 0.9997 - val_loss: 0.0931 - val_accuracy: 0.9834 - val_auc: 0.9977 - val_recall: 0.9826\n",
            "Epoch 80/200\n",
            "372/372 [==============================] - 24s 64ms/step - loss: 3.9105e-04 - accuracy: 1.0000 - auc: 1.0000 - recall: 1.0000 - val_loss: 0.0776 - val_accuracy: 0.9864 - val_auc: 0.9977 - val_recall: 0.9856\n",
            "Epoch 81/200\n",
            "372/372 [==============================] - 24s 64ms/step - loss: 0.0040 - accuracy: 0.9990 - auc: 1.0000 - recall: 0.9989 - val_loss: 0.2056 - val_accuracy: 0.9508 - val_auc: 0.9936 - val_recall: 0.9478\n",
            "Epoch 82/200\n",
            "372/372 [==============================] - 23s 62ms/step - loss: 0.0034 - accuracy: 0.9991 - auc: 1.0000 - recall: 0.9989 - val_loss: 0.1104 - val_accuracy: 0.9766 - val_auc: 0.9970 - val_recall: 0.9758\n",
            "Epoch 83/200\n",
            "372/372 [==============================] - 23s 62ms/step - loss: 5.6588e-04 - accuracy: 0.9999 - auc: 1.0000 - recall: 0.9999 - val_loss: 0.0867 - val_accuracy: 0.9849 - val_auc: 0.9977 - val_recall: 0.9834\n",
            "Epoch 84/200\n",
            "372/372 [==============================] - 24s 63ms/step - loss: 9.1571e-04 - accuracy: 0.9998 - auc: 1.0000 - recall: 0.9998 - val_loss: 0.0570 - val_accuracy: 0.9917 - val_auc: 0.9981 - val_recall: 0.9902\n",
            "Epoch 85/200\n",
            "372/372 [==============================] - 24s 63ms/step - loss: 8.7579e-04 - accuracy: 0.9998 - auc: 1.0000 - recall: 0.9998 - val_loss: 0.0682 - val_accuracy: 0.9849 - val_auc: 0.9981 - val_recall: 0.9834\n",
            "Epoch 86/200\n",
            "372/372 [==============================] - 23s 63ms/step - loss: 0.0274 - accuracy: 0.9923 - auc: 0.9996 - recall: 0.9914 - val_loss: 0.1677 - val_accuracy: 0.9614 - val_auc: 0.9958 - val_recall: 0.9546\n",
            "Epoch 87/200\n",
            "372/372 [==============================] - 23s 62ms/step - loss: 0.0088 - accuracy: 0.9979 - auc: 0.9999 - recall: 0.9978 - val_loss: 0.1034 - val_accuracy: 0.9818 - val_auc: 0.9973 - val_recall: 0.9796\n",
            "Epoch 88/200\n",
            "372/372 [==============================] - 23s 62ms/step - loss: 0.0063 - accuracy: 0.9987 - auc: 0.9999 - recall: 0.9984 - val_loss: 0.0919 - val_accuracy: 0.9841 - val_auc: 0.9977 - val_recall: 0.9826\n",
            "Epoch 89/200\n",
            "372/372 [==============================] - 24s 64ms/step - loss: 0.0033 - accuracy: 0.9991 - auc: 1.0000 - recall: 0.9990 - val_loss: 0.0681 - val_accuracy: 0.9871 - val_auc: 0.9977 - val_recall: 0.9864\n",
            "Epoch 90/200\n",
            "372/372 [==============================] - 24s 64ms/step - loss: 0.0017 - accuracy: 0.9994 - auc: 1.0000 - recall: 0.9994 - val_loss: 0.1349 - val_accuracy: 0.9667 - val_auc: 0.9966 - val_recall: 0.9637\n",
            "Epoch 91/200\n",
            "372/372 [==============================] - 23s 62ms/step - loss: 0.0018 - accuracy: 0.9997 - auc: 1.0000 - recall: 0.9996 - val_loss: 0.0605 - val_accuracy: 0.9864 - val_auc: 0.9985 - val_recall: 0.9856\n",
            "Epoch 92/200\n",
            "372/372 [==============================] - 23s 63ms/step - loss: 3.1215e-04 - accuracy: 0.9999 - auc: 1.0000 - recall: 0.9999 - val_loss: 0.0552 - val_accuracy: 0.9879 - val_auc: 0.9981 - val_recall: 0.9856\n",
            "Epoch 93/200\n",
            "372/372 [==============================] - 23s 62ms/step - loss: 0.0024 - accuracy: 0.9996 - auc: 0.9999 - recall: 0.9996 - val_loss: 0.2097 - val_accuracy: 0.9516 - val_auc: 0.9951 - val_recall: 0.9493\n",
            "Epoch 94/200\n",
            "372/372 [==============================] - 23s 63ms/step - loss: 0.0166 - accuracy: 0.9944 - auc: 1.0000 - recall: 0.9942 - val_loss: 0.2829 - val_accuracy: 0.9289 - val_auc: 0.9924 - val_recall: 0.9183\n",
            "Epoch 95/200\n",
            "372/372 [==============================] - 24s 64ms/step - loss: 0.0061 - accuracy: 0.9983 - auc: 0.9999 - recall: 0.9982 - val_loss: 0.0899 - val_accuracy: 0.9788 - val_auc: 0.9981 - val_recall: 0.9773\n",
            "Epoch 96/200\n",
            "372/372 [==============================] - 24s 64ms/step - loss: 0.0017 - accuracy: 0.9995 - auc: 1.0000 - recall: 0.9994 - val_loss: 0.0873 - val_accuracy: 0.9834 - val_auc: 0.9973 - val_recall: 0.9818\n",
            "Epoch 97/200\n",
            "372/372 [==============================] - 24s 64ms/step - loss: 0.0016 - accuracy: 0.9996 - auc: 1.0000 - recall: 0.9995 - val_loss: 0.0739 - val_accuracy: 0.9856 - val_auc: 0.9977 - val_recall: 0.9834\n",
            "Epoch 98/200\n",
            "372/372 [==============================] - 24s 63ms/step - loss: 9.8634e-04 - accuracy: 0.9998 - auc: 1.0000 - recall: 0.9998 - val_loss: 0.0660 - val_accuracy: 0.9856 - val_auc: 0.9985 - val_recall: 0.9849\n",
            "Epoch 99/200\n",
            "372/372 [==============================] - 24s 64ms/step - loss: 1.1336e-04 - accuracy: 1.0000 - auc: 1.0000 - recall: 1.0000 - val_loss: 0.0646 - val_accuracy: 0.9879 - val_auc: 0.9981 - val_recall: 0.9864\n",
            "Epoch 100/200\n",
            "372/372 [==============================] - 24s 64ms/step - loss: 0.0048 - accuracy: 0.9989 - auc: 0.9999 - recall: 0.9986 - val_loss: 0.2747 - val_accuracy: 0.9349 - val_auc: 0.9928 - val_recall: 0.9297\n",
            "Epoch 101/200\n",
            "372/372 [==============================] - 23s 63ms/step - loss: 0.0228 - accuracy: 0.9926 - auc: 0.9997 - recall: 0.9923 - val_loss: 0.0938 - val_accuracy: 0.9811 - val_auc: 0.9977 - val_recall: 0.9781\n",
            "Epoch 102/200\n",
            "372/372 [==============================] - 23s 63ms/step - loss: 0.0018 - accuracy: 0.9997 - auc: 1.0000 - recall: 0.9995 - val_loss: 0.0912 - val_accuracy: 0.9841 - val_auc: 0.9974 - val_recall: 0.9818\n",
            "Epoch 103/200\n",
            "372/372 [==============================] - 23s 63ms/step - loss: 2.9515e-04 - accuracy: 1.0000 - auc: 1.0000 - recall: 1.0000 - val_loss: 0.0842 - val_accuracy: 0.9856 - val_auc: 0.9977 - val_recall: 0.9841\n",
            "Epoch 104/200\n",
            "372/372 [==============================] - 24s 63ms/step - loss: 1.9096e-04 - accuracy: 1.0000 - auc: 1.0000 - recall: 1.0000 - val_loss: 0.0769 - val_accuracy: 0.9849 - val_auc: 0.9977 - val_recall: 0.9849\n",
            "Epoch 105/200\n",
            "372/372 [==============================] - 24s 64ms/step - loss: 0.0031 - accuracy: 0.9994 - auc: 0.9999 - recall: 0.9992 - val_loss: 0.1882 - val_accuracy: 0.9644 - val_auc: 0.9947 - val_recall: 0.9637\n"
          ]
        },
        {
          "output_type": "display_data",
          "data": {
            "image/png": "[encoded data removed]",
            "text/plain": [
              "<Figure size 432x288 with 1 Axes>"
            ]
          },
          "metadata": {
            "needs_background": "light"
          }
        },
        {
          "output_type": "display_data",
          "data": {
            "image/png": "[encoded data removed]",
            "text/plain": [
              "<Figure size 432x288 with 1 Axes>"
            ]
          },
          "metadata": {
            "needs_background": "light"
          }
        }
      ]
    },
    {
      "cell_type": "code",
      "metadata": {
        "id": "YSFbB7aLzglH",
        "colab": {
          "base_uri": "https://localhost:8080/"
        },
        "outputId": "15efd0ac-5a42-48f2-e459-80deeb9d5b0a"
      },
      "source": [
        "get_test_performance(model, X_test, test_label)"
      ],
      "execution_count": 18,
      "outputs": [
        {
          "output_type": "stream",
          "name": "stdout",
          "text": [
            "45/45 [==============================] - 1s 22ms/step - loss: 0.0782 - accuracy: 0.9830 - auc: 0.9979 - recall: 0.9815\n",
            "Test loss:0.07818388193845749\n",
            "Test accuracy:0.9829666614532471\n",
            "Test Recall: 0.9815471768379211\n",
            "Test AUC: 0.9978692531585693\n"
          ]
        }
      ]
    },
    {
      "cell_type": "markdown",
      "metadata": {
        "id": "aKFZ_7IMzglH"
      },
      "source": [
        "# Train Full Manually Dataset OU-ISIR"
      ]
    },
    {
      "cell_type": "code",
      "metadata": {
        "id": "_gB6AKBRzglH",
        "colab": {
          "base_uri": "https://localhost:8080/",
          "height": 1000
        },
        "outputId": "2fa8a15f-95ca-4638-b14c-1ad71e7bc504"
      },
      "source": [
        "# change\n",
        "epochs = 92\n",
        "if gpu:\n",
        "    model = MLSTM_FCN((X_train.shape[1], X_train.shape[2]), train_label.shape[1])\n",
        "    history = model.fit(X_train,train_label,batch_size=32,epochs=epochs,verbose=1)\n",
        "if tpu:\n",
        "    with strategy.scope():\n",
        "        model = MLSTM_FCN((X_train.shape[1], X_train.shape[2]), train_label.shape[1])\n",
        "        history = model.fit(X_train,train_label,batch_size=8*32,epochs=epochs,verbose=1)\n",
        "\n",
        "plot_performance(X_train, train_label, history)"
      ],
      "execution_count": null,
      "outputs": [
        {
          "output_type": "stream",
          "name": "stdout",
          "text": [
            "Model: \"model_3\"\n",
            "__________________________________________________________________________________________________\n",
            " Layer (type)                   Output Shape         Param #     Connected to                     \n",
            "==================================================================================================\n",
            " input_4 (InputLayer)           [(None, 6, 128)]     0           []                               \n",
            "                                                                                                  \n",
            " permute_3 (Permute)            (None, 128, 6)       0           ['input_4[0][0]']                \n",
            "                                                                                                  \n",
            " conv1d_9 (Conv1D)              (None, 128, 512)     28160       ['permute_3[0][0]']              \n",
            "                                                                                                  \n",
            " batch_normalization_9 (BatchNo  (None, 128, 512)    2048        ['conv1d_9[0][0]']               \n",
            " rmalization)                                                                                     \n",
            "                                                                                                  \n",
            " activation_9 (Activation)      (None, 128, 512)     0           ['batch_normalization_9[0][0]']  \n",
            "                                                                                                  \n",
            " global_average_pooling1d_9 (Gl  (None, 512)         0           ['activation_9[0][0]']           \n",
            " obalAveragePooling1D)                                                                            \n",
            "                                                                                                  \n",
            " reshape_6 (Reshape)            (None, 1, 512)       0           ['global_average_pooling1d_9[0][0\n",
            "                                                                 ]']                              \n",
            "                                                                                                  \n",
            " dense_15 (Dense)               (None, 1, 32)        16384       ['reshape_6[0][0]']              \n",
            "                                                                                                  \n",
            " dense_16 (Dense)               (None, 1, 512)       16384       ['dense_15[0][0]']               \n",
            "                                                                                                  \n",
            " multiply_6 (Multiply)          (None, 128, 512)     0           ['activation_9[0][0]',           \n",
            "                                                                  'dense_16[0][0]']               \n",
            "                                                                                                  \n",
            " conv1d_10 (Conv1D)             (None, 128, 512)     786944      ['multiply_6[0][0]']             \n",
            "                                                                                                  \n",
            " batch_normalization_10 (BatchN  (None, 128, 512)    2048        ['conv1d_10[0][0]']              \n",
            " ormalization)                                                                                    \n",
            "                                                                                                  \n",
            " activation_10 (Activation)     (None, 128, 512)     0           ['batch_normalization_10[0][0]'] \n",
            "                                                                                                  \n",
            " global_average_pooling1d_10 (G  (None, 512)         0           ['activation_10[0][0]']          \n",
            " lobalAveragePooling1D)                                                                           \n",
            "                                                                                                  \n",
            " reshape_7 (Reshape)            (None, 1, 512)       0           ['global_average_pooling1d_10[0][\n",
            "                                                                 0]']                             \n",
            "                                                                                                  \n",
            " dense_17 (Dense)               (None, 1, 32)        16384       ['reshape_7[0][0]']              \n",
            "                                                                                                  \n",
            " dense_18 (Dense)               (None, 1, 512)       16384       ['dense_17[0][0]']               \n",
            "                                                                                                  \n",
            " multiply_7 (Multiply)          (None, 128, 512)     0           ['activation_10[0][0]',          \n",
            "                                                                  'dense_18[0][0]']               \n",
            "                                                                                                  \n",
            " conv1d_11 (Conv1D)             (None, 128, 512)     2359808     ['multiply_7[0][0]']             \n",
            "                                                                                                  \n",
            " masking_3 (Masking)            (None, 6, 128)       0           ['input_4[0][0]']                \n",
            "                                                                                                  \n",
            " batch_normalization_11 (BatchN  (None, 128, 512)    2048        ['conv1d_11[0][0]']              \n",
            " ormalization)                                                                                    \n",
            "                                                                                                  \n",
            " bidirectional_3 (Bidirectional  (None, 16)          8768        ['masking_3[0][0]']              \n",
            " )                                                                                                \n",
            "                                                                                                  \n",
            " activation_11 (Activation)     (None, 128, 512)     0           ['batch_normalization_11[0][0]'] \n",
            "                                                                                                  \n",
            " dropout_3 (Dropout)            (None, 16)           0           ['bidirectional_3[0][0]']        \n",
            "                                                                                                  \n",
            " global_average_pooling1d_11 (G  (None, 512)         0           ['activation_11[0][0]']          \n",
            " lobalAveragePooling1D)                                                                           \n",
            "                                                                                                  \n",
            " concatenate_3 (Concatenate)    (None, 528)          0           ['dropout_3[0][0]',              \n",
            "                                                                  'global_average_pooling1d_11[0][\n",
            "                                                                 0]']                             \n",
            "                                                                                                  \n",
            " dense_19 (Dense)               (None, 745)          394105      ['concatenate_3[0][0]']          \n",
            "                                                                                                  \n",
            "==================================================================================================\n",
            "Total params: 3,649,465\n",
            "Trainable params: 3,646,393\n",
            "Non-trainable params: 3,072\n",
            "__________________________________________________________________________________________________\n",
            "Epoch 1/92\n",
            "413/413 [==============================] - 41s 72ms/step - loss: 4.8482 - accuracy: 0.1259 - auc: 0.7763 - recall: 0.0083\n",
            "Epoch 2/92\n",
            "413/413 [==============================] - 30s 72ms/step - loss: 1.6822 - accuracy: 0.6203 - auc: 0.9902 - recall: 0.2891\n",
            "Epoch 3/92\n",
            "413/413 [==============================] - 30s 72ms/step - loss: 0.6140 - accuracy: 0.8635 - auc: 0.9982 - recall: 0.7219\n",
            "Epoch 4/92\n",
            "413/413 [==============================] - 30s 72ms/step - loss: 0.2951 - accuracy: 0.9394 - auc: 0.9996 - recall: 0.8837\n",
            "Epoch 5/92\n",
            "413/413 [==============================] - 30s 72ms/step - loss: 0.1627 - accuracy: 0.9701 - auc: 0.9998 - recall: 0.9452\n",
            "Epoch 6/92\n",
            "413/413 [==============================] - 30s 72ms/step - loss: 0.1216 - accuracy: 0.9748 - auc: 0.9998 - recall: 0.9587\n",
            "Epoch 7/92\n",
            "413/413 [==============================] - 30s 72ms/step - loss: 0.0880 - accuracy: 0.9817 - auc: 0.9998 - recall: 0.9723\n",
            "Epoch 8/92\n",
            "413/413 [==============================] - 30s 72ms/step - loss: 0.0762 - accuracy: 0.9843 - auc: 0.9999 - recall: 0.9768\n",
            "Epoch 9/92\n",
            "413/413 [==============================] - 30s 72ms/step - loss: 0.0641 - accuracy: 0.9856 - auc: 0.9998 - recall: 0.9800\n",
            "Epoch 10/92\n",
            "413/413 [==============================] - 30s 72ms/step - loss: 0.0627 - accuracy: 0.9858 - auc: 0.9998 - recall: 0.9820\n",
            "Epoch 11/92\n",
            "413/413 [==============================] - 30s 72ms/step - loss: 0.0661 - accuracy: 0.9845 - auc: 0.9995 - recall: 0.9802\n",
            "Epoch 12/92\n",
            "413/413 [==============================] - 30s 72ms/step - loss: 0.0555 - accuracy: 0.9858 - auc: 0.9997 - recall: 0.9826\n",
            "Epoch 13/92\n",
            "413/413 [==============================] - 30s 72ms/step - loss: 0.0476 - accuracy: 0.9894 - auc: 0.9996 - recall: 0.9862\n",
            "Epoch 14/92\n",
            "413/413 [==============================] - 30s 72ms/step - loss: 0.0401 - accuracy: 0.9907 - auc: 0.9996 - recall: 0.9886\n",
            "Epoch 15/92\n",
            "413/413 [==============================] - 30s 72ms/step - loss: 0.0678 - accuracy: 0.9815 - auc: 0.9994 - recall: 0.9786\n",
            "Epoch 16/92\n",
            "413/413 [==============================] - 30s 72ms/step - loss: 0.0494 - accuracy: 0.9876 - auc: 0.9995 - recall: 0.9850\n",
            "Epoch 17/92\n",
            "413/413 [==============================] - 30s 72ms/step - loss: 0.0260 - accuracy: 0.9933 - auc: 0.9999 - recall: 0.9921\n",
            "Epoch 18/92\n",
            "413/413 [==============================] - 30s 72ms/step - loss: 0.0322 - accuracy: 0.9914 - auc: 0.9998 - recall: 0.9904\n",
            "Epoch 19/92\n",
            "413/413 [==============================] - 30s 72ms/step - loss: 0.0495 - accuracy: 0.9868 - auc: 0.9994 - recall: 0.9843\n",
            "Epoch 20/92\n",
            "413/413 [==============================] - 30s 72ms/step - loss: 0.0382 - accuracy: 0.9892 - auc: 0.9996 - recall: 0.9878\n",
            "Epoch 21/92\n",
            "413/413 [==============================] - 30s 72ms/step - loss: 0.0209 - accuracy: 0.9952 - auc: 0.9998 - recall: 0.9941\n",
            "Epoch 22/92\n",
            "413/413 [==============================] - 30s 72ms/step - loss: 0.0145 - accuracy: 0.9964 - auc: 0.9998 - recall: 0.9960\n",
            "Epoch 23/92\n",
            "413/413 [==============================] - 30s 72ms/step - loss: 0.0537 - accuracy: 0.9849 - auc: 0.9993 - recall: 0.9830\n",
            "Epoch 24/92\n",
            "413/413 [==============================] - 30s 72ms/step - loss: 0.0350 - accuracy: 0.9905 - auc: 0.9996 - recall: 0.9890\n",
            "Epoch 25/92\n",
            "413/413 [==============================] - 30s 72ms/step - loss: 0.0341 - accuracy: 0.9913 - auc: 0.9995 - recall: 0.9899\n",
            "Epoch 26/92\n",
            "413/413 [==============================] - 30s 72ms/step - loss: 0.0193 - accuracy: 0.9949 - auc: 0.9998 - recall: 0.9944\n",
            "Epoch 27/92\n",
            "413/413 [==============================] - 30s 72ms/step - loss: 0.0063 - accuracy: 0.9988 - auc: 0.9999 - recall: 0.9986\n",
            "Epoch 28/92\n",
            "413/413 [==============================] - 30s 72ms/step - loss: 0.0256 - accuracy: 0.9930 - auc: 0.9996 - recall: 0.9925\n",
            "Epoch 29/92\n",
            "413/413 [==============================] - 30s 72ms/step - loss: 0.0356 - accuracy: 0.9912 - auc: 0.9996 - recall: 0.9894\n",
            "Epoch 30/92\n",
            "413/413 [==============================] - 30s 72ms/step - loss: 0.0049 - accuracy: 0.9987 - auc: 1.0000 - recall: 0.9986\n",
            "Epoch 31/92\n",
            "413/413 [==============================] - 30s 72ms/step - loss: 0.0205 - accuracy: 0.9948 - auc: 0.9996 - recall: 0.9945\n",
            "Epoch 32/92\n",
            "413/413 [==============================] - 30s 72ms/step - loss: 0.0284 - accuracy: 0.9930 - auc: 0.9995 - recall: 0.9922\n",
            "Epoch 33/92\n",
            "413/413 [==============================] - 30s 72ms/step - loss: 0.0189 - accuracy: 0.9949 - auc: 0.9998 - recall: 0.9942\n",
            "Epoch 34/92\n",
            "413/413 [==============================] - 30s 72ms/step - loss: 0.0135 - accuracy: 0.9970 - auc: 0.9998 - recall: 0.9964\n",
            "Epoch 35/92\n",
            "413/413 [==============================] - 30s 72ms/step - loss: 0.0290 - accuracy: 0.9926 - auc: 0.9996 - recall: 0.9913\n",
            "Epoch 36/92\n",
            "413/413 [==============================] - 30s 72ms/step - loss: 0.0091 - accuracy: 0.9982 - auc: 0.9998 - recall: 0.9977\n",
            "Epoch 37/92\n",
            "413/413 [==============================] - 30s 73ms/step - loss: 0.0283 - accuracy: 0.9917 - auc: 0.9997 - recall: 0.9909\n",
            "Epoch 38/92\n",
            "413/413 [==============================] - 30s 72ms/step - loss: 0.0262 - accuracy: 0.9936 - auc: 0.9996 - recall: 0.9931\n",
            "Epoch 39/92\n",
            "413/413 [==============================] - 30s 72ms/step - loss: 0.0141 - accuracy: 0.9971 - auc: 0.9997 - recall: 0.9966\n",
            "Epoch 40/92\n",
            "413/413 [==============================] - 30s 72ms/step - loss: 0.0050 - accuracy: 0.9989 - auc: 0.9999 - recall: 0.9988\n",
            "Epoch 41/92\n",
            "413/413 [==============================] - 30s 72ms/step - loss: 0.0328 - accuracy: 0.9908 - auc: 0.9995 - recall: 0.9901\n",
            "Epoch 42/92\n",
            "413/413 [==============================] - 30s 72ms/step - loss: 0.0142 - accuracy: 0.9967 - auc: 0.9997 - recall: 0.9965\n",
            "Epoch 43/92\n",
            "413/413 [==============================] - 30s 72ms/step - loss: 0.0024 - accuracy: 0.9997 - auc: 1.0000 - recall: 0.9995\n",
            "Epoch 44/92\n",
            "413/413 [==============================] - 30s 72ms/step - loss: 0.0119 - accuracy: 0.9970 - auc: 0.9998 - recall: 0.9967\n",
            "Epoch 45/92\n",
            "413/413 [==============================] - 30s 72ms/step - loss: 0.0164 - accuracy: 0.9954 - auc: 0.9997 - recall: 0.9951\n",
            "Epoch 46/92\n",
            "413/413 [==============================] - 30s 72ms/step - loss: 0.0164 - accuracy: 0.9953 - auc: 0.9998 - recall: 0.9946\n",
            "Epoch 47/92\n",
            "413/413 [==============================] - 30s 72ms/step - loss: 0.0110 - accuracy: 0.9978 - auc: 0.9998 - recall: 0.9976\n",
            "Epoch 48/92\n",
            "413/413 [==============================] - 30s 72ms/step - loss: 0.0061 - accuracy: 0.9985 - auc: 0.9999 - recall: 0.9984\n",
            "Epoch 49/92\n",
            "413/413 [==============================] - 30s 73ms/step - loss: 0.0057 - accuracy: 0.9984 - auc: 0.9999 - recall: 0.9984\n",
            "Epoch 50/92\n",
            "413/413 [==============================] - 30s 72ms/step - loss: 0.0112 - accuracy: 0.9968 - auc: 0.9998 - recall: 0.9965\n",
            "Epoch 51/92\n",
            "413/413 [==============================] - 30s 72ms/step - loss: 0.0285 - accuracy: 0.9920 - auc: 0.9997 - recall: 0.9914\n",
            "Epoch 52/92\n",
            "413/413 [==============================] - 30s 73ms/step - loss: 0.0067 - accuracy: 0.9980 - auc: 0.9999 - recall: 0.9978\n",
            "Epoch 53/92\n",
            "413/413 [==============================] - 30s 72ms/step - loss: 0.0025 - accuracy: 0.9995 - auc: 1.0000 - recall: 0.9993\n",
            "Epoch 54/92\n",
            "413/413 [==============================] - 30s 73ms/step - loss: 0.0023 - accuracy: 0.9995 - auc: 1.0000 - recall: 0.9993\n",
            "Epoch 55/92\n",
            "413/413 [==============================] - 30s 73ms/step - loss: 0.0029 - accuracy: 0.9997 - auc: 1.0000 - recall: 0.9997\n",
            "Epoch 56/92\n",
            "413/413 [==============================] - 30s 73ms/step - loss: 0.0060 - accuracy: 0.9985 - auc: 0.9998 - recall: 0.9983\n",
            "Epoch 57/92\n",
            "413/413 [==============================] - 30s 73ms/step - loss: 0.0520 - accuracy: 0.9855 - auc: 0.9992 - recall: 0.9844\n",
            "Epoch 58/92\n",
            "413/413 [==============================] - 30s 73ms/step - loss: 0.0054 - accuracy: 0.9984 - auc: 1.0000 - recall: 0.9983\n",
            "Epoch 59/92\n",
            "413/413 [==============================] - 30s 72ms/step - loss: 0.0042 - accuracy: 0.9992 - auc: 1.0000 - recall: 0.9989\n",
            "Epoch 60/92\n",
            "413/413 [==============================] - 30s 73ms/step - loss: 0.0021 - accuracy: 0.9997 - auc: 1.0000 - recall: 0.9997\n",
            "Epoch 61/92\n",
            "413/413 [==============================] - 30s 73ms/step - loss: 9.1680e-04 - accuracy: 0.9998 - auc: 1.0000 - recall: 0.9998\n",
            "Epoch 62/92\n",
            "413/413 [==============================] - 30s 73ms/step - loss: 0.0013 - accuracy: 0.9999 - auc: 1.0000 - recall: 0.9999\n",
            "Epoch 63/92\n",
            "413/413 [==============================] - 30s 73ms/step - loss: 3.1581e-04 - accuracy: 1.0000 - auc: 1.0000 - recall: 1.0000\n",
            "Epoch 64/92\n",
            "413/413 [==============================] - 30s 73ms/step - loss: 6.7024e-04 - accuracy: 1.0000 - auc: 1.0000 - recall: 0.9999\n",
            "Epoch 65/92\n",
            "413/413 [==============================] - 30s 73ms/step - loss: 2.5155e-04 - accuracy: 1.0000 - auc: 1.0000 - recall: 1.0000\n",
            "Epoch 66/92\n",
            "413/413 [==============================] - 30s 72ms/step - loss: 0.0198 - accuracy: 0.9954 - auc: 0.9996 - recall: 0.9949\n",
            "Epoch 67/92\n",
            "413/413 [==============================] - 30s 72ms/step - loss: 0.0482 - accuracy: 0.9863 - auc: 0.9993 - recall: 0.9844\n",
            "Epoch 68/92\n",
            "413/413 [==============================] - 30s 73ms/step - loss: 0.0037 - accuracy: 0.9990 - auc: 1.0000 - recall: 0.9990\n",
            "Epoch 69/92\n",
            "413/413 [==============================] - 30s 73ms/step - loss: 7.0453e-04 - accuracy: 1.0000 - auc: 1.0000 - recall: 0.9999\n",
            "Epoch 70/92\n",
            "413/413 [==============================] - 30s 73ms/step - loss: 2.8970e-04 - accuracy: 1.0000 - auc: 1.0000 - recall: 1.0000\n",
            "Epoch 71/92\n",
            "413/413 [==============================] - 30s 73ms/step - loss: 1.6355e-04 - accuracy: 1.0000 - auc: 1.0000 - recall: 1.0000\n",
            "Epoch 72/92\n",
            "413/413 [==============================] - 30s 73ms/step - loss: 1.7311e-04 - accuracy: 1.0000 - auc: 1.0000 - recall: 1.0000\n",
            "Epoch 73/92\n",
            "413/413 [==============================] - 30s 73ms/step - loss: 1.1695e-04 - accuracy: 1.0000 - auc: 1.0000 - recall: 1.0000\n",
            "Epoch 74/92\n",
            "413/413 [==============================] - 30s 73ms/step - loss: 0.0058 - accuracy: 0.9986 - auc: 0.9998 - recall: 0.9983\n",
            "Epoch 75/92\n",
            "413/413 [==============================] - 30s 73ms/step - loss: 0.0459 - accuracy: 0.9872 - auc: 0.9992 - recall: 0.9852\n",
            "Epoch 76/92\n",
            "413/413 [==============================] - 30s 73ms/step - loss: 0.0019 - accuracy: 0.9995 - auc: 1.0000 - recall: 0.9995\n",
            "Epoch 77/92\n",
            "413/413 [==============================] - 30s 73ms/step - loss: 3.0394e-04 - accuracy: 1.0000 - auc: 1.0000 - recall: 1.0000\n",
            "Epoch 78/92\n",
            "413/413 [==============================] - 30s 73ms/step - loss: 2.8409e-04 - accuracy: 0.9999 - auc: 1.0000 - recall: 0.9999\n",
            "Epoch 79/92\n",
            "413/413 [==============================] - 30s 73ms/step - loss: 5.7846e-04 - accuracy: 0.9998 - auc: 1.0000 - recall: 0.9998\n",
            "Epoch 80/92\n",
            "413/413 [==============================] - 30s 73ms/step - loss: 0.0016 - accuracy: 0.9996 - auc: 1.0000 - recall: 0.9996\n",
            "Epoch 81/92\n",
            "413/413 [==============================] - 30s 73ms/step - loss: 0.0319 - accuracy: 0.9927 - auc: 0.9992 - recall: 0.9917\n",
            "Epoch 82/92\n",
            "413/413 [==============================] - 30s 73ms/step - loss: 0.0075 - accuracy: 0.9980 - auc: 0.9999 - recall: 0.9978\n",
            "Epoch 83/92\n",
            "413/413 [==============================] - 30s 73ms/step - loss: 0.0032 - accuracy: 0.9992 - auc: 1.0000 - recall: 0.9990\n",
            "Epoch 84/92\n",
            "413/413 [==============================] - 30s 73ms/step - loss: 0.0011 - accuracy: 0.9997 - auc: 1.0000 - recall: 0.9996\n",
            "Epoch 85/92\n",
            "413/413 [==============================] - 30s 73ms/step - loss: 2.0056e-04 - accuracy: 1.0000 - auc: 1.0000 - recall: 1.0000\n",
            "Epoch 86/92\n",
            "413/413 [==============================] - 30s 73ms/step - loss: 1.0085e-04 - accuracy: 1.0000 - auc: 1.0000 - recall: 1.0000\n",
            "Epoch 87/92\n",
            "413/413 [==============================] - 30s 73ms/step - loss: 7.5862e-05 - accuracy: 1.0000 - auc: 1.0000 - recall: 1.0000\n",
            "Epoch 88/92\n",
            "413/413 [==============================] - 30s 73ms/step - loss: 6.2832e-05 - accuracy: 1.0000 - auc: 1.0000 - recall: 1.0000\n",
            "Epoch 89/92\n",
            "413/413 [==============================] - 30s 73ms/step - loss: 2.2884e-04 - accuracy: 0.9999 - auc: 1.0000 - recall: 0.9999\n",
            "Epoch 90/92\n",
            "413/413 [==============================] - 30s 73ms/step - loss: 0.0348 - accuracy: 0.9902 - auc: 0.9996 - recall: 0.9894\n",
            "Epoch 91/92\n",
            "413/413 [==============================] - 30s 73ms/step - loss: 0.0039 - accuracy: 0.9991 - auc: 1.0000 - recall: 0.9989\n",
            "Epoch 92/92\n",
            "413/413 [==============================] - 30s 73ms/step - loss: 5.2889e-04 - accuracy: 1.0000 - auc: 1.0000 - recall: 1.0000\n"
          ]
        },
        {
          "output_type": "display_data",
          "data": {
            "image/png": "[encoded data removed]",
            "text/plain": [
              "<Figure size 432x288 with 1 Axes>"
            ]
          },
          "metadata": {
            "needs_background": "light"
          }
        },
        {
          "output_type": "display_data",
          "data": {
            "image/png": "[encoded data removed]",
            "text/plain": [
              "<Figure size 432x288 with 1 Axes>"
            ]
          },
          "metadata": {
            "needs_background": "light"
          }
        }
      ]
    },
    {
      "cell_type": "code",
      "metadata": {
        "id": "L2caGXHvzglH",
        "colab": {
          "base_uri": "https://localhost:8080/"
        },
        "outputId": "48927d6f-b333-4ecc-eb9c-fb19fc13ecd7"
      },
      "source": [
        "get_test_performance(model, X_test, test_label)"
      ],
      "execution_count": null,
      "outputs": [
        {
          "output_type": "stream",
          "name": "stdout",
          "text": [
            "45/45 [==============================] - 5s 27ms/step - loss: 0.1113 - accuracy: 0.9815 - auc: 0.9957 - recall: 0.9808\n",
            "Test loss:0.11127341538667679\n",
            "Test accuracy:0.9815471768379211\n",
            "Test Recall: 0.9808374643325806\n",
            "Test AUC: 0.9957383871078491\n"
          ]
        }
      ]
    },
    {
      "cell_type": "markdown",
      "metadata": {
        "id": "VztWrRCA2pRd"
      },
      "source": [
        "# Train Dataset 1 test=val"
      ]
    },
    {
      "cell_type": "code",
      "source": [
        "np.random.seed(42)\n",
        "num_classes = 118\n",
        "X_train = load_X('/content/drive/Shareddrives/MMH/TIFS20/Dataset #1/train/Inertial Signals')\n",
        "X_test = load_X('/content/drive/Shareddrives/MMH/TIFS20/Dataset #1/test/Inertial Signals')\n",
        "train_label = load_y('/content/drive/Shareddrives/MMH/TIFS20/Dataset #1/train/y_train.txt')\n",
        "test_label = load_y('/content/drive/Shareddrives/MMH/TIFS20/Dataset #1/test/y_test.txt')\n",
        "shape = ((X_train.shape[1], X_train.shape[2]), train_label.shape[1])"
      ],
      "metadata": {
        "id": "zf7hjHzdF5RY"
      },
      "execution_count": 19,
      "outputs": []
    },
    {
      "cell_type": "code",
      "metadata": {
        "id": "O1zEHVckto7S",
        "colab": {
          "base_uri": "https://localhost:8080/"
        },
        "outputId": "c76c3947-7030-4ed6-9167-8838456caa45"
      },
      "source": [
        "if gpu:\n",
        "    model = MLSTM_FCN((X_train.shape[1], X_train.shape[2]), train_label.shape[1])\n",
        "    history = model.fit(X_train,train_label,batch_size=32,epochs=200,verbose=1,callbacks=[tensorflow.keras.callbacks.EarlyStopping('val_loss', patience=30,restore_best_weights=True)],validation_data=(X_test,test_label))\n",
        "if tpu:\n",
        "    with strategy.scope():\n",
        "        model = MLSTM_FCN((X_train.shape[1], X_train.shape[2]), train_label.shape[1])\n",
        "        history = model.fit(X_train,train_label,batch_size=8*32,epochs=200,verbose=1,callbacks=[tensorflow.keras.callbacks.EarlyStopping('val_loss', patience=30,restore_best_weights=True)],validation_data=(X_test,test_label))\n",
        "\n",
        "plot_performance(X_train, train_label, history)"
      ],
      "execution_count": null,
      "outputs": [
        {
          "output_type": "stream",
          "name": "stdout",
          "text": [
            "Model: \"model_4\"\n",
            "__________________________________________________________________________________________________\n",
            " Layer (type)                   Output Shape         Param #     Connected to                     \n",
            "==================================================================================================\n",
            " input_5 (InputLayer)           [(None, 6, 128)]     0           []                               \n",
            "                                                                                                  \n",
            " permute_4 (Permute)            (None, 128, 6)       0           ['input_5[0][0]']                \n",
            "                                                                                                  \n",
            " conv1d_12 (Conv1D)             (None, 128, 32)      1760        ['permute_4[0][0]']              \n",
            "                                                                                                  \n",
            " batch_normalization_12 (BatchN  (None, 128, 32)     128         ['conv1d_12[0][0]']              \n",
            " ormalization)                                                                                    \n",
            "                                                                                                  \n",
            " activation_12 (Activation)     (None, 128, 32)      0           ['batch_normalization_12[0][0]'] \n",
            "                                                                                                  \n",
            " global_average_pooling1d_12 (G  (None, 32)          0           ['activation_12[0][0]']          \n",
            " lobalAveragePooling1D)                                                                           \n",
            "                                                                                                  \n",
            " reshape_8 (Reshape)            (None, 1, 32)        0           ['global_average_pooling1d_12[0][\n",
            "                                                                 0]']                             \n",
            "                                                                                                  \n",
            " dense_20 (Dense)               (None, 1, 2)         64          ['reshape_8[0][0]']              \n",
            "                                                                                                  \n",
            " dense_21 (Dense)               (None, 1, 32)        64          ['dense_20[0][0]']               \n",
            "                                                                                                  \n",
            " multiply_8 (Multiply)          (None, 128, 32)      0           ['activation_12[0][0]',          \n",
            "                                                                  'dense_21[0][0]']               \n",
            "                                                                                                  \n",
            " conv1d_13 (Conv1D)             (None, 128, 512)     147968      ['multiply_8[0][0]']             \n",
            "                                                                                                  \n",
            " batch_normalization_13 (BatchN  (None, 128, 512)    2048        ['conv1d_13[0][0]']              \n",
            " ormalization)                                                                                    \n",
            "                                                                                                  \n",
            " activation_13 (Activation)     (None, 128, 512)     0           ['batch_normalization_13[0][0]'] \n",
            "                                                                                                  \n",
            " global_average_pooling1d_13 (G  (None, 512)         0           ['activation_13[0][0]']          \n",
            " lobalAveragePooling1D)                                                                           \n",
            "                                                                                                  \n",
            " reshape_9 (Reshape)            (None, 1, 512)       0           ['global_average_pooling1d_13[0][\n",
            "                                                                 0]']                             \n",
            "                                                                                                  \n",
            " dense_22 (Dense)               (None, 1, 32)        16384       ['reshape_9[0][0]']              \n",
            "                                                                                                  \n",
            " dense_23 (Dense)               (None, 1, 512)       16384       ['dense_22[0][0]']               \n",
            "                                                                                                  \n",
            " multiply_9 (Multiply)          (None, 128, 512)     0           ['activation_13[0][0]',          \n",
            "                                                                  'dense_23[0][0]']               \n",
            "                                                                                                  \n",
            " conv1d_14 (Conv1D)             (None, 128, 512)     2359808     ['multiply_9[0][0]']             \n",
            "                                                                                                  \n",
            " masking_4 (Masking)            (None, 6, 128)       0           ['input_5[0][0]']                \n",
            "                                                                                                  \n",
            " batch_normalization_14 (BatchN  (None, 128, 512)    2048        ['conv1d_14[0][0]']              \n",
            " ormalization)                                                                                    \n",
            "                                                                                                  \n",
            " bidirectional_4 (Bidirectional  (None, 16)          8768        ['masking_4[0][0]']              \n",
            " )                                                                                                \n",
            "                                                                                                  \n",
            " activation_14 (Activation)     (None, 128, 512)     0           ['batch_normalization_14[0][0]'] \n",
            "                                                                                                  \n",
            " dropout_4 (Dropout)            (None, 16)           0           ['bidirectional_4[0][0]']        \n",
            "                                                                                                  \n",
            " global_average_pooling1d_14 (G  (None, 512)         0           ['activation_14[0][0]']          \n",
            " lobalAveragePooling1D)                                                                           \n",
            "                                                                                                  \n",
            " concatenate_4 (Concatenate)    (None, 528)          0           ['dropout_4[0][0]',              \n",
            "                                                                  'global_average_pooling1d_14[0][\n",
            "                                                                 0]']                             \n",
            "                                                                                                  \n",
            " dense_24 (Dense)               (None, 118)          62422       ['concatenate_4[0][0]']          \n",
            "                                                                                                  \n",
            "==================================================================================================\n",
            "Total params: 2,617,846\n",
            "Trainable params: 2,615,734\n",
            "Non-trainable params: 2,112\n",
            "__________________________________________________________________________________________________\n",
            "Epoch 1/200\n",
            "1035/1035 [==============================] - 78s 65ms/step - loss: 0.6073 - accuracy: 0.8667 - auc: 0.9925 - recall: 0.7821 - val_loss: 0.6562 - val_accuracy: 0.8529 - val_auc: 0.9827 - val_recall: 0.8297\n",
            "Epoch 2/200\n",
            "1035/1035 [==============================] - 63s 61ms/step - loss: 0.1130 - accuracy: 0.9722 - auc: 0.9990 - recall: 0.9623 - val_loss: 0.4620 - val_accuracy: 0.9321 - val_auc: 0.9841 - val_recall: 0.9195\n",
            "Epoch 3/200\n",
            "1035/1035 [==============================] - 64s 62ms/step - loss: 0.0794 - accuracy: 0.9788 - auc: 0.9994 - recall: 0.9718 - val_loss: 0.4430 - val_accuracy: 0.9214 - val_auc: 0.9856 - val_recall: 0.9158\n",
            "Epoch 4/200\n",
            "1035/1035 [==============================] - 63s 61ms/step - loss: 0.0564 - accuracy: 0.9847 - auc: 0.9996 - recall: 0.9796 - val_loss: 0.4334 - val_accuracy: 0.9257 - val_auc: 0.9851 - val_recall: 0.9182\n",
            "Epoch 5/200\n",
            "1035/1035 [==============================] - 63s 61ms/step - loss: 0.0488 - accuracy: 0.9858 - auc: 0.9996 - recall: 0.9821 - val_loss: 0.4280 - val_accuracy: 0.9265 - val_auc: 0.9867 - val_recall: 0.9217\n",
            "Epoch 6/200\n",
            "1035/1035 [==============================] - 63s 61ms/step - loss: 0.0383 - accuracy: 0.9888 - auc: 0.9998 - recall: 0.9852 - val_loss: 0.4631 - val_accuracy: 0.9230 - val_auc: 0.9824 - val_recall: 0.9195\n",
            "Epoch 7/200\n",
            "1035/1035 [==============================] - 64s 61ms/step - loss: 0.0340 - accuracy: 0.9902 - auc: 0.9998 - recall: 0.9876 - val_loss: 0.4662 - val_accuracy: 0.9225 - val_auc: 0.9846 - val_recall: 0.9179\n",
            "Epoch 8/200\n",
            "1035/1035 [==============================] - 63s 61ms/step - loss: 0.0272 - accuracy: 0.9917 - auc: 0.9998 - recall: 0.9898 - val_loss: 0.4354 - val_accuracy: 0.9265 - val_auc: 0.9840 - val_recall: 0.9219\n",
            "Epoch 9/200\n",
            "1035/1035 [==============================] - 63s 61ms/step - loss: 0.0233 - accuracy: 0.9932 - auc: 0.9999 - recall: 0.9916 - val_loss: 0.4472 - val_accuracy: 0.9257 - val_auc: 0.9837 - val_recall: 0.9217\n",
            "Epoch 10/200\n",
            "1035/1035 [==============================] - 63s 61ms/step - loss: 0.0229 - accuracy: 0.9936 - auc: 0.9998 - recall: 0.9919 - val_loss: 0.4606 - val_accuracy: 0.9332 - val_auc: 0.9824 - val_recall: 0.9302\n",
            "Epoch 11/200\n",
            "1035/1035 [==============================] - 64s 61ms/step - loss: 0.0195 - accuracy: 0.9937 - auc: 0.9999 - recall: 0.9924 - val_loss: 0.4218 - val_accuracy: 0.9396 - val_auc: 0.9854 - val_recall: 0.9369\n",
            "Epoch 12/200\n",
            "1035/1035 [==============================] - 63s 61ms/step - loss: 0.0123 - accuracy: 0.9965 - auc: 0.9999 - recall: 0.9958 - val_loss: 0.4682 - val_accuracy: 0.9412 - val_auc: 0.9828 - val_recall: 0.9385\n",
            "Epoch 13/200\n",
            "1035/1035 [==============================] - 63s 61ms/step - loss: 0.0168 - accuracy: 0.9955 - auc: 0.9998 - recall: 0.9948 - val_loss: 0.4835 - val_accuracy: 0.9364 - val_auc: 0.9825 - val_recall: 0.9329\n",
            "Epoch 14/200\n",
            "1035/1035 [==============================] - 64s 61ms/step - loss: 0.0105 - accuracy: 0.9970 - auc: 0.9999 - recall: 0.9964 - val_loss: 0.4362 - val_accuracy: 0.9422 - val_auc: 0.9835 - val_recall: 0.9404\n",
            "Epoch 15/200\n",
            "1035/1035 [==============================] - 63s 61ms/step - loss: 0.0196 - accuracy: 0.9949 - auc: 0.9998 - recall: 0.9940 - val_loss: 0.4019 - val_accuracy: 0.9433 - val_auc: 0.9852 - val_recall: 0.9401\n",
            "Epoch 16/200\n",
            "1035/1035 [==============================] - 63s 61ms/step - loss: 0.0112 - accuracy: 0.9968 - auc: 0.9999 - recall: 0.9961 - val_loss: 0.5333 - val_accuracy: 0.9227 - val_auc: 0.9810 - val_recall: 0.9206\n",
            "Epoch 17/200\n",
            "1035/1035 [==============================] - 63s 61ms/step - loss: 0.0125 - accuracy: 0.9966 - auc: 0.9999 - recall: 0.9959 - val_loss: 0.4046 - val_accuracy: 0.9465 - val_auc: 0.9833 - val_recall: 0.9444\n",
            "Epoch 18/200\n",
            "1035/1035 [==============================] - 63s 61ms/step - loss: 0.0117 - accuracy: 0.9970 - auc: 0.9998 - recall: 0.9964 - val_loss: 0.4598 - val_accuracy: 0.9406 - val_auc: 0.9814 - val_recall: 0.9385\n",
            "Epoch 19/200\n",
            "1035/1035 [==============================] - 63s 61ms/step - loss: 0.0110 - accuracy: 0.9968 - auc: 0.9999 - recall: 0.9963 - val_loss: 0.3940 - val_accuracy: 0.9417 - val_auc: 0.9849 - val_recall: 0.9401\n",
            "Epoch 20/200\n",
            "1035/1035 [==============================] - 63s 61ms/step - loss: 0.0112 - accuracy: 0.9970 - auc: 0.9999 - recall: 0.9964 - val_loss: 0.4585 - val_accuracy: 0.9388 - val_auc: 0.9836 - val_recall: 0.9364\n",
            "Epoch 21/200\n",
            "1035/1035 [==============================] - 63s 61ms/step - loss: 0.0076 - accuracy: 0.9979 - auc: 0.9999 - recall: 0.9975 - val_loss: 0.4813 - val_accuracy: 0.9372 - val_auc: 0.9809 - val_recall: 0.9356\n",
            "Epoch 22/200\n",
            "1035/1035 [==============================] - 63s 61ms/step - loss: 0.0094 - accuracy: 0.9972 - auc: 0.9999 - recall: 0.9967 - val_loss: 0.4169 - val_accuracy: 0.9473 - val_auc: 0.9847 - val_recall: 0.9460\n",
            "Epoch 23/200\n",
            "1035/1035 [==============================] - 64s 62ms/step - loss: 0.0093 - accuracy: 0.9973 - auc: 0.9999 - recall: 0.9969 - val_loss: 0.5045 - val_accuracy: 0.9430 - val_auc: 0.9821 - val_recall: 0.9404\n",
            "Epoch 24/200\n",
            "1035/1035 [==============================] - 64s 62ms/step - loss: 0.0072 - accuracy: 0.9977 - auc: 1.0000 - recall: 0.9975 - val_loss: 0.5549 - val_accuracy: 0.9329 - val_auc: 0.9795 - val_recall: 0.9305\n",
            "Epoch 25/200\n",
            "1035/1035 [==============================] - 63s 61ms/step - loss: 0.0065 - accuracy: 0.9981 - auc: 1.0000 - recall: 0.9978 - val_loss: 0.6190 - val_accuracy: 0.9128 - val_auc: 0.9765 - val_recall: 0.9102\n",
            "Epoch 26/200\n",
            "1035/1035 [==============================] - 64s 61ms/step - loss: 0.0083 - accuracy: 0.9976 - auc: 0.9999 - recall: 0.9973 - val_loss: 0.3998 - val_accuracy: 0.9441 - val_auc: 0.9855 - val_recall: 0.9425\n",
            "Epoch 27/200\n",
            "1035/1035 [==============================] - 64s 61ms/step - loss: 0.0070 - accuracy: 0.9979 - auc: 1.0000 - recall: 0.9975 - val_loss: 0.5112 - val_accuracy: 0.9329 - val_auc: 0.9823 - val_recall: 0.9310\n",
            "Epoch 28/200\n",
            "1035/1035 [==============================] - 64s 62ms/step - loss: 0.0061 - accuracy: 0.9984 - auc: 0.9999 - recall: 0.9981 - val_loss: 0.4115 - val_accuracy: 0.9447 - val_auc: 0.9835 - val_recall: 0.9433\n",
            "Epoch 29/200\n",
            " 729/1035 [====================>.........] - ETA: 18s - loss: 0.0069 - accuracy: 0.9982 - auc: 0.9999 - recall: 0.9979"
          ]
        }
      ]
    },
    {
      "cell_type": "code",
      "metadata": {
        "id": "TSIIcaHQuPMl"
      },
      "source": [
        "get_test_performance(model, X_test, test_label)"
      ],
      "execution_count": null,
      "outputs": []
    },
    {
      "cell_type": "markdown",
      "metadata": {
        "id": "YRezZ-Um0fYf"
      },
      "source": [
        "# Train dataset 2 test = val"
      ]
    },
    {
      "cell_type": "code",
      "metadata": {
        "id": "wGKgCzlru7oF"
      },
      "source": [
        "np.random.seed(42)\n",
        "X_train = load_X('/content/drive/Shareddrives/MMH/TIFS20/Dataset #2/train/Inertial Signals')\n",
        "X_test = load_X('/content/drive/Shareddrives/MMH/TIFS20/Dataset #2/test/Inertial Signals')\n",
        "train_label = load_y('/content/drive/Shareddrives/MMH/TIFS20/Dataset #2/train/y_train.txt')\n",
        "test_label = load_y('/content/drive/Shareddrives/MMH/TIFS20/Dataset #2/test/y_test.txt')\n",
        "shape = ((X_train.shape[1], X_train.shape[2]), train_label.shape[1])\n",
        "num_classes = 20"
      ],
      "execution_count": null,
      "outputs": []
    },
    {
      "cell_type": "code",
      "metadata": {
        "id": "_tRyFchR0a4v"
      },
      "source": [
        "if gpu:\n",
        "    model = MLSTM_FCN((X_train.shape[1], X_train.shape[2]), train_label.shape[1])\n",
        "    history = model.fit(X_train,train_label,batch_size=32,epochs=200,verbose=1,callbacks=[tensorflow.keras.callbacks.EarlyStopping('val_loss', patience=30,restore_best_weights=True)],validation_data=(X_test,test_label))\n",
        "if tpu:\n",
        "    with strategy.scope():\n",
        "        model = MLSTM_FCN((X_train.shape[1], X_train.shape[2]), train_label.shape[1])\n",
        "        history = model.fit(X_train,train_label,batch_size=8*32,epochs=200,verbose=1,callbacks=[tensorflow.keras.callbacks.EarlyStopping('val_loss', patience=30,restore_best_weights=True)],validation_data=(X_test,test_label))\n",
        "\n",
        "plot_performance(X_train, train_label, history)"
      ],
      "execution_count": null,
      "outputs": []
    },
    {
      "cell_type": "code",
      "metadata": {
        "id": "_rssOilJ0caN"
      },
      "source": [
        "get_test_performance(model, X_test, test_label)"
      ],
      "execution_count": null,
      "outputs": []
    },
    {
      "cell_type": "markdown",
      "metadata": {
        "id": "ExiUFOeA0pua"
      },
      "source": [
        "#Train Test = val Dataset OU-ISIR"
      ]
    },
    {
      "cell_type": "code",
      "metadata": {
        "id": "MxJ37t7A0w2J"
      },
      "source": [
        "num_classes = 745\n",
        "np.random.seed(42)\n",
        "X_train = load_X('/content/drive/Shareddrives/MMH/TIFS20/OU-ISIR_sensors_dataset/identification/data/train/data')\n",
        "X_test = load_X('/content/drive/Shareddrives/MMH/TIFS20/OU-ISIR_sensors_dataset/identification/data/test/data')\n",
        "train_label = load_y('/content/drive/Shareddrives/MMH/TIFS20/OU-ISIR_sensors_dataset/identification/data/train/train_y.txt')\n",
        "test_label = load_y('/content/drive/Shareddrives/MMH/TIFS20/OU-ISIR_sensors_dataset/identification/data/test/test_y.txt')\n",
        "print(f'{X_train.shape} {X_test.shape}')\n",
        "model = MLSTM_FCN((X_train.shape[1], X_train.shape[2]), train_label.shape[1])"
      ],
      "execution_count": null,
      "outputs": []
    },
    {
      "cell_type": "code",
      "metadata": {
        "id": "-6daQEds0zAk"
      },
      "source": [
        "if gpu:\n",
        "    model = MLSTM_FCN((X_train.shape[1], X_train.shape[2]), train_label.shape[1])\n",
        "    history = model.fit(X_train,train_label,batch_size=32,epochs=200,verbose=1,callbacks=[tensorflow.keras.callbacks.EarlyStopping('val_loss', patience=30,restore_best_weights=True)],validation_data=(X_test,test_label))\n",
        "if tpu:\n",
        "    with strategy.scope():\n",
        "        model = MLSTM_FCN((X_train.shape[1], X_train.shape[2]), train_label.shape[1])\n",
        "        history = model.fit(X_train,train_label,batch_size=8*32,epochs=200,verbose=1,callbacks=[tensorflow.keras.callbacks.EarlyStopping('val_loss', patience=30,restore_best_weights=True)],validation_data=(X_test,test_label))\n",
        "\n",
        "plot_performance(X_train, train_label, history)"
      ],
      "execution_count": null,
      "outputs": []
    },
    {
      "cell_type": "code",
      "metadata": {
        "id": "YCCUCfyd01Fr"
      },
      "source": [
        "get_test_performance(model, X_test, test_label)"
      ],
      "execution_count": null,
      "outputs": []
    },
    {
      "cell_type": "markdown",
      "metadata": {
        "id": "IqmCcxhXqzr_"
      },
      "source": [
        "# Tune Test - > val \n",
        "\n"
      ]
    },
    {
      "cell_type": "code",
      "metadata": {
        "id": "p4Ysihz6sSAq"
      },
      "source": [
        "np.random.seed(42)\n",
        "num_classes = 118\n",
        "X_train = load_X('/content/drive/Shareddrives/MMH/TIFS20/Dataset #1/train/Inertial Signals')\n",
        "X_test = load_X('/content/drive/Shareddrives/MMH/TIFS20/Dataset #1/test/Inertial Signals')\n",
        "train_label = load_y('/content/drive/Shareddrives/MMH/TIFS20/Dataset #1/train/y_train.txt')\n",
        "test_label = load_y('/content/drive/Shareddrives/MMH/TIFS20/Dataset #1/test/y_test.txt')\n",
        "shape = ((X_train.shape[1], X_train.shape[2]), train_label.shape[1])"
      ],
      "execution_count": null,
      "outputs": []
    },
    {
      "cell_type": "code",
      "metadata": {
        "id": "MzBAQPTxpk_x",
        "colab": {
          "base_uri": "https://localhost:8080/"
        },
        "outputId": "ef180a53-dd40-40dc-96e2-3a13d838e5c3"
      },
      "source": [
        "if gpu:\n",
        "    tuner = kt.tuners.BayesianOptimization(post_se,\n",
        "        objective='val_accuracy',\n",
        "        max_trials=30,\n",
        "        seed=42,\n",
        "        project_name='Model_gpu')\n",
        "    # Will stop training if the \"val_loss\" hasn't improved in 30 epochs.\n",
        "    tuner.search(X_train, train_label, epochs=200, validation_data=(X_test,test_label), shuffle=True, callbacks=[tensorflow.keras.callbacks.EarlyStopping('val_loss', patience=30,restore_best_weights=True)])\n",
        "\n",
        "if tpu:\n",
        "    with strategy.scope():\n",
        "        tuner = kt.tuners.BayesianOptimization(post_se,\n",
        "            objective='val_accuracy',\n",
        "            max_trials=30,\n",
        "            seed=42,\n",
        "            project_name='Model_tpu_test')\n",
        "        # Will stop training if the \"val_loss\" hasn't improved in 30 epochs.\n",
        "        tuner.search(X_train, train_label, epochs=200, validation_data=(X_test,test_label), shuffle=True, callbacks=[tensorflow.keras.callbacks.EarlyStopping('val_loss', patience=30,restore_best_weights=True)])"
      ],
      "execution_count": null,
      "outputs": [
        {
          "output_type": "stream",
          "name": "stdout",
          "text": [
            "Trial 4 Complete [00h 28m 12s]\n",
            "val_accuracy: 0.9433155059814453\n",
            "\n",
            "Best val_accuracy So Far: 0.9502673745155334\n",
            "Total elapsed time: 01h 54m 56s\n",
            "\n",
            "Search: Running Trial #5\n",
            "\n",
            "Hyperparameter    |Value             |Best Value So Far \n",
            "Bi-LSTM_1         |8                 |8                 \n",
            "Dropout           |0.8               |0.8               \n",
            "conv_1_filter     |512               |32                \n",
            "conv_1_filter_size|9                 |9                 \n",
            "conv_2_filter     |512               |256               \n",
            "conv_2_filter_size|3                 |3                 \n",
            "conv_3_filter     |512               |512               \n",
            "conv_3_filter_size|9                 |3                 \n",
            "\n",
            "Epoch 1/200\n",
            "1035/1035 [==============================] - 90s 77ms/step - loss: 0.6166 - accuracy: 0.8550 - val_loss: 0.6020 - val_accuracy: 0.8904\n",
            "Epoch 2/200\n",
            "1035/1035 [==============================] - 75s 73ms/step - loss: 0.1171 - accuracy: 0.9696 - val_loss: 0.5149 - val_accuracy: 0.9144\n",
            "Epoch 3/200\n",
            "1035/1035 [==============================] - 74s 72ms/step - loss: 0.0782 - accuracy: 0.9792 - val_loss: 0.7121 - val_accuracy: 0.8754\n",
            "Epoch 4/200\n",
            "1035/1035 [==============================] - 74s 72ms/step - loss: 0.0575 - accuracy: 0.9834 - val_loss: 0.4555 - val_accuracy: 0.9305\n",
            "Epoch 5/200\n",
            "1035/1035 [==============================] - 74s 72ms/step - loss: 0.0496 - accuracy: 0.9852 - val_loss: 0.4455 - val_accuracy: 0.9340\n",
            "Epoch 6/200\n",
            "1035/1035 [==============================] - 75s 72ms/step - loss: 0.0419 - accuracy: 0.9879 - val_loss: 0.5160 - val_accuracy: 0.9110\n",
            "Epoch 7/200\n",
            "1035/1035 [==============================] - 74s 72ms/step - loss: 0.0346 - accuracy: 0.9901 - val_loss: 0.4403 - val_accuracy: 0.9184\n",
            "Epoch 8/200\n",
            "1035/1035 [==============================] - 75s 72ms/step - loss: 0.0259 - accuracy: 0.9922 - val_loss: 0.4357 - val_accuracy: 0.9377\n",
            "Epoch 9/200\n",
            "1035/1035 [==============================] - 75s 72ms/step - loss: 0.0267 - accuracy: 0.9918 - val_loss: 0.5239 - val_accuracy: 0.9270\n",
            "Epoch 10/200\n",
            "1035/1035 [==============================] - 75s 73ms/step - loss: 0.0224 - accuracy: 0.9934 - val_loss: 0.3917 - val_accuracy: 0.9417\n",
            "Epoch 11/200\n",
            "1035/1035 [==============================] - 74s 72ms/step - loss: 0.0238 - accuracy: 0.9931 - val_loss: 0.3985 - val_accuracy: 0.9414\n",
            "Epoch 12/200\n",
            "1035/1035 [==============================] - 75s 72ms/step - loss: 0.0199 - accuracy: 0.9941 - val_loss: 0.4507 - val_accuracy: 0.9393\n",
            "Epoch 13/200\n",
            "1035/1035 [==============================] - 74s 72ms/step - loss: 0.0140 - accuracy: 0.9961 - val_loss: 0.4619 - val_accuracy: 0.9324\n",
            "Epoch 14/200\n",
            "1035/1035 [==============================] - 75s 72ms/step - loss: 0.0152 - accuracy: 0.9959 - val_loss: 0.5551 - val_accuracy: 0.9294\n",
            "Epoch 15/200\n",
            "1035/1035 [==============================] - 74s 72ms/step - loss: 0.0159 - accuracy: 0.9951 - val_loss: 0.5244 - val_accuracy: 0.9369\n",
            "Epoch 16/200\n",
            "1035/1035 [==============================] - 74s 72ms/step - loss: 0.0118 - accuracy: 0.9965 - val_loss: 0.4477 - val_accuracy: 0.9441\n",
            "Epoch 17/200\n",
            "1035/1035 [==============================] - 75s 72ms/step - loss: 0.0153 - accuracy: 0.9956 - val_loss: 0.5839 - val_accuracy: 0.9176\n",
            "Epoch 18/200\n",
            "1035/1035 [==============================] - 76s 73ms/step - loss: 0.0109 - accuracy: 0.9969 - val_loss: 0.5030 - val_accuracy: 0.9310\n",
            "Epoch 19/200\n",
            "1035/1035 [==============================] - 76s 74ms/step - loss: 0.0149 - accuracy: 0.9956 - val_loss: 0.4624 - val_accuracy: 0.9441\n",
            "Epoch 20/200\n",
            "1035/1035 [==============================] - 78s 76ms/step - loss: 0.0078 - accuracy: 0.9976 - val_loss: 0.4508 - val_accuracy: 0.9447\n",
            "Epoch 21/200\n",
            "1035/1035 [==============================] - 78s 75ms/step - loss: 0.0081 - accuracy: 0.9975 - val_loss: 0.4520 - val_accuracy: 0.9404\n",
            "Epoch 22/200\n",
            "1035/1035 [==============================] - 78s 76ms/step - loss: 0.0137 - accuracy: 0.9956 - val_loss: 0.4755 - val_accuracy: 0.9463\n",
            "Epoch 23/200\n",
            "1035/1035 [==============================] - 77s 75ms/step - loss: 0.0077 - accuracy: 0.9981 - val_loss: 0.4378 - val_accuracy: 0.9439\n",
            "Epoch 24/200\n",
            "1035/1035 [==============================] - 77s 74ms/step - loss: 0.0088 - accuracy: 0.9974 - val_loss: 0.5006 - val_accuracy: 0.9484\n",
            "Epoch 25/200\n",
            "1035/1035 [==============================] - 76s 74ms/step - loss: 0.0068 - accuracy: 0.9983 - val_loss: 0.4334 - val_accuracy: 0.9479\n",
            "Epoch 26/200\n",
            "1035/1035 [==============================] - 78s 75ms/step - loss: 0.0111 - accuracy: 0.9968 - val_loss: 0.4345 - val_accuracy: 0.9369\n",
            "Epoch 27/200\n",
            " 268/1035 [======>.......................] - ETA: 54s - loss: 0.0105 - accuracy: 0.9972"
          ]
        }
      ]
    },
    {
      "cell_type": "markdown",
      "metadata": {
        "id": "fwWBPV9HJUhg"
      },
      "source": [
        "# MODEL DEFINITION for Second Tuning"
      ]
    },
    {
      "cell_type": "code",
      "metadata": {
        "id": "o5PaRlnv5WnW"
      },
      "source": [
        "def MLSTM_FCN_2(shape, num_classes):\n",
        "    x = Input(shape=(6, 128))\n",
        "    ip = x\n",
        "    x = Masking()(ip)\n",
        "    x = Bidirectional(LSTM(units=8))(x)\n",
        "    x = Dropout(0.8)(x)\n",
        "    y = Permute((2, 1))(ip)\n",
        "    y = Conv1D(32, 9, padding='same', kernel_initializer='he_uniform')(y)\n",
        "    y = BatchNormalization()(y)\n",
        "    y = Activation('relu')(y)\n",
        "    y = squeeze_excite_block(y)\n",
        "    y = Conv1D(256, 3, padding='same', kernel_initializer='he_uniform')(y)\n",
        "    y = BatchNormalization()(y)\n",
        "    y = Activation('relu')(y)\n",
        "    y = squeeze_excite_block(y)\n",
        "    y = Conv1D(512, 3, padding='same', kernel_initializer='he_uniform')(y)\n",
        "    y = BatchNormalization()(y)\n",
        "    y = Activation('relu')(y)\n",
        "    y = GlobalAveragePooling1D()(y)\n",
        "    x = concatenate([x,y])\n",
        "    \n",
        "    out = Dense(num_classes, activation='softmax')(x)\n",
        "    model = Model(ip, out)\n",
        "    model.compile(optimizer=\"adam\", loss=\"categorical_crossentropy\",metrics=['accuracy','AUC','Recall'])\n",
        "    model.summary()\n",
        "\n",
        "    return model"
      ],
      "execution_count": null,
      "outputs": []
    },
    {
      "cell_type": "markdown",
      "metadata": {
        "id": "bqMIrG_L0dG1"
      },
      "source": [
        "# Train Dataset 1 test=val"
      ]
    },
    {
      "cell_type": "code",
      "metadata": {
        "id": "LKon6TKg0dG2",
        "colab": {
          "base_uri": "https://localhost:8080/",
          "height": 1000
        },
        "outputId": "85da08d1-3e0b-45cb-afae-879a2bd3c609"
      },
      "source": [
        "checkpoint_filepath = '/content/1/checkpoint'\n",
        "if gpu:\n",
        "    model = MLSTM_FCN_2((X_train.shape[1], X_train.shape[2]), train_label.shape[1])\n",
        "    history = model.fit(X_train,train_label,batch_size=32,epochs=200,verbose=1,callbacks=[EarlyStopping('val_loss', patience=30,restore_best_weights=True),ModelCheckpoint(checkpoint_filepath, monitor='val_loss', save_best_only=True,save_weights_only=True)],validation_data=(X_test,test_label))\n",
        "if tpu:\n",
        "    with strategy.scope():\n",
        "        model = MLSTM_FCN_2((X_train.shape[1], X_train.shape[2]), train_label.shape[1])\n",
        "        history = model.fit(X_train,train_label,batch_size=8*32,epochs=200,verbose=1,callbacks=[EarlyStopping('val_loss', patience=30,restore_best_weights=True),ModelCheckpoint(checkpoint_filepath, monitor='val_loss', save_best_only=True,save_weights_only=True)],validation_data=(X_test,test_label))\n",
        "\n",
        "plot_performance(X_train, train_label, history)"
      ],
      "execution_count": null,
      "outputs": [
        {
          "output_type": "stream",
          "name": "stdout",
          "text": [
            "Model: \"model_7\"\n",
            "__________________________________________________________________________________________________\n",
            " Layer (type)                   Output Shape         Param #     Connected to                     \n",
            "==================================================================================================\n",
            " input_8 (InputLayer)           [(None, 6, 128)]     0           []                               \n",
            "                                                                                                  \n",
            " permute_7 (Permute)            (None, 128, 6)       0           ['input_8[0][0]']                \n",
            "                                                                                                  \n",
            " conv1d_21 (Conv1D)             (None, 128, 32)      1760        ['permute_7[0][0]']              \n",
            "                                                                                                  \n",
            " batch_normalization_21 (BatchN  (None, 128, 32)     128         ['conv1d_21[0][0]']              \n",
            " ormalization)                                                                                    \n",
            "                                                                                                  \n",
            " activation_21 (Activation)     (None, 128, 32)      0           ['batch_normalization_21[0][0]'] \n",
            "                                                                                                  \n",
            " global_average_pooling1d_21 (G  (None, 32)          0           ['activation_21[0][0]']          \n",
            " lobalAveragePooling1D)                                                                           \n",
            "                                                                                                  \n",
            " reshape_14 (Reshape)           (None, 1, 32)        0           ['global_average_pooling1d_21[0][\n",
            "                                                                 0]']                             \n",
            "                                                                                                  \n",
            " dense_35 (Dense)               (None, 1, 2)         64          ['reshape_14[0][0]']             \n",
            "                                                                                                  \n",
            " dense_36 (Dense)               (None, 1, 32)        64          ['dense_35[0][0]']               \n",
            "                                                                                                  \n",
            " multiply_14 (Multiply)         (None, 128, 32)      0           ['activation_21[0][0]',          \n",
            "                                                                  'dense_36[0][0]']               \n",
            "                                                                                                  \n",
            " conv1d_22 (Conv1D)             (None, 128, 256)     24832       ['multiply_14[0][0]']            \n",
            "                                                                                                  \n",
            " batch_normalization_22 (BatchN  (None, 128, 256)    1024        ['conv1d_22[0][0]']              \n",
            " ormalization)                                                                                    \n",
            "                                                                                                  \n",
            " activation_22 (Activation)     (None, 128, 256)     0           ['batch_normalization_22[0][0]'] \n",
            "                                                                                                  \n",
            " global_average_pooling1d_22 (G  (None, 256)         0           ['activation_22[0][0]']          \n",
            " lobalAveragePooling1D)                                                                           \n",
            "                                                                                                  \n",
            " reshape_15 (Reshape)           (None, 1, 256)       0           ['global_average_pooling1d_22[0][\n",
            "                                                                 0]']                             \n",
            "                                                                                                  \n",
            " dense_37 (Dense)               (None, 1, 16)        4096        ['reshape_15[0][0]']             \n",
            "                                                                                                  \n",
            " dense_38 (Dense)               (None, 1, 256)       4096        ['dense_37[0][0]']               \n",
            "                                                                                                  \n",
            " multiply_15 (Multiply)         (None, 128, 256)     0           ['activation_22[0][0]',          \n",
            "                                                                  'dense_38[0][0]']               \n",
            "                                                                                                  \n",
            " conv1d_23 (Conv1D)             (None, 128, 512)     393728      ['multiply_15[0][0]']            \n",
            "                                                                                                  \n",
            " masking_7 (Masking)            (None, 6, 128)       0           ['input_8[0][0]']                \n",
            "                                                                                                  \n",
            " batch_normalization_23 (BatchN  (None, 128, 512)    2048        ['conv1d_23[0][0]']              \n",
            " ormalization)                                                                                    \n",
            "                                                                                                  \n",
            " bidirectional_7 (Bidirectional  (None, 16)          8768        ['masking_7[0][0]']              \n",
            " )                                                                                                \n",
            "                                                                                                  \n",
            " activation_23 (Activation)     (None, 128, 512)     0           ['batch_normalization_23[0][0]'] \n",
            "                                                                                                  \n",
            " dropout_7 (Dropout)            (None, 16)           0           ['bidirectional_7[0][0]']        \n",
            "                                                                                                  \n",
            " global_average_pooling1d_23 (G  (None, 512)         0           ['activation_23[0][0]']          \n",
            " lobalAveragePooling1D)                                                                           \n",
            "                                                                                                  \n",
            " concatenate_7 (Concatenate)    (None, 528)          0           ['dropout_7[0][0]',              \n",
            "                                                                  'global_average_pooling1d_23[0][\n",
            "                                                                 0]']                             \n",
            "                                                                                                  \n",
            " dense_39 (Dense)               (None, 118)          62422       ['concatenate_7[0][0]']          \n",
            "                                                                                                  \n",
            "==================================================================================================\n",
            "Total params: 503,030\n",
            "Trainable params: 501,430\n",
            "Non-trainable params: 1,600\n",
            "__________________________________________________________________________________________________\n",
            "Epoch 1/200\n",
            "1035/1035 [==============================] - 54s 42ms/step - loss: 0.9269 - accuracy: 0.8051 - auc: 0.9885 - recall: 0.6463 - val_loss: 0.6571 - val_accuracy: 0.8955 - val_auc: 0.9808 - val_recall: 0.8679\n",
            "Epoch 2/200\n",
            "1035/1035 [==============================] - 40s 39ms/step - loss: 0.1741 - accuracy: 0.9594 - auc: 0.9983 - recall: 0.9423 - val_loss: 0.5987 - val_accuracy: 0.8922 - val_auc: 0.9856 - val_recall: 0.8722\n",
            "Epoch 3/200\n",
            "1035/1035 [==============================] - 40s 39ms/step - loss: 0.1124 - accuracy: 0.9715 - auc: 0.9989 - recall: 0.9616 - val_loss: 0.5854 - val_accuracy: 0.9136 - val_auc: 0.9821 - val_recall: 0.9019\n",
            "Epoch 4/200\n",
            "1035/1035 [==============================] - 40s 38ms/step - loss: 0.0804 - accuracy: 0.9792 - auc: 0.9994 - recall: 0.9721 - val_loss: 0.6580 - val_accuracy: 0.9096 - val_auc: 0.9799 - val_recall: 0.8968\n",
            "Epoch 5/200\n",
            "1035/1035 [==============================] - 40s 38ms/step - loss: 0.0686 - accuracy: 0.9811 - auc: 0.9995 - recall: 0.9753 - val_loss: 0.5319 - val_accuracy: 0.9283 - val_auc: 0.9845 - val_recall: 0.9222\n",
            "Epoch 6/200\n",
            "1035/1035 [==============================] - 40s 39ms/step - loss: 0.0514 - accuracy: 0.9855 - auc: 0.9997 - recall: 0.9818 - val_loss: 0.5257 - val_accuracy: 0.9340 - val_auc: 0.9820 - val_recall: 0.9291\n",
            "Epoch 7/200\n",
            "1035/1035 [==============================] - 40s 39ms/step - loss: 0.0505 - accuracy: 0.9857 - auc: 0.9997 - recall: 0.9816 - val_loss: 0.5776 - val_accuracy: 0.9206 - val_auc: 0.9832 - val_recall: 0.9078\n",
            "Epoch 8/200\n",
            "1035/1035 [==============================] - 40s 39ms/step - loss: 0.0445 - accuracy: 0.9868 - auc: 0.9998 - recall: 0.9839 - val_loss: 0.5152 - val_accuracy: 0.9342 - val_auc: 0.9860 - val_recall: 0.9278\n",
            "Epoch 9/200\n",
            "1035/1035 [==============================] - 39s 38ms/step - loss: 0.0306 - accuracy: 0.9914 - auc: 0.9999 - recall: 0.9885 - val_loss: 0.5174 - val_accuracy: 0.9358 - val_auc: 0.9847 - val_recall: 0.9318\n",
            "Epoch 10/200\n",
            "1035/1035 [==============================] - 40s 38ms/step - loss: 0.0302 - accuracy: 0.9905 - auc: 0.9999 - recall: 0.9883 - val_loss: 0.5062 - val_accuracy: 0.9289 - val_auc: 0.9854 - val_recall: 0.9233\n",
            "Epoch 11/200\n",
            "1035/1035 [==============================] - 40s 38ms/step - loss: 0.0276 - accuracy: 0.9916 - auc: 0.9999 - recall: 0.9895 - val_loss: 0.4919 - val_accuracy: 0.9422 - val_auc: 0.9837 - val_recall: 0.9382\n",
            "Epoch 12/200\n",
            "1035/1035 [==============================] - 39s 38ms/step - loss: 0.0235 - accuracy: 0.9929 - auc: 0.9999 - recall: 0.9910 - val_loss: 0.5283 - val_accuracy: 0.9406 - val_auc: 0.9828 - val_recall: 0.9369\n",
            "Epoch 13/200\n",
            "1035/1035 [==============================] - 39s 38ms/step - loss: 0.0227 - accuracy: 0.9932 - auc: 0.9998 - recall: 0.9919 - val_loss: 0.5668 - val_accuracy: 0.9372 - val_auc: 0.9821 - val_recall: 0.9316\n",
            "Epoch 14/200\n",
            "1035/1035 [==============================] - 40s 38ms/step - loss: 0.0195 - accuracy: 0.9939 - auc: 0.9999 - recall: 0.9927 - val_loss: 0.5974 - val_accuracy: 0.9243 - val_auc: 0.9827 - val_recall: 0.9206\n",
            "Epoch 15/200\n",
            "1035/1035 [==============================] - 40s 38ms/step - loss: 0.0201 - accuracy: 0.9940 - auc: 0.9998 - recall: 0.9930 - val_loss: 0.4866 - val_accuracy: 0.9449 - val_auc: 0.9853 - val_recall: 0.9425\n",
            "Epoch 16/200\n",
            "1035/1035 [==============================] - 40s 38ms/step - loss: 0.0170 - accuracy: 0.9947 - auc: 0.9999 - recall: 0.9937 - val_loss: 0.6047 - val_accuracy: 0.9345 - val_auc: 0.9823 - val_recall: 0.9310\n",
            "Epoch 17/200\n",
            "1035/1035 [==============================] - 40s 38ms/step - loss: 0.0207 - accuracy: 0.9942 - auc: 0.9998 - recall: 0.9931 - val_loss: 0.5591 - val_accuracy: 0.9372 - val_auc: 0.9834 - val_recall: 0.9348\n",
            "Epoch 18/200\n",
            "1035/1035 [==============================] - 39s 38ms/step - loss: 0.0131 - accuracy: 0.9960 - auc: 0.9999 - recall: 0.9953 - val_loss: 0.5452 - val_accuracy: 0.9396 - val_auc: 0.9817 - val_recall: 0.9353\n",
            "Epoch 19/200\n",
            "1035/1035 [==============================] - 40s 39ms/step - loss: 0.0143 - accuracy: 0.9960 - auc: 0.9999 - recall: 0.9954 - val_loss: 0.5928 - val_accuracy: 0.9358 - val_auc: 0.9813 - val_recall: 0.9345\n",
            "Epoch 20/200\n",
            "1035/1035 [==============================] - 40s 39ms/step - loss: 0.0114 - accuracy: 0.9968 - auc: 0.9999 - recall: 0.9961 - val_loss: 0.5494 - val_accuracy: 0.9337 - val_auc: 0.9821 - val_recall: 0.9310\n",
            "Epoch 21/200\n",
            "1035/1035 [==============================] - 40s 38ms/step - loss: 0.0107 - accuracy: 0.9967 - auc: 0.9999 - recall: 0.9960 - val_loss: 0.5710 - val_accuracy: 0.9353 - val_auc: 0.9822 - val_recall: 0.9310\n",
            "Epoch 22/200\n",
            "1035/1035 [==============================] - 40s 38ms/step - loss: 0.0139 - accuracy: 0.9962 - auc: 0.9998 - recall: 0.9956 - val_loss: 0.4979 - val_accuracy: 0.9417 - val_auc: 0.9836 - val_recall: 0.9401\n",
            "Epoch 23/200\n",
            "1035/1035 [==============================] - 40s 39ms/step - loss: 0.0126 - accuracy: 0.9963 - auc: 0.9999 - recall: 0.9957 - val_loss: 0.7073 - val_accuracy: 0.9270 - val_auc: 0.9788 - val_recall: 0.9262\n",
            "Epoch 24/200\n",
            "1035/1035 [==============================] - 40s 38ms/step - loss: 0.0102 - accuracy: 0.9970 - auc: 0.9999 - recall: 0.9966 - val_loss: 0.5652 - val_accuracy: 0.9372 - val_auc: 0.9808 - val_recall: 0.9329\n",
            "Epoch 25/200\n",
            "1035/1035 [==============================] - 40s 38ms/step - loss: 0.0092 - accuracy: 0.9974 - auc: 0.9999 - recall: 0.9969 - val_loss: 0.5068 - val_accuracy: 0.9422 - val_auc: 0.9821 - val_recall: 0.9398\n",
            "Epoch 26/200\n",
            "1035/1035 [==============================] - 40s 39ms/step - loss: 0.0097 - accuracy: 0.9972 - auc: 0.9999 - recall: 0.9968 - val_loss: 0.4657 - val_accuracy: 0.9439 - val_auc: 0.9845 - val_recall: 0.9420\n",
            "Epoch 27/200\n",
            "1035/1035 [==============================] - 40s 39ms/step - loss: 0.0108 - accuracy: 0.9972 - auc: 0.9999 - recall: 0.9968 - val_loss: 0.6377 - val_accuracy: 0.9436 - val_auc: 0.9804 - val_recall: 0.9425\n",
            "Epoch 28/200\n",
            "1035/1035 [==============================] - 40s 39ms/step - loss: 0.0093 - accuracy: 0.9970 - auc: 1.0000 - recall: 0.9966 - val_loss: 0.6164 - val_accuracy: 0.9414 - val_auc: 0.9825 - val_recall: 0.9390\n",
            "Epoch 29/200\n",
            "1035/1035 [==============================] - 40s 39ms/step - loss: 0.0043 - accuracy: 0.9987 - auc: 1.0000 - recall: 0.9986 - val_loss: 0.5353 - val_accuracy: 0.9471 - val_auc: 0.9839 - val_recall: 0.9460\n",
            "Epoch 30/200\n",
            "1035/1035 [==============================] - 40s 38ms/step - loss: 0.0140 - accuracy: 0.9960 - auc: 0.9998 - recall: 0.9956 - val_loss: 0.5511 - val_accuracy: 0.9393 - val_auc: 0.9821 - val_recall: 0.9366\n",
            "Epoch 31/200\n",
            "1035/1035 [==============================] - 40s 38ms/step - loss: 0.0040 - accuracy: 0.9989 - auc: 1.0000 - recall: 0.9987 - val_loss: 0.5328 - val_accuracy: 0.9452 - val_auc: 0.9827 - val_recall: 0.9444\n",
            "Epoch 32/200\n",
            "1035/1035 [==============================] - 41s 40ms/step - loss: 0.0117 - accuracy: 0.9968 - auc: 0.9999 - recall: 0.9964 - val_loss: 0.5425 - val_accuracy: 0.9425 - val_auc: 0.9849 - val_recall: 0.9404\n",
            "Epoch 33/200\n",
            "1035/1035 [==============================] - 41s 40ms/step - loss: 0.0066 - accuracy: 0.9980 - auc: 1.0000 - recall: 0.9978 - val_loss: 0.5185 - val_accuracy: 0.9396 - val_auc: 0.9813 - val_recall: 0.9385\n",
            "Epoch 34/200\n",
            "1035/1035 [==============================] - 43s 42ms/step - loss: 0.0082 - accuracy: 0.9976 - auc: 0.9999 - recall: 0.9973 - val_loss: 0.5885 - val_accuracy: 0.9396 - val_auc: 0.9801 - val_recall: 0.9385\n",
            "Epoch 35/200\n",
            "1035/1035 [==============================] - 43s 42ms/step - loss: 0.0085 - accuracy: 0.9974 - auc: 0.9999 - recall: 0.9970 - val_loss: 0.5315 - val_accuracy: 0.9455 - val_auc: 0.9818 - val_recall: 0.9433\n",
            "Epoch 36/200\n",
            "1035/1035 [==============================] - 43s 42ms/step - loss: 0.0065 - accuracy: 0.9980 - auc: 1.0000 - recall: 0.9978 - val_loss: 0.5404 - val_accuracy: 0.9449 - val_auc: 0.9824 - val_recall: 0.9439\n",
            "Epoch 37/200\n",
            "1035/1035 [==============================] - 43s 42ms/step - loss: 0.0039 - accuracy: 0.9989 - auc: 1.0000 - recall: 0.9988 - val_loss: 0.5626 - val_accuracy: 0.9476 - val_auc: 0.9817 - val_recall: 0.9455\n",
            "Epoch 38/200\n",
            "1035/1035 [==============================] - 43s 42ms/step - loss: 0.0087 - accuracy: 0.9976 - auc: 0.9999 - recall: 0.9974 - val_loss: 0.6238 - val_accuracy: 0.9353 - val_auc: 0.9773 - val_recall: 0.9340\n",
            "Epoch 39/200\n",
            "1035/1035 [==============================] - 41s 40ms/step - loss: 0.0073 - accuracy: 0.9979 - auc: 1.0000 - recall: 0.9976 - val_loss: 0.5159 - val_accuracy: 0.9455 - val_auc: 0.9824 - val_recall: 0.9436\n",
            "Epoch 40/200\n",
            "1035/1035 [==============================] - 40s 39ms/step - loss: 0.0038 - accuracy: 0.9989 - auc: 1.0000 - recall: 0.9987 - val_loss: 0.5646 - val_accuracy: 0.9465 - val_auc: 0.9821 - val_recall: 0.9449\n",
            "Epoch 41/200\n",
            "1035/1035 [==============================] - 40s 39ms/step - loss: 0.0064 - accuracy: 0.9978 - auc: 1.0000 - recall: 0.9976 - val_loss: 0.5223 - val_accuracy: 0.9428 - val_auc: 0.9822 - val_recall: 0.9420\n",
            "Epoch 42/200\n",
            "1035/1035 [==============================] - 40s 39ms/step - loss: 0.0060 - accuracy: 0.9983 - auc: 0.9999 - recall: 0.9981 - val_loss: 0.5095 - val_accuracy: 0.9487 - val_auc: 0.9833 - val_recall: 0.9465\n",
            "Epoch 43/200\n",
            "1035/1035 [==============================] - 42s 40ms/step - loss: 0.0062 - accuracy: 0.9983 - auc: 0.9999 - recall: 0.9981 - val_loss: 0.5668 - val_accuracy: 0.9430 - val_auc: 0.9821 - val_recall: 0.9422\n",
            "Epoch 44/200\n",
            "1035/1035 [==============================] - 41s 40ms/step - loss: 0.0024 - accuracy: 0.9993 - auc: 1.0000 - recall: 0.9992 - val_loss: 0.6221 - val_accuracy: 0.9433 - val_auc: 0.9816 - val_recall: 0.9417\n",
            "Epoch 45/200\n",
            "1035/1035 [==============================] - 41s 40ms/step - loss: 0.0099 - accuracy: 0.9969 - auc: 0.9999 - recall: 0.9967 - val_loss: 0.6099 - val_accuracy: 0.9406 - val_auc: 0.9812 - val_recall: 0.9396\n",
            "Epoch 46/200\n",
            "1035/1035 [==============================] - 41s 40ms/step - loss: 0.0026 - accuracy: 0.9993 - auc: 1.0000 - recall: 0.9992 - val_loss: 0.5635 - val_accuracy: 0.9465 - val_auc: 0.9820 - val_recall: 0.9452\n",
            "Epoch 47/200\n",
            "1035/1035 [==============================] - 40s 39ms/step - loss: 0.0045 - accuracy: 0.9989 - auc: 1.0000 - recall: 0.9987 - val_loss: 0.8258 - val_accuracy: 0.9158 - val_auc: 0.9755 - val_recall: 0.9152\n",
            "Epoch 48/200\n",
            "1035/1035 [==============================] - 40s 39ms/step - loss: 0.0059 - accuracy: 0.9984 - auc: 0.9999 - recall: 0.9982 - val_loss: 0.5514 - val_accuracy: 0.9473 - val_auc: 0.9817 - val_recall: 0.9460\n",
            "Epoch 49/200\n",
            "1035/1035 [==============================] - 41s 39ms/step - loss: 0.0044 - accuracy: 0.9986 - auc: 1.0000 - recall: 0.9986 - val_loss: 0.5852 - val_accuracy: 0.9460 - val_auc: 0.9811 - val_recall: 0.9436\n",
            "Epoch 50/200\n",
            "1035/1035 [==============================] - 41s 39ms/step - loss: 0.0041 - accuracy: 0.9986 - auc: 1.0000 - recall: 0.9986 - val_loss: 0.5486 - val_accuracy: 0.9468 - val_auc: 0.9808 - val_recall: 0.9452\n",
            "Epoch 51/200\n",
            "1035/1035 [==============================] - 41s 39ms/step - loss: 0.0044 - accuracy: 0.9988 - auc: 0.9999 - recall: 0.9986 - val_loss: 0.5646 - val_accuracy: 0.9476 - val_auc: 0.9827 - val_recall: 0.9465\n",
            "Epoch 52/200\n",
            "1035/1035 [==============================] - 41s 39ms/step - loss: 0.0029 - accuracy: 0.9992 - auc: 1.0000 - recall: 0.9991 - val_loss: 0.5744 - val_accuracy: 0.9417 - val_auc: 0.9815 - val_recall: 0.9409\n",
            "Epoch 53/200\n",
            "1035/1035 [==============================] - 41s 39ms/step - loss: 0.0065 - accuracy: 0.9982 - auc: 0.9999 - recall: 0.9982 - val_loss: 0.6065 - val_accuracy: 0.9460 - val_auc: 0.9815 - val_recall: 0.9449\n",
            "Epoch 54/200\n",
            "1035/1035 [==============================] - 41s 39ms/step - loss: 0.0021 - accuracy: 0.9994 - auc: 1.0000 - recall: 0.9993 - val_loss: 0.5984 - val_accuracy: 0.9495 - val_auc: 0.9815 - val_recall: 0.9473\n",
            "Epoch 55/200\n",
            "1035/1035 [==============================] - 41s 40ms/step - loss: 0.0054 - accuracy: 0.9986 - auc: 1.0000 - recall: 0.9985 - val_loss: 0.7167 - val_accuracy: 0.9329 - val_auc: 0.9778 - val_recall: 0.9321\n",
            "Epoch 56/200\n",
            "1035/1035 [==============================] - 41s 40ms/step - loss: 0.0067 - accuracy: 0.9982 - auc: 0.9999 - recall: 0.9980 - val_loss: 0.6306 - val_accuracy: 0.9433 - val_auc: 0.9812 - val_recall: 0.9425\n"
          ]
        },
        {
          "output_type": "display_data",
          "data": {
            "image/png": "[encoded data removed]",
            "text/plain": [
              "<Figure size 432x288 with 1 Axes>"
            ]
          },
          "metadata": {
            "needs_background": "light"
          }
        },
        {
          "output_type": "display_data",
          "data": {
            "image/png": "[encoded data removed]",
            "text/plain": [
              "<Figure size 432x288 with 1 Axes>"
            ]
          },
          "metadata": {
            "needs_background": "light"
          }
        }
      ]
    },
    {
      "cell_type": "code",
      "source": [
        "model = MLSTM_FCN_2((X_train.shape[1], X_train.shape[2]), train_label.shape[1])\n",
        "model.load_weights(checkpoint_filepath)"
      ],
      "metadata": {
        "id": "3Ct9WPTeLJ1N",
        "colab": {
          "base_uri": "https://localhost:8080/"
        },
        "outputId": "47f23f83-7f7a-46f2-a3fd-52cb9f56b604"
      },
      "execution_count": null,
      "outputs": [
        {
          "output_type": "stream",
          "name": "stdout",
          "text": [
            "Model: \"model_1\"\n",
            "__________________________________________________________________________________________________\n",
            " Layer (type)                   Output Shape         Param #     Connected to                     \n",
            "==================================================================================================\n",
            " input_2 (InputLayer)           [(None, 6, 128)]     0           []                               \n",
            "                                                                                                  \n",
            " permute_1 (Permute)            (None, 128, 6)       0           ['input_2[0][0]']                \n",
            "                                                                                                  \n",
            " conv1d_3 (Conv1D)              (None, 128, 32)      1760        ['permute_1[0][0]']              \n",
            "                                                                                                  \n",
            " batch_normalization_3 (BatchNo  (None, 128, 32)     128         ['conv1d_3[0][0]']               \n",
            " rmalization)                                                                                     \n",
            "                                                                                                  \n",
            " activation_3 (Activation)      (None, 128, 32)      0           ['batch_normalization_3[0][0]']  \n",
            "                                                                                                  \n",
            " global_average_pooling1d_3 (Gl  (None, 32)          0           ['activation_3[0][0]']           \n",
            " obalAveragePooling1D)                                                                            \n",
            "                                                                                                  \n",
            " reshape_2 (Reshape)            (None, 1, 32)        0           ['global_average_pooling1d_3[0][0\n",
            "                                                                 ]']                              \n",
            "                                                                                                  \n",
            " dense_5 (Dense)                (None, 1, 2)         64          ['reshape_2[0][0]']              \n",
            "                                                                                                  \n",
            " dense_6 (Dense)                (None, 1, 32)        64          ['dense_5[0][0]']                \n",
            "                                                                                                  \n",
            " multiply_2 (Multiply)          (None, 128, 32)      0           ['activation_3[0][0]',           \n",
            "                                                                  'dense_6[0][0]']                \n",
            "                                                                                                  \n",
            " conv1d_4 (Conv1D)              (None, 128, 256)     24832       ['multiply_2[0][0]']             \n",
            "                                                                                                  \n",
            " batch_normalization_4 (BatchNo  (None, 128, 256)    1024        ['conv1d_4[0][0]']               \n",
            " rmalization)                                                                                     \n",
            "                                                                                                  \n",
            " activation_4 (Activation)      (None, 128, 256)     0           ['batch_normalization_4[0][0]']  \n",
            "                                                                                                  \n",
            " global_average_pooling1d_4 (Gl  (None, 256)         0           ['activation_4[0][0]']           \n",
            " obalAveragePooling1D)                                                                            \n",
            "                                                                                                  \n",
            " reshape_3 (Reshape)            (None, 1, 256)       0           ['global_average_pooling1d_4[0][0\n",
            "                                                                 ]']                              \n",
            "                                                                                                  \n",
            " dense_7 (Dense)                (None, 1, 16)        4096        ['reshape_3[0][0]']              \n",
            "                                                                                                  \n",
            " dense_8 (Dense)                (None, 1, 256)       4096        ['dense_7[0][0]']                \n",
            "                                                                                                  \n",
            " multiply_3 (Multiply)          (None, 128, 256)     0           ['activation_4[0][0]',           \n",
            "                                                                  'dense_8[0][0]']                \n",
            "                                                                                                  \n",
            " conv1d_5 (Conv1D)              (None, 128, 512)     393728      ['multiply_3[0][0]']             \n",
            "                                                                                                  \n",
            " masking_1 (Masking)            (None, 6, 128)       0           ['input_2[0][0]']                \n",
            "                                                                                                  \n",
            " batch_normalization_5 (BatchNo  (None, 128, 512)    2048        ['conv1d_5[0][0]']               \n",
            " rmalization)                                                                                     \n",
            "                                                                                                  \n",
            " bidirectional_1 (Bidirectional  (None, 16)          8768        ['masking_1[0][0]']              \n",
            " )                                                                                                \n",
            "                                                                                                  \n",
            " activation_5 (Activation)      (None, 128, 512)     0           ['batch_normalization_5[0][0]']  \n",
            "                                                                                                  \n",
            " dropout_1 (Dropout)            (None, 16)           0           ['bidirectional_1[0][0]']        \n",
            "                                                                                                  \n",
            " global_average_pooling1d_5 (Gl  (None, 512)         0           ['activation_5[0][0]']           \n",
            " obalAveragePooling1D)                                                                            \n",
            "                                                                                                  \n",
            " concatenate_1 (Concatenate)    (None, 528)          0           ['dropout_1[0][0]',              \n",
            "                                                                  'global_average_pooling1d_5[0][0\n",
            "                                                                 ]']                              \n",
            "                                                                                                  \n",
            " dense_9 (Dense)                (None, 118)          62422       ['concatenate_1[0][0]']          \n",
            "                                                                                                  \n",
            "==================================================================================================\n",
            "Total params: 503,030\n",
            "Trainable params: 501,430\n",
            "Non-trainable params: 1,600\n",
            "__________________________________________________________________________________________________\n"
          ]
        },
        {
          "output_type": "execute_result",
          "data": {
            "text/plain": [
              "<tensorflow.python.training.tracking.util.CheckpointLoadStatus at 0x7f258c303850>"
            ]
          },
          "metadata": {},
          "execution_count": 15
        }
      ]
    },
    {
      "cell_type": "code",
      "metadata": {
        "id": "V8WIAbzl0dG2",
        "colab": {
          "base_uri": "https://localhost:8080/"
        },
        "outputId": "ab243706-938c-4ca1-e101-7bcabb153a7f"
      },
      "source": [
        "get_test_performance(model, X_test, test_label)"
      ],
      "execution_count": null,
      "outputs": [
        {
          "output_type": "stream",
          "name": "stdout",
          "text": [
            "117/117 [==============================] - 2s 16ms/step - loss: 0.4657 - accuracy: 0.9439 - auc: 0.9845 - recall: 0.9420\n",
            "Test loss:0.46574389934539795\n",
            "Test accuracy:0.9438502788543701\n",
            "Test Recall: 0.9419786334037781\n",
            "Test AUC: 0.9845266938209534\n"
          ]
        }
      ]
    },
    {
      "cell_type": "markdown",
      "metadata": {
        "id": "WvqkHp2jc2Qf"
      },
      "source": [
        "# Train Dataset 1 test=val"
      ]
    },
    {
      "cell_type": "code",
      "execution_count": null,
      "metadata": {
        "colab": {
          "base_uri": "https://localhost:8080/",
          "height": 1000
        },
        "outputId": "6ba08564-d627-4a89-bb79-add43ad96516",
        "id": "vfDX7VdMc2Qg"
      },
      "outputs": [
        {
          "output_type": "stream",
          "name": "stdout",
          "text": [
            "Model: \"model\"\n",
            "__________________________________________________________________________________________________\n",
            " Layer (type)                   Output Shape         Param #     Connected to                     \n",
            "==================================================================================================\n",
            " input_3 (InputLayer)           [(None, 6, 128)]     0           []                               \n",
            "                                                                                                  \n",
            " permute_2 (Permute)            (None, 128, 6)       0           ['input_3[0][0]']                \n",
            "                                                                                                  \n",
            " conv1d_2 (Conv1D)              (None, 128, 512)     28160       ['permute_2[0][0]']              \n",
            "                                                                                                  \n",
            " batch_normalization_2 (BatchNo  (None, 128, 512)    2048        ['conv1d_2[0][0]']               \n",
            " rmalization)                                                                                     \n",
            "                                                                                                  \n",
            " activation_2 (Activation)      (None, 128, 512)     0           ['batch_normalization_2[0][0]']  \n",
            "                                                                                                  \n",
            " global_average_pooling1d_2 (Gl  (None, 512)         0           ['activation_2[0][0]']           \n",
            " obalAveragePooling1D)                                                                            \n",
            "                                                                                                  \n",
            " reshape_2 (Reshape)            (None, 1, 512)       0           ['global_average_pooling1d_2[0][0\n",
            "                                                                 ]']                              \n",
            "                                                                                                  \n",
            " dense_4 (Dense)                (None, 1, 32)        16384       ['reshape_2[0][0]']              \n",
            "                                                                                                  \n",
            " dense_5 (Dense)                (None, 1, 512)       16384       ['dense_4[0][0]']                \n",
            "                                                                                                  \n",
            " multiply_2 (Multiply)          (None, 128, 512)     0           ['activation_2[0][0]',           \n",
            "                                                                  'dense_5[0][0]']                \n",
            "                                                                                                  \n",
            " conv1d_3 (Conv1D)              (None, 128, 512)     786944      ['multiply_2[0][0]']             \n",
            "                                                                                                  \n",
            " batch_normalization_3 (BatchNo  (None, 128, 512)    2048        ['conv1d_3[0][0]']               \n",
            " rmalization)                                                                                     \n",
            "                                                                                                  \n",
            " activation_3 (Activation)      (None, 128, 512)     0           ['batch_normalization_3[0][0]']  \n",
            "                                                                                                  \n",
            " global_average_pooling1d_3 (Gl  (None, 512)         0           ['activation_3[0][0]']           \n",
            " obalAveragePooling1D)                                                                            \n",
            "                                                                                                  \n",
            " reshape_3 (Reshape)            (None, 1, 512)       0           ['global_average_pooling1d_3[0][0\n",
            "                                                                 ]']                              \n",
            "                                                                                                  \n",
            " dense_6 (Dense)                (None, 1, 32)        16384       ['reshape_3[0][0]']              \n",
            "                                                                                                  \n",
            " dense_7 (Dense)                (None, 1, 512)       16384       ['dense_6[0][0]']                \n",
            "                                                                                                  \n",
            " multiply_3 (Multiply)          (None, 128, 512)     0           ['activation_3[0][0]',           \n",
            "                                                                  'dense_7[0][0]']                \n",
            "                                                                                                  \n",
            " conv1d_4 (Conv1D)              (None, 128, 512)     2359808     ['multiply_3[0][0]']             \n",
            "                                                                                                  \n",
            " masking_2 (Masking)            (None, 6, 128)       0           ['input_3[0][0]']                \n",
            "                                                                                                  \n",
            " batch_normalization_4 (BatchNo  (None, 128, 512)    2048        ['conv1d_4[0][0]']               \n",
            " rmalization)                                                                                     \n",
            "                                                                                                  \n",
            " bidirectional_2 (Bidirectional  (None, 16)          8768        ['masking_2[0][0]']              \n",
            " )                                                                                                \n",
            "                                                                                                  \n",
            " activation_4 (Activation)      (None, 128, 512)     0           ['batch_normalization_4[0][0]']  \n",
            "                                                                                                  \n",
            " dropout_2 (Dropout)            (None, 16)           0           ['bidirectional_2[0][0]']        \n",
            "                                                                                                  \n",
            " global_average_pooling1d_4 (Gl  (None, 512)         0           ['activation_4[0][0]']           \n",
            " obalAveragePooling1D)                                                                            \n",
            "                                                                                                  \n",
            " concatenate (Concatenate)      (None, 528)          0           ['dropout_2[0][0]',              \n",
            "                                                                  'global_average_pooling1d_4[0][0\n",
            "                                                                 ]']                              \n",
            "                                                                                                  \n",
            " dense_8 (Dense)                (None, 118)          62422       ['concatenate[0][0]']            \n",
            "                                                                                                  \n",
            "==================================================================================================\n",
            "Total params: 3,317,782\n",
            "Trainable params: 3,314,710\n",
            "Non-trainable params: 3,072\n",
            "__________________________________________________________________________________________________\n",
            "Epoch 1/200\n",
            "1035/1035 [==============================] - 123s 100ms/step - loss: 0.6500 - accuracy: 0.8446 - auc: 0.9918 - recall: 0.7623 - val_loss: 0.5299 - val_accuracy: 0.8984 - val_auc: 0.9852 - val_recall: 0.8797\n",
            "Epoch 2/200\n",
            "1035/1035 [==============================] - 99s 96ms/step - loss: 0.1201 - accuracy: 0.9693 - auc: 0.9988 - recall: 0.9584 - val_loss: 0.5346 - val_accuracy: 0.8979 - val_auc: 0.9820 - val_recall: 0.8888\n",
            "Epoch 3/200\n",
            "1035/1035 [==============================] - 98s 95ms/step - loss: 0.0815 - accuracy: 0.9780 - auc: 0.9992 - recall: 0.9716 - val_loss: 0.7509 - val_accuracy: 0.8618 - val_auc: 0.9763 - val_recall: 0.8519\n",
            "Epoch 4/200\n",
            "1035/1035 [==============================] - 98s 94ms/step - loss: 0.0640 - accuracy: 0.9817 - auc: 0.9994 - recall: 0.9772 - val_loss: 0.4120 - val_accuracy: 0.9329 - val_auc: 0.9848 - val_recall: 0.9275\n",
            "Epoch 5/200\n",
            "1035/1035 [==============================] - 97s 94ms/step - loss: 0.0516 - accuracy: 0.9855 - auc: 0.9997 - recall: 0.9814 - val_loss: 0.4294 - val_accuracy: 0.9230 - val_auc: 0.9857 - val_recall: 0.9184\n",
            "Epoch 6/200\n",
            "1035/1035 [==============================] - 98s 95ms/step - loss: 0.0437 - accuracy: 0.9868 - auc: 0.9996 - recall: 0.9837 - val_loss: 0.4663 - val_accuracy: 0.9249 - val_auc: 0.9851 - val_recall: 0.9203\n",
            "Epoch 7/200\n",
            "1035/1035 [==============================] - 98s 95ms/step - loss: 0.0329 - accuracy: 0.9905 - auc: 0.9998 - recall: 0.9881 - val_loss: 0.4114 - val_accuracy: 0.9310 - val_auc: 0.9862 - val_recall: 0.9275\n",
            "Epoch 8/200\n",
            "1035/1035 [==============================] - 99s 95ms/step - loss: 0.0339 - accuracy: 0.9900 - auc: 0.9997 - recall: 0.9877 - val_loss: 0.4283 - val_accuracy: 0.9329 - val_auc: 0.9833 - val_recall: 0.9297\n",
            "Epoch 9/200\n",
            "1035/1035 [==============================] - 98s 95ms/step - loss: 0.0274 - accuracy: 0.9919 - auc: 0.9998 - recall: 0.9902 - val_loss: 0.5327 - val_accuracy: 0.9136 - val_auc: 0.9812 - val_recall: 0.9088\n",
            "Epoch 10/200\n",
            "1035/1035 [==============================] - 98s 94ms/step - loss: 0.0217 - accuracy: 0.9932 - auc: 0.9998 - recall: 0.9921 - val_loss: 0.4741 - val_accuracy: 0.9273 - val_auc: 0.9831 - val_recall: 0.9249\n",
            "Epoch 11/200\n",
            "1035/1035 [==============================] - 98s 95ms/step - loss: 0.0227 - accuracy: 0.9935 - auc: 0.9999 - recall: 0.9924 - val_loss: 0.4264 - val_accuracy: 0.9390 - val_auc: 0.9856 - val_recall: 0.9350\n",
            "Epoch 12/200\n",
            "1035/1035 [==============================] - 98s 95ms/step - loss: 0.0184 - accuracy: 0.9945 - auc: 0.9999 - recall: 0.9935 - val_loss: 0.7004 - val_accuracy: 0.8898 - val_auc: 0.9756 - val_recall: 0.8853\n",
            "Epoch 13/200\n",
            "1035/1035 [==============================] - 98s 95ms/step - loss: 0.0167 - accuracy: 0.9955 - auc: 0.9998 - recall: 0.9946 - val_loss: 0.4881 - val_accuracy: 0.9369 - val_auc: 0.9824 - val_recall: 0.9348\n",
            "Epoch 14/200\n",
            "1035/1035 [==============================] - 98s 95ms/step - loss: 0.0155 - accuracy: 0.9954 - auc: 0.9998 - recall: 0.9946 - val_loss: 0.4449 - val_accuracy: 0.9414 - val_auc: 0.9837 - val_recall: 0.9382\n",
            "Epoch 15/200\n",
            "1035/1035 [==============================] - 98s 95ms/step - loss: 0.0152 - accuracy: 0.9952 - auc: 0.9999 - recall: 0.9945 - val_loss: 0.4527 - val_accuracy: 0.9364 - val_auc: 0.9838 - val_recall: 0.9350\n",
            "Epoch 16/200\n",
            "1035/1035 [==============================] - 99s 96ms/step - loss: 0.0153 - accuracy: 0.9950 - auc: 0.9999 - recall: 0.9942 - val_loss: 0.4926 - val_accuracy: 0.9380 - val_auc: 0.9832 - val_recall: 0.9353\n",
            "Epoch 17/200\n",
            "1035/1035 [==============================] - 100s 96ms/step - loss: 0.0110 - accuracy: 0.9969 - auc: 0.9999 - recall: 0.9963 - val_loss: 0.5286 - val_accuracy: 0.9332 - val_auc: 0.9810 - val_recall: 0.9321\n",
            "Epoch 18/200\n",
            "1035/1035 [==============================] - 100s 96ms/step - loss: 0.0134 - accuracy: 0.9956 - auc: 0.9999 - recall: 0.9952 - val_loss: 0.4574 - val_accuracy: 0.9476 - val_auc: 0.9847 - val_recall: 0.9463\n",
            "Epoch 19/200\n",
            "1035/1035 [==============================] - 99s 95ms/step - loss: 0.0128 - accuracy: 0.9967 - auc: 0.9998 - recall: 0.9961 - val_loss: 0.4720 - val_accuracy: 0.9495 - val_auc: 0.9840 - val_recall: 0.9479\n",
            "Epoch 20/200\n",
            "1035/1035 [==============================] - 98s 95ms/step - loss: 0.0102 - accuracy: 0.9969 - auc: 0.9999 - recall: 0.9966 - val_loss: 0.4718 - val_accuracy: 0.9471 - val_auc: 0.9835 - val_recall: 0.9460\n",
            "Epoch 21/200\n",
            "1035/1035 [==============================] - 98s 95ms/step - loss: 0.0097 - accuracy: 0.9972 - auc: 0.9998 - recall: 0.9968 - val_loss: 0.5603 - val_accuracy: 0.9262 - val_auc: 0.9791 - val_recall: 0.9246\n",
            "Epoch 22/200\n",
            "1035/1035 [==============================] - 98s 95ms/step - loss: 0.0130 - accuracy: 0.9961 - auc: 0.9998 - recall: 0.9955 - val_loss: 0.4479 - val_accuracy: 0.9465 - val_auc: 0.9833 - val_recall: 0.9460\n",
            "Epoch 23/200\n",
            "1035/1035 [==============================] - 99s 95ms/step - loss: 0.0065 - accuracy: 0.9982 - auc: 0.9999 - recall: 0.9979 - val_loss: 0.4637 - val_accuracy: 0.9417 - val_auc: 0.9838 - val_recall: 0.9388\n",
            "Epoch 24/200\n",
            "1035/1035 [==============================] - 99s 96ms/step - loss: 0.0102 - accuracy: 0.9975 - auc: 0.9999 - recall: 0.9970 - val_loss: 0.5999 - val_accuracy: 0.9329 - val_auc: 0.9809 - val_recall: 0.9326\n",
            "Epoch 25/200\n",
            "1035/1035 [==============================] - 98s 95ms/step - loss: 0.0118 - accuracy: 0.9968 - auc: 0.9999 - recall: 0.9966 - val_loss: 0.5198 - val_accuracy: 0.9465 - val_auc: 0.9831 - val_recall: 0.9455\n",
            "Epoch 26/200\n",
            "1035/1035 [==============================] - 98s 95ms/step - loss: 0.0044 - accuracy: 0.9987 - auc: 1.0000 - recall: 0.9986 - val_loss: 0.5674 - val_accuracy: 0.9465 - val_auc: 0.9814 - val_recall: 0.9452\n",
            "Epoch 27/200\n",
            "1035/1035 [==============================] - 98s 95ms/step - loss: 0.0043 - accuracy: 0.9989 - auc: 1.0000 - recall: 0.9987 - val_loss: 0.5274 - val_accuracy: 0.9361 - val_auc: 0.9800 - val_recall: 0.9353\n",
            "Epoch 28/200\n",
            "1035/1035 [==============================] - 98s 94ms/step - loss: 0.0122 - accuracy: 0.9962 - auc: 0.9999 - recall: 0.9959 - val_loss: 0.5192 - val_accuracy: 0.9447 - val_auc: 0.9819 - val_recall: 0.9433\n",
            "Epoch 29/200\n",
            "1035/1035 [==============================] - 98s 94ms/step - loss: 0.0054 - accuracy: 0.9987 - auc: 0.9999 - recall: 0.9985 - val_loss: 0.4824 - val_accuracy: 0.9479 - val_auc: 0.9841 - val_recall: 0.9473\n",
            "Epoch 30/200\n",
            "1035/1035 [==============================] - 98s 95ms/step - loss: 0.0034 - accuracy: 0.9992 - auc: 1.0000 - recall: 0.9992 - val_loss: 0.6998 - val_accuracy: 0.9409 - val_auc: 0.9796 - val_recall: 0.9396\n",
            "Epoch 31/200\n",
            "1035/1035 [==============================] - 98s 95ms/step - loss: 0.0130 - accuracy: 0.9964 - auc: 0.9998 - recall: 0.9961 - val_loss: 0.4838 - val_accuracy: 0.9452 - val_auc: 0.9828 - val_recall: 0.9447\n",
            "Epoch 32/200\n",
            "1035/1035 [==============================] - 98s 95ms/step - loss: 0.0044 - accuracy: 0.9986 - auc: 1.0000 - recall: 0.9984 - val_loss: 0.5170 - val_accuracy: 0.9398 - val_auc: 0.9812 - val_recall: 0.9380\n",
            "Epoch 33/200\n",
            "1035/1035 [==============================] - 98s 95ms/step - loss: 0.0056 - accuracy: 0.9985 - auc: 1.0000 - recall: 0.9982 - val_loss: 0.5516 - val_accuracy: 0.9479 - val_auc: 0.9815 - val_recall: 0.9471\n",
            "Epoch 34/200\n",
            "1035/1035 [==============================] - 98s 95ms/step - loss: 0.0075 - accuracy: 0.9983 - auc: 0.9998 - recall: 0.9981 - val_loss: 0.5648 - val_accuracy: 0.9473 - val_auc: 0.9816 - val_recall: 0.9457\n",
            "Epoch 35/200\n",
            "1035/1035 [==============================] - 99s 95ms/step - loss: 0.0056 - accuracy: 0.9985 - auc: 0.9999 - recall: 0.9983 - val_loss: 0.6729 - val_accuracy: 0.9398 - val_auc: 0.9796 - val_recall: 0.9388\n",
            "Epoch 36/200\n",
            "1035/1035 [==============================] - 98s 95ms/step - loss: 0.0058 - accuracy: 0.9986 - auc: 0.9999 - recall: 0.9983 - val_loss: 0.5348 - val_accuracy: 0.9350 - val_auc: 0.9803 - val_recall: 0.9329\n",
            "Epoch 37/200\n",
            "1035/1035 [==============================] - 98s 95ms/step - loss: 0.0051 - accuracy: 0.9985 - auc: 0.9999 - recall: 0.9983 - val_loss: 0.4514 - val_accuracy: 0.9471 - val_auc: 0.9824 - val_recall: 0.9460\n"
          ]
        },
        {
          "output_type": "display_data",
          "data": {
            "image/png": "[encoded data removed]",
            "text/plain": [
              "<Figure size 432x288 with 1 Axes>"
            ]
          },
          "metadata": {
            "needs_background": "light"
          }
        },
        {
          "output_type": "display_data",
          "data": {
            "image/png": "[encoded data removed]",
            "text/plain": [
              "<Figure size 432x288 with 1 Axes>"
            ]
          },
          "metadata": {
            "needs_background": "light"
          }
        }
      ],
      "source": [
        "if gpu:\n",
        "    model = MLSTM_FCN_2((X_train.shape[1], X_train.shape[2]), train_label.shape[1])\n",
        "    history = model.fit(X_train,train_label,batch_size=32,epochs=200,verbose=1,callbacks=[tensorflow.keras.callbacks.EarlyStopping('val_loss', patience=30,restore_best_weights=True)],validation_data=(X_test,test_label))\n",
        "if tpu:\n",
        "    with strategy.scope():\n",
        "        model = MLSTM_FCN_2((X_train.shape[1], X_train.shape[2]), train_label.shape[1])\n",
        "        history = model.fit(X_train,train_label,batch_size=8*32,epochs=200,verbose=1,callbacks=[tensorflow.keras.callbacks.EarlyStopping('val_loss', patience=30,restore_best_weights=True)],validation_data=(X_test,test_label))\n",
        "\n",
        "plot_performance(X_train, train_label, history)"
      ]
    },
    {
      "cell_type": "code",
      "execution_count": null,
      "metadata": {
        "colab": {
          "base_uri": "https://localhost:8080/"
        },
        "outputId": "8de7ad19-4e69-4359-a964-0bea869080ec",
        "id": "R7O6h5bcc2Qg"
      },
      "outputs": [
        {
          "output_type": "stream",
          "name": "stdout",
          "text": [
            "117/117 [==============================] - 4s 30ms/step - loss: 0.4514 - accuracy: 0.9471 - auc: 0.9824 - recall: 0.9460\n",
            "Test loss:0.45144200325012207\n",
            "Test accuracy:0.9470587968826294\n",
            "Test Recall: 0.9459893107414246\n",
            "Test AUC: 0.9823991060256958\n"
          ]
        }
      ],
      "source": [
        "get_test_performance(model, X_test, test_label)"
      ]
    },
    {
      "cell_type": "markdown",
      "metadata": {
        "id": "TL-gQ6yY0dG2"
      },
      "source": [
        "# Train dataset 2 test = val"
      ]
    },
    {
      "cell_type": "code",
      "metadata": {
        "id": "CeVdoRaK0dG2"
      },
      "source": [
        "np.random.seed(42)\n",
        "X_train = load_X('/content/drive/Shareddrives/MMH/TIFS20/Dataset #2/train/Inertial Signals')\n",
        "X_test = load_X('/content/drive/Shareddrives/MMH/TIFS20/Dataset #2/test/Inertial Signals')\n",
        "train_label = load_y('/content/drive/Shareddrives/MMH/TIFS20/Dataset #2/train/y_train.txt')\n",
        "test_label = load_y('/content/drive/Shareddrives/MMH/TIFS20/Dataset #2/test/y_test.txt')\n",
        "shape = ((X_train.shape[1], X_train.shape[2]), train_label.shape[1])\n",
        "num_classes = 20"
      ],
      "execution_count": null,
      "outputs": []
    },
    {
      "cell_type": "code",
      "metadata": {
        "id": "DBU1A99v0dG3",
        "colab": {
          "base_uri": "https://localhost:8080/",
          "height": 1000
        },
        "outputId": "8b1fc6cd-1e37-470b-cf06-f9a459d9061c"
      },
      "source": [
        "checkpoint_filepath = '/content/2/checkpoint'\n",
        "if gpu:\n",
        "    model = MLSTM_FCN_2((X_train.shape[1], X_train.shape[2]), train_label.shape[1])\n",
        "    history = model.fit(X_train,train_label,batch_size=32,epochs=200,verbose=1,callbacks=[EarlyStopping('val_loss', patience=30,restore_best_weights=True),ModelCheckpoint(checkpoint_filepath, monitor='val_loss', save_best_only=True,save_weights_only=True)],validation_data=(X_test,test_label))\n",
        "if tpu:\n",
        "    with strategy.scope():\n",
        "        model = MLSTM_FCN_2((X_train.shape[1], X_train.shape[2]), train_label.shape[1])\n",
        "        history = model.fit(X_train,train_label,batch_size=8*32,epochs=200,verbose=1,callbacks=[EarlyStopping('val_loss', patience=30,restore_best_weights=True),ModelCheckpoint(checkpoint_filepath, monitor='val_loss', save_best_only=True,save_weights_only=True)],validation_data=(X_test,test_label))\n",
        "\n",
        "plot_performance(X_train, train_label, history)"
      ],
      "execution_count": null,
      "outputs": [
        {
          "output_type": "stream",
          "name": "stdout",
          "text": [
            "Model: \"model_5\"\n",
            "__________________________________________________________________________________________________\n",
            " Layer (type)                   Output Shape         Param #     Connected to                     \n",
            "==================================================================================================\n",
            " input_6 (InputLayer)           [(None, 6, 128)]     0           []                               \n",
            "                                                                                                  \n",
            " permute_5 (Permute)            (None, 128, 6)       0           ['input_6[0][0]']                \n",
            "                                                                                                  \n",
            " conv1d_15 (Conv1D)             (None, 128, 32)      1760        ['permute_5[0][0]']              \n",
            "                                                                                                  \n",
            " batch_normalization_15 (BatchN  (None, 128, 32)     128         ['conv1d_15[0][0]']              \n",
            " ormalization)                                                                                    \n",
            "                                                                                                  \n",
            " activation_15 (Activation)     (None, 128, 32)      0           ['batch_normalization_15[0][0]'] \n",
            "                                                                                                  \n",
            " global_average_pooling1d_15 (G  (None, 32)          0           ['activation_15[0][0]']          \n",
            " lobalAveragePooling1D)                                                                           \n",
            "                                                                                                  \n",
            " reshape_10 (Reshape)           (None, 1, 32)        0           ['global_average_pooling1d_15[0][\n",
            "                                                                 0]']                             \n",
            "                                                                                                  \n",
            " dense_25 (Dense)               (None, 1, 2)         64          ['reshape_10[0][0]']             \n",
            "                                                                                                  \n",
            " dense_26 (Dense)               (None, 1, 32)        64          ['dense_25[0][0]']               \n",
            "                                                                                                  \n",
            " multiply_10 (Multiply)         (None, 128, 32)      0           ['activation_15[0][0]',          \n",
            "                                                                  'dense_26[0][0]']               \n",
            "                                                                                                  \n",
            " conv1d_16 (Conv1D)             (None, 128, 256)     24832       ['multiply_10[0][0]']            \n",
            "                                                                                                  \n",
            " batch_normalization_16 (BatchN  (None, 128, 256)    1024        ['conv1d_16[0][0]']              \n",
            " ormalization)                                                                                    \n",
            "                                                                                                  \n",
            " activation_16 (Activation)     (None, 128, 256)     0           ['batch_normalization_16[0][0]'] \n",
            "                                                                                                  \n",
            " global_average_pooling1d_16 (G  (None, 256)         0           ['activation_16[0][0]']          \n",
            " lobalAveragePooling1D)                                                                           \n",
            "                                                                                                  \n",
            " reshape_11 (Reshape)           (None, 1, 256)       0           ['global_average_pooling1d_16[0][\n",
            "                                                                 0]']                             \n",
            "                                                                                                  \n",
            " dense_27 (Dense)               (None, 1, 16)        4096        ['reshape_11[0][0]']             \n",
            "                                                                                                  \n",
            " dense_28 (Dense)               (None, 1, 256)       4096        ['dense_27[0][0]']               \n",
            "                                                                                                  \n",
            " multiply_11 (Multiply)         (None, 128, 256)     0           ['activation_16[0][0]',          \n",
            "                                                                  'dense_28[0][0]']               \n",
            "                                                                                                  \n",
            " conv1d_17 (Conv1D)             (None, 128, 512)     393728      ['multiply_11[0][0]']            \n",
            "                                                                                                  \n",
            " masking_5 (Masking)            (None, 6, 128)       0           ['input_6[0][0]']                \n",
            "                                                                                                  \n",
            " batch_normalization_17 (BatchN  (None, 128, 512)    2048        ['conv1d_17[0][0]']              \n",
            " ormalization)                                                                                    \n",
            "                                                                                                  \n",
            " bidirectional_5 (Bidirectional  (None, 16)          8768        ['masking_5[0][0]']              \n",
            " )                                                                                                \n",
            "                                                                                                  \n",
            " activation_17 (Activation)     (None, 128, 512)     0           ['batch_normalization_17[0][0]'] \n",
            "                                                                                                  \n",
            " dropout_5 (Dropout)            (None, 16)           0           ['bidirectional_5[0][0]']        \n",
            "                                                                                                  \n",
            " global_average_pooling1d_17 (G  (None, 512)         0           ['activation_17[0][0]']          \n",
            " lobalAveragePooling1D)                                                                           \n",
            "                                                                                                  \n",
            " concatenate_5 (Concatenate)    (None, 528)          0           ['dropout_5[0][0]',              \n",
            "                                                                  'global_average_pooling1d_17[0][\n",
            "                                                                 0]']                             \n",
            "                                                                                                  \n",
            " dense_29 (Dense)               (None, 20)           10580       ['concatenate_5[0][0]']          \n",
            "                                                                                                  \n",
            "==================================================================================================\n",
            "Total params: 451,188\n",
            "Trainable params: 449,588\n",
            "Non-trainable params: 1,600\n",
            "__________________________________________________________________________________________________\n",
            "Epoch 1/200\n",
            "1386/1386 [==============================] - 77s 47ms/step - loss: 0.1903 - accuracy: 0.9537 - auc: 0.9977 - recall: 0.9289 - val_loss: 0.2401 - val_accuracy: 0.9583 - val_auc: 0.9891 - val_recall: 0.9532\n",
            "Epoch 2/200\n",
            "1386/1386 [==============================] - 61s 44ms/step - loss: 0.0475 - accuracy: 0.9874 - auc: 0.9995 - recall: 0.9854 - val_loss: 0.2291 - val_accuracy: 0.9445 - val_auc: 0.9897 - val_recall: 0.9433\n",
            "Epoch 3/200\n",
            "1386/1386 [==============================] - 58s 42ms/step - loss: 0.0340 - accuracy: 0.9904 - auc: 0.9997 - recall: 0.9887 - val_loss: 0.1629 - val_accuracy: 0.9645 - val_auc: 0.9919 - val_recall: 0.9619\n",
            "Epoch 4/200\n",
            "1386/1386 [==============================] - 55s 40ms/step - loss: 0.0270 - accuracy: 0.9914 - auc: 0.9998 - recall: 0.9903 - val_loss: 0.2279 - val_accuracy: 0.9408 - val_auc: 0.9910 - val_recall: 0.9390\n",
            "Epoch 5/200\n",
            "1386/1386 [==============================] - 55s 39ms/step - loss: 0.0226 - accuracy: 0.9932 - auc: 0.9998 - recall: 0.9922 - val_loss: 0.1951 - val_accuracy: 0.9575 - val_auc: 0.9911 - val_recall: 0.9536\n",
            "Epoch 6/200\n",
            "1386/1386 [==============================] - 55s 40ms/step - loss: 0.0192 - accuracy: 0.9942 - auc: 0.9998 - recall: 0.9935 - val_loss: 0.1822 - val_accuracy: 0.9664 - val_auc: 0.9904 - val_recall: 0.9643\n",
            "Epoch 7/200\n",
            "1386/1386 [==============================] - 56s 40ms/step - loss: 0.0163 - accuracy: 0.9950 - auc: 0.9999 - recall: 0.9942 - val_loss: 0.1586 - val_accuracy: 0.9704 - val_auc: 0.9914 - val_recall: 0.9670\n",
            "Epoch 8/200\n",
            "1386/1386 [==============================] - 55s 40ms/step - loss: 0.0155 - accuracy: 0.9951 - auc: 0.9999 - recall: 0.9945 - val_loss: 0.1520 - val_accuracy: 0.9733 - val_auc: 0.9912 - val_recall: 0.9722\n",
            "Epoch 9/200\n",
            "1386/1386 [==============================] - 56s 40ms/step - loss: 0.0129 - accuracy: 0.9960 - auc: 0.9999 - recall: 0.9955 - val_loss: 0.1596 - val_accuracy: 0.9716 - val_auc: 0.9908 - val_recall: 0.9700\n",
            "Epoch 10/200\n",
            "1386/1386 [==============================] - 56s 40ms/step - loss: 0.0101 - accuracy: 0.9968 - auc: 0.9999 - recall: 0.9965 - val_loss: 0.1936 - val_accuracy: 0.9745 - val_auc: 0.9899 - val_recall: 0.9731\n",
            "Epoch 11/200\n",
            "1386/1386 [==============================] - 55s 40ms/step - loss: 0.0120 - accuracy: 0.9962 - auc: 0.9999 - recall: 0.9957 - val_loss: 0.2175 - val_accuracy: 0.9631 - val_auc: 0.9898 - val_recall: 0.9599\n",
            "Epoch 12/200\n",
            "1386/1386 [==============================] - 55s 40ms/step - loss: 0.0096 - accuracy: 0.9969 - auc: 0.9999 - recall: 0.9965 - val_loss: 0.1712 - val_accuracy: 0.9741 - val_auc: 0.9906 - val_recall: 0.9716\n",
            "Epoch 13/200\n",
            "1386/1386 [==============================] - 55s 39ms/step - loss: 0.0086 - accuracy: 0.9974 - auc: 0.9999 - recall: 0.9968 - val_loss: 0.1190 - val_accuracy: 0.9767 - val_auc: 0.9951 - val_recall: 0.9745\n",
            "Epoch 14/200\n",
            "1386/1386 [==============================] - 56s 40ms/step - loss: 0.0096 - accuracy: 0.9972 - auc: 0.9999 - recall: 0.9968 - val_loss: 0.1286 - val_accuracy: 0.9755 - val_auc: 0.9940 - val_recall: 0.9729\n",
            "Epoch 15/200\n",
            "1386/1386 [==============================] - 54s 39ms/step - loss: 0.0063 - accuracy: 0.9977 - auc: 1.0000 - recall: 0.9973 - val_loss: 0.1754 - val_accuracy: 0.9741 - val_auc: 0.9905 - val_recall: 0.9722\n",
            "Epoch 16/200\n",
            "1386/1386 [==============================] - 54s 39ms/step - loss: 0.0077 - accuracy: 0.9974 - auc: 1.0000 - recall: 0.9970 - val_loss: 0.1702 - val_accuracy: 0.9741 - val_auc: 0.9907 - val_recall: 0.9724\n",
            "Epoch 17/200\n",
            "1386/1386 [==============================] - 54s 39ms/step - loss: 0.0071 - accuracy: 0.9978 - auc: 1.0000 - recall: 0.9975 - val_loss: 0.2264 - val_accuracy: 0.9741 - val_auc: 0.9904 - val_recall: 0.9729\n",
            "Epoch 18/200\n",
            "1386/1386 [==============================] - 55s 39ms/step - loss: 0.0061 - accuracy: 0.9984 - auc: 0.9999 - recall: 0.9980 - val_loss: 0.2033 - val_accuracy: 0.9724 - val_auc: 0.9895 - val_recall: 0.9712\n",
            "Epoch 19/200\n",
            "1386/1386 [==============================] - 55s 39ms/step - loss: 0.0056 - accuracy: 0.9982 - auc: 1.0000 - recall: 0.9980 - val_loss: 0.1354 - val_accuracy: 0.9761 - val_auc: 0.9926 - val_recall: 0.9757\n",
            "Epoch 20/200\n",
            "1386/1386 [==============================] - 54s 39ms/step - loss: 0.0054 - accuracy: 0.9984 - auc: 0.9999 - recall: 0.9981 - val_loss: 0.2345 - val_accuracy: 0.9743 - val_auc: 0.9895 - val_recall: 0.9737\n",
            "Epoch 21/200\n",
            "1386/1386 [==============================] - 54s 39ms/step - loss: 0.0060 - accuracy: 0.9983 - auc: 1.0000 - recall: 0.9980 - val_loss: 0.2110 - val_accuracy: 0.9771 - val_auc: 0.9905 - val_recall: 0.9753\n",
            "Epoch 22/200\n",
            "1386/1386 [==============================] - 54s 39ms/step - loss: 0.0045 - accuracy: 0.9986 - auc: 1.0000 - recall: 0.9984 - val_loss: 0.2425 - val_accuracy: 0.9726 - val_auc: 0.9897 - val_recall: 0.9712\n",
            "Epoch 23/200\n",
            "1386/1386 [==============================] - 55s 39ms/step - loss: 0.0036 - accuracy: 0.9990 - auc: 1.0000 - recall: 0.9988 - val_loss: 0.2299 - val_accuracy: 0.9749 - val_auc: 0.9897 - val_recall: 0.9735\n",
            "Epoch 24/200\n",
            "1386/1386 [==============================] - 55s 40ms/step - loss: 0.0055 - accuracy: 0.9983 - auc: 1.0000 - recall: 0.9980 - val_loss: 0.2397 - val_accuracy: 0.9755 - val_auc: 0.9900 - val_recall: 0.9745\n",
            "Epoch 25/200\n",
            "1386/1386 [==============================] - 54s 39ms/step - loss: 0.0040 - accuracy: 0.9986 - auc: 1.0000 - recall: 0.9985 - val_loss: 0.2133 - val_accuracy: 0.9726 - val_auc: 0.9899 - val_recall: 0.9708\n",
            "Epoch 26/200\n",
            "1386/1386 [==============================] - 55s 39ms/step - loss: 0.0033 - accuracy: 0.9990 - auc: 1.0000 - recall: 0.9988 - val_loss: 0.1638 - val_accuracy: 0.9777 - val_auc: 0.9906 - val_recall: 0.9757\n",
            "Epoch 27/200\n",
            "1386/1386 [==============================] - 55s 39ms/step - loss: 0.0037 - accuracy: 0.9990 - auc: 0.9999 - recall: 0.9989 - val_loss: 0.2305 - val_accuracy: 0.9755 - val_auc: 0.9903 - val_recall: 0.9755\n",
            "Epoch 28/200\n",
            "1386/1386 [==============================] - 54s 39ms/step - loss: 0.0064 - accuracy: 0.9985 - auc: 0.9999 - recall: 0.9984 - val_loss: 0.2018 - val_accuracy: 0.9672 - val_auc: 0.9909 - val_recall: 0.9645\n",
            "Epoch 29/200\n",
            "1386/1386 [==============================] - 57s 41ms/step - loss: 0.0030 - accuracy: 0.9993 - auc: 1.0000 - recall: 0.9992 - val_loss: 0.1895 - val_accuracy: 0.9749 - val_auc: 0.9902 - val_recall: 0.9741\n",
            "Epoch 30/200\n",
            "1386/1386 [==============================] - 59s 43ms/step - loss: 0.0046 - accuracy: 0.9986 - auc: 0.9999 - recall: 0.9985 - val_loss: 0.1444 - val_accuracy: 0.9769 - val_auc: 0.9921 - val_recall: 0.9761\n",
            "Epoch 31/200\n",
            "1386/1386 [==============================] - 60s 43ms/step - loss: 0.0032 - accuracy: 0.9990 - auc: 1.0000 - recall: 0.9988 - val_loss: 0.2091 - val_accuracy: 0.9747 - val_auc: 0.9898 - val_recall: 0.9741\n",
            "Epoch 32/200\n",
            "1386/1386 [==============================] - 60s 43ms/step - loss: 0.0021 - accuracy: 0.9995 - auc: 1.0000 - recall: 0.9993 - val_loss: 0.1374 - val_accuracy: 0.9759 - val_auc: 0.9934 - val_recall: 0.9753\n",
            "Epoch 33/200\n",
            "1386/1386 [==============================] - 60s 43ms/step - loss: 0.0033 - accuracy: 0.9990 - auc: 1.0000 - recall: 0.9988 - val_loss: 0.2157 - val_accuracy: 0.9755 - val_auc: 0.9895 - val_recall: 0.9753\n",
            "Epoch 34/200\n",
            "1386/1386 [==============================] - 60s 43ms/step - loss: 0.0033 - accuracy: 0.9990 - auc: 1.0000 - recall: 0.9987 - val_loss: 0.1769 - val_accuracy: 0.9775 - val_auc: 0.9901 - val_recall: 0.9771\n",
            "Epoch 35/200\n",
            "1386/1386 [==============================] - 60s 43ms/step - loss: 0.0022 - accuracy: 0.9994 - auc: 1.0000 - recall: 0.9992 - val_loss: 0.3251 - val_accuracy: 0.9591 - val_auc: 0.9863 - val_recall: 0.9589\n",
            "Epoch 36/200\n",
            "1386/1386 [==============================] - 57s 41ms/step - loss: 0.0031 - accuracy: 0.9991 - auc: 1.0000 - recall: 0.9991 - val_loss: 0.2468 - val_accuracy: 0.9755 - val_auc: 0.9897 - val_recall: 0.9755\n",
            "Epoch 37/200\n",
            "1386/1386 [==============================] - 55s 40ms/step - loss: 0.0031 - accuracy: 0.9991 - auc: 1.0000 - recall: 0.9990 - val_loss: 0.2786 - val_accuracy: 0.9743 - val_auc: 0.9901 - val_recall: 0.9737\n",
            "Epoch 38/200\n",
            "1386/1386 [==============================] - 56s 41ms/step - loss: 0.0035 - accuracy: 0.9989 - auc: 1.0000 - recall: 0.9988 - val_loss: 0.2692 - val_accuracy: 0.9767 - val_auc: 0.9895 - val_recall: 0.9765\n",
            "Epoch 39/200\n",
            "1386/1386 [==============================] - 55s 40ms/step - loss: 7.4876e-04 - accuracy: 0.9998 - auc: 1.0000 - recall: 0.9998 - val_loss: 0.2878 - val_accuracy: 0.9789 - val_auc: 0.9903 - val_recall: 0.9781\n",
            "Epoch 40/200\n",
            "1386/1386 [==============================] - 54s 39ms/step - loss: 0.0027 - accuracy: 0.9993 - auc: 1.0000 - recall: 0.9993 - val_loss: 0.3017 - val_accuracy: 0.9751 - val_auc: 0.9894 - val_recall: 0.9749\n",
            "Epoch 41/200\n",
            "1386/1386 [==============================] - 54s 39ms/step - loss: 0.0029 - accuracy: 0.9990 - auc: 1.0000 - recall: 0.9989 - val_loss: 0.3102 - val_accuracy: 0.9755 - val_auc: 0.9900 - val_recall: 0.9753\n",
            "Epoch 42/200\n",
            "1386/1386 [==============================] - 54s 39ms/step - loss: 0.0025 - accuracy: 0.9993 - auc: 1.0000 - recall: 0.9992 - val_loss: 0.2481 - val_accuracy: 0.9751 - val_auc: 0.9902 - val_recall: 0.9747\n",
            "Epoch 43/200\n",
            "1386/1386 [==============================] - 54s 39ms/step - loss: 0.0030 - accuracy: 0.9991 - auc: 0.9999 - recall: 0.9991 - val_loss: 0.2337 - val_accuracy: 0.9745 - val_auc: 0.9901 - val_recall: 0.9741\n"
          ]
        },
        {
          "output_type": "display_data",
          "data": {
            "image/png": "[encoded data removed]",
            "text/plain": [
              "<Figure size 432x288 with 1 Axes>"
            ]
          },
          "metadata": {
            "needs_background": "light"
          }
        },
        {
          "output_type": "display_data",
          "data": {
            "image/png": "[encoded data removed]",
            "text/plain": [
              "<Figure size 432x288 with 1 Axes>"
            ]
          },
          "metadata": {
            "needs_background": "light"
          }
        }
      ]
    },
    {
      "cell_type": "code",
      "source": [
        "model = MLSTM_FCN_2((X_train.shape[1], X_train.shape[2]), train_label.shape[1])\n",
        "model.load_weights(checkpoint_filepath)"
      ],
      "metadata": {
        "id": "yUrFvIm7LIbF"
      },
      "execution_count": null,
      "outputs": []
    },
    {
      "cell_type": "code",
      "metadata": {
        "id": "ZuWbyign0dG3",
        "colab": {
          "base_uri": "https://localhost:8080/"
        },
        "outputId": "efd974aa-b1bf-47f7-a871-ee0293313897"
      },
      "source": [
        "get_test_performance(model, X_test, test_label)"
      ],
      "execution_count": null,
      "outputs": [
        {
          "output_type": "stream",
          "name": "stdout",
          "text": [
            "155/155 [==============================] - 3s 16ms/step - loss: 0.1190 - accuracy: 0.9767 - auc: 0.9951 - recall: 0.9745\n",
            "Test loss:0.11896923184394836\n",
            "Test accuracy:0.9767017960548401\n",
            "Test Recall: 0.974473237991333\n",
            "Test AUC: 0.9950871467590332\n"
          ]
        }
      ]
    },
    {
      "cell_type": "markdown",
      "metadata": {
        "id": "G3UeC-2t0dG3"
      },
      "source": [
        "#Train Test = val Dataset OU-ISIR"
      ]
    },
    {
      "cell_type": "code",
      "metadata": {
        "id": "VmhWjZAD0dG3",
        "colab": {
          "base_uri": "https://localhost:8080/"
        },
        "outputId": "e7ae39d5-a08c-4b9e-9467-95a29585a483"
      },
      "source": [
        "num_classes = 745\n",
        "np.random.seed(42)\n",
        "X_train = load_X('/content/drive/Shareddrives/MMH/TIFS20/OU-ISIR_sensors_dataset/identification/data/train/data')\n",
        "X_test = load_X('/content/drive/Shareddrives/MMH/TIFS20/OU-ISIR_sensors_dataset/identification/data/test/data')\n",
        "train_label = load_y('/content/drive/Shareddrives/MMH/TIFS20/OU-ISIR_sensors_dataset/identification/data/train/train_y.txt')\n",
        "test_label = load_y('/content/drive/Shareddrives/MMH/TIFS20/OU-ISIR_sensors_dataset/identification/data/test/test_y.txt')\n",
        "print(f'{X_train.shape} {X_test.shape}')\n",
        "# model = MLSTM_FCN((X_train.shape[1], X_train.shape[2]), train_label.shape[1])"
      ],
      "execution_count": null,
      "outputs": [
        {
          "output_type": "stream",
          "name": "stdout",
          "text": [
            "(13212, 6, 128, 1) (1409, 6, 128, 1)\n"
          ]
        }
      ]
    },
    {
      "cell_type": "code",
      "metadata": {
        "id": "LhLx6Wpz0dG3",
        "colab": {
          "base_uri": "https://localhost:8080/",
          "height": 1000
        },
        "outputId": "c207a01f-30d6-4cff-f475-7af4429460c1"
      },
      "source": [
        "checkpoint_filepath = '/content/ou/checkpoint'\n",
        "if gpu:\n",
        "    model = MLSTM_FCN_2((X_train.shape[1], X_train.shape[2]), train_label.shape[1])\n",
        "    history = model.fit(X_train,train_label,batch_size=32,epochs=200,verbose=1,callbacks=[EarlyStopping('val_loss', patience=30,restore_best_weights=True),ModelCheckpoint(checkpoint_filepath, monitor='val_loss', save_best_only=True,save_weights_only=True)],validation_data=(X_test,test_label))\n",
        "if tpu:\n",
        "    with strategy.scope():\n",
        "        model = MLSTM_FCN_2((X_train.shape[1], X_train.shape[2]), train_label.shape[1])\n",
        "        history = model.fit(X_train,train_label,batch_size=8*32,epochs=200,verbose=1,callbacks=[EarlyStopping('val_loss', patience=30,restore_best_weights=True),ModelCheckpoint(checkpoint_filepath, monitor='val_loss', save_best_only=True,save_weights_only=True)],validation_data=(X_test,test_label))\n",
        "\n",
        "plot_performance(X_train, train_label, history)"
      ],
      "execution_count": null,
      "outputs": [
        {
          "output_type": "stream",
          "name": "stdout",
          "text": [
            "Model: \"model_6\"\n",
            "__________________________________________________________________________________________________\n",
            " Layer (type)                   Output Shape         Param #     Connected to                     \n",
            "==================================================================================================\n",
            " input_7 (InputLayer)           [(None, 6, 128)]     0           []                               \n",
            "                                                                                                  \n",
            " permute_6 (Permute)            (None, 128, 6)       0           ['input_7[0][0]']                \n",
            "                                                                                                  \n",
            " conv1d_18 (Conv1D)             (None, 128, 32)      1760        ['permute_6[0][0]']              \n",
            "                                                                                                  \n",
            " batch_normalization_18 (BatchN  (None, 128, 32)     128         ['conv1d_18[0][0]']              \n",
            " ormalization)                                                                                    \n",
            "                                                                                                  \n",
            " activation_18 (Activation)     (None, 128, 32)      0           ['batch_normalization_18[0][0]'] \n",
            "                                                                                                  \n",
            " global_average_pooling1d_18 (G  (None, 32)          0           ['activation_18[0][0]']          \n",
            " lobalAveragePooling1D)                                                                           \n",
            "                                                                                                  \n",
            " reshape_12 (Reshape)           (None, 1, 32)        0           ['global_average_pooling1d_18[0][\n",
            "                                                                 0]']                             \n",
            "                                                                                                  \n",
            " dense_30 (Dense)               (None, 1, 2)         64          ['reshape_12[0][0]']             \n",
            "                                                                                                  \n",
            " dense_31 (Dense)               (None, 1, 32)        64          ['dense_30[0][0]']               \n",
            "                                                                                                  \n",
            " multiply_12 (Multiply)         (None, 128, 32)      0           ['activation_18[0][0]',          \n",
            "                                                                  'dense_31[0][0]']               \n",
            "                                                                                                  \n",
            " conv1d_19 (Conv1D)             (None, 128, 256)     24832       ['multiply_12[0][0]']            \n",
            "                                                                                                  \n",
            " batch_normalization_19 (BatchN  (None, 128, 256)    1024        ['conv1d_19[0][0]']              \n",
            " ormalization)                                                                                    \n",
            "                                                                                                  \n",
            " activation_19 (Activation)     (None, 128, 256)     0           ['batch_normalization_19[0][0]'] \n",
            "                                                                                                  \n",
            " global_average_pooling1d_19 (G  (None, 256)         0           ['activation_19[0][0]']          \n",
            " lobalAveragePooling1D)                                                                           \n",
            "                                                                                                  \n",
            " reshape_13 (Reshape)           (None, 1, 256)       0           ['global_average_pooling1d_19[0][\n",
            "                                                                 0]']                             \n",
            "                                                                                                  \n",
            " dense_32 (Dense)               (None, 1, 16)        4096        ['reshape_13[0][0]']             \n",
            "                                                                                                  \n",
            " dense_33 (Dense)               (None, 1, 256)       4096        ['dense_32[0][0]']               \n",
            "                                                                                                  \n",
            " multiply_13 (Multiply)         (None, 128, 256)     0           ['activation_19[0][0]',          \n",
            "                                                                  'dense_33[0][0]']               \n",
            "                                                                                                  \n",
            " conv1d_20 (Conv1D)             (None, 128, 512)     393728      ['multiply_13[0][0]']            \n",
            "                                                                                                  \n",
            " masking_6 (Masking)            (None, 6, 128)       0           ['input_7[0][0]']                \n",
            "                                                                                                  \n",
            " batch_normalization_20 (BatchN  (None, 128, 512)    2048        ['conv1d_20[0][0]']              \n",
            " ormalization)                                                                                    \n",
            "                                                                                                  \n",
            " bidirectional_6 (Bidirectional  (None, 16)          8768        ['masking_6[0][0]']              \n",
            " )                                                                                                \n",
            "                                                                                                  \n",
            " activation_20 (Activation)     (None, 128, 512)     0           ['batch_normalization_20[0][0]'] \n",
            "                                                                                                  \n",
            " dropout_6 (Dropout)            (None, 16)           0           ['bidirectional_6[0][0]']        \n",
            "                                                                                                  \n",
            " global_average_pooling1d_20 (G  (None, 512)         0           ['activation_20[0][0]']          \n",
            " lobalAveragePooling1D)                                                                           \n",
            "                                                                                                  \n",
            " concatenate_6 (Concatenate)    (None, 528)          0           ['dropout_6[0][0]',              \n",
            "                                                                  'global_average_pooling1d_20[0][\n",
            "                                                                 0]']                             \n",
            "                                                                                                  \n",
            " dense_34 (Dense)               (None, 745)          394105      ['concatenate_6[0][0]']          \n",
            "                                                                                                  \n",
            "==================================================================================================\n",
            "Total params: 834,713\n",
            "Trainable params: 833,113\n",
            "Non-trainable params: 1,600\n",
            "__________________________________________________________________________________________________\n",
            "Epoch 1/200\n",
            "413/413 [==============================] - 32s 51ms/step - loss: 5.4053 - accuracy: 0.0724 - auc: 0.7124 - recall: 0.0017 - val_loss: 4.0174 - val_accuracy: 0.1781 - val_auc: 0.9079 - val_recall: 0.0071\n",
            "Epoch 2/200\n",
            "413/413 [==============================] - 17s 41ms/step - loss: 2.6627 - accuracy: 0.4040 - auc: 0.9729 - recall: 0.0813 - val_loss: 1.9889 - val_accuracy: 0.5351 - val_auc: 0.9780 - val_recall: 0.2328\n",
            "Epoch 3/200\n",
            "413/413 [==============================] - 16s 40ms/step - loss: 1.3593 - accuracy: 0.6882 - auc: 0.9929 - recall: 0.3869 - val_loss: 1.2321 - val_accuracy: 0.7040 - val_auc: 0.9858 - val_recall: 0.5089\n",
            "Epoch 4/200\n",
            "413/413 [==============================] - 17s 40ms/step - loss: 0.7812 - accuracy: 0.8267 - auc: 0.9971 - recall: 0.6434 - val_loss: 0.8997 - val_accuracy: 0.7807 - val_auc: 0.9913 - val_recall: 0.6238\n",
            "Epoch 5/200\n",
            "413/413 [==============================] - 16s 40ms/step - loss: 0.4878 - accuracy: 0.8990 - auc: 0.9987 - recall: 0.7900 - val_loss: 0.6221 - val_accuracy: 0.8552 - val_auc: 0.9926 - val_recall: 0.7573\n",
            "Epoch 6/200\n",
            "413/413 [==============================] - 17s 40ms/step - loss: 0.3351 - accuracy: 0.9295 - auc: 0.9991 - recall: 0.8641 - val_loss: 0.5347 - val_accuracy: 0.8666 - val_auc: 0.9934 - val_recall: 0.8112\n",
            "Epoch 7/200\n",
            "413/413 [==============================] - 16s 39ms/step - loss: 0.2345 - accuracy: 0.9528 - auc: 0.9997 - recall: 0.9106 - val_loss: 0.4810 - val_accuracy: 0.8829 - val_auc: 0.9928 - val_recall: 0.8325\n",
            "Epoch 8/200\n",
            "413/413 [==============================] - 16s 39ms/step - loss: 0.1797 - accuracy: 0.9633 - auc: 0.9998 - recall: 0.9362 - val_loss: 0.5075 - val_accuracy: 0.8637 - val_auc: 0.9935 - val_recall: 0.8211\n",
            "Epoch 9/200\n",
            "413/413 [==============================] - 16s 39ms/step - loss: 0.1447 - accuracy: 0.9703 - auc: 0.9998 - recall: 0.9499 - val_loss: 0.4994 - val_accuracy: 0.8744 - val_auc: 0.9924 - val_recall: 0.8389\n",
            "Epoch 10/200\n",
            "413/413 [==============================] - 16s 40ms/step - loss: 0.1069 - accuracy: 0.9793 - auc: 0.9999 - recall: 0.9657 - val_loss: 0.3337 - val_accuracy: 0.9170 - val_auc: 0.9939 - val_recall: 0.8950\n",
            "Epoch 11/200\n",
            "413/413 [==============================] - 16s 39ms/step - loss: 0.0966 - accuracy: 0.9784 - auc: 0.9998 - recall: 0.9669 - val_loss: 0.3349 - val_accuracy: 0.9163 - val_auc: 0.9939 - val_recall: 0.8957\n",
            "Epoch 12/200\n",
            "413/413 [==============================] - 16s 39ms/step - loss: 0.0882 - accuracy: 0.9809 - auc: 0.9999 - recall: 0.9726 - val_loss: 0.2651 - val_accuracy: 0.9340 - val_auc: 0.9953 - val_recall: 0.9120\n",
            "Epoch 13/200\n",
            "413/413 [==============================] - 16s 39ms/step - loss: 0.0877 - accuracy: 0.9790 - auc: 0.9997 - recall: 0.9721 - val_loss: 0.4741 - val_accuracy: 0.8793 - val_auc: 0.9885 - val_recall: 0.8609\n",
            "Epoch 14/200\n",
            "413/413 [==============================] - 16s 40ms/step - loss: 0.0667 - accuracy: 0.9855 - auc: 0.9999 - recall: 0.9799 - val_loss: 0.3154 - val_accuracy: 0.9155 - val_auc: 0.9943 - val_recall: 0.8914\n",
            "Epoch 15/200\n",
            "413/413 [==============================] - 16s 40ms/step - loss: 0.0643 - accuracy: 0.9855 - auc: 0.9997 - recall: 0.9801 - val_loss: 0.3651 - val_accuracy: 0.9127 - val_auc: 0.9918 - val_recall: 0.8971\n",
            "Epoch 16/200\n",
            "413/413 [==============================] - 16s 39ms/step - loss: 0.0637 - accuracy: 0.9836 - auc: 0.9998 - recall: 0.9786 - val_loss: 0.3985 - val_accuracy: 0.8964 - val_auc: 0.9939 - val_recall: 0.8758\n",
            "Epoch 17/200\n",
            "413/413 [==============================] - 16s 39ms/step - loss: 0.0536 - accuracy: 0.9888 - auc: 0.9997 - recall: 0.9852 - val_loss: 0.4549 - val_accuracy: 0.8801 - val_auc: 0.9903 - val_recall: 0.8495\n",
            "Epoch 18/200\n",
            "413/413 [==============================] - 16s 40ms/step - loss: 0.0678 - accuracy: 0.9831 - auc: 0.9995 - recall: 0.9784 - val_loss: 0.3196 - val_accuracy: 0.9233 - val_auc: 0.9911 - val_recall: 0.9106\n",
            "Epoch 19/200\n",
            "413/413 [==============================] - 16s 39ms/step - loss: 0.0542 - accuracy: 0.9867 - auc: 0.9996 - recall: 0.9842 - val_loss: 0.4363 - val_accuracy: 0.8779 - val_auc: 0.9921 - val_recall: 0.8609\n",
            "Epoch 20/200\n",
            "413/413 [==============================] - 16s 39ms/step - loss: 0.0426 - accuracy: 0.9904 - auc: 0.9997 - recall: 0.9875 - val_loss: 0.3224 - val_accuracy: 0.9184 - val_auc: 0.9929 - val_recall: 0.9042\n",
            "Epoch 21/200\n",
            "413/413 [==============================] - 16s 39ms/step - loss: 0.0397 - accuracy: 0.9908 - auc: 0.9997 - recall: 0.9886 - val_loss: 0.3885 - val_accuracy: 0.8985 - val_auc: 0.9889 - val_recall: 0.8893\n",
            "Epoch 22/200\n",
            "413/413 [==============================] - 16s 39ms/step - loss: 0.0472 - accuracy: 0.9880 - auc: 0.9997 - recall: 0.9849 - val_loss: 0.3521 - val_accuracy: 0.9035 - val_auc: 0.9928 - val_recall: 0.8921\n",
            "Epoch 23/200\n",
            "413/413 [==============================] - 16s 39ms/step - loss: 0.0403 - accuracy: 0.9899 - auc: 0.9997 - recall: 0.9874 - val_loss: 0.2697 - val_accuracy: 0.9304 - val_auc: 0.9939 - val_recall: 0.9233\n",
            "Epoch 24/200\n",
            "413/413 [==============================] - 16s 39ms/step - loss: 0.0365 - accuracy: 0.9911 - auc: 0.9997 - recall: 0.9893 - val_loss: 0.3342 - val_accuracy: 0.9226 - val_auc: 0.9918 - val_recall: 0.9120\n",
            "Epoch 25/200\n",
            "413/413 [==============================] - 16s 39ms/step - loss: 0.0321 - accuracy: 0.9917 - auc: 0.9997 - recall: 0.9905 - val_loss: 0.3777 - val_accuracy: 0.9021 - val_auc: 0.9907 - val_recall: 0.8928\n",
            "Epoch 26/200\n",
            "413/413 [==============================] - 16s 39ms/step - loss: 0.0520 - accuracy: 0.9867 - auc: 0.9995 - recall: 0.9842 - val_loss: 0.3427 - val_accuracy: 0.9219 - val_auc: 0.9907 - val_recall: 0.9070\n",
            "Epoch 27/200\n",
            "413/413 [==============================] - 16s 39ms/step - loss: 0.0246 - accuracy: 0.9952 - auc: 0.9998 - recall: 0.9946 - val_loss: 0.4856 - val_accuracy: 0.8786 - val_auc: 0.9893 - val_recall: 0.8573\n",
            "Epoch 28/200\n",
            "413/413 [==============================] - 16s 39ms/step - loss: 0.0588 - accuracy: 0.9849 - auc: 0.9992 - recall: 0.9820 - val_loss: 0.2776 - val_accuracy: 0.9333 - val_auc: 0.9932 - val_recall: 0.9255\n",
            "Epoch 29/200\n",
            "413/413 [==============================] - 16s 39ms/step - loss: 0.0126 - accuracy: 0.9973 - auc: 1.0000 - recall: 0.9965 - val_loss: 0.1667 - val_accuracy: 0.9567 - val_auc: 0.9961 - val_recall: 0.9532\n",
            "Epoch 30/200\n",
            "413/413 [==============================] - 16s 39ms/step - loss: 0.0243 - accuracy: 0.9939 - auc: 0.9998 - recall: 0.9930 - val_loss: 0.3832 - val_accuracy: 0.8921 - val_auc: 0.9921 - val_recall: 0.8801\n",
            "Epoch 31/200\n",
            "413/413 [==============================] - 16s 39ms/step - loss: 0.0564 - accuracy: 0.9853 - auc: 0.9992 - recall: 0.9840 - val_loss: 0.3806 - val_accuracy: 0.8935 - val_auc: 0.9904 - val_recall: 0.8857\n",
            "Epoch 32/200\n",
            "413/413 [==============================] - 16s 39ms/step - loss: 0.0222 - accuracy: 0.9938 - auc: 1.0000 - recall: 0.9924 - val_loss: 0.1887 - val_accuracy: 0.9560 - val_auc: 0.9957 - val_recall: 0.9489\n",
            "Epoch 33/200\n",
            "413/413 [==============================] - 16s 39ms/step - loss: 0.0084 - accuracy: 0.9983 - auc: 1.0000 - recall: 0.9981 - val_loss: 0.3542 - val_accuracy: 0.9248 - val_auc: 0.9904 - val_recall: 0.9177\n",
            "Epoch 34/200\n",
            "413/413 [==============================] - 16s 38ms/step - loss: 0.0263 - accuracy: 0.9933 - auc: 0.9996 - recall: 0.9927 - val_loss: 0.3327 - val_accuracy: 0.9262 - val_auc: 0.9914 - val_recall: 0.9191\n",
            "Epoch 35/200\n",
            "413/413 [==============================] - 16s 39ms/step - loss: 0.0387 - accuracy: 0.9890 - auc: 0.9995 - recall: 0.9880 - val_loss: 0.3440 - val_accuracy: 0.9141 - val_auc: 0.9914 - val_recall: 0.9084\n",
            "Epoch 36/200\n",
            "413/413 [==============================] - 16s 38ms/step - loss: 0.0245 - accuracy: 0.9943 - auc: 0.9998 - recall: 0.9929 - val_loss: 0.3396 - val_accuracy: 0.9198 - val_auc: 0.9904 - val_recall: 0.9106\n",
            "Epoch 37/200\n",
            "413/413 [==============================] - 16s 38ms/step - loss: 0.0221 - accuracy: 0.9949 - auc: 0.9997 - recall: 0.9939 - val_loss: 0.2286 - val_accuracy: 0.9432 - val_auc: 0.9943 - val_recall: 0.9361\n",
            "Epoch 38/200\n",
            "413/413 [==============================] - 16s 38ms/step - loss: 0.0227 - accuracy: 0.9942 - auc: 0.9997 - recall: 0.9936 - val_loss: 0.2332 - val_accuracy: 0.9454 - val_auc: 0.9932 - val_recall: 0.9361\n",
            "Epoch 39/200\n",
            "413/413 [==============================] - 16s 38ms/step - loss: 0.0242 - accuracy: 0.9938 - auc: 0.9997 - recall: 0.9930 - val_loss: 0.4117 - val_accuracy: 0.9077 - val_auc: 0.9868 - val_recall: 0.9021\n",
            "Epoch 40/200\n",
            "413/413 [==============================] - 16s 38ms/step - loss: 0.0212 - accuracy: 0.9941 - auc: 0.9999 - recall: 0.9935 - val_loss: 0.3268 - val_accuracy: 0.9212 - val_auc: 0.9932 - val_recall: 0.9127\n",
            "Epoch 41/200\n",
            "413/413 [==============================] - 16s 39ms/step - loss: 0.0261 - accuracy: 0.9928 - auc: 0.9997 - recall: 0.9914 - val_loss: 0.1523 - val_accuracy: 0.9659 - val_auc: 0.9961 - val_recall: 0.9610\n",
            "Epoch 42/200\n",
            "413/413 [==============================] - 16s 38ms/step - loss: 0.0033 - accuracy: 0.9997 - auc: 1.0000 - recall: 0.9995 - val_loss: 0.1726 - val_accuracy: 0.9659 - val_auc: 0.9961 - val_recall: 0.9588\n",
            "Epoch 43/200\n",
            "413/413 [==============================] - 16s 38ms/step - loss: 0.0182 - accuracy: 0.9953 - auc: 0.9997 - recall: 0.9947 - val_loss: 0.4254 - val_accuracy: 0.9035 - val_auc: 0.9900 - val_recall: 0.8943\n",
            "Epoch 44/200\n",
            "413/413 [==============================] - 16s 38ms/step - loss: 0.0376 - accuracy: 0.9896 - auc: 0.9995 - recall: 0.9881 - val_loss: 0.2333 - val_accuracy: 0.9368 - val_auc: 0.9961 - val_recall: 0.9304\n",
            "Epoch 45/200\n",
            "413/413 [==============================] - 16s 39ms/step - loss: 0.0134 - accuracy: 0.9966 - auc: 0.9999 - recall: 0.9960 - val_loss: 0.2145 - val_accuracy: 0.9489 - val_auc: 0.9932 - val_recall: 0.9468\n",
            "Epoch 46/200\n",
            "413/413 [==============================] - 16s 38ms/step - loss: 0.0190 - accuracy: 0.9953 - auc: 0.9998 - recall: 0.9950 - val_loss: 0.2326 - val_accuracy: 0.9446 - val_auc: 0.9943 - val_recall: 0.9397\n",
            "Epoch 47/200\n",
            "413/413 [==============================] - 16s 38ms/step - loss: 0.0252 - accuracy: 0.9933 - auc: 0.9995 - recall: 0.9924 - val_loss: 0.2868 - val_accuracy: 0.9361 - val_auc: 0.9929 - val_recall: 0.9262\n",
            "Epoch 48/200\n",
            "413/413 [==============================] - 16s 38ms/step - loss: 0.0149 - accuracy: 0.9962 - auc: 0.9998 - recall: 0.9958 - val_loss: 0.2246 - val_accuracy: 0.9411 - val_auc: 0.9954 - val_recall: 0.9390\n",
            "Epoch 49/200\n",
            "413/413 [==============================] - 16s 39ms/step - loss: 0.0036 - accuracy: 0.9992 - auc: 1.0000 - recall: 0.9992 - val_loss: 0.1755 - val_accuracy: 0.9567 - val_auc: 0.9954 - val_recall: 0.9524\n",
            "Epoch 50/200\n",
            "413/413 [==============================] - 16s 39ms/step - loss: 0.0258 - accuracy: 0.9924 - auc: 0.9997 - recall: 0.9915 - val_loss: 0.2957 - val_accuracy: 0.9383 - val_auc: 0.9907 - val_recall: 0.9319\n",
            "Epoch 51/200\n",
            "413/413 [==============================] - 16s 39ms/step - loss: 0.0163 - accuracy: 0.9957 - auc: 0.9998 - recall: 0.9952 - val_loss: 0.1972 - val_accuracy: 0.9524 - val_auc: 0.9943 - val_recall: 0.9454\n",
            "Epoch 52/200\n",
            "413/413 [==============================] - 16s 39ms/step - loss: 0.0108 - accuracy: 0.9974 - auc: 0.9999 - recall: 0.9972 - val_loss: 0.2972 - val_accuracy: 0.9233 - val_auc: 0.9918 - val_recall: 0.9134\n",
            "Epoch 53/200\n",
            "413/413 [==============================] - 16s 39ms/step - loss: 0.0077 - accuracy: 0.9982 - auc: 1.0000 - recall: 0.9979 - val_loss: 0.1905 - val_accuracy: 0.9603 - val_auc: 0.9940 - val_recall: 0.9517\n",
            "Epoch 54/200\n",
            "413/413 [==============================] - 16s 39ms/step - loss: 0.0091 - accuracy: 0.9976 - auc: 0.9999 - recall: 0.9975 - val_loss: 0.3343 - val_accuracy: 0.9219 - val_auc: 0.9911 - val_recall: 0.9113\n",
            "Epoch 55/200\n",
            "413/413 [==============================] - 16s 38ms/step - loss: 0.0279 - accuracy: 0.9919 - auc: 0.9996 - recall: 0.9908 - val_loss: 0.4167 - val_accuracy: 0.9013 - val_auc: 0.9886 - val_recall: 0.8971\n",
            "Epoch 56/200\n",
            "413/413 [==============================] - 16s 39ms/step - loss: 0.0087 - accuracy: 0.9980 - auc: 1.0000 - recall: 0.9975 - val_loss: 0.2434 - val_accuracy: 0.9368 - val_auc: 0.9939 - val_recall: 0.9326\n",
            "Epoch 57/200\n",
            "413/413 [==============================] - 16s 38ms/step - loss: 0.0111 - accuracy: 0.9972 - auc: 0.9999 - recall: 0.9971 - val_loss: 0.3828 - val_accuracy: 0.9113 - val_auc: 0.9890 - val_recall: 0.8985\n",
            "Epoch 58/200\n",
            "413/413 [==============================] - 16s 39ms/step - loss: 0.0209 - accuracy: 0.9943 - auc: 0.9997 - recall: 0.9937 - val_loss: 0.1816 - val_accuracy: 0.9581 - val_auc: 0.9940 - val_recall: 0.9567\n",
            "Epoch 59/200\n",
            "413/413 [==============================] - 16s 39ms/step - loss: 0.0074 - accuracy: 0.9980 - auc: 1.0000 - recall: 0.9977 - val_loss: 0.1422 - val_accuracy: 0.9688 - val_auc: 0.9961 - val_recall: 0.9674\n",
            "Epoch 60/200\n",
            "413/413 [==============================] - 16s 39ms/step - loss: 0.0061 - accuracy: 0.9986 - auc: 1.0000 - recall: 0.9983 - val_loss: 0.1500 - val_accuracy: 0.9617 - val_auc: 0.9957 - val_recall: 0.9603\n",
            "Epoch 61/200\n",
            "413/413 [==============================] - 16s 39ms/step - loss: 0.0212 - accuracy: 0.9942 - auc: 0.9997 - recall: 0.9939 - val_loss: 0.3197 - val_accuracy: 0.9383 - val_auc: 0.9904 - val_recall: 0.9326\n",
            "Epoch 62/200\n",
            "413/413 [==============================] - 16s 39ms/step - loss: 0.0151 - accuracy: 0.9962 - auc: 0.9998 - recall: 0.9955 - val_loss: 0.1753 - val_accuracy: 0.9617 - val_auc: 0.9943 - val_recall: 0.9560\n",
            "Epoch 63/200\n",
            "413/413 [==============================] - 16s 39ms/step - loss: 0.0131 - accuracy: 0.9968 - auc: 0.9999 - recall: 0.9963 - val_loss: 0.1766 - val_accuracy: 0.9581 - val_auc: 0.9954 - val_recall: 0.9539\n",
            "Epoch 64/200\n",
            "413/413 [==============================] - 16s 39ms/step - loss: 0.0110 - accuracy: 0.9970 - auc: 0.9998 - recall: 0.9967 - val_loss: 0.1285 - val_accuracy: 0.9610 - val_auc: 0.9982 - val_recall: 0.9588\n",
            "Epoch 65/200\n",
            "413/413 [==============================] - 16s 39ms/step - loss: 0.0039 - accuracy: 0.9992 - auc: 1.0000 - recall: 0.9991 - val_loss: 0.1303 - val_accuracy: 0.9645 - val_auc: 0.9972 - val_recall: 0.9595\n",
            "Epoch 66/200\n",
            "413/413 [==============================] - 16s 39ms/step - loss: 8.4987e-04 - accuracy: 1.0000 - auc: 1.0000 - recall: 0.9999 - val_loss: 0.0988 - val_accuracy: 0.9744 - val_auc: 0.9989 - val_recall: 0.9709\n",
            "Epoch 67/200\n",
            "413/413 [==============================] - 17s 40ms/step - loss: 3.2047e-04 - accuracy: 1.0000 - auc: 1.0000 - recall: 1.0000 - val_loss: 0.0977 - val_accuracy: 0.9752 - val_auc: 0.9986 - val_recall: 0.9730\n",
            "Epoch 68/200\n",
            "413/413 [==============================] - 16s 40ms/step - loss: 0.0328 - accuracy: 0.9908 - auc: 0.9994 - recall: 0.9895 - val_loss: 0.4059 - val_accuracy: 0.9070 - val_auc: 0.9886 - val_recall: 0.8999\n",
            "Epoch 69/200\n",
            "413/413 [==============================] - 16s 39ms/step - loss: 0.0137 - accuracy: 0.9960 - auc: 0.9998 - recall: 0.9955 - val_loss: 0.2064 - val_accuracy: 0.9482 - val_auc: 0.9947 - val_recall: 0.9411\n",
            "Epoch 70/200\n",
            "413/413 [==============================] - 16s 39ms/step - loss: 0.0132 - accuracy: 0.9964 - auc: 0.9998 - recall: 0.9961 - val_loss: 0.1713 - val_accuracy: 0.9581 - val_auc: 0.9954 - val_recall: 0.9524\n",
            "Epoch 71/200\n",
            "413/413 [==============================] - 16s 39ms/step - loss: 0.0050 - accuracy: 0.9986 - auc: 1.0000 - recall: 0.9983 - val_loss: 0.1597 - val_accuracy: 0.9652 - val_auc: 0.9954 - val_recall: 0.9603\n",
            "Epoch 72/200\n",
            "413/413 [==============================] - 16s 39ms/step - loss: 0.0017 - accuracy: 0.9998 - auc: 1.0000 - recall: 0.9997 - val_loss: 0.1154 - val_accuracy: 0.9737 - val_auc: 0.9968 - val_recall: 0.9709\n",
            "Epoch 73/200\n",
            "413/413 [==============================] - 16s 39ms/step - loss: 5.7474e-04 - accuracy: 0.9998 - auc: 1.0000 - recall: 0.9998 - val_loss: 0.1178 - val_accuracy: 0.9752 - val_auc: 0.9968 - val_recall: 0.9730\n",
            "Epoch 74/200\n",
            "413/413 [==============================] - 16s 39ms/step - loss: 8.8491e-04 - accuracy: 0.9998 - auc: 1.0000 - recall: 0.9998 - val_loss: 0.1068 - val_accuracy: 0.9752 - val_auc: 0.9975 - val_recall: 0.9730\n",
            "Epoch 75/200\n",
            "413/413 [==============================] - 16s 39ms/step - loss: 0.0232 - accuracy: 0.9930 - auc: 0.9997 - recall: 0.9921 - val_loss: 0.5284 - val_accuracy: 0.8985 - val_auc: 0.9829 - val_recall: 0.8921\n",
            "Epoch 76/200\n",
            "413/413 [==============================] - 16s 39ms/step - loss: 0.0248 - accuracy: 0.9937 - auc: 0.9996 - recall: 0.9927 - val_loss: 0.1746 - val_accuracy: 0.9581 - val_auc: 0.9954 - val_recall: 0.9539\n",
            "Epoch 77/200\n",
            "413/413 [==============================] - 16s 39ms/step - loss: 0.0057 - accuracy: 0.9985 - auc: 1.0000 - recall: 0.9983 - val_loss: 0.1655 - val_accuracy: 0.9532 - val_auc: 0.9961 - val_recall: 0.9503\n",
            "Epoch 78/200\n",
            "413/413 [==============================] - 16s 39ms/step - loss: 0.0020 - accuracy: 0.9995 - auc: 1.0000 - recall: 0.9995 - val_loss: 0.1191 - val_accuracy: 0.9744 - val_auc: 0.9975 - val_recall: 0.9688\n",
            "Epoch 79/200\n",
            "413/413 [==============================] - 16s 39ms/step - loss: 0.0056 - accuracy: 0.9987 - auc: 0.9999 - recall: 0.9987 - val_loss: 0.1683 - val_accuracy: 0.9617 - val_auc: 0.9968 - val_recall: 0.9588\n",
            "Epoch 80/200\n",
            "413/413 [==============================] - 16s 39ms/step - loss: 0.0046 - accuracy: 0.9989 - auc: 1.0000 - recall: 0.9987 - val_loss: 0.2223 - val_accuracy: 0.9581 - val_auc: 0.9908 - val_recall: 0.9532\n",
            "Epoch 81/200\n",
            "413/413 [==============================] - 16s 39ms/step - loss: 0.0097 - accuracy: 0.9974 - auc: 0.9999 - recall: 0.9973 - val_loss: 0.2060 - val_accuracy: 0.9496 - val_auc: 0.9950 - val_recall: 0.9439\n",
            "Epoch 82/200\n",
            "413/413 [==============================] - 16s 39ms/step - loss: 0.0075 - accuracy: 0.9981 - auc: 1.0000 - recall: 0.9980 - val_loss: 0.5919 - val_accuracy: 0.8673 - val_auc: 0.9822 - val_recall: 0.8566\n",
            "Epoch 83/200\n",
            "413/413 [==============================] - 16s 39ms/step - loss: 0.0205 - accuracy: 0.9945 - auc: 0.9997 - recall: 0.9937 - val_loss: 0.1945 - val_accuracy: 0.9546 - val_auc: 0.9947 - val_recall: 0.9503\n",
            "Epoch 84/200\n",
            "413/413 [==============================] - 16s 39ms/step - loss: 0.0056 - accuracy: 0.9986 - auc: 1.0000 - recall: 0.9982 - val_loss: 0.1246 - val_accuracy: 0.9744 - val_auc: 0.9968 - val_recall: 0.9702\n",
            "Epoch 85/200\n",
            "413/413 [==============================] - 16s 39ms/step - loss: 0.0039 - accuracy: 0.9989 - auc: 1.0000 - recall: 0.9988 - val_loss: 0.1255 - val_accuracy: 0.9702 - val_auc: 0.9972 - val_recall: 0.9674\n",
            "Epoch 86/200\n",
            "413/413 [==============================] - 16s 39ms/step - loss: 0.0017 - accuracy: 0.9996 - auc: 1.0000 - recall: 0.9996 - val_loss: 0.1111 - val_accuracy: 0.9716 - val_auc: 0.9968 - val_recall: 0.9674\n",
            "Epoch 87/200\n",
            "413/413 [==============================] - 16s 39ms/step - loss: 0.0081 - accuracy: 0.9982 - auc: 0.9998 - recall: 0.9980 - val_loss: 0.2533 - val_accuracy: 0.9461 - val_auc: 0.9922 - val_recall: 0.9411\n",
            "Epoch 88/200\n",
            "413/413 [==============================] - 17s 41ms/step - loss: 0.0097 - accuracy: 0.9978 - auc: 0.9997 - recall: 0.9976 - val_loss: 0.3172 - val_accuracy: 0.9347 - val_auc: 0.9897 - val_recall: 0.9312\n",
            "Epoch 89/200\n",
            "413/413 [==============================] - 17s 41ms/step - loss: 0.0146 - accuracy: 0.9958 - auc: 0.9998 - recall: 0.9951 - val_loss: 0.1853 - val_accuracy: 0.9510 - val_auc: 0.9957 - val_recall: 0.9482\n",
            "Epoch 90/200\n",
            "413/413 [==============================] - 16s 40ms/step - loss: 0.0073 - accuracy: 0.9981 - auc: 0.9999 - recall: 0.9979 - val_loss: 0.1441 - val_accuracy: 0.9681 - val_auc: 0.9961 - val_recall: 0.9645\n",
            "Epoch 91/200\n",
            "413/413 [==============================] - 16s 40ms/step - loss: 0.0021 - accuracy: 0.9994 - auc: 1.0000 - recall: 0.9993 - val_loss: 0.1430 - val_accuracy: 0.9603 - val_auc: 0.9968 - val_recall: 0.9567\n",
            "Epoch 92/200\n",
            "413/413 [==============================] - 16s 40ms/step - loss: 0.0036 - accuracy: 0.9995 - auc: 0.9999 - recall: 0.9993 - val_loss: 0.1453 - val_accuracy: 0.9709 - val_auc: 0.9961 - val_recall: 0.9659\n",
            "Epoch 93/200\n",
            "413/413 [==============================] - 17s 40ms/step - loss: 0.0013 - accuracy: 0.9998 - auc: 1.0000 - recall: 0.9998 - val_loss: 0.1183 - val_accuracy: 0.9744 - val_auc: 0.9968 - val_recall: 0.9716\n",
            "Epoch 94/200\n",
            "413/413 [==============================] - 16s 39ms/step - loss: 0.0046 - accuracy: 0.9988 - auc: 0.9999 - recall: 0.9988 - val_loss: 0.3726 - val_accuracy: 0.9134 - val_auc: 0.9886 - val_recall: 0.9084\n",
            "Epoch 95/200\n",
            "413/413 [==============================] - 16s 40ms/step - loss: 0.0140 - accuracy: 0.9961 - auc: 0.9999 - recall: 0.9951 - val_loss: 0.1880 - val_accuracy: 0.9595 - val_auc: 0.9957 - val_recall: 0.9560\n",
            "Epoch 96/200\n",
            "413/413 [==============================] - 16s 39ms/step - loss: 0.0084 - accuracy: 0.9977 - auc: 0.9999 - recall: 0.9973 - val_loss: 0.1868 - val_accuracy: 0.9631 - val_auc: 0.9954 - val_recall: 0.9617\n",
            "Epoch 97/200\n",
            "413/413 [==============================] - 16s 40ms/step - loss: 0.0046 - accuracy: 0.9987 - auc: 1.0000 - recall: 0.9986 - val_loss: 0.1754 - val_accuracy: 0.9617 - val_auc: 0.9950 - val_recall: 0.9581\n"
          ]
        },
        {
          "output_type": "display_data",
          "data": {
            "image/png": "[encoded data removed]",
            "text/plain": [
              "<Figure size 432x288 with 1 Axes>"
            ]
          },
          "metadata": {
            "needs_background": "light"
          }
        },
        {
          "output_type": "display_data",
          "data": {
            "image/png": "[encoded data removed]",
            "text/plain": [
              "<Figure size 432x288 with 1 Axes>"
            ]
          },
          "metadata": {
            "needs_background": "light"
          }
        }
      ]
    },
    {
      "cell_type": "code",
      "source": [
        "model = MLSTM_FCN_2((X_train.shape[1], X_train.shape[2]), train_label.shape[1])\n",
        "model.load_weights(checkpoint_filepath)"
      ],
      "metadata": {
        "id": "w73onD9fKySn"
      },
      "execution_count": null,
      "outputs": []
    },
    {
      "cell_type": "code",
      "metadata": {
        "id": "Ab6K_-wl0dG3",
        "colab": {
          "base_uri": "https://localhost:8080/"
        },
        "outputId": "5f9e411e-0df8-44ff-cc0f-145c340d0083"
      },
      "source": [
        "get_test_performance(model, X_test, test_label)"
      ],
      "execution_count": null,
      "outputs": [
        {
          "output_type": "stream",
          "name": "stdout",
          "text": [
            "45/45 [==============================] - 1s 16ms/step - loss: 0.0977 - accuracy: 0.9752 - auc: 0.9986 - recall: 0.9730\n",
            "Test loss:0.09768487513065338\n",
            "Test accuracy:0.9751597046852112\n",
            "Test Recall: 0.9730305075645447\n",
            "Test AUC: 0.998576819896698\n"
          ]
        }
      ]
    }
  ]
}