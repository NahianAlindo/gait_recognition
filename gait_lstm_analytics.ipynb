{
  "nbformat": 4,
  "nbformat_minor": 0,
  "metadata": {
    "colab": {
      "name": "gait_lstm_analytics.ipynb",
      "provenance": [],
      "collapsed_sections": []
    },
    "kernelspec": {
      "name": "python3",
      "display_name": "Python 3"
    },
    "language_info": {
      "name": "python"
    },
    "accelerator": "GPU"
  },
  "cells": [
    {
      "cell_type": "code",
      "metadata": {
        "colab": {
          "base_uri": "https://localhost:8080/"
        },
        "id": "l4xwQjn812Pf",
        "outputId": "bf279fd4-dfe7-44aa-fba9-f89900bcabb3"
      },
      "source": [
        "!nvidia-smi"
      ],
      "execution_count": 1,
      "outputs": [
        {
          "output_type": "stream",
          "text": [
            "Fri Jul 30 16:50:32 2021       \n",
            "+-----------------------------------------------------------------------------+\n",
            "| NVIDIA-SMI 470.42.01    Driver Version: 460.32.03    CUDA Version: 11.2     |\n",
            "|-------------------------------+----------------------+----------------------+\n",
            "| GPU  Name        Persistence-M| Bus-Id        Disp.A | Volatile Uncorr. ECC |\n",
            "| Fan  Temp  Perf  Pwr:Usage/Cap|         Memory-Usage | GPU-Util  Compute M. |\n",
            "|                               |                      |               MIG M. |\n",
            "|===============================+======================+======================|\n",
            "|   0  Tesla P4            Off  | 00000000:00:04.0 Off |                    0 |\n",
            "| N/A   54C    P8     8W /  75W |      0MiB /  7611MiB |      0%      Default |\n",
            "|                               |                      |                  N/A |\n",
            "+-------------------------------+----------------------+----------------------+\n",
            "                                                                               \n",
            "+-----------------------------------------------------------------------------+\n",
            "| Processes:                                                                  |\n",
            "|  GPU   GI   CI        PID   Type   Process name                  GPU Memory |\n",
            "|        ID   ID                                                   Usage      |\n",
            "|=============================================================================|\n",
            "|  No running processes found                                                 |\n",
            "+-----------------------------------------------------------------------------+\n"
          ],
          "name": "stdout"
        }
      ]
    },
    {
      "cell_type": "code",
      "metadata": {
        "id": "iz5rSWsIUj5P"
      },
      "source": [
        "# Import Keras\n",
        "from keras.preprocessing import sequence\n",
        "import tensorflow as tf\n",
        "from keras.models import Sequential\n",
        "from keras.layers import Dense\n",
        "from keras.layers import LSTM\n",
        "\n",
        "from keras.optimizers import Adam\n",
        "from keras.models import load_model\n",
        "from keras.callbacks import ModelCheckpoint, EarlyStopping\n",
        "\n",
        "import os\n",
        "import numpy as np\n",
        "%matplotlib inline\n",
        "import matplotlib.pyplot as plt"
      ],
      "execution_count": 7,
      "outputs": []
    },
    {
      "cell_type": "code",
      "metadata": {
        "id": "17a0aknTUZAd"
      },
      "source": [
        "def load_X(path):\n",
        "    X_signals = []\n",
        "    files = os.listdir(path)\n",
        "    files.sort(key=str.lower)\n",
        "    #['train_acc_x.txt', 'train_acc_y.txt', 'train_acc_z.txt', 'train_gyr_x.txt', 'train_gyr_y.txt', 'train_gyr_z.txt']\n",
        "    for my_file in files:\n",
        "        fileName = os.path.join(path,my_file)\n",
        "        file = open(fileName, 'r')\n",
        "        X_signals.append(\n",
        "            [np.array(cell, dtype=np.float32) for cell in [\n",
        "                row.strip().split(' ') for row in file\n",
        "            ]]\n",
        "        )\n",
        "        file.close()\n",
        "        #X_signals = 6*totalStepNum*128\n",
        "    X_signals = np.transpose(np.array(X_signals), (1, 0, 2))#(totalStepNum*6*128)\n",
        "    return X_signals.reshape(-1,6,128,1)#(totalStepNum*6*128*1)\n",
        "\n",
        "def load_y(y_path):\n",
        "    file = open(y_path, 'r')\n",
        "    # Read dataset from disk, dealing with text file's syntax\n",
        "    y_ = np.array(\n",
        "        [elem for elem in [\n",
        "            row.replace('  ', ' ').strip().split(' ') for row in file\n",
        "        ]],\n",
        "        dtype=np.int32\n",
        "    )\n",
        "    file.close()\n",
        "    # Substract 1 to each output class for friendly 0-based indexing\n",
        "    y_ = y_ - 1\n",
        "    #one_hot\n",
        "    y_ = y_.reshape(len(y_))\n",
        "    n_values = int(np.max(y_)) + 1\n",
        "    return np.eye(n_values)[np.array(y_, dtype=np.int32)]  # Returns FLOATS\n",
        "\n",
        "\n",
        "def weight_variable(shape):\n",
        "    initial = tf.random.truncated_normal(shape, std_dev=0.1)\n",
        "    return tf.Variable(initial)\n",
        "\n",
        "def bias_variable(shape):\n",
        "    initial = tf.constant(0.1, shape=shape)\n",
        "    return tf.Variable(initial)\n",
        "\n",
        "\n",
        "X_train = load_X('/content/drive/Shareddrives/MMH/TIFS20/Dataset #1/train/Inertial Signals')\n",
        "X_test = load_X('/content/drive/Shareddrives/MMH/TIFS20/Dataset #1/test/Inertial Signals')\n",
        "train_label = load_y('/content/drive/Shareddrives/MMH/TIFS20/Dataset #1/train/y_train.txt')\n",
        "test_label = load_y('/content/drive/Shareddrives/MMH/TIFS20/Dataset #1/test/y_test.txt')\n",
        "X_train = np.reshape(X_train, (X_train.shape[0], X_train.shape[1], X_train.shape[2]))\n",
        "X_test = np.reshape(X_test, (X_test.shape[0], X_test.shape[1], X_test.shape[2]))\n",
        "\n",
        "batch_size = 512\n",
        "num_classes = 118"
      ],
      "execution_count": 3,
      "outputs": []
    },
    {
      "cell_type": "code",
      "metadata": {
        "colab": {
          "base_uri": "https://localhost:8080/"
        },
        "id": "yMc0vuzJhr7-",
        "outputId": "613de286-ab1b-4507-d01a-a694bdf43941"
      },
      "source": [
        "X_train.shape, train_label.shape, X_test.shape, test_label.shape"
      ],
      "execution_count": 4,
      "outputs": [
        {
          "output_type": "execute_result",
          "data": {
            "text/plain": [
              "((33104, 6, 128), (33104, 118), (3740, 6, 128), (3740, 118))"
            ]
          },
          "metadata": {
            "tags": []
          },
          "execution_count": 4
        }
      ]
    },
    {
      "cell_type": "markdown",
      "metadata": {
        "id": "Db0xPZYQUTED"
      },
      "source": [
        "# LSTM:\n",
        "Reference: https://www.analyticsvidhya.com/blog/2019/01/introduction-time-series-classification/"
      ]
    },
    {
      "cell_type": "code",
      "metadata": {
        "colab": {
          "base_uri": "https://localhost:8080/"
        },
        "id": "FWIlS7kkV1Va",
        "outputId": "563b3e1d-f2fe-49bb-d2e9-ec976d170651"
      },
      "source": [
        "model = Sequential()\n",
        "model.add(LSTM(128, input_shape=(X_train.shape[1], X_train.shape[2])))\n",
        "model.add(Dense(118, activation='softmax'))\n",
        "model.summary()"
      ],
      "execution_count": 5,
      "outputs": [
        {
          "output_type": "stream",
          "text": [
            "Model: \"sequential\"\n",
            "_________________________________________________________________\n",
            "Layer (type)                 Output Shape              Param #   \n",
            "=================================================================\n",
            "lstm (LSTM)                  (None, 128)               131584    \n",
            "_________________________________________________________________\n",
            "dense (Dense)                (None, 118)               15222     \n",
            "=================================================================\n",
            "Total params: 146,806\n",
            "Trainable params: 146,806\n",
            "Non-trainable params: 0\n",
            "_________________________________________________________________\n"
          ],
          "name": "stdout"
        }
      ]
    },
    {
      "cell_type": "code",
      "metadata": {
        "id": "ao63fL60dCpN",
        "colab": {
          "base_uri": "https://localhost:8080/"
        },
        "outputId": "8ddca478-66a9-48f6-d74b-e802040ed914"
      },
      "source": [
        "adam = Adam(learning_rate=0.001)\n",
        "chk = ModelCheckpoint('best_model.pkl', monitor='val_accuracy', save_best_only=True, mode='max', verbose=1)\n",
        "model.compile(loss='categorical_crossentropy', optimizer=adam, metrics=['accuracy'])\n",
        "model.fit(X_train, train_label, validation_split = 0.1, epochs=200, callbacks=[chk, EarlyStopping(monitor='val_loss', patience=30)])"
      ],
      "execution_count": 8,
      "outputs": [
        {
          "output_type": "stream",
          "text": [
            "Epoch 1/200\n",
            "932/932 [==============================] - 23s 6ms/step - loss: 2.3427 - accuracy: 0.5412 - val_loss: 0.5800 - val_accuracy: 0.8644\n",
            "\n",
            "Epoch 00001: val_accuracy improved from -inf to 0.86439, saving model to best_model.pkl\n"
          ],
          "name": "stdout"
        },
        {
          "output_type": "stream",
          "text": [
            "WARNING:absl:Found untraced functions such as lstm_cell_layer_call_fn, lstm_cell_layer_call_and_return_conditional_losses, lstm_cell_layer_call_fn, lstm_cell_layer_call_and_return_conditional_losses, lstm_cell_layer_call_and_return_conditional_losses while saving (showing 5 of 5). These functions will not be directly callable after loading.\n"
          ],
          "name": "stderr"
        },
        {
          "output_type": "stream",
          "text": [
            "INFO:tensorflow:Assets written to: best_model.pkl/assets\n"
          ],
          "name": "stdout"
        },
        {
          "output_type": "stream",
          "text": [
            "INFO:tensorflow:Assets written to: best_model.pkl/assets\n"
          ],
          "name": "stderr"
        },
        {
          "output_type": "stream",
          "text": [
            "Epoch 2/200\n",
            "932/932 [==============================] - 5s 5ms/step - loss: 0.4358 - accuracy: 0.9062 - val_loss: 0.4289 - val_accuracy: 0.8943\n",
            "\n",
            "Epoch 00002: val_accuracy improved from 0.86439 to 0.89429, saving model to best_model.pkl\n"
          ],
          "name": "stdout"
        },
        {
          "output_type": "stream",
          "text": [
            "WARNING:absl:Found untraced functions such as lstm_cell_layer_call_fn, lstm_cell_layer_call_and_return_conditional_losses, lstm_cell_layer_call_fn, lstm_cell_layer_call_and_return_conditional_losses, lstm_cell_layer_call_and_return_conditional_losses while saving (showing 5 of 5). These functions will not be directly callable after loading.\n"
          ],
          "name": "stderr"
        },
        {
          "output_type": "stream",
          "text": [
            "INFO:tensorflow:Assets written to: best_model.pkl/assets\n"
          ],
          "name": "stdout"
        },
        {
          "output_type": "stream",
          "text": [
            "INFO:tensorflow:Assets written to: best_model.pkl/assets\n"
          ],
          "name": "stderr"
        },
        {
          "output_type": "stream",
          "text": [
            "Epoch 3/200\n",
            "932/932 [==============================] - 4s 5ms/step - loss: 0.2777 - accuracy: 0.9397 - val_loss: 0.3971 - val_accuracy: 0.8973\n",
            "\n",
            "Epoch 00003: val_accuracy improved from 0.89429 to 0.89731, saving model to best_model.pkl\n"
          ],
          "name": "stdout"
        },
        {
          "output_type": "stream",
          "text": [
            "WARNING:absl:Found untraced functions such as lstm_cell_layer_call_fn, lstm_cell_layer_call_and_return_conditional_losses, lstm_cell_layer_call_fn, lstm_cell_layer_call_and_return_conditional_losses, lstm_cell_layer_call_and_return_conditional_losses while saving (showing 5 of 5). These functions will not be directly callable after loading.\n"
          ],
          "name": "stderr"
        },
        {
          "output_type": "stream",
          "text": [
            "INFO:tensorflow:Assets written to: best_model.pkl/assets\n"
          ],
          "name": "stdout"
        },
        {
          "output_type": "stream",
          "text": [
            "INFO:tensorflow:Assets written to: best_model.pkl/assets\n"
          ],
          "name": "stderr"
        },
        {
          "output_type": "stream",
          "text": [
            "Epoch 4/200\n",
            "932/932 [==============================] - 4s 5ms/step - loss: 0.1886 - accuracy: 0.9582 - val_loss: 0.3563 - val_accuracy: 0.9130\n",
            "\n",
            "Epoch 00004: val_accuracy improved from 0.89731 to 0.91302, saving model to best_model.pkl\n"
          ],
          "name": "stdout"
        },
        {
          "output_type": "stream",
          "text": [
            "WARNING:absl:Found untraced functions such as lstm_cell_layer_call_fn, lstm_cell_layer_call_and_return_conditional_losses, lstm_cell_layer_call_fn, lstm_cell_layer_call_and_return_conditional_losses, lstm_cell_layer_call_and_return_conditional_losses while saving (showing 5 of 5). These functions will not be directly callable after loading.\n"
          ],
          "name": "stderr"
        },
        {
          "output_type": "stream",
          "text": [
            "INFO:tensorflow:Assets written to: best_model.pkl/assets\n"
          ],
          "name": "stdout"
        },
        {
          "output_type": "stream",
          "text": [
            "INFO:tensorflow:Assets written to: best_model.pkl/assets\n"
          ],
          "name": "stderr"
        },
        {
          "output_type": "stream",
          "text": [
            "Epoch 5/200\n",
            "932/932 [==============================] - 4s 5ms/step - loss: 0.1360 - accuracy: 0.9703 - val_loss: 0.3601 - val_accuracy: 0.9067\n",
            "\n",
            "Epoch 00005: val_accuracy did not improve from 0.91302\n",
            "Epoch 6/200\n",
            "932/932 [==============================] - 5s 5ms/step - loss: 0.1029 - accuracy: 0.9777 - val_loss: 0.3572 - val_accuracy: 0.9091\n",
            "\n",
            "Epoch 00006: val_accuracy did not improve from 0.91302\n",
            "Epoch 7/200\n",
            "932/932 [==============================] - 5s 5ms/step - loss: 0.0889 - accuracy: 0.9803 - val_loss: 0.3529 - val_accuracy: 0.9127\n",
            "\n",
            "Epoch 00007: val_accuracy did not improve from 0.91302\n",
            "Epoch 8/200\n",
            "932/932 [==============================] - 4s 5ms/step - loss: 0.0726 - accuracy: 0.9835 - val_loss: 0.3526 - val_accuracy: 0.9097\n",
            "\n",
            "Epoch 00008: val_accuracy did not improve from 0.91302\n",
            "Epoch 9/200\n",
            "932/932 [==============================] - 5s 5ms/step - loss: 0.0581 - accuracy: 0.9862 - val_loss: 0.3544 - val_accuracy: 0.9130\n",
            "\n",
            "Epoch 00009: val_accuracy did not improve from 0.91302\n",
            "Epoch 10/200\n",
            "932/932 [==============================] - 4s 4ms/step - loss: 0.0513 - accuracy: 0.9883 - val_loss: 0.3460 - val_accuracy: 0.9172\n",
            "\n",
            "Epoch 00010: val_accuracy improved from 0.91302 to 0.91725, saving model to best_model.pkl\n"
          ],
          "name": "stdout"
        },
        {
          "output_type": "stream",
          "text": [
            "WARNING:absl:Found untraced functions such as lstm_cell_layer_call_fn, lstm_cell_layer_call_and_return_conditional_losses, lstm_cell_layer_call_fn, lstm_cell_layer_call_and_return_conditional_losses, lstm_cell_layer_call_and_return_conditional_losses while saving (showing 5 of 5). These functions will not be directly callable after loading.\n"
          ],
          "name": "stderr"
        },
        {
          "output_type": "stream",
          "text": [
            "INFO:tensorflow:Assets written to: best_model.pkl/assets\n"
          ],
          "name": "stdout"
        },
        {
          "output_type": "stream",
          "text": [
            "INFO:tensorflow:Assets written to: best_model.pkl/assets\n"
          ],
          "name": "stderr"
        },
        {
          "output_type": "stream",
          "text": [
            "Epoch 11/200\n",
            "932/932 [==============================] - 4s 4ms/step - loss: 0.0458 - accuracy: 0.9897 - val_loss: 0.3755 - val_accuracy: 0.9079\n",
            "\n",
            "Epoch 00011: val_accuracy did not improve from 0.91725\n",
            "Epoch 12/200\n",
            "932/932 [==============================] - 4s 4ms/step - loss: 0.0455 - accuracy: 0.9897 - val_loss: 0.3640 - val_accuracy: 0.9139\n",
            "\n",
            "Epoch 00012: val_accuracy did not improve from 0.91725\n",
            "Epoch 13/200\n",
            "932/932 [==============================] - 4s 4ms/step - loss: 0.0282 - accuracy: 0.9944 - val_loss: 0.3804 - val_accuracy: 0.9112\n",
            "\n",
            "Epoch 00013: val_accuracy did not improve from 0.91725\n",
            "Epoch 14/200\n",
            "932/932 [==============================] - 4s 5ms/step - loss: 0.0333 - accuracy: 0.9922 - val_loss: 0.3843 - val_accuracy: 0.9082\n",
            "\n",
            "Epoch 00014: val_accuracy did not improve from 0.91725\n",
            "Epoch 15/200\n",
            "932/932 [==============================] - 5s 5ms/step - loss: 0.0352 - accuracy: 0.9925 - val_loss: 0.3716 - val_accuracy: 0.9157\n",
            "\n",
            "Epoch 00015: val_accuracy did not improve from 0.91725\n",
            "Epoch 16/200\n",
            "932/932 [==============================] - 4s 5ms/step - loss: 0.0276 - accuracy: 0.9938 - val_loss: 0.3822 - val_accuracy: 0.9115\n",
            "\n",
            "Epoch 00016: val_accuracy did not improve from 0.91725\n",
            "Epoch 17/200\n",
            "932/932 [==============================] - 4s 4ms/step - loss: 0.0339 - accuracy: 0.9916 - val_loss: 0.4014 - val_accuracy: 0.9127\n",
            "\n",
            "Epoch 00017: val_accuracy did not improve from 0.91725\n",
            "Epoch 18/200\n",
            "932/932 [==============================] - 4s 5ms/step - loss: 0.0291 - accuracy: 0.9926 - val_loss: 0.4118 - val_accuracy: 0.9106\n",
            "\n",
            "Epoch 00018: val_accuracy did not improve from 0.91725\n",
            "Epoch 19/200\n",
            "932/932 [==============================] - 4s 5ms/step - loss: 0.0251 - accuracy: 0.9945 - val_loss: 0.4107 - val_accuracy: 0.9130\n",
            "\n",
            "Epoch 00019: val_accuracy did not improve from 0.91725\n",
            "Epoch 20/200\n",
            "932/932 [==============================] - 4s 4ms/step - loss: 0.0231 - accuracy: 0.9945 - val_loss: 0.4408 - val_accuracy: 0.9055\n",
            "\n",
            "Epoch 00020: val_accuracy did not improve from 0.91725\n",
            "Epoch 21/200\n",
            "932/932 [==============================] - 4s 4ms/step - loss: 0.0235 - accuracy: 0.9942 - val_loss: 0.3809 - val_accuracy: 0.9154\n",
            "\n",
            "Epoch 00021: val_accuracy did not improve from 0.91725\n",
            "Epoch 22/200\n",
            "932/932 [==============================] - 4s 4ms/step - loss: 0.0125 - accuracy: 0.9973 - val_loss: 0.3975 - val_accuracy: 0.9124\n",
            "\n",
            "Epoch 00022: val_accuracy did not improve from 0.91725\n",
            "Epoch 23/200\n",
            "932/932 [==============================] - 4s 5ms/step - loss: 0.0274 - accuracy: 0.9928 - val_loss: 0.4075 - val_accuracy: 0.9200\n",
            "\n",
            "Epoch 00023: val_accuracy improved from 0.91725 to 0.91996, saving model to best_model.pkl\n"
          ],
          "name": "stdout"
        },
        {
          "output_type": "stream",
          "text": [
            "WARNING:absl:Found untraced functions such as lstm_cell_layer_call_fn, lstm_cell_layer_call_and_return_conditional_losses, lstm_cell_layer_call_fn, lstm_cell_layer_call_and_return_conditional_losses, lstm_cell_layer_call_and_return_conditional_losses while saving (showing 5 of 5). These functions will not be directly callable after loading.\n"
          ],
          "name": "stderr"
        },
        {
          "output_type": "stream",
          "text": [
            "INFO:tensorflow:Assets written to: best_model.pkl/assets\n"
          ],
          "name": "stdout"
        },
        {
          "output_type": "stream",
          "text": [
            "INFO:tensorflow:Assets written to: best_model.pkl/assets\n"
          ],
          "name": "stderr"
        },
        {
          "output_type": "stream",
          "text": [
            "Epoch 24/200\n",
            "932/932 [==============================] - 4s 4ms/step - loss: 0.0262 - accuracy: 0.9926 - val_loss: 0.4039 - val_accuracy: 0.9175\n",
            "\n",
            "Epoch 00024: val_accuracy did not improve from 0.91996\n",
            "Epoch 25/200\n",
            "932/932 [==============================] - 4s 4ms/step - loss: 0.0145 - accuracy: 0.9969 - val_loss: 0.4175 - val_accuracy: 0.9151\n",
            "\n",
            "Epoch 00025: val_accuracy did not improve from 0.91996\n",
            "Epoch 26/200\n",
            "932/932 [==============================] - 4s 4ms/step - loss: 0.0165 - accuracy: 0.9957 - val_loss: 0.4224 - val_accuracy: 0.9166\n",
            "\n",
            "Epoch 00026: val_accuracy did not improve from 0.91996\n",
            "Epoch 27/200\n",
            "932/932 [==============================] - 4s 5ms/step - loss: 0.0188 - accuracy: 0.9951 - val_loss: 0.4378 - val_accuracy: 0.9133\n",
            "\n",
            "Epoch 00027: val_accuracy did not improve from 0.91996\n",
            "Epoch 28/200\n",
            "932/932 [==============================] - 4s 4ms/step - loss: 0.0167 - accuracy: 0.9960 - val_loss: 0.4217 - val_accuracy: 0.9118\n",
            "\n",
            "Epoch 00028: val_accuracy did not improve from 0.91996\n",
            "Epoch 29/200\n",
            "932/932 [==============================] - 4s 5ms/step - loss: 0.0181 - accuracy: 0.9951 - val_loss: 0.4041 - val_accuracy: 0.9200\n",
            "\n",
            "Epoch 00029: val_accuracy did not improve from 0.91996\n",
            "Epoch 30/200\n",
            "932/932 [==============================] - 4s 5ms/step - loss: 0.0165 - accuracy: 0.9959 - val_loss: 0.4373 - val_accuracy: 0.9103\n",
            "\n",
            "Epoch 00030: val_accuracy did not improve from 0.91996\n",
            "Epoch 31/200\n",
            "932/932 [==============================] - 4s 5ms/step - loss: 0.0143 - accuracy: 0.9968 - val_loss: 0.4089 - val_accuracy: 0.9197\n",
            "\n",
            "Epoch 00031: val_accuracy did not improve from 0.91996\n",
            "Epoch 32/200\n",
            "932/932 [==============================] - 4s 5ms/step - loss: 0.0133 - accuracy: 0.9970 - val_loss: 0.4266 - val_accuracy: 0.9112\n",
            "\n",
            "Epoch 00032: val_accuracy did not improve from 0.91996\n",
            "Epoch 33/200\n",
            "932/932 [==============================] - 5s 5ms/step - loss: 0.0211 - accuracy: 0.9943 - val_loss: 0.4168 - val_accuracy: 0.9206\n",
            "\n",
            "Epoch 00033: val_accuracy improved from 0.91996 to 0.92057, saving model to best_model.pkl\n"
          ],
          "name": "stdout"
        },
        {
          "output_type": "stream",
          "text": [
            "WARNING:absl:Found untraced functions such as lstm_cell_layer_call_fn, lstm_cell_layer_call_and_return_conditional_losses, lstm_cell_layer_call_fn, lstm_cell_layer_call_and_return_conditional_losses, lstm_cell_layer_call_and_return_conditional_losses while saving (showing 5 of 5). These functions will not be directly callable after loading.\n"
          ],
          "name": "stderr"
        },
        {
          "output_type": "stream",
          "text": [
            "INFO:tensorflow:Assets written to: best_model.pkl/assets\n"
          ],
          "name": "stdout"
        },
        {
          "output_type": "stream",
          "text": [
            "INFO:tensorflow:Assets written to: best_model.pkl/assets\n"
          ],
          "name": "stderr"
        },
        {
          "output_type": "stream",
          "text": [
            "Epoch 34/200\n",
            "932/932 [==============================] - 4s 5ms/step - loss: 0.0107 - accuracy: 0.9975 - val_loss: 0.4172 - val_accuracy: 0.9200\n",
            "\n",
            "Epoch 00034: val_accuracy did not improve from 0.92057\n",
            "Epoch 35/200\n",
            "932/932 [==============================] - 4s 4ms/step - loss: 0.0120 - accuracy: 0.9975 - val_loss: 0.4230 - val_accuracy: 0.9160\n",
            "\n",
            "Epoch 00035: val_accuracy did not improve from 0.92057\n",
            "Epoch 36/200\n",
            "932/932 [==============================] - 4s 4ms/step - loss: 0.0126 - accuracy: 0.9963 - val_loss: 0.4366 - val_accuracy: 0.9154\n",
            "\n",
            "Epoch 00036: val_accuracy did not improve from 0.92057\n",
            "Epoch 37/200\n",
            "932/932 [==============================] - 4s 4ms/step - loss: 0.0103 - accuracy: 0.9979 - val_loss: 0.4583 - val_accuracy: 0.9130\n",
            "\n",
            "Epoch 00037: val_accuracy did not improve from 0.92057\n",
            "Epoch 38/200\n",
            "932/932 [==============================] - 4s 4ms/step - loss: 0.0096 - accuracy: 0.9978 - val_loss: 0.4537 - val_accuracy: 0.9142\n",
            "\n",
            "Epoch 00038: val_accuracy did not improve from 0.92057\n",
            "Epoch 39/200\n",
            "932/932 [==============================] - 4s 4ms/step - loss: 0.0145 - accuracy: 0.9956 - val_loss: 0.4472 - val_accuracy: 0.9169\n",
            "\n",
            "Epoch 00039: val_accuracy did not improve from 0.92057\n",
            "Epoch 40/200\n",
            "932/932 [==============================] - 4s 5ms/step - loss: 0.0155 - accuracy: 0.9957 - val_loss: 0.4298 - val_accuracy: 0.9221\n",
            "\n",
            "Epoch 00040: val_accuracy improved from 0.92057 to 0.92208, saving model to best_model.pkl\n"
          ],
          "name": "stdout"
        },
        {
          "output_type": "stream",
          "text": [
            "WARNING:absl:Found untraced functions such as lstm_cell_layer_call_fn, lstm_cell_layer_call_and_return_conditional_losses, lstm_cell_layer_call_fn, lstm_cell_layer_call_and_return_conditional_losses, lstm_cell_layer_call_and_return_conditional_losses while saving (showing 5 of 5). These functions will not be directly callable after loading.\n"
          ],
          "name": "stderr"
        },
        {
          "output_type": "stream",
          "text": [
            "INFO:tensorflow:Assets written to: best_model.pkl/assets\n"
          ],
          "name": "stdout"
        },
        {
          "output_type": "stream",
          "text": [
            "INFO:tensorflow:Assets written to: best_model.pkl/assets\n"
          ],
          "name": "stderr"
        },
        {
          "output_type": "execute_result",
          "data": {
            "text/plain": [
              "<keras.callbacks.History at 0x7f7c7e0e2490>"
            ]
          },
          "metadata": {
            "tags": []
          },
          "execution_count": 8
        }
      ]
    },
    {
      "cell_type": "code",
      "metadata": {
        "id": "WC7IvFedXvUa"
      },
      "source": [
        ""
      ],
      "execution_count": null,
      "outputs": []
    }
  ]
}