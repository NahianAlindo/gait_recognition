{
  "nbformat": 4,
  "nbformat_minor": 0,
  "metadata": {
    "colab": {
      "name": "gait_lstm_kaggle.ipynb",
      "provenance": []
    },
    "kernelspec": {
      "name": "python3",
      "display_name": "Python 3"
    },
    "language_info": {
      "name": "python"
    },
    "accelerator": "GPU"
  },
  "cells": [
    {
      "cell_type": "code",
      "metadata": {
        "colab": {
          "base_uri": "https://localhost:8080/"
        },
        "id": "l4xwQjn812Pf",
        "outputId": "464700dc-959a-4053-f4bf-74ef2eb88096"
      },
      "source": [
        "!nvidia-smi"
      ],
      "execution_count": 11,
      "outputs": [
        {
          "output_type": "stream",
          "text": [
            "Fri Jul 30 14:30:53 2021       \n",
            "+-----------------------------------------------------------------------------+\n",
            "| NVIDIA-SMI 470.42.01    Driver Version: 460.32.03    CUDA Version: 11.2     |\n",
            "|-------------------------------+----------------------+----------------------+\n",
            "| GPU  Name        Persistence-M| Bus-Id        Disp.A | Volatile Uncorr. ECC |\n",
            "| Fan  Temp  Perf  Pwr:Usage/Cap|         Memory-Usage | GPU-Util  Compute M. |\n",
            "|                               |                      |               MIG M. |\n",
            "|===============================+======================+======================|\n",
            "|   0  Tesla K80           Off  | 00000000:00:04.0 Off |                    0 |\n",
            "| N/A   73C    P0    72W / 149W |   8365MiB / 11441MiB |      0%      Default |\n",
            "|                               |                      |                  N/A |\n",
            "+-------------------------------+----------------------+----------------------+\n",
            "                                                                               \n",
            "+-----------------------------------------------------------------------------+\n",
            "| Processes:                                                                  |\n",
            "|  GPU   GI   CI        PID   Type   Process name                  GPU Memory |\n",
            "|        ID   ID                                                   Usage      |\n",
            "|=============================================================================|\n",
            "|  No running processes found                                                 |\n",
            "+-----------------------------------------------------------------------------+\n"
          ],
          "name": "stdout"
        }
      ]
    },
    {
      "cell_type": "code",
      "metadata": {
        "id": "iz5rSWsIUj5P"
      },
      "source": [
        "# Import Keras\n",
        "import tensorflow as tf\n",
        "from tensorflow.keras.models import Sequential\n",
        "from tensorflow.keras.layers import Dense, LSTM, BatchNormalization\n",
        "from tensorflow.keras.optimizers import Adam\n",
        "from tensorflow.keras.callbacks import ReduceLROnPlateau, EarlyStopping\n",
        "from tensorflow.keras.regularizers import l2\n",
        "from time import time\n",
        "\n",
        "import os\n",
        "import numpy as np\n",
        "import matplotlib.pyplot as plt"
      ],
      "execution_count": 12,
      "outputs": []
    },
    {
      "cell_type": "code",
      "metadata": {
        "id": "17a0aknTUZAd"
      },
      "source": [
        "def load_X(path):\n",
        "    X_signals = []\n",
        "    files = os.listdir(path)\n",
        "    files.sort(key=str.lower)\n",
        "    #['train_acc_x.txt', 'train_acc_y.txt', 'train_acc_z.txt', 'train_gyr_x.txt', 'train_gyr_y.txt', 'train_gyr_z.txt']\n",
        "    for my_file in files:\n",
        "        fileName = os.path.join(path,my_file)\n",
        "        file = open(fileName, 'r')\n",
        "        X_signals.append(\n",
        "            [np.array(cell, dtype=np.float32) for cell in [\n",
        "                row.strip().split(' ') for row in file\n",
        "            ]]\n",
        "        )\n",
        "        file.close()\n",
        "        #X_signals = 6*totalStepNum*128\n",
        "    X_signals = np.transpose(np.array(X_signals), (1, 0, 2))#(totalStepNum*6*128)\n",
        "    return X_signals.reshape(-1,6,128,1)#(totalStepNum*6*128*1)\n",
        "\n",
        "def load_y(y_path):\n",
        "    file = open(y_path, 'r')\n",
        "    # Read dataset from disk, dealing with text file's syntax\n",
        "    y_ = np.array(\n",
        "        [elem for elem in [\n",
        "            row.replace('  ', ' ').strip().split(' ') for row in file\n",
        "        ]],\n",
        "        dtype=np.int32\n",
        "    )\n",
        "    file.close()\n",
        "    # Substract 1 to each output class for friendly 0-based indexing\n",
        "    y_ = y_ - 1\n",
        "    #one_hot\n",
        "    y_ = y_.reshape(len(y_))\n",
        "    n_values = int(np.max(y_)) + 1\n",
        "    return np.eye(n_values)[np.array(y_, dtype=np.int32)]  # Returns FLOATS\n",
        "\n",
        "\n",
        "def weight_variable(shape):\n",
        "    initial = tf.random.truncated_normal(shape, std_dev=0.1)\n",
        "    return tf.Variable(initial)\n",
        "\n",
        "def bias_variable(shape):\n",
        "    initial = tf.constant(0.1, shape=shape)\n",
        "    return tf.Variable(initial)\n",
        "\n",
        "\n",
        "X_train = load_X('/content/drive/Shareddrives/MMH/TIFS20/Dataset #1/train/Inertial Signals')\n",
        "X_test = load_X('/content/drive/Shareddrives/MMH/TIFS20/Dataset #1/test/Inertial Signals')\n",
        "train_label = load_y('/content/drive/Shareddrives/MMH/TIFS20/Dataset #1/train/y_train.txt')\n",
        "test_label = load_y('/content/drive/Shareddrives/MMH/TIFS20/Dataset #1/test/y_test.txt')\n",
        "X_train = np.reshape(X_train, (X_train.shape[0], X_train.shape[1], X_train.shape[2]))\n",
        "X_test = np.reshape(X_test, (X_test.shape[0], X_test.shape[1], X_test.shape[2]))\n",
        "\n",
        "batch_size = 512\n",
        "num_classes = 118"
      ],
      "execution_count": 13,
      "outputs": []
    },
    {
      "cell_type": "code",
      "metadata": {
        "colab": {
          "base_uri": "https://localhost:8080/"
        },
        "id": "yMc0vuzJhr7-",
        "outputId": "e600ef87-e900-41fa-cb8d-299ca24643e3"
      },
      "source": [
        "X_train.shape, train_label.shape, X_test.shape, test_label.shape"
      ],
      "execution_count": 14,
      "outputs": [
        {
          "output_type": "execute_result",
          "data": {
            "text/plain": [
              "((33104, 6, 128), (33104, 118), (3740, 6, 128), (3740, 118))"
            ]
          },
          "metadata": {
            "tags": []
          },
          "execution_count": 14
        }
      ]
    },
    {
      "cell_type": "markdown",
      "metadata": {
        "id": "Db0xPZYQUTED"
      },
      "source": [
        "# LSTM:\n",
        "Reference: https://www.kaggle.com/szaitseff/classification-of-time-series-with-lstm-rnn"
      ]
    },
    {
      "cell_type": "code",
      "metadata": {
        "colab": {
          "base_uri": "https://localhost:8080/",
          "height": 1000
        },
        "id": "FWIlS7kkV1Va",
        "outputId": "3db3dd7e-5f87-43c0-96e8-6dd5f914edd8"
      },
      "source": [
        "T = 6\n",
        "# Let's make a list of CONSTANTS for modelling:\n",
        "LAYERS = [128, 128, 128, 118]                # number of units in hidden and output layers\n",
        "M_TRAIN = X_train.shape[0]           # number of training examples (2D)\n",
        "M_TEST = X_test.shape[0]             # number of test examples (2D),full=X_test.shape[0]\n",
        "N = X_train.shape[2]                 # number of features\n",
        "BATCH = M_TRAIN                          # batch size\n",
        "EPOCH = 50                           # number of epochs\n",
        "LR = 5e-2                            # learning rate of the gradient descent\n",
        "LAMBD = 3e-2                         # lambda in L2 regularizaion\n",
        "DP = 0.0                             # dropout rate\n",
        "RDP = 0.0                            # recurrent dropout rate\n",
        "print(f'layers={LAYERS}, train_examples={M_TRAIN}, test_examples={M_TEST}')\n",
        "print(f'batch = {BATCH}, timesteps = {T}, features = {N}, epochs = {EPOCH}')\n",
        "print(f'lr = {LR}, lambda = {LAMBD}, dropout = {DP}, recurr_dropout = {RDP}')\n",
        "\n",
        "# Build the Model\n",
        "model = Sequential()\n",
        "model.add(LSTM(input_shape=(T, N), units=LAYERS[0],\n",
        "               activation='relu', recurrent_activation='hard_sigmoid',\n",
        "               kernel_regularizer=l2(LAMBD), recurrent_regularizer=l2(LAMBD),\n",
        "               dropout=DP, recurrent_dropout=RDP,\n",
        "               return_sequences=True, return_state=False,\n",
        "               stateful=False, unroll=False\n",
        "              ))\n",
        "model.add(BatchNormalization())\n",
        "model.add(LSTM(units=LAYERS[1],\n",
        "               activation='relu', recurrent_activation='hard_sigmoid',\n",
        "               kernel_regularizer=l2(LAMBD), recurrent_regularizer=l2(LAMBD),\n",
        "               dropout=DP, recurrent_dropout=RDP,\n",
        "               return_sequences=True, return_state=False,\n",
        "               stateful=False, unroll=False\n",
        "              ))\n",
        "model.add(BatchNormalization())\n",
        "model.add(LSTM(units=LAYERS[2],\n",
        "               activation='relu', recurrent_activation='hard_sigmoid',\n",
        "               kernel_regularizer=l2(LAMBD), recurrent_regularizer=l2(LAMBD),\n",
        "               dropout=DP, recurrent_dropout=RDP,\n",
        "               return_sequences=False, return_state=False,\n",
        "               stateful=False, unroll=False\n",
        "              ))\n",
        "model.add(BatchNormalization())\n",
        "model.add(Dense(units=LAYERS[3], activation='softmax'))\n",
        "\n",
        "# Compile the model with Adam optimizer\n",
        "model.compile(loss='categorical_crossentropy',\n",
        "              metrics=['accuracy'],\n",
        "              optimizer=Adam(learning_rate=LR))\n",
        "print(model.summary())\n",
        "\n",
        "# Define a learning rate decay method:\n",
        "lr_decay = ReduceLROnPlateau(monitor='loss', \n",
        "                             patience=1, verbose=0, \n",
        "                             factor=0.5, min_lr=1e-8)\n",
        "# Define Early Stopping:\n",
        "early_stop = EarlyStopping(monitor='val_accuracy', min_delta=0, \n",
        "                           patience=30, verbose=1, mode='auto',\n",
        "                           baseline=0, restore_best_weights=True)\n",
        "# Train the model. \n",
        "# The dataset is small for NN - let's use test_data for validation\n",
        "start = time()\n",
        "History = model.fit(X_train, train_label,\n",
        "                    epochs=EPOCH,\n",
        "                    batch_size=BATCH,\n",
        "                    validation_split=0.0,\n",
        "                    validation_data=(X_test[:M_TEST], test_label[:M_TEST]),\n",
        "                    shuffle=True,verbose=0,\n",
        "                    callbacks=[lr_decay, early_stop])\n",
        "print('-'*65)\n",
        "print(f'Training was completed in {time() - start:.2f} secs')\n",
        "print('-'*65)\n",
        "# Evaluate the model:\n",
        "train_loss, train_acc = model.evaluate(X_train, train_label,\n",
        "                                       batch_size=M_TRAIN, verbose=0)\n",
        "test_loss, test_acc = model.evaluate(X_test[:M_TEST], test_label[:M_TEST],\n",
        "                                     batch_size=M_TEST, verbose=0)\n",
        "print('-'*65)\n",
        "print(f'train accuracy = {round(train_acc * 100, 4)}%')\n",
        "print(f'test accuracy = {round(test_acc * 100, 4)}%')\n",
        "print(f'test error = {round((1 - test_acc) * M_TEST)} out of {M_TEST} examples')\n",
        "\n",
        "# Plot the loss and accuracy curves over epochs:\n",
        "fig, axs = plt.subplots(nrows=1, ncols=2, figsize=(18,6))\n",
        "axs[0].plot(History.history['loss'], color='b', label='Training loss')\n",
        "axs[0].plot(History.history['val_loss'], color='r', label='Validation loss')\n",
        "axs[0].set_title(\"Loss curves\")\n",
        "axs[0].legend(loc='best', shadow=True)\n",
        "axs[1].plot(History.history['accuracy'], color='b', label='Training accuracy')\n",
        "axs[1].plot(History.history['val_accuracy'], color='r', label='Validation accuracy')\n",
        "axs[1].set_title(\"Accuracy curves\")\n",
        "axs[1].legend(loc='best', shadow=True)\n",
        "plt.show()"
      ],
      "execution_count": 15,
      "outputs": [
        {
          "output_type": "stream",
          "text": [
            "layers=[128, 128, 128, 118], train_examples=33104, test_examples=3740\n",
            "batch = 33104, timesteps = 6, features = 128, epochs = 50\n",
            "lr = 0.05, lambda = 0.03, dropout = 0.0, recurr_dropout = 0.0\n",
            "WARNING:tensorflow:Layer lstm_6 will not use cuDNN kernels since it doesn't meet the criteria. It will use a generic GPU kernel as fallback when running on GPU.\n",
            "WARNING:tensorflow:Layer lstm_7 will not use cuDNN kernels since it doesn't meet the criteria. It will use a generic GPU kernel as fallback when running on GPU.\n",
            "WARNING:tensorflow:Layer lstm_8 will not use cuDNN kernels since it doesn't meet the criteria. It will use a generic GPU kernel as fallback when running on GPU.\n",
            "Model: \"sequential_2\"\n",
            "_________________________________________________________________\n",
            "Layer (type)                 Output Shape              Param #   \n",
            "=================================================================\n",
            "lstm_6 (LSTM)                (None, 6, 128)            131584    \n",
            "_________________________________________________________________\n",
            "batch_normalization_6 (Batch (None, 6, 128)            512       \n",
            "_________________________________________________________________\n",
            "lstm_7 (LSTM)                (None, 6, 128)            131584    \n",
            "_________________________________________________________________\n",
            "batch_normalization_7 (Batch (None, 6, 128)            512       \n",
            "_________________________________________________________________\n",
            "lstm_8 (LSTM)                (None, 128)               131584    \n",
            "_________________________________________________________________\n",
            "batch_normalization_8 (Batch (None, 128)               512       \n",
            "_________________________________________________________________\n",
            "dense_2 (Dense)              (None, 118)               15222     \n",
            "=================================================================\n",
            "Total params: 411,510\n",
            "Trainable params: 410,742\n",
            "Non-trainable params: 768\n",
            "_________________________________________________________________\n",
            "None\n",
            "Restoring model weights from the end of the best epoch.\n",
            "Epoch 00034: early stopping\n",
            "-----------------------------------------------------------------\n",
            "Training was completed in 33.86 secs\n",
            "-----------------------------------------------------------------\n",
            "-----------------------------------------------------------------\n",
            "train accuracy = 1.6705%\n",
            "test accuracy = 1.6845%\n",
            "test error = 3677 out of 3740 examples\n"
          ],
          "name": "stdout"
        },
        {
          "output_type": "display_data",
          "data": {
            "image/png": "[encoded data removed]",
            "text/plain": [
              "<Figure size 1296x432 with 2 Axes>"
            ]
          },
          "metadata": {
            "tags": [],
            "needs_background": "light"
          }
        }
      ]
    },
    {
      "cell_type": "code",
      "metadata": {
        "id": "ao63fL60dCpN"
      },
      "source": [
        ""
      ],
      "execution_count": 15,
      "outputs": []
    }
  ]
}