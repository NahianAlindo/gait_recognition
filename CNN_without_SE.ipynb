{
  "cells": [
    {
      "cell_type": "markdown",
      "metadata": {
        "id": "view-in-github",
        "colab_type": "text"
      },
      "source": [
        "<a href=\"https://colab.research.google.com/github/NahianAlindo/gait_recognition/blob/main/CNN_without_SE.ipynb\" target=\"_parent\"><img src=\"https://colab.research.google.com/assets/colab-badge.svg\" alt=\"Open In Colab\"/></a>"
      ]
    },
    {
      "cell_type": "markdown",
      "metadata": {
        "id": "O9HBiYwFk1qn"
      },
      "source": [
        "# Mount Drive and Accelerator status"
      ]
    },
    {
      "cell_type": "code",
      "execution_count": 1,
      "metadata": {
        "colab": {
          "base_uri": "https://localhost:8080/"
        },
        "id": "y03j0BrGNURo",
        "outputId": "1ed64169-203f-48b2-9905-eb47caffe24d"
      },
      "outputs": [
        {
          "output_type": "stream",
          "name": "stdout",
          "text": [
            "Drive not mounted, so nothing to flush and unmount.\n"
          ]
        }
      ],
      "source": [
        "from google.colab import drive\n",
        "drive.flush_and_unmount()"
      ]
    },
    {
      "cell_type": "code",
      "execution_count": 2,
      "metadata": {
        "colab": {
          "base_uri": "https://localhost:8080/"
        },
        "id": "bn8udKehjhLj",
        "outputId": "20ce8b03-bc5c-45ec-f9d3-0b3931165528"
      },
      "outputs": [
        {
          "output_type": "stream",
          "name": "stdout",
          "text": [
            "Mounted at /content/drive\n"
          ]
        }
      ],
      "source": [
        "from google.colab import drive\n",
        "drive.mount('/content/drive')"
      ]
    },
    {
      "cell_type": "code",
      "execution_count": 3,
      "metadata": {
        "colab": {
          "base_uri": "https://localhost:8080/"
        },
        "id": "rcYmsM_ueY4f",
        "outputId": "c4d1602e-aac2-4d3b-8bdd-115086e952a4"
      },
      "outputs": [
        {
          "output_type": "stream",
          "name": "stdout",
          "text": [
            "Thu Feb 17 10:01:43 2022       \n",
            "+-----------------------------------------------------------------------------+\n",
            "| NVIDIA-SMI 460.32.03    Driver Version: 460.32.03    CUDA Version: 11.2     |\n",
            "|-------------------------------+----------------------+----------------------+\n",
            "| GPU  Name        Persistence-M| Bus-Id        Disp.A | Volatile Uncorr. ECC |\n",
            "| Fan  Temp  Perf  Pwr:Usage/Cap|         Memory-Usage | GPU-Util  Compute M. |\n",
            "|                               |                      |               MIG M. |\n",
            "|===============================+======================+======================|\n",
            "|   0  Tesla K80           Off  | 00000000:00:04.0 Off |                    0 |\n",
            "| N/A   71C    P8    30W / 149W |      3MiB / 11441MiB |      0%      Default |\n",
            "|                               |                      |                  N/A |\n",
            "+-------------------------------+----------------------+----------------------+\n",
            "                                                                               \n",
            "+-----------------------------------------------------------------------------+\n",
            "| Processes:                                                                  |\n",
            "|  GPU   GI   CI        PID   Type   Process name                  GPU Memory |\n",
            "|        ID   ID                                                   Usage      |\n",
            "|=============================================================================|\n",
            "|  No running processes found                                                 |\n",
            "+-----------------------------------------------------------------------------+\n",
            "============STORAGE============\n",
            "Filesystem      Size  Used Avail Use% Mounted on\n",
            "overlay          79G   43G   37G  54% /\n",
            "tmpfs            64M     0   64M   0% /dev\n",
            "shm             5.7G     0  5.7G   0% /dev/shm\n",
            "/dev/root       2.0G  1.2G  817M  59% /sbin/docker-init\n",
            "tmpfs           6.4G   36K  6.4G   1% /var/colab\n",
            "/dev/sda1        86G   47G   40G  55% /opt/bin/.nvidia\n",
            "tmpfs           6.4G     0  6.4G   0% /proc/acpi\n",
            "tmpfs           6.4G     0  6.4G   0% /proc/scsi\n",
            "tmpfs           6.4G     0  6.4G   0% /sys/firmware\n",
            "drive            79G   44G   35G  57% /content/drive\n"
          ]
        }
      ],
      "source": [
        "import torch\n",
        "import os\n",
        "try:\n",
        "    tpu = False     \n",
        "    assert torch.cuda.is_available()\n",
        "    gpu = True\n",
        "    ! nvidia-smi\n",
        "except:\n",
        "    try:\n",
        "        tpu = True\n",
        "        gpu = False\n",
        "        if 'COLAB_TPU_ADDR' not in os.environ:\n",
        "            print('ERROR: Not connected to a TPU runtime')\n",
        "        else:\n",
        "            tpu_address = 'grpc://' + os.environ['COLAB_TPU_ADDR']\n",
        "            print ('TPU address is', tpu_address)\n",
        "        import tensorflow as tf\n",
        "        resolver = tf.distribute.cluster_resolver.TPUClusterResolver(tpu=tpu_address)\n",
        "        tf.config.experimental_connect_to_cluster(resolver)\n",
        "        # This is the TPU initialization code that has to be at the beginning.\n",
        "        tf.tpu.experimental.initialize_tpu_system(resolver)\n",
        "        print(\"All devices: \", tf.config.list_logical_devices('TPU'))\n",
        "        strategy = tf.distribute.TPUStrategy(resolver)\n",
        "    except:\n",
        "        print('==========MEM=============')\n",
        "        ! cat /proc/meminfo\n",
        "        print(\"============CPU============\")\n",
        "        ! cat /proc/cpuinfo\n",
        "        from psutil import *\n",
        "        cpu_count()\n",
        "        cpu_stats()\n",
        "        \n",
        "print(\"============STORAGE============\")\n",
        "! df -h"
      ]
    },
    {
      "cell_type": "code",
      "source": [
        "from psutil import *\n",
        "virtual_memory()"
      ],
      "metadata": {
        "colab": {
          "base_uri": "https://localhost:8080/"
        },
        "id": "yXZuai_T-ybm",
        "outputId": "e2064bab-3b43-4f03-9d4f-caacdcca816d"
      },
      "execution_count": 4,
      "outputs": [
        {
          "output_type": "execute_result",
          "data": {
            "text/plain": [
              "svmem(total=13622190080, available=11850899456, percent=13.0, used=1553989632, free=7587672064, active=1902772224, inactive=3804254208, buffers=138235904, cached=4342292480, shared=1228800, slab=179834880)"
            ]
          },
          "metadata": {},
          "execution_count": 4
        }
      ]
    },
    {
      "cell_type": "code",
      "execution_count": 5,
      "metadata": {
        "colab": {
          "base_uri": "https://localhost:8080/"
        },
        "id": "rsN8_Rrlkyeo",
        "outputId": "0c734b79-0d77-4de9-9ed3-33f62590f686"
      },
      "outputs": [
        {
          "output_type": "stream",
          "name": "stdout",
          "text": [
            "Collecting keras_tuner\n",
            "  Downloading keras_tuner-1.1.0-py3-none-any.whl (98 kB)\n",
            "\u001b[?25l\r\u001b[K     |███▍                            | 10 kB 21.3 MB/s eta 0:00:01\r\u001b[K     |██████▊                         | 20 kB 7.9 MB/s eta 0:00:01\r\u001b[K     |██████████                      | 30 kB 6.7 MB/s eta 0:00:01\r\u001b[K     |█████████████▍                  | 40 kB 6.3 MB/s eta 0:00:01\r\u001b[K     |████████████████▊               | 51 kB 4.1 MB/s eta 0:00:01\r\u001b[K     |████████████████████            | 61 kB 4.9 MB/s eta 0:00:01\r\u001b[K     |███████████████████████▍        | 71 kB 5.3 MB/s eta 0:00:01\r\u001b[K     |██████████████████████████▊     | 81 kB 4.3 MB/s eta 0:00:01\r\u001b[K     |██████████████████████████████  | 92 kB 4.8 MB/s eta 0:00:01\r\u001b[K     |████████████████████████████████| 98 kB 3.2 MB/s \n",
            "\u001b[?25hCollecting kt-legacy\n",
            "  Downloading kt_legacy-1.0.4-py3-none-any.whl (9.6 kB)\n",
            "Requirement already satisfied: ipython in /usr/local/lib/python3.7/dist-packages (from keras_tuner) (5.5.0)\n",
            "Requirement already satisfied: tensorboard in /usr/local/lib/python3.7/dist-packages (from keras_tuner) (2.8.0)\n",
            "Requirement already satisfied: packaging in /usr/local/lib/python3.7/dist-packages (from keras_tuner) (21.3)\n",
            "Requirement already satisfied: numpy in /usr/local/lib/python3.7/dist-packages (from keras_tuner) (1.21.5)\n",
            "Requirement already satisfied: scipy in /usr/local/lib/python3.7/dist-packages (from keras_tuner) (1.4.1)\n",
            "Requirement already satisfied: requests in /usr/local/lib/python3.7/dist-packages (from keras_tuner) (2.23.0)\n",
            "Requirement already satisfied: pickleshare in /usr/local/lib/python3.7/dist-packages (from ipython->keras_tuner) (0.7.5)\n",
            "Requirement already satisfied: simplegeneric>0.8 in /usr/local/lib/python3.7/dist-packages (from ipython->keras_tuner) (0.8.1)\n",
            "Requirement already satisfied: traitlets>=4.2 in /usr/local/lib/python3.7/dist-packages (from ipython->keras_tuner) (5.1.1)\n",
            "Requirement already satisfied: pexpect in /usr/local/lib/python3.7/dist-packages (from ipython->keras_tuner) (4.8.0)\n",
            "Requirement already satisfied: decorator in /usr/local/lib/python3.7/dist-packages (from ipython->keras_tuner) (4.4.2)\n",
            "Requirement already satisfied: setuptools>=18.5 in /usr/local/lib/python3.7/dist-packages (from ipython->keras_tuner) (57.4.0)\n",
            "Requirement already satisfied: pygments in /usr/local/lib/python3.7/dist-packages (from ipython->keras_tuner) (2.6.1)\n",
            "Requirement already satisfied: prompt-toolkit<2.0.0,>=1.0.4 in /usr/local/lib/python3.7/dist-packages (from ipython->keras_tuner) (1.0.18)\n",
            "Requirement already satisfied: wcwidth in /usr/local/lib/python3.7/dist-packages (from prompt-toolkit<2.0.0,>=1.0.4->ipython->keras_tuner) (0.2.5)\n",
            "Requirement already satisfied: six>=1.9.0 in /usr/local/lib/python3.7/dist-packages (from prompt-toolkit<2.0.0,>=1.0.4->ipython->keras_tuner) (1.15.0)\n",
            "Requirement already satisfied: pyparsing!=3.0.5,>=2.0.2 in /usr/local/lib/python3.7/dist-packages (from packaging->keras_tuner) (3.0.7)\n",
            "Requirement already satisfied: ptyprocess>=0.5 in /usr/local/lib/python3.7/dist-packages (from pexpect->ipython->keras_tuner) (0.7.0)\n",
            "Requirement already satisfied: chardet<4,>=3.0.2 in /usr/local/lib/python3.7/dist-packages (from requests->keras_tuner) (3.0.4)\n",
            "Requirement already satisfied: certifi>=2017.4.17 in /usr/local/lib/python3.7/dist-packages (from requests->keras_tuner) (2021.10.8)\n",
            "Requirement already satisfied: urllib3!=1.25.0,!=1.25.1,<1.26,>=1.21.1 in /usr/local/lib/python3.7/dist-packages (from requests->keras_tuner) (1.24.3)\n",
            "Requirement already satisfied: idna<3,>=2.5 in /usr/local/lib/python3.7/dist-packages (from requests->keras_tuner) (2.10)\n",
            "Requirement already satisfied: tensorboard-data-server<0.7.0,>=0.6.0 in /usr/local/lib/python3.7/dist-packages (from tensorboard->keras_tuner) (0.6.1)\n",
            "Requirement already satisfied: grpcio>=1.24.3 in /usr/local/lib/python3.7/dist-packages (from tensorboard->keras_tuner) (1.43.0)\n",
            "Requirement already satisfied: tensorboard-plugin-wit>=1.6.0 in /usr/local/lib/python3.7/dist-packages (from tensorboard->keras_tuner) (1.8.1)\n",
            "Requirement already satisfied: werkzeug>=0.11.15 in /usr/local/lib/python3.7/dist-packages (from tensorboard->keras_tuner) (1.0.1)\n",
            "Requirement already satisfied: wheel>=0.26 in /usr/local/lib/python3.7/dist-packages (from tensorboard->keras_tuner) (0.37.1)\n",
            "Requirement already satisfied: markdown>=2.6.8 in /usr/local/lib/python3.7/dist-packages (from tensorboard->keras_tuner) (3.3.6)\n",
            "Requirement already satisfied: protobuf>=3.6.0 in /usr/local/lib/python3.7/dist-packages (from tensorboard->keras_tuner) (3.17.3)\n",
            "Requirement already satisfied: absl-py>=0.4 in /usr/local/lib/python3.7/dist-packages (from tensorboard->keras_tuner) (1.0.0)\n",
            "Requirement already satisfied: google-auth-oauthlib<0.5,>=0.4.1 in /usr/local/lib/python3.7/dist-packages (from tensorboard->keras_tuner) (0.4.6)\n",
            "Requirement already satisfied: google-auth<3,>=1.6.3 in /usr/local/lib/python3.7/dist-packages (from tensorboard->keras_tuner) (1.35.0)\n",
            "Requirement already satisfied: cachetools<5.0,>=2.0.0 in /usr/local/lib/python3.7/dist-packages (from google-auth<3,>=1.6.3->tensorboard->keras_tuner) (4.2.4)\n",
            "Requirement already satisfied: rsa<5,>=3.1.4 in /usr/local/lib/python3.7/dist-packages (from google-auth<3,>=1.6.3->tensorboard->keras_tuner) (4.8)\n",
            "Requirement already satisfied: pyasn1-modules>=0.2.1 in /usr/local/lib/python3.7/dist-packages (from google-auth<3,>=1.6.3->tensorboard->keras_tuner) (0.2.8)\n",
            "Requirement already satisfied: requests-oauthlib>=0.7.0 in /usr/local/lib/python3.7/dist-packages (from google-auth-oauthlib<0.5,>=0.4.1->tensorboard->keras_tuner) (1.3.1)\n",
            "Requirement already satisfied: importlib-metadata>=4.4 in /usr/local/lib/python3.7/dist-packages (from markdown>=2.6.8->tensorboard->keras_tuner) (4.11.0)\n",
            "Requirement already satisfied: zipp>=0.5 in /usr/local/lib/python3.7/dist-packages (from importlib-metadata>=4.4->markdown>=2.6.8->tensorboard->keras_tuner) (3.7.0)\n",
            "Requirement already satisfied: typing-extensions>=3.6.4 in /usr/local/lib/python3.7/dist-packages (from importlib-metadata>=4.4->markdown>=2.6.8->tensorboard->keras_tuner) (3.10.0.2)\n",
            "Requirement already satisfied: pyasn1<0.5.0,>=0.4.6 in /usr/local/lib/python3.7/dist-packages (from pyasn1-modules>=0.2.1->google-auth<3,>=1.6.3->tensorboard->keras_tuner) (0.4.8)\n",
            "Requirement already satisfied: oauthlib>=3.0.0 in /usr/local/lib/python3.7/dist-packages (from requests-oauthlib>=0.7.0->google-auth-oauthlib<0.5,>=0.4.1->tensorboard->keras_tuner) (3.2.0)\n",
            "Installing collected packages: kt-legacy, keras-tuner\n",
            "Successfully installed keras-tuner-1.1.0 kt-legacy-1.0.4\n",
            "Collecting tensorflow-addons\n",
            "  Downloading tensorflow_addons-0.16.1-cp37-cp37m-manylinux_2_12_x86_64.manylinux2010_x86_64.whl (1.1 MB)\n",
            "\u001b[K     |████████████████████████████████| 1.1 MB 5.3 MB/s \n",
            "\u001b[?25hRequirement already satisfied: typeguard>=2.7 in /usr/local/lib/python3.7/dist-packages (from tensorflow-addons) (2.7.1)\n",
            "Installing collected packages: tensorflow-addons\n",
            "Successfully installed tensorflow-addons-0.16.1\n"
          ]
        }
      ],
      "source": [
        "! pip install keras_tuner\n",
        "! pip install tensorflow-addons"
      ]
    },
    {
      "cell_type": "markdown",
      "metadata": {
        "id": "sd1Jw0EUk78i"
      },
      "source": [
        "# Import Libraries"
      ]
    },
    {
      "cell_type": "code",
      "execution_count": 6,
      "metadata": {
        "id": "nte45gPrlVT2"
      },
      "outputs": [],
      "source": [
        "import tensorflow\n",
        "from tensorflow import keras\n",
        "import keras_tuner as kt\n",
        "import os\n",
        "import numpy as np\n",
        "import keras.backend as K\n",
        "from tensorflow.keras.layers import Input, Masking, LSTM, Dropout, Permute, Conv1D, BatchNormalization, Activation, GlobalAveragePooling1D, concatenate, multiply, Reshape, Dense, GRU, Bidirectional\n",
        "from tensorflow.keras.models import Model\n",
        "from tensorflow.keras import Input\n",
        "from tensorflow_addons.optimizers import CyclicalLearningRate\n",
        "from matplotlib import pyplot as plt\n",
        "from sklearn.model_selection import GridSearchCV\n",
        "from tensorflow.keras.constraints import max_norm as maxnorm\n",
        "from tensorflow.keras.callbacks import EarlyStopping, ModelCheckpoint,ReduceLROnPlateau\n",
        "from tensorflow.keras.models import load_model\n",
        "from tensorflow.keras.activations import *\n",
        "import seaborn as sns\n",
        "import tensorflow.keras.metrics as metrics\n",
        "import tensorflow.keras as keras\n",
        "from tensorflow.keras.wrappers.scikit_learn import KerasClassifier"
      ]
    },
    {
      "cell_type": "markdown",
      "metadata": {
        "id": "NCIF7zdalmPO"
      },
      "source": [
        "# Utility Functions for loading dataset, plots and performance"
      ]
    },
    {
      "cell_type": "code",
      "execution_count": 7,
      "metadata": {
        "id": "WfsCK46Tlu0s"
      },
      "outputs": [],
      "source": [
        "def load_X(path):\n",
        "    X_signals = []\n",
        "    files = os.listdir(path)\n",
        "    files.sort(key=str.lower)\n",
        "    #['train_acc_x.txt', 'train_acc_y.txt', 'train_acc_z.txt', 'train_gyr_x.txt', 'train_gyr_y.txt', 'train_gyr_z.txt']\n",
        "    for my_file in files:\n",
        "        fileName = os.path.join(path,my_file)\n",
        "        file = open(fileName, 'r')\n",
        "        X_signals.append(\n",
        "            [np.array(cell, dtype=np.float32) for cell in [\n",
        "                row.strip().split(' ') for row in file\n",
        "            ]]\n",
        "        )\n",
        "        file.close()\n",
        "        #X_signals = 6*totalStepNum*128\n",
        "    X_signals = np.transpose(np.array(X_signals), (1, 0, 2))#(totalStepNum*6*128)\n",
        "    return X_signals.reshape(-1,6,128,1)#(totalStepNum*6*128*1)\n",
        "\n",
        "def load_y(y_path):\n",
        "    file = open(y_path, 'r')\n",
        "    # Read dataset from disk, dealing with text file's syntax\n",
        "    y_ = np.array(\n",
        "        [elem for elem in [\n",
        "            row.replace('  ', ' ').strip().split(' ') for row in file\n",
        "        ]],\n",
        "        dtype=np.int32\n",
        "    )\n",
        "    file.close()\n",
        "    # Substract 1 to each output class for friendly 0-based indexing\n",
        "    y_ = y_ - 1\n",
        "    #one_hot\n",
        "    y_ = y_.reshape(len(y_))\n",
        "    n_values = int(np.max(y_)) + 1\n",
        "    return np.eye(n_values)[np.array(y_, dtype=np.int32)]  # Returns FLOATS"
      ]
    },
    {
      "cell_type": "code",
      "execution_count": 8,
      "metadata": {
        "id": "3J5kEW01l5FY"
      },
      "outputs": [],
      "source": [
        "def get_test_performance(model, X_test, test_label):\n",
        "    score=model.evaluate(X_test,test_label,verbose=1)\n",
        "    print(f'Test loss:{score[0]}')\n",
        "    print(f'Test accuracy:{score[1]}')\n",
        "    print(f'Test Recall: {score[3]}')\n",
        "    print(f'Test AUC: {score[2]}')"
      ]
    },
    {
      "cell_type": "code",
      "execution_count": 9,
      "metadata": {
        "id": "0gSCx8cml75h"
      },
      "outputs": [],
      "source": [
        "def plot_performance(X_train, train_label, history):\n",
        "    plt.plot(history.history['accuracy'])\n",
        "    try:\n",
        "        plt.plot(history.history['val_accuracy'])\n",
        "        plt.title('model accuracy')\n",
        "        plt.ylabel('accuracy')\n",
        "        plt.xlabel('epoch')\n",
        "        plt.legend(['train', 'val'], loc='upper left')\n",
        "    except:\n",
        "        pass\n",
        "    try:\n",
        "        plt.legend(['val'], loc='upper left')\n",
        "    except:\n",
        "        pass\n",
        "    plt.show()\n",
        "\n",
        "    plt.plot(history.history['loss'])\n",
        "    try:\n",
        "        plt.plot(history.history['val_loss'])\n",
        "    except:\n",
        "        pass\n",
        "    plt.title('model loss')\n",
        "    plt.ylabel('loss')\n",
        "    plt.xlabel('epoch')\n",
        "    plt.legend(['train'], loc='upper left')\n",
        "    try:\n",
        "        plt.legend(['val'], loc='upper left')\n",
        "    except:\n",
        "        pass\n",
        "    plt.show()"
      ]
    },
    {
      "cell_type": "code",
      "execution_count": 10,
      "metadata": {
        "id": "MdsZEDohmFvr"
      },
      "outputs": [],
      "source": [
        "def squeeze_excite_block(tensor, ratio=16):\n",
        "    init = tensor\n",
        "    # channel_axis = 1 if K.image_data_format() == \"channels_first\" else -1\n",
        "    filters = init.shape[-1]\n",
        "    se_shape = (1, filters)\n",
        "\n",
        "    se = GlobalAveragePooling1D()(init)\n",
        "    se = Reshape(se_shape)(se)\n",
        "    se = Dense(filters // ratio, activation='relu', kernel_initializer='he_normal', use_bias=False)(se)\n",
        "    se = Dense(filters, activation='sigmoid', kernel_initializer='he_normal', use_bias=False)(se)\n",
        "\n",
        "    # if K.image_data_format() == 'channels_first':\n",
        "    #     se = Permute((3, 1, 2))(se)\n",
        "\n",
        "    x = multiply([init, se])\n",
        "    return x"
      ]
    },
    {
      "cell_type": "code",
      "source": [
        "activation = ['tanh','relu','sigmoid','softplus','softsign','selu','elu','exponential','softmax'] # None\n",
        "activs = ['tanh','relu','sigmoid','softplus','softsign','selu','elu','exponential','softmax']\n",
        "bool_ = [True,False]\n",
        "n_filters = [32,64,128,256,512]\n",
        "inits = ['glorot_uniform','random_normal','random_uniform','truncated_normal','zeros','ones','glorot_normal','he_normal','he_uniform','orthogonal','constant','variance_scaling']\n",
        "regularizers = ['l1','l2','l1_l2'] # None\n",
        "dropouts = [0.0,0.1, 0.2, 0.3, 0.4, 0.5, 0.6, 0.7, 0.8]\n",
        "k_size = [3,5,7,8,9]\n",
        "strides = [1,2,5]\n",
        "pad = ['same','valid']\n",
        "seed = 42"
      ],
      "metadata": {
        "id": "8sTYCCqfjOEP"
      },
      "execution_count": 11,
      "outputs": []
    },
    {
      "cell_type": "markdown",
      "metadata": {
        "id": "YlffWBOlmxrl"
      },
      "source": [
        "# Tuner"
      ]
    },
    {
      "cell_type": "code",
      "execution_count": null,
      "metadata": {
        "id": "gcqHbcVir0W6"
      },
      "outputs": [],
      "source": [
        "np.random.seed(42)\n",
        "num_classes = 118\n",
        "X_train = load_X('/content/drive/Shareddrives/MMH/TIFS20/Dataset #1/train/Inertial Signals')\n",
        "X_test = load_X('/content/drive/Shareddrives/MMH/TIFS20/Dataset #1/test/Inertial Signals')\n",
        "train_label = load_y('/content/drive/Shareddrives/MMH/TIFS20/Dataset #1/train/y_train.txt')\n",
        "test_label = load_y('/content/drive/Shareddrives/MMH/TIFS20/Dataset #1/test/y_test.txt')\n",
        "shape = ((X_train.shape[1], X_train.shape[2]), train_label.shape[1])\n",
        "\n",
        "cyclical_learning_rate = CyclicalLearningRate(\n",
        "    initial_learning_rate=0.0001,maximal_learning_rate=0.1,step_size=(X_train[0]*0.9*10)/32,scale_fn=lambda x: 1 / (2.0 ** (x - 1)),scale_mode='cycle')"
      ]
    },
    {
      "cell_type": "code",
      "execution_count": null,
      "metadata": {
        "id": "4g58tB7pmzl_"
      },
      "outputs": [],
      "source": [
        "def post_se(hp):\n",
        "    ip = Input(shape=(6, 128))\n",
        "    x = Masking()(ip)\n",
        "    x = Bidirectional(LSTM(hp.Choice('Bi-LSTM_1',values=n_filters),'tanh','sigmoid',True,hp.Choice('k_init_L',values=inits)))(x)\n",
        "    x = Dropout(hp.Choice(name='Dropout',values=dropouts),seed=42)(x)\n",
        "    y = Permute((2,1))(ip)\n",
        "    \n",
        "    y = Conv1D(hp.Choice('cn1_filter',values=n_filters),hp.Choice(\n",
        "        name='cn1_k_size',values=k_size),hp.Choice(name='cn2_s',values=strides),hp.Choice(name='cn1_p',values = pad),\n",
        "        'channels_last',1,1,None,hp.Choice(name='cn1_use_b',values=bool_),hp.Choice('cn1_k_init',values=inits),\n",
        "        hp.Choice('cn1_b_init',values=inits))(y)\n",
        "    y = BatchNormalization(-1,0.99,0.001,hp.Choice('bn1_ctr',values=bool_),hp.Choice(\n",
        "        'bn1_scl',values=bool_),hp.Choice('bn1_beta_init',values=inits),hp.Choice('bn1_gama_init',values=inits),\n",
        "        hp.Choice('bn1_mvmean_init',values=inits),hp.Choice('bn1_mvvar_init',values=inits),\n",
        "        hp.Choice('bn1_beta_reg',values=regularizers),hp.Choice('bn1_gama_reg',values=regularizers))(y)\n",
        "    y = Activation(hp.Choice('activ_1',values=activation))(y)\n",
        "    y = squeeze_excite_block(y)\n",
        "\n",
        "    y = Conv1D(hp.Choice('cn2_filter',values=n_filters),hp.Choice(\n",
        "        name='cn2_k_size',values=k_size),hp.Choice(name='cn3_s',values=strides),\n",
        "        hp.Choice(name='cn2_p',values=pad),'channels_last',1,1,None,hp.Choice(name='cn2_use_b',values=bool_),\n",
        "        hp.Choice('cn2_k_init',values=inits),hp.Choice('cn2_b_init',values=inits))(y)\n",
        "    y = BatchNormalization(-1,0.99,0.001,hp.Choice('bn2_ctr',values=bool_),hp.Choice(\n",
        "        'bn2_scl',values=bool_),hp.Choice('bn2_beta_init',values=inits),hp.Choice('bn2_gama_init',values=inits),\n",
        "        hp.Choice('bn2_mvmean_init',values=inits),hp.Choice('bn2_mvvar_init',values=inits),\n",
        "        hp.Choice('bn2_beta_reg',values=regularizers),hp.Choice('bn2_gama_reg',values=regularizers))(y)\n",
        "    y = Activation(hp.Choice('activ_2',values=activation))(y)\n",
        "    y = squeeze_excite_block(y)\n",
        "\n",
        "    y = Conv1D(hp.Choice('cn3_filter',values=n_filters),hp.Choice(\n",
        "        name='cn3_k_size',values=k_size),hp.Choice(name='cn1_s',values=strides),\n",
        "        hp.Choice(name='cn3_p',values=pad),'channels_last',1,1,None,hp.Choice(name='cn3_use_b',values=bool_),\n",
        "        hp.Choice('cn3_k_init',values=inits),hp.Choice('cn3_b_init',values=inits))(y)\n",
        "    y = BatchNormalization(-1,0.99,0.001,hp.Choice('bn3_ctr',values=bool_),hp.Choice(\n",
        "        'bn3_scl',values=bool_),hp.Choice('bn3_beta_init',values=inits),hp.Choice('bn3_gama_init',values=inits),\n",
        "        hp.Choice('bn3_mvmean_init',values=inits),hp.Choice('bn3_mvvar_init',values=inits),\n",
        "        hp.Choice('bn3_beta_reg',values=regularizers),hp.Choice('bn3_gama_reg',values=regularizers))(y)\n",
        "    y = Activation(hp.Choice('activ_3',values=activation))(y)\n",
        "    y = GlobalAveragePooling1D()(y)\n",
        "\n",
        "    x = concatenate([x,y])\n",
        "    \n",
        "    out = Dense(num_classes, activation='softmax')(x)\n",
        "    model = Model(ip, out)\n",
        "    if gpu:\n",
        "        opt = keras.optimizers.Adam(learning_rate=cyclical_learning_rate)\n",
        "    if tpu:\n",
        "        opt = keras.optimizers.Adam(learning_rate=8*0.001)\n",
        "    model.compile(optimizer=opt, loss='categorical_crossentropy',metrics=['accuracy'])\n",
        "\n",
        "    return model"
      ]
    },
    {
      "cell_type": "code",
      "source": [
        "# PRE\n",
        "def MLSTM_FCN(shape, num_classes):\n",
        "    x = Input(shape=(6, 128))\n",
        "    ip = x\n",
        "    # x = Masking()(ip)\n",
        "    # x = Bidirectional(LSTM(units=8))(x)\n",
        "    # x = Dropout(0.8)(x)\n",
        "    y = Permute((2, 1))(ip)\n",
        "    # y = squeeze_excite_block(y)\n",
        "    y = Conv1D(32, 9, padding='same', kernel_initializer='he_uniform')(y)\n",
        "    y = BatchNormalization()(y)\n",
        "    y = Activation('relu')(y)\n",
        "    # y = squeeze_excite_block(y)\n",
        "    y = Conv1D(512, 9, padding='same', kernel_initializer='he_uniform')(y)\n",
        "    y = BatchNormalization()(y)\n",
        "    y = Activation('relu')(y)\n",
        "    # y = squeeze_excite_block(y)\n",
        "    y = Conv1D(512, 9, padding='same', kernel_initializer='he_uniform')(y)\n",
        "    y = BatchNormalization()(y)\n",
        "    y = Activation('relu')(y)\n",
        "    y = GlobalAveragePooling1D()(y)\n",
        "    # x = concatenate([x,y])\n",
        "    \n",
        "    out = Dense(num_classes, activation='softmax')(y)\n",
        "    model = Model(ip, out)\n",
        "    model.compile(optimizer=\"adam\", loss=\"categorical_crossentropy\",metrics=['accuracy','AUC','Recall'])\n",
        "    model.summary()\n",
        "\n",
        "    return model"
      ],
      "metadata": {
        "id": "W4qGDr4vQlkx"
      },
      "execution_count": 16,
      "outputs": []
    },
    {
      "cell_type": "markdown",
      "source": [
        "dataset 1 identity"
      ],
      "metadata": {
        "id": "gF9EPrVmQuzx"
      }
    },
    {
      "cell_type": "code",
      "source": [
        "np.random.seed(42)\n",
        "num_classes = 118\n",
        "X_train = load_X('/content/drive/Shareddrives/MMH/TIFS20/Dataset #1/train/Inertial Signals')\n",
        "X_test = load_X('/content/drive/Shareddrives/MMH/TIFS20/Dataset #1/test/Inertial Signals')\n",
        "train_label = load_y('/content/drive/Shareddrives/MMH/TIFS20/Dataset #1/train/y_train.txt')\n",
        "test_label = load_y('/content/drive/Shareddrives/MMH/TIFS20/Dataset #1/test/y_test.txt')\n",
        "shape = ((X_train.shape[1], X_train.shape[2]), train_label.shape[1])\n",
        "cyclical_learning_rate = CyclicalLearningRate(\n",
        "    initial_learning_rate=0.0001,maximal_learning_rate=0.1,step_size=(X_train[0]*0.9*10)/32,scale_fn=lambda x: 1 / (2.0 ** (x - 1)),scale_mode='cycle')"
      ],
      "metadata": {
        "id": "3oK8VPhnPZ95"
      },
      "execution_count": 17,
      "outputs": []
    },
    {
      "cell_type": "code",
      "source": [
        "if gpu:\n",
        "    model = MLSTM_FCN((X_train.shape[1], X_train.shape[2]), train_label.shape[1])\n",
        "    history = model.fit(X_train,train_label,batch_size=32,epochs=200,verbose=1,callbacks=[tensorflow.keras.callbacks.EarlyStopping('val_loss', patience=30,restore_best_weights=True)],validation_split=0.1)\n",
        "if tpu:\n",
        "    with strategy.scope():\n",
        "        model = MLSTM_FCN((X_train.shape[1], X_train.shape[2]), train_label.shape[1])\n",
        "        history = model.fit(X_train,train_label,batch_size=8*32,epochs=200,verbose=1,callbacks=[tensorflow.keras.callbacks.EarlyStopping('val_loss', patience=30,restore_best_weights=True)],validation_split=0.1)\n",
        "\n",
        "plot_performance(X_train, train_label, history)"
      ],
      "metadata": {
        "id": "nI2Jtaf5Pmf6",
        "colab": {
          "base_uri": "https://localhost:8080/",
          "height": 1000
        },
        "outputId": "af7a5683-dd57-4710-cfe3-2b0e74947f6e"
      },
      "execution_count": 18,
      "outputs": [
        {
          "output_type": "stream",
          "name": "stdout",
          "text": [
            "Model: \"model_1\"\n",
            "_________________________________________________________________\n",
            " Layer (type)                Output Shape              Param #   \n",
            "=================================================================\n",
            " input_2 (InputLayer)        [(None, 6, 128)]          0         \n",
            "                                                                 \n",
            " permute_1 (Permute)         (None, 128, 6)            0         \n",
            "                                                                 \n",
            " conv1d_3 (Conv1D)           (None, 128, 32)           1760      \n",
            "                                                                 \n",
            " batch_normalization_3 (Batc  (None, 128, 32)          128       \n",
            " hNormalization)                                                 \n",
            "                                                                 \n",
            " activation_3 (Activation)   (None, 128, 32)           0         \n",
            "                                                                 \n",
            " conv1d_4 (Conv1D)           (None, 128, 512)          147968    \n",
            "                                                                 \n",
            " batch_normalization_4 (Batc  (None, 128, 512)         2048      \n",
            " hNormalization)                                                 \n",
            "                                                                 \n",
            " activation_4 (Activation)   (None, 128, 512)          0         \n",
            "                                                                 \n",
            " conv1d_5 (Conv1D)           (None, 128, 512)          2359808   \n",
            "                                                                 \n",
            " batch_normalization_5 (Batc  (None, 128, 512)         2048      \n",
            " hNormalization)                                                 \n",
            "                                                                 \n",
            " activation_5 (Activation)   (None, 128, 512)          0         \n",
            "                                                                 \n",
            " global_average_pooling1d_1   (None, 512)              0         \n",
            " (GlobalAveragePooling1D)                                        \n",
            "                                                                 \n",
            " dense_1 (Dense)             (None, 118)               60534     \n",
            "                                                                 \n",
            "=================================================================\n",
            "Total params: 2,574,294\n",
            "Trainable params: 2,572,182\n",
            "Non-trainable params: 2,112\n",
            "_________________________________________________________________\n",
            "Epoch 1/200\n",
            "932/932 [==============================] - 62s 54ms/step - loss: 0.6640 - accuracy: 0.8662 - auc: 0.9925 - recall: 0.7557 - val_loss: 0.1941 - val_accuracy: 0.9541 - val_auc: 0.9983 - val_recall: 0.9360\n",
            "Epoch 2/200\n",
            "932/932 [==============================] - 46s 49ms/step - loss: 0.1206 - accuracy: 0.9741 - auc: 0.9988 - recall: 0.9612 - val_loss: 0.1249 - val_accuracy: 0.9740 - val_auc: 0.9981 - val_recall: 0.9659\n",
            "Epoch 3/200\n",
            "932/932 [==============================] - 46s 49ms/step - loss: 0.0745 - accuracy: 0.9820 - auc: 0.9993 - recall: 0.9748 - val_loss: 0.0901 - val_accuracy: 0.9789 - val_auc: 0.9982 - val_recall: 0.9713\n",
            "Epoch 4/200\n",
            "932/932 [==============================] - 46s 49ms/step - loss: 0.0549 - accuracy: 0.9853 - auc: 0.9997 - recall: 0.9804 - val_loss: 0.0905 - val_accuracy: 0.9746 - val_auc: 0.9994 - val_recall: 0.9647\n",
            "Epoch 5/200\n",
            "932/932 [==============================] - 46s 49ms/step - loss: 0.0478 - accuracy: 0.9874 - auc: 0.9996 - recall: 0.9834 - val_loss: 0.0613 - val_accuracy: 0.9843 - val_auc: 0.9991 - val_recall: 0.9789\n",
            "Epoch 6/200\n",
            "932/932 [==============================] - 46s 49ms/step - loss: 0.0366 - accuracy: 0.9899 - auc: 0.9998 - recall: 0.9865 - val_loss: 0.0505 - val_accuracy: 0.9876 - val_auc: 0.9995 - val_recall: 0.9831\n",
            "Epoch 7/200\n",
            "932/932 [==============================] - 46s 49ms/step - loss: 0.0292 - accuracy: 0.9919 - auc: 0.9998 - recall: 0.9899 - val_loss: 0.0434 - val_accuracy: 0.9897 - val_auc: 0.9998 - val_recall: 0.9858\n",
            "Epoch 8/200\n",
            "932/932 [==============================] - 46s 49ms/step - loss: 0.0247 - accuracy: 0.9933 - auc: 0.9999 - recall: 0.9911 - val_loss: 0.0316 - val_accuracy: 0.9918 - val_auc: 0.9997 - val_recall: 0.9909\n",
            "Epoch 9/200\n",
            "932/932 [==============================] - 46s 49ms/step - loss: 0.0292 - accuracy: 0.9915 - auc: 0.9998 - recall: 0.9900 - val_loss: 0.0299 - val_accuracy: 0.9928 - val_auc: 0.9998 - val_recall: 0.9894\n",
            "Epoch 10/200\n",
            "932/932 [==============================] - 46s 49ms/step - loss: 0.0183 - accuracy: 0.9946 - auc: 0.9999 - recall: 0.9933 - val_loss: 0.0263 - val_accuracy: 0.9946 - val_auc: 0.9997 - val_recall: 0.9928\n",
            "Epoch 11/200\n",
            "932/932 [==============================] - 46s 49ms/step - loss: 0.0217 - accuracy: 0.9933 - auc: 0.9999 - recall: 0.9920 - val_loss: 0.0321 - val_accuracy: 0.9918 - val_auc: 0.9998 - val_recall: 0.9903\n",
            "Epoch 12/200\n",
            "932/932 [==============================] - 46s 49ms/step - loss: 0.0158 - accuracy: 0.9956 - auc: 0.9999 - recall: 0.9943 - val_loss: 0.0291 - val_accuracy: 0.9940 - val_auc: 0.9995 - val_recall: 0.9921\n",
            "Epoch 13/200\n",
            "932/932 [==============================] - 46s 49ms/step - loss: 0.0143 - accuracy: 0.9961 - auc: 0.9999 - recall: 0.9954 - val_loss: 0.0324 - val_accuracy: 0.9909 - val_auc: 0.9997 - val_recall: 0.9897\n",
            "Epoch 14/200\n",
            "932/932 [==============================] - 46s 49ms/step - loss: 0.0132 - accuracy: 0.9966 - auc: 0.9999 - recall: 0.9957 - val_loss: 0.0227 - val_accuracy: 0.9955 - val_auc: 0.9997 - val_recall: 0.9934\n",
            "Epoch 15/200\n",
            "932/932 [==============================] - 46s 49ms/step - loss: 0.0186 - accuracy: 0.9951 - auc: 0.9998 - recall: 0.9939 - val_loss: 0.0746 - val_accuracy: 0.9828 - val_auc: 0.9985 - val_recall: 0.9807\n",
            "Epoch 16/200\n",
            "932/932 [==============================] - 46s 49ms/step - loss: 0.0119 - accuracy: 0.9962 - auc: 0.9999 - recall: 0.9956 - val_loss: 0.0347 - val_accuracy: 0.9921 - val_auc: 0.9995 - val_recall: 0.9900\n",
            "Epoch 17/200\n",
            "932/932 [==============================] - 46s 49ms/step - loss: 0.0101 - accuracy: 0.9972 - auc: 0.9999 - recall: 0.9964 - val_loss: 0.0227 - val_accuracy: 0.9961 - val_auc: 0.9995 - val_recall: 0.9955\n",
            "Epoch 18/200\n",
            "932/932 [==============================] - 45s 49ms/step - loss: 0.0100 - accuracy: 0.9971 - auc: 0.9999 - recall: 0.9964 - val_loss: 0.0243 - val_accuracy: 0.9955 - val_auc: 0.9997 - val_recall: 0.9943\n",
            "Epoch 19/200\n",
            "932/932 [==============================] - 45s 49ms/step - loss: 0.0108 - accuracy: 0.9970 - auc: 0.9999 - recall: 0.9967 - val_loss: 0.1196 - val_accuracy: 0.9783 - val_auc: 0.9963 - val_recall: 0.9767\n",
            "Epoch 20/200\n",
            "932/932 [==============================] - 45s 49ms/step - loss: 0.0102 - accuracy: 0.9969 - auc: 0.9999 - recall: 0.9963 - val_loss: 0.0298 - val_accuracy: 0.9943 - val_auc: 0.9995 - val_recall: 0.9937\n",
            "Epoch 21/200\n",
            "932/932 [==============================] - 45s 49ms/step - loss: 0.0080 - accuracy: 0.9975 - auc: 1.0000 - recall: 0.9969 - val_loss: 0.0305 - val_accuracy: 0.9946 - val_auc: 0.9992 - val_recall: 0.9940\n",
            "Epoch 22/200\n",
            "932/932 [==============================] - 46s 49ms/step - loss: 0.0078 - accuracy: 0.9979 - auc: 1.0000 - recall: 0.9975 - val_loss: 0.0300 - val_accuracy: 0.9931 - val_auc: 0.9994 - val_recall: 0.9915\n",
            "Epoch 23/200\n",
            "932/932 [==============================] - 46s 49ms/step - loss: 0.0093 - accuracy: 0.9975 - auc: 0.9999 - recall: 0.9973 - val_loss: 0.0233 - val_accuracy: 0.9943 - val_auc: 0.9995 - val_recall: 0.9937\n",
            "Epoch 24/200\n",
            "932/932 [==============================] - 45s 49ms/step - loss: 0.0107 - accuracy: 0.9973 - auc: 0.9999 - recall: 0.9967 - val_loss: 0.0316 - val_accuracy: 0.9924 - val_auc: 0.9995 - val_recall: 0.9924\n",
            "Epoch 25/200\n",
            "932/932 [==============================] - 45s 49ms/step - loss: 0.0061 - accuracy: 0.9983 - auc: 0.9999 - recall: 0.9981 - val_loss: 0.0240 - val_accuracy: 0.9946 - val_auc: 0.9995 - val_recall: 0.9943\n",
            "Epoch 26/200\n",
            "932/932 [==============================] - 46s 49ms/step - loss: 0.0120 - accuracy: 0.9968 - auc: 0.9999 - recall: 0.9963 - val_loss: 0.0246 - val_accuracy: 0.9946 - val_auc: 0.9997 - val_recall: 0.9946\n",
            "Epoch 27/200\n",
            "932/932 [==============================] - 46s 49ms/step - loss: 0.0070 - accuracy: 0.9979 - auc: 1.0000 - recall: 0.9975 - val_loss: 0.0217 - val_accuracy: 0.9958 - val_auc: 0.9995 - val_recall: 0.9946\n",
            "Epoch 28/200\n",
            "932/932 [==============================] - 46s 49ms/step - loss: 0.0063 - accuracy: 0.9982 - auc: 0.9999 - recall: 0.9978 - val_loss: 0.0333 - val_accuracy: 0.9949 - val_auc: 0.9992 - val_recall: 0.9946\n",
            "Epoch 29/200\n",
            "932/932 [==============================] - 46s 49ms/step - loss: 0.0068 - accuracy: 0.9981 - auc: 0.9999 - recall: 0.9978 - val_loss: 0.0204 - val_accuracy: 0.9970 - val_auc: 0.9997 - val_recall: 0.9958\n",
            "Epoch 30/200\n",
            "932/932 [==============================] - 47s 50ms/step - loss: 0.0077 - accuracy: 0.9977 - auc: 0.9999 - recall: 0.9972 - val_loss: 0.0241 - val_accuracy: 0.9958 - val_auc: 0.9992 - val_recall: 0.9946\n",
            "Epoch 31/200\n",
            "932/932 [==============================] - 46s 49ms/step - loss: 0.0045 - accuracy: 0.9991 - auc: 0.9999 - recall: 0.9988 - val_loss: 0.0248 - val_accuracy: 0.9961 - val_auc: 0.9994 - val_recall: 0.9955\n",
            "Epoch 32/200\n",
            "932/932 [==============================] - 46s 49ms/step - loss: 0.0057 - accuracy: 0.9983 - auc: 1.0000 - recall: 0.9981 - val_loss: 0.0619 - val_accuracy: 0.9940 - val_auc: 0.9989 - val_recall: 0.9928\n",
            "Epoch 33/200\n",
            "932/932 [==============================] - 46s 49ms/step - loss: 0.0073 - accuracy: 0.9976 - auc: 1.0000 - recall: 0.9975 - val_loss: 0.0298 - val_accuracy: 0.9955 - val_auc: 0.9992 - val_recall: 0.9955\n",
            "Epoch 34/200\n",
            "932/932 [==============================] - 46s 49ms/step - loss: 0.0059 - accuracy: 0.9982 - auc: 1.0000 - recall: 0.9980 - val_loss: 0.0308 - val_accuracy: 0.9949 - val_auc: 0.9994 - val_recall: 0.9943\n",
            "Epoch 35/200\n",
            "932/932 [==============================] - 46s 49ms/step - loss: 0.0044 - accuracy: 0.9988 - auc: 1.0000 - recall: 0.9987 - val_loss: 0.0259 - val_accuracy: 0.9955 - val_auc: 0.9994 - val_recall: 0.9949\n",
            "Epoch 36/200\n",
            "932/932 [==============================] - 46s 49ms/step - loss: 0.0054 - accuracy: 0.9988 - auc: 0.9999 - recall: 0.9987 - val_loss: 0.0211 - val_accuracy: 0.9958 - val_auc: 0.9997 - val_recall: 0.9958\n",
            "Epoch 37/200\n",
            "932/932 [==============================] - 46s 49ms/step - loss: 0.0085 - accuracy: 0.9975 - auc: 0.9999 - recall: 0.9971 - val_loss: 0.0190 - val_accuracy: 0.9967 - val_auc: 0.9997 - val_recall: 0.9958\n",
            "Epoch 38/200\n",
            "932/932 [==============================] - 46s 49ms/step - loss: 0.0050 - accuracy: 0.9987 - auc: 0.9999 - recall: 0.9985 - val_loss: 0.0194 - val_accuracy: 0.9973 - val_auc: 0.9997 - val_recall: 0.9967\n",
            "Epoch 39/200\n",
            "932/932 [==============================] - 46s 49ms/step - loss: 0.0033 - accuracy: 0.9991 - auc: 1.0000 - recall: 0.9990 - val_loss: 0.0240 - val_accuracy: 0.9955 - val_auc: 0.9997 - val_recall: 0.9952\n",
            "Epoch 40/200\n",
            "932/932 [==============================] - 46s 49ms/step - loss: 0.0059 - accuracy: 0.9983 - auc: 0.9999 - recall: 0.9981 - val_loss: 0.0223 - val_accuracy: 0.9964 - val_auc: 0.9997 - val_recall: 0.9958\n",
            "Epoch 41/200\n",
            "932/932 [==============================] - 46s 49ms/step - loss: 0.0067 - accuracy: 0.9982 - auc: 0.9999 - recall: 0.9981 - val_loss: 0.0353 - val_accuracy: 0.9931 - val_auc: 0.9992 - val_recall: 0.9928\n",
            "Epoch 42/200\n",
            "932/932 [==============================] - 46s 49ms/step - loss: 0.0041 - accuracy: 0.9988 - auc: 1.0000 - recall: 0.9986 - val_loss: 0.0230 - val_accuracy: 0.9961 - val_auc: 0.9997 - val_recall: 0.9961\n",
            "Epoch 43/200\n",
            "932/932 [==============================] - 46s 49ms/step - loss: 0.0052 - accuracy: 0.9985 - auc: 0.9999 - recall: 0.9984 - val_loss: 0.0309 - val_accuracy: 0.9940 - val_auc: 0.9995 - val_recall: 0.9934\n",
            "Epoch 44/200\n",
            "932/932 [==============================] - 46s 49ms/step - loss: 0.0034 - accuracy: 0.9990 - auc: 1.0000 - recall: 0.9990 - val_loss: 0.0192 - val_accuracy: 0.9967 - val_auc: 0.9997 - val_recall: 0.9961\n",
            "Epoch 45/200\n",
            "932/932 [==============================] - 46s 49ms/step - loss: 0.0039 - accuracy: 0.9989 - auc: 1.0000 - recall: 0.9987 - val_loss: 0.0144 - val_accuracy: 0.9976 - val_auc: 0.9998 - val_recall: 0.9973\n",
            "Epoch 46/200\n",
            "932/932 [==============================] - 46s 50ms/step - loss: 0.0043 - accuracy: 0.9989 - auc: 1.0000 - recall: 0.9987 - val_loss: 0.0217 - val_accuracy: 0.9976 - val_auc: 0.9997 - val_recall: 0.9970\n",
            "Epoch 47/200\n",
            "932/932 [==============================] - 46s 49ms/step - loss: 0.0061 - accuracy: 0.9981 - auc: 0.9999 - recall: 0.9979 - val_loss: 0.0228 - val_accuracy: 0.9973 - val_auc: 0.9997 - val_recall: 0.9964\n",
            "Epoch 48/200\n",
            "932/932 [==============================] - 46s 49ms/step - loss: 0.0038 - accuracy: 0.9989 - auc: 1.0000 - recall: 0.9988 - val_loss: 0.0211 - val_accuracy: 0.9970 - val_auc: 0.9995 - val_recall: 0.9970\n",
            "Epoch 49/200\n",
            "932/932 [==============================] - 46s 49ms/step - loss: 0.0024 - accuracy: 0.9993 - auc: 1.0000 - recall: 0.9992 - val_loss: 0.0186 - val_accuracy: 0.9970 - val_auc: 0.9997 - val_recall: 0.9970\n",
            "Epoch 50/200\n",
            "932/932 [==============================] - 46s 49ms/step - loss: 0.0047 - accuracy: 0.9988 - auc: 0.9999 - recall: 0.9986 - val_loss: 0.0525 - val_accuracy: 0.9900 - val_auc: 0.9991 - val_recall: 0.9894\n",
            "Epoch 51/200\n",
            "932/932 [==============================] - 46s 49ms/step - loss: 0.0049 - accuracy: 0.9986 - auc: 1.0000 - recall: 0.9985 - val_loss: 0.0206 - val_accuracy: 0.9958 - val_auc: 0.9995 - val_recall: 0.9955\n",
            "Epoch 52/200\n",
            "932/932 [==============================] - 46s 49ms/step - loss: 0.0042 - accuracy: 0.9987 - auc: 0.9999 - recall: 0.9987 - val_loss: 0.0199 - val_accuracy: 0.9979 - val_auc: 0.9997 - val_recall: 0.9976\n",
            "Epoch 53/200\n",
            "932/932 [==============================] - 46s 49ms/step - loss: 0.0031 - accuracy: 0.9990 - auc: 1.0000 - recall: 0.9990 - val_loss: 0.0186 - val_accuracy: 0.9985 - val_auc: 0.9997 - val_recall: 0.9982\n",
            "Epoch 54/200\n",
            "932/932 [==============================] - 46s 49ms/step - loss: 0.0036 - accuracy: 0.9990 - auc: 1.0000 - recall: 0.9988 - val_loss: 0.0247 - val_accuracy: 0.9964 - val_auc: 0.9994 - val_recall: 0.9958\n",
            "Epoch 55/200\n",
            "932/932 [==============================] - 46s 49ms/step - loss: 0.0042 - accuracy: 0.9988 - auc: 0.9999 - recall: 0.9987 - val_loss: 0.0381 - val_accuracy: 0.9918 - val_auc: 0.9992 - val_recall: 0.9912\n",
            "Epoch 56/200\n",
            "932/932 [==============================] - 46s 49ms/step - loss: 0.0047 - accuracy: 0.9987 - auc: 0.9999 - recall: 0.9985 - val_loss: 0.0211 - val_accuracy: 0.9979 - val_auc: 0.9994 - val_recall: 0.9973\n",
            "Epoch 57/200\n",
            "932/932 [==============================] - 46s 49ms/step - loss: 0.0034 - accuracy: 0.9991 - auc: 0.9999 - recall: 0.9991 - val_loss: 0.0226 - val_accuracy: 0.9979 - val_auc: 0.9995 - val_recall: 0.9970\n",
            "Epoch 58/200\n",
            "932/932 [==============================] - 46s 49ms/step - loss: 0.0033 - accuracy: 0.9992 - auc: 1.0000 - recall: 0.9991 - val_loss: 0.0223 - val_accuracy: 0.9973 - val_auc: 0.9997 - val_recall: 0.9970\n",
            "Epoch 59/200\n",
            "932/932 [==============================] - 45s 49ms/step - loss: 0.0019 - accuracy: 0.9995 - auc: 1.0000 - recall: 0.9994 - val_loss: 0.0176 - val_accuracy: 0.9976 - val_auc: 0.9995 - val_recall: 0.9970\n",
            "Epoch 60/200\n",
            "932/932 [==============================] - 46s 49ms/step - loss: 0.0059 - accuracy: 0.9987 - auc: 0.9999 - recall: 0.9985 - val_loss: 0.0218 - val_accuracy: 0.9964 - val_auc: 0.9997 - val_recall: 0.9961\n",
            "Epoch 61/200\n",
            "932/932 [==============================] - 45s 49ms/step - loss: 0.0028 - accuracy: 0.9993 - auc: 1.0000 - recall: 0.9992 - val_loss: 0.0170 - val_accuracy: 0.9979 - val_auc: 0.9997 - val_recall: 0.9973\n",
            "Epoch 62/200\n",
            "932/932 [==============================] - 45s 49ms/step - loss: 0.0051 - accuracy: 0.9986 - auc: 0.9999 - recall: 0.9985 - val_loss: 0.0248 - val_accuracy: 0.9967 - val_auc: 0.9994 - val_recall: 0.9967\n",
            "Epoch 63/200\n",
            "932/932 [==============================] - 47s 50ms/step - loss: 0.0031 - accuracy: 0.9991 - auc: 1.0000 - recall: 0.9989 - val_loss: 0.0215 - val_accuracy: 0.9967 - val_auc: 0.9997 - val_recall: 0.9967\n",
            "Epoch 64/200\n",
            "932/932 [==============================] - 45s 49ms/step - loss: 0.0036 - accuracy: 0.9991 - auc: 0.9999 - recall: 0.9991 - val_loss: 0.0349 - val_accuracy: 0.9946 - val_auc: 0.9992 - val_recall: 0.9943\n",
            "Epoch 65/200\n",
            "932/932 [==============================] - 45s 49ms/step - loss: 0.0031 - accuracy: 0.9992 - auc: 1.0000 - recall: 0.9991 - val_loss: 0.0217 - val_accuracy: 0.9970 - val_auc: 0.9995 - val_recall: 0.9970\n",
            "Epoch 66/200\n",
            "932/932 [==============================] - 45s 49ms/step - loss: 0.0029 - accuracy: 0.9992 - auc: 1.0000 - recall: 0.9991 - val_loss: 0.0256 - val_accuracy: 0.9970 - val_auc: 0.9995 - val_recall: 0.9964\n",
            "Epoch 67/200\n",
            "932/932 [==============================] - 45s 49ms/step - loss: 0.0022 - accuracy: 0.9993 - auc: 1.0000 - recall: 0.9991 - val_loss: 0.0245 - val_accuracy: 0.9967 - val_auc: 0.9995 - val_recall: 0.9964\n",
            "Epoch 68/200\n",
            "932/932 [==============================] - 46s 49ms/step - loss: 0.0040 - accuracy: 0.9989 - auc: 0.9999 - recall: 0.9988 - val_loss: 0.0234 - val_accuracy: 0.9979 - val_auc: 0.9997 - val_recall: 0.9970\n",
            "Epoch 69/200\n",
            "932/932 [==============================] - 46s 49ms/step - loss: 0.0032 - accuracy: 0.9991 - auc: 0.9999 - recall: 0.9990 - val_loss: 0.0223 - val_accuracy: 0.9979 - val_auc: 0.9997 - val_recall: 0.9976\n",
            "Epoch 70/200\n",
            "932/932 [==============================] - 46s 49ms/step - loss: 0.0032 - accuracy: 0.9993 - auc: 0.9999 - recall: 0.9992 - val_loss: 0.0243 - val_accuracy: 0.9976 - val_auc: 0.9997 - val_recall: 0.9973\n",
            "Epoch 71/200\n",
            "932/932 [==============================] - 45s 49ms/step - loss: 0.0039 - accuracy: 0.9989 - auc: 1.0000 - recall: 0.9987 - val_loss: 0.0271 - val_accuracy: 0.9967 - val_auc: 0.9995 - val_recall: 0.9967\n",
            "Epoch 72/200\n",
            "932/932 [==============================] - 45s 49ms/step - loss: 0.0018 - accuracy: 0.9996 - auc: 1.0000 - recall: 0.9996 - val_loss: 0.0263 - val_accuracy: 0.9982 - val_auc: 0.9997 - val_recall: 0.9982\n",
            "Epoch 73/200\n",
            "932/932 [==============================] - 45s 49ms/step - loss: 0.0043 - accuracy: 0.9988 - auc: 0.9999 - recall: 0.9987 - val_loss: 0.0270 - val_accuracy: 0.9967 - val_auc: 0.9995 - val_recall: 0.9964\n",
            "Epoch 74/200\n",
            "932/932 [==============================] - 45s 49ms/step - loss: 0.0028 - accuracy: 0.9992 - auc: 1.0000 - recall: 0.9992 - val_loss: 0.0298 - val_accuracy: 0.9967 - val_auc: 0.9995 - val_recall: 0.9967\n",
            "Epoch 75/200\n",
            "932/932 [==============================] - 45s 49ms/step - loss: 0.0029 - accuracy: 0.9993 - auc: 1.0000 - recall: 0.9993 - val_loss: 0.0227 - val_accuracy: 0.9973 - val_auc: 0.9997 - val_recall: 0.9973\n"
          ]
        },
        {
          "output_type": "display_data",
          "data": {
            "image/png": "[encoded data removed]",
            "text/plain": [
              "<Figure size 432x288 with 1 Axes>"
            ]
          },
          "metadata": {
            "needs_background": "light"
          }
        },
        {
          "output_type": "display_data",
          "data": {
            "image/png": "[encoded data removed]",
            "text/plain": [
              "<Figure size 432x288 with 1 Axes>"
            ]
          },
          "metadata": {
            "needs_background": "light"
          }
        }
      ]
    },
    {
      "cell_type": "code",
      "source": [
        "get_test_performance(model, X_test, test_label)"
      ],
      "metadata": {
        "id": "OGW1Wwk4Pvea",
        "colab": {
          "base_uri": "https://localhost:8080/"
        },
        "outputId": "5b03c2be-f1bf-4eec-eef4-45fc404878e4"
      },
      "execution_count": 19,
      "outputs": [
        {
          "output_type": "stream",
          "name": "stdout",
          "text": [
            "117/117 [==============================] - 2s 16ms/step - loss: 0.5444 - accuracy: 0.9463 - auc: 0.9816 - recall: 0.9457\n",
            "Test loss:0.5444061160087585\n",
            "Test accuracy:0.946256697177887\n",
            "Test Recall: 0.9457219243049622\n",
            "Test AUC: 0.9815859794616699\n"
          ]
        }
      ]
    },
    {
      "cell_type": "markdown",
      "source": [
        "dataset 2 identity"
      ],
      "metadata": {
        "id": "trf-FgzcQxZL"
      }
    },
    {
      "cell_type": "code",
      "source": [
        "np.random.seed(42)\n",
        "X_train = load_X('/content/drive/Shareddrives/MMH/TIFS20/Dataset #2/train/Inertial Signals')\n",
        "X_test = load_X('/content/drive/Shareddrives/MMH/TIFS20/Dataset #2/test/Inertial Signals')\n",
        "train_label = load_y('/content/drive/Shareddrives/MMH/TIFS20/Dataset #2/train/y_train.txt')\n",
        "test_label = load_y('/content/drive/Shareddrives/MMH/TIFS20/Dataset #2/test/y_test.txt')\n",
        "shape = ((X_train.shape[1], X_train.shape[2]), train_label.shape[1])\n",
        "num_classes = 20\n",
        "cyclical_learning_rate = CyclicalLearningRate(\n",
        "    initial_learning_rate=0.0001,maximal_learning_rate=0.1,step_size=(X_train[0]*0.9*10)/32,scale_fn=lambda x: 1 / (2.0 ** (x - 1)),scale_mode='cycle')"
      ],
      "metadata": {
        "id": "KbFp_ytOQJtR"
      },
      "execution_count": 20,
      "outputs": []
    },
    {
      "cell_type": "code",
      "source": [
        "if gpu:\n",
        "    model = MLSTM_FCN((X_train.shape[1], X_train.shape[2]), train_label.shape[1])\n",
        "    history = model.fit(X_train,train_label,batch_size=32,epochs=200,verbose=1,callbacks=[tensorflow.keras.callbacks.EarlyStopping('val_loss', patience=30,restore_best_weights=True)],validation_split=0.1)\n",
        "if tpu:\n",
        "    with strategy.scope():\n",
        "        model = MLSTM_FCN((X_train.shape[1], X_train.shape[2]), train_label.shape[1])\n",
        "        history = model.fit(X_train,train_label,batch_size=8*32,epochs=200,verbose=1,callbacks=[tensorflow.keras.callbacks.EarlyStopping('val_loss', patience=30,restore_best_weights=True)],validation_split=0.1)\n",
        "\n",
        "plot_performance(X_train, train_label, history)"
      ],
      "metadata": {
        "id": "e8Y196pyQMfI",
        "colab": {
          "base_uri": "https://localhost:8080/",
          "height": 1000
        },
        "outputId": "c6bbb7c8-77f3-4463-f557-b5dc66b86201"
      },
      "execution_count": 21,
      "outputs": [
        {
          "output_type": "stream",
          "name": "stdout",
          "text": [
            "Model: \"model_2\"\n",
            "_________________________________________________________________\n",
            " Layer (type)                Output Shape              Param #   \n",
            "=================================================================\n",
            " input_3 (InputLayer)        [(None, 6, 128)]          0         \n",
            "                                                                 \n",
            " permute_2 (Permute)         (None, 128, 6)            0         \n",
            "                                                                 \n",
            " conv1d_6 (Conv1D)           (None, 128, 32)           1760      \n",
            "                                                                 \n",
            " batch_normalization_6 (Batc  (None, 128, 32)          128       \n",
            " hNormalization)                                                 \n",
            "                                                                 \n",
            " activation_6 (Activation)   (None, 128, 32)           0         \n",
            "                                                                 \n",
            " conv1d_7 (Conv1D)           (None, 128, 512)          147968    \n",
            "                                                                 \n",
            " batch_normalization_7 (Batc  (None, 128, 512)         2048      \n",
            " hNormalization)                                                 \n",
            "                                                                 \n",
            " activation_7 (Activation)   (None, 128, 512)          0         \n",
            "                                                                 \n",
            " conv1d_8 (Conv1D)           (None, 128, 512)          2359808   \n",
            "                                                                 \n",
            " batch_normalization_8 (Batc  (None, 128, 512)         2048      \n",
            " hNormalization)                                                 \n",
            "                                                                 \n",
            " activation_8 (Activation)   (None, 128, 512)          0         \n",
            "                                                                 \n",
            " global_average_pooling1d_2   (None, 512)              0         \n",
            " (GlobalAveragePooling1D)                                        \n",
            "                                                                 \n",
            " dense_2 (Dense)             (None, 20)                10260     \n",
            "                                                                 \n",
            "=================================================================\n",
            "Total params: 2,524,020\n",
            "Trainable params: 2,521,908\n",
            "Non-trainable params: 2,112\n",
            "_________________________________________________________________\n",
            "Epoch 1/200\n",
            "1248/1248 [==============================] - 63s 49ms/step - loss: 0.1498 - accuracy: 0.9647 - auc: 0.9981 - recall: 0.9480 - val_loss: 0.2334 - val_accuracy: 0.9326 - val_auc: 0.9957 - val_recall: 0.9292\n",
            "Epoch 2/200\n",
            "1248/1248 [==============================] - 61s 49ms/step - loss: 0.0408 - accuracy: 0.9896 - auc: 0.9996 - recall: 0.9874 - val_loss: 0.0806 - val_accuracy: 0.9759 - val_auc: 0.9989 - val_recall: 0.9698\n",
            "Epoch 3/200\n",
            "1248/1248 [==============================] - 60s 48ms/step - loss: 0.0304 - accuracy: 0.9915 - auc: 0.9997 - recall: 0.9899 - val_loss: 0.0559 - val_accuracy: 0.9842 - val_auc: 0.9995 - val_recall: 0.9826\n",
            "Epoch 4/200\n",
            "1248/1248 [==============================] - 60s 48ms/step - loss: 0.0206 - accuracy: 0.9945 - auc: 0.9998 - recall: 0.9933 - val_loss: 0.0274 - val_accuracy: 0.9921 - val_auc: 0.9995 - val_recall: 0.9910\n",
            "Epoch 5/200\n",
            "1248/1248 [==============================] - 60s 48ms/step - loss: 0.0192 - accuracy: 0.9945 - auc: 0.9998 - recall: 0.9936 - val_loss: 0.0240 - val_accuracy: 0.9919 - val_auc: 0.9998 - val_recall: 0.9910\n",
            "Epoch 6/200\n",
            "1248/1248 [==============================] - 60s 48ms/step - loss: 0.0147 - accuracy: 0.9955 - auc: 0.9999 - recall: 0.9947 - val_loss: 0.0200 - val_accuracy: 0.9946 - val_auc: 0.9995 - val_recall: 0.9937\n",
            "Epoch 7/200\n",
            "1248/1248 [==============================] - 60s 48ms/step - loss: 0.0131 - accuracy: 0.9962 - auc: 1.0000 - recall: 0.9953 - val_loss: 0.0293 - val_accuracy: 0.9919 - val_auc: 0.9997 - val_recall: 0.9914\n",
            "Epoch 8/200\n",
            "1248/1248 [==============================] - 60s 48ms/step - loss: 0.0118 - accuracy: 0.9966 - auc: 0.9999 - recall: 0.9961 - val_loss: 0.0320 - val_accuracy: 0.9928 - val_auc: 0.9993 - val_recall: 0.9919\n",
            "Epoch 9/200\n",
            "1248/1248 [==============================] - 61s 49ms/step - loss: 0.0089 - accuracy: 0.9974 - auc: 0.9999 - recall: 0.9970 - val_loss: 0.4243 - val_accuracy: 0.9461 - val_auc: 0.9827 - val_recall: 0.9454\n",
            "Epoch 10/200\n",
            "1248/1248 [==============================] - 60s 48ms/step - loss: 0.0079 - accuracy: 0.9975 - auc: 1.0000 - recall: 0.9968 - val_loss: 0.0461 - val_accuracy: 0.9865 - val_auc: 0.9991 - val_recall: 0.9858\n",
            "Epoch 11/200\n",
            "1248/1248 [==============================] - 60s 48ms/step - loss: 0.0081 - accuracy: 0.9975 - auc: 1.0000 - recall: 0.9970 - val_loss: 0.0364 - val_accuracy: 0.9905 - val_auc: 0.9993 - val_recall: 0.9901\n",
            "Epoch 12/200\n",
            "1248/1248 [==============================] - 60s 48ms/step - loss: 0.0079 - accuracy: 0.9978 - auc: 0.9999 - recall: 0.9973 - val_loss: 0.0118 - val_accuracy: 0.9962 - val_auc: 0.9999 - val_recall: 0.9962\n",
            "Epoch 13/200\n",
            "1248/1248 [==============================] - 60s 48ms/step - loss: 0.0071 - accuracy: 0.9980 - auc: 0.9999 - recall: 0.9976 - val_loss: 0.0108 - val_accuracy: 0.9964 - val_auc: 0.9999 - val_recall: 0.9964\n",
            "Epoch 14/200\n",
            "1248/1248 [==============================] - 60s 48ms/step - loss: 0.0052 - accuracy: 0.9984 - auc: 1.0000 - recall: 0.9981 - val_loss: 0.0185 - val_accuracy: 0.9959 - val_auc: 0.9993 - val_recall: 0.9953\n",
            "Epoch 15/200\n",
            "1248/1248 [==============================] - 60s 48ms/step - loss: 0.0067 - accuracy: 0.9979 - auc: 0.9999 - recall: 0.9977 - val_loss: 0.0171 - val_accuracy: 0.9953 - val_auc: 0.9994 - val_recall: 0.9950\n",
            "Epoch 16/200\n",
            "1248/1248 [==============================] - 61s 49ms/step - loss: 0.0041 - accuracy: 0.9989 - auc: 0.9999 - recall: 0.9985 - val_loss: 0.0096 - val_accuracy: 0.9971 - val_auc: 0.9998 - val_recall: 0.9966\n",
            "Epoch 17/200\n",
            "1248/1248 [==============================] - 60s 48ms/step - loss: 0.0044 - accuracy: 0.9987 - auc: 1.0000 - recall: 0.9984 - val_loss: 0.0182 - val_accuracy: 0.9950 - val_auc: 0.9994 - val_recall: 0.9948\n",
            "Epoch 18/200\n",
            "1248/1248 [==============================] - 60s 48ms/step - loss: 0.0047 - accuracy: 0.9988 - auc: 0.9999 - recall: 0.9985 - val_loss: 0.0098 - val_accuracy: 0.9959 - val_auc: 0.9999 - val_recall: 0.9959\n",
            "Epoch 19/200\n",
            "1248/1248 [==============================] - 60s 48ms/step - loss: 0.0068 - accuracy: 0.9981 - auc: 0.9999 - recall: 0.9978 - val_loss: 0.0114 - val_accuracy: 0.9968 - val_auc: 0.9995 - val_recall: 0.9964\n",
            "Epoch 20/200\n",
            "1248/1248 [==============================] - 60s 48ms/step - loss: 0.0029 - accuracy: 0.9992 - auc: 1.0000 - recall: 0.9989 - val_loss: 0.0116 - val_accuracy: 0.9971 - val_auc: 0.9998 - val_recall: 0.9968\n",
            "Epoch 21/200\n",
            "1248/1248 [==============================] - 60s 48ms/step - loss: 0.0032 - accuracy: 0.9991 - auc: 1.0000 - recall: 0.9990 - val_loss: 0.0123 - val_accuracy: 0.9973 - val_auc: 0.9997 - val_recall: 0.9971\n",
            "Epoch 22/200\n",
            "1248/1248 [==============================] - 60s 48ms/step - loss: 0.0033 - accuracy: 0.9991 - auc: 1.0000 - recall: 0.9988 - val_loss: 0.0119 - val_accuracy: 0.9968 - val_auc: 0.9998 - val_recall: 0.9964\n",
            "Epoch 23/200\n",
            "1248/1248 [==============================] - 60s 48ms/step - loss: 0.0032 - accuracy: 0.9990 - auc: 0.9999 - recall: 0.9990 - val_loss: 0.0105 - val_accuracy: 0.9975 - val_auc: 0.9998 - val_recall: 0.9973\n",
            "Epoch 24/200\n",
            "1248/1248 [==============================] - 60s 48ms/step - loss: 0.0029 - accuracy: 0.9993 - auc: 1.0000 - recall: 0.9991 - val_loss: 0.0148 - val_accuracy: 0.9982 - val_auc: 0.9997 - val_recall: 0.9977\n",
            "Epoch 25/200\n",
            "1248/1248 [==============================] - 60s 48ms/step - loss: 0.0038 - accuracy: 0.9988 - auc: 1.0000 - recall: 0.9986 - val_loss: 0.0490 - val_accuracy: 0.9919 - val_auc: 0.9984 - val_recall: 0.9910\n",
            "Epoch 26/200\n",
            "1248/1248 [==============================] - 60s 48ms/step - loss: 0.0038 - accuracy: 0.9990 - auc: 0.9999 - recall: 0.9989 - val_loss: 0.0174 - val_accuracy: 0.9962 - val_auc: 0.9995 - val_recall: 0.9959\n",
            "Epoch 27/200\n",
            "1248/1248 [==============================] - 60s 48ms/step - loss: 0.0019 - accuracy: 0.9995 - auc: 1.0000 - recall: 0.9993 - val_loss: 0.0175 - val_accuracy: 0.9957 - val_auc: 0.9998 - val_recall: 0.9955\n",
            "Epoch 28/200\n",
            "1248/1248 [==============================] - 60s 48ms/step - loss: 0.0015 - accuracy: 0.9996 - auc: 1.0000 - recall: 0.9995 - val_loss: 0.0168 - val_accuracy: 0.9962 - val_auc: 0.9995 - val_recall: 0.9962\n",
            "Epoch 29/200\n",
            "1248/1248 [==============================] - 60s 48ms/step - loss: 0.0021 - accuracy: 0.9993 - auc: 1.0000 - recall: 0.9992 - val_loss: 0.0172 - val_accuracy: 0.9966 - val_auc: 0.9993 - val_recall: 0.9964\n",
            "Epoch 30/200\n",
            "1248/1248 [==============================] - 60s 48ms/step - loss: 0.0026 - accuracy: 0.9992 - auc: 1.0000 - recall: 0.9992 - val_loss: 0.0202 - val_accuracy: 0.9962 - val_auc: 0.9993 - val_recall: 0.9962\n",
            "Epoch 31/200\n",
            "1248/1248 [==============================] - 60s 48ms/step - loss: 0.0022 - accuracy: 0.9994 - auc: 1.0000 - recall: 0.9994 - val_loss: 0.0162 - val_accuracy: 0.9966 - val_auc: 0.9995 - val_recall: 0.9966\n",
            "Epoch 32/200\n",
            "1248/1248 [==============================] - 60s 48ms/step - loss: 0.0024 - accuracy: 0.9994 - auc: 1.0000 - recall: 0.9993 - val_loss: 0.0178 - val_accuracy: 0.9959 - val_auc: 0.9993 - val_recall: 0.9959\n",
            "Epoch 33/200\n",
            "1248/1248 [==============================] - 60s 48ms/step - loss: 0.0021 - accuracy: 0.9993 - auc: 1.0000 - recall: 0.9992 - val_loss: 0.0209 - val_accuracy: 0.9953 - val_auc: 0.9995 - val_recall: 0.9953\n",
            "Epoch 34/200\n",
            "1248/1248 [==============================] - 60s 48ms/step - loss: 0.0021 - accuracy: 0.9995 - auc: 1.0000 - recall: 0.9994 - val_loss: 0.0133 - val_accuracy: 0.9971 - val_auc: 0.9995 - val_recall: 0.9968\n",
            "Epoch 35/200\n",
            "1248/1248 [==============================] - 61s 49ms/step - loss: 9.9940e-04 - accuracy: 0.9997 - auc: 1.0000 - recall: 0.9996 - val_loss: 0.0191 - val_accuracy: 0.9968 - val_auc: 0.9995 - val_recall: 0.9966\n",
            "Epoch 36/200\n",
            "1248/1248 [==============================] - 60s 48ms/step - loss: 0.0012 - accuracy: 0.9996 - auc: 1.0000 - recall: 0.9996 - val_loss: 0.0140 - val_accuracy: 0.9977 - val_auc: 0.9995 - val_recall: 0.9977\n",
            "Epoch 37/200\n",
            "1248/1248 [==============================] - 60s 48ms/step - loss: 0.0025 - accuracy: 0.9993 - auc: 0.9999 - recall: 0.9993 - val_loss: 0.0265 - val_accuracy: 0.9944 - val_auc: 0.9992 - val_recall: 0.9944\n",
            "Epoch 38/200\n",
            "1248/1248 [==============================] - 61s 49ms/step - loss: 0.0017 - accuracy: 0.9995 - auc: 1.0000 - recall: 0.9995 - val_loss: 0.0120 - val_accuracy: 0.9973 - val_auc: 0.9997 - val_recall: 0.9973\n",
            "Epoch 39/200\n",
            "1248/1248 [==============================] - 61s 49ms/step - loss: 0.0028 - accuracy: 0.9991 - auc: 0.9999 - recall: 0.9991 - val_loss: 0.0150 - val_accuracy: 0.9971 - val_auc: 0.9995 - val_recall: 0.9971\n",
            "Epoch 40/200\n",
            "1248/1248 [==============================] - 61s 49ms/step - loss: 0.0014 - accuracy: 0.9997 - auc: 1.0000 - recall: 0.9996 - val_loss: 0.0132 - val_accuracy: 0.9973 - val_auc: 0.9995 - val_recall: 0.9971\n",
            "Epoch 41/200\n",
            "1248/1248 [==============================] - 61s 49ms/step - loss: 0.0012 - accuracy: 0.9996 - auc: 1.0000 - recall: 0.9996 - val_loss: 0.0145 - val_accuracy: 0.9971 - val_auc: 0.9995 - val_recall: 0.9971\n",
            "Epoch 42/200\n",
            "1248/1248 [==============================] - 60s 48ms/step - loss: 0.0023 - accuracy: 0.9995 - auc: 1.0000 - recall: 0.9994 - val_loss: 0.0163 - val_accuracy: 0.9968 - val_auc: 0.9994 - val_recall: 0.9968\n",
            "Epoch 43/200\n",
            "1248/1248 [==============================] - 60s 48ms/step - loss: 0.0020 - accuracy: 0.9995 - auc: 1.0000 - recall: 0.9994 - val_loss: 0.0210 - val_accuracy: 0.9973 - val_auc: 0.9993 - val_recall: 0.9971\n",
            "Epoch 44/200\n",
            "1248/1248 [==============================] - 61s 49ms/step - loss: 0.0014 - accuracy: 0.9997 - auc: 1.0000 - recall: 0.9997 - val_loss: 0.0169 - val_accuracy: 0.9968 - val_auc: 0.9993 - val_recall: 0.9966\n",
            "Epoch 45/200\n",
            "1248/1248 [==============================] - 61s 49ms/step - loss: 8.8913e-04 - accuracy: 0.9998 - auc: 1.0000 - recall: 0.9998 - val_loss: 0.0138 - val_accuracy: 0.9971 - val_auc: 0.9995 - val_recall: 0.9966\n",
            "Epoch 46/200\n",
            "1248/1248 [==============================] - 61s 48ms/step - loss: 0.0012 - accuracy: 0.9997 - auc: 1.0000 - recall: 0.9996 - val_loss: 0.0143 - val_accuracy: 0.9973 - val_auc: 0.9994 - val_recall: 0.9973\n"
          ]
        },
        {
          "output_type": "display_data",
          "data": {
            "image/png": "[encoded data removed]",
            "text/plain": [
              "<Figure size 432x288 with 1 Axes>"
            ]
          },
          "metadata": {
            "needs_background": "light"
          }
        },
        {
          "output_type": "display_data",
          "data": {
            "image/png": "[encoded data removed]",
            "text/plain": [
              "<Figure size 432x288 with 1 Axes>"
            ]
          },
          "metadata": {
            "needs_background": "light"
          }
        }
      ]
    },
    {
      "cell_type": "code",
      "source": [
        "get_test_performance(model, X_test, test_label)"
      ],
      "metadata": {
        "id": "oddBS-O9QPt5",
        "colab": {
          "base_uri": "https://localhost:8080/"
        },
        "outputId": "7bcaaf83-3b34-4ff0-bdcc-897177d36aa0"
      },
      "execution_count": 22,
      "outputs": [
        {
          "output_type": "stream",
          "name": "stdout",
          "text": [
            "155/155 [==============================] - 2s 16ms/step - loss: 0.1687 - accuracy: 0.9757 - auc: 0.9914 - recall: 0.9743\n",
            "Test loss:0.16872155666351318\n",
            "Test accuracy:0.9756888151168823\n",
            "Test Recall: 0.9742706418037415\n",
            "Test AUC: 0.9914333820343018\n"
          ]
        }
      ]
    },
    {
      "cell_type": "markdown",
      "source": [
        "dataset ou identity"
      ],
      "metadata": {
        "id": "YHe2cavuQ2yP"
      }
    },
    {
      "cell_type": "code",
      "source": [
        "num_classes = 745\n",
        "np.random.seed(42)\n",
        "X_train = load_X('/content/drive/Shareddrives/MMH/TIFS20/OU-ISIR_sensors_dataset/identification/data/train/data')\n",
        "X_test = load_X('/content/drive/Shareddrives/MMH/TIFS20/OU-ISIR_sensors_dataset/identification/data/test/data')\n",
        "train_label = load_y('/content/drive/Shareddrives/MMH/TIFS20/OU-ISIR_sensors_dataset/identification/data/train/train_y.txt')\n",
        "test_label = load_y('/content/drive/Shareddrives/MMH/TIFS20/OU-ISIR_sensors_dataset/identification/data/test/test_y.txt')\n",
        "print(f'{X_train.shape} {X_test.shape}')\n",
        "model = MLSTM_FCN((X_train.shape[1], X_train.shape[2]), train_label.shape[1])\n",
        "cyclical_learning_rate = CyclicalLearningRate(\n",
        "    initial_learning_rate=0.0001,maximal_learning_rate=0.1,step_size=(X_train[0]*0.9*10)/32,scale_fn=lambda x: 1 / (2.0 ** (x - 1)),scale_mode='cycle')"
      ],
      "metadata": {
        "id": "UPQQ2nXVQgWe",
        "colab": {
          "base_uri": "https://localhost:8080/"
        },
        "outputId": "c6823340-c579-4031-aeac-53c20a4eff4d"
      },
      "execution_count": 23,
      "outputs": [
        {
          "output_type": "stream",
          "name": "stdout",
          "text": [
            "(13212, 6, 128, 1) (1409, 6, 128, 1)\n",
            "Model: \"model_3\"\n",
            "_________________________________________________________________\n",
            " Layer (type)                Output Shape              Param #   \n",
            "=================================================================\n",
            " input_4 (InputLayer)        [(None, 6, 128)]          0         \n",
            "                                                                 \n",
            " permute_3 (Permute)         (None, 128, 6)            0         \n",
            "                                                                 \n",
            " conv1d_9 (Conv1D)           (None, 128, 32)           1760      \n",
            "                                                                 \n",
            " batch_normalization_9 (Batc  (None, 128, 32)          128       \n",
            " hNormalization)                                                 \n",
            "                                                                 \n",
            " activation_9 (Activation)   (None, 128, 32)           0         \n",
            "                                                                 \n",
            " conv1d_10 (Conv1D)          (None, 128, 512)          147968    \n",
            "                                                                 \n",
            " batch_normalization_10 (Bat  (None, 128, 512)         2048      \n",
            " chNormalization)                                                \n",
            "                                                                 \n",
            " activation_10 (Activation)  (None, 128, 512)          0         \n",
            "                                                                 \n",
            " conv1d_11 (Conv1D)          (None, 128, 512)          2359808   \n",
            "                                                                 \n",
            " batch_normalization_11 (Bat  (None, 128, 512)         2048      \n",
            " chNormalization)                                                \n",
            "                                                                 \n",
            " activation_11 (Activation)  (None, 128, 512)          0         \n",
            "                                                                 \n",
            " global_average_pooling1d_3   (None, 512)              0         \n",
            " (GlobalAveragePooling1D)                                        \n",
            "                                                                 \n",
            " dense_3 (Dense)             (None, 745)               382185    \n",
            "                                                                 \n",
            "=================================================================\n",
            "Total params: 2,895,945\n",
            "Trainable params: 2,893,833\n",
            "Non-trainable params: 2,112\n",
            "_________________________________________________________________\n"
          ]
        }
      ]
    },
    {
      "cell_type": "code",
      "source": [
        "if gpu:\n",
        "    model = MLSTM_FCN((X_train.shape[1], X_train.shape[2]), train_label.shape[1])\n",
        "    history = model.fit(X_train,train_label,batch_size=32,epochs=200,verbose=1,callbacks=[tensorflow.keras.callbacks.EarlyStopping('val_loss', patience=30,restore_best_weights=True)],validation_split=0.1)\n",
        "if tpu:\n",
        "    with strategy.scope():\n",
        "        model = MLSTM_FCN((X_train.shape[1], X_train.shape[2]), train_label.shape[1])\n",
        "        history = model.fit(X_train,train_label,batch_size=8*32,epochs=200,verbose=1,callbacks=[tensorflow.keras.callbacks.EarlyStopping('val_loss', patience=30,restore_best_weights=True)],validation_split=0.1)\n",
        "\n",
        "plot_performance(X_train, train_label, history)"
      ],
      "metadata": {
        "id": "wF0Bw8DiQqj9",
        "colab": {
          "base_uri": "https://localhost:8080/",
          "height": 1000
        },
        "outputId": "bdb77f70-27f5-415e-e438-905e1a21ee3e"
      },
      "execution_count": 24,
      "outputs": [
        {
          "output_type": "stream",
          "name": "stdout",
          "text": [
            "Model: \"model_4\"\n",
            "_________________________________________________________________\n",
            " Layer (type)                Output Shape              Param #   \n",
            "=================================================================\n",
            " input_5 (InputLayer)        [(None, 6, 128)]          0         \n",
            "                                                                 \n",
            " permute_4 (Permute)         (None, 128, 6)            0         \n",
            "                                                                 \n",
            " conv1d_12 (Conv1D)          (None, 128, 32)           1760      \n",
            "                                                                 \n",
            " batch_normalization_12 (Bat  (None, 128, 32)          128       \n",
            " chNormalization)                                                \n",
            "                                                                 \n",
            " activation_12 (Activation)  (None, 128, 32)           0         \n",
            "                                                                 \n",
            " conv1d_13 (Conv1D)          (None, 128, 512)          147968    \n",
            "                                                                 \n",
            " batch_normalization_13 (Bat  (None, 128, 512)         2048      \n",
            " chNormalization)                                                \n",
            "                                                                 \n",
            " activation_13 (Activation)  (None, 128, 512)          0         \n",
            "                                                                 \n",
            " conv1d_14 (Conv1D)          (None, 128, 512)          2359808   \n",
            "                                                                 \n",
            " batch_normalization_14 (Bat  (None, 128, 512)         2048      \n",
            " chNormalization)                                                \n",
            "                                                                 \n",
            " activation_14 (Activation)  (None, 128, 512)          0         \n",
            "                                                                 \n",
            " global_average_pooling1d_4   (None, 512)              0         \n",
            " (GlobalAveragePooling1D)                                        \n",
            "                                                                 \n",
            " dense_4 (Dense)             (None, 745)               382185    \n",
            "                                                                 \n",
            "=================================================================\n",
            "Total params: 2,895,945\n",
            "Trainable params: 2,893,833\n",
            "Non-trainable params: 2,112\n",
            "_________________________________________________________________\n",
            "Epoch 1/200\n",
            "372/372 [==============================] - 21s 52ms/step - loss: 5.3358 - accuracy: 0.1082 - auc: 0.7243 - recall: 0.0014 - val_loss: 4.4039 - val_accuracy: 0.1286 - val_auc: 0.8348 - val_recall: 0.0053\n",
            "Epoch 2/200\n",
            "372/372 [==============================] - 19s 50ms/step - loss: 2.1371 - accuracy: 0.6246 - auc: 0.9862 - recall: 0.1692 - val_loss: 1.3845 - val_accuracy: 0.7731 - val_auc: 0.9957 - val_recall: 0.3245\n",
            "Epoch 3/200\n",
            "372/372 [==============================] - 19s 50ms/step - loss: 0.6171 - accuracy: 0.9253 - auc: 0.9989 - recall: 0.7147 - val_loss: 0.6338 - val_accuracy: 0.8759 - val_auc: 0.9975 - val_recall: 0.7383\n",
            "Epoch 4/200\n",
            "372/372 [==============================] - 18s 50ms/step - loss: 0.2371 - accuracy: 0.9754 - auc: 0.9998 - recall: 0.9204 - val_loss: 0.3636 - val_accuracy: 0.9342 - val_auc: 0.9980 - val_recall: 0.8669\n",
            "Epoch 5/200\n",
            "372/372 [==============================] - 19s 50ms/step - loss: 0.1078 - accuracy: 0.9931 - auc: 0.9999 - recall: 0.9756 - val_loss: 0.2947 - val_accuracy: 0.9433 - val_auc: 0.9988 - val_recall: 0.8865\n",
            "Epoch 6/200\n",
            "372/372 [==============================] - 19s 50ms/step - loss: 0.0649 - accuracy: 0.9953 - auc: 1.0000 - recall: 0.9876 - val_loss: 0.1889 - val_accuracy: 0.9705 - val_auc: 0.9988 - val_recall: 0.9395\n",
            "Epoch 7/200\n",
            "372/372 [==============================] - 18s 50ms/step - loss: 0.0290 - accuracy: 0.9993 - auc: 1.0000 - recall: 0.9983 - val_loss: 0.1374 - val_accuracy: 0.9796 - val_auc: 0.9992 - val_recall: 0.9546\n",
            "Epoch 8/200\n",
            "372/372 [==============================] - 18s 50ms/step - loss: 0.0177 - accuracy: 0.9997 - auc: 1.0000 - recall: 0.9997 - val_loss: 0.3070 - val_accuracy: 0.9266 - val_auc: 0.9977 - val_recall: 0.8933\n",
            "Epoch 9/200\n",
            "372/372 [==============================] - 18s 50ms/step - loss: 0.0278 - accuracy: 0.9976 - auc: 0.9999 - recall: 0.9963 - val_loss: 0.1915 - val_accuracy: 0.9546 - val_auc: 0.9985 - val_recall: 0.9274\n",
            "Epoch 10/200\n",
            "372/372 [==============================] - 19s 50ms/step - loss: 0.0725 - accuracy: 0.9881 - auc: 0.9995 - recall: 0.9815 - val_loss: 0.5497 - val_accuracy: 0.8457 - val_auc: 0.9919 - val_recall: 0.7980\n",
            "Epoch 11/200\n",
            "372/372 [==============================] - 19s 50ms/step - loss: 0.0657 - accuracy: 0.9869 - auc: 0.9996 - recall: 0.9821 - val_loss: 0.1749 - val_accuracy: 0.9599 - val_auc: 0.9970 - val_recall: 0.9463\n",
            "Epoch 12/200\n",
            "372/372 [==============================] - 18s 50ms/step - loss: 0.0167 - accuracy: 0.9974 - auc: 1.0000 - recall: 0.9969 - val_loss: 0.0447 - val_accuracy: 0.9947 - val_auc: 0.9992 - val_recall: 0.9924\n",
            "Epoch 13/200\n",
            "372/372 [==============================] - 18s 50ms/step - loss: 0.0151 - accuracy: 0.9976 - auc: 0.9998 - recall: 0.9972 - val_loss: 0.0486 - val_accuracy: 0.9887 - val_auc: 0.9996 - val_recall: 0.9841\n",
            "Epoch 14/200\n",
            "372/372 [==============================] - 18s 50ms/step - loss: 0.0135 - accuracy: 0.9981 - auc: 0.9999 - recall: 0.9976 - val_loss: 0.0664 - val_accuracy: 0.9871 - val_auc: 0.9989 - val_recall: 0.9803\n",
            "Epoch 15/200\n",
            "372/372 [==============================] - 18s 50ms/step - loss: 0.0039 - accuracy: 0.9998 - auc: 1.0000 - recall: 0.9997 - val_loss: 0.0512 - val_accuracy: 0.9924 - val_auc: 0.9989 - val_recall: 0.9849\n",
            "Epoch 16/200\n",
            "372/372 [==============================] - 19s 50ms/step - loss: 0.0021 - accuracy: 1.0000 - auc: 1.0000 - recall: 1.0000 - val_loss: 0.0347 - val_accuracy: 0.9955 - val_auc: 0.9989 - val_recall: 0.9924\n",
            "Epoch 17/200\n",
            "372/372 [==============================] - 18s 50ms/step - loss: 0.0011 - accuracy: 1.0000 - auc: 1.0000 - recall: 1.0000 - val_loss: 0.0337 - val_accuracy: 0.9947 - val_auc: 0.9989 - val_recall: 0.9932\n",
            "Epoch 18/200\n",
            "372/372 [==============================] - 18s 50ms/step - loss: 8.8149e-04 - accuracy: 1.0000 - auc: 1.0000 - recall: 1.0000 - val_loss: 0.0324 - val_accuracy: 0.9955 - val_auc: 0.9989 - val_recall: 0.9939\n",
            "Epoch 19/200\n",
            "372/372 [==============================] - 19s 50ms/step - loss: 0.2062 - accuracy: 0.9468 - auc: 0.9964 - recall: 0.9353 - val_loss: 0.4344 - val_accuracy: 0.8880 - val_auc: 0.9908 - val_recall: 0.8699\n",
            "Epoch 20/200\n",
            "372/372 [==============================] - 19s 50ms/step - loss: 0.0256 - accuracy: 0.9939 - auc: 0.9999 - recall: 0.9916 - val_loss: 0.1285 - val_accuracy: 0.9614 - val_auc: 0.9989 - val_recall: 0.9478\n",
            "Epoch 21/200\n",
            "372/372 [==============================] - 18s 50ms/step - loss: 0.0050 - accuracy: 0.9995 - auc: 1.0000 - recall: 0.9993 - val_loss: 0.0506 - val_accuracy: 0.9894 - val_auc: 0.9989 - val_recall: 0.9879\n",
            "Epoch 22/200\n",
            "372/372 [==============================] - 18s 50ms/step - loss: 0.0017 - accuracy: 1.0000 - auc: 1.0000 - recall: 0.9999 - val_loss: 0.0358 - val_accuracy: 0.9917 - val_auc: 0.9992 - val_recall: 0.9902\n",
            "Epoch 23/200\n",
            "372/372 [==============================] - 19s 50ms/step - loss: 0.0010 - accuracy: 1.0000 - auc: 1.0000 - recall: 1.0000 - val_loss: 0.0336 - val_accuracy: 0.9924 - val_auc: 0.9992 - val_recall: 0.9917\n",
            "Epoch 24/200\n",
            "372/372 [==============================] - 19s 50ms/step - loss: 8.1337e-04 - accuracy: 1.0000 - auc: 1.0000 - recall: 1.0000 - val_loss: 0.0336 - val_accuracy: 0.9924 - val_auc: 0.9992 - val_recall: 0.9902\n",
            "Epoch 25/200\n",
            "372/372 [==============================] - 18s 50ms/step - loss: 7.2558e-04 - accuracy: 1.0000 - auc: 1.0000 - recall: 1.0000 - val_loss: 0.0327 - val_accuracy: 0.9932 - val_auc: 0.9992 - val_recall: 0.9917\n",
            "Epoch 26/200\n",
            "372/372 [==============================] - 19s 50ms/step - loss: 6.5214e-04 - accuracy: 1.0000 - auc: 1.0000 - recall: 1.0000 - val_loss: 0.0344 - val_accuracy: 0.9924 - val_auc: 0.9989 - val_recall: 0.9917\n",
            "Epoch 27/200\n",
            "372/372 [==============================] - 18s 50ms/step - loss: 6.0054e-04 - accuracy: 1.0000 - auc: 1.0000 - recall: 1.0000 - val_loss: 0.0308 - val_accuracy: 0.9924 - val_auc: 0.9992 - val_recall: 0.9924\n",
            "Epoch 28/200\n",
            "372/372 [==============================] - 19s 50ms/step - loss: 4.2731e-04 - accuracy: 1.0000 - auc: 1.0000 - recall: 1.0000 - val_loss: 0.0281 - val_accuracy: 0.9939 - val_auc: 0.9992 - val_recall: 0.9932\n",
            "Epoch 29/200\n",
            "372/372 [==============================] - 19s 50ms/step - loss: 3.8587e-04 - accuracy: 1.0000 - auc: 1.0000 - recall: 1.0000 - val_loss: 0.0318 - val_accuracy: 0.9939 - val_auc: 0.9992 - val_recall: 0.9932\n",
            "Epoch 30/200\n",
            "372/372 [==============================] - 19s 50ms/step - loss: 3.7055e-04 - accuracy: 1.0000 - auc: 1.0000 - recall: 1.0000 - val_loss: 0.0304 - val_accuracy: 0.9939 - val_auc: 0.9996 - val_recall: 0.9924\n",
            "Epoch 31/200\n",
            "372/372 [==============================] - 19s 50ms/step - loss: 0.1857 - accuracy: 0.9523 - auc: 0.9961 - recall: 0.9430 - val_loss: 0.1908 - val_accuracy: 0.9501 - val_auc: 0.9962 - val_recall: 0.9387\n",
            "Epoch 32/200\n",
            "372/372 [==============================] - 19s 50ms/step - loss: 0.0126 - accuracy: 0.9973 - auc: 0.9999 - recall: 0.9966 - val_loss: 0.0564 - val_accuracy: 0.9894 - val_auc: 0.9989 - val_recall: 0.9856\n",
            "Epoch 33/200\n",
            "372/372 [==============================] - 18s 50ms/step - loss: 0.0040 - accuracy: 0.9993 - auc: 1.0000 - recall: 0.9991 - val_loss: 0.0370 - val_accuracy: 0.9947 - val_auc: 0.9989 - val_recall: 0.9917\n",
            "Epoch 34/200\n",
            "372/372 [==============================] - 19s 50ms/step - loss: 0.0012 - accuracy: 1.0000 - auc: 1.0000 - recall: 1.0000 - val_loss: 0.0313 - val_accuracy: 0.9947 - val_auc: 0.9992 - val_recall: 0.9932\n",
            "Epoch 35/200\n",
            "372/372 [==============================] - 18s 50ms/step - loss: 6.9316e-04 - accuracy: 1.0000 - auc: 1.0000 - recall: 1.0000 - val_loss: 0.0282 - val_accuracy: 0.9947 - val_auc: 0.9992 - val_recall: 0.9932\n",
            "Epoch 36/200\n",
            "372/372 [==============================] - 19s 50ms/step - loss: 5.5698e-04 - accuracy: 1.0000 - auc: 1.0000 - recall: 1.0000 - val_loss: 0.0284 - val_accuracy: 0.9947 - val_auc: 0.9992 - val_recall: 0.9932\n",
            "Epoch 37/200\n",
            "372/372 [==============================] - 19s 50ms/step - loss: 4.7713e-04 - accuracy: 1.0000 - auc: 1.0000 - recall: 1.0000 - val_loss: 0.0277 - val_accuracy: 0.9939 - val_auc: 0.9992 - val_recall: 0.9932\n",
            "Epoch 38/200\n",
            "372/372 [==============================] - 19s 50ms/step - loss: 3.9757e-04 - accuracy: 1.0000 - auc: 1.0000 - recall: 1.0000 - val_loss: 0.0262 - val_accuracy: 0.9939 - val_auc: 0.9996 - val_recall: 0.9939\n",
            "Epoch 39/200\n",
            "372/372 [==============================] - 19s 50ms/step - loss: 3.7063e-04 - accuracy: 1.0000 - auc: 1.0000 - recall: 1.0000 - val_loss: 0.0291 - val_accuracy: 0.9955 - val_auc: 0.9989 - val_recall: 0.9939\n",
            "Epoch 40/200\n",
            "372/372 [==============================] - 19s 50ms/step - loss: 3.6096e-04 - accuracy: 1.0000 - auc: 1.0000 - recall: 1.0000 - val_loss: 0.0259 - val_accuracy: 0.9955 - val_auc: 0.9992 - val_recall: 0.9932\n",
            "Epoch 41/200\n",
            "372/372 [==============================] - 19s 50ms/step - loss: 2.7399e-04 - accuracy: 1.0000 - auc: 1.0000 - recall: 1.0000 - val_loss: 0.0258 - val_accuracy: 0.9947 - val_auc: 1.0000 - val_recall: 0.9939\n",
            "Epoch 42/200\n",
            "372/372 [==============================] - 19s 50ms/step - loss: 2.3687e-04 - accuracy: 1.0000 - auc: 1.0000 - recall: 1.0000 - val_loss: 0.0245 - val_accuracy: 0.9947 - val_auc: 0.9996 - val_recall: 0.9939\n",
            "Epoch 43/200\n",
            "372/372 [==============================] - 19s 50ms/step - loss: 0.1395 - accuracy: 0.9637 - auc: 0.9970 - recall: 0.9578 - val_loss: 0.1125 - val_accuracy: 0.9675 - val_auc: 0.9981 - val_recall: 0.9592\n",
            "Epoch 44/200\n",
            "372/372 [==============================] - 19s 50ms/step - loss: 0.0057 - accuracy: 0.9987 - auc: 1.0000 - recall: 0.9986 - val_loss: 0.0345 - val_accuracy: 0.9939 - val_auc: 0.9989 - val_recall: 0.9924\n",
            "Epoch 45/200\n",
            "372/372 [==============================] - 19s 50ms/step - loss: 0.0014 - accuracy: 0.9998 - auc: 1.0000 - recall: 0.9998 - val_loss: 0.0361 - val_accuracy: 0.9939 - val_auc: 0.9985 - val_recall: 0.9917\n",
            "Epoch 46/200\n",
            "372/372 [==============================] - 19s 50ms/step - loss: 5.8409e-04 - accuracy: 1.0000 - auc: 1.0000 - recall: 1.0000 - val_loss: 0.0303 - val_accuracy: 0.9947 - val_auc: 0.9989 - val_recall: 0.9939\n",
            "Epoch 47/200\n",
            "372/372 [==============================] - 19s 50ms/step - loss: 4.7271e-04 - accuracy: 1.0000 - auc: 1.0000 - recall: 1.0000 - val_loss: 0.0304 - val_accuracy: 0.9947 - val_auc: 0.9992 - val_recall: 0.9932\n",
            "Epoch 48/200\n",
            "372/372 [==============================] - 18s 50ms/step - loss: 3.7526e-04 - accuracy: 1.0000 - auc: 1.0000 - recall: 1.0000 - val_loss: 0.0290 - val_accuracy: 0.9947 - val_auc: 0.9992 - val_recall: 0.9932\n",
            "Epoch 49/200\n",
            "372/372 [==============================] - 19s 50ms/step - loss: 3.8523e-04 - accuracy: 1.0000 - auc: 1.0000 - recall: 1.0000 - val_loss: 0.0317 - val_accuracy: 0.9955 - val_auc: 0.9989 - val_recall: 0.9939\n",
            "Epoch 50/200\n",
            "372/372 [==============================] - 19s 50ms/step - loss: 4.1762e-04 - accuracy: 1.0000 - auc: 1.0000 - recall: 1.0000 - val_loss: 0.0252 - val_accuracy: 0.9947 - val_auc: 0.9996 - val_recall: 0.9932\n",
            "Epoch 51/200\n",
            "372/372 [==============================] - 19s 51ms/step - loss: 2.3854e-04 - accuracy: 1.0000 - auc: 1.0000 - recall: 1.0000 - val_loss: 0.0256 - val_accuracy: 0.9955 - val_auc: 0.9992 - val_recall: 0.9947\n",
            "Epoch 52/200\n",
            "372/372 [==============================] - 19s 51ms/step - loss: 2.0362e-04 - accuracy: 1.0000 - auc: 1.0000 - recall: 1.0000 - val_loss: 0.0235 - val_accuracy: 0.9955 - val_auc: 0.9992 - val_recall: 0.9947\n",
            "Epoch 53/200\n",
            "372/372 [==============================] - 19s 50ms/step - loss: 0.0765 - accuracy: 0.9794 - auc: 0.9987 - recall: 0.9754 - val_loss: 0.3042 - val_accuracy: 0.9183 - val_auc: 0.9932 - val_recall: 0.9070\n",
            "Epoch 54/200\n",
            "372/372 [==============================] - 19s 50ms/step - loss: 0.0184 - accuracy: 0.9955 - auc: 0.9998 - recall: 0.9946 - val_loss: 0.0402 - val_accuracy: 0.9909 - val_auc: 0.9989 - val_recall: 0.9894\n",
            "Epoch 55/200\n",
            "372/372 [==============================] - 19s 51ms/step - loss: 0.0016 - accuracy: 0.9999 - auc: 1.0000 - recall: 0.9998 - val_loss: 0.0247 - val_accuracy: 0.9962 - val_auc: 0.9992 - val_recall: 0.9947\n",
            "Epoch 56/200\n",
            "372/372 [==============================] - 19s 50ms/step - loss: 0.0025 - accuracy: 0.9994 - auc: 1.0000 - recall: 0.9994 - val_loss: 0.0320 - val_accuracy: 0.9924 - val_auc: 0.9992 - val_recall: 0.9902\n",
            "Epoch 57/200\n",
            "372/372 [==============================] - 19s 50ms/step - loss: 6.4186e-04 - accuracy: 1.0000 - auc: 1.0000 - recall: 1.0000 - val_loss: 0.0206 - val_accuracy: 0.9970 - val_auc: 0.9996 - val_recall: 0.9962\n",
            "Epoch 58/200\n",
            "372/372 [==============================] - 19s 50ms/step - loss: 4.3583e-04 - accuracy: 1.0000 - auc: 1.0000 - recall: 1.0000 - val_loss: 0.0227 - val_accuracy: 0.9955 - val_auc: 0.9992 - val_recall: 0.9955\n",
            "Epoch 59/200\n",
            "372/372 [==============================] - 19s 50ms/step - loss: 8.5738e-04 - accuracy: 0.9999 - auc: 1.0000 - recall: 0.9999 - val_loss: 0.0225 - val_accuracy: 0.9955 - val_auc: 0.9996 - val_recall: 0.9939\n",
            "Epoch 60/200\n",
            "372/372 [==============================] - 19s 50ms/step - loss: 2.6991e-04 - accuracy: 1.0000 - auc: 1.0000 - recall: 1.0000 - val_loss: 0.0214 - val_accuracy: 0.9962 - val_auc: 0.9996 - val_recall: 0.9962\n",
            "Epoch 61/200\n",
            "372/372 [==============================] - 19s 50ms/step - loss: 2.1646e-04 - accuracy: 1.0000 - auc: 1.0000 - recall: 1.0000 - val_loss: 0.0219 - val_accuracy: 0.9970 - val_auc: 0.9992 - val_recall: 0.9970\n",
            "Epoch 62/200\n",
            "372/372 [==============================] - 19s 50ms/step - loss: 1.6708e-04 - accuracy: 1.0000 - auc: 1.0000 - recall: 1.0000 - val_loss: 0.0207 - val_accuracy: 0.9962 - val_auc: 0.9992 - val_recall: 0.9955\n",
            "Epoch 63/200\n",
            "372/372 [==============================] - 19s 50ms/step - loss: 0.0680 - accuracy: 0.9801 - auc: 0.9988 - recall: 0.9758 - val_loss: 0.4103 - val_accuracy: 0.9032 - val_auc: 0.9909 - val_recall: 0.8994\n",
            "Epoch 64/200\n",
            "372/372 [==============================] - 19s 50ms/step - loss: 0.0129 - accuracy: 0.9971 - auc: 0.9999 - recall: 0.9965 - val_loss: 0.0335 - val_accuracy: 0.9917 - val_auc: 0.9992 - val_recall: 0.9917\n",
            "Epoch 65/200\n",
            "372/372 [==============================] - 19s 50ms/step - loss: 0.0012 - accuracy: 0.9997 - auc: 1.0000 - recall: 0.9997 - val_loss: 0.0308 - val_accuracy: 0.9917 - val_auc: 0.9992 - val_recall: 0.9909\n",
            "Epoch 66/200\n",
            "372/372 [==============================] - 19s 50ms/step - loss: 5.8851e-04 - accuracy: 0.9999 - auc: 1.0000 - recall: 0.9999 - val_loss: 0.0215 - val_accuracy: 0.9962 - val_auc: 0.9992 - val_recall: 0.9955\n",
            "Epoch 67/200\n",
            "372/372 [==============================] - 19s 50ms/step - loss: 0.0019 - accuracy: 0.9997 - auc: 1.0000 - recall: 0.9997 - val_loss: 0.0221 - val_accuracy: 0.9955 - val_auc: 0.9992 - val_recall: 0.9955\n",
            "Epoch 68/200\n",
            "372/372 [==============================] - 19s 50ms/step - loss: 4.6157e-04 - accuracy: 1.0000 - auc: 1.0000 - recall: 1.0000 - val_loss: 0.0219 - val_accuracy: 0.9955 - val_auc: 0.9992 - val_recall: 0.9955\n",
            "Epoch 69/200\n",
            "372/372 [==============================] - 19s 50ms/step - loss: 2.5363e-04 - accuracy: 1.0000 - auc: 1.0000 - recall: 1.0000 - val_loss: 0.0254 - val_accuracy: 0.9962 - val_auc: 0.9989 - val_recall: 0.9962\n",
            "Epoch 70/200\n",
            "372/372 [==============================] - 19s 50ms/step - loss: 1.5797e-04 - accuracy: 1.0000 - auc: 1.0000 - recall: 1.0000 - val_loss: 0.0216 - val_accuracy: 0.9962 - val_auc: 0.9992 - val_recall: 0.9962\n",
            "Epoch 71/200\n",
            "372/372 [==============================] - 19s 50ms/step - loss: 1.2996e-04 - accuracy: 1.0000 - auc: 1.0000 - recall: 1.0000 - val_loss: 0.0207 - val_accuracy: 0.9962 - val_auc: 0.9992 - val_recall: 0.9962\n",
            "Epoch 72/200\n",
            "372/372 [==============================] - 19s 50ms/step - loss: 1.4609e-04 - accuracy: 1.0000 - auc: 1.0000 - recall: 1.0000 - val_loss: 0.0217 - val_accuracy: 0.9955 - val_auc: 0.9992 - val_recall: 0.9947\n",
            "Epoch 73/200\n",
            "372/372 [==============================] - 19s 50ms/step - loss: 0.0056 - accuracy: 0.9986 - auc: 0.9999 - recall: 0.9983 - val_loss: 1.3409 - val_accuracy: 0.6906 - val_auc: 0.9583 - val_recall: 0.6649\n",
            "Epoch 74/200\n",
            "372/372 [==============================] - 19s 50ms/step - loss: 0.0660 - accuracy: 0.9809 - auc: 0.9992 - recall: 0.9782 - val_loss: 0.0723 - val_accuracy: 0.9864 - val_auc: 0.9985 - val_recall: 0.9811\n",
            "Epoch 75/200\n",
            "372/372 [==============================] - 19s 50ms/step - loss: 0.0012 - accuracy: 1.0000 - auc: 1.0000 - recall: 0.9999 - val_loss: 0.0456 - val_accuracy: 0.9932 - val_auc: 0.9981 - val_recall: 0.9917\n",
            "Epoch 76/200\n",
            "372/372 [==============================] - 19s 50ms/step - loss: 6.2107e-04 - accuracy: 0.9999 - auc: 1.0000 - recall: 0.9999 - val_loss: 0.0320 - val_accuracy: 0.9939 - val_auc: 0.9989 - val_recall: 0.9932\n",
            "Epoch 77/200\n",
            "372/372 [==============================] - 19s 51ms/step - loss: 2.3919e-04 - accuracy: 1.0000 - auc: 1.0000 - recall: 1.0000 - val_loss: 0.0308 - val_accuracy: 0.9947 - val_auc: 0.9989 - val_recall: 0.9947\n",
            "Epoch 78/200\n",
            "372/372 [==============================] - 19s 51ms/step - loss: 1.8414e-04 - accuracy: 1.0000 - auc: 1.0000 - recall: 1.0000 - val_loss: 0.0296 - val_accuracy: 0.9947 - val_auc: 0.9989 - val_recall: 0.9947\n",
            "Epoch 79/200\n",
            "372/372 [==============================] - 19s 50ms/step - loss: 1.4866e-04 - accuracy: 1.0000 - auc: 1.0000 - recall: 1.0000 - val_loss: 0.0282 - val_accuracy: 0.9947 - val_auc: 0.9989 - val_recall: 0.9947\n",
            "Epoch 80/200\n",
            "372/372 [==============================] - 19s 50ms/step - loss: 1.2348e-04 - accuracy: 1.0000 - auc: 1.0000 - recall: 1.0000 - val_loss: 0.0275 - val_accuracy: 0.9947 - val_auc: 0.9989 - val_recall: 0.9947\n",
            "Epoch 81/200\n",
            "372/372 [==============================] - 19s 50ms/step - loss: 4.3807e-04 - accuracy: 0.9999 - auc: 1.0000 - recall: 0.9999 - val_loss: 0.1484 - val_accuracy: 0.9652 - val_auc: 0.9962 - val_recall: 0.9584\n",
            "Epoch 82/200\n",
            "372/372 [==============================] - 19s 50ms/step - loss: 0.0300 - accuracy: 0.9925 - auc: 0.9993 - recall: 0.9913 - val_loss: 0.2383 - val_accuracy: 0.9531 - val_auc: 0.9920 - val_recall: 0.9501\n",
            "Epoch 83/200\n",
            "372/372 [==============================] - 19s 50ms/step - loss: 0.0162 - accuracy: 0.9959 - auc: 0.9998 - recall: 0.9950 - val_loss: 0.0462 - val_accuracy: 0.9864 - val_auc: 0.9992 - val_recall: 0.9849\n",
            "Epoch 84/200\n",
            "372/372 [==============================] - 19s 50ms/step - loss: 7.9317e-04 - accuracy: 0.9999 - auc: 1.0000 - recall: 0.9999 - val_loss: 0.0268 - val_accuracy: 0.9932 - val_auc: 1.0000 - val_recall: 0.9924\n",
            "Epoch 85/200\n",
            "372/372 [==============================] - 19s 50ms/step - loss: 0.0049 - accuracy: 0.9991 - auc: 0.9999 - recall: 0.9989 - val_loss: 0.0398 - val_accuracy: 0.9917 - val_auc: 0.9989 - val_recall: 0.9902\n",
            "Epoch 86/200\n",
            "372/372 [==============================] - 19s 50ms/step - loss: 0.0013 - accuracy: 0.9996 - auc: 1.0000 - recall: 0.9996 - val_loss: 0.0287 - val_accuracy: 0.9909 - val_auc: 0.9992 - val_recall: 0.9894\n",
            "Epoch 87/200\n",
            "372/372 [==============================] - 19s 50ms/step - loss: 7.3558e-04 - accuracy: 0.9998 - auc: 1.0000 - recall: 0.9998 - val_loss: 0.0226 - val_accuracy: 0.9939 - val_auc: 0.9996 - val_recall: 0.9939\n"
          ]
        },
        {
          "output_type": "display_data",
          "data": {
            "image/png": "[encoded data removed]",
            "text/plain": [
              "<Figure size 432x288 with 1 Axes>"
            ]
          },
          "metadata": {
            "needs_background": "light"
          }
        },
        {
          "output_type": "display_data",
          "data": {
            "image/png": "[encoded data removed]",
            "text/plain": [
              "<Figure size 432x288 with 1 Axes>"
            ]
          },
          "metadata": {
            "needs_background": "light"
          }
        }
      ]
    },
    {
      "cell_type": "code",
      "source": [
        "get_test_performance(model, X_test, test_label)"
      ],
      "metadata": {
        "id": "3vJs3GuVQstm",
        "colab": {
          "base_uri": "https://localhost:8080/"
        },
        "outputId": "58ba0de6-8457-4a07-9258-7300a7b686a0"
      },
      "execution_count": 25,
      "outputs": [
        {
          "output_type": "stream",
          "name": "stdout",
          "text": [
            "45/45 [==============================] - 1s 18ms/step - loss: 0.0803 - accuracy: 0.9830 - auc: 0.9975 - recall: 0.9808\n",
            "Test loss:0.08031724393367767\n",
            "Test accuracy:0.9829666614532471\n",
            "Test Recall: 0.9808374643325806\n",
            "Test AUC: 0.9975126385688782\n"
          ]
        }
      ]
    },
    {
      "cell_type": "markdown",
      "source": [
        "dataset 3 identity"
      ],
      "metadata": {
        "id": "061_3AL0RPa8"
      }
    },
    {
      "cell_type": "code",
      "source": [
        "num_classes = 118\n",
        "np.random.seed(42)\n",
        "X_train = load_X('/content/drive/Shareddrives/MMH/TIFS20/Dataset #3/Dataset #3/train/Inertial Signals')\n",
        "X_test = load_X('/content/drive/Shareddrives/MMH/TIFS20/Dataset #3/Dataset #3/test/Inertial Signals')\n",
        "train_label = load_y('/content/drive/Shareddrives/MMH/TIFS20/Dataset #3/Dataset #3/train/y_train.txt')\n",
        "test_label = load_y('/content/drive/Shareddrives/MMH/TIFS20/Dataset #3/Dataset #3/test/y_test.txt')\n",
        "print(f'{X_train.shape} {X_test.shape}')\n",
        "model = MLSTM_FCN((X_train.shape[1], X_train.shape[2]), train_label.shape[1])"
      ],
      "metadata": {
        "id": "gZqtqJ8lROr2",
        "colab": {
          "base_uri": "https://localhost:8080/"
        },
        "outputId": "cb2f6c53-3f7e-4361-d5e8-480850e58e58"
      },
      "execution_count": 26,
      "outputs": [
        {
          "output_type": "stream",
          "name": "stdout",
          "text": [
            "(26283, 6, 128, 1) (2991, 6, 128, 1)\n",
            "Model: \"model_5\"\n",
            "_________________________________________________________________\n",
            " Layer (type)                Output Shape              Param #   \n",
            "=================================================================\n",
            " input_6 (InputLayer)        [(None, 6, 128)]          0         \n",
            "                                                                 \n",
            " permute_5 (Permute)         (None, 128, 6)            0         \n",
            "                                                                 \n",
            " conv1d_15 (Conv1D)          (None, 128, 32)           1760      \n",
            "                                                                 \n",
            " batch_normalization_15 (Bat  (None, 128, 32)          128       \n",
            " chNormalization)                                                \n",
            "                                                                 \n",
            " activation_15 (Activation)  (None, 128, 32)           0         \n",
            "                                                                 \n",
            " conv1d_16 (Conv1D)          (None, 128, 512)          147968    \n",
            "                                                                 \n",
            " batch_normalization_16 (Bat  (None, 128, 512)         2048      \n",
            " chNormalization)                                                \n",
            "                                                                 \n",
            " activation_16 (Activation)  (None, 128, 512)          0         \n",
            "                                                                 \n",
            " conv1d_17 (Conv1D)          (None, 128, 512)          2359808   \n",
            "                                                                 \n",
            " batch_normalization_17 (Bat  (None, 128, 512)         2048      \n",
            " chNormalization)                                                \n",
            "                                                                 \n",
            " activation_17 (Activation)  (None, 128, 512)          0         \n",
            "                                                                 \n",
            " global_average_pooling1d_5   (None, 512)              0         \n",
            " (GlobalAveragePooling1D)                                        \n",
            "                                                                 \n",
            " dense_5 (Dense)             (None, 118)               60534     \n",
            "                                                                 \n",
            "=================================================================\n",
            "Total params: 2,574,294\n",
            "Trainable params: 2,572,182\n",
            "Non-trainable params: 2,112\n",
            "_________________________________________________________________\n"
          ]
        }
      ]
    },
    {
      "cell_type": "code",
      "source": [
        "if gpu:\n",
        "    model = MLSTM_FCN((X_train.shape[1], X_train.shape[2]), train_label.shape[1])\n",
        "    history = model.fit(X_train,train_label,batch_size=32,epochs=200,verbose=1,callbacks=[tensorflow.keras.callbacks.EarlyStopping('val_loss', patience=30,restore_best_weights=True)],validation_split=0.1)\n",
        "if tpu:\n",
        "    with strategy.scope():\n",
        "        model = MLSTM_FCN((X_train.shape[1], X_train.shape[2]), train_label.shape[1])\n",
        "        history = model.fit(X_train,train_label,batch_size=8*32,epochs=200,verbose=1,callbacks=[tensorflow.keras.callbacks.EarlyStopping('val_loss', patience=30,restore_best_weights=True)],validation_split=0.1)\n",
        "\n",
        "plot_performance(X_train, train_label, history)"
      ],
      "metadata": {
        "id": "kgSK37CPR7k0",
        "colab": {
          "base_uri": "https://localhost:8080/",
          "height": 1000
        },
        "outputId": "5b17ff42-2710-418f-d1da-18724f29d908"
      },
      "execution_count": 27,
      "outputs": [
        {
          "output_type": "stream",
          "name": "stdout",
          "text": [
            "Model: \"model_6\"\n",
            "_________________________________________________________________\n",
            " Layer (type)                Output Shape              Param #   \n",
            "=================================================================\n",
            " input_7 (InputLayer)        [(None, 6, 128)]          0         \n",
            "                                                                 \n",
            " permute_6 (Permute)         (None, 128, 6)            0         \n",
            "                                                                 \n",
            " conv1d_18 (Conv1D)          (None, 128, 32)           1760      \n",
            "                                                                 \n",
            " batch_normalization_18 (Bat  (None, 128, 32)          128       \n",
            " chNormalization)                                                \n",
            "                                                                 \n",
            " activation_18 (Activation)  (None, 128, 32)           0         \n",
            "                                                                 \n",
            " conv1d_19 (Conv1D)          (None, 128, 512)          147968    \n",
            "                                                                 \n",
            " batch_normalization_19 (Bat  (None, 128, 512)         2048      \n",
            " chNormalization)                                                \n",
            "                                                                 \n",
            " activation_19 (Activation)  (None, 128, 512)          0         \n",
            "                                                                 \n",
            " conv1d_20 (Conv1D)          (None, 128, 512)          2359808   \n",
            "                                                                 \n",
            " batch_normalization_20 (Bat  (None, 128, 512)         2048      \n",
            " chNormalization)                                                \n",
            "                                                                 \n",
            " activation_20 (Activation)  (None, 128, 512)          0         \n",
            "                                                                 \n",
            " global_average_pooling1d_6   (None, 512)              0         \n",
            " (GlobalAveragePooling1D)                                        \n",
            "                                                                 \n",
            " dense_6 (Dense)             (None, 118)               60534     \n",
            "                                                                 \n",
            "=================================================================\n",
            "Total params: 2,574,294\n",
            "Trainable params: 2,572,182\n",
            "Non-trainable params: 2,112\n",
            "_________________________________________________________________\n",
            "Epoch 1/200\n",
            "740/740 [==============================] - 39s 50ms/step - loss: 0.7246 - accuracy: 0.8563 - auc: 0.9908 - recall: 0.7391 - val_loss: 0.2064 - val_accuracy: 0.9593 - val_auc: 0.9985 - val_recall: 0.9361\n",
            "Epoch 2/200\n",
            "740/740 [==============================] - 36s 49ms/step - loss: 0.1084 - accuracy: 0.9761 - auc: 0.9993 - recall: 0.9643 - val_loss: 0.0988 - val_accuracy: 0.9787 - val_auc: 0.9992 - val_recall: 0.9669\n",
            "Epoch 3/200\n",
            "740/740 [==============================] - 36s 49ms/step - loss: 0.0719 - accuracy: 0.9825 - auc: 0.9995 - recall: 0.9759 - val_loss: 0.0974 - val_accuracy: 0.9795 - val_auc: 0.9992 - val_recall: 0.9688\n",
            "Epoch 4/200\n",
            "740/740 [==============================] - 36s 49ms/step - loss: 0.0492 - accuracy: 0.9877 - auc: 0.9997 - recall: 0.9833 - val_loss: 0.0787 - val_accuracy: 0.9821 - val_auc: 0.9992 - val_recall: 0.9791\n",
            "Epoch 5/200\n",
            "740/740 [==============================] - 36s 49ms/step - loss: 0.0433 - accuracy: 0.9887 - auc: 0.9997 - recall: 0.9852 - val_loss: 0.0644 - val_accuracy: 0.9806 - val_auc: 0.9990 - val_recall: 0.9779\n",
            "Epoch 6/200\n",
            "740/740 [==============================] - 36s 48ms/step - loss: 0.0300 - accuracy: 0.9912 - auc: 0.9998 - recall: 0.9892 - val_loss: 0.0579 - val_accuracy: 0.9848 - val_auc: 0.9992 - val_recall: 0.9802\n",
            "Epoch 7/200\n",
            "740/740 [==============================] - 36s 48ms/step - loss: 0.0321 - accuracy: 0.9910 - auc: 0.9998 - recall: 0.9888 - val_loss: 0.2054 - val_accuracy: 0.9479 - val_auc: 0.9978 - val_recall: 0.9331\n",
            "Epoch 8/200\n",
            "740/740 [==============================] - 36s 49ms/step - loss: 0.0257 - accuracy: 0.9929 - auc: 0.9999 - recall: 0.9909 - val_loss: 0.0351 - val_accuracy: 0.9909 - val_auc: 0.9992 - val_recall: 0.9893\n",
            "Epoch 9/200\n",
            "740/740 [==============================] - 36s 49ms/step - loss: 0.0215 - accuracy: 0.9939 - auc: 0.9999 - recall: 0.9923 - val_loss: 0.0284 - val_accuracy: 0.9928 - val_auc: 0.9994 - val_recall: 0.9916\n",
            "Epoch 10/200\n",
            "740/740 [==============================] - 36s 49ms/step - loss: 0.0244 - accuracy: 0.9934 - auc: 0.9997 - recall: 0.9916 - val_loss: 0.0453 - val_accuracy: 0.9901 - val_auc: 0.9990 - val_recall: 0.9859\n",
            "Epoch 11/200\n",
            "740/740 [==============================] - 36s 48ms/step - loss: 0.0144 - accuracy: 0.9959 - auc: 0.9999 - recall: 0.9948 - val_loss: 0.0244 - val_accuracy: 0.9943 - val_auc: 0.9996 - val_recall: 0.9928\n",
            "Epoch 12/200\n",
            "740/740 [==============================] - 36s 48ms/step - loss: 0.0152 - accuracy: 0.9953 - auc: 0.9999 - recall: 0.9945 - val_loss: 0.0493 - val_accuracy: 0.9897 - val_auc: 0.9989 - val_recall: 0.9890\n",
            "Epoch 13/200\n",
            "740/740 [==============================] - 36s 48ms/step - loss: 0.0140 - accuracy: 0.9962 - auc: 0.9999 - recall: 0.9953 - val_loss: 0.1579 - val_accuracy: 0.9563 - val_auc: 0.9956 - val_recall: 0.9555\n",
            "Epoch 14/200\n",
            "740/740 [==============================] - 36s 48ms/step - loss: 0.0226 - accuracy: 0.9940 - auc: 0.9997 - recall: 0.9930 - val_loss: 0.2200 - val_accuracy: 0.9369 - val_auc: 0.9949 - val_recall: 0.9334\n",
            "Epoch 15/200\n",
            "740/740 [==============================] - 36s 48ms/step - loss: 0.0122 - accuracy: 0.9963 - auc: 0.9999 - recall: 0.9957 - val_loss: 0.0271 - val_accuracy: 0.9943 - val_auc: 0.9992 - val_recall: 0.9939\n",
            "Epoch 16/200\n",
            "740/740 [==============================] - 36s 48ms/step - loss: 0.0076 - accuracy: 0.9979 - auc: 1.0000 - recall: 0.9975 - val_loss: 0.0391 - val_accuracy: 0.9916 - val_auc: 0.9989 - val_recall: 0.9886\n",
            "Epoch 17/200\n",
            "740/740 [==============================] - 36s 48ms/step - loss: 0.0113 - accuracy: 0.9967 - auc: 0.9999 - recall: 0.9962 - val_loss: 0.0200 - val_accuracy: 0.9947 - val_auc: 0.9998 - val_recall: 0.9932\n",
            "Epoch 18/200\n",
            "740/740 [==============================] - 36s 48ms/step - loss: 0.0079 - accuracy: 0.9980 - auc: 0.9999 - recall: 0.9975 - val_loss: 0.0311 - val_accuracy: 0.9932 - val_auc: 0.9994 - val_recall: 0.9924\n",
            "Epoch 19/200\n",
            "740/740 [==============================] - 36s 49ms/step - loss: 0.0056 - accuracy: 0.9983 - auc: 1.0000 - recall: 0.9980 - val_loss: 0.0424 - val_accuracy: 0.9901 - val_auc: 0.9990 - val_recall: 0.9890\n",
            "Epoch 20/200\n",
            "740/740 [==============================] - 36s 49ms/step - loss: 0.0177 - accuracy: 0.9951 - auc: 0.9998 - recall: 0.9945 - val_loss: 0.0581 - val_accuracy: 0.9863 - val_auc: 0.9987 - val_recall: 0.9855\n",
            "Epoch 21/200\n",
            "740/740 [==============================] - 36s 49ms/step - loss: 0.0056 - accuracy: 0.9984 - auc: 1.0000 - recall: 0.9981 - val_loss: 0.0248 - val_accuracy: 0.9954 - val_auc: 0.9994 - val_recall: 0.9943\n",
            "Epoch 22/200\n",
            "740/740 [==============================] - 36s 48ms/step - loss: 0.0099 - accuracy: 0.9976 - auc: 0.9998 - recall: 0.9972 - val_loss: 0.0253 - val_accuracy: 0.9932 - val_auc: 0.9990 - val_recall: 0.9924\n",
            "Epoch 23/200\n",
            "740/740 [==============================] - 36s 49ms/step - loss: 0.0104 - accuracy: 0.9976 - auc: 0.9999 - recall: 0.9970 - val_loss: 0.2692 - val_accuracy: 0.9422 - val_auc: 0.9947 - val_recall: 0.9391\n",
            "Epoch 24/200\n",
            "740/740 [==============================] - 36s 49ms/step - loss: 0.0115 - accuracy: 0.9966 - auc: 0.9998 - recall: 0.9961 - val_loss: 0.0410 - val_accuracy: 0.9913 - val_auc: 0.9988 - val_recall: 0.9913\n",
            "Epoch 25/200\n",
            "740/740 [==============================] - 36s 49ms/step - loss: 0.0053 - accuracy: 0.9984 - auc: 1.0000 - recall: 0.9981 - val_loss: 0.0376 - val_accuracy: 0.9920 - val_auc: 0.9990 - val_recall: 0.9901\n",
            "Epoch 26/200\n",
            "740/740 [==============================] - 36s 48ms/step - loss: 0.0062 - accuracy: 0.9983 - auc: 0.9999 - recall: 0.9982 - val_loss: 0.0515 - val_accuracy: 0.9882 - val_auc: 0.9987 - val_recall: 0.9867\n",
            "Epoch 27/200\n",
            "740/740 [==============================] - 36s 48ms/step - loss: 0.0064 - accuracy: 0.9981 - auc: 1.0000 - recall: 0.9977 - val_loss: 0.0425 - val_accuracy: 0.9913 - val_auc: 0.9989 - val_recall: 0.9909\n",
            "Epoch 28/200\n",
            "740/740 [==============================] - 36s 48ms/step - loss: 0.0107 - accuracy: 0.9967 - auc: 0.9999 - recall: 0.9963 - val_loss: 0.0189 - val_accuracy: 0.9954 - val_auc: 0.9994 - val_recall: 0.9954\n",
            "Epoch 29/200\n",
            "740/740 [==============================] - 36s 48ms/step - loss: 0.0048 - accuracy: 0.9983 - auc: 1.0000 - recall: 0.9982 - val_loss: 0.0283 - val_accuracy: 0.9943 - val_auc: 0.9989 - val_recall: 0.9935\n",
            "Epoch 30/200\n",
            "740/740 [==============================] - 36s 48ms/step - loss: 0.0057 - accuracy: 0.9982 - auc: 1.0000 - recall: 0.9981 - val_loss: 0.0192 - val_accuracy: 0.9958 - val_auc: 0.9992 - val_recall: 0.9954\n",
            "Epoch 31/200\n",
            "740/740 [==============================] - 36s 48ms/step - loss: 0.0053 - accuracy: 0.9982 - auc: 1.0000 - recall: 0.9981 - val_loss: 0.0203 - val_accuracy: 0.9962 - val_auc: 0.9994 - val_recall: 0.9954\n",
            "Epoch 32/200\n",
            "740/740 [==============================] - 36s 48ms/step - loss: 0.0019 - accuracy: 0.9994 - auc: 1.0000 - recall: 0.9993 - val_loss: 0.0172 - val_accuracy: 0.9966 - val_auc: 0.9992 - val_recall: 0.9962\n",
            "Epoch 33/200\n",
            "740/740 [==============================] - 36s 49ms/step - loss: 0.0107 - accuracy: 0.9972 - auc: 0.9998 - recall: 0.9968 - val_loss: 0.0345 - val_accuracy: 0.9947 - val_auc: 0.9989 - val_recall: 0.9935\n",
            "Epoch 34/200\n",
            "740/740 [==============================] - 36s 49ms/step - loss: 0.0029 - accuracy: 0.9992 - auc: 1.0000 - recall: 0.9991 - val_loss: 0.0239 - val_accuracy: 0.9970 - val_auc: 0.9992 - val_recall: 0.9962\n",
            "Epoch 35/200\n",
            "740/740 [==============================] - 36s 48ms/step - loss: 0.0099 - accuracy: 0.9970 - auc: 0.9999 - recall: 0.9967 - val_loss: 0.1487 - val_accuracy: 0.9798 - val_auc: 0.9937 - val_recall: 0.9798\n",
            "Epoch 36/200\n",
            "740/740 [==============================] - 36s 48ms/step - loss: 0.0030 - accuracy: 0.9994 - auc: 1.0000 - recall: 0.9993 - val_loss: 0.0247 - val_accuracy: 0.9954 - val_auc: 0.9990 - val_recall: 0.9951\n",
            "Epoch 37/200\n",
            "740/740 [==============================] - 36s 49ms/step - loss: 0.0062 - accuracy: 0.9981 - auc: 0.9999 - recall: 0.9978 - val_loss: 0.0244 - val_accuracy: 0.9943 - val_auc: 0.9994 - val_recall: 0.9939\n",
            "Epoch 38/200\n",
            "740/740 [==============================] - 36s 49ms/step - loss: 0.0021 - accuracy: 0.9996 - auc: 1.0000 - recall: 0.9995 - val_loss: 0.0187 - val_accuracy: 0.9958 - val_auc: 0.9994 - val_recall: 0.9954\n",
            "Epoch 39/200\n",
            "740/740 [==============================] - 36s 49ms/step - loss: 0.0063 - accuracy: 0.9984 - auc: 0.9999 - recall: 0.9982 - val_loss: 0.0525 - val_accuracy: 0.9909 - val_auc: 0.9985 - val_recall: 0.9901\n",
            "Epoch 40/200\n",
            "740/740 [==============================] - 36s 49ms/step - loss: 0.0108 - accuracy: 0.9970 - auc: 0.9999 - recall: 0.9965 - val_loss: 0.0202 - val_accuracy: 0.9966 - val_auc: 0.9992 - val_recall: 0.9966\n",
            "Epoch 41/200\n",
            "740/740 [==============================] - 36s 49ms/step - loss: 0.0014 - accuracy: 0.9996 - auc: 1.0000 - recall: 0.9996 - val_loss: 0.0210 - val_accuracy: 0.9958 - val_auc: 0.9994 - val_recall: 0.9954\n",
            "Epoch 42/200\n",
            "740/740 [==============================] - 36s 49ms/step - loss: 0.0047 - accuracy: 0.9988 - auc: 0.9999 - recall: 0.9987 - val_loss: 0.0207 - val_accuracy: 0.9954 - val_auc: 0.9992 - val_recall: 0.9951\n",
            "Epoch 43/200\n",
            "740/740 [==============================] - 37s 50ms/step - loss: 0.0049 - accuracy: 0.9986 - auc: 0.9999 - recall: 0.9985 - val_loss: 0.0200 - val_accuracy: 0.9958 - val_auc: 0.9996 - val_recall: 0.9958\n",
            "Epoch 44/200\n",
            "740/740 [==============================] - 36s 49ms/step - loss: 0.0029 - accuracy: 0.9992 - auc: 1.0000 - recall: 0.9990 - val_loss: 0.0175 - val_accuracy: 0.9962 - val_auc: 0.9992 - val_recall: 0.9958\n",
            "Epoch 45/200\n",
            "740/740 [==============================] - 36s 49ms/step - loss: 0.0053 - accuracy: 0.9989 - auc: 0.9999 - recall: 0.9986 - val_loss: 0.0194 - val_accuracy: 0.9962 - val_auc: 0.9996 - val_recall: 0.9962\n",
            "Epoch 46/200\n",
            "740/740 [==============================] - 36s 49ms/step - loss: 0.0031 - accuracy: 0.9989 - auc: 1.0000 - recall: 0.9989 - val_loss: 0.0254 - val_accuracy: 0.9958 - val_auc: 0.9990 - val_recall: 0.9958\n",
            "Epoch 47/200\n",
            "740/740 [==============================] - 36s 49ms/step - loss: 0.0015 - accuracy: 0.9995 - auc: 1.0000 - recall: 0.9995 - val_loss: 0.0257 - val_accuracy: 0.9947 - val_auc: 0.9994 - val_recall: 0.9947\n",
            "Epoch 48/200\n",
            "740/740 [==============================] - 36s 49ms/step - loss: 0.0034 - accuracy: 0.9990 - auc: 0.9999 - recall: 0.9990 - val_loss: 0.0316 - val_accuracy: 0.9932 - val_auc: 0.9985 - val_recall: 0.9928\n",
            "Epoch 49/200\n",
            "740/740 [==============================] - 37s 49ms/step - loss: 0.0079 - accuracy: 0.9984 - auc: 0.9999 - recall: 0.9981 - val_loss: 0.0188 - val_accuracy: 0.9954 - val_auc: 0.9994 - val_recall: 0.9947\n",
            "Epoch 50/200\n",
            "740/740 [==============================] - 36s 49ms/step - loss: 0.0041 - accuracy: 0.9988 - auc: 1.0000 - recall: 0.9986 - val_loss: 0.0316 - val_accuracy: 0.9962 - val_auc: 0.9992 - val_recall: 0.9951\n",
            "Epoch 51/200\n",
            "740/740 [==============================] - 36s 49ms/step - loss: 0.0031 - accuracy: 0.9992 - auc: 1.0000 - recall: 0.9989 - val_loss: 0.0238 - val_accuracy: 0.9966 - val_auc: 0.9989 - val_recall: 0.9958\n",
            "Epoch 52/200\n",
            "740/740 [==============================] - 36s 49ms/step - loss: 0.0013 - accuracy: 0.9996 - auc: 1.0000 - recall: 0.9996 - val_loss: 0.0295 - val_accuracy: 0.9962 - val_auc: 0.9994 - val_recall: 0.9962\n",
            "Epoch 53/200\n",
            "740/740 [==============================] - 36s 49ms/step - loss: 0.0031 - accuracy: 0.9993 - auc: 1.0000 - recall: 0.9992 - val_loss: 0.0400 - val_accuracy: 0.9932 - val_auc: 0.9989 - val_recall: 0.9928\n",
            "Epoch 54/200\n",
            "740/740 [==============================] - 36s 49ms/step - loss: 0.0049 - accuracy: 0.9989 - auc: 0.9999 - recall: 0.9988 - val_loss: 0.0291 - val_accuracy: 0.9939 - val_auc: 0.9992 - val_recall: 0.9935\n",
            "Epoch 55/200\n",
            "740/740 [==============================] - 36s 49ms/step - loss: 0.0015 - accuracy: 0.9996 - auc: 1.0000 - recall: 0.9995 - val_loss: 0.0248 - val_accuracy: 0.9966 - val_auc: 0.9996 - val_recall: 0.9962\n",
            "Epoch 56/200\n",
            "740/740 [==============================] - 36s 49ms/step - loss: 0.0062 - accuracy: 0.9984 - auc: 0.9999 - recall: 0.9982 - val_loss: 0.0379 - val_accuracy: 0.9966 - val_auc: 0.9992 - val_recall: 0.9962\n",
            "Epoch 57/200\n",
            "740/740 [==============================] - 36s 49ms/step - loss: 0.0049 - accuracy: 0.9990 - auc: 0.9999 - recall: 0.9989 - val_loss: 0.0319 - val_accuracy: 0.9958 - val_auc: 0.9994 - val_recall: 0.9958\n",
            "Epoch 58/200\n",
            "740/740 [==============================] - 36s 49ms/step - loss: 0.0015 - accuracy: 0.9995 - auc: 1.0000 - recall: 0.9995 - val_loss: 0.0312 - val_accuracy: 0.9966 - val_auc: 0.9994 - val_recall: 0.9966\n",
            "Epoch 59/200\n",
            "740/740 [==============================] - 36s 49ms/step - loss: 0.0022 - accuracy: 0.9994 - auc: 1.0000 - recall: 0.9994 - val_loss: 0.0290 - val_accuracy: 0.9962 - val_auc: 0.9992 - val_recall: 0.9962\n",
            "Epoch 60/200\n",
            "740/740 [==============================] - 36s 49ms/step - loss: 0.0067 - accuracy: 0.9986 - auc: 0.9999 - recall: 0.9984 - val_loss: 0.0190 - val_accuracy: 0.9966 - val_auc: 0.9994 - val_recall: 0.9962\n",
            "Epoch 61/200\n",
            "740/740 [==============================] - 36s 49ms/step - loss: 0.0022 - accuracy: 0.9995 - auc: 1.0000 - recall: 0.9994 - val_loss: 0.0182 - val_accuracy: 0.9966 - val_auc: 0.9996 - val_recall: 0.9962\n",
            "Epoch 62/200\n",
            "740/740 [==============================] - 36s 49ms/step - loss: 7.4212e-04 - accuracy: 0.9998 - auc: 1.0000 - recall: 0.9998 - val_loss: 0.0186 - val_accuracy: 0.9962 - val_auc: 0.9994 - val_recall: 0.9962\n"
          ]
        },
        {
          "output_type": "display_data",
          "data": {
            "image/png": "[encoded data removed]",
            "text/plain": [
              "<Figure size 432x288 with 1 Axes>"
            ]
          },
          "metadata": {
            "needs_background": "light"
          }
        },
        {
          "output_type": "display_data",
          "data": {
            "image/png": "[encoded data removed]",
            "text/plain": [
              "<Figure size 432x288 with 1 Axes>"
            ]
          },
          "metadata": {
            "needs_background": "light"
          }
        }
      ]
    },
    {
      "cell_type": "code",
      "source": [
        "get_test_performance(model, X_test, test_label)"
      ],
      "metadata": {
        "id": "f09fx3aNR_Ji",
        "colab": {
          "base_uri": "https://localhost:8080/"
        },
        "outputId": "87e4d260-1150-4297-a98d-ae5a49408e1e"
      },
      "execution_count": 28,
      "outputs": [
        {
          "output_type": "stream",
          "name": "stdout",
          "text": [
            "94/94 [==============================] - 1s 15ms/step - loss: 0.4954 - accuracy: 0.9502 - auc: 0.9837 - recall: 0.9495\n",
            "Test loss:0.4953523874282837\n",
            "Test accuracy:0.9501838684082031\n",
            "Test Recall: 0.9495152235031128\n",
            "Test AUC: 0.9837199449539185\n"
          ]
        }
      ]
    },
    {
      "cell_type": "markdown",
      "source": [
        "dataset 4 identity"
      ],
      "metadata": {
        "id": "KwO43n38RTpi"
      }
    },
    {
      "cell_type": "code",
      "source": [
        "num_classes = 20\n",
        "np.random.seed(42)\n",
        "X_train = load_X('/content/drive/Shareddrives/MMH/TIFS20/Dataset #4/train/Inertial Signals')\n",
        "X_test = load_X('/content/drive/Shareddrives/MMH/TIFS20/Dataset #4/test/Inertial Signals')\n",
        "train_label = load_y('/content/drive/Shareddrives/MMH/TIFS20/Dataset #4/train/y_train.txt')\n",
        "test_label = load_y('/content/drive/Shareddrives/MMH/TIFS20/Dataset #4/test/y_test.txt')\n",
        "print(f'{X_train.shape} {X_test.shape}')\n",
        "model = MLSTM_FCN((X_train.shape[1], X_train.shape[2]), train_label.shape[1])"
      ],
      "metadata": {
        "id": "5E_cy351RV32",
        "colab": {
          "base_uri": "https://localhost:8080/"
        },
        "outputId": "88d4e83d-54f3-4abe-b21b-e13114b81c62"
      },
      "execution_count": 29,
      "outputs": [
        {
          "output_type": "stream",
          "name": "stdout",
          "text": [
            "(35373, 6, 128, 1) (3941, 6, 128, 1)\n",
            "Model: \"model_7\"\n",
            "_________________________________________________________________\n",
            " Layer (type)                Output Shape              Param #   \n",
            "=================================================================\n",
            " input_8 (InputLayer)        [(None, 6, 128)]          0         \n",
            "                                                                 \n",
            " permute_7 (Permute)         (None, 128, 6)            0         \n",
            "                                                                 \n",
            " conv1d_21 (Conv1D)          (None, 128, 32)           1760      \n",
            "                                                                 \n",
            " batch_normalization_21 (Bat  (None, 128, 32)          128       \n",
            " chNormalization)                                                \n",
            "                                                                 \n",
            " activation_21 (Activation)  (None, 128, 32)           0         \n",
            "                                                                 \n",
            " conv1d_22 (Conv1D)          (None, 128, 512)          147968    \n",
            "                                                                 \n",
            " batch_normalization_22 (Bat  (None, 128, 512)         2048      \n",
            " chNormalization)                                                \n",
            "                                                                 \n",
            " activation_22 (Activation)  (None, 128, 512)          0         \n",
            "                                                                 \n",
            " conv1d_23 (Conv1D)          (None, 128, 512)          2359808   \n",
            "                                                                 \n",
            " batch_normalization_23 (Bat  (None, 128, 512)         2048      \n",
            " chNormalization)                                                \n",
            "                                                                 \n",
            " activation_23 (Activation)  (None, 128, 512)          0         \n",
            "                                                                 \n",
            " global_average_pooling1d_7   (None, 512)              0         \n",
            " (GlobalAveragePooling1D)                                        \n",
            "                                                                 \n",
            " dense_7 (Dense)             (None, 20)                10260     \n",
            "                                                                 \n",
            "=================================================================\n",
            "Total params: 2,524,020\n",
            "Trainable params: 2,521,908\n",
            "Non-trainable params: 2,112\n",
            "_________________________________________________________________\n"
          ]
        }
      ]
    },
    {
      "cell_type": "code",
      "source": [
        "if gpu:\n",
        "    model = MLSTM_FCN((X_train.shape[1], X_train.shape[2]), train_label.shape[1])\n",
        "    history = model.fit(X_train,train_label,batch_size=32,epochs=200,verbose=1,callbacks=[tensorflow.keras.callbacks.EarlyStopping('val_loss', patience=30,restore_best_weights=True)],validation_split=0.1)\n",
        "if tpu:\n",
        "    with strategy.scope():\n",
        "        model = MLSTM_FCN((X_train.shape[1], X_train.shape[2]), train_label.shape[1])\n",
        "        history = model.fit(X_train,train_label,batch_size=8*32,epochs=200,verbose=1,callbacks=[tensorflow.keras.callbacks.EarlyStopping('val_loss', patience=30,restore_best_weights=True)],validation_split=0.1)\n",
        "\n",
        "plot_performance(X_train, train_label, history)"
      ],
      "metadata": {
        "id": "QMn49hJ9R8O-",
        "colab": {
          "base_uri": "https://localhost:8080/",
          "height": 1000
        },
        "outputId": "6049ef07-c086-40a6-c8ef-a320fe6d7999"
      },
      "execution_count": 30,
      "outputs": [
        {
          "output_type": "stream",
          "name": "stdout",
          "text": [
            "Model: \"model_8\"\n",
            "_________________________________________________________________\n",
            " Layer (type)                Output Shape              Param #   \n",
            "=================================================================\n",
            " input_9 (InputLayer)        [(None, 6, 128)]          0         \n",
            "                                                                 \n",
            " permute_8 (Permute)         (None, 128, 6)            0         \n",
            "                                                                 \n",
            " conv1d_24 (Conv1D)          (None, 128, 32)           1760      \n",
            "                                                                 \n",
            " batch_normalization_24 (Bat  (None, 128, 32)          128       \n",
            " chNormalization)                                                \n",
            "                                                                 \n",
            " activation_24 (Activation)  (None, 128, 32)           0         \n",
            "                                                                 \n",
            " conv1d_25 (Conv1D)          (None, 128, 512)          147968    \n",
            "                                                                 \n",
            " batch_normalization_25 (Bat  (None, 128, 512)         2048      \n",
            " chNormalization)                                                \n",
            "                                                                 \n",
            " activation_25 (Activation)  (None, 128, 512)          0         \n",
            "                                                                 \n",
            " conv1d_26 (Conv1D)          (None, 128, 512)          2359808   \n",
            "                                                                 \n",
            " batch_normalization_26 (Bat  (None, 128, 512)         2048      \n",
            " chNormalization)                                                \n",
            "                                                                 \n",
            " activation_26 (Activation)  (None, 128, 512)          0         \n",
            "                                                                 \n",
            " global_average_pooling1d_8   (None, 512)              0         \n",
            " (GlobalAveragePooling1D)                                        \n",
            "                                                                 \n",
            " dense_8 (Dense)             (None, 20)                10260     \n",
            "                                                                 \n",
            "=================================================================\n",
            "Total params: 2,524,020\n",
            "Trainable params: 2,521,908\n",
            "Non-trainable params: 2,112\n",
            "_________________________________________________________________\n",
            "Epoch 1/200\n",
            "995/995 [==============================] - 51s 49ms/step - loss: 0.1670 - accuracy: 0.9601 - auc: 0.9979 - recall: 0.9396 - val_loss: 0.0863 - val_accuracy: 0.9768 - val_auc: 0.9987 - val_recall: 0.9746\n",
            "Epoch 2/200\n",
            "995/995 [==============================] - 48s 49ms/step - loss: 0.0376 - accuracy: 0.9904 - auc: 0.9996 - recall: 0.9883 - val_loss: 0.0912 - val_accuracy: 0.9788 - val_auc: 0.9986 - val_recall: 0.9751\n",
            "Epoch 3/200\n",
            "995/995 [==============================] - 49s 49ms/step - loss: 0.0273 - accuracy: 0.9932 - auc: 0.9997 - recall: 0.9917 - val_loss: 0.2663 - val_accuracy: 0.9118 - val_auc: 0.9948 - val_recall: 0.9076\n",
            "Epoch 4/200\n",
            "995/995 [==============================] - 48s 49ms/step - loss: 0.0198 - accuracy: 0.9944 - auc: 0.9998 - recall: 0.9934 - val_loss: 0.0886 - val_accuracy: 0.9771 - val_auc: 0.9984 - val_recall: 0.9763\n",
            "Epoch 5/200\n",
            "995/995 [==============================] - 49s 49ms/step - loss: 0.0160 - accuracy: 0.9950 - auc: 0.9999 - recall: 0.9943 - val_loss: 0.0368 - val_accuracy: 0.9943 - val_auc: 0.9991 - val_recall: 0.9938\n",
            "Epoch 6/200\n",
            "995/995 [==============================] - 48s 49ms/step - loss: 0.0157 - accuracy: 0.9956 - auc: 0.9999 - recall: 0.9948 - val_loss: 0.0356 - val_accuracy: 0.9943 - val_auc: 0.9993 - val_recall: 0.9943\n",
            "Epoch 7/200\n",
            "995/995 [==============================] - 48s 49ms/step - loss: 0.0098 - accuracy: 0.9971 - auc: 1.0000 - recall: 0.9964 - val_loss: 0.0482 - val_accuracy: 0.9929 - val_auc: 0.9988 - val_recall: 0.9929\n",
            "Epoch 8/200\n",
            "995/995 [==============================] - 49s 49ms/step - loss: 0.0122 - accuracy: 0.9964 - auc: 0.9999 - recall: 0.9960 - val_loss: 0.0490 - val_accuracy: 0.9895 - val_auc: 0.9993 - val_recall: 0.9884\n",
            "Epoch 9/200\n",
            "995/995 [==============================] - 49s 49ms/step - loss: 0.0074 - accuracy: 0.9978 - auc: 1.0000 - recall: 0.9975 - val_loss: 0.0572 - val_accuracy: 0.9907 - val_auc: 0.9990 - val_recall: 0.9901\n",
            "Epoch 10/200\n",
            "995/995 [==============================] - 49s 49ms/step - loss: 0.0095 - accuracy: 0.9972 - auc: 0.9999 - recall: 0.9969 - val_loss: 4.0313 - val_accuracy: 0.5947 - val_auc: 0.8644 - val_recall: 0.5936\n",
            "Epoch 11/200\n",
            "995/995 [==============================] - 49s 49ms/step - loss: 0.0082 - accuracy: 0.9976 - auc: 1.0000 - recall: 0.9973 - val_loss: 0.0316 - val_accuracy: 0.9958 - val_auc: 0.9993 - val_recall: 0.9955\n",
            "Epoch 12/200\n",
            "995/995 [==============================] - 49s 49ms/step - loss: 0.0073 - accuracy: 0.9977 - auc: 1.0000 - recall: 0.9973 - val_loss: 0.0752 - val_accuracy: 0.9859 - val_auc: 0.9981 - val_recall: 0.9850\n",
            "Epoch 13/200\n",
            "995/995 [==============================] - 49s 49ms/step - loss: 0.0057 - accuracy: 0.9982 - auc: 1.0000 - recall: 0.9979 - val_loss: 0.0444 - val_accuracy: 0.9941 - val_auc: 0.9988 - val_recall: 0.9938\n",
            "Epoch 14/200\n",
            "995/995 [==============================] - 49s 49ms/step - loss: 0.0051 - accuracy: 0.9985 - auc: 0.9999 - recall: 0.9983 - val_loss: 0.0515 - val_accuracy: 0.9915 - val_auc: 0.9991 - val_recall: 0.9915\n",
            "Epoch 15/200\n",
            "995/995 [==============================] - 49s 49ms/step - loss: 0.0064 - accuracy: 0.9981 - auc: 1.0000 - recall: 0.9978 - val_loss: 0.1185 - val_accuracy: 0.9757 - val_auc: 0.9976 - val_recall: 0.9751\n",
            "Epoch 16/200\n",
            "995/995 [==============================] - 49s 49ms/step - loss: 0.0053 - accuracy: 0.9982 - auc: 1.0000 - recall: 0.9978 - val_loss: 0.0498 - val_accuracy: 0.9958 - val_auc: 0.9990 - val_recall: 0.9958\n",
            "Epoch 17/200\n",
            "995/995 [==============================] - 49s 49ms/step - loss: 0.0032 - accuracy: 0.9990 - auc: 1.0000 - recall: 0.9987 - val_loss: 0.1012 - val_accuracy: 0.9864 - val_auc: 0.9978 - val_recall: 0.9856\n",
            "Epoch 18/200\n",
            "995/995 [==============================] - 49s 49ms/step - loss: 0.0043 - accuracy: 0.9987 - auc: 1.0000 - recall: 0.9984 - val_loss: 0.0472 - val_accuracy: 0.9949 - val_auc: 0.9990 - val_recall: 0.9946\n",
            "Epoch 19/200\n",
            "995/995 [==============================] - 49s 49ms/step - loss: 0.0026 - accuracy: 0.9991 - auc: 1.0000 - recall: 0.9990 - val_loss: 0.0493 - val_accuracy: 0.9955 - val_auc: 0.9991 - val_recall: 0.9955\n",
            "Epoch 20/200\n",
            "995/995 [==============================] - 48s 49ms/step - loss: 0.0044 - accuracy: 0.9989 - auc: 0.9999 - recall: 0.9988 - val_loss: 0.0574 - val_accuracy: 0.9946 - val_auc: 0.9991 - val_recall: 0.9946\n",
            "Epoch 21/200\n",
            "995/995 [==============================] - 49s 50ms/step - loss: 0.0033 - accuracy: 0.9990 - auc: 1.0000 - recall: 0.9989 - val_loss: 0.0479 - val_accuracy: 0.9969 - val_auc: 0.9991 - val_recall: 0.9966\n",
            "Epoch 22/200\n",
            "995/995 [==============================] - 49s 49ms/step - loss: 0.0032 - accuracy: 0.9992 - auc: 1.0000 - recall: 0.9990 - val_loss: 0.0670 - val_accuracy: 0.9955 - val_auc: 0.9990 - val_recall: 0.9952\n",
            "Epoch 23/200\n",
            "995/995 [==============================] - 48s 49ms/step - loss: 0.0028 - accuracy: 0.9992 - auc: 1.0000 - recall: 0.9991 - val_loss: 0.0513 - val_accuracy: 0.9955 - val_auc: 0.9991 - val_recall: 0.9949\n",
            "Epoch 24/200\n",
            "995/995 [==============================] - 48s 49ms/step - loss: 0.0017 - accuracy: 0.9995 - auc: 1.0000 - recall: 0.9994 - val_loss: 0.0892 - val_accuracy: 0.9836 - val_auc: 0.9986 - val_recall: 0.9836\n",
            "Epoch 25/200\n",
            "995/995 [==============================] - 48s 49ms/step - loss: 0.0027 - accuracy: 0.9991 - auc: 1.0000 - recall: 0.9990 - val_loss: 0.0474 - val_accuracy: 0.9972 - val_auc: 0.9991 - val_recall: 0.9972\n",
            "Epoch 26/200\n",
            "995/995 [==============================] - 49s 49ms/step - loss: 0.0028 - accuracy: 0.9992 - auc: 1.0000 - recall: 0.9991 - val_loss: 0.0388 - val_accuracy: 0.9958 - val_auc: 0.9993 - val_recall: 0.9958\n",
            "Epoch 27/200\n",
            "995/995 [==============================] - 48s 49ms/step - loss: 0.0012 - accuracy: 0.9997 - auc: 1.0000 - recall: 0.9997 - val_loss: 0.0544 - val_accuracy: 0.9969 - val_auc: 0.9991 - val_recall: 0.9960\n",
            "Epoch 28/200\n",
            "995/995 [==============================] - 48s 49ms/step - loss: 0.0031 - accuracy: 0.9990 - auc: 1.0000 - recall: 0.9989 - val_loss: 0.0570 - val_accuracy: 0.9955 - val_auc: 0.9991 - val_recall: 0.9955\n",
            "Epoch 29/200\n",
            "995/995 [==============================] - 48s 48ms/step - loss: 0.0029 - accuracy: 0.9990 - auc: 1.0000 - recall: 0.9990 - val_loss: 0.0638 - val_accuracy: 0.9963 - val_auc: 0.9993 - val_recall: 0.9963\n",
            "Epoch 30/200\n",
            "995/995 [==============================] - 48s 48ms/step - loss: 0.0018 - accuracy: 0.9995 - auc: 1.0000 - recall: 0.9994 - val_loss: 0.1417 - val_accuracy: 0.9785 - val_auc: 0.9961 - val_recall: 0.9785\n",
            "Epoch 31/200\n",
            "995/995 [==============================] - 48s 48ms/step - loss: 0.0014 - accuracy: 0.9996 - auc: 1.0000 - recall: 0.9996 - val_loss: 0.0663 - val_accuracy: 0.9946 - val_auc: 0.9990 - val_recall: 0.9946\n",
            "Epoch 32/200\n",
            "995/995 [==============================] - 48s 48ms/step - loss: 0.0030 - accuracy: 0.9991 - auc: 1.0000 - recall: 0.9990 - val_loss: 0.0819 - val_accuracy: 0.9938 - val_auc: 0.9984 - val_recall: 0.9938\n",
            "Epoch 33/200\n",
            "995/995 [==============================] - 48s 48ms/step - loss: 0.0011 - accuracy: 0.9997 - auc: 1.0000 - recall: 0.9997 - val_loss: 0.0570 - val_accuracy: 0.9958 - val_auc: 0.9993 - val_recall: 0.9955\n",
            "Epoch 34/200\n",
            "995/995 [==============================] - 48s 48ms/step - loss: 0.0017 - accuracy: 0.9994 - auc: 1.0000 - recall: 0.9993 - val_loss: 0.0528 - val_accuracy: 0.9969 - val_auc: 0.9988 - val_recall: 0.9969\n",
            "Epoch 35/200\n",
            "995/995 [==============================] - 48s 49ms/step - loss: 0.0021 - accuracy: 0.9993 - auc: 1.0000 - recall: 0.9992 - val_loss: 0.0559 - val_accuracy: 0.9955 - val_auc: 0.9991 - val_recall: 0.9955\n",
            "Epoch 36/200\n",
            "995/995 [==============================] - 48s 48ms/step - loss: 8.9570e-04 - accuracy: 0.9997 - auc: 1.0000 - recall: 0.9997 - val_loss: 0.0598 - val_accuracy: 0.9963 - val_auc: 0.9993 - val_recall: 0.9963\n",
            "Epoch 37/200\n",
            "995/995 [==============================] - 48s 49ms/step - loss: 0.0016 - accuracy: 0.9994 - auc: 1.0000 - recall: 0.9993 - val_loss: 0.0618 - val_accuracy: 0.9958 - val_auc: 0.9986 - val_recall: 0.9958\n",
            "Epoch 38/200\n",
            "995/995 [==============================] - 48s 49ms/step - loss: 7.6330e-04 - accuracy: 0.9997 - auc: 1.0000 - recall: 0.9997 - val_loss: 0.0630 - val_accuracy: 0.9963 - val_auc: 0.9988 - val_recall: 0.9963\n",
            "Epoch 39/200\n",
            "995/995 [==============================] - 48s 49ms/step - loss: 0.0022 - accuracy: 0.9995 - auc: 1.0000 - recall: 0.9994 - val_loss: 0.0582 - val_accuracy: 0.9935 - val_auc: 0.9985 - val_recall: 0.9935\n",
            "Epoch 40/200\n",
            "995/995 [==============================] - 48s 48ms/step - loss: 0.0016 - accuracy: 0.9995 - auc: 1.0000 - recall: 0.9995 - val_loss: 0.0466 - val_accuracy: 0.9963 - val_auc: 0.9991 - val_recall: 0.9960\n",
            "Epoch 41/200\n",
            "995/995 [==============================] - 48s 48ms/step - loss: 0.0016 - accuracy: 0.9995 - auc: 1.0000 - recall: 0.9994 - val_loss: 0.0580 - val_accuracy: 0.9958 - val_auc: 0.9990 - val_recall: 0.9958\n"
          ]
        },
        {
          "output_type": "display_data",
          "data": {
            "image/png": "[encoded data removed]",
            "text/plain": [
              "<Figure size 432x288 with 1 Axes>"
            ]
          },
          "metadata": {
            "needs_background": "light"
          }
        },
        {
          "output_type": "display_data",
          "data": {
            "image/png": "[encoded data removed]",
            "text/plain": [
              "<Figure size 432x288 with 1 Axes>"
            ]
          },
          "metadata": {
            "needs_background": "light"
          }
        }
      ]
    },
    {
      "cell_type": "code",
      "source": [
        "get_test_performance(model, X_test, test_label)"
      ],
      "metadata": {
        "id": "wFYbY0q6R-G5",
        "colab": {
          "base_uri": "https://localhost:8080/"
        },
        "outputId": "5bc220a6-540c-410e-a637-7256ba476167"
      },
      "execution_count": 31,
      "outputs": [
        {
          "output_type": "stream",
          "name": "stdout",
          "text": [
            "124/124 [==============================] - 2s 15ms/step - loss: 0.0917 - accuracy: 0.9843 - auc: 0.9960 - recall: 0.9810\n",
            "Test loss:0.09174748510122299\n",
            "Test accuracy:0.9842679500579834\n",
            "Test Recall: 0.9809693098068237\n",
            "Test AUC: 0.9959704279899597\n"
          ]
        }
      ]
    }
  ],
  "metadata": {
    "colab": {
      "collapsed_sections": [],
      "name": "CNN-without-SE.ipynb",
      "provenance": [],
      "include_colab_link": true
    },
    "kernelspec": {
      "display_name": "Python 3",
      "name": "python3"
    },
    "language_info": {
      "name": "python"
    },
    "accelerator": "GPU"
  },
  "nbformat": 4,
  "nbformat_minor": 0
}