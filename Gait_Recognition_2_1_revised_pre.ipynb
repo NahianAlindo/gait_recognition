{
  "nbformat": 4,
  "nbformat_minor": 0,
  "metadata": {
    "colab": {
      "name": "Gait_Recognition_2.1_revised_pre.ipynb",
      "provenance": [],
      "collapsed_sections": []
    },
    "kernelspec": {
      "name": "python3",
      "display_name": "Python 3"
    },
    "language_info": {
      "name": "python"
    },
    "accelerator": "GPU"
  },
  "cells": [
    {
      "cell_type": "markdown",
      "metadata": {
        "id": "z6jD2rWSxPG-"
      },
      "source": [
        "# Mount Drive & GPU Status"
      ]
    },
    {
      "cell_type": "code",
      "metadata": {
        "colab": {
          "base_uri": "https://localhost:8080/"
        },
        "id": "oV5bGr9KwdGm",
        "outputId": "5b5c96ac-3220-43c6-ecb9-37c8f3dbfc6d"
      },
      "source": [
        "from google.colab import drive\n",
        "drive.mount('/content/drive')\n",
        "! nvidia-smi"
      ],
      "execution_count": null,
      "outputs": [
        {
          "output_type": "stream",
          "name": "stdout",
          "text": [
            "Mounted at /content/drive\n",
            "Tue Nov 23 08:47:22 2021       \n",
            "+-----------------------------------------------------------------------------+\n",
            "| NVIDIA-SMI 495.44       Driver Version: 460.32.03    CUDA Version: 11.2     |\n",
            "|-------------------------------+----------------------+----------------------+\n",
            "| GPU  Name        Persistence-M| Bus-Id        Disp.A | Volatile Uncorr. ECC |\n",
            "| Fan  Temp  Perf  Pwr:Usage/Cap|         Memory-Usage | GPU-Util  Compute M. |\n",
            "|                               |                      |               MIG M. |\n",
            "|===============================+======================+======================|\n",
            "|   0  Tesla K80           Off  | 00000000:00:04.0 Off |                    0 |\n",
            "| N/A   41C    P8    29W / 149W |      0MiB / 11441MiB |      0%      Default |\n",
            "|                               |                      |                  N/A |\n",
            "+-------------------------------+----------------------+----------------------+\n",
            "                                                                               \n",
            "+-----------------------------------------------------------------------------+\n",
            "| Processes:                                                                  |\n",
            "|  GPU   GI   CI        PID   Type   Process name                  GPU Memory |\n",
            "|        ID   ID                                                   Usage      |\n",
            "|=============================================================================|\n",
            "|  No running processes found                                                 |\n",
            "+-----------------------------------------------------------------------------+\n"
          ]
        }
      ]
    },
    {
      "cell_type": "code",
      "metadata": {
        "colab": {
          "base_uri": "https://localhost:8080/"
        },
        "id": "4JYTQV6S_LJI",
        "outputId": "43b9b341-56e0-40d1-ead4-8ece65cb021e"
      },
      "source": [
        "! pip install keras_tuner"
      ],
      "execution_count": null,
      "outputs": [
        {
          "output_type": "stream",
          "name": "stdout",
          "text": [
            "Collecting keras_tuner\n",
            "  Downloading keras_tuner-1.1.0-py3-none-any.whl (98 kB)\n",
            "\u001b[?25l\r\u001b[K     |███▍                            | 10 kB 27.7 MB/s eta 0:00:01\r\u001b[K     |██████▊                         | 20 kB 22.4 MB/s eta 0:00:01\r\u001b[K     |██████████                      | 30 kB 11.6 MB/s eta 0:00:01\r\u001b[K     |█████████████▍                  | 40 kB 9.2 MB/s eta 0:00:01\r\u001b[K     |████████████████▊               | 51 kB 5.2 MB/s eta 0:00:01\r\u001b[K     |████████████████████            | 61 kB 5.7 MB/s eta 0:00:01\r\u001b[K     |███████████████████████▍        | 71 kB 5.6 MB/s eta 0:00:01\r\u001b[K     |██████████████████████████▊     | 81 kB 6.2 MB/s eta 0:00:01\r\u001b[K     |██████████████████████████████  | 92 kB 4.8 MB/s eta 0:00:01\r\u001b[K     |████████████████████████████████| 98 kB 3.4 MB/s \n",
            "\u001b[?25hRequirement already satisfied: packaging in /usr/local/lib/python3.7/dist-packages (from keras_tuner) (21.3)\n",
            "Requirement already satisfied: tensorboard in /usr/local/lib/python3.7/dist-packages (from keras_tuner) (2.7.0)\n",
            "Requirement already satisfied: requests in /usr/local/lib/python3.7/dist-packages (from keras_tuner) (2.23.0)\n",
            "Requirement already satisfied: scipy in /usr/local/lib/python3.7/dist-packages (from keras_tuner) (1.4.1)\n",
            "Requirement already satisfied: ipython in /usr/local/lib/python3.7/dist-packages (from keras_tuner) (5.5.0)\n",
            "Collecting kt-legacy\n",
            "  Downloading kt_legacy-1.0.4-py3-none-any.whl (9.6 kB)\n",
            "Requirement already satisfied: numpy in /usr/local/lib/python3.7/dist-packages (from keras_tuner) (1.19.5)\n",
            "Requirement already satisfied: pickleshare in /usr/local/lib/python3.7/dist-packages (from ipython->keras_tuner) (0.7.5)\n",
            "Requirement already satisfied: traitlets>=4.2 in /usr/local/lib/python3.7/dist-packages (from ipython->keras_tuner) (5.1.1)\n",
            "Requirement already satisfied: decorator in /usr/local/lib/python3.7/dist-packages (from ipython->keras_tuner) (4.4.2)\n",
            "Requirement already satisfied: pygments in /usr/local/lib/python3.7/dist-packages (from ipython->keras_tuner) (2.6.1)\n",
            "Requirement already satisfied: prompt-toolkit<2.0.0,>=1.0.4 in /usr/local/lib/python3.7/dist-packages (from ipython->keras_tuner) (1.0.18)\n",
            "Requirement already satisfied: pexpect in /usr/local/lib/python3.7/dist-packages (from ipython->keras_tuner) (4.8.0)\n",
            "Requirement already satisfied: simplegeneric>0.8 in /usr/local/lib/python3.7/dist-packages (from ipython->keras_tuner) (0.8.1)\n",
            "Requirement already satisfied: setuptools>=18.5 in /usr/local/lib/python3.7/dist-packages (from ipython->keras_tuner) (57.4.0)\n",
            "Requirement already satisfied: six>=1.9.0 in /usr/local/lib/python3.7/dist-packages (from prompt-toolkit<2.0.0,>=1.0.4->ipython->keras_tuner) (1.15.0)\n",
            "Requirement already satisfied: wcwidth in /usr/local/lib/python3.7/dist-packages (from prompt-toolkit<2.0.0,>=1.0.4->ipython->keras_tuner) (0.2.5)\n",
            "Requirement already satisfied: pyparsing!=3.0.5,>=2.0.2 in /usr/local/lib/python3.7/dist-packages (from packaging->keras_tuner) (3.0.6)\n",
            "Requirement already satisfied: ptyprocess>=0.5 in /usr/local/lib/python3.7/dist-packages (from pexpect->ipython->keras_tuner) (0.7.0)\n",
            "Requirement already satisfied: certifi>=2017.4.17 in /usr/local/lib/python3.7/dist-packages (from requests->keras_tuner) (2021.10.8)\n",
            "Requirement already satisfied: idna<3,>=2.5 in /usr/local/lib/python3.7/dist-packages (from requests->keras_tuner) (2.10)\n",
            "Requirement already satisfied: urllib3!=1.25.0,!=1.25.1,<1.26,>=1.21.1 in /usr/local/lib/python3.7/dist-packages (from requests->keras_tuner) (1.24.3)\n",
            "Requirement already satisfied: chardet<4,>=3.0.2 in /usr/local/lib/python3.7/dist-packages (from requests->keras_tuner) (3.0.4)\n",
            "Requirement already satisfied: google-auth-oauthlib<0.5,>=0.4.1 in /usr/local/lib/python3.7/dist-packages (from tensorboard->keras_tuner) (0.4.6)\n",
            "Requirement already satisfied: markdown>=2.6.8 in /usr/local/lib/python3.7/dist-packages (from tensorboard->keras_tuner) (3.3.6)\n",
            "Requirement already satisfied: grpcio>=1.24.3 in /usr/local/lib/python3.7/dist-packages (from tensorboard->keras_tuner) (1.42.0)\n",
            "Requirement already satisfied: protobuf>=3.6.0 in /usr/local/lib/python3.7/dist-packages (from tensorboard->keras_tuner) (3.17.3)\n",
            "Requirement already satisfied: wheel>=0.26 in /usr/local/lib/python3.7/dist-packages (from tensorboard->keras_tuner) (0.37.0)\n",
            "Requirement already satisfied: tensorboard-plugin-wit>=1.6.0 in /usr/local/lib/python3.7/dist-packages (from tensorboard->keras_tuner) (1.8.0)\n",
            "Requirement already satisfied: tensorboard-data-server<0.7.0,>=0.6.0 in /usr/local/lib/python3.7/dist-packages (from tensorboard->keras_tuner) (0.6.1)\n",
            "Requirement already satisfied: google-auth<3,>=1.6.3 in /usr/local/lib/python3.7/dist-packages (from tensorboard->keras_tuner) (1.35.0)\n",
            "Requirement already satisfied: werkzeug>=0.11.15 in /usr/local/lib/python3.7/dist-packages (from tensorboard->keras_tuner) (1.0.1)\n",
            "Requirement already satisfied: absl-py>=0.4 in /usr/local/lib/python3.7/dist-packages (from tensorboard->keras_tuner) (0.12.0)\n",
            "Requirement already satisfied: pyasn1-modules>=0.2.1 in /usr/local/lib/python3.7/dist-packages (from google-auth<3,>=1.6.3->tensorboard->keras_tuner) (0.2.8)\n",
            "Requirement already satisfied: rsa<5,>=3.1.4 in /usr/local/lib/python3.7/dist-packages (from google-auth<3,>=1.6.3->tensorboard->keras_tuner) (4.7.2)\n",
            "Requirement already satisfied: cachetools<5.0,>=2.0.0 in /usr/local/lib/python3.7/dist-packages (from google-auth<3,>=1.6.3->tensorboard->keras_tuner) (4.2.4)\n",
            "Requirement already satisfied: requests-oauthlib>=0.7.0 in /usr/local/lib/python3.7/dist-packages (from google-auth-oauthlib<0.5,>=0.4.1->tensorboard->keras_tuner) (1.3.0)\n",
            "Requirement already satisfied: importlib-metadata>=4.4 in /usr/local/lib/python3.7/dist-packages (from markdown>=2.6.8->tensorboard->keras_tuner) (4.8.2)\n",
            "Requirement already satisfied: typing-extensions>=3.6.4 in /usr/local/lib/python3.7/dist-packages (from importlib-metadata>=4.4->markdown>=2.6.8->tensorboard->keras_tuner) (3.10.0.2)\n",
            "Requirement already satisfied: zipp>=0.5 in /usr/local/lib/python3.7/dist-packages (from importlib-metadata>=4.4->markdown>=2.6.8->tensorboard->keras_tuner) (3.6.0)\n",
            "Requirement already satisfied: pyasn1<0.5.0,>=0.4.6 in /usr/local/lib/python3.7/dist-packages (from pyasn1-modules>=0.2.1->google-auth<3,>=1.6.3->tensorboard->keras_tuner) (0.4.8)\n",
            "Requirement already satisfied: oauthlib>=3.0.0 in /usr/local/lib/python3.7/dist-packages (from requests-oauthlib>=0.7.0->google-auth-oauthlib<0.5,>=0.4.1->tensorboard->keras_tuner) (3.1.1)\n",
            "Installing collected packages: kt-legacy, keras-tuner\n",
            "Successfully installed keras-tuner-1.1.0 kt-legacy-1.0.4\n"
          ]
        }
      ]
    },
    {
      "cell_type": "markdown",
      "metadata": {
        "id": "OFeoiGEdxYHO"
      },
      "source": [
        "# Import libraries"
      ]
    },
    {
      "cell_type": "code",
      "metadata": {
        "id": "xHFcuHQsw5fJ"
      },
      "source": [
        "import tensorflow\n",
        "from tensorflow import keras\n",
        "import keras_tuner as kt\n",
        "import os\n",
        "import numpy as np\n",
        "# import keras\n",
        "import keras.backend as K\n",
        "from tensorflow.keras.layers import Input, Masking, LSTM, Dropout, Permute, Conv1D, BatchNormalization, Activation, GlobalAveragePooling1D, concatenate, multiply, Reshape, Dense\n",
        "from tensorflow.keras.models import Model\n",
        "from tensorflow.keras import Input\n",
        "from matplotlib import pyplot as plt\n",
        "from sklearn.model_selection import GridSearchCV\n",
        "from tensorflow.keras.constraints import max_norm as maxnorm\n",
        "import seaborn as sns\n",
        "import tensorflow.keras.metrics as metrics\n",
        "from tensorflow.keras.wrappers.scikit_learn import KerasClassifier"
      ],
      "execution_count": null,
      "outputs": []
    },
    {
      "cell_type": "markdown",
      "metadata": {
        "id": "vl7Q1dMzxmRt"
      },
      "source": [
        "# Number of classes for dataset 1"
      ]
    },
    {
      "cell_type": "code",
      "metadata": {
        "id": "aRJpvd_RxqCY"
      },
      "source": [
        "num_classes = 118"
      ],
      "execution_count": null,
      "outputs": []
    },
    {
      "cell_type": "markdown",
      "metadata": {
        "id": "tvh40OBxxyQo"
      },
      "source": [
        "# Utility functions for loading datasets, plots and test performance"
      ]
    },
    {
      "cell_type": "code",
      "metadata": {
        "id": "VF5AmxbOx85e"
      },
      "source": [
        "def load_X(path):\n",
        "    X_signals = []\n",
        "    files = os.listdir(path)\n",
        "    files.sort(key=str.lower)\n",
        "    #['train_acc_x.txt', 'train_acc_y.txt', 'train_acc_z.txt', 'train_gyr_x.txt', 'train_gyr_y.txt', 'train_gyr_z.txt']\n",
        "    for my_file in files:\n",
        "        fileName = os.path.join(path,my_file)\n",
        "        file = open(fileName, 'r')\n",
        "        X_signals.append(\n",
        "            [np.array(cell, dtype=np.float32) for cell in [\n",
        "                row.strip().split(' ') for row in file\n",
        "            ]]\n",
        "        )\n",
        "        file.close()\n",
        "        #X_signals = 6*totalStepNum*128\n",
        "    X_signals = np.transpose(np.array(X_signals), (1, 0, 2))#(totalStepNum*6*128)\n",
        "    return X_signals.reshape(-1,6,128,1)#(totalStepNum*6*128*1)\n",
        "\n",
        "def load_y(y_path):\n",
        "    file = open(y_path, 'r')\n",
        "    # Read dataset from disk, dealing with text file's syntax\n",
        "    y_ = np.array(\n",
        "        [elem for elem in [\n",
        "            row.replace('  ', ' ').strip().split(' ') for row in file\n",
        "        ]],\n",
        "        dtype=np.int32\n",
        "    )\n",
        "    file.close()\n",
        "    # Substract 1 to each output class for friendly 0-based indexing\n",
        "    y_ = y_ - 1\n",
        "    #one_hot\n",
        "    y_ = y_.reshape(len(y_))\n",
        "    n_values = int(np.max(y_)) + 1\n",
        "    return np.eye(n_values)[np.array(y_, dtype=np.int32)]  # Returns FLOATS"
      ],
      "execution_count": null,
      "outputs": []
    },
    {
      "cell_type": "code",
      "metadata": {
        "id": "0zgWq9CgyKPF"
      },
      "source": [
        "def plot_performance(X_train, train_label):\n",
        "    history = model.fit(X_train, train_label, validation_split = 0.1, epochs=100, shuffle=True, batch_size=512, callbacks=keras.callbacks.EarlyStopping(monitor='val_loss', patience=50))#, callbacks=[es_callback])\n",
        "    plt.plot(history.history['accuracy'])\n",
        "    plt.plot(history.history['val_accuracy'])\n",
        "    plt.title('model accuracy')\n",
        "    plt.ylabel('accuracy')\n",
        "    plt.xlabel('epoch')\n",
        "    plt.legend(['train', 'val'], loc='upper left')\n",
        "    plt.show()\n",
        "\n",
        "    plt.plot(history.history['loss'])\n",
        "    plt.plot(history.history['val_loss'])\n",
        "    plt.title('model loss')\n",
        "    plt.ylabel('loss')\n",
        "    plt.xlabel('epoch')\n",
        "    plt.legend(['train', 'val'], loc='upper left')\n",
        "    plt.show()"
      ],
      "execution_count": null,
      "outputs": []
    },
    {
      "cell_type": "code",
      "metadata": {
        "id": "QKjyU7fmyOBJ"
      },
      "source": [
        "def get_test_performance(model, X_test, test_label):\n",
        "    score=model.evaluate(X_test,test_label,verbose=1)\n",
        "    print(f'Test loss:{score[0]}')\n",
        "    print(f'Test accuracy:{score[1]}')\n",
        "    print(f'Test Recall: {score[3]}')\n",
        "    print(f'Test AUC: {score[2]}')"
      ],
      "execution_count": null,
      "outputs": []
    },
    {
      "cell_type": "markdown",
      "metadata": {
        "id": "kffBDIf_ySUm"
      },
      "source": [
        "# Squeeze Excite Block"
      ]
    },
    {
      "cell_type": "code",
      "metadata": {
        "id": "7Kxagxxu1Ek6"
      },
      "source": [
        "def squeeze_excite_block(tensor, ratio=16):\n",
        "    init = tensor\n",
        "    # channel_axis = 1 if K.image_data_format() == \"channels_first\" else -1\n",
        "    filters = init.shape[-1]\n",
        "    se_shape = (1, filters)\n",
        "\n",
        "    se = GlobalAveragePooling1D()(init)\n",
        "    se = Reshape(se_shape)(se)\n",
        "    se = Dense(filters // ratio, activation='relu', kernel_initializer='he_normal', use_bias=False)(se)\n",
        "    se = Dense(filters, activation='sigmoid', kernel_initializer='he_normal', use_bias=False)(se)\n",
        "\n",
        "    # if K.image_data_format() == 'channels_first':\n",
        "    #     se = Permute((3, 1, 2))(se)\n",
        "\n",
        "    x = multiply([init, se])\n",
        "    return x"
      ],
      "execution_count": null,
      "outputs": []
    },
    {
      "cell_type": "markdown",
      "metadata": {
        "id": "L5RDQkZD1I1p"
      },
      "source": [
        "# Dataset 1"
      ]
    },
    {
      "cell_type": "code",
      "metadata": {
        "id": "L5KXrEBC1Nwi"
      },
      "source": [
        "np.random.seed(42)\n",
        "X_train = load_X('/content/drive/Shareddrives/MMH/TIFS20/Dataset #1/train/Inertial Signals')\n",
        "X_test = load_X('/content/drive/Shareddrives/MMH/TIFS20/Dataset #1/test/Inertial Signals')\n",
        "train_label = load_y('/content/drive/Shareddrives/MMH/TIFS20/Dataset #1/train/y_train.txt')\n",
        "test_label = load_y('/content/drive/Shareddrives/MMH/TIFS20/Dataset #1/test/y_test.txt')\n",
        "shape = ((X_train.shape[1], X_train.shape[2]), train_label.shape[1])\n",
        "batch_size = 32"
      ],
      "execution_count": null,
      "outputs": []
    },
    {
      "cell_type": "markdown",
      "metadata": {
        "id": "FXVr7D9U_qZK"
      },
      "source": [
        "# optimization with keras tuner"
      ]
    },
    {
      "cell_type": "markdown",
      "metadata": {
        "id": "MCjVfPjRbeB0"
      },
      "source": [
        "### Model with Post-SE (Standard)"
      ]
    },
    {
      "cell_type": "code",
      "metadata": {
        "id": "pOOTO_9r-WYd"
      },
      "source": [
        "def post_se(hp):\n",
        "    ip = Input(shape=(6, 128))\n",
        "    x = Masking()(ip)\n",
        "    x = LSTM(units=hp.Choice('lstm_1', values = [8,16,32,64,128,256,512,1024,2048,4096]))(x)\n",
        "    x = Dropout(hp.Choice(name='Dropout', values = [0.1, 0.2, 0.3, 0.4, 0.5, 0.6, 0.7, 0.8]))(x)\n",
        "    y = Permute((2, 1))(ip)\n",
        "    y = Conv1D(hp.Choice('conv_1_filter', values = [32,64,128,256,512,1024,2048,4096]), hp.Choice(name='conv_1_filter_stride', values = [3,5,7,8,9]), padding='same', kernel_initializer='he_uniform')(y)\n",
        "    y = BatchNormalization()(y)\n",
        "    y = Activation('relu')(y)\n",
        "    y = squeeze_excite_block(y)\n",
        "    y = Conv1D(hp.Choice('conv_2_filter', values = [32,64,128,256,512,1024,2048,4096]), hp.Choice(name='conv_2_filter_stride',values = [3,5,7,8,9]), padding='same', kernel_initializer='he_uniform')(y)\n",
        "    y = BatchNormalization()(y)\n",
        "    y = Activation('relu')(y)\n",
        "    y = squeeze_excite_block(y)\n",
        "    y = Conv1D(hp.Choice('conv_3_filter', values = [32,64,128,256,512,1024,2048,4096]), hp.Choice(name='conv_3_filter_stride',values = [3,5,7,8,9]), padding='same', kernel_initializer='he_uniform')(y)\n",
        "    y = BatchNormalization()(y)\n",
        "    y = Activation('relu')(y)\n",
        "    y = GlobalAveragePooling1D()(y)\n",
        "    x = concatenate([x,y])\n",
        "    # batch_size = hp.Choice('batch_size', values=[32, 64, 128, 256, 512, 1024, 2048, 4096])\n",
        "    out = Dense(num_classes, activation='softmax')(x)\n",
        "    model = Model(ip, out)\n",
        "    model.compile(optimizer=keras.optimizers.Adam(hp.Choice('learning_rate', values=[1e-1, 1e-2, 1e-3, 3*1e-1, 3*1e-2, 3*1e-3, 3*1e-4, 1e-4, 1.0])), \\\n",
        "                  loss='categorical_crossentropy',metrics=['accuracy'])\n",
        "    # model.summary()\n",
        "\n",
        "    return model"
      ],
      "execution_count": null,
      "outputs": []
    },
    {
      "cell_type": "markdown",
      "metadata": {
        "id": "bVOIG8bGeF_W"
      },
      "source": [
        "#### post-SE Tuning"
      ]
    },
    {
      "cell_type": "code",
      "metadata": {
        "id": "Cx3w0tqgeF_X"
      },
      "source": [
        "class MyTuner(kt.tuners.RandomSearch):\n",
        "  def run_trial(self, trial, *args, **kwargs):\n",
        "    # You can add additional HyperParameters for preprocessing and custom training loops\n",
        "    # via overriding `run_trial`\n",
        "    hp = trial.hyperparameters\n",
        "    model = self.hypermodel.build(hp)\n",
        "    batch_size = hp.Choice('batch_size', values=[32, 64, 128, 256, 512, 1024, 2048, 4096])\n",
        "    # kwargs['epochs'] = trial.hyperparameters.Int('epochs', 10, 30)\n",
        "    super(MyTuner, self).run_trial(trial, *args, **kwargs)\n",
        "\n",
        "tuner = kt.tuners.RandomSearch(post_se,\n",
        "    objective='val_accuracy',\n",
        "    max_trials=10,\n",
        "    seed=42,\n",
        "    project_name='Model6')\n",
        "# Will stop training if the \"val_loss\" hasn't improved in 3 epochs.\n",
        "tuner.search(X_train, train_label, epochs=200, validation_split=0.2, shuffle=True, callbacks=[tensorflow.keras.callbacks.EarlyStopping('val_loss', patience=30)])"
      ],
      "execution_count": null,
      "outputs": []
    },
    {
      "cell_type": "markdown",
      "metadata": {
        "id": "vxTlB4V4bUTQ"
      },
      "source": [
        "### Model with Pre-SE"
      ]
    },
    {
      "cell_type": "code",
      "metadata": {
        "id": "uIvthL-BbnaF"
      },
      "source": [
        "def pre_se(hp):\n",
        "    ip = Input(shape=(6, 128))\n",
        "    x = Masking()(ip)\n",
        "    x = LSTM(units=hp.Choice('lstm_1', values = [8,16,32,64,128,256,512,1024,2048,4096]))(x)\n",
        "    x = Dropout(hp.Choice(name='Dropout', values = [0.1, 0.2, 0.3, 0.4, 0.5, 0.6, 0.7, 0.8]))(x)\n",
        "    y = Permute((2, 1))(ip)\n",
        "    y = squeeze_excite_block(y)\n",
        "    y = Conv1D(hp.Choice('conv_1_filter', values = [32,64,128,256,512,1024,2048,4096]), hp.Choice(name='conv_1_filter_stride', values = [3,5,7,8,9]), padding='same', kernel_initializer='he_uniform')(y)\n",
        "    y = BatchNormalization()(y)\n",
        "    y = Activation('relu')(y)\n",
        "    y = squeeze_excite_block(y)\n",
        "    y = Conv1D(hp.Choice('conv_2_filter', values = [32,64,128,256,512,1024,2048,4096]), hp.Choice(name='conv_2_filter_stride',values = [3,5,7,8,9]), padding='same', kernel_initializer='he_uniform')(y)\n",
        "    y = BatchNormalization()(y)\n",
        "    y = Activation('relu')(y)\n",
        "    y = Conv1D(hp.Choice('conv_3_filter', values = [32,64,128,256,512,1024,2048,4096]), hp.Choice(name='conv_3_filter_stride',values = [3,5,7,8,9]), padding='same', kernel_initializer='he_uniform')(y)\n",
        "    y = BatchNormalization()(y)\n",
        "    y = Activation('relu')(y)\n",
        "    y = GlobalAveragePooling1D()(y)\n",
        "    x = concatenate([x,y])\n",
        "    # batch_size = hp.Choice('batch_size', values=[32, 64, 128, 256, 512, 1024, 2048, 4096])\n",
        "    out = Dense(num_classes, activation='softmax')(x)\n",
        "    model = Model(ip, out)\n",
        "    model.compile(optimizer=keras.optimizers.Adam(hp.Choice('learning_rate', values=[1e-1, 1e-2, 1e-3, 3*1e-1, 3*1e-2, 3*1e-3, 3*1e-4, 1e-4, 1.0])), \\\n",
        "                  loss='categorical_crossentropy',metrics=['accuracy'])\n",
        "    # model.summary()\n",
        "\n",
        "    return model"
      ],
      "execution_count": null,
      "outputs": []
    },
    {
      "cell_type": "markdown",
      "metadata": {
        "id": "JpkAyWiseKkc"
      },
      "source": [
        "#### Pre-SE Tuning"
      ]
    },
    {
      "cell_type": "code",
      "metadata": {
        "id": "2IogVuM7Sr4L"
      },
      "source": [
        "i = 1"
      ],
      "execution_count": null,
      "outputs": []
    },
    {
      "cell_type": "code",
      "metadata": {
        "id": "DXn85mXpeKkc"
      },
      "source": [
        "# class MyTuner(kt.tuners.RandomSearch):\n",
        "#   def run_trial(self, trial, *args, **kwargs):\n",
        "#     # You can add additional HyperParameters for preprocessing and custom training loops\n",
        "#     # via overriding `run_trial`\n",
        "#     hp = trial.hyperparameters\n",
        "#     model = self.hypermodel.build(hp)\n",
        "#     batch_size = hp.Choice('batch_size', values=[32, 64, 128, 256, 512, 1024, 2048, 4096])\n",
        "#     # kwargs['epochs'] = trial.hyperparameters.Int('epochs', 10, 30)\n",
        "#     super(MyTuner, self).run_trial(trial, *args, **kwargs)\n",
        "\n",
        "\n",
        "i += 1\n",
        "tuner = kt.tuners.RandomSearch(pre_se,\n",
        "    objective='val_accuracy',\n",
        "    max_trials=10,\n",
        "    seed=42,\n",
        "    project_name=f'Model{i}')\n",
        "# Will stop training if the \"val_loss\" hasn't improved in 3 epochs.\n",
        "tuner.search(X_train, train_label, epochs=200, validation_split=0.2, shuffle=True, callbacks=[tensorflow.keras.callbacks.EarlyStopping('val_loss', patience=30)])"
      ],
      "execution_count": null,
      "outputs": []
    },
    {
      "cell_type": "markdown",
      "metadata": {
        "id": "rTqaJ_udbili"
      },
      "source": [
        "### Model with Identity SE"
      ]
    },
    {
      "cell_type": "code",
      "metadata": {
        "id": "WxC2-36YbpAK"
      },
      "source": [
        "def identity_se(hp):\n",
        "    ip = Input(shape=(6, 128))\n",
        "    x = Masking()(ip)\n",
        "    x = LSTM(units=hp.Choice('lstm_1', values = [8,16,32,64,128,256,512,1024,2048,4096]))(x)\n",
        "    x = Dropout(hp.Choice(name='Dropout', values = [0.1, 0.2, 0.3, 0.4, 0.5, 0.6, 0.7, 0.8]))(x)\n",
        "    y = Permute((2, 1))(ip)\n",
        "    y = Conv1D(hp.Choice('conv_1_filter', values = [32,64,128,256,512,1024,2048,4096]), hp.Choice(name='conv_1_filter_stride', values = [3,5,7,8,9]), padding='same', kernel_initializer='he_uniform')(y)\n",
        "    y = BatchNormalization()(y)\n",
        "    y = Activation('relu')(y)\n",
        "    y = squeeze_excite_block(y)\n",
        "    y = Conv1D(hp.Choice('conv_2_filter', values = [32,64,128,256,512,1024,2048,4096]), hp.Choice(name='conv_2_filter_stride',values = [3,5,7,8,9]), padding='same', kernel_initializer='he_uniform')(y)\n",
        "    y = BatchNormalization()(y)\n",
        "    y = Activation('relu')(y)\n",
        "    y = squeeze_excite_block(y)\n",
        "    y = Conv1D(hp.Choice('conv_3_filter', values = [32,64,128,256,512,1024,2048,4096]), hp.Choice(name='conv_3_filter_stride',values = [3,5,7,8,9]), padding='same', kernel_initializer='he_uniform')(y)\n",
        "    y = BatchNormalization()(y)\n",
        "    y = Activation('relu')(y)\n",
        "    y = GlobalAveragePooling1D()(y)\n",
        "    x = concatenate([x,y])\n",
        "    batch_size = hp.Choice('batch_size', values=[32, 64, 128, 256, 512, 1024, 2048, 4096])\n",
        "    out = Dense(num_classes, activation='softmax')(x)\n",
        "    model = Model(ip, out)\n",
        "    model.compile(optimizer=keras.optimizers.Adam(hp.Choice('learning_rate', values=[1e-1, 1e-2, 1e-3, 3*1e-1, 3*1e-2, 3*1e-3, 3*1e-4, 1e-4, 1.0])), \\\n",
        "                  loss='categorical_crossentropy',metrics=['accuracy'])\n",
        "    # model.summary()\n",
        "\n",
        "    return model"
      ],
      "execution_count": null,
      "outputs": []
    },
    {
      "cell_type": "markdown",
      "metadata": {
        "id": "RI1kUF62dcXD"
      },
      "source": [
        "### Identity SE Tuning"
      ]
    },
    {
      "cell_type": "code",
      "metadata": {
        "id": "mc5QEPzL-9Ki"
      },
      "source": [
        "class MyTuner(kt.tuners.RandomSearch):\n",
        "  def run_trial(self, trial, *args, **kwargs):\n",
        "    # You can add additional HyperParameters for preprocessing and custom training loops\n",
        "    # via overriding `run_trial`\n",
        "    hp = trial.hyperparameters\n",
        "    model = self.hypermodel.build(hp)\n",
        "    batch_size = hp.Choice('batch_size', values=[32, 64, 128, 256, 512, 1024, 2048, 4096])\n",
        "    # kwargs['epochs'] = trial.hyperparameters.Int('epochs', 10, 30)\n",
        "    super(MyTuner, self).run_trial(trial, *args, **kwargs)\n",
        "\n",
        "tuner = kt.tuners.RandomSearch(identity_se,\n",
        "    objective='val_accuracy',\n",
        "    max_trials=10,\n",
        "    seed=42,\n",
        "    project_name='Model6')\n",
        "# Will stop training if the \"val_loss\" hasn't improved in 3 epochs.\n",
        "tuner.search(X_train, train_label, epochs=200, validation_split=0.2, shuffle=True, callbacks=[tensorflow.keras.callbacks.EarlyStopping('val_loss', patience=30)])"
      ],
      "execution_count": null,
      "outputs": []
    },
    {
      "cell_type": "code",
      "metadata": {
        "colab": {
          "base_uri": "https://localhost:8080/"
        },
        "id": "eDl4mGfU_u9N",
        "outputId": "e831f435-2091-49c8-a1df-a3b1d4db1c2b"
      },
      "source": [
        "print(dir(kt.tuners))"
      ],
      "execution_count": null,
      "outputs": [
        {
          "output_type": "stream",
          "name": "stdout",
          "text": [
            "['BayesianOptimization', 'Hyperband', 'RandomSearch', 'Sklearn', 'SklearnTuner', '__builtins__', '__cached__', '__doc__', '__file__', '__loader__', '__name__', '__package__', '__path__', '__spec__', 'bayesian', 'hyperband', 'randomsearch', 'sklearn_tuner']\n"
          ]
        }
      ]
    },
    {
      "cell_type": "code",
      "metadata": {
        "colab": {
          "base_uri": "https://localhost:8080/"
        },
        "id": "-FZVwydi_wuh",
        "outputId": "e56fef2c-79bb-469f-8ed0-8ca14595de90"
      },
      "source": [
        "layers = ['lstm_1', 'Dropout', 'conv_1_filter', 'conv_1_filter_stride', 'conv_2_filter', 'conv_2_filter_stride', 'conv_3_filter', 'conv_3_filter_stride', 'learning_rate']\n",
        "best_hyperparameters = tuner.get_best_hyperparameters(1)[0]\n",
        "print('Optimal Hyperparameters:')\n",
        "for i in layers:\n",
        "    print(f\"{i}: {best_hyperparameters.get(i)}\")"
      ],
      "execution_count": null,
      "outputs": [
        {
          "output_type": "stream",
          "name": "stdout",
          "text": [
            "Optimal Hyperparameters:\n",
            "lstm_1: 128\n",
            "Dropout: 0.6\n",
            "conv_1_filter: 512\n",
            "conv_1_filter_stride: 8\n",
            "conv_2_filter: 128\n",
            "conv_2_filter_stride: 8\n",
            "conv_3_filter: 2048\n",
            "conv_3_filter_stride: 7\n",
            "learning_rate: 0.01\n"
          ]
        }
      ]
    },
    {
      "cell_type": "code",
      "metadata": {
        "id": "efic32CW7GRl",
        "colab": {
          "base_uri": "https://localhost:8080/"
        },
        "outputId": "82a12884-c2c7-46d3-e224-e9909fd00688"
      },
      "source": [
        "model = tensorflow.keras.models.load_model('/content/drive/Shareddrives/MMH/models/MLSTM_FCN_tuned.h5')"
      ],
      "execution_count": null,
      "outputs": [
        {
          "output_type": "stream",
          "name": "stdout",
          "text": [
            "WARNING:tensorflow:Error in loading the saved optimizer state. As a result, your model is starting with a freshly initialized optimizer.\n"
          ]
        }
      ]
    },
    {
      "cell_type": "code",
      "metadata": {
        "id": "viXF0m24NNO5"
      },
      "source": [
        "model.summary()"
      ],
      "execution_count": null,
      "outputs": []
    },
    {
      "cell_type": "markdown",
      "metadata": {
        "id": "NqMxxlxg9da9"
      },
      "source": [
        "# The best models start from here using PRE-SE"
      ]
    },
    {
      "cell_type": "code",
      "metadata": {
        "id": "snfUTLHaPTkl"
      },
      "source": [
        "def MLSTM_FCN(shape, num_classes):\n",
        "    x = Input(shape=(6, 128))\n",
        "    ip = x\n",
        "    x = Masking()(ip)\n",
        "    x = LSTM(units=8)(x)\n",
        "    x = Dropout(0.8)(x)\n",
        "    y = Permute((2, 1))(ip)\n",
        "    y = squeeze_excite_block(y)\n",
        "    y = Conv1D(256, 8, padding='same', kernel_initializer='he_uniform')(y)\n",
        "    y = BatchNormalization()(y)\n",
        "    y = Activation('relu')(y)\n",
        "    y = squeeze_excite_block(y)\n",
        "    y = Conv1D(128, 5, padding='same', kernel_initializer='he_uniform')(y)\n",
        "    y = BatchNormalization()(y)\n",
        "    y = Activation('relu')(y)\n",
        "    y = Conv1D(64, 3, padding='same', kernel_initializer='he_uniform')(y)\n",
        "    y = BatchNormalization()(y)\n",
        "    y = Activation('relu')(y)\n",
        "    y = GlobalAveragePooling1D()(y)\n",
        "    x = concatenate([x,y])\n",
        "    \n",
        "    out = Dense(num_classes, activation='softmax')(x)\n",
        "    model = Model(ip, out)\n",
        "    model.compile(optimizer=\"adam\", loss=\"categorical_crossentropy\",metrics=['accuracy','AUC','Recall'])\n",
        "    model.summary()\n",
        "\n",
        "    return model"
      ],
      "execution_count": null,
      "outputs": []
    },
    {
      "cell_type": "code",
      "metadata": {
        "colab": {
          "base_uri": "https://localhost:8080/"
        },
        "id": "ueT3mD6wSiQg",
        "outputId": "b7422202-2c93-4a3c-fc2b-a06be3d28b0e"
      },
      "source": [
        "model = MLSTM_FCN((X_train.shape[1], X_train.shape[2]), train_label.shape[1])"
      ],
      "execution_count": null,
      "outputs": [
        {
          "output_type": "stream",
          "name": "stdout",
          "text": [
            "Model: \"model\"\n",
            "__________________________________________________________________________________________________\n",
            " Layer (type)                   Output Shape         Param #     Connected to                     \n",
            "==================================================================================================\n",
            " input_1 (InputLayer)           [(None, 6, 128)]     0           []                               \n",
            "                                                                                                  \n",
            " permute (Permute)              (None, 128, 6)       0           ['input_1[0][0]']                \n",
            "                                                                                                  \n",
            " global_average_pooling1d (Glob  (None, 6)           0           ['permute[0][0]']                \n",
            " alAveragePooling1D)                                                                              \n",
            "                                                                                                  \n",
            " reshape (Reshape)              (None, 1, 6)         0           ['global_average_pooling1d[0][0]'\n",
            "                                                                 ]                                \n",
            "                                                                                                  \n",
            " dense (Dense)                  (None, 1, 0)         0           ['reshape[0][0]']                \n",
            "                                                                                                  \n",
            " dense_1 (Dense)                (None, 1, 6)         0           ['dense[0][0]']                  \n",
            "                                                                                                  \n",
            " multiply (Multiply)            (None, 128, 6)       0           ['permute[0][0]',                \n",
            "                                                                  'dense_1[0][0]']                \n",
            "                                                                                                  \n",
            " conv1d (Conv1D)                (None, 128, 256)     12544       ['multiply[0][0]']               \n",
            "                                                                                                  \n",
            " batch_normalization (BatchNorm  (None, 128, 256)    1024        ['conv1d[0][0]']                 \n",
            " alization)                                                                                       \n",
            "                                                                                                  \n",
            " activation (Activation)        (None, 128, 256)     0           ['batch_normalization[0][0]']    \n",
            "                                                                                                  \n",
            " global_average_pooling1d_1 (Gl  (None, 256)         0           ['activation[0][0]']             \n",
            " obalAveragePooling1D)                                                                            \n",
            "                                                                                                  \n",
            " reshape_1 (Reshape)            (None, 1, 256)       0           ['global_average_pooling1d_1[0][0\n",
            "                                                                 ]']                              \n",
            "                                                                                                  \n",
            " dense_2 (Dense)                (None, 1, 16)        4096        ['reshape_1[0][0]']              \n",
            "                                                                                                  \n",
            " dense_3 (Dense)                (None, 1, 256)       4096        ['dense_2[0][0]']                \n",
            "                                                                                                  \n",
            " multiply_1 (Multiply)          (None, 128, 256)     0           ['activation[0][0]',             \n",
            "                                                                  'dense_3[0][0]']                \n",
            "                                                                                                  \n",
            " conv1d_1 (Conv1D)              (None, 128, 128)     163968      ['multiply_1[0][0]']             \n",
            "                                                                                                  \n",
            " batch_normalization_1 (BatchNo  (None, 128, 128)    512         ['conv1d_1[0][0]']               \n",
            " rmalization)                                                                                     \n",
            "                                                                                                  \n",
            " activation_1 (Activation)      (None, 128, 128)     0           ['batch_normalization_1[0][0]']  \n",
            "                                                                                                  \n",
            " conv1d_2 (Conv1D)              (None, 128, 64)      24640       ['activation_1[0][0]']           \n",
            "                                                                                                  \n",
            " masking (Masking)              (None, 6, 128)       0           ['input_1[0][0]']                \n",
            "                                                                                                  \n",
            " batch_normalization_2 (BatchNo  (None, 128, 64)     256         ['conv1d_2[0][0]']               \n",
            " rmalization)                                                                                     \n",
            "                                                                                                  \n",
            " lstm (LSTM)                    (None, 8)            4384        ['masking[0][0]']                \n",
            "                                                                                                  \n",
            " activation_2 (Activation)      (None, 128, 64)      0           ['batch_normalization_2[0][0]']  \n",
            "                                                                                                  \n",
            " dropout (Dropout)              (None, 8)            0           ['lstm[0][0]']                   \n",
            "                                                                                                  \n",
            " global_average_pooling1d_2 (Gl  (None, 64)          0           ['activation_2[0][0]']           \n",
            " obalAveragePooling1D)                                                                            \n",
            "                                                                                                  \n",
            " concatenate (Concatenate)      (None, 72)           0           ['dropout[0][0]',                \n",
            "                                                                  'global_average_pooling1d_2[0][0\n",
            "                                                                 ]']                              \n",
            "                                                                                                  \n",
            " dense_4 (Dense)                (None, 118)          8614        ['concatenate[0][0]']            \n",
            "                                                                                                  \n",
            "==================================================================================================\n",
            "Total params: 224,134\n",
            "Trainable params: 223,238\n",
            "Non-trainable params: 896\n",
            "__________________________________________________________________________________________________\n"
          ]
        }
      ]
    },
    {
      "cell_type": "code",
      "metadata": {
        "colab": {
          "base_uri": "https://localhost:8080/"
        },
        "id": "aUwoDNQZSzml",
        "outputId": "a48cc059-8133-4fe0-e73e-e4b439a1c7ce"
      },
      "source": [
        "model.fit(X_train,train_label,batch_size=32,epochs=200,verbose=1,callbacks=[tensorflow.keras.callbacks.EarlyStopping('val_loss', patience=30)],validation_split=0.1)"
      ],
      "execution_count": null,
      "outputs": [
        {
          "output_type": "stream",
          "name": "stdout",
          "text": [
            "Epoch 1/200\n",
            "372/372 [==============================] - 20s 37ms/step - loss: 6.1847 - accuracy: 0.0137 - auc: 0.5428 - recall: 0.0000e+00 - val_loss: 5.9076 - val_accuracy: 0.0151 - val_auc: 0.5989 - val_recall: 0.0000e+00\n",
            "Epoch 2/200\n",
            "372/372 [==============================] - 10s 27ms/step - loss: 4.6459 - accuracy: 0.1086 - auc: 0.8519 - recall: 2.5231e-04 - val_loss: 4.5662 - val_accuracy: 0.0658 - val_auc: 0.8378 - val_recall: 0.0015\n",
            "Epoch 3/200\n",
            "372/372 [==============================] - 11s 29ms/step - loss: 3.1642 - accuracy: 0.3409 - auc: 0.9758 - recall: 0.0087 - val_loss: 2.7746 - val_accuracy: 0.3843 - val_auc: 0.9761 - val_recall: 0.0227\n",
            "Epoch 4/200\n",
            "372/372 [==============================] - 11s 29ms/step - loss: 2.1156 - accuracy: 0.5496 - auc: 0.9898 - recall: 0.0876 - val_loss: 2.3046 - val_accuracy: 0.4592 - val_auc: 0.9732 - val_recall: 0.1014\n",
            "Epoch 5/200\n",
            "372/372 [==============================] - 11s 29ms/step - loss: 1.5393 - accuracy: 0.6569 - auc: 0.9937 - recall: 0.2535 - val_loss: 1.9068 - val_accuracy: 0.5174 - val_auc: 0.9781 - val_recall: 0.2421\n",
            "Epoch 6/200\n",
            "372/372 [==============================] - 11s 29ms/step - loss: 1.1994 - accuracy: 0.7286 - auc: 0.9954 - recall: 0.4156 - val_loss: 1.4224 - val_accuracy: 0.6490 - val_auc: 0.9869 - val_recall: 0.3707\n",
            "Epoch 7/200\n",
            "372/372 [==============================] - 11s 30ms/step - loss: 0.9554 - accuracy: 0.7829 - auc: 0.9969 - recall: 0.5403 - val_loss: 1.4118 - val_accuracy: 0.6384 - val_auc: 0.9835 - val_recall: 0.4410\n",
            "Epoch 8/200\n",
            "372/372 [==============================] - 11s 31ms/step - loss: 0.7994 - accuracy: 0.8139 - auc: 0.9973 - recall: 0.6232 - val_loss: 1.0482 - val_accuracy: 0.7390 - val_auc: 0.9932 - val_recall: 0.5416\n",
            "Epoch 9/200\n",
            "372/372 [==============================] - 11s 30ms/step - loss: 0.6628 - accuracy: 0.8510 - auc: 0.9981 - recall: 0.6986 - val_loss: 1.2096 - val_accuracy: 0.6823 - val_auc: 0.9828 - val_recall: 0.5363\n",
            "Epoch 10/200\n",
            "372/372 [==============================] - 11s 31ms/step - loss: 0.5643 - accuracy: 0.8744 - auc: 0.9982 - recall: 0.7500 - val_loss: 0.9608 - val_accuracy: 0.7451 - val_auc: 0.9862 - val_recall: 0.6248\n",
            "Epoch 11/200\n",
            "372/372 [==============================] - 11s 30ms/step - loss: 0.4853 - accuracy: 0.8913 - auc: 0.9987 - recall: 0.7912 - val_loss: 1.9478 - val_accuracy: 0.5061 - val_auc: 0.9557 - val_recall: 0.4002\n",
            "Epoch 12/200\n",
            "372/372 [==============================] - 11s 30ms/step - loss: 0.4042 - accuracy: 0.9112 - auc: 0.9993 - recall: 0.8288 - val_loss: 0.5612 - val_accuracy: 0.8608 - val_auc: 0.9949 - val_recall: 0.7746\n",
            "Epoch 13/200\n",
            "372/372 [==============================] - 11s 29ms/step - loss: 0.3409 - accuracy: 0.9244 - auc: 0.9994 - recall: 0.8609 - val_loss: 0.5920 - val_accuracy: 0.8525 - val_auc: 0.9915 - val_recall: 0.7806\n",
            "Epoch 14/200\n",
            "372/372 [==============================] - 11s 29ms/step - loss: 0.3061 - accuracy: 0.9336 - auc: 0.9996 - recall: 0.8779 - val_loss: 0.7655 - val_accuracy: 0.7935 - val_auc: 0.9921 - val_recall: 0.7148\n",
            "Epoch 15/200\n",
            "372/372 [==============================] - 11s 29ms/step - loss: 0.2549 - accuracy: 0.9465 - auc: 0.9998 - recall: 0.9005 - val_loss: 0.6405 - val_accuracy: 0.8487 - val_auc: 0.9903 - val_recall: 0.7663\n",
            "Epoch 16/200\n",
            "372/372 [==============================] - 11s 29ms/step - loss: 0.2252 - accuracy: 0.9512 - auc: 0.9999 - recall: 0.9145 - val_loss: 0.7890 - val_accuracy: 0.8011 - val_auc: 0.9890 - val_recall: 0.7262\n",
            "Epoch 17/200\n",
            "372/372 [==============================] - 11s 29ms/step - loss: 0.2038 - accuracy: 0.9575 - auc: 0.9999 - recall: 0.9266 - val_loss: 0.4283 - val_accuracy: 0.8918 - val_auc: 0.9950 - val_recall: 0.8404\n",
            "Epoch 18/200\n",
            "372/372 [==============================] - 11s 29ms/step - loss: 0.1850 - accuracy: 0.9608 - auc: 0.9999 - recall: 0.9315 - val_loss: 0.5051 - val_accuracy: 0.8797 - val_auc: 0.9934 - val_recall: 0.8290\n",
            "Epoch 19/200\n",
            "372/372 [==============================] - 11s 29ms/step - loss: 0.1580 - accuracy: 0.9689 - auc: 0.9999 - recall: 0.9438 - val_loss: 0.4596 - val_accuracy: 0.8888 - val_auc: 0.9934 - val_recall: 0.8404\n",
            "Epoch 20/200\n",
            "372/372 [==============================] - 11s 30ms/step - loss: 0.1270 - accuracy: 0.9772 - auc: 1.0000 - recall: 0.9610 - val_loss: 0.4901 - val_accuracy: 0.8790 - val_auc: 0.9919 - val_recall: 0.8374\n",
            "Epoch 21/200\n",
            "372/372 [==============================] - 11s 29ms/step - loss: 0.1235 - accuracy: 0.9770 - auc: 1.0000 - recall: 0.9598 - val_loss: 0.6002 - val_accuracy: 0.8389 - val_auc: 0.9900 - val_recall: 0.7927\n",
            "Epoch 22/200\n",
            "372/372 [==============================] - 11s 29ms/step - loss: 0.1157 - accuracy: 0.9795 - auc: 0.9999 - recall: 0.9637 - val_loss: 0.3265 - val_accuracy: 0.9153 - val_auc: 0.9965 - val_recall: 0.8873\n",
            "Epoch 23/200\n",
            "372/372 [==============================] - 11s 29ms/step - loss: 0.0929 - accuracy: 0.9828 - auc: 1.0000 - recall: 0.9727 - val_loss: 0.3386 - val_accuracy: 0.9168 - val_auc: 0.9958 - val_recall: 0.8835\n",
            "Epoch 24/200\n",
            "372/372 [==============================] - 11s 29ms/step - loss: 0.0902 - accuracy: 0.9843 - auc: 0.9999 - recall: 0.9740 - val_loss: 0.3281 - val_accuracy: 0.9213 - val_auc: 0.9958 - val_recall: 0.8986\n",
            "Epoch 25/200\n",
            "372/372 [==============================] - 11s 29ms/step - loss: 0.0857 - accuracy: 0.9843 - auc: 1.0000 - recall: 0.9750 - val_loss: 0.3849 - val_accuracy: 0.9138 - val_auc: 0.9916 - val_recall: 0.8790\n",
            "Epoch 26/200\n",
            "372/372 [==============================] - 11s 29ms/step - loss: 0.0811 - accuracy: 0.9828 - auc: 1.0000 - recall: 0.9756 - val_loss: 0.2373 - val_accuracy: 0.9402 - val_auc: 0.9966 - val_recall: 0.9289\n",
            "Epoch 27/200\n",
            "372/372 [==============================] - 11s 29ms/step - loss: 0.0709 - accuracy: 0.9867 - auc: 1.0000 - recall: 0.9801 - val_loss: 0.3428 - val_accuracy: 0.9054 - val_auc: 0.9961 - val_recall: 0.8828\n",
            "Epoch 28/200\n",
            "372/372 [==============================] - 11s 29ms/step - loss: 0.0713 - accuracy: 0.9853 - auc: 1.0000 - recall: 0.9790 - val_loss: 0.5574 - val_accuracy: 0.8442 - val_auc: 0.9919 - val_recall: 0.8139\n",
            "Epoch 29/200\n",
            "372/372 [==============================] - 11s 29ms/step - loss: 0.0764 - accuracy: 0.9846 - auc: 0.9999 - recall: 0.9778 - val_loss: 0.3976 - val_accuracy: 0.9054 - val_auc: 0.9912 - val_recall: 0.8888\n",
            "Epoch 30/200\n",
            "372/372 [==============================] - 11s 29ms/step - loss: 0.0506 - accuracy: 0.9908 - auc: 1.0000 - recall: 0.9865 - val_loss: 0.3240 - val_accuracy: 0.9145 - val_auc: 0.9950 - val_recall: 0.8888\n",
            "Epoch 31/200\n",
            "372/372 [==============================] - 11s 29ms/step - loss: 0.0535 - accuracy: 0.9892 - auc: 1.0000 - recall: 0.9860 - val_loss: 0.4016 - val_accuracy: 0.9107 - val_auc: 0.9909 - val_recall: 0.8956\n",
            "Epoch 32/200\n",
            "372/372 [==============================] - 11s 29ms/step - loss: 0.0558 - accuracy: 0.9877 - auc: 1.0000 - recall: 0.9825 - val_loss: 0.3242 - val_accuracy: 0.9236 - val_auc: 0.9943 - val_recall: 0.9017\n",
            "Epoch 33/200\n",
            "372/372 [==============================] - 11s 29ms/step - loss: 0.0488 - accuracy: 0.9909 - auc: 1.0000 - recall: 0.9868 - val_loss: 0.1796 - val_accuracy: 0.9569 - val_auc: 0.9970 - val_recall: 0.9478\n",
            "Epoch 34/200\n",
            "372/372 [==============================] - 11s 29ms/step - loss: 0.0417 - accuracy: 0.9924 - auc: 1.0000 - recall: 0.9887 - val_loss: 0.1965 - val_accuracy: 0.9455 - val_auc: 0.9973 - val_recall: 0.9289\n",
            "Epoch 35/200\n",
            "372/372 [==============================] - 11s 29ms/step - loss: 0.0384 - accuracy: 0.9929 - auc: 1.0000 - recall: 0.9895 - val_loss: 0.2043 - val_accuracy: 0.9501 - val_auc: 0.9962 - val_recall: 0.9380\n",
            "Epoch 36/200\n",
            "372/372 [==============================] - 11s 29ms/step - loss: 0.0538 - accuracy: 0.9887 - auc: 0.9999 - recall: 0.9844 - val_loss: 0.2835 - val_accuracy: 0.9266 - val_auc: 0.9947 - val_recall: 0.9175\n",
            "Epoch 37/200\n",
            "372/372 [==============================] - 11s 29ms/step - loss: 0.0410 - accuracy: 0.9921 - auc: 1.0000 - recall: 0.9894 - val_loss: 0.2240 - val_accuracy: 0.9440 - val_auc: 0.9966 - val_recall: 0.9349\n",
            "Epoch 38/200\n",
            "372/372 [==============================] - 11s 29ms/step - loss: 0.0264 - accuracy: 0.9958 - auc: 1.0000 - recall: 0.9947 - val_loss: 0.1893 - val_accuracy: 0.9463 - val_auc: 0.9966 - val_recall: 0.9395\n",
            "Epoch 39/200\n",
            "372/372 [==============================] - 11s 29ms/step - loss: 0.0318 - accuracy: 0.9939 - auc: 1.0000 - recall: 0.9922 - val_loss: 0.2684 - val_accuracy: 0.9418 - val_auc: 0.9951 - val_recall: 0.9274\n",
            "Epoch 40/200\n",
            "372/372 [==============================] - 11s 29ms/step - loss: 0.0680 - accuracy: 0.9814 - auc: 0.9998 - recall: 0.9770 - val_loss: 0.1985 - val_accuracy: 0.9523 - val_auc: 0.9958 - val_recall: 0.9433\n",
            "Epoch 41/200\n",
            "372/372 [==============================] - 11s 29ms/step - loss: 0.0291 - accuracy: 0.9947 - auc: 0.9999 - recall: 0.9937 - val_loss: 0.1418 - val_accuracy: 0.9690 - val_auc: 0.9966 - val_recall: 0.9660\n",
            "Epoch 42/200\n",
            "372/372 [==============================] - 11s 29ms/step - loss: 0.0302 - accuracy: 0.9932 - auc: 0.9999 - recall: 0.9913 - val_loss: 0.2045 - val_accuracy: 0.9470 - val_auc: 0.9958 - val_recall: 0.9410\n",
            "Epoch 43/200\n",
            "372/372 [==============================] - 11s 29ms/step - loss: 0.0280 - accuracy: 0.9937 - auc: 1.0000 - recall: 0.9924 - val_loss: 0.2349 - val_accuracy: 0.9486 - val_auc: 0.9962 - val_recall: 0.9349\n",
            "Epoch 44/200\n",
            "372/372 [==============================] - 11s 29ms/step - loss: 0.0283 - accuracy: 0.9939 - auc: 1.0000 - recall: 0.9921 - val_loss: 0.2602 - val_accuracy: 0.9349 - val_auc: 0.9939 - val_recall: 0.9259\n",
            "Epoch 45/200\n",
            "372/372 [==============================] - 11s 29ms/step - loss: 0.0368 - accuracy: 0.9918 - auc: 0.9999 - recall: 0.9897 - val_loss: 0.3897 - val_accuracy: 0.9168 - val_auc: 0.9928 - val_recall: 0.8994\n",
            "Epoch 46/200\n",
            "372/372 [==============================] - 11s 29ms/step - loss: 0.0264 - accuracy: 0.9941 - auc: 1.0000 - recall: 0.9928 - val_loss: 0.1536 - val_accuracy: 0.9690 - val_auc: 0.9962 - val_recall: 0.9660\n",
            "Epoch 47/200\n",
            "372/372 [==============================] - 11s 29ms/step - loss: 0.0242 - accuracy: 0.9941 - auc: 1.0000 - recall: 0.9934 - val_loss: 0.8758 - val_accuracy: 0.7746 - val_auc: 0.9789 - val_recall: 0.7330\n",
            "Epoch 48/200\n",
            "372/372 [==============================] - 11s 29ms/step - loss: 0.0374 - accuracy: 0.9907 - auc: 1.0000 - recall: 0.9886 - val_loss: 0.1691 - val_accuracy: 0.9599 - val_auc: 0.9966 - val_recall: 0.9546\n",
            "Epoch 49/200\n",
            "372/372 [==============================] - 11s 29ms/step - loss: 0.0181 - accuracy: 0.9961 - auc: 1.0000 - recall: 0.9952 - val_loss: 0.1666 - val_accuracy: 0.9508 - val_auc: 0.9977 - val_recall: 0.9463\n",
            "Epoch 50/200\n",
            "372/372 [==============================] - 11s 30ms/step - loss: 0.0190 - accuracy: 0.9962 - auc: 1.0000 - recall: 0.9959 - val_loss: 0.2269 - val_accuracy: 0.9501 - val_auc: 0.9943 - val_recall: 0.9433\n",
            "Epoch 51/200\n",
            "372/372 [==============================] - 11s 30ms/step - loss: 0.0233 - accuracy: 0.9956 - auc: 0.9999 - recall: 0.9940 - val_loss: 0.1296 - val_accuracy: 0.9682 - val_auc: 0.9973 - val_recall: 0.9652\n",
            "Epoch 52/200\n",
            "372/372 [==============================] - 11s 30ms/step - loss: 0.0204 - accuracy: 0.9967 - auc: 0.9999 - recall: 0.9957 - val_loss: 0.2185 - val_accuracy: 0.9410 - val_auc: 0.9958 - val_recall: 0.9334\n",
            "Epoch 53/200\n",
            "372/372 [==============================] - 11s 30ms/step - loss: 0.0337 - accuracy: 0.9918 - auc: 0.9999 - recall: 0.9894 - val_loss: 0.2055 - val_accuracy: 0.9508 - val_auc: 0.9966 - val_recall: 0.9410\n",
            "Epoch 54/200\n",
            "372/372 [==============================] - 11s 30ms/step - loss: 0.0183 - accuracy: 0.9963 - auc: 1.0000 - recall: 0.9954 - val_loss: 0.1640 - val_accuracy: 0.9607 - val_auc: 0.9962 - val_recall: 0.9523\n",
            "Epoch 55/200\n",
            "372/372 [==============================] - 11s 30ms/step - loss: 0.0191 - accuracy: 0.9964 - auc: 1.0000 - recall: 0.9955 - val_loss: 0.1665 - val_accuracy: 0.9622 - val_auc: 0.9966 - val_recall: 0.9592\n",
            "Epoch 56/200\n",
            "372/372 [==============================] - 11s 30ms/step - loss: 0.0128 - accuracy: 0.9979 - auc: 1.0000 - recall: 0.9978 - val_loss: 0.2160 - val_accuracy: 0.9455 - val_auc: 0.9951 - val_recall: 0.9380\n",
            "Epoch 57/200\n",
            "372/372 [==============================] - 11s 30ms/step - loss: 0.0255 - accuracy: 0.9932 - auc: 0.9999 - recall: 0.9918 - val_loss: 0.7435 - val_accuracy: 0.8026 - val_auc: 0.9824 - val_recall: 0.7806\n",
            "Epoch 58/200\n",
            "372/372 [==============================] - 11s 30ms/step - loss: 0.0319 - accuracy: 0.9917 - auc: 1.0000 - recall: 0.9897 - val_loss: 0.1757 - val_accuracy: 0.9614 - val_auc: 0.9973 - val_recall: 0.9561\n",
            "Epoch 59/200\n",
            "372/372 [==============================] - 11s 30ms/step - loss: 0.0170 - accuracy: 0.9969 - auc: 0.9999 - recall: 0.9962 - val_loss: 0.4153 - val_accuracy: 0.8949 - val_auc: 0.9905 - val_recall: 0.8820\n",
            "Epoch 60/200\n",
            "372/372 [==============================] - 11s 30ms/step - loss: 0.0224 - accuracy: 0.9952 - auc: 1.0000 - recall: 0.9941 - val_loss: 0.1466 - val_accuracy: 0.9682 - val_auc: 0.9977 - val_recall: 0.9629\n",
            "Epoch 61/200\n",
            "372/372 [==============================] - 11s 30ms/step - loss: 0.0091 - accuracy: 0.9987 - auc: 1.0000 - recall: 0.9984 - val_loss: 0.1439 - val_accuracy: 0.9675 - val_auc: 0.9973 - val_recall: 0.9637\n",
            "Epoch 62/200\n",
            "372/372 [==============================] - 11s 30ms/step - loss: 0.0087 - accuracy: 0.9985 - auc: 1.0000 - recall: 0.9981 - val_loss: 0.2316 - val_accuracy: 0.9486 - val_auc: 0.9947 - val_recall: 0.9418\n",
            "Epoch 63/200\n",
            "372/372 [==============================] - 11s 30ms/step - loss: 0.0318 - accuracy: 0.9933 - auc: 0.9998 - recall: 0.9914 - val_loss: 0.1471 - val_accuracy: 0.9644 - val_auc: 0.9977 - val_recall: 0.9592\n",
            "Epoch 64/200\n",
            "372/372 [==============================] - 11s 30ms/step - loss: 0.0286 - accuracy: 0.9921 - auc: 0.9998 - recall: 0.9916 - val_loss: 0.2044 - val_accuracy: 0.9508 - val_auc: 0.9954 - val_recall: 0.9463\n",
            "Epoch 65/200\n",
            "372/372 [==============================] - 11s 30ms/step - loss: 0.0086 - accuracy: 0.9990 - auc: 1.0000 - recall: 0.9987 - val_loss: 0.1197 - val_accuracy: 0.9705 - val_auc: 0.9977 - val_recall: 0.9675\n",
            "Epoch 66/200\n",
            "372/372 [==============================] - 11s 30ms/step - loss: 0.0083 - accuracy: 0.9987 - auc: 0.9999 - recall: 0.9985 - val_loss: 0.2729 - val_accuracy: 0.9312 - val_auc: 0.9951 - val_recall: 0.9175\n",
            "Epoch 67/200\n",
            "372/372 [==============================] - 11s 30ms/step - loss: 0.0298 - accuracy: 0.9905 - auc: 1.0000 - recall: 0.9886 - val_loss: 0.5661 - val_accuracy: 0.8714 - val_auc: 0.9829 - val_recall: 0.8555\n",
            "Epoch 68/200\n",
            "372/372 [==============================] - 11s 30ms/step - loss: 0.0247 - accuracy: 0.9934 - auc: 0.9999 - recall: 0.9923 - val_loss: 0.1350 - val_accuracy: 0.9735 - val_auc: 0.9970 - val_recall: 0.9690\n",
            "Epoch 69/200\n",
            "372/372 [==============================] - 11s 30ms/step - loss: 0.0060 - accuracy: 0.9993 - auc: 1.0000 - recall: 0.9992 - val_loss: 0.1006 - val_accuracy: 0.9811 - val_auc: 0.9970 - val_recall: 0.9766\n",
            "Epoch 70/200\n",
            "372/372 [==============================] - 11s 30ms/step - loss: 0.0045 - accuracy: 0.9997 - auc: 1.0000 - recall: 0.9996 - val_loss: 0.0796 - val_accuracy: 0.9849 - val_auc: 0.9977 - val_recall: 0.9818\n",
            "Epoch 71/200\n",
            "372/372 [==============================] - 11s 30ms/step - loss: 0.0215 - accuracy: 0.9942 - auc: 0.9999 - recall: 0.9934 - val_loss: 0.6150 - val_accuracy: 0.8540 - val_auc: 0.9814 - val_recall: 0.8457\n",
            "Epoch 72/200\n",
            "372/372 [==============================] - 11s 31ms/step - loss: 0.0268 - accuracy: 0.9942 - auc: 0.9998 - recall: 0.9926 - val_loss: 0.1967 - val_accuracy: 0.9561 - val_auc: 0.9951 - val_recall: 0.9470\n",
            "Epoch 73/200\n",
            "372/372 [==============================] - 11s 31ms/step - loss: 0.0148 - accuracy: 0.9964 - auc: 1.0000 - recall: 0.9958 - val_loss: 0.1449 - val_accuracy: 0.9637 - val_auc: 0.9970 - val_recall: 0.9576\n",
            "Epoch 74/200\n",
            "372/372 [==============================] - 12s 31ms/step - loss: 0.0132 - accuracy: 0.9970 - auc: 0.9999 - recall: 0.9966 - val_loss: 0.1125 - val_accuracy: 0.9720 - val_auc: 0.9981 - val_recall: 0.9697\n",
            "Epoch 75/200\n",
            "372/372 [==============================] - 11s 31ms/step - loss: 0.0117 - accuracy: 0.9971 - auc: 1.0000 - recall: 0.9968 - val_loss: 0.2842 - val_accuracy: 0.9372 - val_auc: 0.9939 - val_recall: 0.9289\n",
            "Epoch 76/200\n",
            "372/372 [==============================] - 12s 31ms/step - loss: 0.0184 - accuracy: 0.9955 - auc: 0.9999 - recall: 0.9950 - val_loss: 0.1674 - val_accuracy: 0.9652 - val_auc: 0.9962 - val_recall: 0.9637\n",
            "Epoch 77/200\n",
            "372/372 [==============================] - 12s 31ms/step - loss: 0.0110 - accuracy: 0.9974 - auc: 1.0000 - recall: 0.9969 - val_loss: 0.1701 - val_accuracy: 0.9614 - val_auc: 0.9954 - val_recall: 0.9546\n",
            "Epoch 78/200\n",
            "372/372 [==============================] - 12s 31ms/step - loss: 0.0160 - accuracy: 0.9963 - auc: 0.9999 - recall: 0.9955 - val_loss: 0.1311 - val_accuracy: 0.9690 - val_auc: 0.9977 - val_recall: 0.9652\n",
            "Epoch 79/200\n",
            "372/372 [==============================] - 11s 31ms/step - loss: 0.0180 - accuracy: 0.9950 - auc: 0.9999 - recall: 0.9946 - val_loss: 0.2461 - val_accuracy: 0.9349 - val_auc: 0.9958 - val_recall: 0.9251\n",
            "Epoch 80/200\n",
            "372/372 [==============================] - 11s 30ms/step - loss: 0.0163 - accuracy: 0.9966 - auc: 0.9999 - recall: 0.9958 - val_loss: 0.2040 - val_accuracy: 0.9486 - val_auc: 0.9962 - val_recall: 0.9410\n",
            "Epoch 81/200\n",
            "372/372 [==============================] - 11s 30ms/step - loss: 0.0139 - accuracy: 0.9962 - auc: 1.0000 - recall: 0.9955 - val_loss: 0.2922 - val_accuracy: 0.9312 - val_auc: 0.9924 - val_recall: 0.9228\n",
            "Epoch 82/200\n",
            "372/372 [==============================] - 11s 30ms/step - loss: 0.0100 - accuracy: 0.9980 - auc: 1.0000 - recall: 0.9977 - val_loss: 0.1059 - val_accuracy: 0.9705 - val_auc: 0.9985 - val_recall: 0.9675\n",
            "Epoch 83/200\n",
            "372/372 [==============================] - 11s 30ms/step - loss: 0.0038 - accuracy: 0.9997 - auc: 1.0000 - recall: 0.9995 - val_loss: 0.1101 - val_accuracy: 0.9773 - val_auc: 0.9966 - val_recall: 0.9758\n",
            "Epoch 84/200\n",
            "372/372 [==============================] - 11s 30ms/step - loss: 0.0111 - accuracy: 0.9976 - auc: 0.9998 - recall: 0.9975 - val_loss: 0.3296 - val_accuracy: 0.9175 - val_auc: 0.9924 - val_recall: 0.9077\n",
            "Epoch 85/200\n",
            "372/372 [==============================] - 11s 30ms/step - loss: 0.0151 - accuracy: 0.9968 - auc: 1.0000 - recall: 0.9960 - val_loss: 0.2192 - val_accuracy: 0.9539 - val_auc: 0.9936 - val_recall: 0.9516\n",
            "Epoch 86/200\n",
            "372/372 [==============================] - 11s 31ms/step - loss: 0.0188 - accuracy: 0.9950 - auc: 0.9999 - recall: 0.9941 - val_loss: 0.2024 - val_accuracy: 0.9576 - val_auc: 0.9947 - val_recall: 0.9554\n",
            "Epoch 87/200\n",
            "372/372 [==============================] - 11s 30ms/step - loss: 0.0097 - accuracy: 0.9981 - auc: 1.0000 - recall: 0.9973 - val_loss: 0.1013 - val_accuracy: 0.9796 - val_auc: 0.9973 - val_recall: 0.9735\n",
            "Epoch 88/200\n",
            "372/372 [==============================] - 11s 30ms/step - loss: 0.0065 - accuracy: 0.9988 - auc: 1.0000 - recall: 0.9984 - val_loss: 0.1086 - val_accuracy: 0.9803 - val_auc: 0.9970 - val_recall: 0.9788\n",
            "Epoch 89/200\n",
            "372/372 [==============================] - 11s 30ms/step - loss: 0.0060 - accuracy: 0.9987 - auc: 1.0000 - recall: 0.9984 - val_loss: 0.1668 - val_accuracy: 0.9637 - val_auc: 0.9966 - val_recall: 0.9592\n",
            "Epoch 90/200\n",
            "372/372 [==============================] - 11s 31ms/step - loss: 0.0117 - accuracy: 0.9975 - auc: 1.0000 - recall: 0.9966 - val_loss: 0.1654 - val_accuracy: 0.9675 - val_auc: 0.9962 - val_recall: 0.9592\n",
            "Epoch 91/200\n",
            "372/372 [==============================] - 11s 31ms/step - loss: 0.0096 - accuracy: 0.9979 - auc: 0.9999 - recall: 0.9976 - val_loss: 0.5496 - val_accuracy: 0.8722 - val_auc: 0.9844 - val_recall: 0.8631\n",
            "Epoch 92/200\n",
            "372/372 [==============================] - 11s 30ms/step - loss: 0.0126 - accuracy: 0.9971 - auc: 1.0000 - recall: 0.9966 - val_loss: 0.3003 - val_accuracy: 0.9380 - val_auc: 0.9932 - val_recall: 0.9327\n",
            "Epoch 93/200\n",
            "372/372 [==============================] - 11s 31ms/step - loss: 0.0142 - accuracy: 0.9960 - auc: 1.0000 - recall: 0.9955 - val_loss: 0.1420 - val_accuracy: 0.9690 - val_auc: 0.9962 - val_recall: 0.9667\n",
            "Epoch 94/200\n",
            "372/372 [==============================] - 11s 30ms/step - loss: 0.0137 - accuracy: 0.9968 - auc: 1.0000 - recall: 0.9957 - val_loss: 0.3122 - val_accuracy: 0.9213 - val_auc: 0.9924 - val_recall: 0.9062\n",
            "Epoch 95/200\n",
            "372/372 [==============================] - 11s 30ms/step - loss: 0.0168 - accuracy: 0.9954 - auc: 0.9999 - recall: 0.9944 - val_loss: 0.2245 - val_accuracy: 0.9486 - val_auc: 0.9947 - val_recall: 0.9455\n",
            "Epoch 96/200\n",
            "372/372 [==============================] - 11s 30ms/step - loss: 0.0167 - accuracy: 0.9962 - auc: 0.9999 - recall: 0.9955 - val_loss: 0.1353 - val_accuracy: 0.9660 - val_auc: 0.9981 - val_recall: 0.9614\n",
            "Epoch 97/200\n",
            "372/372 [==============================] - 11s 30ms/step - loss: 0.0037 - accuracy: 0.9994 - auc: 1.0000 - recall: 0.9992 - val_loss: 0.0850 - val_accuracy: 0.9834 - val_auc: 0.9981 - val_recall: 0.9796\n",
            "Epoch 98/200\n",
            "372/372 [==============================] - 11s 30ms/step - loss: 0.0088 - accuracy: 0.9976 - auc: 0.9999 - recall: 0.9975 - val_loss: 0.1751 - val_accuracy: 0.9599 - val_auc: 0.9958 - val_recall: 0.9531\n",
            "Epoch 99/200\n",
            "372/372 [==============================] - 11s 30ms/step - loss: 0.0119 - accuracy: 0.9972 - auc: 0.9999 - recall: 0.9969 - val_loss: 0.1465 - val_accuracy: 0.9644 - val_auc: 0.9966 - val_recall: 0.9599\n",
            "Epoch 100/200\n",
            "372/372 [==============================] - 11s 31ms/step - loss: 0.0077 - accuracy: 0.9984 - auc: 1.0000 - recall: 0.9981 - val_loss: 0.1994 - val_accuracy: 0.9523 - val_auc: 0.9954 - val_recall: 0.9463\n"
          ]
        },
        {
          "output_type": "execute_result",
          "data": {
            "text/plain": [
              "<keras.callbacks.History at 0x7f055b100310>"
            ]
          },
          "metadata": {},
          "execution_count": 21
        }
      ]
    },
    {
      "cell_type": "code",
      "metadata": {
        "colab": {
          "base_uri": "https://localhost:8080/"
        },
        "id": "Ai8x68pDTvpd",
        "outputId": "9a932798-26b1-4607-faea-fc02a1bf2946"
      },
      "source": [
        "score=model.evaluate(X_test,test_label,verbose=1)\n",
        "print(f'Test loss:{score[0]}')\n",
        "print(f'Test accuracy:{score[1]}')\n",
        "print(f'Test Recall: {score[3]}')\n",
        "print(f'Test AUC: {score[2]}')"
      ],
      "execution_count": null,
      "outputs": [
        {
          "output_type": "stream",
          "name": "stdout",
          "text": [
            "45/45 [==============================] - 1s 17ms/step - loss: 0.2693 - accuracy: 0.9390 - auc: 0.9918 - recall: 0.9304\n",
            "Test loss:0.26930055022239685\n",
            "Test accuracy:0.9389638304710388\n",
            "Test Recall: 0.9304471015930176\n",
            "Test AUC: 0.9918146133422852\n"
          ]
        }
      ]
    },
    {
      "cell_type": "markdown",
      "metadata": {
        "id": "UBoorcnM7yqN"
      },
      "source": [
        "![image.png](data:image/png;base64,iVBORw0KGgoAAAANSUhEUgAAAloAAACFCAYAAACDrFY5AAAAAXNSR0IArs4c6QAAAARnQU1BAACxjwv8YQUAAAAJcEhZcwAADsMAAA7DAcdvqGQAAIZ2SURBVHhe7Z0FQFXJ98e/L3iPUkIRXcVWDAzswO7uXLtrxV4Tu1dRFEXXLuxu7EKUFREVUUBRQQURkXqPF+c/972HAgLG6v+n7nz2x893586dO/fMzJlzJ84VEQMcDofD4XA4nG+O2PAvh8PhcDgcDucbww0tDofD4XA4nO8EN7Q4HA6Hw+FwvhPc0OJwOBwOh8P5TnzFYvh4BBzeieuRzEoTSyCRCH8iQKuFRqPR/WmN7dG0W23YSQyX6NAi8voObDp8Ff/cCIW9y2HMqi03nEtBjZCTHtju5YdbN5PRfOtmDCrwJbagkAcxy4/hkKHVaCGWfG4aWsQ9PI0tmw/h1isV1LFReEs5ULRiLbTo0gX1C5sa4v0iaMNxaed1ZGveDo6W38vmVsLHwx3RHUahuc23uocS/lsnYvbqowiqsBK+K5sgfU36bP5fZMDhcDic/ypf0bMk4ZrHHGy6EoiQx6G4s2cm+vXsg5Erz+FRaCge+R/FimXHEaExRH+PGKZ5isEi9Bj2nr+HF4mG4DSIYVnQHhrfnTh0PRSx6i+zAbVPlqOeiRhGclOYm5tCbiSBcc1FCPooLxmgfoKDY+uhWv/jyN5+FlatW4fNe/Zhy5IBcHjojpUXlYaIPzHxD3Fy/X7cUesPtZGnsGioM1ZfT9YHfA9iDmOZyxTM2xSMzymGz0OOcj3no0/xd4hKNDzMV/L/IgMOh8Ph/Gf5CkMrG/KWaIsx7kswb/ZMjG9akCUiQvaKPeEyew4WuM5Grzp2sEozmqXHvEAl1C5jiwxOGRAjR4naqFbM4msyBrGZKczy10L33r3Qs1cf9O8/AAM6VUGuzG9oIB6Xp7ZDn/NO2HDKDT0r2hhGSKSwKFADv/fvidpFfv7RrIQD49Fm0mE8Ndgm4tz9cCj6CdY2NdYHfHM0eLzjEKJL5MON9Wvh801tVRGMjIwMv7+e7y8DDofD4fyX+Zd+tLR4sbIRCv5xEbmHnMTD1Q0/TOEkhsP37AlcfKBEgfqd0Y4ZLxLW8QbOq45y0yLQ+9gDzLY4BM9LUbCu0gZd6hWCvqtT4sSAwmi5pSAWBF7C+CJ6K0kbE4hzR0/j1uvsKNe8E5rYm+vC0/B2A9r31WL9gQGwMgR9DtqIv9HCfjQkbo9xuK/NJ4w8NV7ePgWvKw/xNlsx1G7aDOVs9XlMfvMA3mf8IXZqirzBx3D6vhgOTVrBqZARXvmdwOErL5G7bhe0KGOpu4fihT/Onw1FrjZNkOv+SRz3eQXLCs3QxqmgQRYMzVsEXz2FUzdfwqJKe3StZcfMP314iPc5XFeWR4eiYdhx+BXK9uyKSpYavA2+ilOnbuKlRRW071oLdroLWJHs7ow8U+1w4u4S1JAJSYTg+nkfKMp1QT1jX5a/p1CzjGnF+VC9TVWY3j2J848SQZQDZVvUgz2zNTWxIbh6/BT8E/OjbvvmKGOVhbSSfeDS+ziaT7fEnxUWIv/2B9jaztJwkt0nIQJ+F8/ihV0nOBldxkGvQGiLNULnpiXxvnQze35WT04NLILemjUIW1cDQafP4GGCkHlCroqt4ZTjEc6x9GJZTHP7BmhUxgRPLx3Acd+XEP9WClVr1YJjXtM0MmhQWChHBZ5kEI/D4XA4nK8ha5viK9E82Yjf63fDnE078ffcP9CpRn1MSz01Q4m4s6YHOgydjYUzRqNPw4povuweM2EyQos3l+agabVe2PHaFKrLs9GqQi38eSnOcD4VWg1Ur7yxZnJ/tGvWEl1HLse5Z5+eEkr2uYjriUVQwdEqa4FoI3Hiz7b445gcTp07okrSDnSuUAczLrO8xF7HxqmD0K3rSEwe74yZu+8j5PR0NK7VE9PnjcJY96sIu70evao2wYI7amifncSysb3Quec0/DV3PGZtvY6Q+8fg0qQ0Ko06gWgtu1+iF8a1dsaeYAXw5jQm1a2OEV7CnKsS/ttmYHDXDhixYA76dBoCl2krcD4mHl7jWsN5TzAzF97g9KS6qD7CC7or7u/CzLXX8O7ZAYxtVh9NJqzGhplD0K3jKGwPVEOcoyBy3FmIbp2WIrhoceSSiGFRsDBCV03HKXEB5DVWI2hLPzQfcQzi6h3RULYDHaoMwsEoIaMZ8/b4JoTU6I3KxXtgUDMVDq3ZiWcp0TWhOLbEGb079cHEWRMxbulpPH52EX91qIQmi+/ppxkzff50iM2QxzIIK3t3xMybNrDPLYPYPD8Kvt4Klx3RyG0nx6257TDmaj40694aDu92wGWFP5KV/tieSgasJsA3o3j6u3A4HA6H8+UII1pfj4YiVtQnGSSUf4gXKVJCI73pwu144ReFr2pIJjCiGouCSc3+uz+3MhmJrKj1hnB2lujt1QlUXgYSFxhGZ3UJKOh4/99IbFSDFgWriZTXaUJJKckbr6FIdlblO5XKSEVk1X0fJQnRU6EJc6V6OQpS5Xr1qHLBbCRij2dSwYVuKg0RMuHdxuYsT2Vp2m2VISRjErwGU8FCw+l8yoPSOzrS25YkZafRLeHShO3UziQn/b7vrf503D7qbiWl6otC2JMzVH40rYzR+2N18AKqKilEw86+E87qeHO4L+UVl6LJvixB5X26fjNaJycmKdraypiKjvUhfS4VdKK/DaHcVPJN0FB8YAAFK5V0//pNitZfQG+3tiLjomPJx/BYCVtak3Hx8XQ95TEVJ6h/Hlvqe9TwQDF7qItVNmq95ZX+nvFHaeyQTRTBDjTPPaiJRTVaGKJ7EpY3bxpX3IhqLX2iP06P5gmt6t6fPF/rDxO8hlB+WUWacSfl5gyVP7mUNaIKM+8anklJPn+WICOnpfRUyMAnnv/kgLxk2/eood7FM3nkJdNGq/XXUgKdHt2DXB+w/KoDaU6VvNRuXTALZahDydcvUp9uahlkFY/D4XA4nK/gu4xoiW0cUTjxCJZOHIZJh8J1o0TsXvqTAiJT5MqTQxduUaUrWpaQghLjEZ/BJKY22he+wWqo/VeiS5OmaDH+NEQlK6FiUQtDjA+If+sJz8Ag3Dh3DjfuXcLMqiZICjiOk8FZL8OW5S8AW3qMu3czGCV7TzJuH/fCU9sCKPB+aVA21GtYDeI7V3BdmKOCCCKJFXLlNtGdhSwv8uYyYse59evSpAWQL7cYiQkJEB5VJBazv99QuIiZcFaHVYMmqGYahYiXLM+y4iigPICZzkMxfNQsnHwuRmzMm/eLykWQImf5qnAwFcOshAOKyGQoXkCJAzOdMXT4KMw6+Rzi2Bi8yfTxWX5T1wDLVhjRMwdOrN2GJ+yaNyeuwbxzJ+RhcZJ9r8An9iXOuU7CFJcZmL34FJLKNkJZm4wTV99ah22Br3HeZTiGDx+O8ftew8bMHxtXX9SNsOlh92cZyJH7N8N0oAxFC9tBHBeLt8LI1yeePy1maDi4Jwpc2gxPobzfHMFhTRv0tmeSlxREk07FcWVgUdgWqopWAzfinsYwn5paBlnG43A4HA7ny0ndzX4jkuE3rx7K1F+AkGpj4DquDnKwu4hEIv3pj5aEaQTPEDCvWBOVZIag1EikELxHiAt0w+rjJ3HqnA/879yA18wGH9YxGVCqzWBjY0jEtBSa1C0EqVEO5LI23DsT5NU6oW3heJz0WIf7WWxi07K8a1+/QmSqOBKL7MhmZg3rjNZSf410k94izrgq6lQ2QvTBfqjY5SzKTHSH+7J56FuJGZfpxPdergLRB9GvYhecLTMR7u7LMK9vJVikvyBL5Kg+dCDK+qzDulsh2B/wG7rW1q9PEkmNIGOGSIvJCzB31gxMmzIdK/ccw8oehXXn0xKL42v90WTTXqxxZ3kX/lbvwv7ZdfB61+ospxtTl9TnPH9qpBX6o19lf2ze6IuQPVdg1bmVYa2eMSqNO4en4b7wnNQMOR+ux4Cmo3Dso1nIz43H4XA4HM7n8a8NLa1W3/NptYZxBm0Ezp/0xTu5HSo4WiL4ZhBiWZRkpbDljJCYpGS2VgJehr+G0N0m3DqIU9E1MGlWD/ymyw0zZpjlxf5fWHIFsbUT6jmaQOW3AfP2h+lHM7RxiIxK3/vFYt+Iblh+V6E/1L7ArdtRKNZ3LDrm0sJ/eUsULVAd0y7E68+nxrQOpi4fjAI3XNC+50pc1y2QSoU6EqFhiSjfpD7yhhzDQf+UVTsaPL4dBOuu/dBYNyjF8s3yLhiOOoTfgnFmkFEKwvO9h94iOiolvUTcXr0fKmcXdM2lxv2z5xFRuAacbMXQRnvjtC+TWSpDVUtMGqmSTr5/FucjCqOGky3E2mh4n/bFa3bv91EEoyxZAeX727P8aoT8fkhEUrwvhjZ8ig3jJuFp6c4orl/nD6MKzBA2uY5ta2/hgwSTkZzBAibtM0/8HVoNnUqnHg0SI1/nXmikYcbZhoeGUSl2f5180slbCGNpf87z6+uKAUlh9BrQCM/XjsbwW0XQvZpha4YmEMvme0KVpyJaDpqBjYdcUE+m/ZCHFBlkGk+L8DNuWLz/YSbrCDkcDofDyQTdBOJXoabgPZOonYMliSEio3y1qJ/bFXpHSXRxbEliXRyJrSrTwCGNyFokIosKA2lXUAKdH1meChXPS+YmNlSiSk2q024y7Q9OWW2lppCDLtSskJQgsqSKPVeT9zuiOB9XalPElIWZkK19eXJ0rEtjj6as3UlBTY8W1SQT8/xUtXVX6ljfiZqP2Un3dYttFHRmeEGWz5zUadsrXeyP0VCM32ZyrpuPstmUorptetHwsWNpWJ8u1KFDf3K7wRLSRNDRsZUpd7H2NHfXCTq+eSYNGracrsWwUzE3abtLK8oPOZXtvZROBgXS8SV9idmIlK/FVNrqI+T3Da1pJKVslQfRspPBpAldRNUgIdO8Zahhl97Up/9QmuV5l+IMOXpzbAgVEkkpb5XW1H/WDnLtaEGw70FrvZ/S7b1zqGMxZmMUaUcuK0+QsJyNXUBDColImrcKte4/i3a4diQL2FOPtd70mglLdXseVc9mSnkd6tPI7V60Z25nKi4GFe0wm3br1tTpiTvSh3Lb9qEjH4IYCnqwvT85mFtSyWZ9yHmcMw0aMIl2PjKs2dKhoejrm2hM/d/IvHxPWrD/7od1dOrH5LVyJNWxYXnOUYtGbjtBR1cMpirZQXkajqdN3vq1UG/WNCJp9io02OMSBR7J4vn3zaXOxcWEoh1o9u7b9D6r7w5Qj1yW1GazYZ2ZgPIKjS7nQB2mrqRt21bR9EE9aOyeMFIn3KF9qWVw0yvjeKxW7+5oQqi2hNI8LofD4XA4n+BfuXfQKBOhhBRyIylInYxkrRSmxlIII05P/B8gKV85lLQGFBoJjKCCWmIMxL2FxtIS4hf38FCRD6ULWaTxqyWkqRLJIWO2lkqhhsTUWL9+Rx2LZ0FBeJ6YHYVKl0DuDHfcqxH7NBBBkTIUKFUMtqapB+wSERWpQY5c2T45jKeOi0DQ3ft4lmSG34qURKkCloY1RAIaxIXdwT+P4mBt74jSdtn0+dcmQ6EgSIXnVymhkciAZA0kxkYQqRTsmYxhLBNDLYzsSUVQqyWQRSxFTftD6Bh0At0oBmb588Mi9SAQQxkViieKHChqZyEMC4IkImhIColaAY3UWCdXYVTJyFSuz4cyCqFPFMhR1A4WSIaSJBBpWL7kUv1zKyLxJMoEdnYmUCVqWH6NWH4VrGxMIWRdTyKiowhWNmYfyUqb8AJ3bz1AYp7yqFTUKpVc9GiTFeyuRpCJ1VCwZ9TVBx0aKBNVgEymyzMrWki0zHaWyyDRJLMQmU4+TEC6OiXSMNmxc+rPeP4099G+wOpBC1B0+XI0+rD0DZq4cATeCcQLrQ1KOJaBnbnwZCyP6WRglJRRPAFh1EsMcXqBcDgcDoeTBf/Sjxbn36B9vFhvaD26hLFf9KkhTmZo7v2FUUcbw/XPsh8ZgRwOh8Ph/H/De/f/IZSsgloY6fvCTw1xPiY5xAdX/c5h4eyHqNzLgRtZHA6Hw/kh4IbW/whN2CmsWHEFyQWUuLzMHV5P9UuzOV+DGg8OzMDgwSuR1H0qfhf8UXA4HA6H8wPApw45HA6Hw+FwvhP81Z/D4XA4HA7nO8ENLQ6Hw+FwOJzvBDe0OBwOh8PhcL4T3NDicDgcDofD+U5wQ4vD4XA4HA7nO8ENLQ6Hw+FwOJzvBDe0OBwOh8PhcL4T3NDicDgcDofD+U5wQ4vD4XA4HA7nO8ENLQ6Hw+FwOJzvxFd9gmf9+vVYvHix4YjD4XA4HA6HkxFfZWjdvXsXN2/eNBxxOBwOh8PhcDKCf1Saw+FwOBwO5zvB12hxOBwOh8PhfCe4ocXhcDgcDofzneCGFofD4XA4HM53ghtaHA6Hw+FwON+JH3sxvPYVru89hvuJUhhJ2KFGA43wR1Jks82PQoXtUbpkXphzc/F/jzoSd85ewM0HjxDyNBoas5zIV7ImmjVzQsFoL3hs94LfrZtIbr4VmwcV+MYWvhL3tk3CoksFMWjhCNS0SkldizfX3TF69EoE1V2OpQWPYM3dChi9sD/Kmxqi/FuU97Bt0iJcKjgIC0fUxPtbczic74P2Df45dBD+byWQSlmD06ihUqlAMivYla+NBuVsITVE5fwIaBB+ZTdOPVJBKtZAbe6AVu0qwya9rtQ8wQXP8wjTstLTaJGvdg80KMI6/l+AH7tbEGdD/mKmuL54AHr1GYkNd7WQaBMQFXYbh+f3RO0yhVC05mD87fuWdamfQo0o/31YPM4Nl5WGoG+NOgr++xZjnNtl1vX/V0jG42Oz0MmxBOqM2Y0QcX5UbVQfjr8pcGVuG5SqNQ3/mBeEvcYXOw9dR2isGt/cste+wJn1q7Blgzv23VenBCL84B9oOOg8iv4+AG1Kx+PEmr+xde0aHH2sMcT5Uj6uQ9oXZ7B+1RZscN+H97fmcDjfD7EZ8hbNgTsrB6FP70Fwu5YEqJ7j5IK+aFahBOovuG2I+CPy/9AP/XBIYFGgCETnZ6N/n34Y0H0wVvp/rCwTzixAH3a+T78/sS+mIArlEBnO/AIII1o/Nu9oQ0s5QWxLfY8kGcIE3pLfsuZkKxGRNH8/OhxjCM4M1U2a7CAlcb5BdFphCPvGqG5OJgepmPINOk3f6RY/HG+9nKmksZhMKk0l73eGwBSi/6Z2rVbTSw2R4nh/yiM2ohqLgkltOP0tUb7wpbNXQinecEzx+6mnjYQsu+6hBENQUpg3nfF5/vVlk2EdUtIL37N0JfT9nTkczncngXZ1sSCRKBt12qlv4fGH+zIdAzKqNEt3/EPy/9AP/ZhoKNytAeXOaU0SkYTy9j5AabpszXNa16Yw5bQUE4zKk4ufynDi1+CnmOgQZWjYWqD88BnoV1IK9bP92HIi1hAOJIb74si6JVjsvhf/RKWMXsghk7G0jE1hkjq9xHD4HlmHJYvdsfefKHwY60jGC5+9WLN0Pha4bcbhG+EfRqm0MQg8sxXLF7li46kgxBuCIZdBBhGMTU3Y//8H0IRi49y1eKDKgy7TxqFaNkN4ChYNMWFyc+Q01LKPZZKIcN8jWLdkMdz3/oP3RZWF7JNf+GDvmqWYv8ANmw/fQLjuhBZqkTHw1Bf+UfqxTW3cC7yIJYjEYt2wrVYZg6h4FWJDHuJlqgEtbUwgvLa5YfHyzTgWEG0YGc0sXxnUIa2aHQu39ofh1gwFwq7uxTrXBVi4YhOOB8S8H3HVJkTgztldWHf4HhKeXcV2t8VY7nkdL/loGIfzRYjSdQxGlhYwF4sgz2lrCMmkHWviEXHHC9sO/IPYV97YvGwv7hraX4Z9hzaBxT+LXesO417CM1zdsQJLPfbipqBI4oPgtWEpFq3Yg3/epJ1XEXTLma3Lsch1I04FpfQSmfRDmfUpmeQ1Yz34YyMSGaFEj4Goba5FxN5l2PDwgyJW3nTHZuqILoWFqUImmM+QTXpdumPFUnjsvanT7/FBXtiwdBFW7PkHaYslc938kayXbsS+o/uwb/8BHNjP/j0biDhFCC4d2I8DBw7AK+DNh2s/hcHg+oF5RxtbZTSiJZBAu7tYkghGVHn2PXaspscbulPVWm2ofQN7shCBZA6TyFuZRH4encjeDARZDspftDj13B5N6scbqHvVWtSmfQOytxCxcw40yVvJ0lFRwNJ6ZGvfjZYf9KIjK3tQmear6IWGGd7RF2l2o+JUqe9SWjunHRUyMqXyEy7SuyQ/8uhkT2ZMpLIc+alo8Z7EbvFrE7+d2psLcmtEq4RhqywQRrR+Sz2ipX5MG7pXpVpt2lMDe/ZmChk5TPImZRayVwUspXq29tRt+UHyOrKSepRpTqteJFPIrpFUM4+UIK1Is+6qSfP6Ai1oX5IsxCKSZM/LyqIM1WpclfIaiUha1JkuCkXM7hS6fwzVK1uDugzuT60drCn/YC9SZJqvDOrQ1n9o18ialEcKklacRezWrIK8pIPDy5ClXWtaeOgEbRlZhbIb21GH9SGkVniTa7vSZMnyJStRj1rVqU4V7MxJLDKi0n9e+8+MgnI4/x6m+7sy3S/KRh23RlLMq7u05ffCZGRRjWZ4x2euX1R3aUP/SmQjARmVb0ddHMxIbN6RPBMy6zsU5O3ajkpbikkkK0H1WtelqiVtyEgkIpMyrahrw2pUuUROdiwmqzYbdXpKGL2JvjibGhWvRH2XrqU57QqRkWl5mnAxMsN+KNM+JZO8bruRkR7MWv/+79FQxIqmVH/xHTo6sABJIKUiw87oZyA0L2hr52rkfOYGzahoRDByJJfb+hGtTGWTTpe2rluVStoYsfpgQmVadaWG1SpTiZzsWGxFbTa+YHcXEstCN2co6zbkuu9Pqm7OysuoIo3xekIJynC64lKbLO1709a76adwMucnN7SS6GCvnCRmhpbTX6HsWEOR3hfotlB6mnBa1dCECagGLQpmPaDKj1zKSUlSbBRd1nW0LEqkN13QR6bwVQ3JhKWjMwTUQTS/mhHJyg2nfQGvWeMMokMHbrHOVknXJ5QkqbwxrYlkl6l8aWoZKYmsutM+ljWVnwuVk0qo2KjLLOZ/gOi11EwuKI3GtPrVFxpamkjyvnBb19A04auooQmr4DUWUbAyM9mrKWh+NTKSlaPh+wLotVJFQYcO0C2doBV0ov9vJDYYWgKaF+7UQMaUX/d9rJYwdEP2Ru8NLeVNF6pgYkqNPcJ1jVDpM5tGejwmTWb5EpLNoA6R4gT1/0383tBSXBpFxaRSKup8SV8H3u2hbjnEJMk3kE4IGYlcQ03kIpLXW0Zh7MaaiLXUPBtTFnVc6cmPris5nB+GD4ZWB9edNGPQIBrl4k4ngg19RFbtOIm1SUv2Epa/M629FUI+B09TkDqLvoMiaU0TOYnkdWmZ0EiTLtKoYkzvmzG9F86OE7xoaEEJSQoMozPC25LyOk0oKSV54zXsSqGbmEplpCK9LvpIh2Tdp3yc1xN0cm5mevBHJsXQCiHl/QVUw0REYstm5MGUoPKWC9VqupyCFQE0M42h9QnZpOjSust0ujPpoqB7RWTWeDXpi2UoFZRIqAAz6IRi+aRuzrBevKX9PXIzgy0vsz/iWKQEOjPMkdpuiNAbb5/JTzF1mCnaN3geHgeS2MGx4m8sQAwbx8JIPLIUE4dNwqFw4fEEY1IX+yPENo4onHgESycOw6RD4bopJiYTQJIXVWoUg/SOOzqUtYV10YE4HPoW0epo+PoGQ632x8ouTdC0xXicFpVEpYpFYaFP8r+FWUHkzyUBNA9x967KEPiZiG3gWDgRR5ZOxLBJh6AvKlZWmcleK0HeKjVQTHoH7h3Kwta6KAYeDsXbaP3grVT6qd0pchjJDD+hQejpkwhQWMDOLoeu3GVVpmL54IIQZ5Yv3XUZIcWHW2sQccMXT9Qi5MydC7pgk6IoZieB5lUg7r3QAEYsPguWWtnoplTF1kVQKIcYlBCH+B93/y+H88MiztMK09esgevMYWhaxNgQmFU7Zm1QKoKkiBOalyuMKm0aobgkq77DiMUXLrOGjbBVTlYMRezEEMlyIpc1O5YXRuF8rA0nxuvasDbaF77Baqj9V6JLk6ZoMf40RCUroWLRDHoJ7af6lPR5bQqnapnrwZ8BScmBGNM+N0SxZ+C28iT2LD2BEiN646MNhp+STYoutbbR7WCUFSsCO7EIspy5oC+WwsgnJiTGx7OS/AzdnGG9sECzvu1REBE4vOUoot8cx0afShjYKc8X7ST8krg/HJqw/Th4QwXz6oMx2EkOJPthXr0yqL8gBNXGuGJcHaETFWWyxisZfvPqoUz9BQipNgau4+qA9XeGeX8TVJ12FjePuWPqgGYokuCNDRNHYsU/xDpVdl5cAN1WH8fJU+fg438HN7xmooGhff+nkNdAx5b5IdE8wz6PfXjxBW092W8e6pWpjwUh1TDGdRzq6IXPSisz2athUnUazt48BvepA9CsSAK8N0zEyBX/wLC84ovQGWb0Bk+epJ1nzzxfnwNrpEwjC3ETdI1bCNIraZHEDOZmGaXCaujnJc7hcD6TL27HX9R3iMD68w+IxGmPJVLou4luWH38JE6d84H/nRvwmtkAH3cTki/uU76lHvzfYI02YweirJEaDzx6YHxYezg3zWio4gtlw8ohbbGkPv4a3azHuHZfdCslQfTJzVjjsQVhzQejsbnh5GfyExhaWsNbRWo0iLqxHsO7TMeN/H2xdstYlGYC00acx0nfd5DbVYCjZTBuBsUygSZDqVsoyCq/0LfGx+CNkr1tJEfg/ElfvJPboYKjJYJvBiGW3SdZiKx9jg2jF+Jl/WGYvfYILi5uBhMxK4zsOeBUzxEmKj9smLcfYbq1fFrERUYhUXcLCasahPiYN1Cq2T2EsF8aM9Sf5or+JYzwat8ItBq2BQFxhlMC6igE3HiAWGbJkFYLrfC2pxWEpkXE+ZPwfSeHXQVHWAbfRJBe+FBmJntzwvMNo7HwZX0Mm70WRy4uRjMTMczMzXWNR8PSF9LVCjcR0FUa9kYq3FcXoGG/WYhGw/IhQf669WBvpMQl99k4qXubEcgiX7rz6eqQroBZerpbC88nxm916qKMsRqhN28iUghXPsGTCIJF7dZoJCh79vzC3YSRU0NO9Rjkw+FwPg+tJqXN648/8Kl2rAVTAwwy6AYWkmXfYYgvtFldG2XH7EJiCiXNvYU2zP4RWzuhnqMJVH4bMG9/mK69QxuHyCihl0inQ7TWWfcpKfd+n1dtlnrwR0Yt6F6DwKTlhmJUC2tm9chQZ8RAlNYNMenlKvyrk7P4E7JJr0vZMbsylc7Xo7/nZ+hm4f5pZG1A6ohePSpDHueFWUuS0a2/o24k7YsQ5g9/ZBL8llPTPBJi1ifZlqpJtapXpLJlHalyrebUd+ZuCnhriCiQdJHGlpQzmYvJqvJAGtLImkQiC6owcBcFqd/RiSGFyIg9ssSyCk27HEUXx5YkOTsWW1WmgUMakbVIRBYVBtKu+w9oWcPcVKzRYJo8eTi1KF+Kms2/QrpbxfmQa5siZAoRmdjaU3lHR6o79ihFCxO2707QkEJG7P4SsqwyjS4LU7r/Bd7eoe0TmpG9pYxklnbkULMRNalXjSpWrEe9V9+ihJCD5NKsELH3CbKs2JNWe79jRTWWSgrru8RWVHngEGpkLSKRRQUa6HmalmYoezU9WtaQchdrRIMnT6bhLcpTqWbz6cpbNT05OotaFmFyF2Wn8t1X0IU7R2lB32pkIxZmlRvQqC0X6IxrVyqbTUwieXFqO+cYkSaazs+sT3mNQNLs+ahUuYrUfOFNis0sX7uCWA7S1aEL9+jorJZUhKUhyl6euq+4zITxjrz/ak1FzG2pRv+JNK5DWSpYdQjteKAiUvrRpsFOZMuscUneeuS8PYBUivM0opCExML1K6/q5fkLoAo8SMvWnqXn+iVznO9IprJWB9OZTetpw6YttGXzJtqwfhOd0a05Yiju0/ENG2jT5s20ccMBuvUm1YoT1SvyP7mL1i2bQ5PGjKYJ0+aS244L9CjmBylMTQSdmPs7Vc7F+gWm620qdqFxW+9QaocAmeuXE7RzYmPKz9qgOGdl6uGyl4SmmXnfsZ0ObhhMTrbsXpK8VH/aITq9aRBVzylmx3bUcMJuClQ8piW1jEgkLUhNXQ7TYyamOB9XalPElOkkE7K1L0+OjnVp7NFo0qTXIUInkVmfkvyA9nyU18z0oP65f0zUFHzAhTqWtSSL0u1o0u4HurJKuuBMJcv+Sfr9Z7dp4/AmVMxUxGRmSkUbD6X1t1iszGSTlFqX1qdph07TpkHVKadO5zekCbsDSfF4CdUSNkAVbEouhx+zm2Shm9UZyVrIux7N09XU2FxMtt330htD2JfwwxtapEqi+CQlqTQaUiuTKCE+KU2DSo/m3WO6deM+RbLCE+Ir1WpSJilYUQsnYyjkpg/dfZGyYPIdPb51g+7rI1OSUq27RqGLrKa48Hvk4+1HIdHp94Op6O3Tu+Rz7QYFvkjx0qRHExNCN33uUsot/lsIcmEyu3KN/AKf09uUglIrKIGVIXujYYZFAiXpwpnKeXyLbtyP1C10VwrnhTLQCT9z2avjwumejzf5hUS/36WnVrI0WdlpNCpSJLAyT1ay+yk+1BmWtjIpgRQqDWlUCkpK+LByVBEdQn7XrtHtsLeGxY1Z5Us4nboOsfPC/dT6dIX7pKB6G0YB16+TfyjL5/s+TMhf6nwJgkh1D71gfgESyGtIAZIYOdBEnw8y4XwPspC15i2FXFhCrYQXVUkeau16kULfGiqjOpqCvGZRg9yVaczhAHqpa0xKCj06kzo6WJFlqQ40yW0LHTxxhDxXT6POpS3IyGES3fghqqiGtbuUNq/W6ZT4lPb5nszasVKvIwxtNom1x5QrM+s7FCx9ne4QrmfxFUyX6O5tOBauVylYu1br2/f7nKje0tO7PnTtRiCl6SbS90M6MupT1JnmNSM9+COj1ul9JjNBT74vqzh69UrYfSCgoiTWtwtyZpGYjOMN/YRARrJJp0uZ/JMMstIf60qFlZ2K1GnuyUIz1M2Zy1qH5jm5NSxDY658nbR/fEOLw+H8XMTsox6scxcJjgn7HWbvkZzvxqdkrfInF0fDTi7/dFaS8iKNqtxLv4OL8bnOhzmc/xrqwKXUvOUyepTG+vp8hIlJDofD+UZoEbFvG8LbjkA9cy1e7F+LXRFpVjwY0CIm0AvbBIetm48h4P2uqQzC1bEI8z2GzUfu6tc9GhwLbj/4z3vnhZr4CNzx2oYD/8TilfdmLNtriJupQ2KG4AiRXeO2eDk2HwtAVJQ/Tuzbh/0HDmA/+/dsYBwUIZdwQHBYeMALAekcUv7v+RxZpyzozmhhNwsTGxaIf6HzYQ7n10eLZ+sHof0fo9C9136UHt8fRXVryb4c3mw4HM63Q/MQWz0T0XrsFAxqnhOI9cLfGwPTbgxJfowDYxui7oD1uHLnCtaNGQZ3P1XG4Te8sbJbLZSv2hKD1/shWR2ILUPrw7FCY/Rzu6bbaKG+txGD65VHhcb9MGvuYDRs1A/Tdt1F0pON+L1+N8zZtBN/z/0DnWrUx7TryYYsHMDYhnUxYP0V3LmyDmOGucOfzEA3l6B3+/boOv8ayFQCsYkEt5f3w6RDryA2+sHU5efI+nNRXMdlXwVIUgpVqqa3shiSgqhWLb9+WzyH85+AoM1lhxxxyagwYyvm1P7CrYapMYxscTgczr9G6T2BqrXboPOQnXBmKBWSgKRF/6Dz75ejKOmmSwUyMW1MHoJXQXbsM3skeTxOyiSc/X4tOCYEydtsId0KDYNjQVk9N3pumMpK2tONLEUSyt95Ld0K8aGDp4MoOTOHxMqb5FLBhEwbe+gcG5LSh2aP9CDhVvR2P/XILSJx3r6k9094hoY5tqUNEYYb/UB8WtYM1R2aXkGYOqxA0z+aOrxEo6v0pv1C/C9wPszhcL4MPqLF4XC+EXE4vW4nnkUcx4Q+vTBkYxAkRiKoQ3fC42C0PoomFKdPBkBhYQc73ZZqGapMXY7Bdk8yDi/Ifkv0jgk/oHcsmAYpCxNJUMSpOcoVroI2jYrDKBOHxJrQ0zgZoICFHXtb1d2qCqYuHwzhVrBohr7tCwIRh7HlaDTeHN8In0oD0SmPcPJH4jNknRpKQlJSumlFSoZSY5g6/DfOhzkcTpb8aNqDw+H8pGhf7cfG2w2xwG0inJ2d4Tx6IVaMqQpjeo2ja7chVLdAihlEgh+hN0/wJM2ap8zCU6FKhn7iLyPfSenJwiExM8okILx58iTdB2cFjFG7bzeUkkTj5OY18NgShuaDG+NfTBp8Fz5P1gyRGBJBy2uj8eKFXnopaGMf45k2J3IJ5/+F82EOh5M1P5+hpX0Fn72bsHnrFmzadBh3Yg3hOrSIvLEXGzdtwZbNG7HlXKghnPNjoUH4FU9s2Kgvpw37biIqI8WueYIL2zZi85at2LxxM86GpFnK/AnUCDmxAjNG9ULz2s44pDAEfzWx8N+7FC7O3yq9Xw0NHm3ZhLCGg9C5SkVUrCj8VULjYX1Ql1kpiVfWYd0t1tFL8qNuPXsYKS/BffZJvPcVm1m4gCw7spuKob53GWfCnuHmlr3wjiNmlWk/LG43OC/UeaUV0GbukFiSvy7q2RtBeckds0++SLtAniF17IUeleWI85qFJcnd0N/xi90Tfmc+U9YCkgKoXOE3SAUDbNliXDAYW9rYe9g1dRWe1GqB8rpPU32+8+FfAt6P/GviHpzA+r9mYuL4KZi/2hPHr4cgxtCYlPe2YUzvQXC7GsOk+S3Q4pXPXmzavBVbNm3C4bQFBm3kDezduAlbtmzGxi3nPrxo/Eti/fdiqYszejWvDecvVfqx/ti71AXOvZozvfTTkUDhtzxpYCnBQaWUCvy+k56mWlKQFHGLdg0uS3ZtXOli6A/txe0/TdxTH9rQsyixLoxEMkdyEZzTpSP+5GAqIAw9SPJQqyUXKCTmE2tHVJF0e+8iGrv8EilIQ6/v7aFhZYxIZNaetqd1d/YVJFH47d001OFbpfcroaRbf/eiitZG9FvdoeR+SXDMyFCH0bGF3ckxu1jnCDJ76Y7kevktaaLP08z6ecmIdf/Z85WichWb08KbykzDiaLp+MjSZC5idUVqS/Vd/qRm5iIS56hK/dbfIvWDPTSxcX6SsHvkrNyDXPYKDhGTMndIHJRM0ednUv28TIdIs1O+UuWoYvOFpLuVDg09Xd2YzMW21H3v17gn/J58max1vLtBK3tWotxyEYnEMspuZUkm8lxUuZ8H3UivIj/hfPhn8Nn0efB+5OtRUaBHW8pnWZp6uh2hq9fP056/+pCjbQNy0y2a1NDjZXVZ25NQ8dFXWI39NiSE3yLPgaWYfhCRtMDvtDNtgdGtXYOprF0bcr0YSinu4v4tSeG3afdQBzISmVH7L1X6SeF0e/dQcjAS/ax+tN7RhlbZSC5jDyC2pnqLb+sXyRqI39yeqs9I6ymY86OhoXC3BpQ7pzVJBB9AvQ9QjOGMDs1zWtemMOW0ZB2HUXly8ft0aapuTiYHqZjyDTpt6BDe0Lrm8m9oGH3r9H4dVIokUmr0zv50Tgd1CA5dE0hhcCarTOOEUEHRIX507dptCkujFTMLT6KX92+Sf5iwuF1waKg0OCJkCaZxiJvirJCRpUNihiKaQvyu0bXbYR8pZs1zN2pYZgx9pX/C78qXy1qPMuYpBfpepau+gfT87ae6v0ycD/9S8H7kq4jxpE5WErLo6JnKb1s8bevbn/akCFD5gnzPXqHQFH+k34h3G1pRNrmMROxlwrreYrqdtsCoffUZdOcbF9ibdc1J/jWGlsCbddScveD8fFOHBkTS0hg8fwBKGsXgwpROGLE//P0QpbAOQ/9x6A8khvviyLolWOy+F/9EGcYVtQmIuHMWu9Ydxr2EZ7i6YwWWeuzFzZfsfHwQvDYsxaIVe/BPuoUc2phAnNm6HItcN+JUUIonH86XIhIZoUSPgahtrkXE3mXY8PDDeK/ypjs2U0d0KSxsKGdlmbo4Bf9HZ7Zi+SJXbDwV9N6XEuQyyFhEY1MTQ/RUvoOSWflud8Pi5Z64/jLtBnhF2FXsXeeKBQtXYNPxAMSkG+vWRN/FiQ3L4LruOB58NHeSjBc+e7Fm6XwscNuMwzfCDd9T+28hlRtDJhZDLJVDLk1RKxLITE1ZsUggFkshMzaD8ftZODmsC5dH9erlkN8itRrKLNwYtiUroWx+M/ZbCrmxDBJ2L1M5S1DC/hWO2f2FfJjKDU4IxNlQ0LEyStrIWBwZjFk+JDJjpJyG3BqFy1dH9XL5keZW0ODh7pMw7j8U1eSGoB+IL5e1HpmlHUpUrIEaFUsgr4VuvjALpLCwK4UqNaujfIm8sPjRZk+/EZ/fj6gRG+aLY5uP4K7emRviI+7Aa/tB/KNTQFoksOOzu9bh8L0EPLu6AyuWemDvzZdCTAR5bcDSRSuw55+0H7H/GdG8eY4X8VokBpzGkfuxhucxw+/r1qKjqe4AWjXTw3gKX/8o3XmtwUfdgUOHcfT4CZw4fgSHDhyF7/vFgIL/vDPYunwRXDeeQqbdqkiK0oPnY0BJI8RcmIJOI/Yj/EOB6cvMcKgjs76CkWU/ronG3RMbsMx1HY4/SHnGVGSRrlA3ou+ewIZlrlh33DDdbrC7fjLe0cZ21Wm6fxzdcW2o+76R2LImzfLWf1wwYUsHqjEzwPAmoqbHG7pT1VptqH0De7IQgWQOk8hbqSBv13ZU2lJMIlkJqte6LlUtaUNGIhGZlGlFXRtWo8olcrJjMVm12ajbQi2MwkRfnE2NileivkvX0px2hcjItDxNuMh9X385GopY0ZTqL75DRwcWIAmkVGTYGfZeJJx6QVs7VyPnMzdoRkWDV+vb+tLURF+k2Y2KU6W+S2ntnHZUyMiUyk+4SO+S/Mijkz2xbphkOfJT0eI9aXt0DK1vIdeXb6s6VK2CHZmJRWRU+k+6phup0NDLg8OpjKUdtV54iE5sGUlVshuTXYf1FKIb9VDR4wPjqE7JatRrsguN7VCGWIecakRLRQFL65GtfTdaftCLjqzsQWWarzLUFc5Ph+YprRvYjkY4d6bKTuPp4n/lW6X/WT63H1HSjRUdmZ4QE+RtaEuCiu5vHqj/1qKsnm66TOHtSu1KW5JYJKMS9VpT3aolycZIRCKTMtSqa0OqVrkE5WTHYqs2tPFnVxDKGzS1PNOrwrIPI2sqXrs9DZmxns4bhq/UIbtoZM08JGU6veKsu7pP2SjOjKBKNfvQ5NnzafYQJ8ohyDp3O9r4hJ3VRNPF2Y2oeKW+tHTtHGpXyIhMy0+gjLrVdxvbUfXp/hR3x5UaCt+bFFtSzVnepCuxhC3UocZMCjCMaGXaV3yiH1c9PkDj6pSkar0mk8vYDlTGgt0n1YhW5unqLqYD4+pQyWq9aLLLWOpQxoLE+ImnDnUNRBgj1Lykw4PtSc4MJKMCXWhrqJri0xhaGor0vkB6dzrhtKqhCeu4a9Ai3cdVI2lNE1Zh5HVp2RNW+ZMu0qhiUtaRNqbVgoOdBC8aWlBCkgLD6IzQMSuv04SSUpI3XsOuZDL1nUplpCKy6r6PUruu4XwOKYZWCCnvL6AaJkwJWTYjjzANKW+5UK2myylYEUAz0xhaSro+oSRJ5Y1pjb4AaGoZVl5W3XWfEVH5uVA5qYSKjbpsWBdgMLTk9WgZS1f4GO2aZtmY4VWHXIXyVlzSlbe0qDNd0l3wjvZ0y0FiST4aeCKJ1IGLqba5EVVMmT5g9cetnuyDoaUOovnVjEhWbjjtC3hNSlUQHTpw65utSeD8P6N+QodnDaDeQxfQsce8FH99vqQfea3rK/SGlnCcxHSFJdMlekNLIHJNE3a9nOoue8K0WxJdHFWMpKyDbrw6nB0nkNfQgiSRFKBhus7k50YZeohcOlWmvKZincEljNmILavR9Kt6Y0txoj/9Jv5gaKkCPGm7D3tuxW2a75SdxNL81GN3BJOL0K1OoJJSOTXWK3XynVqGyc2Kuqd8GyoVekNL0MfsJfnwYLIX1h0aFaAuW0NJHZ/a0Mqir4jNoh9XB9Li2uZkVDFlClJY4lKPZO8Nraz6IDUFLq5N5kYVaYZh/lIT7kb1ZD/x1OF7xLZotWwX5tWzhiZsN4Z2morLwo6k94hh41gYiUeWYuKwSTgULjyyYGAK54yEnd6A1Bo2NixcVgxF7Jj9KcuJXNbsWF4YhfMx0zsxHvEsvjbaF77Baqj9V6JLk6ZoMf40RCUroWJRCyExzlciKTkQY9rnhij2DNxWnsSepSdQYkRvFEmZ4klBGw1f32Co1f5Y2aUJmrYYj9OikqhUsSiyLAGpFWyEb4eIrVG0cA6IKQFxrEA1ETfg+0QNUc7cEFwIASYoWswOEs0rBN4LR/RFL/gkSJC3UCHoZk7EpjAzTTUwLcmLKjWKQXrHHR3K2sK66EAcDn2L91+T4fxcSAqg1bS/sWnVn2he8FNTa5xfik/2IxJ9X5EKKQtIPU1lpO9MYG1jw3odGYoVsYNYJEPOXNbsWI7ChfMx3ZOIeKEz+cmRFWqNmbtv4OmrEFzZNQ+9Klgz/X0D7h5e0O3N07lQ+YDUoSu6V1Hj+twBmHNVgaID12B5hzxMLlpE+/oiWK2G/8ouaNK0BcafFqFkpYrIulsVw7bVMuyaVw/WmjDsHtoJUy/H6Sw+HVn0Fdmy6Me10Rfh5ZPAVHshFNIrfZiamX4o56z6IHbuopcPEli/UEh/MesyzCB0GT+/oSVgXA6jtq9Hv+JGSLi1GL1meeO9y71kP9Z4yqD+ghBUG+OKcXVYR8vE9n7qPQ0i1jAMPwVE4rTHElZ5BKEV6IbVx0/i1Dkf+N+5Aa+ZDWBsiML5GqzRZuxAlDVS44FHD4wPaw/nphm1Mqbs9AWAbquP4+Spc/Dxv4MbXjPR4DMLQJyq4EWCI0zhMEFvSAvlr1OWIgnMzM2gUWuYQa5BRFgY9KvHKJ3/JhNUnXYWN4+5Y+qAZiiS4I0NE0dixT9f9REUDofzvySrfuQ9KiQbPGdoP+HMTfiO5AdY35Lm+Ccm9hDmLLqm82knNi+IGp0nYcP2cajEVKdGo/l4PZOB2AsuGLjoFrTlx2D9wqawTo7Eq7da1q1KBOmgQLfVOH7yFM75+OPODS/M/KRSN0a5Uduxvl9xGCXcwuJes+D9vsCy6CvMsujHNWpoBKfGEWEIMywZpjTlnFUfpIFaQyBNBMI+XKyTx09qaGmgYQ/P+sD3iHO3wYo9C9EwJyHq1Wto9UNW0Eacx0nfd5DbVYCjZTBuBsWy7jIZSt2KZS2rGOwfFlcfnR0zqZAgnNSyZQc6YVk7oZ6jCVR+GzBvv6Hz1cYhMipR+MX5QtRCozQIWlpuKEa1sGZGjwx1RgxEad3rkL48hH915SO2hlM9R5io/LBh3n5DQ9AiLjIKuhJgDVbwBhEf8wZK9oakFq5PU74pCOVLEP9WB3XLGEMdehM3I4UbKfHkSQTIojZaN7KBTY2aKCVT4/Y6F6y6xBrTAfYGdYu15JT0tM+xYfRCvKw/DLPXHsHFxc1gIjaDufkvolA5nF+az+9HABmyZzeFWH0Pl8+E4dnNLdjrLYygsJcvw/VavbJhukF/jVbfmaQzyFL6FjX8l7dE0QLVMe1CZiu/f0wER7dXDh/HP+93DWkR6XcbT8VF0Pn3etCth2fPLpwVnl2nKl/sg3O/Fbgvr46p66fDKRsQd3QyphxXwtqpHhxNVPDbMA/7DQaKNi4SGXWrGiHdtAWGNiv2YGHDnKCoV3jN9LpO+ln0FYos+nGxTQ3ULCWD+vY6uKy6xAy+A1i26xYzrw3lmlUfJLZBjZqlIFPfxjqXVbjEjLcDy3ZB6DKEi38u1E/p2JzuVDGHORVvOZZ23NXPherR0OszY8nRzIjKTvXVz60nXaSxJeWChMiq8kAa0siaRCILqjBwOx3cMJicbCUESV6qP+0Qnd40iKoLC+wkdtRwwm4KVDymJbWMSCQtSE1dDtNjNVGcjyu1KWJKEJmQrX15cnSsS2OPGnzZcD4TNQUfcKGOZS3JonQ7mrRb8HvEiuqCM5Us+yd5C8tjVLdp4/AmVMxUxGRtSkUbD6X1gq+tOB9ybVOETCEiE1t7Ku/oSHXHHqVooQDenaAhhYxYWUvIsspk2uDxoXzrOW+nAJWCzo8oRBJxdirffSVdjWGXeP9FrYuYk22N/jRxXAcqW7AqDdmhzw9pIslrUjXKIRG2f1tSxaEraLyTTJ/emF2sfjyiZQ1zU7FGg2ny5OHUonwpajb/CnGvOxzOD86X9iOM6OMjqbS5oI+kZFvfhf5sZk4icQ6q2m89+fhsosFOtsRe9Shv/Wl06PQmGlQ9J4nZsV3DCbQ7UEGPl9QiI3ZtwaYudPhxAp0ZXpCdz0mdtr0y3OHnQB30N3W1tyLLgtWpTe/BNLBLLbIvXpeGbrit28ykfnKUZrUsovN3lb18d1px8QFt72SrWxQuzWlP1WrWpJo1KlBhq3zU/6iwDiuOfFzbUBFTkMjEluzLO5Jj3bF0VKfUU1DT02NzqHvFHGRevCWN3XH3fbkIaF6fobGOZmRUdir5ppzIoq/IvB/XUKTXJKqWQ6JzIWFZcSitGO9EMqFc642hXYEs8SzS1UR60aRqOUgiEtasVaShK8aTk4w9l5AfwSb7edAgOZGZiHIj9nahhEZq+mG7tg4tEl8FIyz5N5S00384Qxv3BP4PkpCvXElYQwGNxAhQqdnTM3NUYgwjkRrJSiZzsYZJRw6ZhN2DHRuZykHC0JdUAo1SAyk71t1KHYtnQUF4npgdhUqXQG7DllbO56NRJkIlYbJmb3YKjdSwJT8ekZEi5MolbOFn4QlqiOQyyMVaKJOVIGnKlnU1Yp8FIeh5IrIXKo0SqQpA+zYUtx6ysi5bGjlFiaysU8pXy8rPGKLklPJXQWxsrF97xcrz6YMHeKHNhWL2BWAtTz3Qq0Hcs/t4+M4GpUvnhlSpgFYqZfUipT4I27yDcP9pMnIWL4nC1nLDdRwO58fly/sRAcWrQNx9ZYaSZfNDnkoXSGRAskYCY+F7k4KuEomhYaaF4G5DIxwbsfRJCSXTOBJNyv0SERWpQY5c2X7CqSUFokMfIeRFPOS5i6BowVwwS5GfJhk60cqYbFQKqEUyJuNkJisZZDIxSK2GKlkFtRasjzVj+l1/mTr2GYKCniMxeyGULpFbPzKWCk0y6zMgh5FYDeX7PuMD2sRXCA5Lxm8l7VJ9MivzviKrflwT9wz3H76DTenSyC1VQqEV9lCmridZpKuJw7P7D/HOpjRK55ZCqdAyk+ynM7Q4HA6Hw+Fwfg5+PkOaw+FwOBwO5yeBG1ocDofD4XA43wluaHE4HA6Hw+F8J7ihxeFwOBwOh/Od4IYWh8PhcDgcznfiq3YdBgYG4vbt24YjDofD4XA4HE5GfJWhdfToUWzfvt1wxOFwOBwOh8PJCO5Hi8PhcDgcDuc7wddocTgcDofD4XwnuKHF4XA4HA6H853ghhaHw+FwOBzOd4IbWhwOh8PhcDjfCb4YnpMl2riHOL1lMw7degWVOhZRbwk5ilZErRZd0M78KtyPPkCCJgechjijuV3qr6nHw8/TDQfvJeq+3m5XtSLM/H3wIEGDHE5D4NzcDmli+3nC7eA9JKpFkNk1gMuQuoYzmaC4g92u++Afr9YdSrNXRNex7VFSqjt8jybqBra6e+JWRBSeR2mQp1Iz9OzfEuqDf+FoGCARiyESGSKTFhqNFlrkhFP3Gog5egoPE9WQOXTDxK4OkBmipSb22t/46xhLyCg7KnYZg7apM5B8GaNK1cdmeVN0atsVf8z8HWVSnU6Mfo0dj8VoX8Ea1sIrjzoJ1+5G4fobDbLZWKNNaQvkEsITr+PvqWvgecATl3NNx71rk1A87YfrfwKUeHr1II5eCwPZ1USr9jWRP0Wg2jfwP7IXXnejIStcBx061EDej4StQfAhV2z3V0JmLINUq4JCoUbhthPxe3kWWfkUVw8ex7XQBGS3r4t2bSoiV4qMEoPhtfc8QpPMUbZtZ1S3NZxIuIilHmoMGtsg1df+Ob8SiaFe2HZZjo49a+vbWCrivddjIWu7YpkMcpkUIo0KycnJUFvXxJA/miKvru2F4eLuc1A36Y0GeTIal1Dg6RVWd99VR+/mRZBO/aQiEaFe23BZ3hE9a1sbRjjiEXLhCI5ffwaZfSNWZx317T0Nn5v+z8In2nEqFE+vYK/XO1Tv3RxF0jx4PLzXL8SxMDFkMjlkUhE0qmRWdmpY12R9S9O8+mhMr/hs88Dxh6wPkjmg28SucMhYiePvv44hDEYwz58Hmmt7sOOcCYZ7H8Kw3zIq869AMLQ4nI9R0eMDY6h2KSf6Y4svRSoMoW+f0NUNfahiuw2647jzf1AxMSh7jdl0I14XlIoEuj6pAfXc/UZ/GHee/igmJmSvQbM/jkwJ1ydRg567yRD706ie0JLaUjJqsJLC1YawVGie76KeVduR2+23umPVmzv0d+dqNPjkU1rTvzf9fd2f/P1v0Z4hxUlq05HW+ArHN2n/6N40y19F9O4MDS0iIRE7t+OVRpdGGtRB9FctU4JRZZp11yCg1Khu0ITiEqq9PII+ujo5hqa7niTT1U/ohXBSHUtLVl+kcqv+od83eVOxSSepwIan9Oj9hSrym1ySxNWX0NMMsvJj85bOTWlEraefoafxMXRvcy+q2mgJ3VayU5rXtK+fA5Vu2IdGjelLTrklZNXYnYI+Kk8FnRzkQKXqNqZGDepRvTq1yalGXZpwIomJ5hYtql+cnWtHXdrVoAKmRpSn9Vp6JKShfkBL6zjSiEtxpA5eRE72Q+isruqpKdhtEE2+xK7n/JokedPUCnKS1luhb2PpeOVWh0xsy1J1JydyMvxVyCungiMuUFzMTdo4vhe1a1OFfpOWpWl+TB+kI+nBLhrdti0NX3GSgj9WZ2lI8p5KFeRSqrfihV4XsHp/dkpb6uXmQ0+f36LV7QpS8UGHKbWa+ZL0fx6yaMcpJD2gXaPbUtvhK+hkhg/+itzqmJBt2ervy83JqQLllRekERcSDHFSeEdnhhYhiciGOu549bEeZnog6K9aZAojqjzrLssdC7k3kxyNapHrN1S03NDiZEjcpT+pvIUjTb6evuIylJdpmetF3U/1vbnUtWNPqmVpREX67aeINHVTTaFLe9GY8wYjRH2P5nbtSD1rWZJRkX60P21kUocupV5jzusqe1rUpEhQsP9PTwJtaS0js4472a/0KOmSc3EqMuxcmvQSTq6hDYHxdMFzL4Xpbq+mwDmVSVZgOKVkM+7sTjoo5E3lT7PaVqJyOYyp0uw7zNRJS/zZUdS0SnmykDei1RkZYuz6qaWl1MAjvemoobtXH9DorZco29/PKEYIin9Gow+/pjjdeS1F3vGnIn9eoolPUtJV073p5UhSxy3DTuNHRuU3jcrb9aPjKbpUE0qLa9hQ++2vmVI9QtPG7adIwzMlXBxBhYzq06pI/fEHFHR6RB9a/TKDh3+9nv4Ye9YgOw1F7u9NdrKSNN5byW41h8pl60qHhXurfGlMwXw04horyXgvmjBk7U9otHI+DxUFuE+kkV3tSd50nb6NpePV6lHkcjNVq1b60OT63Wi7UMfe3iNvv0j2Yrmemhl/bGgpA9dSu0rtyONeKgMhM1QB5D5xJHW1l1PTdfqcqPxdqELp8XTDkKz6/iwqJ6lCC0P0Wu6L0v+pyKIdCygDaW27StTO4x5l/uSvaPUoF0pbdJOpfrft9HGyKvKf1ZYqlctBxpVm0520xSgocRrVtArr6+TUaLXeEFM/mk9VvrGh9Y3GxTi/FNoIeM5zxyOnPzCqsqkhMBUyJziPqm04EEFuPxRb/+4GzdYB6Lk8AErDGeGcSJiXez83x37K7TF069/optmKAT2XI+BDZF1c/X/pUJ7BH/VG4nyquO8Rkjf8TIsaL19E4k1YKCK1hiCGaZNB6FvCDHW6dkB+Q+0Xi/V5TMmmef0uaKObJmBhFk3g3L8YAjyW4vhb/Xkd2mfYuTEabQc6wEgXkFFTEkFIOj2a6Ajs0diikzU7YOd1E1liC/SraW2YwhLBpog1HMSEZI0uQI+QlpDPn6zVxvlcw12THMiRMvwvzoPC+VXwueAHGDlh1JTWsDE8kyybJXI41EAlC/3xBwhKtRSmZoAi+hlexOqnjHVIqmLg8DoG2YlhU7c2yhoJ00CCWHPDBu/wVsVOKZ8jPKkoShUEQtbvgdHvPWH3k8mS83loQrdil6oduhRirUssTrNMIQXTap3RvlRKpdTi6YYF8G/mgi62rFJYlEK18jYZT9VpgrBq2Ewk9luKAaWMDYGZoUHo1l1QtesCfVaEnGjx/NRpBBUrj9KGG0gKV0ZFqzvwucmU3Bel/7ORRTtmsgpaNQwzE/th6YBSyPzJTVGtc3t8KLqn2LDAH81cukAouvSIRBZo4twfxQI8sDStEseznRsR3XYgHPRKPJ0WV+Dxpe1Y6boKO72fgamTr4arGc7HJPvg4vVEFKngCKvPqiFi5OnoDs9JRXFjUheMOxXNqnDmiPN0hLvnJBS9MQldxp1CdFaRvxpjVGtRD7KTg+FQtAY6DJ8F9x0ncfNpguH85yKFw1BnNErYi6Ubg5kq0JP8z984ZtsfnW0ysKSyQqvAPt9kNKqaXbfmSzAudSI2yQYH6w9pKV7GIczaBm3y/fxNVG5jA9PHV3H5iUF66oe4fe8tkpRJrIexhLWlBMlxkQgLOIS5brEYs28GKmewliJZcRtr2laAQ7myKGCZHfadVsEvkZ2wLI0yQi9mQBEQgCcFW6FdJZaIdW+4LS+Ii/NXYOWCE7BdtAr9s53HmsBKGFzjV+vEODq04dizKQpNBpTXtzFmaGXUiszLV0e5lPfImOOYvbcgJgwrkaFRlppkHw+4+1ZC5+oBcB09AAP+mINdd+IMZ9OiDd+DTVFNMEC3/oi1dZYXQIWQ4KcwtrD4cC8JexGxVCA6Kv6L0v8ZybQds37Hw90XlTpXR4DraAwY8Afm7LqDj5/cHOWrl2Pmlp6Y47Oxt+AEDCuReclJHYbCuVEC9i7diOAPShx/H7NF/842unfYNNAbXFsyktUJf4T4bsIIp/Jos/rhe/3/pfz8Wpzz7VHFIiZB2CPxJUaEOaq5eMKteSw8evfFuoep31Q+xryaCzzdmiPWozf6rnuIrGN/DWLY9dqJm2fXYGzrYlAH7MH8Ia1QpXhJtHTzTzXq9mnEv3XD2B62uLbSFRd1dlo0Dq19hHpDnWCii/G5EKIePEdwATvUTGVIfCRl1TusPJ+Ajp2LoXYGBsfPhmmLMRhTzg9TWnTCxIULMcV5Ec6+BnLb2RliJOPO1jlw3f0PoiLPYELL37E69VCnDjHy1eqGSet9Efz8NZ6dHQazw6Mw1C3QcN6Awg/LFwWi8/rZqKPTxFKU7OuOdfP+wIjZHljeqziebdgDmW40Kxb3T2zDuvU7cS3829dAzv8CLaKOrcOj6gPhZJbSvWUwSp6GOFyYsQDx/SbCKYMB/LRoEHLuEuusH+H47jDkr9cIRV9sRM9anbH2Sbo3Rm0Ujq17hOoDnfAhK/qcJCYl6V6y3iMyg6kJOxZ9Qfo/JZm3Y03IOVxiVtCj47sRlr8eGhV9gY09a6Hz2ieZv7jHXcCMBfHoN9HpveGVIeLf0G1sD9heWwlXvRJH9KG1eFRvKJwyUuLaOFi3XI4Nbovguv0C9g+3xMkFbrj8lcNa3NDifIwsPwrYEh7fvZvB20QWSAqjz/qtGJnLC6O7TsWl2Kw2tEpQuM96bB2ZC16ju2LqpVhmhqRCeRJjK5dEiRIlUKJsf2y/sQ19yrLf7LhklXE49VmWkgx2dfrDZdlmHLoUgOfhfvBorsXpFZtw80sajNgUtZxHoGbkDvy14xmSAzdgj7Q7ehb51LtvOhRvsNA7AaLoF/C49gyHI9RQv32D9VcjcD3e8PTaZJw68RAPypfCxPwZTlz8fMgrY/oFPxyaUAu2OUqjy4SOKKIphIZNShkiyFBpmBuWzZ6FlYf3YqB8FybMOQzhJfcDMlTpNwYtCwgykcC2/jSMbW6E+3539acFWMd2YtJUBHZdhSlVzQyB6Yg/hzWBVTC0ugpn/2iAcSHV0asFYWnDjtga8St0ZBmTcHwA8kmF6XFh6tkY1ebdM5z5xYg7j3keDyEK9cSqVR44eDsG6mcXsdbdE95RGZevwmcuxng3wKTOuT6jQ9Tg5YsoiMv2xqLZI9C5dRdM3PgXOsvOYs+pGEMcPXHn58HjoQihnquwyuMgbseo8eziWrh7XodSLkfCu7gPOo+SoEyWw8ra5LPT/znJvB1rXr5AlLgsei+ajRGdW6PLxI34q7MMZ/ecQsZProDP3DHwbjAJnT/erpkOMUxrOWNEzUjs+GsHniUHYsMeKbr3LJLxCKakAErYp1hgpqhSvzqsYqLw+itVBDe0OB8jr4ZObQsj/qQH1t3/wjd9q/qYv3Mxaj1bgu4Dt+NZlmOtVqg/fycW13qGJd0HYnvqyPKmWHIzEA8ePMCDO+vxe5Ue2HSH/WbHgTf+QhO5IV6GxOHuP/cRcy8AYanvn80BvXvUgaWJGYy/sOZLivbB6I5mOLuMveG4+aDc0GawNJz7XDTvVLCylSPmTSJCoxPxPEnL7ColgqOS8FonZg3ueAfhgI09VlY0zVgB/KyY2aNJ/9EYPaAZZPtccc5xAkbVkCGZKdc3qZWXpCBKFDaDiWm659cKbjdSYwwrKysUKlbMcJwI/1UTsc9+ITx6FM5EdhoEr98DeY8eyKs6h7UbJWjYsRBkuVuise0hbDmV1rT7lTBr7IbA1zGIiWF/sa9x4c/ShjO/FprwGFiVyo2Y0BCEhITiWYwS2vgIPAoKRZQigxc/9R0sGr4dxSY4o+xnvdeIYWlpDrFECknKgJRpcRTPx5JSJaeqoxqEx1ihVO4YhIawvIQ+Q4xSi/iIRwgKfQPbgnmheBGO97af5g2i4oqidCnjz0z/JyWLdiy2tIS5WALphwdHcf2DIzmDB1ffWYTh24thgnPZz3N7ISmKPqM7wuzsMixydYNPuaFo9plKXJ2YCHKoiPKGtVxfCje0OBlgijpTl2NwgRtwad8TK6+nX3OlRmRomO4XsYajZn+pkZUahs3r+8L00HD0Xx/KVI4BYo1Mna6hyUph2Ob16Gt6CMP7r0foF02Cs7Qyih9/Fmu33Ufw7pXYn7IuSEccrl8KQ6XBPeCYqmVqtUwBE0H4Jy2p82uJ5qMHo0zwavwV2QYDHAwJCNex/4g926eQ5MqNKS1LYFEr4c8eQwrLYGSTG3PbFkFLS8LDm/exMN4Wo+0leBbJjMXwWPi+VLD3tl8FDZ4d+xND9pWG+4ZBusXByddXYuHxVO+rilvwflwWf4xoCLk2HGfcFmP/w2REebpg/vVUkkj0xaWoFpj5R1l2kIygjSMxL7I9xjU1xdMH9xBw+x/cvBeRVnbxZ7DmQRUMqW7MNJ8VLLMn4d07VujaSLyKyYNCrDx+WaSmyMY6MkvhL5s5jH8pK/4DkhId4bJ4CZYsEf5YR1zHFkYlumCh2xS0Fvz8aV/govsEjF17m8XW4IHbUMyL7YqxbYWdKRkg7MwX/nuvG6Qo1bwpCofexu0Uuzw+CA/fOaFN41wQv08/ACU6umCxLh/sb9Fw1LE1QokuC+E2pR2qN6yHoncv4Lyh6mtCrsLfuiXaljbOOn1D0M+JNst2LC3VHE0Lh+L2hwdH0MN3cGrTGLnEWoSfccPi/YZlJpoHcBs6D7FdxyKzoktBq1UL9p0Oy+ajMbhMMFb/FYk2AxwMBhorX3Zeq9PlDIUCSkpAfMosgyYMu/a9RLcpA1D4a9uNYfchh/MRmhg/2uxcl/Jls6FSddtQr+FjaeywPtSlQwfq73aD3t7aSXN6OZJt6c40Y8v191v09SSQ79xaZCEpSCMEvwlvb9HOOb3I0bY0dZ6xha6njUwJvnOploWECo7IwL2D8gKNaTKOLgp+l1Lx7vpCqp8TJMlfl3oNGkKD+nSj9i0bUR3HAlR58lW6NpXlrXhD6jdhAa1ctYSmDutLw5de+LAFWBNNN7bPob4VLQiy4tTBZS2df6rfXq2J8SXPOT2ofO4y1G3WNvKJZhdpXtK2zpVp+Fm9M4kY3200pXlBkohzUa1hi2jfnXQ+X1T+NM3hY/cOmrg35HkhiLosPElyF28afuY5nb51l0r/eYLk49L+mbmHUqguv2q6N6McSequoJe6VH4mlBThs50WjO1P/cZvJv93hmCGJsKdGuUpTz2mr6JNG1fQrHGTad1Nvd8zerebOpqAqi15ROroHdS9XAMaOsuV3BbPoEkTZpNngCBvDUUfG0rF5SJBK6b5M6r1F4W+9wmipkfLBtLUKymbxjX0dN8o6jp0Ia1eMJR6Tjr207nN4GSOJvIabV8yhTqUkBNy1qDBc7eR92tWwK/cqQ7y0rALSaR5+jc1ZvWr+pKQDFzHKOn+4eU0c1ANygkTcug0hZbs9dO7ENG8oGNja1P1Xsvo0OmD5Dq4Aw3adJ9dwUiVvh4NRV7bTkumdKASclDOGoNp7jZveq16SSfHVyWHFjNoy56NNKFDZ1qU4lswq/R/djJtxwIaenFsLNWu3ouWHTpNB10HU4dBm+i+7sHf0e6OJoRqS+iRmrXdvxuTCarTEoM7jAzRxJCv5xzqUT43lek2i7b5RLM7aOjlts5UefhZvUsgpue3TWlOBSViylVrGC3ad4feXBtP1QsXpFx5y1HTbv1owMBxtPJKJLvy6+Ge4TmfRh2HiKC7uP8sCWa/FUHJUgVgyV4FtMnCaIsRezvWIFkFnafftG9cCrwKDMTbXOVgb6UWXhRgxF6lNfrIkKV7PVO8CkTg21woZ5/js97chPsns/vLxBqoWJoq9tpCkMBI8BYsk7A0tIgLuwP/R1HQWBVCyZKFkcs0dcpaJCcqoJUK3oWJpZHMMmgKufDWok3+kF8Fy6+xPr+amDeIt7CGBfute36SwthIBHWykqVjCuPUY9jqfzC5TFX4OL/C2SE5DIEMls9ENUEqFbM3KkIy+y0gvKkZiUW6P6FZqjVaqNhTmLIbi9nb973pjih7vj+eXXDGt3JY/P9DMiLu3oeqcHkUyGDFqjYhAvf9HiAulyMqF7dKOw3AZKU17BrTxD/FnX9CkJynHByLW+t2lAlokxORqBLDyEgKIyZTYm+waqE+sLphappSJ5MRejsIlmXLfOQhnPMLwtpvokILqVzG6pMayUo1xKwNR7g3RP3Lg3B1Z1fkYeFqtRaQsjgZ1Am1IgHJIjnkRuykOhlKrRSm7xu4Gm9Db+FWmAgFHR1RWFCITJ88WZEqfUOaQv1UsGsF7/O6dNRiGOvqpQZxT/6Bb5gJSlYrg9xplkNklP6vQWbtOAX121DcuhUGUUFHOBa2TKUPmC7QMl3A5KpVs7LTFZ3U0L4zgul3vRKHRKNg+sAYxnoljjfxFrDWK3Gm55kuNjaCKKWMkYQ4sRmM4p7gyTtLFC70cR6/FG5ocTjfi+RL+KNoHZzreAHnF9RBrn/TWhXh2D2gEroEj8Xja+NQMHPtwuFwMiLxHJxb7kC9nWvR9pOLp7+C750+56eFG1oczvdC8xB75qzGtVgRRCaO6DOz52cuuE1Hgjc8pu/GQ2EBwW9NMWFME+TmepzD+TK0iYhPNoX593Kf9r3T5/y0cEOLw+FwOBwO5zvB34s5HA6Hw+FwvhPc0OJwOBwOh8P5TnBDi8PhcDgcDuc7wddo/edR4M5uV+zzj9e5F4A0Oyp2HYv2JdOt2tZE4cZWd3jeikDU8yho8lRCs5790aNEMNYuOoowSCAWf/imGGk10Ahe4qwd0S53KI4/TIRa5oBuE7vCIaPdd7HX8Pdfx1g6RshesQvGtC2Zdpt/CvHBOLXzBJ4XaIYujYrC3BD8KbRxD3F6y2YcuvUKKnUsot4SchStiFotuqCd+VW4H32ABE0OOA1xRnPBseF74uHn6YaD91j+RTLYVa0IM38fPEjQIIfTEDg3t0vjhTzezxNuB+8hUS2CzK4BXIbUNZzRk3x5FErV3wx5005o2/UPzP29DKBOwrW7Ubj+RoNsNtZoU9oCwqal+CfP8deDJIglIsglYoiYPJM1BLWpJXpIDmLV35444HkZuabfw7VJxTPxhv6joMTTqwdx9FoYyK4mWrWvifwf1YNEhHptw2V5R/SsbZ3JW2Aiwi7uxjl1E/RukMcQR4PgQ67Y7q/UuRiRalVQKNQo3HYifhc+5psYDK+95xGaZI6ybTujuq1BUgkXsdRDjUFjG3x2PeJwOJwvRjC0/pck+e+kOZMn0ISJk2jylCk0edIkmjhhEs34y4N2HPWliJ/JS5v6MZ3ecoIEH2rqR8do27nnqZycJdCTCxtpw5mIf+X47PugoidLapPUqAGtDM/AAZzmOe3qWZXaud0mnStJ1Ru683dnqjb4JCleraH+vf+m6/7+5H9rDw0pLiWbjmvIVzi+uZ9G957FLnhHZ4YWIYnIhjrueJXB86sp6K9aZAojqjzr7scOS1N4c55cuvWn+StGU81cNWjhoyyc1b1HRY8PjKHapZzojy2+FGlIXPX2CV3d0IcqttugO447/wcVE4Oy15hNKX4DP5BA1yc1oJ67DY5H487TH8XEhOw1aPbHkSnh+iRq0HM3pXVTqkd1YwIVl9Sm5REGKahjacnqi1Ru1T/0+yZvKjbpJBXY8JQesdOvLl8nixmXqfZKb6pn+Ks66yQV3x+td7an8qPJJcVUfcnTH7BOpeYtnZvSiFpPP0NP42Po3uZeVLXRErqdrm0neU+lCnIp1Vvx4uPn0cTQzY3jqVe7NlTlNymVnebHSjYFBZ0c5ECl6jamRg3qUb06tcmpRl2acCKJyfcBLa3jSCMuxZE6eBE52Q+hs7oiU1Ow2yCafCnFsSSHw+F8H/7nU4fGZbtgVKMkHPhrO16W74+R48dj9PA+aFHOHE8PjEDNCu0x7+xL6Fzjf4L4hyexfv8d/cjMNyceD0+ux/47WaQedxbLllxADGnx+sRfWHEtCaR9C99NE9C7fXd07j4Qyy6++qxn+f9FChsbS4hlVshp+fG4SPLVxZh2rSL+GFQOFkKA1ApluvdD36oFIM1uj4atGqNy2bIoW9YB+SzEMLUtDgfhuFIjtGwmfCLFBDZ5ysCxrBZHl67FvfQiTLiI1WeUKM6utbSxQWafk0o85Y41yQ0wclBHVC+cB7mzp4yfZU785alo1+c8nDacglvPirAxOAWUWhRAjd/7o2ftIrpjk1y5UbF9T5S7PwvdRh7AizSFJEcum7xMRgZvmya5kLtie/Qsdx+zuo3EgbSRIc9lg7zsOTL8mrxcBiOREeQpH1tUvMPzvKVxZWgFbOtdFVe75YE06AnWP2NpSrJjTL8auDi8Gs4Jf4NLoLFNbsxsaKVPW8TSkokgM/rKD3D9P6G+vQRjtthhyMQGsDOzRKkeM9AxYQFm7Y02xGCo72LDoXcoXlACuYnxx6NZYhFMS3THX7s3Y3C5j8c6xbJK+GPnCZw+cw7nLlzE5avnsbCpMbRP92LzLXs0rmwOSYH6qKI8igNCG044j7X3K2FITb4Xn8PhfF/+54aWgDHrmLKzziebbV7YWlkhV/7iqNTwd/y57jz2dwnHnI49sTrkUx/BS8CB8W0w6fDT72NoJRzA+DaTcPhp5qmrgx8iIl8JFJWq8TAoGgWK54PkEx3EjwMzWjKxW9QvXyDyTRhCI1MZFKZNMKhvCUiM66Brh/yGiiQW+kOIRClTiOao36WN7pdIZIEmzv1RLMADS4+/1YXp0eLZzo2IbjsQDgZ7IbNKKXh2RqgvPBcsx+v+89D9U04BtRHwnOeOR05/YFTlDMwemROcR9U2HIggtx+KrX93g2brAPRcHgCl4YxwTngm9n+GY/ZTbo+hW/9GN81WDOi5HAEfIhue/8M0ahpE4rThYgv0q2ltmLoSwaaINRzEhGRW3U3z50Zb25RnJDy9GYo7JYqgU7ZU+RD+2P1+iIacCXE+13DXJAdypFR/cR4Uzq+CzwU/Q4AGoVt3QdWui+77h2JxRpOgFihVrTxsMmxCBKVaClMzZrdGP8OL2A9tVGyRGzZ4h7cqdqB8jvCkoihVEAhZvwdGv/eE3Y8sOA6H80vwg6sZY5QfNgQNks9jzaYAfZDmLYIv7YL7kuXYdvlZKqOKdZRyY1jmSL22Q4O3wZewy30Jlm+7jGepbSTFE1zyXIWlrh7YecoP4e8/3K9BbMgleK5agfVHAxCTYlsIn2IwtkSOjL7fob6PbZOGYdi0vQgN3o/xQ4Zj1pEnuO85GnOPxGfRQfwcGFdrgXqykxjsUBQ1OrBnc9+BkzefMtP2y5A6DIVzowTsXboRwSl2c/I/+PuYLfp3tsnYMEmFUZmyKHJ3NTYbT4fHgCJ4dXU3tmzZgk3r12L1yhXYcjndyGeyDy5eT0SRCo6w+qyaLkaeju7wnFQUNyZ1wbhT6T+mnRZxno5w95yEojcmocu4U4jOKnJmmGSDg/WHJ1e8jEOYtQ3a5BPDPK8VyqasY0qMwvw7Jhhbw/wHX4v1MXJhdO/xVVxO+cC3+iFu33uLJGWS7lAbvgeboppggLCeitUCsfCNjS8kWXEba9pWgEO5sihgmR32nVbBT2jT1r3htrwgLs5fgZULTsB20Sr0z8b0SWAlDK7BR7M4HM735wc3tBjZSsDejvA4KIh1Nl4Y19oZe4IVwJvTmFS3OkZ4CdpUifu7ZmLttXd4dmAsmtVvgsmnXsNrXGs47wmGAm9welJdVB/hBZ09leyLue3G4Gq+Zuje2gHvdrhghX8y6wCCsKVfc4w4Jkb1jg0h29EBVQYdRFTSfeyauRbX3j3DgbHNUL/JZJx6b5gxxDZwbNoKlXMAxZr3QfvW5WApLo2WfdqiXsnshkg/L2K7Xth58yzWjG2NYuoA7Jk/BK2qFEfJlm7wTzWS80nEv6Hb2B6wvbYSrhf1Zlr0obV4VG8onEx0h5mScHs1+jgHoW73gvDbsg7eb98h5s1bBGwahymeAXgR/hQxqnSrq1WxiEkQ9np8yoRLjTmquXjCrXksPHr3xbqHWY+Pmldzgadbc8R69EbfdYYvy38tqndYeT4BHTsXQ+00j6LGxdOhiK9cGDXTPeLPgGmLMRhTzg9TWnTCxIULMcV5Ec6+BnLb2TErKwrH1j1C9YFOMEvRRqlGDj8PMfLV6oZJ630R/Pw1np0dBrPDozDULZCdk6JkX3esm/cHRsz2wPJexfFswx7IdKNZsbh/YhvWrd+Ja+H/quQ4HA4nU358Q0uHCObZszGdmQ+dZrriz369MXzuDsxvEY2zp+6ybkiOUl2mo3dFY+TvuAynzp3CvCbZka/TTLj+2Q+9h8/FjvktEH32FO4yfaoJPYXDAUCu32yRu4gT+s+Yga5FxQhf74yRgQ0wc7gTCuYqiS4j20C8ZSm2RZZAl+m9UdE4PzouO4Vzp+ahSeqZKGZola5TH7Zic1Ro3gJN6+eCOHtFNG/aBDWKsnz/Asjs6qC/yzJsPnQJAc/D4efRHNrTK7DpJjNQPxsxTGs5Y0TNSOz4aweeJQdiwx4puvcskvUojfoulg11hckIN8xdsQqDsAb9R52DVYsBGNW2HArVH47p8xfDuX66nWqy/Chgy4z0u3cRZwj6LCSF0Wf9VozM5YXRXafiUmxWG3MlKNxnPbaOzAWv0V0x9VIsvmobrzYZp048xIPypTAxf9rhT8XTEEwIy4EJ5eQ/S4NNi7wypl/ww6EJtWCbozS6TOiIIppCaNikFOLOz4PHQxFCPVdhlcdB3I5R49nFtXD39EbUZ48QylCl3xi0LCDITQLb+tMwtrkR7vvd1Z9OTfw5rAmsgqHVVTj7RwOMC6mOXi0ISxt2xNaIrxmS/DlIOD4A+aT6KXCR2BjV5t0znOF8OQk4PiAfpIIshWl742qYd+9TS1s435MfvX7/+Ho7/hGCI0xR2aky06fFUUB5ADOdh2L4qFk4+VyM2Jg3yLiKy1C8gBIHZjpj6PBRmHXyOcSxMXjDIksKNkGn4lcwsKgtClVthYEb70EjTYbvFR/EvjwH10lT4DJjNhafSkLZRmVho8m661R6jUfVkqXRd/sd7BlcDiVKD8GegO3oU6E9Vgb93A0w7u4/uP/iHgLCUj9HNjj07oE6liYwS1nU/blIiqLP6I4wO7sMi1zd4FNuKJpZGs5lRuw1XL6thakZ60iz1cW8nfNR5FhftJ26B/vv5Ef/7sUyNtTk1dCpbWHEn/TAuvtfOGJhVR/zdy5GrWdL0H3gdjzLshitUH/+Tiyu9QxLug/E9qwjZ4AGd7yDcMDGHisrmqZ9Fk0cluyPQNF6BVDmZ5szTI2ZPZr0H43RA5pBts8V5xwnYFQNCcJjrFAqdwxCQ0IQEvoMMUot4iMeISg0CorPtVi12nRTvMawsrJCoWLFDMcpaBC8fg/kPXogr+oc1m6UoGHHQpDlbonGtoewJc0w9a+FWWM3BL6OQUwM+4t9jQt/ljac4Xw5ZmjsFojXgizZX+zrC/iz9M/cOH9+fvT6/YMbWho89tyKizm7Y3gHG0Qf7IeKXc6izER3uC+bh76VLIR1sBkTfRD9KnbB2TIT4e6+DPP6VoJFSmTjShh37inCfT0xqVlOPFw/AE1HnYTaSMaMsBaYvGAuZs2YhinTV2LPsZXoUTjrRiRvtBg+t93RzqEXtt5/AP9lreDQbwfu392PEfY/RwPUajMyDuJxdu023A/ZjZX7n6QxaOOuX0JYpcHo4Zh69IV1eEzERNqPikWrVQv9oQ7L5qMxuEwwVv8ViTYDHAz+sgjsMnY9fbwuyqwA8ud4gn1rDiGCZULuMALbt/yOd4u7YnpwXuSBsNI5I0xRZ+pyDC5wAy7te2Ll9fRrrtSIDA3T/SKWOXVKBg3ISg3D5vV9YXpoOPqvD/3w/CyjWnW6zl1WCsM2r0df00MY3n89Qj/b1tLi4c37WBhvi9GsrjyLjMPd8Fj4vlRAwWQSdOUeFiryYFTpn3DO8CM0eHbsTwzZVxruGwahkESCEh1dsHjJEiwR/hYNRx1bI5ToshBuU1rDThSOM26LsT/N9C2rJ7o6llLDtIjydMH86wrDMSPRF5eiWmDmH8KO11TEn8GaB1UwpLox03xWsMyehHfvWDraSLyKyYNChX8FGWeC1BTZLC1hKfxlM4cxtwv+FVLTbHpZsr9s5sZZj8hzvj8/eP3+IQwtoZNL3zEDsbjnORKdF7zDsPXz0SRbMu6fPY+IwjXgZCuGNtobp31f6zrmFISlHckKpa4DTL5/FucjCqOGky3E2mh4n/bFa2YFCLE1gcsw31OFPBVbYtCMjTjkUg8ydlH5mpVgcn0b1t6K16WnIzkZ+skxEfsvGQr2xp0hsY8QalwUxaVaRD96AtPCxdI53EzfQfxAxPlg1ZbrSE66AY+hgzF0cF9079AKjevWxqjrpviNGRY3FzZH0/5/YqH7aiydNhzOewtg7sahKGGo0No3N7FjwSIceJiMF17umPf3Bf0okPYt/tm5EH8dOIuDrvOx/cYbaKUOGDS6LSp0GY4Owq66t/9g+5y/cSVWhQDPWViyPyDtQnvjRpixcihsjvVEpZqdMWjYIIzeLkaf5QvQOt4dLYrlRoEKTTFkkzCNnBaxbUu4e/tgTdOXWNi4JMrUa4veI8Zh3PC+6NqxKyYfi0Ss3y4sXLwPZw6zerHVJ9WUlRi2rZfBc7ojIh8+g0You1g/7Fq4GPvOHMay+Vvhk2p+S2zbGss8p8Mx8iF7dn1d+4g05U94ExiI9vvCWXq3UG7+JZRZfBWVlnmj7v4XCH/zHGNPvoVj9fyo8FNrclYnbuzAwnGDMeNiWbidXIU2v6VWPcxY8t6BpTMW4VCoEj5/j8O87dcRHXcNayZOwOKjeiM/OfAI3Gb9iQ2+CgQfnI8ZS/fhdrwYNs1K4/6Qlhg2exlW/DUTk2eeR/n5S1Pt2BQQRrP2wVgYzRKCZU6YurIBgpYtgcfiJXjUYh1m1fqFDS0Oh/O/Q+dN63+JJoKOO1cgU5hSsfpdqFff3vR7127UvX0zatbDhXbfizNEJHpzbAgVEkkpb5XW1H/WDnLtaEGw70FrvV+ThlR0e151ymaalxzqj6S9d4/QkEIikuatQq37z6Idrh3JAvbUY603RVwaTeUcOtDUldto26rpNKjHWNoTpiZSPKDt/R3I3LIkNevjTOOcB9GASTtJ5xdTdZvmVc9GpnkdqP7IvfQ8nUdF5eURVLbTLkogJV0YWpo67frgCFF5/zAtnzmIauQEmTh0oilL9pLfh8f636NRUlKSktQaFSkVCRQfF0fv3sVRgi7MEOXdE/K77EWnL/jSo1cJGTiUVFJCQhIp2QUalYKSEhSkdyeqIWUSkwoLVysTKElpuFL9hqLfpiTO7s/iqzRCnCR23w+uKFOjehNCPme96HJAOMW991WaRC8DLtHFe0Id+ASqdxR+9xp5nThL1/yfUIzhNhrhnko1adR6OXycDrvH/Vv04DU7o8urIBc1ey72vBncNOnlfbr1IOP8qHwnUQlJfVr9Wn+sUakpjt1boWJy02hJzeSkUKpYmHDMajULZ//LGPVdcikjplrLwj/97P9TlBQe4EdPdF5WM0bD6oa+vhnqAJOx7pnY8ftnUyVRvFBPhDomlBWrbyk1RR0XRrcunKPrQdHsbhmhpBC/OxT9YwuKw+H8gvwAn+DRQJmoYm+YgiNHNZKVaojkppBn8gavjArFE0UOFLWzYK+4SpBEBA1JIZfq314VkU8QZWIHu2wsAWUUQp8okKOoHSzYW7WSJBBpCFK5CAnhgbgT+AJamxJwLGMH8/cvv1okvLiLWw8Skad8JRS1Sj0upUDkkyiY2NlBSP6zUSuQkCy4nzCCGMIzaiE1Nc74EzOcX5rkS3+gaJ1z6HjhPBbUyYV/M4aiCN+NAZW6IHjsY1wbV/AnWHDJ4XA4/z34tw45nP9HNA/3YM7qa4gViWDi2Adze6ZbR/SZJHh7YPruh7pp8t+aTsCYJrm5ocXhcDg/INzQ4nA4HA6Hw/lO8JdgDofD4XA4nO8EN7Q4HA6Hw+FwvhPc0OJwOBwOh8P5TvA1Wv9xtHEPcXrLZhy69QoqdSyi3hJyFK2IWi26oG+F19jqfhQPEjTI4TQEzs3t0jjmi/fzhNvBe0hUiyCzq4qmZv44+iABmhxOGOLcHHZpI8PT7SDuJaohktmhwYBBqJvGl1LmZJnHGvHY7boPt+NUEAkfI9ZqoFbrnaOKZJao0ssZxf2XY9etd9BKpJAIUdhJDYyRq0BxlKhUF40q5km1+0+DqBtb4e55CxFRzxGlyYNKzXqif49qyJ1hdjV4uncqtpj+ianN9S7ulWFnsXnzadyLeovYqHcQ5yqC8k36YECLokj95aZvgxbPtrtgQ25nTGtg8wO/OSnx9OpBHL0WBrKriVbtayL/R1suExHqtQ2X5R3Rs3a6zynFe2P9wmMIE8sgk8sgFWmgEnzcqa1Rc8gfaKpzjpWIsIu7cU7dBL0b5PlwfWIwvPaeR2iSOcq27YzqtoaKmXARSz3UGDS2Acz1IT8g/1JuBrQxd3B072kEvJajSN2O6Fg9T6pdz7+i3D5G+8YfR/Z64W60DIXrdECHGnk/3vWbGAqvbZch79gTta3TSjIx1AvbLsvRsWdtpDtlIB4hF47g+PVnkNk3Qrs2jsglxNME45DrdvgrZTCWSaFVKaBQF0bbib+jzNNDcN3uD6XMGDKpFiqFAurCbeHye3l9kr80n6q3+rp//FooErLbo267NqiY6+Pt/pmWi/YNfLZ54PjDRKhlDug2sSscMtrmHXsNf//FdAuMYJ4/DzTX9mDHORMM9z6EYZ/ZR30SwdDi/BdR0eMDY6h2KSf6Y4svRSoMoW+f0NUNfahiuw36gLjz9EcxMSF7DZp9I14floqE65OoQc/d9EZ3FEfn/yhGYmSnGrNv0EexE67TpAY9abc+8mfwmXlUPaEltaVk0ngp3Q55SuFPH9Gd6+do08CONO2G4GkpXpcvaf5+tCf0Jb1584rCgm6S17YF1L9aISrdbi6deSE4WNLQ8109qWo7N7r9VpcwvbnzN3WuNphOGu6dFg29PuFMjXpupTCdf6Z3dGNlD6rXdDTtuBOj9yOmSaIXV1dS9xI5qWibJeT9Tgj8xigD6K82TWm2TxaOqv6nvKVzUxpR6+ln6Gl8DN3b3IuqNlpCt9M5vErynkoV5FKqt+LFx37BXrlRHRNbKlvdiZycDH8V8pK84Ai6EBdDNzeOp17t2lCV36RUdprfe/9apH5AS+s40ohLcaQOXkRO9kPorK5iqinYbRBNvvTB392PxzeQG0MdspF+bz6S9gW9pbjnF2hmvZLUcetT0mh+Vbl9jOb1PurnUJoa9hlFY/o6UW6JFTV2DzL4+kshibynViC5tB6t0OmDVCR509QKcpLWW0HpT+nQvKazU9pSLzcfevr8Fq1uV5CKDzpMr4S4ipM0yKEU1W3ciBrUq0d1ajtRjboT6AQToeLkIHIoVZcaN2pA9erVodpONajuhBP6NH9xsq63Krq1qD4VZ7Jp16Ud1ShgSkZ5WtNanVPLVHyqXJhOPjO0CElENtRxx6sM7qOmoL9qkSmMqPKsuySoefW9meRoVItcn2aY4FfBDa3/KHGX/qTyFo40+XoGnbPyMi1zvaj/rb5Hc7t2pJ61LMmoSD/aH5G28qlDl1KvMed1FVSotPfmdqWOPWuRpVER6rc/Im3FVofS0l5j6PxHRouaFO8dnH7gs/NICbSltYzMO+5kvz7w5uxuOq5rfSxfsyqy/DvTpfTeLJP8aFYVE7JsuJKCEy+Rc/EiNOxc6gwm0Mk1GygwfeYEFN40vmx1mntff/LN4f5UMO/vtFdwbJoOzfNN1DaHhAoP82Lm6LdHcWE4laq5MON8/o9R+U2j8nb96HhK36wJpcU1bKj9doPXVgFVALlPHEld7eXUdF2MITAVr1bTKJebHwwBUpLP5PrUbftLVsfe0j1vP4pUvaX1zYzTGAya0DlULltXOizcW+VLYwrmoxHX2Nl4L5owZC19Q136zfkmcmNyujKqOJWb8kEmcdva0W9d9jCz4teUW0YkHZlG4/ZHGvRRAl0cUYiM6q+iSN2xHlWAO00c2ZXs5U0prShVFOA+kUZ2tSd503WUkZRV/i5UofR40r3XMdT3Z1E5SRVaGMIapOI0jeizml5mIDPF6RHUZ7VQh/9jfLLevqb1f4ylswZlqYncT73tZFRyvHcqh8SfLhchjv+stlSpXA4yrjSb7qRU8BTiz9KoplVYPyOnRqv1hpj60Xyq8o0NrW80Lsb5qdBGwHOeOx45/YFRlTOYzJI5wXlUbcMBIJLbY+jWv9FNsxUDei5HgNJwgqH7WrruPwMiOeyHbsXf3TTYOqAnlqeNLPxP95cG5Rn8UW8kzqeK+qV5/JABPdqYQLywb49mGc/3fcC4PIYNaYDk82uw6XY4XkS+QVhopM4/lR5TNBnU9/2nhlITtXMu/rbsgt7C9yy1YdiydDuSmnZHixwf31OctwuGdMiN0B3rcCIOSH7zABd278LlcMOdNG8RcnU/tnuFQPeZROH4Cjs+GwpF2HlsWLETvm9ZuOIJLnmuwlJXD+w85Ydww3eQ5TX7oFX0Miz2SvXNvx+EOJ9ruGuSAzlS5qrEeVA4vwo+F/wMARqEbt0FVbsuKMREKRZnIGzTaujcvtT76S7t0w1Y4N8MLl1sIYYFSlUrD5sMPACLLXLDBu/wVvgcpvI5wpOKolRBIGT9Hhj93hN2P7AG/CZy06FB4P7VOPpE+JhYPO4ExKNW8yqQ/aJyywgjp1GY0jplal2GbJY54FBD+P6tAU0otu5SoV2XQpCwWKlFqQndil2qduiiF3IG3zXU4vmp0wgqVh6lDbKUFK6MilZ34HOTKTVSQi01hRkUiH72ArGpvhNGSjWkpmasXUfj2YvYjz4h9mvyOfVWgqoDh6OOYW5abFMXtcsa6ZYLpPDpctEjElmgiXN/FAvwwNLjghJNQYtnOzciuu1AOBjpQ9JWawUeX9qOla6rsNP7meFTfF/HT9ZcON+EZB9cvJ6IIhUcYfWZNUCcpyPcPSeh6I1J6DLuFKI/WCIfwzqEju6emFT0BiZ1GYdTWUbOhK/IoyYuAoGBDxB4xwfntyzDttuZfWw6LdlK2MOOHiPoSQW0qCfDycEOKFqjA4bPcseOkzfxNM2HF1OIx/mjl2FTpTp0n9RT3MBVXxXy5i8AQ5tNhzEqVWCGQuxD3L97BRumDETXLpOxP0xQrUr4b5+BId06wXnbfaiE420zMLhrB4xYMAd9Og2By7QVOP/qBua2G4Or+Zqhe2sHvNvhghX+huYvdUCNSgqcOeLzrxTC90BuYwPTx1dx+YnhS9vqh7h97y2SlEm6Q234HmyKaoIB5YUFFCKmMzMocPPyqF4uxeCOwfHZe1FwwrAMDeA0WPeG2/KCuDh/BVYuOAHbRavQP9t5rAmshME1jA2Rfky+idyYUVHNeSH6SrainWNltOvUC5vsV2Bzr/xZK/+fWG4ZIbG0hqUkGXGRYQg4NBdusWOwb0ZlwxotLcL3bEJUkwHQi5IZWinC0YZjz6YoNBlQXhdXWAf6sdxUCAl+CmMLiw+dvYQZyJbMsIoSvpubDMXtNWhbwQHlyhaAZXZ7dFrlB907UrICt9e0RQWHcihbwBLZ7TthlZ/h7ekX5fPqrSVKlxGMXgOKAAQ8KYhW7Srpy+yzyuUDUoehcG6UgL1LNyLY0JyQ/A/+PmaL/p1t0r+nMwv4Da4tGYnZe/0R4rsJI5zKo83qh/qX4K8gy7bG+UVRxSImQdgD8VH1yhLzai7wdGuOWI/e6LvuYdZvX+bV4OLphuaxHujddx0efumr2lfkUf30Cvbu9MSObduYgfQA777k8UTmyG5RAL123sTZNWPRupgaAXvmY0irKihesiXc/FMPtzE0EXgY/A658ubTNyJVPBKUWiSzN67MdpeYmJtBwpS4xLI6hiwZiuomKRmUo1yvhRjdKJehQbLj3gsxrqkN3kblxfgLgQi6vgZtlF44HADk+s0WuYs4of+MGehaNGU4Qoq8+Wzw/NEjvQL/gTBtMQZjyvlhSotOmLhwIaY4L8LZ10BuOzumMKNwbN0jVB/oBLMUbfTRkGda4i7MwIL4fpjo9DlbC6Qo2dcd6+b9gRGzPbC8V3E827AHMt2oTCzun9iGdet34lr4jzeW8K3kJvmtEtq2a4m2zewRfvkINs0Yjfle4alGbTPi55VbpiTfwdY5rtj9TxQiz0xAy99X60bntVHHsO5RdQx0MnvfIepFqUXUsXV4VH0gnD4IOUONlJiUxK5JdUZkBlOhfQtB4nyo1W0S1vsG4/nrZzg7zAyHRw2FW6CGnaqFbpPWwzf4OV4/O4thZocxaqibPo1fka9o78LIkt/yRQjsvB6z6wht/vPL5T3i39BtbA/YXlsJ14v6N+foQ2vxqN5QOJnoDtOijYN1y+XY4LYIrtsvYP9wS5xc4IbLX/kWm5JLzn8JWX4UsCU8vnsXcYagz0OCwn3WY+vIXPAa3RVTL8VmalQISAr3wfqtI5HLazS6Tr2E2NSRlScxtnJJlChRAiXK9sf2G9vQpyz7zY5LVhmHU/TleZSX7oxpM2di9qIVWOM6GNWyf6oB64l/FIwI08pwqixnsrFDnf4uWLb5EC4FPEe4nweaa09jxaabhtgGKBbvmCEoNzXVNyLjfMiXi/DkfiAyHABjyiE6MhraHGVQLr/wnqafRk2NOF2AiHV2OctXhYOpGGYlHFC8eBN0Kn4FA4vaolDVVhi48R4076d9RDA1NYE2/h3ivmIA8bsir4zpF/xwaEIt2OYojS4TOqKIphAaNimFuPPz4PFQhFDPVVjlcRC3Y9R4dnEt3D29EZXRcyh8MHeMNxpM6qzf0fWlxJ/DmsAqGFpdhbN/NMC4kOro1YKwtGFHbI34wQT3TeSWgCvTumKpOXtJ2rEb1wMvY2EZf8zq6YKT6d4dsuRnkltmyCphmNsyzJ61Eof3DoR81wTMOfwK5+d54KEoFJ6rVsHj4G3EqJ/h4lp3eJ45gLkeDyEK9cSqVR44eDsG6mcXsdbdE97pKqeJsRwJ7+I+6ENKgjJZDitrc3bfKug3piUKCG1VYov608aiudF9+N1VsVP9MKZlAd2UuMS2PqaNbQ6j+ylTw78eX9zeBaPqxCRMDeyKVVOqwkwIijuPeZ9ZLh8Qw7SWM0bUjMSOv3bgWXIgNuyRonvPIhlPOUoKoIR9igVmiir1q8MqJgqvv7Kqc0Prv4i8Gjq1LYz4kx5Yd/9L30itUH/+Tiyu9QxLug/E9mdZD6Za1Z+PnYtr4dmS7hi4/dmHoVd5Uyy5GYgHDx7gwZ31+L1KD2y6w36z48Abf6FJ9n+TR/Y+XqI7etR4i5DQWENIJmgew3PrReTsPhwdcsTgXkBYmuHhbA690aOOJUzM0k2XiHLA2kKE+NhY/ciAvDraNsuLhHM7ceBlRq0xBhcv30PhHv3QQKctBLQ6NxQpCG4n0pPmLdm4Esade4pwX09MapYTD9cPQNNRxwwjWIR3sfGQWlp/9lTr/ytm9mjSfzRGD2gG2T5XnHOcgFE1JAiPsUKp3DEIDQlhZfUMMUot4iMeISg0CoqPrHg17iwaju3FJsC57HsL8wvQIHj9Hsh79EBe1Tms3ShBw46FIMvdEo1tD2HLqR9wyubfyk3pg+17RKjfviSEGiy2qoaRS4ajYlwkoj777fwnlFsakvHyxRt9OzUgKVgChc1MYCp/hRirUsgdE4oQJsvQZzFQauMR8SgIwQ+jYFkqN2JCmYxDQvEsRsleZCLwKCgUUWmELEWhQnmheBH+wVjQvEFUXFGULiX7uF0bW8HKqhCKFROnaf8CxlbsXKFihqNfDc0Xtncg0X8VJu6zx0KPHihssIg04TGw+qxySYekKPqM7gizs8uwyNUNPuWGopneI88nUScmghwqonzG60I+jWFRPOc/hublERpSQkbG9l1phffrdLteVPQq5InhZwDN+X0SXUu3W0/z8hANLCYj82IlqZbzBcNOEBUFzPmdJn0cmQ4NLEYy82JUspYzXUi/809xkgZWGURe6XYjfnYeKZ42tTL6aNehOngpTVgWyn6xfM2o8PGuw7d3acewSpSvymQ6J7icUN0gl0FLKTj1zr1358m5ZjNa+dF2PgWd6JeLfht4xrDjkt3vyVbq+JuU8rR0I980bhzU9OLYcKpRaypdTNkak3SQelhno1ab9Tuh1OEHqX9RCVn1OEj6TWYKOs7St+l99EP6911p3o4PCb/2aEy/9ThgeOY42t7WjEpMusWe9kdFTU+PjqU6NYbSwfAMdvSofOjPknJqsTFlq9Fz8lq+iPYF6Z9IHbiEasiL0jifzJ4whtY1NaYyUzORQdxJGjfkb3ou3Fp5kQblKUPTg1i5aoJpVtk8NPCjivmj8IVyYzXquddyWrQviFQqP5pWvjANOfOhZcSfHkIV2643uCQR+FXllkIcHZg8gY6kciuTdHkUVag+i3zT6RyVz59UUt6C3ovyPSry+bMkyVts/LBrWBNBF1aOpzFr/Eh1fRwVy9aKNhs2hKrvTadKDhPppjKStk2ZQ94pO0cZCVf+pJaDDlDEy200ZY63ob0LJNCVP1vSoAMvDce/OFnVW3akfLCB+neeRkcDH1NIUCDdveNHvjfuUngqWWZYLmlQ0e2Zvxvc/AiH/jSroowkOdvTlpRtoEkHmC6WU4NV+t2f6oDpVE5agWYbdpMzxU7r2lenoUej0/VBnw83tP7DaGL8aLNzXcqXzYZK1W1DvYaPpbHD+lCXDh2ov9sNZojcop1zepGjbWnqPGMLXY9MW80SfOdSLQsJFRwhuHd4S7d2zqFejrZUuvMM2nI9ZSu1gQRfmlvLgiQFR3zs3kF5gcY0GUcXM9DXn8wjU3YXPUZRvdwgiV0d6jFgKA0d1Jd+79yOGpfNR203xbEox8m5ginBtBjV79KL+vb+nbp2607tmzWjHi676V5KC1Veo6ks/8Ub9qMJC1bSqiVTaVjf4bT0Qsbbr+MP9yLb8tPpXiobTBl2gqY3L0K2pVvS0GlLae3apTRz/BAaOvMgBadWEJpI2t+/EBnJ81LFus2o87gNtLiDBYmKdqB5h/3ozt451LEYCEXakcvKEzrjT3llNJVz6EBTV26jbaum06AeY2lPmOHminM0JH9xGns9MyPkf4mSIny204Kx/anf+M3k/5EvMQ1FXttOS6Z0oBJyUM4ag2nuNm96/XY3dTQBVVvyiNSap/R3YxNC9SUk7JhPj/L+YVo+cxDVyAkycehEU5bsJb80mldNj5YNpKlXUgpBQ0/3jaKuQxfS6gVDqeekY5n44flf8pVy07yj3R2ZrKotoUdqDUV7TaL6tXvS4j0n6dj2+TS8nwsdMWxd/zXllh4NRbg3ojzle9D0VZto44pZNG7yOrqp85VngLXHa9uX0JQOJUiOnFRj8FzaZni500Reo+1LplCHEnJCzho0eO428hZcuLxypzrIS8MuMNmwl8mT46uSQwum+/ZspAkdOtMig9/B6B3dqVyDoTTL1Y0Wz5hEE2Z7UoDuVDTt6F6OGgydRa5ui2nGpAk02zPgY/+DvxyfrrdBkcdoaHE5iYSh+tR/RrXor1C9Asi0XFLQxJCv5xzqUT43lek2i7b5CIaShl5u60yVh5/Vv6DG+DJDuDkVlIgpV61hzMi7Q2+ujafqhQtSrrzlqGm3fjRg4DhaeSVdf/aFcM/wHEAdh4igu7j/LAlmvxVByVIFYCnMzGiToVAARsYSaJJVgOC9ON20lOJVIALf5kI5eyuo9ZEh0SRDBcEL8keRERj4FrnK2SMDDwhZk1keoUFyIsub4C0cWqhUyVCrNdCKJJDJ5ZBLJSyKEkIUmcwIInUylGoR5KbyjOfmtXEIu+OPR1EaWBUqiZKFc8E0s7yqb2N6tb5I9riJ+ZXSTmWp3z6B/+0QKGxKoXzJPB8WfqZBjdinIXglzYsiv5kDSiWI5VetBqSUDI3UGEZMksKOZiNdfjWICw/EncAX0NqUgGMZO5gb0k08MQCOf5XHydMjdFumfyySEXH3PlSFy6NAJuvXtcmJUGilrBiZHHVlJIaxqQxirRZa3Y4ird7jPytlmTQDYaoVSEhm5So3YnHVSFaymKbGurUvepIRejsIlmXLZOLV+0fkX8hNNy39Yfec5m0obvk9RnKu0nAsnfvDFwp+SbllhBYJEffh9yAOuRwro7jVhyfUo2V6RAGtVM7qlyBKJdRiY5gKOozpwUQFk4tOxwgyUkNsbIwI94aof3kQru7sijw62bD2+eQf+IaZoGS1Msgt1yXM0CD+6R38E5KMPOUcUdxat29OjyYeT+/8g5DkPCjnWBypT/3KfLLesnqXyJS22MgIUiMpxCS0f9avMD1uZGqq74cyLBfDOR2sTN/3SQqmSY31fZImBm/iLWBtoS9bhYIgNTb0DSxPpkhCnNgMRnFP8OSdJQoXsjbsTv16uKHF4fwLEq+7oMPyQvDY3hcF3jfw/2eSA7Co4zTI5u/FqBRHPhwO5/uReA7OLXeg3s61aPtVuzI4/yW4ocXh/Cu0CD80E9tNx2FCo2yGsP9PtIjYNQubbIZjYv0f+VuHHM4vhDYR8cmmMP/5XIpx/gdwQ4vD4XA4HA7nO8FfgDkcDofD4XC+E9zQ4nA4HA6Hw/lOcEOLw+FwOBwO5zvxVWu0Ll++jBMnThiOOBwOh8PhcDgZ8VWG1vXr13Hu3DnDEYfD4XA4HA4nI/iuQw6Hw+FwOJzvBF+jxeFwOBwOh/NdAP4PiI04aesXKXkAAAAASUVORK5CYII=)"
      ]
    },
    {
      "cell_type": "code",
      "metadata": {
        "id": "fVoSCMeyT8Tl"
      },
      "source": [
        "np.random.seed(42)\n",
        "X_train = load_X('/content/drive/Shareddrives/MMH/TIFS20/Dataset #2/train/Inertial Signals')\n",
        "X_test = load_X('/content/drive/Shareddrives/MMH/TIFS20/Dataset #2/test/Inertial Signals')\n",
        "train_label = load_y('/content/drive/Shareddrives/MMH/TIFS20/Dataset #2/train/y_train.txt')\n",
        "test_label = load_y('/content/drive/Shareddrives/MMH/TIFS20/Dataset #2/test/y_test.txt')\n",
        "shape = ((X_train.shape[1], X_train.shape[2]), train_label.shape[1])\n",
        "batch_size = 32"
      ],
      "execution_count": null,
      "outputs": []
    },
    {
      "cell_type": "code",
      "metadata": {
        "colab": {
          "base_uri": "https://localhost:8080/"
        },
        "id": "znl9oauldmDV",
        "outputId": "e256860d-52f3-4ebc-e9cf-107d2bc58022"
      },
      "source": [
        "num_classes=20\n",
        "model = MLSTM_FCN((X_train.shape[1], X_train.shape[2]), train_label.shape[1])\n",
        "model.fit(X_train,train_label,batch_size=32,epochs=200,verbose=1,callbacks=[tensorflow.keras.callbacks.EarlyStopping('val_loss', patience=30)],validation_split=0.1)\n",
        "score=model.evaluate(X_test,test_label,verbose=1)\n",
        "print(f'Test loss:{score[0]}')\n",
        "print(f'Test accuracy:{score[1]}')\n",
        "print(f'Test Recall: {score[3]}')\n",
        "print(f'Test AUC: {score[2]}')"
      ],
      "execution_count": null,
      "outputs": [
        {
          "output_type": "stream",
          "name": "stdout",
          "text": [
            "Model: \"model_1\"\n",
            "__________________________________________________________________________________________________\n",
            " Layer (type)                   Output Shape         Param #     Connected to                     \n",
            "==================================================================================================\n",
            " input_2 (InputLayer)           [(None, 6, 128)]     0           []                               \n",
            "                                                                                                  \n",
            " permute_1 (Permute)            (None, 128, 6)       0           ['input_2[0][0]']                \n",
            "                                                                                                  \n",
            " global_average_pooling1d_3 (Gl  (None, 6)           0           ['permute_1[0][0]']              \n",
            " obalAveragePooling1D)                                                                            \n",
            "                                                                                                  \n",
            " reshape_2 (Reshape)            (None, 1, 6)         0           ['global_average_pooling1d_3[0][0\n",
            "                                                                 ]']                              \n",
            "                                                                                                  \n",
            " dense_5 (Dense)                (None, 1, 0)         0           ['reshape_2[0][0]']              \n",
            "                                                                                                  \n",
            " dense_6 (Dense)                (None, 1, 6)         0           ['dense_5[0][0]']                \n",
            "                                                                                                  \n",
            " multiply_2 (Multiply)          (None, 128, 6)       0           ['permute_1[0][0]',              \n",
            "                                                                  'dense_6[0][0]']                \n",
            "                                                                                                  \n",
            " conv1d_3 (Conv1D)              (None, 128, 256)     12544       ['multiply_2[0][0]']             \n",
            "                                                                                                  \n",
            " batch_normalization_3 (BatchNo  (None, 128, 256)    1024        ['conv1d_3[0][0]']               \n",
            " rmalization)                                                                                     \n",
            "                                                                                                  \n",
            " activation_3 (Activation)      (None, 128, 256)     0           ['batch_normalization_3[0][0]']  \n",
            "                                                                                                  \n",
            " global_average_pooling1d_4 (Gl  (None, 256)         0           ['activation_3[0][0]']           \n",
            " obalAveragePooling1D)                                                                            \n",
            "                                                                                                  \n",
            " reshape_3 (Reshape)            (None, 1, 256)       0           ['global_average_pooling1d_4[0][0\n",
            "                                                                 ]']                              \n",
            "                                                                                                  \n",
            " dense_7 (Dense)                (None, 1, 16)        4096        ['reshape_3[0][0]']              \n",
            "                                                                                                  \n",
            " dense_8 (Dense)                (None, 1, 256)       4096        ['dense_7[0][0]']                \n",
            "                                                                                                  \n",
            " multiply_3 (Multiply)          (None, 128, 256)     0           ['activation_3[0][0]',           \n",
            "                                                                  'dense_8[0][0]']                \n",
            "                                                                                                  \n",
            " conv1d_4 (Conv1D)              (None, 128, 128)     163968      ['multiply_3[0][0]']             \n",
            "                                                                                                  \n",
            " batch_normalization_4 (BatchNo  (None, 128, 128)    512         ['conv1d_4[0][0]']               \n",
            " rmalization)                                                                                     \n",
            "                                                                                                  \n",
            " activation_4 (Activation)      (None, 128, 128)     0           ['batch_normalization_4[0][0]']  \n",
            "                                                                                                  \n",
            " conv1d_5 (Conv1D)              (None, 128, 64)      24640       ['activation_4[0][0]']           \n",
            "                                                                                                  \n",
            " masking_1 (Masking)            (None, 6, 128)       0           ['input_2[0][0]']                \n",
            "                                                                                                  \n",
            " batch_normalization_5 (BatchNo  (None, 128, 64)     256         ['conv1d_5[0][0]']               \n",
            " rmalization)                                                                                     \n",
            "                                                                                                  \n",
            " lstm_1 (LSTM)                  (None, 8)            4384        ['masking_1[0][0]']              \n",
            "                                                                                                  \n",
            " activation_5 (Activation)      (None, 128, 64)      0           ['batch_normalization_5[0][0]']  \n",
            "                                                                                                  \n",
            " dropout_1 (Dropout)            (None, 8)            0           ['lstm_1[0][0]']                 \n",
            "                                                                                                  \n",
            " global_average_pooling1d_5 (Gl  (None, 64)          0           ['activation_5[0][0]']           \n",
            " obalAveragePooling1D)                                                                            \n",
            "                                                                                                  \n",
            " concatenate_1 (Concatenate)    (None, 72)           0           ['dropout_1[0][0]',              \n",
            "                                                                  'global_average_pooling1d_5[0][0\n",
            "                                                                 ]']                              \n",
            "                                                                                                  \n",
            " dense_9 (Dense)                (None, 20)           1460        ['concatenate_1[0][0]']          \n",
            "                                                                                                  \n",
            "==================================================================================================\n",
            "Total params: 216,980\n",
            "Trainable params: 216,084\n",
            "Non-trainable params: 896\n",
            "__________________________________________________________________________________________________\n",
            "Epoch 1/200\n",
            "1248/1248 [==============================] - 53s 30ms/step - loss: 0.3093 - accuracy: 0.9321 - auc: 0.9969 - recall: 0.8725 - val_loss: 0.0864 - val_accuracy: 0.9799 - val_auc: 0.9991 - val_recall: 0.9774\n",
            "Epoch 2/200\n",
            "1248/1248 [==============================] - 33s 27ms/step - loss: 0.0557 - accuracy: 0.9867 - auc: 0.9995 - recall: 0.9833 - val_loss: 0.0483 - val_accuracy: 0.9878 - val_auc: 0.9994 - val_recall: 0.9860\n",
            "Epoch 3/200\n",
            "1248/1248 [==============================] - 35s 28ms/step - loss: 0.0366 - accuracy: 0.9908 - auc: 0.9997 - recall: 0.9888 - val_loss: 0.0246 - val_accuracy: 0.9937 - val_auc: 0.9999 - val_recall: 0.9928\n",
            "Epoch 4/200\n",
            "1248/1248 [==============================] - 35s 28ms/step - loss: 0.0306 - accuracy: 0.9920 - auc: 0.9996 - recall: 0.9906 - val_loss: 0.0482 - val_accuracy: 0.9858 - val_auc: 0.9999 - val_recall: 0.9824\n",
            "Epoch 5/200\n",
            "1248/1248 [==============================] - 35s 28ms/step - loss: 0.0231 - accuracy: 0.9938 - auc: 0.9997 - recall: 0.9923 - val_loss: 0.0469 - val_accuracy: 0.9867 - val_auc: 0.9995 - val_recall: 0.9853\n",
            "Epoch 6/200\n",
            "1248/1248 [==============================] - 36s 29ms/step - loss: 0.0205 - accuracy: 0.9946 - auc: 0.9999 - recall: 0.9932 - val_loss: 0.0263 - val_accuracy: 0.9930 - val_auc: 0.9993 - val_recall: 0.9917\n",
            "Epoch 7/200\n",
            "1248/1248 [==============================] - 35s 28ms/step - loss: 0.0180 - accuracy: 0.9949 - auc: 0.9999 - recall: 0.9939 - val_loss: 0.0997 - val_accuracy: 0.9707 - val_auc: 0.9984 - val_recall: 0.9671\n",
            "Epoch 8/200\n",
            "1248/1248 [==============================] - 35s 28ms/step - loss: 0.0162 - accuracy: 0.9951 - auc: 0.9999 - recall: 0.9942 - val_loss: 0.0256 - val_accuracy: 0.9923 - val_auc: 0.9996 - val_recall: 0.9917\n",
            "Epoch 9/200\n",
            "1248/1248 [==============================] - 35s 28ms/step - loss: 0.0126 - accuracy: 0.9963 - auc: 0.9999 - recall: 0.9953 - val_loss: 0.0197 - val_accuracy: 0.9946 - val_auc: 0.9995 - val_recall: 0.9939\n",
            "Epoch 10/200\n",
            "1248/1248 [==============================] - 35s 28ms/step - loss: 0.0124 - accuracy: 0.9966 - auc: 0.9999 - recall: 0.9956 - val_loss: 0.0128 - val_accuracy: 0.9959 - val_auc: 0.9998 - val_recall: 0.9955\n",
            "Epoch 11/200\n",
            "1248/1248 [==============================] - 36s 29ms/step - loss: 0.0102 - accuracy: 0.9971 - auc: 0.9999 - recall: 0.9964 - val_loss: 0.0129 - val_accuracy: 0.9966 - val_auc: 0.9998 - val_recall: 0.9957\n",
            "Epoch 12/200\n",
            "1248/1248 [==============================] - 35s 28ms/step - loss: 0.0094 - accuracy: 0.9974 - auc: 1.0000 - recall: 0.9967 - val_loss: 0.0165 - val_accuracy: 0.9953 - val_auc: 0.9996 - val_recall: 0.9950\n",
            "Epoch 13/200\n",
            "1248/1248 [==============================] - 35s 28ms/step - loss: 0.0086 - accuracy: 0.9974 - auc: 1.0000 - recall: 0.9969 - val_loss: 0.0142 - val_accuracy: 0.9953 - val_auc: 0.9998 - val_recall: 0.9944\n",
            "Epoch 14/200\n",
            "1248/1248 [==============================] - 35s 28ms/step - loss: 0.0087 - accuracy: 0.9972 - auc: 1.0000 - recall: 0.9968 - val_loss: 0.0096 - val_accuracy: 0.9971 - val_auc: 0.9999 - val_recall: 0.9959\n",
            "Epoch 15/200\n",
            "1248/1248 [==============================] - 35s 28ms/step - loss: 0.0059 - accuracy: 0.9982 - auc: 1.0000 - recall: 0.9977 - val_loss: 0.0152 - val_accuracy: 0.9948 - val_auc: 0.9999 - val_recall: 0.9941\n",
            "Epoch 16/200\n",
            "1248/1248 [==============================] - 35s 28ms/step - loss: 0.0082 - accuracy: 0.9979 - auc: 0.9999 - recall: 0.9975 - val_loss: 0.0218 - val_accuracy: 0.9932 - val_auc: 0.9998 - val_recall: 0.9919\n",
            "Epoch 17/200\n",
            "1248/1248 [==============================] - 35s 28ms/step - loss: 0.0051 - accuracy: 0.9986 - auc: 1.0000 - recall: 0.9982 - val_loss: 0.0123 - val_accuracy: 0.9968 - val_auc: 0.9997 - val_recall: 0.9964\n",
            "Epoch 18/200\n",
            "1248/1248 [==============================] - 35s 28ms/step - loss: 0.0061 - accuracy: 0.9982 - auc: 1.0000 - recall: 0.9978 - val_loss: 0.0161 - val_accuracy: 0.9957 - val_auc: 0.9997 - val_recall: 0.9948\n",
            "Epoch 19/200\n",
            "1248/1248 [==============================] - 35s 28ms/step - loss: 0.0072 - accuracy: 0.9979 - auc: 0.9999 - recall: 0.9974 - val_loss: 0.0274 - val_accuracy: 0.9910 - val_auc: 0.9996 - val_recall: 0.9899\n",
            "Epoch 20/200\n",
            "1248/1248 [==============================] - 35s 28ms/step - loss: 0.0042 - accuracy: 0.9987 - auc: 1.0000 - recall: 0.9984 - val_loss: 0.0225 - val_accuracy: 0.9941 - val_auc: 0.9994 - val_recall: 0.9941\n",
            "Epoch 21/200\n",
            "1248/1248 [==============================] - 35s 28ms/step - loss: 0.0055 - accuracy: 0.9987 - auc: 0.9999 - recall: 0.9984 - val_loss: 0.0108 - val_accuracy: 0.9971 - val_auc: 0.9998 - val_recall: 0.9968\n",
            "Epoch 22/200\n",
            "1248/1248 [==============================] - 35s 28ms/step - loss: 0.0033 - accuracy: 0.9992 - auc: 1.0000 - recall: 0.9991 - val_loss: 0.0115 - val_accuracy: 0.9971 - val_auc: 0.9996 - val_recall: 0.9971\n",
            "Epoch 23/200\n",
            "1248/1248 [==============================] - 35s 28ms/step - loss: 0.0046 - accuracy: 0.9987 - auc: 1.0000 - recall: 0.9986 - val_loss: 0.0138 - val_accuracy: 0.9959 - val_auc: 0.9999 - val_recall: 0.9957\n",
            "Epoch 24/200\n",
            "1248/1248 [==============================] - 35s 28ms/step - loss: 0.0052 - accuracy: 0.9986 - auc: 1.0000 - recall: 0.9984 - val_loss: 0.0173 - val_accuracy: 0.9957 - val_auc: 0.9994 - val_recall: 0.9955\n",
            "Epoch 25/200\n",
            "1248/1248 [==============================] - 35s 28ms/step - loss: 0.0039 - accuracy: 0.9989 - auc: 1.0000 - recall: 0.9987 - val_loss: 0.0147 - val_accuracy: 0.9968 - val_auc: 0.9996 - val_recall: 0.9959\n",
            "Epoch 26/200\n",
            "1248/1248 [==============================] - 36s 29ms/step - loss: 0.0038 - accuracy: 0.9991 - auc: 1.0000 - recall: 0.9989 - val_loss: 0.0123 - val_accuracy: 0.9971 - val_auc: 0.9995 - val_recall: 0.9966\n",
            "Epoch 27/200\n",
            "1248/1248 [==============================] - 35s 28ms/step - loss: 0.0035 - accuracy: 0.9990 - auc: 1.0000 - recall: 0.9989 - val_loss: 0.0090 - val_accuracy: 0.9975 - val_auc: 0.9999 - val_recall: 0.9973\n",
            "Epoch 28/200\n",
            "1248/1248 [==============================] - 35s 28ms/step - loss: 0.0039 - accuracy: 0.9990 - auc: 1.0000 - recall: 0.9988 - val_loss: 0.0143 - val_accuracy: 0.9964 - val_auc: 0.9997 - val_recall: 0.9962\n",
            "Epoch 29/200\n",
            "1248/1248 [==============================] - 35s 28ms/step - loss: 0.0024 - accuracy: 0.9992 - auc: 1.0000 - recall: 0.9991 - val_loss: 0.0302 - val_accuracy: 0.9919 - val_auc: 0.9994 - val_recall: 0.9912\n",
            "Epoch 30/200\n",
            "1248/1248 [==============================] - 35s 28ms/step - loss: 0.0034 - accuracy: 0.9991 - auc: 1.0000 - recall: 0.9989 - val_loss: 0.0106 - val_accuracy: 0.9971 - val_auc: 0.9996 - val_recall: 0.9966\n",
            "Epoch 31/200\n",
            "1248/1248 [==============================] - 35s 28ms/step - loss: 0.0030 - accuracy: 0.9991 - auc: 1.0000 - recall: 0.9990 - val_loss: 0.0090 - val_accuracy: 0.9973 - val_auc: 0.9998 - val_recall: 0.9973\n",
            "Epoch 32/200\n",
            "1248/1248 [==============================] - 35s 28ms/step - loss: 0.0034 - accuracy: 0.9989 - auc: 1.0000 - recall: 0.9987 - val_loss: 0.0119 - val_accuracy: 0.9977 - val_auc: 0.9995 - val_recall: 0.9973\n",
            "Epoch 33/200\n",
            "1248/1248 [==============================] - 35s 28ms/step - loss: 0.0029 - accuracy: 0.9993 - auc: 1.0000 - recall: 0.9991 - val_loss: 0.0105 - val_accuracy: 0.9977 - val_auc: 0.9996 - val_recall: 0.9977\n",
            "Epoch 34/200\n",
            "1248/1248 [==============================] - 36s 29ms/step - loss: 0.0022 - accuracy: 0.9994 - auc: 1.0000 - recall: 0.9993 - val_loss: 0.0098 - val_accuracy: 0.9977 - val_auc: 0.9996 - val_recall: 0.9973\n",
            "Epoch 35/200\n",
            "1248/1248 [==============================] - 35s 28ms/step - loss: 0.0025 - accuracy: 0.9992 - auc: 1.0000 - recall: 0.9991 - val_loss: 0.0116 - val_accuracy: 0.9971 - val_auc: 0.9997 - val_recall: 0.9968\n",
            "Epoch 36/200\n",
            "1248/1248 [==============================] - 35s 28ms/step - loss: 0.0035 - accuracy: 0.9991 - auc: 1.0000 - recall: 0.9989 - val_loss: 0.0115 - val_accuracy: 0.9971 - val_auc: 0.9995 - val_recall: 0.9968\n",
            "Epoch 37/200\n",
            "1248/1248 [==============================] - 35s 28ms/step - loss: 0.0018 - accuracy: 0.9996 - auc: 1.0000 - recall: 0.9994 - val_loss: 0.0146 - val_accuracy: 0.9971 - val_auc: 0.9996 - val_recall: 0.9966\n",
            "Epoch 38/200\n",
            "1248/1248 [==============================] - 35s 28ms/step - loss: 0.0031 - accuracy: 0.9994 - auc: 1.0000 - recall: 0.9992 - val_loss: 0.0240 - val_accuracy: 0.9930 - val_auc: 0.9998 - val_recall: 0.9928\n",
            "Epoch 39/200\n",
            "1248/1248 [==============================] - 35s 28ms/step - loss: 0.0025 - accuracy: 0.9992 - auc: 1.0000 - recall: 0.9991 - val_loss: 0.0158 - val_accuracy: 0.9962 - val_auc: 0.9994 - val_recall: 0.9957\n",
            "Epoch 40/200\n",
            "1248/1248 [==============================] - 35s 28ms/step - loss: 0.0027 - accuracy: 0.9993 - auc: 1.0000 - recall: 0.9991 - val_loss: 0.0104 - val_accuracy: 0.9975 - val_auc: 0.9997 - val_recall: 0.9973\n",
            "Epoch 41/200\n",
            "1248/1248 [==============================] - 35s 28ms/step - loss: 0.0012 - accuracy: 0.9996 - auc: 1.0000 - recall: 0.9996 - val_loss: 0.0117 - val_accuracy: 0.9973 - val_auc: 0.9997 - val_recall: 0.9971\n",
            "Epoch 42/200\n",
            "1248/1248 [==============================] - 35s 28ms/step - loss: 0.0038 - accuracy: 0.9991 - auc: 1.0000 - recall: 0.9988 - val_loss: 0.0130 - val_accuracy: 0.9968 - val_auc: 0.9998 - val_recall: 0.9966\n",
            "Epoch 43/200\n",
            "1248/1248 [==============================] - 35s 28ms/step - loss: 0.0023 - accuracy: 0.9993 - auc: 1.0000 - recall: 0.9992 - val_loss: 0.0115 - val_accuracy: 0.9973 - val_auc: 0.9996 - val_recall: 0.9966\n",
            "Epoch 44/200\n",
            "1248/1248 [==============================] - 35s 28ms/step - loss: 0.0021 - accuracy: 0.9993 - auc: 1.0000 - recall: 0.9993 - val_loss: 0.0162 - val_accuracy: 0.9968 - val_auc: 0.9994 - val_recall: 0.9966\n",
            "Epoch 45/200\n",
            "1248/1248 [==============================] - 35s 28ms/step - loss: 0.0019 - accuracy: 0.9996 - auc: 1.0000 - recall: 0.9994 - val_loss: 0.0341 - val_accuracy: 0.9908 - val_auc: 0.9991 - val_recall: 0.9901\n",
            "Epoch 46/200\n",
            "1248/1248 [==============================] - 35s 28ms/step - loss: 0.0012 - accuracy: 0.9997 - auc: 1.0000 - recall: 0.9996 - val_loss: 0.0159 - val_accuracy: 0.9966 - val_auc: 0.9997 - val_recall: 0.9964\n",
            "Epoch 47/200\n",
            "1248/1248 [==============================] - 35s 28ms/step - loss: 0.0025 - accuracy: 0.9994 - auc: 1.0000 - recall: 0.9992 - val_loss: 0.0134 - val_accuracy: 0.9966 - val_auc: 0.9995 - val_recall: 0.9962\n",
            "Epoch 48/200\n",
            "1248/1248 [==============================] - 35s 28ms/step - loss: 0.0023 - accuracy: 0.9993 - auc: 1.0000 - recall: 0.9992 - val_loss: 0.0123 - val_accuracy: 0.9977 - val_auc: 0.9995 - val_recall: 0.9977\n",
            "Epoch 49/200\n",
            "1248/1248 [==============================] - 35s 28ms/step - loss: 0.0015 - accuracy: 0.9997 - auc: 1.0000 - recall: 0.9996 - val_loss: 0.0129 - val_accuracy: 0.9968 - val_auc: 0.9996 - val_recall: 0.9966\n",
            "Epoch 50/200\n",
            "1248/1248 [==============================] - 35s 28ms/step - loss: 0.0027 - accuracy: 0.9992 - auc: 1.0000 - recall: 0.9991 - val_loss: 0.0145 - val_accuracy: 0.9968 - val_auc: 0.9994 - val_recall: 0.9966\n",
            "Epoch 51/200\n",
            "1248/1248 [==============================] - 36s 29ms/step - loss: 0.0015 - accuracy: 0.9996 - auc: 1.0000 - recall: 0.9996 - val_loss: 0.0144 - val_accuracy: 0.9975 - val_auc: 0.9993 - val_recall: 0.9973\n",
            "Epoch 52/200\n",
            "1248/1248 [==============================] - 36s 29ms/step - loss: 0.0019 - accuracy: 0.9995 - auc: 1.0000 - recall: 0.9995 - val_loss: 0.0127 - val_accuracy: 0.9971 - val_auc: 0.9997 - val_recall: 0.9968\n",
            "Epoch 53/200\n",
            "1248/1248 [==============================] - 36s 29ms/step - loss: 0.0013 - accuracy: 0.9997 - auc: 1.0000 - recall: 0.9996 - val_loss: 0.0130 - val_accuracy: 0.9971 - val_auc: 0.9994 - val_recall: 0.9968\n",
            "Epoch 54/200\n",
            "1248/1248 [==============================] - 36s 29ms/step - loss: 0.0020 - accuracy: 0.9995 - auc: 1.0000 - recall: 0.9993 - val_loss: 0.0139 - val_accuracy: 0.9971 - val_auc: 0.9995 - val_recall: 0.9971\n",
            "Epoch 55/200\n",
            "1248/1248 [==============================] - 36s 29ms/step - loss: 0.0019 - accuracy: 0.9994 - auc: 1.0000 - recall: 0.9993 - val_loss: 0.0127 - val_accuracy: 0.9968 - val_auc: 0.9995 - val_recall: 0.9964\n",
            "Epoch 56/200\n",
            "1248/1248 [==============================] - 36s 29ms/step - loss: 0.0013 - accuracy: 0.9997 - auc: 1.0000 - recall: 0.9997 - val_loss: 0.0130 - val_accuracy: 0.9980 - val_auc: 0.9993 - val_recall: 0.9980\n",
            "Epoch 57/200\n",
            "1248/1248 [==============================] - 36s 29ms/step - loss: 0.0025 - accuracy: 0.9993 - auc: 1.0000 - recall: 0.9992 - val_loss: 0.1013 - val_accuracy: 0.9711 - val_auc: 0.9975 - val_recall: 0.9705\n",
            "155/155 [==============================] - 2s 13ms/step - loss: 0.3820 - accuracy: 0.9190 - auc: 0.9838 - recall: 0.9163\n",
            "Test loss:0.3820010721683502\n",
            "Test accuracy:0.9189627170562744\n",
            "Test Recall: 0.916329026222229\n",
            "Test AUC: 0.9837507009506226\n"
          ]
        }
      ]
    },
    {
      "cell_type": "markdown",
      "metadata": {
        "id": "6x5XZljv8DMI"
      },
      "source": [
        "![image.png](data:image/png;base64,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)"
      ]
    },
    {
      "cell_type": "code",
      "metadata": {
        "colab": {
          "base_uri": "https://localhost:8080/"
        },
        "id": "w-Fskopwd3oL",
        "outputId": "71492fd9-f678-4748-d9fe-8d132844e89f"
      },
      "source": [
        "# model.save('/content/drive/Shareddrives/MMH/models/MLSTM_FCN_dataset2_97_43_AUC_98_89.h5')"
      ],
      "execution_count": null,
      "outputs": [
        {
          "output_type": "stream",
          "name": "stderr",
          "text": [
            "/usr/local/lib/python3.7/dist-packages/keras/engine/functional.py:1410: CustomMaskWarning: Custom mask layers require a config and must override get_config. When loading, the custom mask layer must be passed to the custom_objects argument.\n",
            "  layer_config = serialize_layer_fn(layer)\n"
          ]
        }
      ]
    },
    {
      "cell_type": "code",
      "metadata": {
        "colab": {
          "base_uri": "https://localhost:8080/"
        },
        "id": "L1wnKRHcsggs",
        "outputId": "0699ea05-a08f-483c-e7a9-039349a1bdd6"
      },
      "source": [
        "num_classes = 745\n",
        "np.random.seed(42)\n",
        "X_train = load_X('/content/drive/Shareddrives/MMH/TIFS20/OU-ISIR_sensors_dataset/identification/data/train/data')\n",
        "X_test = load_X('/content/drive/Shareddrives/MMH/TIFS20/OU-ISIR_sensors_dataset/identification/data/test/data')\n",
        "train_label = load_y('/content/drive/Shareddrives/MMH/TIFS20/OU-ISIR_sensors_dataset/identification/data/train/train_y.txt')\n",
        "test_label = load_y('/content/drive/Shareddrives/MMH/TIFS20/OU-ISIR_sensors_dataset/identification/data/test/test_y.txt')\n",
        "print(f'{X_train.shape} {X_test.shape}')\n",
        "model = MLSTM_FCN((X_train.shape[1], X_train.shape[2]), train_label.shape[1])"
      ],
      "execution_count": null,
      "outputs": [
        {
          "output_type": "stream",
          "name": "stdout",
          "text": [
            "(13212, 6, 128, 1) (1409, 6, 128, 1)\n",
            "Model: \"model_2\"\n",
            "__________________________________________________________________________________________________\n",
            " Layer (type)                   Output Shape         Param #     Connected to                     \n",
            "==================================================================================================\n",
            " input_3 (InputLayer)           [(None, 6, 128)]     0           []                               \n",
            "                                                                                                  \n",
            " permute_2 (Permute)            (None, 128, 6)       0           ['input_3[0][0]']                \n",
            "                                                                                                  \n",
            " global_average_pooling1d_6 (Gl  (None, 6)           0           ['permute_2[0][0]']              \n",
            " obalAveragePooling1D)                                                                            \n",
            "                                                                                                  \n",
            " reshape_4 (Reshape)            (None, 1, 6)         0           ['global_average_pooling1d_6[0][0\n",
            "                                                                 ]']                              \n",
            "                                                                                                  \n",
            " dense_10 (Dense)               (None, 1, 0)         0           ['reshape_4[0][0]']              \n",
            "                                                                                                  \n",
            " dense_11 (Dense)               (None, 1, 6)         0           ['dense_10[0][0]']               \n",
            "                                                                                                  \n",
            " multiply_4 (Multiply)          (None, 128, 6)       0           ['permute_2[0][0]',              \n",
            "                                                                  'dense_11[0][0]']               \n",
            "                                                                                                  \n",
            " conv1d_6 (Conv1D)              (None, 128, 256)     12544       ['multiply_4[0][0]']             \n",
            "                                                                                                  \n",
            " batch_normalization_6 (BatchNo  (None, 128, 256)    1024        ['conv1d_6[0][0]']               \n",
            " rmalization)                                                                                     \n",
            "                                                                                                  \n",
            " activation_6 (Activation)      (None, 128, 256)     0           ['batch_normalization_6[0][0]']  \n",
            "                                                                                                  \n",
            " global_average_pooling1d_7 (Gl  (None, 256)         0           ['activation_6[0][0]']           \n",
            " obalAveragePooling1D)                                                                            \n",
            "                                                                                                  \n",
            " reshape_5 (Reshape)            (None, 1, 256)       0           ['global_average_pooling1d_7[0][0\n",
            "                                                                 ]']                              \n",
            "                                                                                                  \n",
            " dense_12 (Dense)               (None, 1, 16)        4096        ['reshape_5[0][0]']              \n",
            "                                                                                                  \n",
            " dense_13 (Dense)               (None, 1, 256)       4096        ['dense_12[0][0]']               \n",
            "                                                                                                  \n",
            " multiply_5 (Multiply)          (None, 128, 256)     0           ['activation_6[0][0]',           \n",
            "                                                                  'dense_13[0][0]']               \n",
            "                                                                                                  \n",
            " conv1d_7 (Conv1D)              (None, 128, 128)     163968      ['multiply_5[0][0]']             \n",
            "                                                                                                  \n",
            " batch_normalization_7 (BatchNo  (None, 128, 128)    512         ['conv1d_7[0][0]']               \n",
            " rmalization)                                                                                     \n",
            "                                                                                                  \n",
            " activation_7 (Activation)      (None, 128, 128)     0           ['batch_normalization_7[0][0]']  \n",
            "                                                                                                  \n",
            " conv1d_8 (Conv1D)              (None, 128, 64)      24640       ['activation_7[0][0]']           \n",
            "                                                                                                  \n",
            " masking_2 (Masking)            (None, 6, 128)       0           ['input_3[0][0]']                \n",
            "                                                                                                  \n",
            " batch_normalization_8 (BatchNo  (None, 128, 64)     256         ['conv1d_8[0][0]']               \n",
            " rmalization)                                                                                     \n",
            "                                                                                                  \n",
            " lstm_2 (LSTM)                  (None, 8)            4384        ['masking_2[0][0]']              \n",
            "                                                                                                  \n",
            " activation_8 (Activation)      (None, 128, 64)      0           ['batch_normalization_8[0][0]']  \n",
            "                                                                                                  \n",
            " dropout_2 (Dropout)            (None, 8)            0           ['lstm_2[0][0]']                 \n",
            "                                                                                                  \n",
            " global_average_pooling1d_8 (Gl  (None, 64)          0           ['activation_8[0][0]']           \n",
            " obalAveragePooling1D)                                                                            \n",
            "                                                                                                  \n",
            " concatenate_2 (Concatenate)    (None, 72)           0           ['dropout_2[0][0]',              \n",
            "                                                                  'global_average_pooling1d_8[0][0\n",
            "                                                                 ]']                              \n",
            "                                                                                                  \n",
            " dense_14 (Dense)               (None, 745)          54385       ['concatenate_2[0][0]']          \n",
            "                                                                                                  \n",
            "==================================================================================================\n",
            "Total params: 269,905\n",
            "Trainable params: 269,009\n",
            "Non-trainable params: 896\n",
            "__________________________________________________________________________________________________\n"
          ]
        }
      ]
    },
    {
      "cell_type": "code",
      "metadata": {
        "id": "nlDIv9dus229"
      },
      "source": [
        "model.fit(X_train,train_label,batch_size=32,epochs=200,verbose=1,callbacks=[tensorflow.keras.callbacks.EarlyStopping('val_loss', patience=30)],validation_split=0.1)\n",
        "score=model.evaluate(X_test,test_label,verbose=1)\n",
        "print(f'Test loss:{score[0]}')\n",
        "print(f'Test accuracy:{score[1]}')\n",
        "print(f'Test Recall: {score[3]}')\n",
        "print(f'Test AUC: {score[2]}')"
      ],
      "execution_count": null,
      "outputs": []
    },
    {
      "cell_type": "markdown",
      "metadata": {
        "id": "BxrDXxQM8J6I"
      },
      "source": [
        "![image.png](data:image/png;base64,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)"
      ]
    },
    {
      "cell_type": "code",
      "metadata": {
        "colab": {
          "base_uri": "https://localhost:8080/"
        },
        "id": "ZpLU6pPe8Mn6",
        "outputId": "bbc0e574-ae71-4e73-f8e4-913135826b79"
      },
      "source": [
        "get_test_performance(model, X_test, test_label)"
      ],
      "execution_count": null,
      "outputs": [
        {
          "metadata": {
            "tags": null
          },
          "name": "stdout",
          "output_type": "stream",
          "text": [
            "45/45 [==============================] - 1s 14ms/step - loss: 0.1575 - accuracy: 0.9652 - auc: 0.9954 - recall: 0.9567\n",
            "Test loss:0.1575421392917633\n",
            "Test accuracy:0.9652235507965088\n",
            "Test Recall: 0.9567068815231323\n",
            "Test AUC: 0.9953792095184326\n"
          ]
        }
      ]
    },
    {
      "cell_type": "code",
      "metadata": {
        "id": "otkOlXog-lnt"
      },
      "source": [
        ""
      ],
      "execution_count": null,
      "outputs": []
    }
  ]
}