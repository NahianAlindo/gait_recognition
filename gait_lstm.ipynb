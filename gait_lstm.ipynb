{
  "nbformat": 4,
  "nbformat_minor": 0,
  "metadata": {
    "colab": {
      "name": "gait_lstm.ipynb",
      "provenance": []
    },
    "kernelspec": {
      "name": "python3",
      "display_name": "Python 3"
    },
    "language_info": {
      "name": "python"
    },
    "accelerator": "GPU"
  },
  "cells": [
    {
      "cell_type": "code",
      "metadata": {
        "colab": {
          "base_uri": "https://localhost:8080/"
        },
        "id": "l4xwQjn812Pf",
        "outputId": "6860038f-ae19-49af-8c35-138c59b149a4"
      },
      "source": [
        "!nvidia-smi"
      ],
      "execution_count": null,
      "outputs": [
        {
          "output_type": "stream",
          "text": [
            "Wed Jul 14 17:35:50 2021       \n",
            "+-----------------------------------------------------------------------------+\n",
            "| NVIDIA-SMI 470.42.01    Driver Version: 460.32.03    CUDA Version: 11.2     |\n",
            "|-------------------------------+----------------------+----------------------+\n",
            "| GPU  Name        Persistence-M| Bus-Id        Disp.A | Volatile Uncorr. ECC |\n",
            "| Fan  Temp  Perf  Pwr:Usage/Cap|         Memory-Usage | GPU-Util  Compute M. |\n",
            "|                               |                      |               MIG M. |\n",
            "|===============================+======================+======================|\n",
            "|   0  Tesla T4            Off  | 00000000:00:04.0 Off |                    0 |\n",
            "| N/A   73C    P0    33W /  70W |    660MiB / 15109MiB |      0%      Default |\n",
            "|                               |                      |                  N/A |\n",
            "+-------------------------------+----------------------+----------------------+\n",
            "                                                                               \n",
            "+-----------------------------------------------------------------------------+\n",
            "| Processes:                                                                  |\n",
            "|  GPU   GI   CI        PID   Type   Process name                  GPU Memory |\n",
            "|        ID   ID                                                   Usage      |\n",
            "|=============================================================================|\n",
            "|  No running processes found                                                 |\n",
            "+-----------------------------------------------------------------------------+\n"
          ],
          "name": "stdout"
        }
      ]
    },
    {
      "cell_type": "code",
      "metadata": {
        "colab": {
          "base_uri": "https://localhost:8080/"
        },
        "id": "ldk8nITZzlAt",
        "outputId": "69783843-a443-4363-836f-3ff78a6e8967"
      },
      "source": [
        "! pip install keras==2.3.1"
      ],
      "execution_count": null,
      "outputs": [
        {
          "output_type": "stream",
          "text": [
            "Requirement already satisfied: keras==2.3.1 in /usr/local/lib/python3.7/dist-packages (2.3.1)\n",
            "Requirement already satisfied: pyyaml in /usr/local/lib/python3.7/dist-packages (from keras==2.3.1) (3.13)\n",
            "Requirement already satisfied: keras-applications>=1.0.6 in /usr/local/lib/python3.7/dist-packages (from keras==2.3.1) (1.0.8)\n",
            "Requirement already satisfied: h5py in /usr/local/lib/python3.7/dist-packages (from keras==2.3.1) (3.1.0)\n",
            "Requirement already satisfied: keras-preprocessing>=1.0.5 in /usr/local/lib/python3.7/dist-packages (from keras==2.3.1) (1.1.2)\n",
            "Requirement already satisfied: six>=1.9.0 in /usr/local/lib/python3.7/dist-packages (from keras==2.3.1) (1.15.0)\n",
            "Requirement already satisfied: numpy>=1.9.1 in /usr/local/lib/python3.7/dist-packages (from keras==2.3.1) (1.19.5)\n",
            "Requirement already satisfied: scipy>=0.14 in /usr/local/lib/python3.7/dist-packages (from keras==2.3.1) (1.4.1)\n",
            "Requirement already satisfied: cached-property; python_version < \"3.8\" in /usr/local/lib/python3.7/dist-packages (from h5py->keras==2.3.1) (1.5.2)\n"
          ],
          "name": "stdout"
        }
      ]
    },
    {
      "cell_type": "code",
      "metadata": {
        "id": "r6wnBMmserwj",
        "colab": {
          "base_uri": "https://localhost:8080/"
        },
        "outputId": "6e96cab7-860f-40c8-c59f-15a48b2e321e"
      },
      "source": [
        "# import tensorflow.keras as keras\n",
        "import numpy as np\n",
        "import os\n",
        "import random\n",
        "\n",
        "! pip install keras-tuner\n",
        "import tensorflow as tf\n",
        "import numpy as np\n",
        "import os\n",
        "import random\n",
        "from tensorflow.keras.applications import VGG19\n",
        "from tensorflow.keras.models import Sequential\n",
        "from tensorflow.keras.layers import Conv1D, Dense, Dropout, Input, Concatenate, GlobalMaxPool1D, LSTM, MaxPool1D\n",
        "from tensorflow.keras.layers import ReLU, BatchNormalization, Bidirectional, concatenate, Reshape, TimeDistributed\n",
        "from tensorflow.keras.layers import Conv2D, ConvLSTM2D, MaxPool2D, SpatialDropout2D, Softmax, ELU, Layer, Masking\n",
        "from tensorflow.keras.layers import GlobalAveragePooling2D, GlobalMaxPool2D, LeakyReLU, LSTMCell, RNN, InputSpec\n",
        "from tensorflow.keras.layers import concatenate, Conv1DTranspose, Conv2DTranspose, Flatten, StackedRNNCells\n",
        "from tensorflow.keras.initializers import Constant\n",
        "from tensorflow.keras.models import Model\n",
        "from tensorflow.keras import Input\n",
        "from tensorflow import keras as keras\n",
        "from tensorflow.keras.optimizers import Adam, SGD, RMSprop\n",
        "from matplotlib import pyplot as plt\n",
        "import kerastuner as kt\n",
        "from kerastuner.tuners import RandomSearch, BayesianOptimization, Hyperband\n",
        "from tensorflow.keras.callbacks import EarlyStopping\n",
        "from tensorflow.keras.layers import GlobalAveragePooling2D, GlobalAveragePooling1D, Permute, multiply, Activation\n",
        "import tensorflow.keras.backend as K\n",
        "\n",
        "from tensorflow.keras import backend as K\n",
        "from tensorflow.keras import activations\n",
        "from tensorflow.keras import initializers\n",
        "from tensorflow.keras import regularizers\n",
        "from tensorflow.keras import constraints\n"
      ],
      "execution_count": null,
      "outputs": [
        {
          "output_type": "stream",
          "text": [
            "Requirement already satisfied: keras-tuner in /usr/local/lib/python3.7/dist-packages (1.0.3)\n",
            "Requirement already satisfied: ipython in /usr/local/lib/python3.7/dist-packages (from keras-tuner) (5.5.0)\n",
            "Requirement already satisfied: requests in /usr/local/lib/python3.7/dist-packages (from keras-tuner) (2.23.0)\n",
            "Requirement already satisfied: scipy in /usr/local/lib/python3.7/dist-packages (from keras-tuner) (1.4.1)\n",
            "Requirement already satisfied: packaging in /usr/local/lib/python3.7/dist-packages (from keras-tuner) (20.9)\n",
            "Requirement already satisfied: numpy in /usr/local/lib/python3.7/dist-packages (from keras-tuner) (1.19.5)\n",
            "Requirement already satisfied: tensorboard in /usr/local/lib/python3.7/dist-packages (from keras-tuner) (2.5.0)\n",
            "Requirement already satisfied: kt-legacy in /usr/local/lib/python3.7/dist-packages (from keras-tuner) (1.0.3)\n",
            "Requirement already satisfied: pickleshare in /usr/local/lib/python3.7/dist-packages (from ipython->keras-tuner) (0.7.5)\n",
            "Requirement already satisfied: traitlets>=4.2 in /usr/local/lib/python3.7/dist-packages (from ipython->keras-tuner) (5.0.5)\n",
            "Requirement already satisfied: setuptools>=18.5 in /usr/local/lib/python3.7/dist-packages (from ipython->keras-tuner) (57.0.0)\n",
            "Requirement already satisfied: decorator in /usr/local/lib/python3.7/dist-packages (from ipython->keras-tuner) (4.4.2)\n",
            "Requirement already satisfied: pygments in /usr/local/lib/python3.7/dist-packages (from ipython->keras-tuner) (2.6.1)\n",
            "Requirement already satisfied: prompt-toolkit<2.0.0,>=1.0.4 in /usr/local/lib/python3.7/dist-packages (from ipython->keras-tuner) (1.0.18)\n",
            "Requirement already satisfied: pexpect; sys_platform != \"win32\" in /usr/local/lib/python3.7/dist-packages (from ipython->keras-tuner) (4.8.0)\n",
            "Requirement already satisfied: simplegeneric>0.8 in /usr/local/lib/python3.7/dist-packages (from ipython->keras-tuner) (0.8.1)\n",
            "Requirement already satisfied: certifi>=2017.4.17 in /usr/local/lib/python3.7/dist-packages (from requests->keras-tuner) (2021.5.30)\n",
            "Requirement already satisfied: chardet<4,>=3.0.2 in /usr/local/lib/python3.7/dist-packages (from requests->keras-tuner) (3.0.4)\n",
            "Requirement already satisfied: idna<3,>=2.5 in /usr/local/lib/python3.7/dist-packages (from requests->keras-tuner) (2.10)\n",
            "Requirement already satisfied: urllib3!=1.25.0,!=1.25.1,<1.26,>=1.21.1 in /usr/local/lib/python3.7/dist-packages (from requests->keras-tuner) (1.24.3)\n",
            "Requirement already satisfied: pyparsing>=2.0.2 in /usr/local/lib/python3.7/dist-packages (from packaging->keras-tuner) (2.4.7)\n",
            "Requirement already satisfied: grpcio>=1.24.3 in /usr/local/lib/python3.7/dist-packages (from tensorboard->keras-tuner) (1.34.1)\n",
            "Requirement already satisfied: google-auth<2,>=1.6.3 in /usr/local/lib/python3.7/dist-packages (from tensorboard->keras-tuner) (1.32.1)\n",
            "Requirement already satisfied: markdown>=2.6.8 in /usr/local/lib/python3.7/dist-packages (from tensorboard->keras-tuner) (3.3.4)\n",
            "Requirement already satisfied: google-auth-oauthlib<0.5,>=0.4.1 in /usr/local/lib/python3.7/dist-packages (from tensorboard->keras-tuner) (0.4.4)\n",
            "Requirement already satisfied: protobuf>=3.6.0 in /usr/local/lib/python3.7/dist-packages (from tensorboard->keras-tuner) (3.17.3)\n",
            "Requirement already satisfied: tensorboard-data-server<0.7.0,>=0.6.0 in /usr/local/lib/python3.7/dist-packages (from tensorboard->keras-tuner) (0.6.1)\n",
            "Requirement already satisfied: tensorboard-plugin-wit>=1.6.0 in /usr/local/lib/python3.7/dist-packages (from tensorboard->keras-tuner) (1.8.0)\n",
            "Requirement already satisfied: werkzeug>=0.11.15 in /usr/local/lib/python3.7/dist-packages (from tensorboard->keras-tuner) (1.0.1)\n",
            "Requirement already satisfied: absl-py>=0.4 in /usr/local/lib/python3.7/dist-packages (from tensorboard->keras-tuner) (0.12.0)\n",
            "Requirement already satisfied: wheel>=0.26; python_version >= \"3\" in /usr/local/lib/python3.7/dist-packages (from tensorboard->keras-tuner) (0.36.2)\n",
            "Requirement already satisfied: ipython-genutils in /usr/local/lib/python3.7/dist-packages (from traitlets>=4.2->ipython->keras-tuner) (0.2.0)\n",
            "Requirement already satisfied: wcwidth in /usr/local/lib/python3.7/dist-packages (from prompt-toolkit<2.0.0,>=1.0.4->ipython->keras-tuner) (0.2.5)\n",
            "Requirement already satisfied: six>=1.9.0 in /usr/local/lib/python3.7/dist-packages (from prompt-toolkit<2.0.0,>=1.0.4->ipython->keras-tuner) (1.15.0)\n",
            "Requirement already satisfied: ptyprocess>=0.5 in /usr/local/lib/python3.7/dist-packages (from pexpect; sys_platform != \"win32\"->ipython->keras-tuner) (0.7.0)\n",
            "Requirement already satisfied: pyasn1-modules>=0.2.1 in /usr/local/lib/python3.7/dist-packages (from google-auth<2,>=1.6.3->tensorboard->keras-tuner) (0.2.8)\n",
            "Requirement already satisfied: rsa<5,>=3.1.4; python_version >= \"3.6\" in /usr/local/lib/python3.7/dist-packages (from google-auth<2,>=1.6.3->tensorboard->keras-tuner) (4.7.2)\n",
            "Requirement already satisfied: cachetools<5.0,>=2.0.0 in /usr/local/lib/python3.7/dist-packages (from google-auth<2,>=1.6.3->tensorboard->keras-tuner) (4.2.2)\n",
            "Requirement already satisfied: importlib-metadata; python_version < \"3.8\" in /usr/local/lib/python3.7/dist-packages (from markdown>=2.6.8->tensorboard->keras-tuner) (4.6.0)\n",
            "Requirement already satisfied: requests-oauthlib>=0.7.0 in /usr/local/lib/python3.7/dist-packages (from google-auth-oauthlib<0.5,>=0.4.1->tensorboard->keras-tuner) (1.3.0)\n",
            "Requirement already satisfied: pyasn1<0.5.0,>=0.4.6 in /usr/local/lib/python3.7/dist-packages (from pyasn1-modules>=0.2.1->google-auth<2,>=1.6.3->tensorboard->keras-tuner) (0.4.8)\n",
            "Requirement already satisfied: zipp>=0.5 in /usr/local/lib/python3.7/dist-packages (from importlib-metadata; python_version < \"3.8\"->markdown>=2.6.8->tensorboard->keras-tuner) (3.4.1)\n",
            "Requirement already satisfied: typing-extensions>=3.6.4; python_version < \"3.8\" in /usr/local/lib/python3.7/dist-packages (from importlib-metadata; python_version < \"3.8\"->markdown>=2.6.8->tensorboard->keras-tuner) (3.7.4.3)\n",
            "Requirement already satisfied: oauthlib>=3.0.0 in /usr/local/lib/python3.7/dist-packages (from requests-oauthlib>=0.7.0->google-auth-oauthlib<0.5,>=0.4.1->tensorboard->keras-tuner) (3.1.1)\n"
          ],
          "name": "stdout"
        }
      ]
    },
    {
      "cell_type": "code",
      "metadata": {
        "id": "17a0aknTUZAd"
      },
      "source": [
        "def load_X(path):\n",
        "    X_signals = []\n",
        "    files = os.listdir(path)\n",
        "    files.sort(key=str.lower)\n",
        "    #['train_acc_x.txt', 'train_acc_y.txt', 'train_acc_z.txt', 'train_gyr_x.txt', 'train_gyr_y.txt', 'train_gyr_z.txt']\n",
        "    for my_file in files:\n",
        "        fileName = os.path.join(path,my_file)\n",
        "        file = open(fileName, 'r')\n",
        "        X_signals.append(\n",
        "            [np.array(cell, dtype=np.float32) for cell in [\n",
        "                row.strip().split(' ') for row in file\n",
        "            ]]\n",
        "        )\n",
        "        file.close()\n",
        "        #X_signals = 6*totalStepNum*128\n",
        "    X_signals = np.transpose(np.array(X_signals), (1, 0, 2))#(totalStepNum*6*128)\n",
        "    return X_signals.reshape(-1,6,128,1)#(totalStepNum*6*128*1)\n",
        "\n",
        "def load_y(y_path):\n",
        "    file = open(y_path, 'r')\n",
        "    # Read dataset from disk, dealing with text file's syntax\n",
        "    y_ = np.array(\n",
        "        [elem for elem in [\n",
        "            row.replace('  ', ' ').strip().split(' ') for row in file\n",
        "        ]],\n",
        "        dtype=np.int32\n",
        "    )\n",
        "    file.close()\n",
        "    # Substract 1 to each output class for friendly 0-based indexing\n",
        "    y_ = y_ - 1\n",
        "    #one_hot\n",
        "    y_ = y_.reshape(len(y_))\n",
        "    n_values = int(np.max(y_)) + 1\n",
        "    return np.eye(n_values)[np.array(y_, dtype=np.int32)]  # Returns FLOATS\n",
        "\n",
        "\n",
        "def weight_variable(shape):\n",
        "    initial = tf.random.truncated_normal(shape, std_dev=0.1)\n",
        "    return tf.Variable(initial)\n",
        "\n",
        "def bias_variable(shape):\n",
        "    initial = tf.constant(0.1, shape=shape)\n",
        "    return tf.Variable(initial)\n",
        "\n",
        "\n",
        "X_train = load_X('/content/drive/Shareddrives/MMH/TIFS20/Dataset #1/train/Inertial Signals')\n",
        "X_test = load_X('/content/drive/Shareddrives/MMH/TIFS20/Dataset #1/test/Inertial Signals')\n",
        "train_label = load_y('/content/drive/Shareddrives/MMH/TIFS20/Dataset #1/train/y_train.txt')\n",
        "test_label = load_y('/content/drive/Shareddrives/MMH/TIFS20/Dataset #1/test/y_test.txt')\n",
        "X_train = np.reshape(X_train, (X_train.shape[0], X_train.shape[1], X_train.shape[2]))\n",
        "X_test = np.reshape(X_test, (X_test.shape[0], X_test.shape[1], X_test.shape[2]))\n",
        "\n",
        "batch_size = 512\n",
        "num_classes = 118"
      ],
      "execution_count": null,
      "outputs": []
    },
    {
      "cell_type": "code",
      "metadata": {
        "colab": {
          "base_uri": "https://localhost:8080/"
        },
        "id": "yMc0vuzJhr7-",
        "outputId": "18211dba-38a1-4c33-fe6a-22c659dc0462"
      },
      "source": [
        "X_train.shape, train_label.shape, X_test.shape, test_label.shape"
      ],
      "execution_count": null,
      "outputs": [
        {
          "output_type": "execute_result",
          "data": {
            "text/plain": [
              "((33104, 6, 128), (33104, 118), (3740, 6, 128), (3740, 118))"
            ]
          },
          "metadata": {
            "tags": []
          },
          "execution_count": 13
        }
      ]
    },
    {
      "cell_type": "code",
      "metadata": {
        "id": "TKD0wq7yeDQ4"
      },
      "source": [
        "def tuned_lstm_model(hp):\n",
        "    # model = Sequential()\n",
        "    input_seq = Input(shape=(6, 128))\n",
        "    processed = LSTM(hp.Int('units', min_value=32, max_value=512, step=32), input_shape=(6, 128))(input_seq)\n",
        "    processed = Dropout(0.5)(processed)\n",
        "    # x = (Dense(118*8, activation='relu'))(processed)\n",
        "    # x = (Dense(118*4, activation='relu'))(x)\n",
        "    processed =ReLU()(processed)\n",
        "    activated = (Dense(118, activation='softmax'))(processed)\n",
        "    model = Model(inputs=input_seq, outputs=activated)\n",
        "    model.compile(optimizer=keras.optimizers.Adam(hp.Choice('learning_rate', values=[1e-1, 1e-2, 1e-3, 3*1e-1, 3*1e-2, 3*1e-3, 3*1e-4, 1e-4, 1.0])), \\\n",
        "                  loss='categorical_crossentropy',metrics=['accuracy'])\n",
        "    return model"
      ],
      "execution_count": null,
      "outputs": []
    },
    {
      "cell_type": "code",
      "metadata": {
        "colab": {
          "base_uri": "https://localhost:8080/"
        },
        "id": "0pkWwO3FFXSH",
        "outputId": "1530c49f-4ae3-452b-9de9-8f9852b490a7"
      },
      "source": [
        "tuner = RandomSearch(\n",
        "    tuned_lstm_model,\n",
        "    objective='val_accuracy',\n",
        "    max_trials=10,\n",
        "    directory='output1',\n",
        "    project_name='TIFS20')\n",
        "\n",
        "tuner.search(X_train, train_label, epochs=200, validation_split=0.1, shuffle=True, callbacks=[EarlyStopping(monitor='val_loss', patience=30)])"
      ],
      "execution_count": null,
      "outputs": [
        {
          "output_type": "stream",
          "text": [
            "Trial 10 Complete [00h 03m 51s]\n",
            "val_accuracy: 0.8882513046264648\n",
            "\n",
            "Best val_accuracy So Far: 0.9417094588279724\n",
            "Total elapsed time: 00h 46m 48s\n",
            "INFO:tensorflow:Oracle triggered exit\n"
          ],
          "name": "stdout"
        }
      ]
    },
    {
      "cell_type": "code",
      "metadata": {
        "id": "0D_NrYkZe9ZB",
        "colab": {
          "base_uri": "https://localhost:8080/"
        },
        "outputId": "647d499e-fb05-40a7-9780-3dff63436145"
      },
      "source": [
        "model = tuner.get_best_models(num_models=1)[0]\n",
        "model.summary()"
      ],
      "execution_count": null,
      "outputs": [
        {
          "output_type": "stream",
          "text": [
            "Model: \"model\"\n",
            "_________________________________________________________________\n",
            "Layer (type)                 Output Shape              Param #   \n",
            "=================================================================\n",
            "input_1 (InputLayer)         [(None, 6, 128)]          0         \n",
            "_________________________________________________________________\n",
            "lstm (LSTM)                  (None, 448)               1033984   \n",
            "_________________________________________________________________\n",
            "dropout (Dropout)            (None, 448)               0         \n",
            "_________________________________________________________________\n",
            "re_lu (ReLU)                 (None, 448)               0         \n",
            "_________________________________________________________________\n",
            "dense (Dense)                (None, 118)               52982     \n",
            "=================================================================\n",
            "Total params: 1,086,966\n",
            "Trainable params: 1,086,966\n",
            "Non-trainable params: 0\n",
            "_________________________________________________________________\n"
          ],
          "name": "stdout"
        }
      ]
    },
    {
      "cell_type": "code",
      "metadata": {
        "id": "49JnEPB_froQ",
        "colab": {
          "base_uri": "https://localhost:8080/"
        },
        "outputId": "d12b3349-a589-43a3-ee6c-c412c8550cbe"
      },
      "source": [
        "history = model.fit(X_train, train_label, validation_split = 0.1, epochs=100, shuffle=True, batch_size=512, callbacks=[EarlyStopping('val_loss', patience=30)])#, callbacks=[es_callback])"
      ],
      "execution_count": null,
      "outputs": [
        {
          "output_type": "stream",
          "text": [
            "Epoch 1/100\n",
            "59/59 [==============================] - 2s 18ms/step - loss: 0.0207 - accuracy: 0.9936 - val_loss: 0.3048 - val_accuracy: 0.9423\n",
            "Epoch 2/100\n",
            "59/59 [==============================] - 1s 10ms/step - loss: 0.0110 - accuracy: 0.9973 - val_loss: 0.3008 - val_accuracy: 0.9429\n",
            "Epoch 3/100\n",
            "59/59 [==============================] - 1s 10ms/step - loss: 0.0083 - accuracy: 0.9981 - val_loss: 0.2988 - val_accuracy: 0.9444\n",
            "Epoch 4/100\n",
            "59/59 [==============================] - 1s 10ms/step - loss: 0.0074 - accuracy: 0.9982 - val_loss: 0.2958 - val_accuracy: 0.9453\n",
            "Epoch 5/100\n",
            "59/59 [==============================] - 1s 10ms/step - loss: 0.0070 - accuracy: 0.9983 - val_loss: 0.2927 - val_accuracy: 0.9456\n",
            "Epoch 6/100\n",
            "59/59 [==============================] - 1s 10ms/step - loss: 0.0057 - accuracy: 0.9988 - val_loss: 0.2931 - val_accuracy: 0.9459\n",
            "Epoch 7/100\n",
            "59/59 [==============================] - 1s 10ms/step - loss: 0.0052 - accuracy: 0.9989 - val_loss: 0.2944 - val_accuracy: 0.9453\n",
            "Epoch 8/100\n",
            "59/59 [==============================] - 1s 10ms/step - loss: 0.0047 - accuracy: 0.9990 - val_loss: 0.2952 - val_accuracy: 0.9456\n",
            "Epoch 9/100\n",
            "59/59 [==============================] - 1s 10ms/step - loss: 0.0044 - accuracy: 0.9993 - val_loss: 0.2948 - val_accuracy: 0.9453\n",
            "Epoch 10/100\n",
            "59/59 [==============================] - 1s 10ms/step - loss: 0.0038 - accuracy: 0.9992 - val_loss: 0.2960 - val_accuracy: 0.9459\n",
            "Epoch 11/100\n",
            "59/59 [==============================] - 1s 10ms/step - loss: 0.0040 - accuracy: 0.9991 - val_loss: 0.2976 - val_accuracy: 0.9459\n",
            "Epoch 12/100\n",
            "59/59 [==============================] - 1s 10ms/step - loss: 0.0034 - accuracy: 0.9996 - val_loss: 0.2963 - val_accuracy: 0.9453\n",
            "Epoch 13/100\n",
            "59/59 [==============================] - 1s 10ms/step - loss: 0.0031 - accuracy: 0.9995 - val_loss: 0.2963 - val_accuracy: 0.9462\n",
            "Epoch 14/100\n",
            "59/59 [==============================] - 1s 10ms/step - loss: 0.0038 - accuracy: 0.9990 - val_loss: 0.2946 - val_accuracy: 0.9468\n",
            "Epoch 15/100\n",
            "59/59 [==============================] - 1s 10ms/step - loss: 0.0027 - accuracy: 0.9996 - val_loss: 0.2940 - val_accuracy: 0.9468\n",
            "Epoch 16/100\n",
            "59/59 [==============================] - 1s 10ms/step - loss: 0.0025 - accuracy: 0.9996 - val_loss: 0.2948 - val_accuracy: 0.9474\n",
            "Epoch 17/100\n",
            "59/59 [==============================] - 1s 10ms/step - loss: 0.0025 - accuracy: 0.9997 - val_loss: 0.2957 - val_accuracy: 0.9477\n",
            "Epoch 18/100\n",
            "59/59 [==============================] - 1s 10ms/step - loss: 0.0025 - accuracy: 0.9995 - val_loss: 0.2960 - val_accuracy: 0.9481\n",
            "Epoch 19/100\n",
            "59/59 [==============================] - 1s 10ms/step - loss: 0.0020 - accuracy: 0.9997 - val_loss: 0.2956 - val_accuracy: 0.9481\n",
            "Epoch 20/100\n",
            "59/59 [==============================] - 1s 10ms/step - loss: 0.0022 - accuracy: 0.9996 - val_loss: 0.2952 - val_accuracy: 0.9477\n",
            "Epoch 21/100\n",
            "59/59 [==============================] - 1s 10ms/step - loss: 0.0020 - accuracy: 0.9998 - val_loss: 0.2965 - val_accuracy: 0.9471\n",
            "Epoch 22/100\n",
            "59/59 [==============================] - 1s 10ms/step - loss: 0.0021 - accuracy: 0.9997 - val_loss: 0.2968 - val_accuracy: 0.9471\n",
            "Epoch 23/100\n",
            "59/59 [==============================] - 1s 10ms/step - loss: 0.0018 - accuracy: 0.9998 - val_loss: 0.2978 - val_accuracy: 0.9474\n",
            "Epoch 24/100\n",
            "59/59 [==============================] - 1s 10ms/step - loss: 0.0021 - accuracy: 0.9997 - val_loss: 0.2981 - val_accuracy: 0.9481\n",
            "Epoch 25/100\n",
            "59/59 [==============================] - 1s 10ms/step - loss: 0.0018 - accuracy: 0.9998 - val_loss: 0.2980 - val_accuracy: 0.9477\n",
            "Epoch 26/100\n",
            "59/59 [==============================] - 1s 10ms/step - loss: 0.0017 - accuracy: 0.9997 - val_loss: 0.2985 - val_accuracy: 0.9477\n",
            "Epoch 27/100\n",
            "59/59 [==============================] - 1s 10ms/step - loss: 0.0019 - accuracy: 0.9996 - val_loss: 0.2984 - val_accuracy: 0.9474\n",
            "Epoch 28/100\n",
            "59/59 [==============================] - 1s 10ms/step - loss: 0.0017 - accuracy: 0.9997 - val_loss: 0.2992 - val_accuracy: 0.9471\n",
            "Epoch 29/100\n",
            "59/59 [==============================] - 1s 10ms/step - loss: 0.0014 - accuracy: 0.9999 - val_loss: 0.2998 - val_accuracy: 0.9471\n",
            "Epoch 30/100\n",
            "59/59 [==============================] - 1s 10ms/step - loss: 0.0014 - accuracy: 0.9998 - val_loss: 0.3003 - val_accuracy: 0.9465\n",
            "Epoch 31/100\n",
            "59/59 [==============================] - 1s 10ms/step - loss: 0.0014 - accuracy: 0.9998 - val_loss: 0.3003 - val_accuracy: 0.9471\n",
            "Epoch 32/100\n",
            "59/59 [==============================] - 1s 10ms/step - loss: 0.0014 - accuracy: 0.9998 - val_loss: 0.2998 - val_accuracy: 0.9484\n",
            "Epoch 33/100\n",
            "59/59 [==============================] - 1s 10ms/step - loss: 0.0013 - accuracy: 0.9998 - val_loss: 0.3013 - val_accuracy: 0.9474\n",
            "Epoch 34/100\n",
            "59/59 [==============================] - 1s 10ms/step - loss: 0.0013 - accuracy: 0.9999 - val_loss: 0.3004 - val_accuracy: 0.9474\n",
            "Epoch 35/100\n",
            "59/59 [==============================] - 1s 10ms/step - loss: 0.0012 - accuracy: 0.9999 - val_loss: 0.3014 - val_accuracy: 0.9481\n"
          ],
          "name": "stdout"
        }
      ]
    },
    {
      "cell_type": "code",
      "metadata": {
        "colab": {
          "base_uri": "https://localhost:8080/",
          "height": 573
        },
        "id": "fQrnsytFgi2m",
        "outputId": "20e73409-b0fc-437c-8d65-69c0b8758b90"
      },
      "source": [
        "import matplotlib.pyplot as plt\n",
        "plt.plot(history.history['accuracy'])\n",
        "plt.plot(history.history['val_accuracy'])\n",
        "plt.title('model accuracy')\n",
        "plt.ylabel('accuracy')\n",
        "plt.xlabel('epoch')\n",
        "plt.legend(['train', 'val'], loc='upper left')\n",
        "plt.show()\n",
        "\n",
        "plt.plot(history.history['loss'])\n",
        "plt.plot(history.history['val_loss'])\n",
        "plt.title('model loss')\n",
        "plt.ylabel('loss')\n",
        "plt.xlabel('epoch')\n",
        "plt.legend(['train', 'val'], loc='upper left')\n",
        "plt.show()"
      ],
      "execution_count": null,
      "outputs": [
        {
          "output_type": "display_data",
          "data": {
            "image/png": "[encoded data removed]",
            "text/plain": [
              "<Figure size 432x288 with 1 Axes>"
            ]
          },
          "metadata": {
            "tags": [],
            "needs_background": "light"
          }
        },
        {
          "output_type": "display_data",
          "data": {
            "image/png": "[encoded data removed]",
            "text/plain": [
              "<Figure size 432x288 with 1 Axes>"
            ]
          },
          "metadata": {
            "tags": [],
            "needs_background": "light"
          }
        }
      ]
    },
    {
      "cell_type": "code",
      "metadata": {
        "id": "e7gDmZQlglev",
        "colab": {
          "base_uri": "https://localhost:8080/"
        },
        "outputId": "e22e2992-ffd5-4c53-d09d-d99f4b8d8c53"
      },
      "source": [
        "score = model.evaluate(X_test, test_label, verbose=0)\n",
        "print('Test loss:', score[0])\n",
        "print('Test accuracy:', score[1])"
      ],
      "execution_count": null,
      "outputs": [
        {
          "output_type": "stream",
          "text": [
            "Test loss: 1.2256324291229248\n",
            "Test accuracy: 0.872459888458252\n"
          ],
          "name": "stdout"
        }
      ]
    },
    {
      "cell_type": "code",
      "metadata": {
        "id": "RNQrOaYz01Sz"
      },
      "source": [
        "model.save('/content/drive/Shareddrives/MMH/models/tuned_lstm_87.h5')"
      ],
      "execution_count": null,
      "outputs": []
    },
    {
      "cell_type": "code",
      "metadata": {
        "id": "nqI5BV-EDRRL"
      },
      "source": [
        "# Test loss: 0.8689110279083252\n",
        "# Test accuracy: 0.8852941393852234"
      ],
      "execution_count": null,
      "outputs": []
    }
  ]
}