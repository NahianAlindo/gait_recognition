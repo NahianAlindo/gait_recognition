{
  "nbformat": 4,
  "nbformat_minor": 0,
  "metadata": {
    "colab": {
      "name": "Gait_recognition 2.1.ipynb",
      "provenance": []
    },
    "kernelspec": {
      "name": "python3",
      "display_name": "Python 3"
    },
    "language_info": {
      "name": "python"
    },
    "accelerator": "GPU"
  },
  "cells": [
    {
      "cell_type": "code",
      "metadata": {
        "id": "OViw61GyOCQ_"
      },
      "source": [
        "! nvidia-smi"
      ],
      "execution_count": null,
      "outputs": []
    },
    {
      "cell_type": "code",
      "metadata": {
        "id": "ASa9EHUrK9Jr"
      },
      "source": [
        "! pip install keras-tuner"
      ],
      "execution_count": null,
      "outputs": []
    },
    {
      "cell_type": "code",
      "metadata": {
        "id": "Q_dyjnRbEjXi"
      },
      "source": [
        "import tensorflow\n",
        "from tensorflow import keras\n",
        "import kerastuner as kt\n",
        "import os\n",
        "import numpy as np\n",
        "# import keras\n",
        "import keras.backend as K\n",
        "from tensorflow.keras.layers import Input, Masking, LSTM, Dropout, Permute, Conv1D, BatchNormalization, Activation, GlobalAveragePooling1D, concatenate, multiply, Reshape, Dense\n",
        "from tensorflow.keras.models import Model\n",
        "from tensorflow.keras import Input\n",
        "from matplotlib import pyplot as plt"
      ],
      "execution_count": 48,
      "outputs": []
    },
    {
      "cell_type": "code",
      "metadata": {
        "colab": {
          "base_uri": "https://localhost:8080/"
        },
        "id": "i7wGc8M5JifK",
        "outputId": "f980605e-f6b4-4cc6-ea5f-1c443b643445"
      },
      "source": [
        "from google.colab import drive\n",
        "drive.mount('/content/drive')"
      ],
      "execution_count": 5,
      "outputs": [
        {
          "output_type": "stream",
          "text": [
            "Mounted at /content/drive\n"
          ],
          "name": "stdout"
        }
      ]
    },
    {
      "cell_type": "markdown",
      "metadata": {
        "id": "TLNEHESRANKt"
      },
      "source": [
        "### Some utility functions"
      ]
    },
    {
      "cell_type": "code",
      "metadata": {
        "id": "P7TrblZlJfhf"
      },
      "source": [
        "def load_X(path):\n",
        "    X_signals = []\n",
        "    files = os.listdir(path)\n",
        "    files.sort(key=str.lower)\n",
        "    #['train_acc_x.txt', 'train_acc_y.txt', 'train_acc_z.txt', 'train_gyr_x.txt', 'train_gyr_y.txt', 'train_gyr_z.txt']\n",
        "    for my_file in files:\n",
        "        fileName = os.path.join(path,my_file)\n",
        "        file = open(fileName, 'r')\n",
        "        X_signals.append(\n",
        "            [np.array(cell, dtype=np.float32) for cell in [\n",
        "                row.strip().split(' ') for row in file\n",
        "            ]]\n",
        "        )\n",
        "        file.close()\n",
        "        #X_signals = 6*totalStepNum*128\n",
        "    X_signals = np.transpose(np.array(X_signals), (1, 0, 2))#(totalStepNum*6*128)\n",
        "    return X_signals.reshape(-1,6,128,1)#(totalStepNum*6*128*1)\n",
        "\n",
        "def load_y(y_path):\n",
        "    file = open(y_path, 'r')\n",
        "    # Read dataset from disk, dealing with text file's syntax\n",
        "    y_ = np.array(\n",
        "        [elem for elem in [\n",
        "            row.replace('  ', ' ').strip().split(' ') for row in file\n",
        "        ]],\n",
        "        dtype=np.int32\n",
        "    )\n",
        "    file.close()\n",
        "    # Substract 1 to each output class for friendly 0-based indexing\n",
        "    y_ = y_ - 1\n",
        "    #one_hot\n",
        "    y_ = y_.reshape(len(y_))\n",
        "    n_values = int(np.max(y_)) + 1\n",
        "    return np.eye(n_values)[np.array(y_, dtype=np.int32)]  # Returns FLOATS"
      ],
      "execution_count": 6,
      "outputs": []
    },
    {
      "cell_type": "markdown",
      "metadata": {
        "id": "rpkcGj1OARYb"
      },
      "source": [
        "### Squeeze Excite Block"
      ]
    },
    {
      "cell_type": "code",
      "metadata": {
        "id": "n94Buf0mDnt9"
      },
      "source": [
        "def squeeze_excite_block(tensor, ratio=16):\n",
        "    init = tensor\n",
        "    # channel_axis = 1 if K.image_data_format() == \"channels_first\" else -1\n",
        "    filters = init.shape[-1]\n",
        "    se_shape = (1, filters)\n",
        "\n",
        "    se = GlobalAveragePooling1D()(init)\n",
        "    se = Reshape(se_shape)(se)\n",
        "    se = Dense(filters // ratio, activation='relu', kernel_initializer='he_normal', use_bias=False)(se)\n",
        "    se = Dense(filters, activation='sigmoid', kernel_initializer='he_normal', use_bias=False)(se)\n",
        "\n",
        "    # if K.image_data_format() == 'channels_first':\n",
        "    #     se = Permute((3, 1, 2))(se)\n",
        "\n",
        "    x = multiply([init, se])\n",
        "    return x"
      ],
      "execution_count": 7,
      "outputs": []
    },
    {
      "cell_type": "markdown",
      "metadata": {
        "id": "p46RFa8MSEdq"
      },
      "source": [
        "# Dataset 1"
      ]
    },
    {
      "cell_type": "code",
      "metadata": {
        "id": "UvNWP4P-Dc04",
        "colab": {
          "base_uri": "https://localhost:8080/"
        },
        "outputId": "46a45017-911b-4f88-ae7f-91122ce03598"
      },
      "source": [
        "def MLSTM_FCN():\n",
        "    x = Input(shape=(6, 128))\n",
        "    ip = x\n",
        "    x = Masking()(ip)\n",
        "    x = LSTM(units=8)(x)\n",
        "    x = Dropout(0.8)(x)\n",
        "    y = Permute((2, 1))(ip)\n",
        "    y = Conv1D(128, 8, padding='same', kernel_initializer='he_uniform')(y)\n",
        "    y = BatchNormalization()(y)\n",
        "    y = Activation('relu')(y)\n",
        "    y = squeeze_excite_block(y)\n",
        "    y = Conv1D(256, 5, padding='same', kernel_initializer='he_uniform')(y)\n",
        "    y = BatchNormalization()(y)\n",
        "    y = Activation('relu')(y)\n",
        "    y = squeeze_excite_block(y)\n",
        "    y = Conv1D(128, 3, padding='same', kernel_initializer='he_uniform')(y)\n",
        "    y = BatchNormalization()(y)\n",
        "    y = Activation('relu')(y)\n",
        "    y = GlobalAveragePooling1D()(y)\n",
        "    x = concatenate([x,y])\n",
        "    \n",
        "    out = Dense(118, activation='softmax')(x)\n",
        "    model = Model(ip, out)\n",
        "    model.compile(optimizer=\"adam\", loss=\"categorical_crossentropy\", metrics=\"accuracy\")\n",
        "    model.summary()\n",
        "\n",
        "    return model\n",
        "\n",
        "model = MLSTM_FCN()"
      ],
      "execution_count": 13,
      "outputs": [
        {
          "output_type": "stream",
          "text": [
            "Model: \"model_3\"\n",
            "__________________________________________________________________________________________________\n",
            "Layer (type)                    Output Shape         Param #     Connected to                     \n",
            "==================================================================================================\n",
            "input_4 (InputLayer)            [(None, 6, 128)]     0                                            \n",
            "__________________________________________________________________________________________________\n",
            "permute_3 (Permute)             (None, 128, 6)       0           input_4[0][0]                    \n",
            "__________________________________________________________________________________________________\n",
            "conv1d_9 (Conv1D)               (None, 128, 128)     6272        permute_3[0][0]                  \n",
            "__________________________________________________________________________________________________\n",
            "batch_normalization_9 (BatchNor (None, 128, 128)     512         conv1d_9[0][0]                   \n",
            "__________________________________________________________________________________________________\n",
            "activation_9 (Activation)       (None, 128, 128)     0           batch_normalization_9[0][0]      \n",
            "__________________________________________________________________________________________________\n",
            "global_average_pooling1d_9 (Glo (None, 128)          0           activation_9[0][0]               \n",
            "__________________________________________________________________________________________________\n",
            "reshape_6 (Reshape)             (None, 1, 128)       0           global_average_pooling1d_9[0][0] \n",
            "__________________________________________________________________________________________________\n",
            "dense_15 (Dense)                (None, 1, 8)         1024        reshape_6[0][0]                  \n",
            "__________________________________________________________________________________________________\n",
            "dense_16 (Dense)                (None, 1, 128)       1024        dense_15[0][0]                   \n",
            "__________________________________________________________________________________________________\n",
            "multiply_6 (Multiply)           (None, 128, 128)     0           activation_9[0][0]               \n",
            "                                                                 dense_16[0][0]                   \n",
            "__________________________________________________________________________________________________\n",
            "conv1d_10 (Conv1D)              (None, 128, 256)     164096      multiply_6[0][0]                 \n",
            "__________________________________________________________________________________________________\n",
            "batch_normalization_10 (BatchNo (None, 128, 256)     1024        conv1d_10[0][0]                  \n",
            "__________________________________________________________________________________________________\n",
            "activation_10 (Activation)      (None, 128, 256)     0           batch_normalization_10[0][0]     \n",
            "__________________________________________________________________________________________________\n",
            "global_average_pooling1d_10 (Gl (None, 256)          0           activation_10[0][0]              \n",
            "__________________________________________________________________________________________________\n",
            "reshape_7 (Reshape)             (None, 1, 256)       0           global_average_pooling1d_10[0][0]\n",
            "__________________________________________________________________________________________________\n",
            "dense_17 (Dense)                (None, 1, 16)        4096        reshape_7[0][0]                  \n",
            "__________________________________________________________________________________________________\n",
            "dense_18 (Dense)                (None, 1, 256)       4096        dense_17[0][0]                   \n",
            "__________________________________________________________________________________________________\n",
            "multiply_7 (Multiply)           (None, 128, 256)     0           activation_10[0][0]              \n",
            "                                                                 dense_18[0][0]                   \n",
            "__________________________________________________________________________________________________\n",
            "conv1d_11 (Conv1D)              (None, 128, 128)     98432       multiply_7[0][0]                 \n",
            "__________________________________________________________________________________________________\n",
            "masking_3 (Masking)             (None, 6, 128)       0           input_4[0][0]                    \n",
            "__________________________________________________________________________________________________\n",
            "batch_normalization_11 (BatchNo (None, 128, 128)     512         conv1d_11[0][0]                  \n",
            "__________________________________________________________________________________________________\n",
            "lstm_3 (LSTM)                   (None, 8)            4384        masking_3[0][0]                  \n",
            "__________________________________________________________________________________________________\n",
            "activation_11 (Activation)      (None, 128, 128)     0           batch_normalization_11[0][0]     \n",
            "__________________________________________________________________________________________________\n",
            "dropout_3 (Dropout)             (None, 8)            0           lstm_3[0][0]                     \n",
            "__________________________________________________________________________________________________\n",
            "global_average_pooling1d_11 (Gl (None, 128)          0           activation_11[0][0]              \n",
            "__________________________________________________________________________________________________\n",
            "concatenate_3 (Concatenate)     (None, 136)          0           dropout_3[0][0]                  \n",
            "                                                                 global_average_pooling1d_11[0][0]\n",
            "__________________________________________________________________________________________________\n",
            "dense_19 (Dense)                (None, 118)          16166       concatenate_3[0][0]              \n",
            "==================================================================================================\n",
            "Total params: 301,638\n",
            "Trainable params: 300,614\n",
            "Non-trainable params: 1,024\n",
            "__________________________________________________________________________________________________\n"
          ],
          "name": "stdout"
        }
      ]
    },
    {
      "cell_type": "code",
      "metadata": {
        "id": "OJwPqaXLJL4F"
      },
      "source": [
        "X_train = load_X('/content/drive/Shareddrives/MMH/TIFS20/Dataset #1/train/Inertial Signals')\n",
        "X_test = load_X('/content/drive/Shareddrives/MMH/TIFS20/Dataset #1/test/Inertial Signals')\n",
        "train_label = load_y('/content/drive/Shareddrives/MMH/TIFS20/Dataset #1/train/y_train.txt')\n",
        "test_label = load_y('/content/drive/Shareddrives/MMH/TIFS20/Dataset #1/test/y_test.txt')\n",
        "# X_train = np.reshape(X_train, (X_train.shape[0], X_train.shape[1], X_train.shape[2]))\n",
        "# X_test = np.reshape(X_test, (X_test.shape[0], X_test.shape[1], X_test.shape[2]))\n",
        "history = model.fit(X_train, train_label, validation_split = 0.1, epochs=100, shuffle=True, batch_size=512, callbacks=keras.callbacks.EarlyStopping(monitor='val_loss', patience=50))#, callbacks=[es_callback])\n",
        "plt.plot(history.history['accuracy'])\n",
        "plt.plot(history.history['val_accuracy'])\n",
        "plt.title('model accuracy')\n",
        "plt.ylabel('accuracy')\n",
        "plt.xlabel('epoch')\n",
        "plt.legend(['train', 'val'], loc='upper left')\n",
        "plt.show()\n",
        "\n",
        "plt.plot(history.history['loss'])\n",
        "plt.plot(history.history['val_loss'])\n",
        "plt.title('model loss')\n",
        "plt.ylabel('loss')\n",
        "plt.xlabel('epoch')\n",
        "plt.legend(['train', 'val'], loc='upper left')\n",
        "plt.show()"
      ],
      "execution_count": null,
      "outputs": []
    },
    {
      "cell_type": "code",
      "metadata": {
        "colab": {
          "base_uri": "https://localhost:8080/"
        },
        "id": "3aspXjUTKFKI",
        "outputId": "5fc78694-880b-4eb8-87ab-cb0afac3081e"
      },
      "source": [
        "score = model.evaluate(X_test, test_label, verbose=0)\n",
        "print('Test loss:', score[0])\n",
        "print('Test accuracy:', score[1])"
      ],
      "execution_count": null,
      "outputs": [
        {
          "output_type": "stream",
          "text": [
            "Test loss: 0.6743597388267517\n",
            "Test accuracy: 0.9323529601097107\n"
          ],
          "name": "stdout"
        }
      ]
    },
    {
      "cell_type": "markdown",
      "metadata": {
        "id": "EPyLovijA379"
      },
      "source": [
        "> Accuracy achived: 97.37 (Previous best: 97.33)"
      ]
    },
    {
      "cell_type": "markdown",
      "metadata": {
        "id": "Lg4WGnCBSGex"
      },
      "source": [
        "# Dataset 2"
      ]
    },
    {
      "cell_type": "code",
      "metadata": {
        "colab": {
          "base_uri": "https://localhost:8080/"
        },
        "id": "lTLX3Pi7SlO5",
        "outputId": "5def3923-d216-442f-fac8-db00d980c78a"
      },
      "source": [
        "def MLSTM_FCN():\n",
        "    x = Input(shape=(6, 128))\n",
        "    ip = x\n",
        "    x = Masking()(ip)\n",
        "    x = LSTM(units=8)(x)\n",
        "    x = Dropout(0.8)(x)\n",
        "    y = Permute((2, 1))(ip)\n",
        "    y = Conv1D(128, 8, padding='same', kernel_initializer='he_uniform')(y)\n",
        "    y = BatchNormalization()(y)\n",
        "    y = Activation('relu')(y)\n",
        "    y = squeeze_excite_block(y)\n",
        "    y = Conv1D(256, 5, padding='same', kernel_initializer='he_uniform')(y)\n",
        "    y = BatchNormalization()(y)\n",
        "    y = Activation('relu')(y)\n",
        "    y = squeeze_excite_block(y)\n",
        "    y = Conv1D(128, 3, padding='same', kernel_initializer='he_uniform')(y)\n",
        "    y = BatchNormalization()(y)\n",
        "    y = Activation('relu')(y)\n",
        "    y = GlobalAveragePooling1D()(y)\n",
        "    x = concatenate([x,y])\n",
        "    \n",
        "    out = Dense(20, activation='softmax')(x)\n",
        "    model = Model(ip, out)\n",
        "    model.compile(optimizer=\"adam\", loss=\"categorical_crossentropy\", metrics=\"accuracy\")\n",
        "    model.summary()\n",
        "\n",
        "    return model\n",
        "\n",
        "model = MLSTM_FCN()"
      ],
      "execution_count": 14,
      "outputs": [
        {
          "output_type": "stream",
          "text": [
            "Model: \"model_4\"\n",
            "__________________________________________________________________________________________________\n",
            "Layer (type)                    Output Shape         Param #     Connected to                     \n",
            "==================================================================================================\n",
            "input_5 (InputLayer)            [(None, 6, 128)]     0                                            \n",
            "__________________________________________________________________________________________________\n",
            "permute_4 (Permute)             (None, 128, 6)       0           input_5[0][0]                    \n",
            "__________________________________________________________________________________________________\n",
            "conv1d_12 (Conv1D)              (None, 128, 128)     6272        permute_4[0][0]                  \n",
            "__________________________________________________________________________________________________\n",
            "batch_normalization_12 (BatchNo (None, 128, 128)     512         conv1d_12[0][0]                  \n",
            "__________________________________________________________________________________________________\n",
            "activation_12 (Activation)      (None, 128, 128)     0           batch_normalization_12[0][0]     \n",
            "__________________________________________________________________________________________________\n",
            "global_average_pooling1d_12 (Gl (None, 128)          0           activation_12[0][0]              \n",
            "__________________________________________________________________________________________________\n",
            "reshape_8 (Reshape)             (None, 1, 128)       0           global_average_pooling1d_12[0][0]\n",
            "__________________________________________________________________________________________________\n",
            "dense_20 (Dense)                (None, 1, 8)         1024        reshape_8[0][0]                  \n",
            "__________________________________________________________________________________________________\n",
            "dense_21 (Dense)                (None, 1, 128)       1024        dense_20[0][0]                   \n",
            "__________________________________________________________________________________________________\n",
            "multiply_8 (Multiply)           (None, 128, 128)     0           activation_12[0][0]              \n",
            "                                                                 dense_21[0][0]                   \n",
            "__________________________________________________________________________________________________\n",
            "conv1d_13 (Conv1D)              (None, 128, 256)     164096      multiply_8[0][0]                 \n",
            "__________________________________________________________________________________________________\n",
            "batch_normalization_13 (BatchNo (None, 128, 256)     1024        conv1d_13[0][0]                  \n",
            "__________________________________________________________________________________________________\n",
            "activation_13 (Activation)      (None, 128, 256)     0           batch_normalization_13[0][0]     \n",
            "__________________________________________________________________________________________________\n",
            "global_average_pooling1d_13 (Gl (None, 256)          0           activation_13[0][0]              \n",
            "__________________________________________________________________________________________________\n",
            "reshape_9 (Reshape)             (None, 1, 256)       0           global_average_pooling1d_13[0][0]\n",
            "__________________________________________________________________________________________________\n",
            "dense_22 (Dense)                (None, 1, 16)        4096        reshape_9[0][0]                  \n",
            "__________________________________________________________________________________________________\n",
            "dense_23 (Dense)                (None, 1, 256)       4096        dense_22[0][0]                   \n",
            "__________________________________________________________________________________________________\n",
            "multiply_9 (Multiply)           (None, 128, 256)     0           activation_13[0][0]              \n",
            "                                                                 dense_23[0][0]                   \n",
            "__________________________________________________________________________________________________\n",
            "conv1d_14 (Conv1D)              (None, 128, 128)     98432       multiply_9[0][0]                 \n",
            "__________________________________________________________________________________________________\n",
            "masking_4 (Masking)             (None, 6, 128)       0           input_5[0][0]                    \n",
            "__________________________________________________________________________________________________\n",
            "batch_normalization_14 (BatchNo (None, 128, 128)     512         conv1d_14[0][0]                  \n",
            "__________________________________________________________________________________________________\n",
            "lstm_4 (LSTM)                   (None, 8)            4384        masking_4[0][0]                  \n",
            "__________________________________________________________________________________________________\n",
            "activation_14 (Activation)      (None, 128, 128)     0           batch_normalization_14[0][0]     \n",
            "__________________________________________________________________________________________________\n",
            "dropout_4 (Dropout)             (None, 8)            0           lstm_4[0][0]                     \n",
            "__________________________________________________________________________________________________\n",
            "global_average_pooling1d_14 (Gl (None, 128)          0           activation_14[0][0]              \n",
            "__________________________________________________________________________________________________\n",
            "concatenate_4 (Concatenate)     (None, 136)          0           dropout_4[0][0]                  \n",
            "                                                                 global_average_pooling1d_14[0][0]\n",
            "__________________________________________________________________________________________________\n",
            "dense_24 (Dense)                (None, 20)           2740        concatenate_4[0][0]              \n",
            "==================================================================================================\n",
            "Total params: 288,212\n",
            "Trainable params: 287,188\n",
            "Non-trainable params: 1,024\n",
            "__________________________________________________________________________________________________\n"
          ],
          "name": "stdout"
        }
      ]
    },
    {
      "cell_type": "code",
      "metadata": {
        "id": "CYT3EI-dOr20",
        "colab": {
          "base_uri": "https://localhost:8080/",
          "height": 1000
        },
        "outputId": "f6564f88-120e-45d7-9b31-b80b1bad1ce9"
      },
      "source": [
        "X_train = load_X('/content/drive/Shareddrives/MMH/TIFS20/Dataset #2/train/Inertial Signals')\n",
        "X_test = load_X('/content/drive/Shareddrives/MMH/TIFS20/Dataset #2/test/Inertial Signals')\n",
        "train_label = load_y('/content/drive/Shareddrives/MMH/TIFS20/Dataset #2/train/y_train.txt')\n",
        "test_label = load_y('/content/drive/Shareddrives/MMH/TIFS20/Dataset #2/test/y_test.txt')\n",
        "# X_train = np.reshape(X_train, (X_train.shape[0], X_train.shape[1], X_train.shape[2]))\n",
        "# X_test = np.reshape(X_test, (X_test.shape[0], X_test.shape[1], X_test.shape[2]))\n",
        "history = model.fit(X_train, train_label, validation_split = 0.1, epochs=100, shuffle=True, batch_size=512, callbacks=keras.callbacks.EarlyStopping(monitor='val_loss', patience=50))#, callbacks=[es_callback])\n",
        "plt.plot(history.history['accuracy'])\n",
        "plt.plot(history.history['val_accuracy'])\n",
        "plt.title('model accuracy')\n",
        "plt.ylabel('accuracy')\n",
        "plt.xlabel('epoch')\n",
        "plt.legend(['train', 'val'], loc='upper left')\n",
        "plt.show()\n",
        "\n",
        "plt.plot(history.history['loss'])\n",
        "plt.plot(history.history['val_loss'])\n",
        "plt.title('model loss')\n",
        "plt.ylabel('loss')\n",
        "plt.xlabel('epoch')\n",
        "plt.legend(['train', 'val'], loc='upper left')\n",
        "plt.show()"
      ],
      "execution_count": 15,
      "outputs": [
        {
          "output_type": "stream",
          "text": [
            "Epoch 1/100\n",
            "78/78 [==============================] - 48s 99ms/step - loss: 1.4832 - accuracy: 0.6207 - val_loss: 1.6609 - val_accuracy: 0.4777\n",
            "Epoch 2/100\n",
            "78/78 [==============================] - 6s 73ms/step - loss: 0.1725 - accuracy: 0.9665 - val_loss: 0.8986 - val_accuracy: 0.7709\n",
            "Epoch 3/100\n",
            "78/78 [==============================] - 6s 73ms/step - loss: 0.0790 - accuracy: 0.9838 - val_loss: 0.3074 - val_accuracy: 0.9447\n",
            "Epoch 4/100\n",
            "78/78 [==============================] - 6s 73ms/step - loss: 0.0510 - accuracy: 0.9893 - val_loss: 0.0782 - val_accuracy: 0.9869\n",
            "Epoch 5/100\n",
            "78/78 [==============================] - 6s 74ms/step - loss: 0.0385 - accuracy: 0.9912 - val_loss: 0.0919 - val_accuracy: 0.9743\n",
            "Epoch 6/100\n",
            "78/78 [==============================] - 6s 74ms/step - loss: 0.0306 - accuracy: 0.9924 - val_loss: 0.0423 - val_accuracy: 0.9885\n",
            "Epoch 7/100\n",
            "78/78 [==============================] - 6s 74ms/step - loss: 0.0292 - accuracy: 0.9929 - val_loss: 0.0362 - val_accuracy: 0.9901\n",
            "Epoch 8/100\n",
            "78/78 [==============================] - 6s 74ms/step - loss: 0.0217 - accuracy: 0.9950 - val_loss: 0.0370 - val_accuracy: 0.9892\n",
            "Epoch 9/100\n",
            "78/78 [==============================] - 6s 74ms/step - loss: 0.0243 - accuracy: 0.9941 - val_loss: 0.0270 - val_accuracy: 0.9937\n",
            "Epoch 10/100\n",
            "78/78 [==============================] - 6s 73ms/step - loss: 0.0180 - accuracy: 0.9959 - val_loss: 0.0289 - val_accuracy: 0.9917\n",
            "Epoch 11/100\n",
            "78/78 [==============================] - 6s 73ms/step - loss: 0.0361 - accuracy: 0.9904 - val_loss: 0.0230 - val_accuracy: 0.9935\n",
            "Epoch 12/100\n",
            "78/78 [==============================] - 6s 73ms/step - loss: 0.0160 - accuracy: 0.9958 - val_loss: 0.0295 - val_accuracy: 0.9921\n",
            "Epoch 13/100\n",
            "78/78 [==============================] - 6s 73ms/step - loss: 0.0137 - accuracy: 0.9963 - val_loss: 0.0317 - val_accuracy: 0.9908\n",
            "Epoch 14/100\n",
            "78/78 [==============================] - 6s 72ms/step - loss: 0.0135 - accuracy: 0.9964 - val_loss: 0.0267 - val_accuracy: 0.9908\n",
            "Epoch 15/100\n",
            "78/78 [==============================] - 6s 73ms/step - loss: 0.0122 - accuracy: 0.9965 - val_loss: 0.0239 - val_accuracy: 0.9928\n",
            "Epoch 16/100\n",
            "78/78 [==============================] - 6s 73ms/step - loss: 0.0107 - accuracy: 0.9969 - val_loss: 0.0242 - val_accuracy: 0.9930\n",
            "Epoch 17/100\n",
            "78/78 [==============================] - 6s 73ms/step - loss: 0.0117 - accuracy: 0.9965 - val_loss: 0.0209 - val_accuracy: 0.9950\n",
            "Epoch 18/100\n",
            "78/78 [==============================] - 6s 73ms/step - loss: 0.0126 - accuracy: 0.9960 - val_loss: 0.0227 - val_accuracy: 0.9932\n",
            "Epoch 19/100\n",
            "78/78 [==============================] - 6s 73ms/step - loss: 0.0076 - accuracy: 0.9981 - val_loss: 0.0189 - val_accuracy: 0.9939\n",
            "Epoch 20/100\n",
            "78/78 [==============================] - 6s 73ms/step - loss: 0.0066 - accuracy: 0.9986 - val_loss: 0.0312 - val_accuracy: 0.9905\n",
            "Epoch 21/100\n",
            "78/78 [==============================] - 6s 73ms/step - loss: 0.0106 - accuracy: 0.9968 - val_loss: 0.0177 - val_accuracy: 0.9946\n",
            "Epoch 22/100\n",
            "78/78 [==============================] - 6s 73ms/step - loss: 0.0071 - accuracy: 0.9980 - val_loss: 0.0168 - val_accuracy: 0.9959\n",
            "Epoch 23/100\n",
            "78/78 [==============================] - 6s 73ms/step - loss: 0.0084 - accuracy: 0.9973 - val_loss: 0.0178 - val_accuracy: 0.9946\n",
            "Epoch 24/100\n",
            "78/78 [==============================] - 6s 74ms/step - loss: 0.0062 - accuracy: 0.9985 - val_loss: 0.0186 - val_accuracy: 0.9946\n",
            "Epoch 25/100\n",
            "78/78 [==============================] - 6s 73ms/step - loss: 0.0064 - accuracy: 0.9980 - val_loss: 0.0214 - val_accuracy: 0.9944\n",
            "Epoch 26/100\n",
            "78/78 [==============================] - 6s 73ms/step - loss: 0.0064 - accuracy: 0.9981 - val_loss: 0.0136 - val_accuracy: 0.9959\n",
            "Epoch 27/100\n",
            "78/78 [==============================] - 6s 74ms/step - loss: 0.0036 - accuracy: 0.9991 - val_loss: 0.0201 - val_accuracy: 0.9941\n",
            "Epoch 28/100\n",
            "78/78 [==============================] - 6s 73ms/step - loss: 0.0080 - accuracy: 0.9976 - val_loss: 0.0461 - val_accuracy: 0.9880\n",
            "Epoch 29/100\n",
            "78/78 [==============================] - 6s 73ms/step - loss: 0.0064 - accuracy: 0.9979 - val_loss: 0.0239 - val_accuracy: 0.9919\n",
            "Epoch 30/100\n",
            "78/78 [==============================] - 6s 73ms/step - loss: 0.0050 - accuracy: 0.9985 - val_loss: 0.0253 - val_accuracy: 0.9935\n",
            "Epoch 31/100\n",
            "78/78 [==============================] - 6s 73ms/step - loss: 0.0043 - accuracy: 0.9987 - val_loss: 0.0158 - val_accuracy: 0.9946\n",
            "Epoch 32/100\n",
            "78/78 [==============================] - 6s 73ms/step - loss: 0.0041 - accuracy: 0.9989 - val_loss: 0.0147 - val_accuracy: 0.9971\n",
            "Epoch 33/100\n",
            "78/78 [==============================] - 6s 73ms/step - loss: 0.0049 - accuracy: 0.9986 - val_loss: 0.0175 - val_accuracy: 0.9957\n",
            "Epoch 34/100\n",
            "78/78 [==============================] - 6s 73ms/step - loss: 0.0044 - accuracy: 0.9985 - val_loss: 0.0140 - val_accuracy: 0.9968\n",
            "Epoch 35/100\n",
            "78/78 [==============================] - 6s 73ms/step - loss: 0.0041 - accuracy: 0.9987 - val_loss: 0.0152 - val_accuracy: 0.9959\n",
            "Epoch 36/100\n",
            "78/78 [==============================] - 6s 73ms/step - loss: 0.0032 - accuracy: 0.9992 - val_loss: 0.0160 - val_accuracy: 0.9953\n",
            "Epoch 37/100\n",
            "78/78 [==============================] - 6s 73ms/step - loss: 0.0034 - accuracy: 0.9991 - val_loss: 0.0118 - val_accuracy: 0.9971\n",
            "Epoch 38/100\n",
            "78/78 [==============================] - 6s 73ms/step - loss: 0.0025 - accuracy: 0.9996 - val_loss: 0.0169 - val_accuracy: 0.9966\n",
            "Epoch 39/100\n",
            "78/78 [==============================] - 6s 74ms/step - loss: 0.0037 - accuracy: 0.9992 - val_loss: 0.0208 - val_accuracy: 0.9948\n",
            "Epoch 40/100\n",
            "78/78 [==============================] - 6s 73ms/step - loss: 0.0041 - accuracy: 0.9986 - val_loss: 0.0271 - val_accuracy: 0.9930\n",
            "Epoch 41/100\n",
            "78/78 [==============================] - 6s 73ms/step - loss: 0.0028 - accuracy: 0.9993 - val_loss: 0.0130 - val_accuracy: 0.9964\n",
            "Epoch 42/100\n",
            "78/78 [==============================] - 6s 73ms/step - loss: 0.0024 - accuracy: 0.9994 - val_loss: 0.0144 - val_accuracy: 0.9968\n",
            "Epoch 43/100\n",
            "78/78 [==============================] - 6s 74ms/step - loss: 0.0030 - accuracy: 0.9992 - val_loss: 0.0125 - val_accuracy: 0.9971\n",
            "Epoch 44/100\n",
            "78/78 [==============================] - 6s 73ms/step - loss: 0.0024 - accuracy: 0.9994 - val_loss: 0.0126 - val_accuracy: 0.9971\n",
            "Epoch 45/100\n",
            "78/78 [==============================] - 6s 73ms/step - loss: 0.0014 - accuracy: 0.9997 - val_loss: 0.0175 - val_accuracy: 0.9950\n",
            "Epoch 46/100\n",
            "78/78 [==============================] - 6s 73ms/step - loss: 0.0059 - accuracy: 0.9985 - val_loss: 0.0166 - val_accuracy: 0.9959\n",
            "Epoch 47/100\n",
            "78/78 [==============================] - 6s 73ms/step - loss: 0.0037 - accuracy: 0.9993 - val_loss: 0.0246 - val_accuracy: 0.9944\n",
            "Epoch 48/100\n",
            "78/78 [==============================] - 6s 74ms/step - loss: 0.0046 - accuracy: 0.9991 - val_loss: 0.0757 - val_accuracy: 0.9783\n",
            "Epoch 49/100\n",
            "78/78 [==============================] - 6s 74ms/step - loss: 0.0049 - accuracy: 0.9990 - val_loss: 0.0138 - val_accuracy: 0.9959\n",
            "Epoch 50/100\n",
            "78/78 [==============================] - 6s 74ms/step - loss: 0.0021 - accuracy: 0.9994 - val_loss: 0.0265 - val_accuracy: 0.9923\n",
            "Epoch 51/100\n",
            "78/78 [==============================] - 6s 74ms/step - loss: 0.0042 - accuracy: 0.9991 - val_loss: 0.0139 - val_accuracy: 0.9971\n",
            "Epoch 52/100\n",
            "78/78 [==============================] - 6s 75ms/step - loss: 0.0017 - accuracy: 0.9997 - val_loss: 0.0146 - val_accuracy: 0.9971\n",
            "Epoch 53/100\n",
            "78/78 [==============================] - 6s 74ms/step - loss: 0.0011 - accuracy: 0.9997 - val_loss: 0.0118 - val_accuracy: 0.9964\n",
            "Epoch 54/100\n",
            "78/78 [==============================] - 6s 74ms/step - loss: 0.0024 - accuracy: 0.9994 - val_loss: 0.0132 - val_accuracy: 0.9964\n",
            "Epoch 55/100\n",
            "78/78 [==============================] - 6s 74ms/step - loss: 0.0012 - accuracy: 0.9998 - val_loss: 0.0147 - val_accuracy: 0.9962\n",
            "Epoch 56/100\n",
            "78/78 [==============================] - 6s 74ms/step - loss: 0.0017 - accuracy: 0.9996 - val_loss: 0.0170 - val_accuracy: 0.9964\n",
            "Epoch 57/100\n",
            "78/78 [==============================] - 6s 74ms/step - loss: 0.0027 - accuracy: 0.9992 - val_loss: 0.0144 - val_accuracy: 0.9955\n",
            "Epoch 58/100\n",
            "78/78 [==============================] - 6s 74ms/step - loss: 0.0028 - accuracy: 0.9992 - val_loss: 0.0175 - val_accuracy: 0.9964\n",
            "Epoch 59/100\n",
            "78/78 [==============================] - 6s 75ms/step - loss: 0.0021 - accuracy: 0.9997 - val_loss: 0.0116 - val_accuracy: 0.9966\n",
            "Epoch 60/100\n",
            "78/78 [==============================] - 6s 74ms/step - loss: 0.0011 - accuracy: 0.9997 - val_loss: 0.0165 - val_accuracy: 0.9964\n",
            "Epoch 61/100\n",
            "78/78 [==============================] - 6s 74ms/step - loss: 0.0012 - accuracy: 0.9997 - val_loss: 0.0192 - val_accuracy: 0.9950\n",
            "Epoch 62/100\n",
            "78/78 [==============================] - 6s 74ms/step - loss: 0.0043 - accuracy: 0.9990 - val_loss: 0.0194 - val_accuracy: 0.9957\n",
            "Epoch 63/100\n",
            "78/78 [==============================] - 6s 75ms/step - loss: 0.0033 - accuracy: 0.9991 - val_loss: 0.0179 - val_accuracy: 0.9964\n",
            "Epoch 64/100\n",
            "78/78 [==============================] - 6s 74ms/step - loss: 0.0013 - accuracy: 0.9997 - val_loss: 0.0132 - val_accuracy: 0.9968\n",
            "Epoch 65/100\n",
            "78/78 [==============================] - 6s 74ms/step - loss: 0.0011 - accuracy: 0.9997 - val_loss: 0.0241 - val_accuracy: 0.9957\n",
            "Epoch 66/100\n",
            "78/78 [==============================] - 6s 74ms/step - loss: 8.1514e-04 - accuracy: 0.9999 - val_loss: 0.0267 - val_accuracy: 0.9937\n",
            "Epoch 67/100\n",
            "78/78 [==============================] - 6s 74ms/step - loss: 5.7255e-04 - accuracy: 0.9999 - val_loss: 0.0124 - val_accuracy: 0.9971\n",
            "Epoch 68/100\n",
            "78/78 [==============================] - 6s 74ms/step - loss: 5.3975e-04 - accuracy: 0.9998 - val_loss: 0.0144 - val_accuracy: 0.9973\n",
            "Epoch 69/100\n",
            "78/78 [==============================] - 6s 74ms/step - loss: 3.8642e-04 - accuracy: 0.9999 - val_loss: 0.0136 - val_accuracy: 0.9975\n",
            "Epoch 70/100\n",
            "78/78 [==============================] - 6s 74ms/step - loss: 4.3501e-04 - accuracy: 0.9999 - val_loss: 0.0132 - val_accuracy: 0.9966\n",
            "Epoch 71/100\n",
            "78/78 [==============================] - 6s 74ms/step - loss: 4.3536e-04 - accuracy: 1.0000 - val_loss: 0.0128 - val_accuracy: 0.9973\n",
            "Epoch 72/100\n",
            "78/78 [==============================] - 6s 74ms/step - loss: 1.5848e-04 - accuracy: 1.0000 - val_loss: 0.0122 - val_accuracy: 0.9973\n",
            "Epoch 73/100\n",
            "78/78 [==============================] - 6s 74ms/step - loss: 3.7654e-04 - accuracy: 0.9999 - val_loss: 0.0123 - val_accuracy: 0.9968\n",
            "Epoch 74/100\n",
            "78/78 [==============================] - 6s 74ms/step - loss: 3.9452e-04 - accuracy: 0.9999 - val_loss: 0.0128 - val_accuracy: 0.9973\n",
            "Epoch 75/100\n",
            "78/78 [==============================] - 6s 74ms/step - loss: 1.4977e-04 - accuracy: 1.0000 - val_loss: 0.0118 - val_accuracy: 0.9975\n",
            "Epoch 76/100\n",
            "78/78 [==============================] - 6s 74ms/step - loss: 1.7215e-04 - accuracy: 1.0000 - val_loss: 0.0129 - val_accuracy: 0.9975\n",
            "Epoch 77/100\n",
            "78/78 [==============================] - 6s 74ms/step - loss: 1.8523e-04 - accuracy: 1.0000 - val_loss: 0.0134 - val_accuracy: 0.9973\n",
            "Epoch 78/100\n",
            "78/78 [==============================] - 6s 74ms/step - loss: 1.4723e-04 - accuracy: 1.0000 - val_loss: 0.0180 - val_accuracy: 0.9964\n",
            "Epoch 79/100\n",
            "78/78 [==============================] - 6s 74ms/step - loss: 0.0093 - accuracy: 0.9973 - val_loss: 0.5723 - val_accuracy: 0.8719\n",
            "Epoch 80/100\n",
            "78/78 [==============================] - 6s 74ms/step - loss: 0.0096 - accuracy: 0.9969 - val_loss: 0.0714 - val_accuracy: 0.9788\n",
            "Epoch 81/100\n",
            "78/78 [==============================] - 6s 74ms/step - loss: 0.0050 - accuracy: 0.9989 - val_loss: 0.0449 - val_accuracy: 0.9871\n",
            "Epoch 82/100\n",
            "78/78 [==============================] - 6s 74ms/step - loss: 0.0040 - accuracy: 0.9991 - val_loss: 0.0158 - val_accuracy: 0.9959\n",
            "Epoch 83/100\n",
            "78/78 [==============================] - 6s 74ms/step - loss: 9.2977e-04 - accuracy: 0.9999 - val_loss: 0.0179 - val_accuracy: 0.9957\n",
            "Epoch 84/100\n",
            "78/78 [==============================] - 6s 74ms/step - loss: 8.8071e-04 - accuracy: 0.9998 - val_loss: 0.0132 - val_accuracy: 0.9971\n",
            "Epoch 85/100\n",
            "78/78 [==============================] - 6s 74ms/step - loss: 2.5346e-04 - accuracy: 1.0000 - val_loss: 0.0126 - val_accuracy: 0.9971\n",
            "Epoch 86/100\n",
            "78/78 [==============================] - 6s 74ms/step - loss: 3.0902e-04 - accuracy: 0.9999 - val_loss: 0.0134 - val_accuracy: 0.9966\n",
            "Epoch 87/100\n",
            "78/78 [==============================] - 6s 74ms/step - loss: 2.4571e-04 - accuracy: 1.0000 - val_loss: 0.0129 - val_accuracy: 0.9971\n",
            "Epoch 88/100\n",
            "78/78 [==============================] - 6s 74ms/step - loss: 1.8680e-04 - accuracy: 1.0000 - val_loss: 0.0135 - val_accuracy: 0.9971\n",
            "Epoch 89/100\n",
            "78/78 [==============================] - 6s 74ms/step - loss: 1.6751e-04 - accuracy: 1.0000 - val_loss: 0.0137 - val_accuracy: 0.9971\n",
            "Epoch 90/100\n",
            "78/78 [==============================] - 6s 74ms/step - loss: 1.1018e-04 - accuracy: 1.0000 - val_loss: 0.0133 - val_accuracy: 0.9975\n",
            "Epoch 91/100\n",
            "78/78 [==============================] - 6s 74ms/step - loss: 1.7944e-04 - accuracy: 1.0000 - val_loss: 0.0144 - val_accuracy: 0.9971\n",
            "Epoch 92/100\n",
            "78/78 [==============================] - 6s 74ms/step - loss: 2.5558e-04 - accuracy: 0.9999 - val_loss: 0.0134 - val_accuracy: 0.9973\n",
            "Epoch 93/100\n",
            "78/78 [==============================] - 6s 74ms/step - loss: 5.3427e-04 - accuracy: 0.9999 - val_loss: 0.0150 - val_accuracy: 0.9964\n",
            "Epoch 94/100\n",
            "78/78 [==============================] - 6s 74ms/step - loss: 3.4715e-04 - accuracy: 1.0000 - val_loss: 0.0154 - val_accuracy: 0.9968\n",
            "Epoch 95/100\n",
            "78/78 [==============================] - 6s 73ms/step - loss: 1.9609e-04 - accuracy: 1.0000 - val_loss: 0.0137 - val_accuracy: 0.9973\n",
            "Epoch 96/100\n",
            "78/78 [==============================] - 6s 74ms/step - loss: 8.1639e-04 - accuracy: 0.9998 - val_loss: 0.0123 - val_accuracy: 0.9971\n",
            "Epoch 97/100\n",
            "78/78 [==============================] - 6s 74ms/step - loss: 9.6504e-04 - accuracy: 0.9998 - val_loss: 5.7727 - val_accuracy: 0.4869\n",
            "Epoch 98/100\n",
            "78/78 [==============================] - 6s 74ms/step - loss: 0.0110 - accuracy: 0.9972 - val_loss: 0.0428 - val_accuracy: 0.9892\n",
            "Epoch 99/100\n",
            "78/78 [==============================] - 6s 73ms/step - loss: 0.0043 - accuracy: 0.9988 - val_loss: 0.0172 - val_accuracy: 0.9959\n",
            "Epoch 100/100\n",
            "78/78 [==============================] - 6s 73ms/step - loss: 0.0011 - accuracy: 0.9997 - val_loss: 0.0156 - val_accuracy: 0.9966\n"
          ],
          "name": "stdout"
        },
        {
          "output_type": "display_data",
          "data": {
            "image/png": "[encoded data removed]",
            "text/plain": [
              "<Figure size 432x288 with 1 Axes>"
            ]
          },
          "metadata": {
            "tags": [],
            "needs_background": "light"
          }
        },
        {
          "output_type": "display_data",
          "data": {
            "image/png": "[encoded data removed]",
            "text/plain": [
              "<Figure size 432x288 with 1 Axes>"
            ]
          },
          "metadata": {
            "tags": [],
            "needs_background": "light"
          }
        }
      ]
    },
    {
      "cell_type": "code",
      "metadata": {
        "colab": {
          "base_uri": "https://localhost:8080/"
        },
        "id": "po99WWj3UJtV",
        "outputId": "6b4caaea-5a0e-4322-aa7d-4cccedaa3eef"
      },
      "source": [
        "score = model.evaluate(X_test, test_label, verbose=0)\n",
        "print('Test loss:', score[0])\n",
        "print('Test accuracy:', score[1])"
      ],
      "execution_count": 16,
      "outputs": [
        {
          "output_type": "stream",
          "text": [
            "Test loss: 0.22146883606910706\n",
            "Test accuracy: 0.9736629128456116\n"
          ],
          "name": "stdout"
        }
      ]
    },
    {
      "cell_type": "markdown",
      "metadata": {
        "id": "IvNen2XQTmiX"
      },
      "source": [
        "### Now it's Time for Keras Tuner!\n",
        "\n",
        "As we couldn't beat the dataset 2, so we tuned the hyperparameters."
      ]
    },
    {
      "cell_type": "code",
      "metadata": {
        "id": "0HdX83s4ZUhe"
      },
      "source": [
        "X_train = load_X('/content/drive/Shareddrives/MMH/TIFS20/Dataset #1/train/Inertial Signals')\n",
        "X_test = load_X('/content/drive/Shareddrives/MMH/TIFS20/Dataset #1/test/Inertial Signals')\n",
        "train_label = load_y('/content/drive/Shareddrives/MMH/TIFS20/Dataset #1/train/y_train.txt')\n",
        "test_label = load_y('/content/drive/Shareddrives/MMH/TIFS20/Dataset #1/test/y_test.txt')"
      ],
      "execution_count": 55,
      "outputs": []
    },
    {
      "cell_type": "code",
      "metadata": {
        "id": "ESDnkwdjNZxr"
      },
      "source": [
        "def MLSTM_FCN_tuned(hp):\n",
        "    ip = Input(shape=(6, 128))\n",
        "    x = Masking()(ip)\n",
        "    x = LSTM(units=8)(x)\n",
        "    x = Dropout(0.8)(x)\n",
        "    y = Permute((2, 1))(ip)\n",
        "    y = Conv1D(128, 8, padding='same', kernel_initializer='he_uniform')(y)\n",
        "    y = BatchNormalization()(y)\n",
        "    y = Activation('relu')(y)\n",
        "    y = squeeze_excite_block(y)\n",
        "    y = Conv1D(256, 5, padding='same', kernel_initializer='he_uniform')(y)\n",
        "    y = BatchNormalization()(y)\n",
        "    y = Activation('relu')(y)\n",
        "    y = squeeze_excite_block(y)\n",
        "    y = Conv1D(128, 3, padding='same', kernel_initializer='he_uniform')(y)\n",
        "    y = BatchNormalization()(y)\n",
        "    y = Activation('relu')(y)\n",
        "    y = GlobalAveragePooling1D()(y)\n",
        "    x = concatenate([x,y])\n",
        "    \n",
        "    out = Dense(118, activation='softmax')(x)\n",
        "    model = Model(ip, out)\n",
        "    model.compile(optimizer=keras.optimizers.Adam(hp.Choice('learning_rate', values=[1e-1, 1e-2, 1e-3, 3*1e-1, 3*1e-2, 3*1e-3, 3*1e-4, 1e-4, 1.0])), \\\n",
        "                  loss='categorical_crossentropy',metrics=['accuracy'])\n",
        "    # model.summary()\n",
        "\n",
        "    return model"
      ],
      "execution_count": 56,
      "outputs": []
    },
    {
      "cell_type": "code",
      "metadata": {
        "colab": {
          "base_uri": "https://localhost:8080/"
        },
        "id": "QconOdjPXGuk",
        "outputId": "4071981f-da55-49f6-97d2-610b5c76316f"
      },
      "source": [
        "tuner = kt.tuners.RandomSearch(\n",
        "    MLSTM_FCN_tuned,\n",
        "    objective='val_accuracy',\n",
        "    max_trials=10,\n",
        "    directory='output',\n",
        "    project_name='MLSTM_FCN')\n",
        "\n",
        "tuner.search(X_train, train_label, epochs=100, validation_split=0.1, callbacks=[tensorflow.keras.callbacks.EarlyStopping(monitor='val_loss', patience=30)])"
      ],
      "execution_count": 57,
      "outputs": [
        {
          "output_type": "stream",
          "text": [
            "Trial 10 Complete [00h 19m 23s]\n",
            "val_accuracy: 0.99516761302948\n",
            "\n",
            "Best val_accuracy So Far: 0.9966777563095093\n",
            "Total elapsed time: 02h 15m 32s\n",
            "INFO:tensorflow:Oracle triggered exit\n"
          ],
          "name": "stdout"
        }
      ]
    },
    {
      "cell_type": "code",
      "metadata": {
        "colab": {
          "base_uri": "https://localhost:8080/"
        },
        "id": "5liuc1FKYXJc",
        "outputId": "ef3615d9-1c70-4dbe-e2fd-fcbcb4030f48"
      },
      "source": [
        "model = tuner.get_best_models(num_models=1)[0]\n",
        "model.summary()"
      ],
      "execution_count": 58,
      "outputs": [
        {
          "output_type": "stream",
          "text": [
            "Model: \"model\"\n",
            "__________________________________________________________________________________________________\n",
            "Layer (type)                    Output Shape         Param #     Connected to                     \n",
            "==================================================================================================\n",
            "input_1 (InputLayer)            [(None, 6, 128)]     0                                            \n",
            "__________________________________________________________________________________________________\n",
            "permute (Permute)               (None, 128, 6)       0           input_1[0][0]                    \n",
            "__________________________________________________________________________________________________\n",
            "conv1d (Conv1D)                 (None, 128, 128)     6272        permute[0][0]                    \n",
            "__________________________________________________________________________________________________\n",
            "batch_normalization (BatchNorma (None, 128, 128)     512         conv1d[0][0]                     \n",
            "__________________________________________________________________________________________________\n",
            "activation (Activation)         (None, 128, 128)     0           batch_normalization[0][0]        \n",
            "__________________________________________________________________________________________________\n",
            "global_average_pooling1d (Globa (None, 128)          0           activation[0][0]                 \n",
            "__________________________________________________________________________________________________\n",
            "reshape (Reshape)               (None, 1, 128)       0           global_average_pooling1d[0][0]   \n",
            "__________________________________________________________________________________________________\n",
            "dense (Dense)                   (None, 1, 8)         1024        reshape[0][0]                    \n",
            "__________________________________________________________________________________________________\n",
            "dense_1 (Dense)                 (None, 1, 128)       1024        dense[0][0]                      \n",
            "__________________________________________________________________________________________________\n",
            "multiply (Multiply)             (None, 128, 128)     0           activation[0][0]                 \n",
            "                                                                 dense_1[0][0]                    \n",
            "__________________________________________________________________________________________________\n",
            "conv1d_1 (Conv1D)               (None, 128, 256)     164096      multiply[0][0]                   \n",
            "__________________________________________________________________________________________________\n",
            "batch_normalization_1 (BatchNor (None, 128, 256)     1024        conv1d_1[0][0]                   \n",
            "__________________________________________________________________________________________________\n",
            "activation_1 (Activation)       (None, 128, 256)     0           batch_normalization_1[0][0]      \n",
            "__________________________________________________________________________________________________\n",
            "global_average_pooling1d_1 (Glo (None, 256)          0           activation_1[0][0]               \n",
            "__________________________________________________________________________________________________\n",
            "reshape_1 (Reshape)             (None, 1, 256)       0           global_average_pooling1d_1[0][0] \n",
            "__________________________________________________________________________________________________\n",
            "dense_2 (Dense)                 (None, 1, 16)        4096        reshape_1[0][0]                  \n",
            "__________________________________________________________________________________________________\n",
            "dense_3 (Dense)                 (None, 1, 256)       4096        dense_2[0][0]                    \n",
            "__________________________________________________________________________________________________\n",
            "multiply_1 (Multiply)           (None, 128, 256)     0           activation_1[0][0]               \n",
            "                                                                 dense_3[0][0]                    \n",
            "__________________________________________________________________________________________________\n",
            "conv1d_2 (Conv1D)               (None, 128, 128)     98432       multiply_1[0][0]                 \n",
            "__________________________________________________________________________________________________\n",
            "masking (Masking)               (None, 6, 128)       0           input_1[0][0]                    \n",
            "__________________________________________________________________________________________________\n",
            "batch_normalization_2 (BatchNor (None, 128, 128)     512         conv1d_2[0][0]                   \n",
            "__________________________________________________________________________________________________\n",
            "lstm (LSTM)                     (None, 8)            4384        masking[0][0]                    \n",
            "__________________________________________________________________________________________________\n",
            "activation_2 (Activation)       (None, 128, 128)     0           batch_normalization_2[0][0]      \n",
            "__________________________________________________________________________________________________\n",
            "dropout (Dropout)               (None, 8)            0           lstm[0][0]                       \n",
            "__________________________________________________________________________________________________\n",
            "global_average_pooling1d_2 (Glo (None, 128)          0           activation_2[0][0]               \n",
            "__________________________________________________________________________________________________\n",
            "concatenate (Concatenate)       (None, 136)          0           dropout[0][0]                    \n",
            "                                                                 global_average_pooling1d_2[0][0] \n",
            "__________________________________________________________________________________________________\n",
            "dense_4 (Dense)                 (None, 118)          16166       concatenate[0][0]                \n",
            "==================================================================================================\n",
            "Total params: 301,638\n",
            "Trainable params: 300,614\n",
            "Non-trainable params: 1,024\n",
            "__________________________________________________________________________________________________\n"
          ],
          "name": "stdout"
        }
      ]
    },
    {
      "cell_type": "code",
      "metadata": {
        "colab": {
          "base_uri": "https://localhost:8080/"
        },
        "id": "qR_UkvyKlTG2",
        "outputId": "368dd096-d854-4169-96c1-0016c47383b1"
      },
      "source": [
        "best_hyperparameters = tuner.get_best_hyperparameters(1)[0]\n",
        "best_hyperparameters"
      ],
      "execution_count": 62,
      "outputs": [
        {
          "output_type": "execute_result",
          "data": {
            "text/plain": [
              "<keras_tuner.engine.hyperparameters.HyperParameters at 0x7f8c619db110>"
            ]
          },
          "metadata": {
            "tags": []
          },
          "execution_count": 62
        }
      ]
    },
    {
      "cell_type": "code",
      "metadata": {
        "id": "e4jOeTICoWtg",
        "colab": {
          "base_uri": "https://localhost:8080/"
        },
        "outputId": "ca1349e4-df4c-4583-8470-a83d70b1befe"
      },
      "source": [
        "model.save('/content/drive/Shareddrives/MMH/models/MLSTM_FCN_tuned.h5')"
      ],
      "execution_count": 63,
      "outputs": [
        {
          "output_type": "stream",
          "text": [
            "/usr/local/lib/python3.7/dist-packages/tensorflow/python/keras/utils/generic_utils.py:497: CustomMaskWarning: Custom mask layers require a config and must override get_config. When loading, the custom mask layer must be passed to the custom_objects argument.\n",
            "  category=CustomMaskWarning)\n"
          ],
          "name": "stderr"
        }
      ]
    },
    {
      "cell_type": "code",
      "metadata": {
        "colab": {
          "base_uri": "https://localhost:8080/",
          "height": 1000
        },
        "id": "QHQvhsw7Y6NN",
        "outputId": "5c6bfa0a-4ef2-4d14-b357-6d890c7d7ecc"
      },
      "source": [
        "history = model.fit(X_train, train_label, validation_split = 0.1, epochs=100, shuffle=True, batch_size=512, callbacks=tensorflow.keras.callbacks.EarlyStopping(monitor='val_loss', patience=50))#, callbacks=[es_callback])\n",
        "plt.plot(history.history['accuracy'])\n",
        "plt.plot(history.history['val_accuracy'])\n",
        "plt.title('model accuracy')\n",
        "plt.ylabel('accuracy')\n",
        "plt.xlabel('epoch')\n",
        "plt.legend(['train', 'val'], loc='upper left')\n",
        "plt.show()\n",
        "\n",
        "plt.plot(history.history['loss'])\n",
        "plt.plot(history.history['val_loss'])\n",
        "plt.title('model loss')\n",
        "plt.ylabel('loss')\n",
        "plt.xlabel('epoch')\n",
        "plt.legend(['train', 'val'], loc='upper left')\n",
        "plt.show()"
      ],
      "execution_count": 64,
      "outputs": [
        {
          "output_type": "stream",
          "text": [
            "Epoch 1/100\n",
            "59/59 [==============================] - 10s 96ms/step - loss: 0.0016 - accuracy: 0.9996 - val_loss: 0.0306 - val_accuracy: 0.9949\n",
            "Epoch 2/100\n",
            "59/59 [==============================] - 4s 73ms/step - loss: 7.5259e-04 - accuracy: 0.9998 - val_loss: 0.0252 - val_accuracy: 0.9964\n",
            "Epoch 3/100\n",
            "59/59 [==============================] - 4s 73ms/step - loss: 5.8160e-04 - accuracy: 0.9998 - val_loss: 0.0240 - val_accuracy: 0.9967\n",
            "Epoch 4/100\n",
            "59/59 [==============================] - 4s 73ms/step - loss: 4.7363e-04 - accuracy: 0.9999 - val_loss: 0.0235 - val_accuracy: 0.9964\n",
            "Epoch 5/100\n",
            "59/59 [==============================] - 4s 74ms/step - loss: 3.9967e-04 - accuracy: 0.9999 - val_loss: 0.0233 - val_accuracy: 0.9964\n",
            "Epoch 6/100\n",
            "59/59 [==============================] - 4s 74ms/step - loss: 4.3300e-04 - accuracy: 0.9999 - val_loss: 0.0231 - val_accuracy: 0.9964\n",
            "Epoch 7/100\n",
            "59/59 [==============================] - 4s 74ms/step - loss: 3.2105e-04 - accuracy: 0.9999 - val_loss: 0.0230 - val_accuracy: 0.9964\n",
            "Epoch 8/100\n",
            "59/59 [==============================] - 4s 73ms/step - loss: 2.8652e-04 - accuracy: 0.9999 - val_loss: 0.0229 - val_accuracy: 0.9964\n",
            "Epoch 9/100\n",
            "59/59 [==============================] - 4s 74ms/step - loss: 2.6944e-04 - accuracy: 0.9999 - val_loss: 0.0229 - val_accuracy: 0.9964\n",
            "Epoch 10/100\n",
            "59/59 [==============================] - 4s 73ms/step - loss: 2.5390e-04 - accuracy: 0.9999 - val_loss: 0.0229 - val_accuracy: 0.9964\n",
            "Epoch 11/100\n",
            "59/59 [==============================] - 4s 73ms/step - loss: 2.9133e-04 - accuracy: 0.9999 - val_loss: 0.0228 - val_accuracy: 0.9967\n",
            "Epoch 12/100\n",
            "59/59 [==============================] - 4s 72ms/step - loss: 2.3184e-04 - accuracy: 1.0000 - val_loss: 0.0228 - val_accuracy: 0.9967\n",
            "Epoch 13/100\n",
            "59/59 [==============================] - 4s 72ms/step - loss: 2.1118e-04 - accuracy: 0.9999 - val_loss: 0.0227 - val_accuracy: 0.9967\n",
            "Epoch 14/100\n",
            "59/59 [==============================] - 4s 72ms/step - loss: 1.8590e-04 - accuracy: 0.9999 - val_loss: 0.0227 - val_accuracy: 0.9967\n",
            "Epoch 15/100\n",
            "59/59 [==============================] - 4s 73ms/step - loss: 2.3677e-04 - accuracy: 0.9999 - val_loss: 0.0229 - val_accuracy: 0.9967\n",
            "Epoch 16/100\n",
            "59/59 [==============================] - 4s 72ms/step - loss: 2.0234e-04 - accuracy: 1.0000 - val_loss: 0.0228 - val_accuracy: 0.9970\n",
            "Epoch 17/100\n",
            "59/59 [==============================] - 4s 73ms/step - loss: 1.5839e-04 - accuracy: 1.0000 - val_loss: 0.0228 - val_accuracy: 0.9970\n",
            "Epoch 18/100\n",
            "59/59 [==============================] - 4s 72ms/step - loss: 1.6048e-04 - accuracy: 1.0000 - val_loss: 0.0227 - val_accuracy: 0.9970\n",
            "Epoch 19/100\n",
            "59/59 [==============================] - 4s 72ms/step - loss: 1.7262e-04 - accuracy: 1.0000 - val_loss: 0.0227 - val_accuracy: 0.9970\n",
            "Epoch 20/100\n",
            "59/59 [==============================] - 4s 72ms/step - loss: 1.5328e-04 - accuracy: 1.0000 - val_loss: 0.0228 - val_accuracy: 0.9970\n",
            "Epoch 21/100\n",
            "59/59 [==============================] - 4s 73ms/step - loss: 2.0867e-04 - accuracy: 0.9999 - val_loss: 0.0228 - val_accuracy: 0.9970\n",
            "Epoch 22/100\n",
            "59/59 [==============================] - 4s 72ms/step - loss: 1.5266e-04 - accuracy: 1.0000 - val_loss: 0.0228 - val_accuracy: 0.9970\n",
            "Epoch 23/100\n",
            "59/59 [==============================] - 4s 73ms/step - loss: 1.6243e-04 - accuracy: 1.0000 - val_loss: 0.0228 - val_accuracy: 0.9970\n",
            "Epoch 24/100\n",
            "59/59 [==============================] - 4s 73ms/step - loss: 1.3149e-04 - accuracy: 1.0000 - val_loss: 0.0228 - val_accuracy: 0.9970\n",
            "Epoch 25/100\n",
            "59/59 [==============================] - 4s 73ms/step - loss: 1.3547e-04 - accuracy: 1.0000 - val_loss: 0.0228 - val_accuracy: 0.9973\n",
            "Epoch 26/100\n",
            "59/59 [==============================] - 4s 73ms/step - loss: 1.8391e-04 - accuracy: 0.9999 - val_loss: 0.0227 - val_accuracy: 0.9973\n",
            "Epoch 27/100\n",
            "59/59 [==============================] - 4s 73ms/step - loss: 1.3434e-04 - accuracy: 1.0000 - val_loss: 0.0227 - val_accuracy: 0.9973\n",
            "Epoch 28/100\n",
            "59/59 [==============================] - 4s 73ms/step - loss: 1.6126e-04 - accuracy: 1.0000 - val_loss: 0.0226 - val_accuracy: 0.9973\n",
            "Epoch 29/100\n",
            "59/59 [==============================] - 4s 73ms/step - loss: 1.2785e-04 - accuracy: 1.0000 - val_loss: 0.0227 - val_accuracy: 0.9973\n",
            "Epoch 30/100\n",
            "59/59 [==============================] - 4s 73ms/step - loss: 1.3004e-04 - accuracy: 1.0000 - val_loss: 0.0227 - val_accuracy: 0.9973\n",
            "Epoch 31/100\n",
            "59/59 [==============================] - 4s 73ms/step - loss: 1.3513e-04 - accuracy: 1.0000 - val_loss: 0.0227 - val_accuracy: 0.9973\n",
            "Epoch 32/100\n",
            "59/59 [==============================] - 4s 73ms/step - loss: 1.3377e-04 - accuracy: 1.0000 - val_loss: 0.0227 - val_accuracy: 0.9973\n",
            "Epoch 33/100\n",
            "59/59 [==============================] - 4s 73ms/step - loss: 1.1311e-04 - accuracy: 1.0000 - val_loss: 0.0228 - val_accuracy: 0.9973\n",
            "Epoch 34/100\n",
            "59/59 [==============================] - 4s 73ms/step - loss: 1.1595e-04 - accuracy: 1.0000 - val_loss: 0.0228 - val_accuracy: 0.9976\n",
            "Epoch 35/100\n",
            "59/59 [==============================] - 4s 73ms/step - loss: 9.4217e-05 - accuracy: 1.0000 - val_loss: 0.0229 - val_accuracy: 0.9976\n",
            "Epoch 36/100\n",
            "59/59 [==============================] - 4s 73ms/step - loss: 8.0594e-05 - accuracy: 1.0000 - val_loss: 0.0229 - val_accuracy: 0.9976\n",
            "Epoch 37/100\n",
            "59/59 [==============================] - 4s 73ms/step - loss: 8.7355e-05 - accuracy: 1.0000 - val_loss: 0.0229 - val_accuracy: 0.9976\n",
            "Epoch 38/100\n",
            "59/59 [==============================] - 4s 73ms/step - loss: 9.0193e-05 - accuracy: 1.0000 - val_loss: 0.0228 - val_accuracy: 0.9973\n",
            "Epoch 39/100\n",
            "59/59 [==============================] - 4s 73ms/step - loss: 1.0548e-04 - accuracy: 1.0000 - val_loss: 0.0227 - val_accuracy: 0.9973\n",
            "Epoch 40/100\n",
            "59/59 [==============================] - 4s 73ms/step - loss: 1.8775e-04 - accuracy: 0.9999 - val_loss: 0.0227 - val_accuracy: 0.9973\n",
            "Epoch 41/100\n",
            "59/59 [==============================] - 4s 73ms/step - loss: 1.9185e-04 - accuracy: 1.0000 - val_loss: 0.0227 - val_accuracy: 0.9973\n",
            "Epoch 42/100\n",
            "59/59 [==============================] - 4s 73ms/step - loss: 8.7596e-05 - accuracy: 1.0000 - val_loss: 0.0227 - val_accuracy: 0.9973\n",
            "Epoch 43/100\n",
            "59/59 [==============================] - 4s 73ms/step - loss: 7.8563e-05 - accuracy: 1.0000 - val_loss: 0.0227 - val_accuracy: 0.9973\n",
            "Epoch 44/100\n",
            "59/59 [==============================] - 4s 73ms/step - loss: 7.3870e-05 - accuracy: 1.0000 - val_loss: 0.0226 - val_accuracy: 0.9976\n",
            "Epoch 45/100\n",
            "59/59 [==============================] - 4s 73ms/step - loss: 8.2231e-05 - accuracy: 1.0000 - val_loss: 0.0226 - val_accuracy: 0.9973\n",
            "Epoch 46/100\n",
            "59/59 [==============================] - 4s 73ms/step - loss: 9.2990e-05 - accuracy: 1.0000 - val_loss: 0.0227 - val_accuracy: 0.9973\n",
            "Epoch 47/100\n",
            "59/59 [==============================] - 4s 73ms/step - loss: 9.0290e-05 - accuracy: 1.0000 - val_loss: 0.0227 - val_accuracy: 0.9973\n",
            "Epoch 48/100\n",
            "59/59 [==============================] - 4s 73ms/step - loss: 7.5637e-05 - accuracy: 1.0000 - val_loss: 0.0229 - val_accuracy: 0.9973\n",
            "Epoch 49/100\n",
            "59/59 [==============================] - 4s 73ms/step - loss: 6.7241e-05 - accuracy: 1.0000 - val_loss: 0.0227 - val_accuracy: 0.9976\n",
            "Epoch 50/100\n",
            "59/59 [==============================] - 4s 73ms/step - loss: 6.0166e-05 - accuracy: 1.0000 - val_loss: 0.0227 - val_accuracy: 0.9976\n",
            "Epoch 51/100\n",
            "59/59 [==============================] - 4s 73ms/step - loss: 9.3882e-05 - accuracy: 1.0000 - val_loss: 0.0226 - val_accuracy: 0.9976\n",
            "Epoch 52/100\n",
            "59/59 [==============================] - 4s 73ms/step - loss: 8.9895e-05 - accuracy: 1.0000 - val_loss: 0.0225 - val_accuracy: 0.9976\n",
            "Epoch 53/100\n",
            "59/59 [==============================] - 4s 73ms/step - loss: 7.8083e-05 - accuracy: 1.0000 - val_loss: 0.0225 - val_accuracy: 0.9976\n",
            "Epoch 54/100\n",
            "59/59 [==============================] - 4s 73ms/step - loss: 1.1082e-04 - accuracy: 1.0000 - val_loss: 0.0225 - val_accuracy: 0.9976\n",
            "Epoch 55/100\n",
            "59/59 [==============================] - 4s 74ms/step - loss: 1.1773e-04 - accuracy: 1.0000 - val_loss: 0.0224 - val_accuracy: 0.9976\n",
            "Epoch 56/100\n",
            "59/59 [==============================] - 4s 73ms/step - loss: 6.1703e-05 - accuracy: 1.0000 - val_loss: 0.0224 - val_accuracy: 0.9976\n",
            "Epoch 57/100\n",
            "59/59 [==============================] - 4s 73ms/step - loss: 5.4004e-05 - accuracy: 1.0000 - val_loss: 0.0224 - val_accuracy: 0.9976\n",
            "Epoch 58/100\n",
            "59/59 [==============================] - 4s 73ms/step - loss: 4.1390e-05 - accuracy: 1.0000 - val_loss: 0.0224 - val_accuracy: 0.9976\n",
            "Epoch 59/100\n",
            "59/59 [==============================] - 4s 73ms/step - loss: 6.0167e-05 - accuracy: 1.0000 - val_loss: 0.0224 - val_accuracy: 0.9976\n",
            "Epoch 60/100\n",
            "59/59 [==============================] - 4s 73ms/step - loss: 2.1566e-04 - accuracy: 0.9999 - val_loss: 0.0224 - val_accuracy: 0.9976\n",
            "Epoch 61/100\n",
            "59/59 [==============================] - 4s 73ms/step - loss: 1.0056e-04 - accuracy: 1.0000 - val_loss: 0.0224 - val_accuracy: 0.9976\n",
            "Epoch 62/100\n",
            "59/59 [==============================] - 4s 73ms/step - loss: 9.3834e-05 - accuracy: 1.0000 - val_loss: 0.0227 - val_accuracy: 0.9976\n",
            "Epoch 63/100\n",
            "59/59 [==============================] - 4s 73ms/step - loss: 9.6410e-05 - accuracy: 1.0000 - val_loss: 0.0227 - val_accuracy: 0.9976\n",
            "Epoch 64/100\n",
            "59/59 [==============================] - 4s 73ms/step - loss: 7.9999e-05 - accuracy: 1.0000 - val_loss: 0.0230 - val_accuracy: 0.9973\n",
            "Epoch 65/100\n",
            "59/59 [==============================] - 4s 73ms/step - loss: 1.5300e-04 - accuracy: 1.0000 - val_loss: 0.0229 - val_accuracy: 0.9973\n",
            "Epoch 66/100\n",
            "59/59 [==============================] - 4s 73ms/step - loss: 2.0113e-04 - accuracy: 1.0000 - val_loss: 0.0229 - val_accuracy: 0.9973\n",
            "Epoch 67/100\n",
            "59/59 [==============================] - 4s 73ms/step - loss: 1.3924e-04 - accuracy: 0.9999 - val_loss: 0.0232 - val_accuracy: 0.9976\n",
            "Epoch 68/100\n",
            "59/59 [==============================] - 4s 73ms/step - loss: 2.4784e-04 - accuracy: 1.0000 - val_loss: 0.0220 - val_accuracy: 0.9973\n",
            "Epoch 69/100\n",
            "59/59 [==============================] - 4s 73ms/step - loss: 2.2748e-04 - accuracy: 1.0000 - val_loss: 0.0218 - val_accuracy: 0.9976\n",
            "Epoch 70/100\n",
            "59/59 [==============================] - 4s 73ms/step - loss: 7.4337e-05 - accuracy: 1.0000 - val_loss: 0.0218 - val_accuracy: 0.9979\n",
            "Epoch 71/100\n",
            "59/59 [==============================] - 4s 73ms/step - loss: 1.5651e-04 - accuracy: 1.0000 - val_loss: 0.0220 - val_accuracy: 0.9973\n",
            "Epoch 72/100\n",
            "59/59 [==============================] - 4s 73ms/step - loss: 9.4068e-05 - accuracy: 1.0000 - val_loss: 0.0219 - val_accuracy: 0.9976\n",
            "Epoch 73/100\n",
            "59/59 [==============================] - 4s 73ms/step - loss: 4.5702e-05 - accuracy: 1.0000 - val_loss: 0.0218 - val_accuracy: 0.9976\n",
            "Epoch 74/100\n",
            "59/59 [==============================] - 4s 73ms/step - loss: 3.5905e-05 - accuracy: 1.0000 - val_loss: 0.0217 - val_accuracy: 0.9976\n",
            "Epoch 75/100\n",
            "59/59 [==============================] - 4s 73ms/step - loss: 4.1748e-05 - accuracy: 1.0000 - val_loss: 0.0217 - val_accuracy: 0.9976\n",
            "Epoch 76/100\n",
            "59/59 [==============================] - 4s 73ms/step - loss: 3.3211e-05 - accuracy: 1.0000 - val_loss: 0.0218 - val_accuracy: 0.9976\n",
            "Epoch 77/100\n",
            "59/59 [==============================] - 4s 73ms/step - loss: 5.4042e-05 - accuracy: 1.0000 - val_loss: 0.0219 - val_accuracy: 0.9976\n",
            "Epoch 78/100\n",
            "59/59 [==============================] - 4s 73ms/step - loss: 6.7961e-05 - accuracy: 1.0000 - val_loss: 0.0219 - val_accuracy: 0.9976\n",
            "Epoch 79/100\n",
            "59/59 [==============================] - 4s 73ms/step - loss: 6.8800e-05 - accuracy: 1.0000 - val_loss: 0.0220 - val_accuracy: 0.9976\n",
            "Epoch 80/100\n",
            "59/59 [==============================] - 4s 73ms/step - loss: 3.6228e-05 - accuracy: 1.0000 - val_loss: 0.0219 - val_accuracy: 0.9976\n",
            "Epoch 81/100\n",
            "59/59 [==============================] - 4s 73ms/step - loss: 3.5483e-05 - accuracy: 1.0000 - val_loss: 0.0220 - val_accuracy: 0.9976\n",
            "Epoch 82/100\n",
            "59/59 [==============================] - 4s 73ms/step - loss: 2.7227e-05 - accuracy: 1.0000 - val_loss: 0.0222 - val_accuracy: 0.9976\n",
            "Epoch 83/100\n",
            "59/59 [==============================] - 4s 73ms/step - loss: 2.7368e-05 - accuracy: 1.0000 - val_loss: 0.0222 - val_accuracy: 0.9976\n",
            "Epoch 84/100\n",
            "59/59 [==============================] - 4s 73ms/step - loss: 2.4032e-05 - accuracy: 1.0000 - val_loss: 0.0221 - val_accuracy: 0.9976\n",
            "Epoch 85/100\n",
            "59/59 [==============================] - 4s 73ms/step - loss: 3.4021e-05 - accuracy: 1.0000 - val_loss: 0.0220 - val_accuracy: 0.9976\n",
            "Epoch 86/100\n",
            "59/59 [==============================] - 4s 74ms/step - loss: 3.0184e-05 - accuracy: 1.0000 - val_loss: 0.0221 - val_accuracy: 0.9976\n",
            "Epoch 87/100\n",
            "59/59 [==============================] - 4s 74ms/step - loss: 2.2558e-05 - accuracy: 1.0000 - val_loss: 0.0222 - val_accuracy: 0.9976\n",
            "Epoch 88/100\n",
            "59/59 [==============================] - 4s 73ms/step - loss: 1.8207e-05 - accuracy: 1.0000 - val_loss: 0.0225 - val_accuracy: 0.9976\n",
            "Epoch 89/100\n",
            "59/59 [==============================] - 4s 73ms/step - loss: 5.1595e-05 - accuracy: 1.0000 - val_loss: 0.0224 - val_accuracy: 0.9973\n",
            "Epoch 90/100\n",
            "59/59 [==============================] - 4s 73ms/step - loss: 1.9874e-05 - accuracy: 1.0000 - val_loss: 0.0226 - val_accuracy: 0.9976\n",
            "Epoch 91/100\n",
            "59/59 [==============================] - 4s 73ms/step - loss: 3.0332e-05 - accuracy: 1.0000 - val_loss: 0.0226 - val_accuracy: 0.9976\n",
            "Epoch 92/100\n",
            "59/59 [==============================] - 4s 73ms/step - loss: 4.1496e-05 - accuracy: 1.0000 - val_loss: 0.0226 - val_accuracy: 0.9976\n",
            "Epoch 93/100\n",
            "59/59 [==============================] - 4s 73ms/step - loss: 7.1180e-04 - accuracy: 0.9999 - val_loss: 0.0232 - val_accuracy: 0.9973\n",
            "Epoch 94/100\n",
            "59/59 [==============================] - 4s 73ms/step - loss: 4.5494e-04 - accuracy: 0.9999 - val_loss: 0.0232 - val_accuracy: 0.9967\n",
            "Epoch 95/100\n",
            "59/59 [==============================] - 4s 73ms/step - loss: 9.4460e-04 - accuracy: 0.9997 - val_loss: 0.0230 - val_accuracy: 0.9964\n",
            "Epoch 96/100\n",
            "59/59 [==============================] - 4s 73ms/step - loss: 8.0917e-04 - accuracy: 0.9997 - val_loss: 0.0211 - val_accuracy: 0.9964\n",
            "Epoch 97/100\n",
            "59/59 [==============================] - 4s 73ms/step - loss: 1.5942e-04 - accuracy: 1.0000 - val_loss: 0.0199 - val_accuracy: 0.9970\n",
            "Epoch 98/100\n",
            "59/59 [==============================] - 4s 73ms/step - loss: 2.2568e-04 - accuracy: 0.9999 - val_loss: 0.0205 - val_accuracy: 0.9973\n",
            "Epoch 99/100\n",
            "59/59 [==============================] - 4s 73ms/step - loss: 4.6865e-04 - accuracy: 0.9998 - val_loss: 0.0205 - val_accuracy: 0.9970\n",
            "Epoch 100/100\n",
            "59/59 [==============================] - 4s 73ms/step - loss: 1.2218e-04 - accuracy: 1.0000 - val_loss: 0.0205 - val_accuracy: 0.9970\n"
          ],
          "name": "stdout"
        },
        {
          "output_type": "display_data",
          "data": {
            "image/png": "[encoded data removed]",
            "text/plain": [
              "<Figure size 432x288 with 1 Axes>"
            ]
          },
          "metadata": {
            "tags": [],
            "needs_background": "light"
          }
        },
        {
          "output_type": "display_data",
          "data": {
            "image/png": "[encoded data removed]",
            "text/plain": [
              "<Figure size 432x288 with 1 Axes>"
            ]
          },
          "metadata": {
            "tags": [],
            "needs_background": "light"
          }
        }
      ]
    },
    {
      "cell_type": "code",
      "metadata": {
        "colab": {
          "base_uri": "https://localhost:8080/"
        },
        "id": "qlbydnWMl2zt",
        "outputId": "3233b477-71a3-4f16-b357-14b2f5c0832b"
      },
      "source": [
        "score = model.evaluate(X_test, test_label, verbose=0)\n",
        "print('Test loss:', score[0])\n",
        "print('Test accuracy:', score[1])"
      ],
      "execution_count": 65,
      "outputs": [
        {
          "output_type": "stream",
          "text": [
            "Test loss: 0.6833741068840027\n",
            "Test accuracy: 0.9430481195449829\n"
          ],
          "name": "stdout"
        }
      ]
    },
    {
      "cell_type": "markdown",
      "metadata": {
        "id": "LqrzqcigArVh"
      },
      "source": [
        "> Accuracy achived: 94.30 (Previous best: 93.52)"
      ]
    },
    {
      "cell_type": "code",
      "metadata": {
        "id": "5AY6fAo1-ovB"
      },
      "source": [
        ""
      ],
      "execution_count": null,
      "outputs": []
    }
  ]
}