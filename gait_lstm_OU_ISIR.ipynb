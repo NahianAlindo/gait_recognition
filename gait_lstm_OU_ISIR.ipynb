{
  "nbformat": 4,
  "nbformat_minor": 0,
  "metadata": {
    "colab": {
      "name": "gait_lstm_OU-ISIR.ipynb",
      "provenance": [],
      "collapsed_sections": []
    },
    "kernelspec": {
      "name": "python3",
      "display_name": "Python 3"
    },
    "language_info": {
      "name": "python"
    },
    "accelerator": "GPU"
  },
  "cells": [
    {
      "cell_type": "code",
      "metadata": {
        "colab": {
          "base_uri": "https://localhost:8080/"
        },
        "id": "1wSdW51I33fs",
        "outputId": "681fa9b4-523e-4d62-90b7-ee1022dff906"
      },
      "source": [
        "from google.colab import drive\n",
        "drive.mount('/content/drive')"
      ],
      "execution_count": null,
      "outputs": [
        {
          "output_type": "stream",
          "text": [
            "Mounted at /content/drive\n"
          ],
          "name": "stdout"
        }
      ]
    },
    {
      "cell_type": "code",
      "metadata": {
        "colab": {
          "base_uri": "https://localhost:8080/"
        },
        "id": "l4xwQjn812Pf",
        "outputId": "35fa5a93-b1d7-4f0a-89ca-0d097cb14d60"
      },
      "source": [
        "!nvidia-smi"
      ],
      "execution_count": null,
      "outputs": [
        {
          "output_type": "stream",
          "text": [
            "Wed Jul 14 18:59:23 2021       \n",
            "+-----------------------------------------------------------------------------+\n",
            "| NVIDIA-SMI 470.42.01    Driver Version: 460.32.03    CUDA Version: 11.2     |\n",
            "|-------------------------------+----------------------+----------------------+\n",
            "| GPU  Name        Persistence-M| Bus-Id        Disp.A | Volatile Uncorr. ECC |\n",
            "| Fan  Temp  Perf  Pwr:Usage/Cap|         Memory-Usage | GPU-Util  Compute M. |\n",
            "|                               |                      |               MIG M. |\n",
            "|===============================+======================+======================|\n",
            "|   0  Tesla T4            Off  | 00000000:00:04.0 Off |                    0 |\n",
            "| N/A   36C    P8     9W /  70W |      0MiB / 15109MiB |      0%      Default |\n",
            "|                               |                      |                  N/A |\n",
            "+-------------------------------+----------------------+----------------------+\n",
            "                                                                               \n",
            "+-----------------------------------------------------------------------------+\n",
            "| Processes:                                                                  |\n",
            "|  GPU   GI   CI        PID   Type   Process name                  GPU Memory |\n",
            "|        ID   ID                                                   Usage      |\n",
            "|=============================================================================|\n",
            "|  No running processes found                                                 |\n",
            "+-----------------------------------------------------------------------------+\n"
          ],
          "name": "stdout"
        }
      ]
    },
    {
      "cell_type": "code",
      "metadata": {
        "colab": {
          "base_uri": "https://localhost:8080/"
        },
        "id": "ldk8nITZzlAt",
        "outputId": "cfea36fe-180d-40d8-f64f-5c71ee243aa9"
      },
      "source": [
        "! pip install keras==2.3.1"
      ],
      "execution_count": null,
      "outputs": [
        {
          "output_type": "stream",
          "text": [
            "Collecting keras==2.3.1\n",
            "\u001b[?25l  Downloading https://files.pythonhosted.org/packages/ad/fd/6bfe87920d7f4fd475acd28500a42482b6b84479832bdc0fe9e589a60ceb/Keras-2.3.1-py2.py3-none-any.whl (377kB)\n",
            "\r\u001b[K     |▉                               | 10kB 24.8MB/s eta 0:00:01\r\u001b[K     |█▊                              | 20kB 30.6MB/s eta 0:00:01\r\u001b[K     |██▋                             | 30kB 22.5MB/s eta 0:00:01\r\u001b[K     |███▌                            | 40kB 17.3MB/s eta 0:00:01\r\u001b[K     |████▍                           | 51kB 8.6MB/s eta 0:00:01\r\u001b[K     |█████▏                          | 61kB 9.0MB/s eta 0:00:01\r\u001b[K     |██████                          | 71kB 9.1MB/s eta 0:00:01\r\u001b[K     |███████                         | 81kB 10.1MB/s eta 0:00:01\r\u001b[K     |███████▉                        | 92kB 10.5MB/s eta 0:00:01\r\u001b[K     |████████▊                       | 102kB 8.3MB/s eta 0:00:01\r\u001b[K     |█████████▌                      | 112kB 8.3MB/s eta 0:00:01\r\u001b[K     |██████████▍                     | 122kB 8.3MB/s eta 0:00:01\r\u001b[K     |███████████▎                    | 133kB 8.3MB/s eta 0:00:01\r\u001b[K     |████████████▏                   | 143kB 8.3MB/s eta 0:00:01\r\u001b[K     |█████████████                   | 153kB 8.3MB/s eta 0:00:01\r\u001b[K     |█████████████▉                  | 163kB 8.3MB/s eta 0:00:01\r\u001b[K     |██████████████▊                 | 174kB 8.3MB/s eta 0:00:01\r\u001b[K     |███████████████▋                | 184kB 8.3MB/s eta 0:00:01\r\u001b[K     |████████████████▌               | 194kB 8.3MB/s eta 0:00:01\r\u001b[K     |█████████████████▍              | 204kB 8.3MB/s eta 0:00:01\r\u001b[K     |██████████████████▏             | 215kB 8.3MB/s eta 0:00:01\r\u001b[K     |███████████████████             | 225kB 8.3MB/s eta 0:00:01\r\u001b[K     |████████████████████            | 235kB 8.3MB/s eta 0:00:01\r\u001b[K     |████████████████████▉           | 245kB 8.3MB/s eta 0:00:01\r\u001b[K     |█████████████████████▊          | 256kB 8.3MB/s eta 0:00:01\r\u001b[K     |██████████████████████▌         | 266kB 8.3MB/s eta 0:00:01\r\u001b[K     |███████████████████████▍        | 276kB 8.3MB/s eta 0:00:01\r\u001b[K     |████████████████████████▎       | 286kB 8.3MB/s eta 0:00:01\r\u001b[K     |█████████████████████████▏      | 296kB 8.3MB/s eta 0:00:01\r\u001b[K     |██████████████████████████      | 307kB 8.3MB/s eta 0:00:01\r\u001b[K     |██████████████████████████▉     | 317kB 8.3MB/s eta 0:00:01\r\u001b[K     |███████████████████████████▊    | 327kB 8.3MB/s eta 0:00:01\r\u001b[K     |████████████████████████████▋   | 337kB 8.3MB/s eta 0:00:01\r\u001b[K     |█████████████████████████████▌  | 348kB 8.3MB/s eta 0:00:01\r\u001b[K     |██████████████████████████████▍ | 358kB 8.3MB/s eta 0:00:01\r\u001b[K     |███████████████████████████████▏| 368kB 8.3MB/s eta 0:00:01\r\u001b[K     |████████████████████████████████| 378kB 8.3MB/s \n",
            "\u001b[?25hRequirement already satisfied: scipy>=0.14 in /usr/local/lib/python3.7/dist-packages (from keras==2.3.1) (1.4.1)\n",
            "Collecting keras-applications>=1.0.6\n",
            "\u001b[?25l  Downloading https://files.pythonhosted.org/packages/71/e3/19762fdfc62877ae9102edf6342d71b28fbfd9dea3d2f96a882ce099b03f/Keras_Applications-1.0.8-py3-none-any.whl (50kB)\n",
            "\u001b[K     |████████████████████████████████| 51kB 8.6MB/s \n",
            "\u001b[?25hRequirement already satisfied: h5py in /usr/local/lib/python3.7/dist-packages (from keras==2.3.1) (3.1.0)\n",
            "Requirement already satisfied: six>=1.9.0 in /usr/local/lib/python3.7/dist-packages (from keras==2.3.1) (1.15.0)\n",
            "Requirement already satisfied: keras-preprocessing>=1.0.5 in /usr/local/lib/python3.7/dist-packages (from keras==2.3.1) (1.1.2)\n",
            "Requirement already satisfied: pyyaml in /usr/local/lib/python3.7/dist-packages (from keras==2.3.1) (3.13)\n",
            "Requirement already satisfied: numpy>=1.9.1 in /usr/local/lib/python3.7/dist-packages (from keras==2.3.1) (1.19.5)\n",
            "Requirement already satisfied: cached-property; python_version < \"3.8\" in /usr/local/lib/python3.7/dist-packages (from h5py->keras==2.3.1) (1.5.2)\n",
            "Installing collected packages: keras-applications, keras\n",
            "  Found existing installation: Keras 2.4.3\n",
            "    Uninstalling Keras-2.4.3:\n",
            "      Successfully uninstalled Keras-2.4.3\n",
            "Successfully installed keras-2.3.1 keras-applications-1.0.8\n"
          ],
          "name": "stdout"
        }
      ]
    },
    {
      "cell_type": "code",
      "metadata": {
        "id": "r6wnBMmserwj",
        "colab": {
          "base_uri": "https://localhost:8080/"
        },
        "outputId": "d4a37627-e088-4ae2-ad4a-b258c17a5329"
      },
      "source": [
        "# import tensorflow.keras as keras\n",
        "import numpy as np\n",
        "import os\n",
        "import random\n",
        "\n",
        "! pip install keras-tuner\n",
        "import tensorflow as tf\n",
        "import numpy as np\n",
        "import os\n",
        "import random\n",
        "from tensorflow.keras.applications import VGG19\n",
        "from tensorflow.keras.models import Sequential\n",
        "from tensorflow.keras.layers import Conv1D, Dense, Dropout, Input, Concatenate, GlobalMaxPool1D, LSTM, MaxPool1D\n",
        "from tensorflow.keras.layers import ReLU, BatchNormalization, Bidirectional, concatenate, Reshape, TimeDistributed\n",
        "from tensorflow.keras.layers import Conv2D, ConvLSTM2D, MaxPool2D, SpatialDropout2D, Softmax, ELU, Layer, Masking\n",
        "from tensorflow.keras.layers import GlobalAveragePooling2D, GlobalMaxPool2D, LeakyReLU, LSTMCell, RNN, InputSpec\n",
        "from tensorflow.keras.layers import concatenate, Conv1DTranspose, Conv2DTranspose, Flatten, StackedRNNCells\n",
        "from tensorflow.keras.initializers import Constant\n",
        "from tensorflow.keras.models import Model\n",
        "from tensorflow.keras import Input\n",
        "from tensorflow import keras as keras\n",
        "from tensorflow.keras.optimizers import Adam, SGD, RMSprop\n",
        "from matplotlib import pyplot as plt\n",
        "import kerastuner as kt\n",
        "from kerastuner.tuners import RandomSearch, BayesianOptimization, Hyperband\n",
        "from tensorflow.keras.callbacks import EarlyStopping\n",
        "from tensorflow.keras.layers import GlobalAveragePooling2D, GlobalAveragePooling1D, Permute, multiply, Activation\n",
        "import tensorflow.keras.backend as K\n",
        "\n",
        "from tensorflow.keras import backend as K\n",
        "from tensorflow.keras import activations\n",
        "from tensorflow.keras import initializers\n",
        "from tensorflow.keras import regularizers\n",
        "from tensorflow.keras import constraints\n"
      ],
      "execution_count": null,
      "outputs": [
        {
          "output_type": "stream",
          "text": [
            "Collecting keras-tuner\n",
            "\u001b[?25l  Downloading https://files.pythonhosted.org/packages/a2/ba/c7a7cda64b67846bde66ffdaaf3199a79d4e35ab6b6f170cc1b7d235646e/keras_tuner-1.0.3-py3-none-any.whl (96kB)\n",
            "\r\u001b[K     |███▍                            | 10kB 18.9MB/s eta 0:00:01\r\u001b[K     |██████▉                         | 20kB 8.4MB/s eta 0:00:01\r\u001b[K     |██████████▏                     | 30kB 11.2MB/s eta 0:00:01\r\u001b[K     |█████████████▋                  | 40kB 13.6MB/s eta 0:00:01\r\u001b[K     |█████████████████               | 51kB 7.1MB/s eta 0:00:01\r\u001b[K     |████████████████████▍           | 61kB 8.2MB/s eta 0:00:01\r\u001b[K     |███████████████████████▊        | 71kB 8.7MB/s eta 0:00:01\r\u001b[K     |███████████████████████████▏    | 81kB 9.0MB/s eta 0:00:01\r\u001b[K     |██████████████████████████████▋ | 92kB 9.2MB/s eta 0:00:01\r\u001b[K     |████████████████████████████████| 102kB 6.4MB/s \n",
            "\u001b[?25hRequirement already satisfied: requests in /usr/local/lib/python3.7/dist-packages (from keras-tuner) (2.23.0)\n",
            "Requirement already satisfied: ipython in /usr/local/lib/python3.7/dist-packages (from keras-tuner) (5.5.0)\n",
            "Requirement already satisfied: numpy in /usr/local/lib/python3.7/dist-packages (from keras-tuner) (1.19.5)\n",
            "Requirement already satisfied: packaging in /usr/local/lib/python3.7/dist-packages (from keras-tuner) (20.9)\n",
            "Requirement already satisfied: scipy in /usr/local/lib/python3.7/dist-packages (from keras-tuner) (1.4.1)\n",
            "Collecting kt-legacy\n",
            "  Downloading https://files.pythonhosted.org/packages/76/c7/7ebe02ef2495b84a47dc92a4e943260b264b6546783ca23e451bcd8c09c1/kt-legacy-1.0.3.tar.gz\n",
            "Requirement already satisfied: tensorboard in /usr/local/lib/python3.7/dist-packages (from keras-tuner) (2.5.0)\n",
            "Requirement already satisfied: urllib3!=1.25.0,!=1.25.1,<1.26,>=1.21.1 in /usr/local/lib/python3.7/dist-packages (from requests->keras-tuner) (1.24.3)\n",
            "Requirement already satisfied: idna<3,>=2.5 in /usr/local/lib/python3.7/dist-packages (from requests->keras-tuner) (2.10)\n",
            "Requirement already satisfied: certifi>=2017.4.17 in /usr/local/lib/python3.7/dist-packages (from requests->keras-tuner) (2021.5.30)\n",
            "Requirement already satisfied: chardet<4,>=3.0.2 in /usr/local/lib/python3.7/dist-packages (from requests->keras-tuner) (3.0.4)\n",
            "Requirement already satisfied: setuptools>=18.5 in /usr/local/lib/python3.7/dist-packages (from ipython->keras-tuner) (57.0.0)\n",
            "Requirement already satisfied: pickleshare in /usr/local/lib/python3.7/dist-packages (from ipython->keras-tuner) (0.7.5)\n",
            "Requirement already satisfied: prompt-toolkit<2.0.0,>=1.0.4 in /usr/local/lib/python3.7/dist-packages (from ipython->keras-tuner) (1.0.18)\n",
            "Requirement already satisfied: pygments in /usr/local/lib/python3.7/dist-packages (from ipython->keras-tuner) (2.6.1)\n",
            "Requirement already satisfied: simplegeneric>0.8 in /usr/local/lib/python3.7/dist-packages (from ipython->keras-tuner) (0.8.1)\n",
            "Requirement already satisfied: pexpect; sys_platform != \"win32\" in /usr/local/lib/python3.7/dist-packages (from ipython->keras-tuner) (4.8.0)\n",
            "Requirement already satisfied: decorator in /usr/local/lib/python3.7/dist-packages (from ipython->keras-tuner) (4.4.2)\n",
            "Requirement already satisfied: traitlets>=4.2 in /usr/local/lib/python3.7/dist-packages (from ipython->keras-tuner) (5.0.5)\n",
            "Requirement already satisfied: pyparsing>=2.0.2 in /usr/local/lib/python3.7/dist-packages (from packaging->keras-tuner) (2.4.7)\n",
            "Requirement already satisfied: absl-py>=0.4 in /usr/local/lib/python3.7/dist-packages (from tensorboard->keras-tuner) (0.12.0)\n",
            "Requirement already satisfied: tensorboard-plugin-wit>=1.6.0 in /usr/local/lib/python3.7/dist-packages (from tensorboard->keras-tuner) (1.8.0)\n",
            "Requirement already satisfied: grpcio>=1.24.3 in /usr/local/lib/python3.7/dist-packages (from tensorboard->keras-tuner) (1.34.1)\n",
            "Requirement already satisfied: wheel>=0.26; python_version >= \"3\" in /usr/local/lib/python3.7/dist-packages (from tensorboard->keras-tuner) (0.36.2)\n",
            "Requirement already satisfied: protobuf>=3.6.0 in /usr/local/lib/python3.7/dist-packages (from tensorboard->keras-tuner) (3.17.3)\n",
            "Requirement already satisfied: google-auth<2,>=1.6.3 in /usr/local/lib/python3.7/dist-packages (from tensorboard->keras-tuner) (1.32.1)\n",
            "Requirement already satisfied: google-auth-oauthlib<0.5,>=0.4.1 in /usr/local/lib/python3.7/dist-packages (from tensorboard->keras-tuner) (0.4.4)\n",
            "Requirement already satisfied: werkzeug>=0.11.15 in /usr/local/lib/python3.7/dist-packages (from tensorboard->keras-tuner) (1.0.1)\n",
            "Requirement already satisfied: markdown>=2.6.8 in /usr/local/lib/python3.7/dist-packages (from tensorboard->keras-tuner) (3.3.4)\n",
            "Requirement already satisfied: tensorboard-data-server<0.7.0,>=0.6.0 in /usr/local/lib/python3.7/dist-packages (from tensorboard->keras-tuner) (0.6.1)\n",
            "Requirement already satisfied: wcwidth in /usr/local/lib/python3.7/dist-packages (from prompt-toolkit<2.0.0,>=1.0.4->ipython->keras-tuner) (0.2.5)\n",
            "Requirement already satisfied: six>=1.9.0 in /usr/local/lib/python3.7/dist-packages (from prompt-toolkit<2.0.0,>=1.0.4->ipython->keras-tuner) (1.15.0)\n",
            "Requirement already satisfied: ptyprocess>=0.5 in /usr/local/lib/python3.7/dist-packages (from pexpect; sys_platform != \"win32\"->ipython->keras-tuner) (0.7.0)\n",
            "Requirement already satisfied: ipython-genutils in /usr/local/lib/python3.7/dist-packages (from traitlets>=4.2->ipython->keras-tuner) (0.2.0)\n",
            "Requirement already satisfied: pyasn1-modules>=0.2.1 in /usr/local/lib/python3.7/dist-packages (from google-auth<2,>=1.6.3->tensorboard->keras-tuner) (0.2.8)\n",
            "Requirement already satisfied: rsa<5,>=3.1.4; python_version >= \"3.6\" in /usr/local/lib/python3.7/dist-packages (from google-auth<2,>=1.6.3->tensorboard->keras-tuner) (4.7.2)\n",
            "Requirement already satisfied: cachetools<5.0,>=2.0.0 in /usr/local/lib/python3.7/dist-packages (from google-auth<2,>=1.6.3->tensorboard->keras-tuner) (4.2.2)\n",
            "Requirement already satisfied: requests-oauthlib>=0.7.0 in /usr/local/lib/python3.7/dist-packages (from google-auth-oauthlib<0.5,>=0.4.1->tensorboard->keras-tuner) (1.3.0)\n",
            "Requirement already satisfied: importlib-metadata; python_version < \"3.8\" in /usr/local/lib/python3.7/dist-packages (from markdown>=2.6.8->tensorboard->keras-tuner) (4.6.0)\n",
            "Requirement already satisfied: pyasn1<0.5.0,>=0.4.6 in /usr/local/lib/python3.7/dist-packages (from pyasn1-modules>=0.2.1->google-auth<2,>=1.6.3->tensorboard->keras-tuner) (0.4.8)\n",
            "Requirement already satisfied: oauthlib>=3.0.0 in /usr/local/lib/python3.7/dist-packages (from requests-oauthlib>=0.7.0->google-auth-oauthlib<0.5,>=0.4.1->tensorboard->keras-tuner) (3.1.1)\n",
            "Requirement already satisfied: zipp>=0.5 in /usr/local/lib/python3.7/dist-packages (from importlib-metadata; python_version < \"3.8\"->markdown>=2.6.8->tensorboard->keras-tuner) (3.4.1)\n",
            "Requirement already satisfied: typing-extensions>=3.6.4; python_version < \"3.8\" in /usr/local/lib/python3.7/dist-packages (from importlib-metadata; python_version < \"3.8\"->markdown>=2.6.8->tensorboard->keras-tuner) (3.7.4.3)\n",
            "Building wheels for collected packages: kt-legacy\n",
            "  Building wheel for kt-legacy (setup.py) ... \u001b[?25l\u001b[?25hdone\n",
            "  Created wheel for kt-legacy: filename=kt_legacy-1.0.3-cp37-none-any.whl size=9569 sha256=7d2c189b17d55ae56d6b230961e62dbc2d697dadb5d2ba3fac956247259091f3\n",
            "  Stored in directory: /root/.cache/pip/wheels/95/99/a8/6b116b0f69be60cc475d1cd36680f3a09f284d86655bb99d93\n",
            "Successfully built kt-legacy\n",
            "Installing collected packages: kt-legacy, keras-tuner\n",
            "Successfully installed keras-tuner-1.0.3 kt-legacy-1.0.3\n"
          ],
          "name": "stdout"
        },
        {
          "output_type": "stream",
          "text": [
            "/usr/local/lib/python3.7/dist-packages/ipykernel_launcher.py:24: DeprecationWarning: `import kerastuner` is deprecated, please use `import keras_tuner`.\n"
          ],
          "name": "stderr"
        }
      ]
    },
    {
      "cell_type": "code",
      "metadata": {
        "id": "17a0aknTUZAd"
      },
      "source": [
        "def load_X(path):\n",
        "    X_signals = []\n",
        "    files = os.listdir(path)\n",
        "    files.sort(key=str.lower)\n",
        "    #['train_acc_x.txt', 'train_acc_y.txt', 'train_acc_z.txt', 'train_gyr_x.txt', 'train_gyr_y.txt', 'train_gyr_z.txt']\n",
        "    for my_file in files:\n",
        "        fileName = os.path.join(path,my_file)\n",
        "        file = open(fileName, 'r')\n",
        "        X_signals.append(\n",
        "            [np.array(cell, dtype=np.float32) for cell in [\n",
        "                row.strip().split(' ') for row in file\n",
        "            ]]\n",
        "        )\n",
        "        file.close()\n",
        "        #X_signals = 6*totalStepNum*128\n",
        "    X_signals = np.transpose(np.array(X_signals), (1, 0, 2))#(totalStepNum*6*128)\n",
        "    return X_signals.reshape(-1,6,128,1)#(totalStepNum*6*128*1)\n",
        "\n",
        "def load_y(y_path):\n",
        "    file = open(y_path, 'r')\n",
        "    # Read dataset from disk, dealing with text file's syntax\n",
        "    y_ = np.array(\n",
        "        [elem for elem in [\n",
        "            row.replace('  ', ' ').strip().split(' ') for row in file\n",
        "        ]],\n",
        "        dtype=np.int32\n",
        "    )\n",
        "    file.close()\n",
        "    # Substract 1 to each output class for friendly 0-based indexing\n",
        "    y_ = y_ - 1\n",
        "    #one_hot\n",
        "    y_ = y_.reshape(len(y_))\n",
        "    n_values = int(np.max(y_)) + 1\n",
        "    return np.eye(n_values)[np.array(y_, dtype=np.int32)]  # Returns FLOATS\n",
        "\n",
        "\n",
        "def weight_variable(shape):\n",
        "    initial = tf.random.truncated_normal(shape, std_dev=0.1)\n",
        "    return tf.Variable(initial)\n",
        "\n",
        "def bias_variable(shape):\n",
        "    initial = tf.constant(0.1, shape=shape)\n",
        "    return tf.Variable(initial)\n",
        "\n",
        "\n",
        "X_train = load_X('/content/drive/Shareddrives/MMH/TIFS20/OU-ISIR_sensors_dataset/identification/data/train/data')\n",
        "X_test = load_X('/content/drive/Shareddrives/MMH/TIFS20/OU-ISIR_sensors_dataset/identification/data/test/data')\n",
        "train_label = load_y('/content/drive/Shareddrives/MMH/TIFS20/OU-ISIR_sensors_dataset/identification/data/train/train_y.txt')\n",
        "test_label = load_y('/content/drive/Shareddrives/MMH/TIFS20/OU-ISIR_sensors_dataset/identification/data/test/test_y.txt')\n",
        "X_train = np.reshape(X_train, (X_train.shape[0], X_train.shape[1], X_train.shape[2]))\n",
        "X_test = np.reshape(X_test, (X_test.shape[0], X_test.shape[1], X_test.shape[2]))\n",
        "\n",
        "batch_size = 512\n",
        "num_classes = 745"
      ],
      "execution_count": null,
      "outputs": []
    },
    {
      "cell_type": "code",
      "metadata": {
        "colab": {
          "base_uri": "https://localhost:8080/"
        },
        "id": "yMc0vuzJhr7-",
        "outputId": "0e1153c8-c5fc-4157-e1c8-41c153c16cf2"
      },
      "source": [
        "X_train.shape, train_label.shape, X_test.shape, test_label.shape"
      ],
      "execution_count": null,
      "outputs": [
        {
          "output_type": "execute_result",
          "data": {
            "text/plain": [
              "((13212, 6, 128), (13212, 745), (1409, 6, 128), (1409, 745))"
            ]
          },
          "metadata": {
            "tags": []
          },
          "execution_count": 6
        }
      ]
    },
    {
      "cell_type": "code",
      "metadata": {
        "id": "TKD0wq7yeDQ4"
      },
      "source": [
        "def tuned_lstm_model(hp):\n",
        "    # model = Sequential()\n",
        "    input_seq = Input(shape=(6, 128))\n",
        "    processed = LSTM(hp.Int('units', min_value=32, max_value=512, step=32), input_shape=(6, 128))(input_seq)\n",
        "    processed = Dropout(0.5)(processed)\n",
        "    # x = (Dense(118*8, activation='relu'))(processed)\n",
        "    # x = (Dense(118*4, activation='relu'))(x)\n",
        "    processed =ReLU()(processed)\n",
        "    activated = (Dense(745, activation='softmax'))(processed)\n",
        "    model = Model(inputs=input_seq, outputs=activated)\n",
        "    model.compile(optimizer=keras.optimizers.Adam(hp.Choice('learning_rate', values=[1e-1, 1e-2, 1e-3, 3*1e-1, 3*1e-2, 3*1e-3, 3*1e-4, 1e-4, 1.0])), \\\n",
        "                  loss='categorical_crossentropy',metrics=['accuracy'])\n",
        "    return model"
      ],
      "execution_count": null,
      "outputs": []
    },
    {
      "cell_type": "code",
      "metadata": {
        "colab": {
          "base_uri": "https://localhost:8080/"
        },
        "id": "4tuiXIab1FoL",
        "outputId": "0f7962c6-672a-4649-930b-757cae6c5c60"
      },
      "source": [
        "tuner = RandomSearch(\n",
        "    tuned_lstm_model,\n",
        "    objective='val_accuracy',\n",
        "    max_trials=10,\n",
        "    directory='output_ou_isir',\n",
        "    project_name='TIFS20')\n",
        "\n",
        "tuner.search(X_train, train_label, epochs=200, validation_split=0.1, shuffle=True, callbacks=[EarlyStopping(monitor='val_loss', patience=30)])"
      ],
      "execution_count": null,
      "outputs": [
        {
          "output_type": "stream",
          "text": [
            "Trial 10 Complete [00h 01m 22s]\n",
            "val_accuracy: 0.5007564425468445\n",
            "\n",
            "Best val_accuracy So Far: 0.5030257105827332\n",
            "Total elapsed time: 00h 25m 46s\n",
            "INFO:tensorflow:Oracle triggered exit\n"
          ],
          "name": "stdout"
        }
      ]
    },
    {
      "cell_type": "code",
      "metadata": {
        "id": "0D_NrYkZe9ZB",
        "colab": {
          "base_uri": "https://localhost:8080/"
        },
        "outputId": "fc07e88c-9704-4acc-8e9b-947354b79fbf"
      },
      "source": [
        "model = tuner.get_best_models(num_models=1)[0]\n",
        "model.summary()"
      ],
      "execution_count": null,
      "outputs": [
        {
          "output_type": "stream",
          "text": [
            "Model: \"model\"\n",
            "_________________________________________________________________\n",
            "Layer (type)                 Output Shape              Param #   \n",
            "=================================================================\n",
            "input_1 (InputLayer)         [(None, 6, 128)]          0         \n",
            "_________________________________________________________________\n",
            "lstm (LSTM)                  (None, 480)               1169280   \n",
            "_________________________________________________________________\n",
            "dropout (Dropout)            (None, 480)               0         \n",
            "_________________________________________________________________\n",
            "re_lu (ReLU)                 (None, 480)               0         \n",
            "_________________________________________________________________\n",
            "dense (Dense)                (None, 745)               358345    \n",
            "=================================================================\n",
            "Total params: 1,527,625\n",
            "Trainable params: 1,527,625\n",
            "Non-trainable params: 0\n",
            "_________________________________________________________________\n"
          ],
          "name": "stdout"
        }
      ]
    },
    {
      "cell_type": "code",
      "metadata": {
        "id": "49JnEPB_froQ",
        "colab": {
          "base_uri": "https://localhost:8080/"
        },
        "outputId": "f2c898fe-9557-4dee-a52c-a81b648dc4cd"
      },
      "source": [
        "history = model.fit(X_train, train_label, validation_split = 0.1, epochs=100, shuffle=True, batch_size=512, callbacks=[EarlyStopping('val_loss', patience=30)])#, callbacks=[es_callback])"
      ],
      "execution_count": null,
      "outputs": [
        {
          "output_type": "stream",
          "text": [
            "Epoch 1/100\n",
            "24/24 [==============================] - 2s 31ms/step - loss: 0.0432 - accuracy: 0.9976 - val_loss: 2.4317 - val_accuracy: 0.4992\n",
            "Epoch 2/100\n",
            "24/24 [==============================] - 0s 12ms/step - loss: 0.0375 - accuracy: 0.9974 - val_loss: 2.4252 - val_accuracy: 0.4985\n",
            "Epoch 3/100\n",
            "24/24 [==============================] - 0s 11ms/step - loss: 0.0354 - accuracy: 0.9978 - val_loss: 2.4225 - val_accuracy: 0.5015\n",
            "Epoch 4/100\n",
            "24/24 [==============================] - 0s 11ms/step - loss: 0.0344 - accuracy: 0.9983 - val_loss: 2.4165 - val_accuracy: 0.5068\n",
            "Epoch 5/100\n",
            "24/24 [==============================] - 0s 11ms/step - loss: 0.0342 - accuracy: 0.9987 - val_loss: 2.4179 - val_accuracy: 0.5061\n",
            "Epoch 6/100\n",
            "24/24 [==============================] - 0s 12ms/step - loss: 0.0331 - accuracy: 0.9972 - val_loss: 2.4172 - val_accuracy: 0.4985\n",
            "Epoch 7/100\n",
            "24/24 [==============================] - 0s 11ms/step - loss: 0.0314 - accuracy: 0.9986 - val_loss: 2.4155 - val_accuracy: 0.4970\n",
            "Epoch 8/100\n",
            "24/24 [==============================] - 0s 11ms/step - loss: 0.0306 - accuracy: 0.9982 - val_loss: 2.4129 - val_accuracy: 0.4947\n",
            "Epoch 9/100\n",
            "24/24 [==============================] - 0s 11ms/step - loss: 0.0291 - accuracy: 0.9992 - val_loss: 2.4069 - val_accuracy: 0.5008\n",
            "Epoch 10/100\n",
            "24/24 [==============================] - 0s 11ms/step - loss: 0.0295 - accuracy: 0.9989 - val_loss: 2.4105 - val_accuracy: 0.5008\n",
            "Epoch 11/100\n",
            "24/24 [==============================] - 0s 11ms/step - loss: 0.0302 - accuracy: 0.9983 - val_loss: 2.4113 - val_accuracy: 0.5008\n",
            "Epoch 12/100\n",
            "24/24 [==============================] - 0s 11ms/step - loss: 0.0291 - accuracy: 0.9985 - val_loss: 2.4150 - val_accuracy: 0.5008\n",
            "Epoch 13/100\n",
            "24/24 [==============================] - 0s 11ms/step - loss: 0.0296 - accuracy: 0.9986 - val_loss: 2.4122 - val_accuracy: 0.5000\n",
            "Epoch 14/100\n",
            "24/24 [==============================] - 0s 11ms/step - loss: 0.0291 - accuracy: 0.9986 - val_loss: 2.4138 - val_accuracy: 0.4992\n",
            "Epoch 15/100\n",
            "24/24 [==============================] - 0s 11ms/step - loss: 0.0278 - accuracy: 0.9981 - val_loss: 2.4117 - val_accuracy: 0.5000\n",
            "Epoch 16/100\n",
            "24/24 [==============================] - 0s 11ms/step - loss: 0.0278 - accuracy: 0.9987 - val_loss: 2.4138 - val_accuracy: 0.5023\n",
            "Epoch 17/100\n",
            "24/24 [==============================] - 0s 11ms/step - loss: 0.0270 - accuracy: 0.9988 - val_loss: 2.4136 - val_accuracy: 0.5015\n",
            "Epoch 18/100\n",
            "24/24 [==============================] - 0s 11ms/step - loss: 0.0263 - accuracy: 0.9987 - val_loss: 2.4108 - val_accuracy: 0.5000\n",
            "Epoch 19/100\n",
            "24/24 [==============================] - 0s 12ms/step - loss: 0.0263 - accuracy: 0.9989 - val_loss: 2.4183 - val_accuracy: 0.4985\n",
            "Epoch 20/100\n",
            "24/24 [==============================] - 0s 12ms/step - loss: 0.0266 - accuracy: 0.9988 - val_loss: 2.4141 - val_accuracy: 0.4970\n",
            "Epoch 21/100\n",
            "24/24 [==============================] - 0s 11ms/step - loss: 0.0257 - accuracy: 0.9987 - val_loss: 2.4157 - val_accuracy: 0.4955\n",
            "Epoch 22/100\n",
            "24/24 [==============================] - 0s 11ms/step - loss: 0.0260 - accuracy: 0.9991 - val_loss: 2.4179 - val_accuracy: 0.4970\n",
            "Epoch 23/100\n",
            "24/24 [==============================] - 0s 11ms/step - loss: 0.0260 - accuracy: 0.9988 - val_loss: 2.4149 - val_accuracy: 0.4985\n",
            "Epoch 24/100\n",
            "24/24 [==============================] - 0s 12ms/step - loss: 0.0244 - accuracy: 0.9993 - val_loss: 2.4161 - val_accuracy: 0.4992\n",
            "Epoch 25/100\n",
            "24/24 [==============================] - 0s 11ms/step - loss: 0.0248 - accuracy: 0.9991 - val_loss: 2.4205 - val_accuracy: 0.5030\n",
            "Epoch 26/100\n",
            "24/24 [==============================] - 0s 11ms/step - loss: 0.0249 - accuracy: 0.9990 - val_loss: 2.4234 - val_accuracy: 0.5000\n",
            "Epoch 27/100\n",
            "24/24 [==============================] - 0s 11ms/step - loss: 0.0247 - accuracy: 0.9988 - val_loss: 2.4218 - val_accuracy: 0.4992\n",
            "Epoch 28/100\n",
            "24/24 [==============================] - 0s 12ms/step - loss: 0.0247 - accuracy: 0.9988 - val_loss: 2.4267 - val_accuracy: 0.5000\n",
            "Epoch 29/100\n",
            "24/24 [==============================] - 0s 11ms/step - loss: 0.0246 - accuracy: 0.9992 - val_loss: 2.4242 - val_accuracy: 0.4962\n",
            "Epoch 30/100\n",
            "24/24 [==============================] - 0s 11ms/step - loss: 0.0234 - accuracy: 0.9992 - val_loss: 2.4239 - val_accuracy: 0.4970\n",
            "Epoch 31/100\n",
            "24/24 [==============================] - 0s 11ms/step - loss: 0.0232 - accuracy: 0.9992 - val_loss: 2.4180 - val_accuracy: 0.4962\n",
            "Epoch 32/100\n",
            "24/24 [==============================] - 0s 11ms/step - loss: 0.0242 - accuracy: 0.9987 - val_loss: 2.4176 - val_accuracy: 0.4977\n",
            "Epoch 33/100\n",
            "24/24 [==============================] - 0s 11ms/step - loss: 0.0232 - accuracy: 0.9992 - val_loss: 2.4243 - val_accuracy: 0.4992\n",
            "Epoch 34/100\n",
            "24/24 [==============================] - 0s 12ms/step - loss: 0.0242 - accuracy: 0.9987 - val_loss: 2.4209 - val_accuracy: 0.4985\n",
            "Epoch 35/100\n",
            "24/24 [==============================] - 0s 12ms/step - loss: 0.0241 - accuracy: 0.9987 - val_loss: 2.4194 - val_accuracy: 0.4962\n",
            "Epoch 36/100\n",
            "24/24 [==============================] - 0s 11ms/step - loss: 0.0231 - accuracy: 0.9990 - val_loss: 2.4254 - val_accuracy: 0.4947\n",
            "Epoch 37/100\n",
            "24/24 [==============================] - 0s 11ms/step - loss: 0.0239 - accuracy: 0.9987 - val_loss: 2.4245 - val_accuracy: 0.4947\n",
            "Epoch 38/100\n",
            "24/24 [==============================] - 0s 11ms/step - loss: 0.0224 - accuracy: 0.9988 - val_loss: 2.4200 - val_accuracy: 0.4970\n",
            "Epoch 39/100\n",
            "24/24 [==============================] - 0s 12ms/step - loss: 0.0227 - accuracy: 0.9992 - val_loss: 2.4262 - val_accuracy: 0.4955\n"
          ],
          "name": "stdout"
        }
      ]
    },
    {
      "cell_type": "code",
      "metadata": {
        "id": "fQrnsytFgi2m",
        "colab": {
          "base_uri": "https://localhost:8080/",
          "height": 573
        },
        "outputId": "101d1f0c-5bed-4a3b-ad68-02a095bc6194"
      },
      "source": [
        "import matplotlib.pyplot as plt\n",
        "plt.plot(history.history['accuracy'])\n",
        "plt.plot(history.history['val_accuracy'])\n",
        "plt.title('model accuracy')\n",
        "plt.ylabel('accuracy')\n",
        "plt.xlabel('epoch')\n",
        "plt.legend(['train', 'val'], loc='upper left')\n",
        "plt.show()\n",
        "\n",
        "plt.plot(history.history['loss'])\n",
        "plt.plot(history.history['val_loss'])\n",
        "plt.title('model loss')\n",
        "plt.ylabel('loss')\n",
        "plt.xlabel('epoch')\n",
        "plt.legend(['train', 'val'], loc='upper left')\n",
        "plt.show()"
      ],
      "execution_count": null,
      "outputs": [
        {
          "output_type": "display_data",
          "data": {
            "image/png": "[encoded data removed]",
            "text/plain": [
              "<Figure size 432x288 with 1 Axes>"
            ]
          },
          "metadata": {
            "tags": [],
            "needs_background": "light"
          }
        },
        {
          "output_type": "display_data",
          "data": {
            "image/png": "[encoded data removed]",
            "text/plain": [
              "<Figure size 432x288 with 1 Axes>"
            ]
          },
          "metadata": {
            "tags": [],
            "needs_background": "light"
          }
        }
      ]
    },
    {
      "cell_type": "code",
      "metadata": {
        "id": "e7gDmZQlglev",
        "colab": {
          "base_uri": "https://localhost:8080/"
        },
        "outputId": "f201e523-db33-48d0-ed9b-bb96931e1a6b"
      },
      "source": [
        "score = model.evaluate(X_test, test_label, verbose=0)\n",
        "print('Test loss:', score[0])\n",
        "print('Test accuracy:', score[1])"
      ],
      "execution_count": null,
      "outputs": [
        {
          "output_type": "stream",
          "text": [
            "Test loss: 3.0720043182373047\n",
            "Test accuracy: 0.4449964463710785\n"
          ],
          "name": "stdout"
        }
      ]
    },
    {
      "cell_type": "code",
      "metadata": {
        "id": "RNQrOaYz01Sz"
      },
      "source": [
        "model.save('/content/drive/Shareddrives/MMH/models/tuned_lstm_87.h5')"
      ],
      "execution_count": null,
      "outputs": []
    },
    {
      "cell_type": "code",
      "metadata": {
        "id": "RlfSnNIDDcte"
      },
      "source": [
        "# Test loss: 2.6829161643981934\n",
        "# Test accuracy: 0.4144783616065979"
      ],
      "execution_count": null,
      "outputs": []
    }
  ]
}